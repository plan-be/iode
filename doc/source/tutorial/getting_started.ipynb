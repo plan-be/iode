{
 "cells": [
  {
   "cell_type": "markdown",
   "metadata": {},
   "source": [
    "# Getting Started\n",
    "\n",
    "The purpose of the present `Getting Started` section is to give a quick overview of the main objects, methods and functions of the Python `iode` library.\n",
    "To get a more detailed presentation of all capabilities of `iode`, read the next sections of the tutorial.\n",
    "    \n",
    "The [API Reference](../api.rst#api-reference) section of the documentation give you the list of all objects, methods and functions with their individual documentation and examples.\n",
    "\n",
    "The [Equivalence IODE Report Commands and IODE Python](../equivalence.rst#equivalence-iode-report-commands-and-iode-python) section contains *equivalence tables* between the IODE report syntax and the Python `iode` syntax."
   ]
  },
  {
   "cell_type": "markdown",
   "metadata": {},
   "source": [
    "To use the Python `iode` library, the first thing to do is to import objects and functions you need from it:"
   ]
  },
  {
   "cell_type": "code",
   "execution_count": 1,
   "metadata": {},
   "outputs": [],
   "source": [
    "import numpy as np\n",
    "from iode import (SAMPLE_DATA_DIR, comments, equations, identities, lists, scalars, \n",
    "                  tables, variables, EqMethod)"
   ]
  },
  {
   "cell_type": "markdown",
   "metadata": {},
   "source": [
    "To know the version of the `iode` library installed on your machine, type:"
   ]
  },
  {
   "cell_type": "code",
   "execution_count": 2,
   "metadata": {},
   "outputs": [
    {
     "data": {
      "text/plain": [
       "'7.0.0'"
      ]
     },
     "execution_count": 2,
     "metadata": {},
     "output_type": "execute_result"
    }
   ],
   "source": [
    "from iode import __version__\n",
    "__version__"
   ]
  },
  {
   "cell_type": "markdown",
   "metadata": {},
   "source": [
    "To get the list of objects and functions available in the `iode` li library, use the Python function `dir()`:"
   ]
  },
  {
   "cell_type": "code",
   "execution_count": 3,
   "metadata": {},
   "outputs": [
    {
     "data": {
      "text/plain": [
       "['AdjustmentMethod',\n",
       " 'Comments',\n",
       " 'EQUATION_METHODS_LIST',\n",
       " 'EQ_TEST_NAMES',\n",
       " 'ESTIMATION_EPS',\n",
       " 'ESTIMATION_MAXIT',\n",
       " 'EqMethod',\n",
       " 'EqTest',\n",
       " 'Equation',\n",
       " 'Equations',\n",
       " 'FileType',\n",
       " 'HighToLowType',\n",
       " 'IODE_DATABASE_TYPE_NAMES',\n",
       " 'IODE_FILE_TYPES',\n",
       " 'IODE_FILE_TYPE_NAMES',\n",
       " 'IODE_LANGUAGES_LIST',\n",
       " 'Identities',\n",
       " 'Identity',\n",
       " 'IodeFileType',\n",
       " 'IodeType',\n",
       " 'Lists',\n",
       " 'LowToHighMethod',\n",
       " 'LowToHighType',\n",
       " 'NA',\n",
       " 'PERIODICITY_LIST',\n",
       " 'Path',\n",
       " 'Period',\n",
       " 'SAMPLE_DATA_DIR',\n",
       " 'SIMULATION_INITIALIZATION_METHODS',\n",
       " 'SIMULATION_SORT_ALGORITHMS',\n",
       " 'Sample',\n",
       " 'Scalar',\n",
       " 'Scalars',\n",
       " 'Simulation',\n",
       " 'SimulationInitialization',\n",
       " 'SimulationSort',\n",
       " 'Table',\n",
       " 'TableCellAlign',\n",
       " 'TableCellFont',\n",
       " 'TableCellType',\n",
       " 'TableGraphAlign',\n",
       " 'TableGraphAxis',\n",
       " 'TableGraphGrid',\n",
       " 'TableGraphType',\n",
       " 'TableLang',\n",
       " 'TableLineType',\n",
       " 'Tables',\n",
       " 'Variables',\n",
       " 'VarsMode',\n",
       " 'WriteFileExt',\n",
       " '__all__',\n",
       " '__builtins__',\n",
       " '__cached__',\n",
       " '__doc__',\n",
       " '__file__',\n",
       " '__loader__',\n",
       " '__name__',\n",
       " '__package__',\n",
       " '__path__',\n",
       " '__spec__',\n",
       " '__version__',\n",
       " '_deprecated',\n",
       " 'add_error_msg',\n",
       " 'clear_error_msgs',\n",
       " 'comments',\n",
       " 'common',\n",
       " 'compat_larray',\n",
       " 'compat_pandas',\n",
       " 'data_update',\n",
       " 'data_update_cmt',\n",
       " 'data_update_eqs',\n",
       " 'data_update_idt',\n",
       " 'data_update_lst',\n",
       " 'data_update_scl',\n",
       " 'data_update_var',\n",
       " 'delete_cmt',\n",
       " 'delete_eqs',\n",
       " 'delete_idt',\n",
       " 'delete_lst',\n",
       " 'delete_obj',\n",
       " 'delete_objects',\n",
       " 'delete_scl',\n",
       " 'delete_tbl',\n",
       " 'delete_var',\n",
       " 'deprecated',\n",
       " 'df_to_ws',\n",
       " 'dickey_fuller_test',\n",
       " 'display_error_msgs',\n",
       " 'dynamic_adjustment',\n",
       " 'eqs_estimate',\n",
       " 'equations',\n",
       " 'estimation',\n",
       " 'exec_lec',\n",
       " 'execute_command',\n",
       " 'execute_lec',\n",
       " 'execute_report',\n",
       " 'get_cmt',\n",
       " 'get_eqs',\n",
       " 'get_eqs_lec',\n",
       " 'get_idt',\n",
       " 'get_lst',\n",
       " 'get_scl',\n",
       " 'get_var',\n",
       " 'get_var_as_ndarray',\n",
       " 'identities',\n",
       " 'idt_execute',\n",
       " 'iode_cython',\n",
       " 'iode_objects',\n",
       " 'is_NA',\n",
       " 'larray_to_ws',\n",
       " 'lec',\n",
       " 'lists',\n",
       " 'load_extra_files',\n",
       " 'model',\n",
       " 'model_calc_scc',\n",
       " 'model_simulate',\n",
       " 'model_simulate_eps',\n",
       " 'model_simulate_init_values',\n",
       " 'model_simulate_maxit',\n",
       " 'model_simulate_nb_passes',\n",
       " 'model_simulate_niter',\n",
       " 'model_simulate_norm',\n",
       " 'model_simulate_relax',\n",
       " 'model_simulate_save_parms',\n",
       " 'model_simulate_scc',\n",
       " 'model_simulate_sort_algo',\n",
       " 'report',\n",
       " 'report_exec',\n",
       " 'reportline_exec',\n",
       " 'reset_extra_files',\n",
       " 'reset_msgs',\n",
       " 'scalars',\n",
       " 'set_cmt',\n",
       " 'set_eqs',\n",
       " 'set_idt',\n",
       " 'set_lst',\n",
       " 'set_scl',\n",
       " 'set_var',\n",
       " 'split_list',\n",
       " 'suppress_msgs',\n",
       " 'tables',\n",
       " 'time',\n",
       " 'util',\n",
       " 'variables',\n",
       " 'w_close',\n",
       " 'w_dest',\n",
       " 'w_flush',\n",
       " 'w_print',\n",
       " 'w_print_cmd',\n",
       " 'w_print_enum',\n",
       " 'w_print_par',\n",
       " 'w_print_pg_footer',\n",
       " 'w_print_pg_header',\n",
       " 'w_print_tit',\n",
       " 'workspace',\n",
       " 'ws_clear',\n",
       " 'ws_clear_all',\n",
       " 'ws_clear_cmt',\n",
       " 'ws_clear_eqs',\n",
       " 'ws_clear_idt',\n",
       " 'ws_clear_lst',\n",
       " 'ws_clear_scl',\n",
       " 'ws_clear_tbl',\n",
       " 'ws_clear_var',\n",
       " 'ws_content',\n",
       " 'ws_content_cmt',\n",
       " 'ws_content_eqs',\n",
       " 'ws_content_idt',\n",
       " 'ws_content_lst',\n",
       " 'ws_content_scl',\n",
       " 'ws_content_tbl',\n",
       " 'ws_content_var',\n",
       " 'ws_htol',\n",
       " 'ws_htol_last',\n",
       " 'ws_htol_mean',\n",
       " 'ws_htol_sum',\n",
       " 'ws_load',\n",
       " 'ws_load_cmt',\n",
       " 'ws_load_eqs',\n",
       " 'ws_load_idt',\n",
       " 'ws_load_lst',\n",
       " 'ws_load_scl',\n",
       " 'ws_load_tbl',\n",
       " 'ws_load_var',\n",
       " 'ws_load_var_to_larray',\n",
       " 'ws_ltoh',\n",
       " 'ws_ltoh_flow',\n",
       " 'ws_ltoh_stock',\n",
       " 'ws_sample_get',\n",
       " 'ws_sample_nb_periods',\n",
       " 'ws_sample_set',\n",
       " 'ws_sample_to_larray_axis',\n",
       " 'ws_sample_to_list',\n",
       " 'ws_sample_to_string',\n",
       " 'ws_save',\n",
       " 'ws_save_cmt',\n",
       " 'ws_save_eqs',\n",
       " 'ws_save_idt',\n",
       " 'ws_save_lst',\n",
       " 'ws_save_scl',\n",
       " 'ws_save_tbl',\n",
       " 'ws_save_var',\n",
       " 'ws_to_df',\n",
       " 'ws_to_larray']"
      ]
     },
     "execution_count": 3,
     "metadata": {},
     "output_type": "execute_result"
    }
   ],
   "source": [
    "import iode\n",
    "dir(iode)"
   ]
  },
  {
   "cell_type": "markdown",
   "metadata": {},
   "source": [
    "To print the documentation of an object, method or function in a Python interactive console, use the `help()` function:"
   ]
  },
  {
   "cell_type": "code",
   "execution_count": 4,
   "metadata": {},
   "outputs": [
    {
     "name": "stdout",
     "output_type": "stream",
     "text": [
      "Help on method load in module iode.iode_cython:\n",
      "\n",
      "load(filepath: 'str') method of iode.iode_cython.Equations instance\n",
      "    load(self, filepath: str)\n",
      "    \n",
      "    Load objects stored in file 'filepath' into the current database.\n",
      "    Erase the database before to load the file.\n",
      "    \n",
      "    Parameters\n",
      "    ----------\n",
      "    filepath: str\n",
      "        path to the file to load\n",
      "    \n",
      "    Examples\n",
      "    --------\n",
      "    >>> from iode import SAMPLE_DATA_DIR\n",
      "    >>> from iode import comments, variables\n",
      "    >>> comments.load(f\"{SAMPLE_DATA_DIR}/fun.cmt\")         # doctest: +ELLIPSIS, +NORMALIZE_WHITESPACE\n",
      "    Loading .../fun.cmt\n",
      "    317 objects loaded \n",
      "    >>> len(comments)\n",
      "    317\n",
      "    \n",
      "    >>> variables.load(f\"{SAMPLE_DATA_DIR}/fun.var\")        # doctest: +ELLIPSIS, +NORMALIZE_WHITESPACE\n",
      "    Loading .../fun.var\n",
      "    394 objects loaded\n",
      "    >>> len(variables)\n",
      "    394\n",
      "\n"
     ]
    }
   ],
   "source": [
    "# ---- print documentation of a function or method ----\n",
    "help(equations.load)"
   ]
  },
  {
   "cell_type": "markdown",
   "metadata": {},
   "source": [
    "## Load IODE objects\n",
    "\n",
    "To load IODE objects from a binary file (i.e. with extension `.cmt`, `.eqs`, `.idt`, `.lst`, `.scl`, `.tbl`, `.var`) or from an ASCII file (i.e. with extension `.ac`, `.ae`, `.ai`, `.al`, `.as`, `.at`, `.av`), use the [load()](../_generated/iode.Comments.load.rst#iode.Comments.load) method of the corresponding object. For example:"
   ]
  },
  {
   "cell_type": "code",
   "execution_count": 5,
   "metadata": {},
   "outputs": [
    {
     "name": "stdout",
     "output_type": "stream",
     "text": [
      "Loading C:\\soft\\Miniconda3\\Lib\\site-packages\\iode\\tests\\data/fun.cmt\n",
      "317 objects loaded\n",
      "Loading C:\\soft\\Miniconda3\\Lib\\site-packages\\iode\\tests\\data/fun.eqs\n",
      "274 objects loaded\n",
      "Loading C:\\soft\\Miniconda3\\Lib\\site-packages\\iode\\tests\\data/fun.idt\n",
      "48 objects loaded\n",
      "Loading C:\\soft\\Miniconda3\\Lib\\site-packages\\iode\\tests\\data/fun.lst\n",
      "17 objects loaded\n",
      "Loading C:\\soft\\Miniconda3\\Lib\\site-packages\\iode\\tests\\data/fun.scl\n",
      "161 objects loaded\n",
      "Loading C:\\soft\\Miniconda3\\Lib\\site-packages\\iode\\tests\\data/fun.tbl\n",
      "46 objects loaded\n",
      "Loading C:\\soft\\Miniconda3\\Lib\\site-packages\\iode\\tests\\data/fun.var\n",
      "394 objects loaded\n"
     ]
    },
    {
     "data": {
      "text/plain": [
       "(317, 274, 48, 17, 161, 46, 394)"
      ]
     },
     "execution_count": 5,
     "metadata": {},
     "output_type": "execute_result"
    }
   ],
   "source": [
    "# ---- load equations, identities, scalars and variables ----\n",
    "# Note: test binary and ASCII 'fun' files are located in the 'SAMPLE_DATA_DIR' \n",
    "#       directory of the 'iode' package\n",
    "comments.load(f\"{SAMPLE_DATA_DIR}/fun.cmt\")\n",
    "equations.load(f\"{SAMPLE_DATA_DIR}/fun.eqs\")\n",
    "identities.load(f\"{SAMPLE_DATA_DIR}/fun.idt\")\n",
    "lists.load(f\"{SAMPLE_DATA_DIR}/fun.lst\")\n",
    "scalars.load(f\"{SAMPLE_DATA_DIR}/fun.scl\")\n",
    "tables.load(f\"{SAMPLE_DATA_DIR}/fun.tbl\")\n",
    "variables.load(f\"{SAMPLE_DATA_DIR}/fun.var\")\n",
    "\n",
    "# ---- print the number of objects present in the above workspaces ----\n",
    "len(comments), len(equations), len(identities), len(lists), len(scalars), len(tables), len(variables)"
   ]
  },
  {
   "cell_type": "markdown",
   "metadata": {},
   "source": [
    "## Save IODE objects\n",
    "\n",
    "To save the content of a workspace (or a subset of a workspace), use the [save()](../_generated/iode.Variables.save.rst#iode.Variables.save) method:"
   ]
  },
  {
   "cell_type": "code",
   "execution_count": 6,
   "metadata": {},
   "outputs": [
    {
     "name": "stdout",
     "output_type": "stream",
     "text": [
      "Saving c:\\usr\\Projects\\iode-1\\doc\\source\\tutorial\\equations.eqs\n",
      "274 objects saved\n",
      "Saving c:\\usr\\Projects\\iode-1\\doc\\source\\tutorial\\variables_subset.av\n",
      "Check content of the variables_subset.av file:\n",
      "\n",
      "sample 1960Y1 2015Y1\n",
      "ACAF na na na na na na na na na na 1.2130001 5.2020001 9.184 8.0790005 11.332 13.518001 15.784 16.544001 21.489 20.281 21.277 32.417999 24.446999 27.025002 24.504 27.560999 25.542 27.499001 25.353001 17.165001 23.771 26.240999 30.159 34.661999 8.1610022 -13.130997 32.171001 39.935799 29.645657 13.530404919696 10.0466107922005 2.86792273645546 -0.929212509051645 -6.09156498756888 -14.5820944628981 -26.5387895697886 -28.9872879825975 -33.3784257842954 -38.4095177823974 -37.4635096412738 -37.8274288322944 -44.5447926335432 -55.5592898172187 -68.8946543226201 -83.3406251108009 -96.4104198284833 \n",
      "ACAG na na na na na na na na na na -11.028999 -15.847 -19.288002 -21.814999 -25.447002 -24.618999 -27.770998 -28.839001 -29.434998 -30.411001 -30.353001 -41.060997 -31.178001 -32.604 -30.237003 -38.061001 -31.939999 -35.59 -37.238003 -25.991001 -28.1721855713507 -30.934 -40.285999 -43.157997 -16.029003 -41.845993 -40.237 -32.93 -38.345695 -39.8581741316036 -41.534786567348 18.9398011359783 19.9808148751188 21.0205021787734 22.0664755229642 23.1079621640615 24.1296371451098 25.1609090496654 26.1921114843413 27.2299551185986 28.2539289782105 29.2846003640349 30.3239611503116 31.3701388106954 32.4202988291984 33.469601344881 \n",
      "AQC 0.21753037 0.21544869 0.22228125 0.22953896 0.23653506 0.24732406 0.26255098 0.26907021 0.27206925 0.27986595 0.29396999 0.31906503 0.3426649 0.36655167 0.42489415 0.49478459 0.53812659 0.5841772 0.61441606 0.64528418 0.68947881 0.73596764 0.77532566 0.82384807 0.85829282 0.90006256 0.92794591 0.93221092 0.92874223 0.9445076 1 1.0628064 1.1102825 1.1532652 1.1571276 1.1616869 1.1580297 1.201328 1.2031082 1.34296996567459 1.33860285536454 1.37918824681718 1.40881646814855 1.4197045826264 1.40065205989326 1.39697298498842 1.39806354127729 1.40791333507892 1.42564487943834 1.44633167140609 1.46286836974508 1.4822736109441 1.51366597504599 1.55803878946449 1.61318116991651 1.67429057570213 \n",
      "BQY 31.777023 30.852692 30.352686 27.369537 26.937241 35.434574 37.147881 39.505711 42.182659 43.180264 53.083984 49.670918 53.546627 49.331879 50.91983 49.630653 53.96249 40.783443 35.963261 12.621698 -9.930582 -11.615362 -44.158623 -48.221375 -43.152462 -57.944221 -35.790237 -21.710344 -20.180235 -11.333452 -34.099998 -1.2597286 -13.746386 52.161541 66.625153 91.089355 104.67634 113.51928 116.18705 117.908447093342 119.955089852255 121.37741690021 121.700965506023 122.433025255743 124.490157052046 127.572355095553 129.818419511458 131.31355487699 132.020462612763 132.709142263746 133.959190039522 135.075585222668 135.597702367503 135.753159667506 135.968846903397 136.672483513679 \n",
      "BVY 7.1999998 7.0999999 7.1000004 6.6000004 6.8000002 9.3999996 10.3 11.3 12.4 13.3 17.200001 17 19.5 19.200001 22.300001 24.4 28.5 23.099998 21.299999 7.7999992 -6.3999977 -7.9000015 -32.100002 -37.099998 -34.900002 -49.699997 -31.799999 -19.700005 -18.699997 -10.987999 -34.099997 -1.3000031 -14.699997 58.100002 75.900002 105.5 123.2 135.6192 140.73978 144.858781845561 150.053352305841 155.895061264049 160.228327009897 164.690028964993 169.072563292021 173.128489782561 176.73460923165 180.338756120558 184.785317603043 189.533437819158 194.344845745399 199.148256821389 204.263448922459 210.010481935745 216.588822212895 224.043770177584 \n",
      "\n",
      "\n"
     ]
    }
   ],
   "source": [
    "# ---- save workspace (or subset) ----\n",
    "# save the whole workspace\n",
    "equations.save('equations.eqs')\n",
    "\n",
    "# save only a subset of the global variables workspace\n",
    "vars_subset = variables[[\"ACAF\", \"ACAG\", \"AQC\", \"BQY\", \"BVY\"]]\n",
    "vars_subset.save('variables_subset.av')    \n",
    "\n",
    "print(\"Check content of the variables_subset.av file:\\n\")\n",
    "with open(\"variables_subset.av\", \"r\") as f:\n",
    "    print(f.read())\n",
    "print()"
   ]
  },
  {
   "cell_type": "markdown",
   "metadata": {},
   "source": [
    "## Working with workspaces\n",
    "\n",
    "To get the list of objects names present in a workspace, use the [names](../_generated/iode.Comments.names.rst#iode.Comments.names) attribute of the workspace. \n",
    "For example:"
   ]
  },
  {
   "cell_type": "code",
   "execution_count": 7,
   "metadata": {},
   "outputs": [
    {
     "data": {
      "text/plain": [
       "['COPY',\n",
       " 'COPY0',\n",
       " 'COPY1',\n",
       " 'ENDO',\n",
       " 'ENDO0',\n",
       " 'ENDO1',\n",
       " 'ENVI',\n",
       " 'IDT',\n",
       " 'MAINEQ',\n",
       " 'MYLIST',\n",
       " 'TOTAL',\n",
       " 'TOTAL0',\n",
       " 'TOTAL1',\n",
       " 'XENVI',\n",
       " 'XSCENARIO',\n",
       " '_SCAL',\n",
       " '_SEARCH']"
      ]
     },
     "execution_count": 7,
     "metadata": {},
     "output_type": "execute_result"
    }
   ],
   "source": [
    "# get the list of all IODE lists\n",
    "lists.names"
   ]
  },
  {
   "cell_type": "markdown",
   "metadata": {},
   "source": [
    "To check if a name is present in a workspace, use the `in` operator. \n",
    "For example:"
   ]
  },
  {
   "cell_type": "code",
   "execution_count": 8,
   "metadata": {},
   "outputs": [
    {
     "name": "stdout",
     "output_type": "stream",
     "text": [
      "The 'ENVI' IODE list exists\n"
     ]
    }
   ],
   "source": [
    "if 'ENVI' in lists:\n",
    "    print(\"The 'ENVI' IODE list exists\")\n",
    "else:\n",
    "    print(\"'ENVI' IODE list not found\")"
   ]
  },
  {
   "cell_type": "markdown",
   "metadata": {},
   "source": [
    "To iterate over names of a workspace, simply use the Python syntax for the *for loop*:"
   ]
  },
  {
   "cell_type": "code",
   "execution_count": 9,
   "metadata": {},
   "outputs": [
    {
     "name": "stdout",
     "output_type": "stream",
     "text": [
      "Iterate over all IODE lists names in the Lists workspace:\n",
      "COPY\n",
      "COPY0\n",
      "COPY1\n",
      "ENDO\n",
      "ENDO0\n",
      "ENDO1\n",
      "ENVI\n",
      "IDT\n",
      "MAINEQ\n",
      "MYLIST\n",
      "TOTAL\n",
      "TOTAL0\n",
      "TOTAL1\n",
      "XENVI\n",
      "XSCENARIO\n",
      "_SCAL\n",
      "_SEARCH\n"
     ]
    }
   ],
   "source": [
    "print(\"Iterate over all IODE lists names in the Lists workspace:\")\n",
    "for name in lists:\n",
    "    print(name)"
   ]
  },
  {
   "cell_type": "markdown",
   "metadata": {},
   "source": [
    "To get the current used sample for the Variables, use the [sample](../_generated/iode.Variables.sample.rst#iode.Variables.sample) attribute of the [variables](../_generated/iode.Variables.rst#iode.Variables) workspace:"
   ]
  },
  {
   "cell_type": "code",
   "execution_count": 10,
   "metadata": {},
   "outputs": [
    {
     "data": {
      "text/plain": [
       "Sample(\"1960Y1:2015Y1\")"
      ]
     },
     "execution_count": 10,
     "metadata": {},
     "output_type": "execute_result"
    }
   ],
   "source": [
    "# current used sample\n",
    "variables.sample"
   ]
  },
  {
   "cell_type": "markdown",
   "metadata": {},
   "source": [
    "### Get - add - update - delete IODE object(s)\n",
    "\n",
    "In a similar way to Python dictionaries, you can [get](../_generated/iode.Equations.__getitem__.rst), [add](../_generated/iode.Equations.__setitem__.rst), [update](../_generated/iode.Equations.__setitem__.rst) and [delete](../_generated/iode.Equations.__delitem__.rst) IODE objects in a workspace using the `[]` operator.\n",
    "\n",
    "* To extract an IODE object from a workspace, use the syntax: `my_obj = workspace[name]`.\n",
    "* To add an IODE object to a workspace, use the syntax: `workspace[new_name] = new_obj`.\n",
    "* To update an IODE object in a workspace, use the syntax: `workspace[name] = new_value`.\n",
    "* To delete an IODE object from a workspace, use the syntax: `del workspace[name]`.\n",
    "\n",
    "It is also possible to add or update multiple IODE objects at once by passing the list of names to the `[]` operator and the list of new/updated values after the `=` operator: `workspace[list_of_names] = list_of_new_values`.\n",
    "To delete multiple IODE objects at once, pass the list of names to delete to the `[]` operator: `del workspace[list_of_names]`."
   ]
  },
  {
   "cell_type": "markdown",
   "metadata": {},
   "source": [
    "### Workspace subsets\n",
    "\n",
    "IODE workspaces can contains a lot objects and it can be sometimes easier to work on a subset of the objects present in a workspace. To get a subset of an IODE workspace, a *pattern* can be passed to the `[]` operator. \n",
    "A (sub-)`pattern` is a list of characters representing a group of object names. It includes some special characters which have a special meaning:\n",
    "\n",
    "* `*` : any character sequence, even empty\n",
    "* `?` : any character (one and only one)\n",
    "* `@` : any alphanumerical char [A-Za-z0-9]\n",
    "* `&` : any non alphanumerical char\n",
    "* `|` : any alphanumeric character or none at the beginning and end of a string \n",
    "* `!` : any non-alphanumeric character or none at the beginning and end of a string \n",
    "* `\\` : escape the next character\n",
    "\n",
    "The *pattern* can contain sub-patterns, as well as, object names. The sub-patterns and object names are separated by a *separator* character which is either:\n",
    "\n",
    "* a whitespace `' '`\n",
    "* a comma `,`\n",
    "* a semi-colon `;`\n",
    "* a tabulation `\\t`\n",
    "* a newline `\\n`\n",
    "\n",
    "Note that the *pattern* can contain references to IODE lists which are prefixed with the symbol `$`.\n",
    "\n",
    "<div class=\"alert alert-info\">\n",
    "\n",
    "**Note**\n",
    "\n",
    "When an IODE object is added, updated or deleted from a subset of a workspace, the change is also applied to the global workspace. For example, if an equation is added to the subset of the *equations* workspace, the the change is also applied to the global *equations* database.\n",
    "\n",
    "To create an isolate subset of a workspace, use the [copy](../_generated/iode.Equations.copy.rst#iode.Equations.copy) method. This method returns a new workspace in which each object is a copy of the original object from the global workspace. Any change made to the *copied subset* will not be applied to the global workspace. This can be useful for example if you want to save previous values of scalars before estimating an equation or a block of equations and then restore the original values if the estimated values are not satisfying.\n",
    "\n",
    "</div>\n",
    "\n",
    "The examples below show how to update, add and delete objects for each IODE workspace type."
   ]
  },
  {
   "cell_type": "markdown",
   "metadata": {},
   "source": [
    "### Get - add - update - delete comment(s)"
   ]
  },
  {
   "cell_type": "markdown",
   "metadata": {},
   "source": [
    "Add one comment:"
   ]
  },
  {
   "cell_type": "code",
   "execution_count": 11,
   "metadata": {},
   "outputs": [
    {
     "data": {
      "text/plain": [
       "'A new comment'"
      ]
     },
     "execution_count": 11,
     "metadata": {},
     "output_type": "execute_result"
    }
   ],
   "source": [
    "comments[\"NEW\"] = \"A new comment\"\n",
    "comments[\"NEW\"]"
   ]
  },
  {
   "cell_type": "markdown",
   "metadata": {},
   "source": [
    "Update a comment:"
   ]
  },
  {
   "cell_type": "code",
   "execution_count": 12,
   "metadata": {},
   "outputs": [
    {
     "data": {
      "text/plain": [
       "'New Value'"
      ]
     },
     "execution_count": 12,
     "metadata": {},
     "output_type": "execute_result"
    }
   ],
   "source": [
    "comments[\"NEW\"] = \"New Value\"\n",
    "comments[\"NEW\"]"
   ]
  },
  {
   "cell_type": "markdown",
   "metadata": {},
   "source": [
    "Delete a comment:"
   ]
  },
  {
   "cell_type": "code",
   "execution_count": 13,
   "metadata": {},
   "outputs": [
    {
     "data": {
      "text/plain": [
       "['ACAF', 'ACAG', 'AOUC', 'AQC']"
      ]
     },
     "execution_count": 13,
     "metadata": {},
     "output_type": "execute_result"
    }
   ],
   "source": [
    "comments.get_names(\"A*\")"
   ]
  },
  {
   "cell_type": "code",
   "execution_count": 14,
   "metadata": {},
   "outputs": [
    {
     "data": {
      "text/plain": [
       "['ACAG', 'AOUC', 'AQC']"
      ]
     },
     "execution_count": 14,
     "metadata": {},
     "output_type": "execute_result"
    }
   ],
   "source": [
    "del comments[\"ACAF\"]\n",
    "comments.get_names(\"A*\")"
   ]
  },
  {
   "cell_type": "markdown",
   "metadata": {},
   "source": [
    "Working on a subset:"
   ]
  },
  {
   "cell_type": "code",
   "execution_count": 15,
   "metadata": {},
   "outputs": [
    {
     "data": {
      "text/plain": [
       "['ACAG', 'AOUC', 'AQC']"
      ]
     },
     "execution_count": 15,
     "metadata": {},
     "output_type": "execute_result"
    }
   ],
   "source": [
    "# 1) get subset\n",
    "comments_subset = comments[\"A*\"]\n",
    "comments_subset.names"
   ]
  },
  {
   "cell_type": "code",
   "execution_count": 16,
   "metadata": {},
   "outputs": [
    {
     "data": {
      "text/plain": [
       "'New Comment'"
      ]
     },
     "execution_count": 16,
     "metadata": {},
     "output_type": "execute_result"
    }
   ],
   "source": [
    "# 2) add a comment to the subset\n",
    "comments_subset[\"A0\"] = \"New Comment\"\n",
    "comments_subset[\"A0\"]"
   ]
  },
  {
   "cell_type": "code",
   "execution_count": 17,
   "metadata": {},
   "outputs": [
    {
     "data": {
      "text/plain": [
       "(True, 'New Comment')"
      ]
     },
     "execution_count": 17,
     "metadata": {},
     "output_type": "execute_result"
    }
   ],
   "source": [
    "# --> new comment also appears in the global workspace\n",
    "\"A0\" in comments, comments[\"A0\"]"
   ]
  },
  {
   "cell_type": "code",
   "execution_count": 18,
   "metadata": {},
   "outputs": [
    {
     "data": {
      "text/plain": [
       "'Updated Comment'"
      ]
     },
     "execution_count": 18,
     "metadata": {},
     "output_type": "execute_result"
    }
   ],
   "source": [
    "# 3) update a comment in the subset\n",
    "comments_subset[\"A0\"] = \"Updated Comment\"\n",
    "comments_subset[\"A0\"]"
   ]
  },
  {
   "cell_type": "code",
   "execution_count": 19,
   "metadata": {},
   "outputs": [
    {
     "data": {
      "text/plain": [
       "'Updated Comment'"
      ]
     },
     "execution_count": 19,
     "metadata": {},
     "output_type": "execute_result"
    }
   ],
   "source": [
    "# --> comment is also updated in the global workspace\n",
    "comments[\"A0\"]"
   ]
  },
  {
   "cell_type": "code",
   "execution_count": 20,
   "metadata": {},
   "outputs": [
    {
     "data": {
      "text/plain": [
       "['ACAG', 'AOUC', 'AQC']"
      ]
     },
     "execution_count": 20,
     "metadata": {},
     "output_type": "execute_result"
    }
   ],
   "source": [
    "# delete comment from the subset\n",
    "del comments_subset[\"A0\"]\n",
    "comments_subset.names"
   ]
  },
  {
   "cell_type": "code",
   "execution_count": 21,
   "metadata": {},
   "outputs": [
    {
     "data": {
      "text/plain": [
       "False"
      ]
     },
     "execution_count": 21,
     "metadata": {},
     "output_type": "execute_result"
    }
   ],
   "source": [
    "# NOTE: the comment has also been deleted from the global database\n",
    "\"A0\" in comments"
   ]
  },
  {
   "cell_type": "code",
   "execution_count": 22,
   "metadata": {},
   "outputs": [
    {
     "data": {
      "text/plain": [
       "['ACAG', 'AOUC', 'AQC']"
      ]
     },
     "execution_count": 22,
     "metadata": {},
     "output_type": "execute_result"
    }
   ],
   "source": [
    "comments.get_names(\"A*\")"
   ]
  },
  {
   "cell_type": "markdown",
   "metadata": {},
   "source": [
    "### Get - add - update - delete equation(s)"
   ]
  },
  {
   "cell_type": "markdown",
   "metadata": {},
   "source": [
    "Add one equation:"
   ]
  },
  {
   "cell_type": "code",
   "execution_count": 23,
   "metadata": {},
   "outputs": [
    {
     "data": {
      "text/plain": [
       "Equation(endogenous = 'TEST',\n",
       "         lec = 'TEST := 0',\n",
       "         method = 'LSQ',\n",
       "         from_period = '1960Y1',\n",
       "         to_period = '2015Y1')"
      ]
     },
     "execution_count": 23,
     "metadata": {},
     "output_type": "execute_result"
    }
   ],
   "source": [
    "equations[\"TEST\"] = \"TEST := 0\"\n",
    "equations[\"TEST\"]"
   ]
  },
  {
   "cell_type": "markdown",
   "metadata": {},
   "source": [
    "Update an equation:"
   ]
  },
  {
   "cell_type": "code",
   "execution_count": 24,
   "metadata": {},
   "outputs": [
    {
     "data": {
      "text/plain": [
       "Equation(endogenous = 'ACAF',\n",
       "         lec = '(ACAF/VAF[-1]) :=acaf1+acaf2*GOSF[-1]+\\nacaf4*(TIME=1995)',\n",
       "         method = 'LSQ',\n",
       "         from_period = '1980Y1',\n",
       "         to_period = '1996Y1',\n",
       "         block = 'ACAF',\n",
       "         tests = {corr = 1,\n",
       "                  dw = 2.32935,\n",
       "                  fstat = 32.2732,\n",
       "                  loglik = 83.8075,\n",
       "                  meany = 0.00818467,\n",
       "                  r2 = 0.821761,\n",
       "                  r2adj = 0.796299,\n",
       "                  ssres = 5.19945e-05,\n",
       "                  stderr = 0.00192715,\n",
       "                  stderrp = 23.5458,\n",
       "                  stdev = 0.0042699},\n",
       "         date = '12-06-1998')"
      ]
     },
     "execution_count": 24,
     "metadata": {},
     "output_type": "execute_result"
    }
   ],
   "source": [
    "equations[\"ACAF\"]"
   ]
  },
  {
   "cell_type": "code",
   "execution_count": 25,
   "metadata": {},
   "outputs": [
    {
     "data": {
      "text/plain": [
       "Equation(endogenous = 'ACAF',\n",
       "         lec = '(ACAF/VAF[-1]) := acaf1 + acaf2 * GOSF[-1] + acaf4 * (TIME=1995)',\n",
       "         method = 'LSQ',\n",
       "         from_period = '1980Y1',\n",
       "         to_period = '1996Y1',\n",
       "         block = 'ACAF',\n",
       "         tests = {corr = 1,\n",
       "                  dw = 2.32935,\n",
       "                  fstat = 32.2732,\n",
       "                  loglik = 83.8075,\n",
       "                  meany = 0.00818467,\n",
       "                  r2 = 0.821761,\n",
       "                  r2adj = 0.796299,\n",
       "                  ssres = 5.19945e-05,\n",
       "                  stderr = 0.00192715,\n",
       "                  stderrp = 23.5458,\n",
       "                  stdev = 0.0042699},\n",
       "         date = '12-06-1998')"
      ]
     },
     "execution_count": 25,
     "metadata": {},
     "output_type": "execute_result"
    }
   ],
   "source": [
    "# update only the LEC\n",
    "equations[\"ACAF\"] = \"(ACAF/VAF[-1]) := acaf1 + acaf2 * GOSF[-1] + acaf4 * (TIME=1995)\"\n",
    "equations[\"ACAF\"]"
   ]
  },
  {
   "cell_type": "code",
   "execution_count": 26,
   "metadata": {},
   "outputs": [
    {
     "data": {
      "text/plain": [
       "(Sample(\"2000Y1:2010Y1\"), Sample(\"2000Y1:2010Y1\"), Sample(\"2000Y1:2010Y1\"))"
      ]
     },
     "execution_count": 26,
     "metadata": {},
     "output_type": "execute_result"
    }
   ],
   "source": [
    "# update block and sample of a block of equations to estimation (dictionary)\n",
    "estim_sample = \"2000Y1:2010Y1\"\n",
    "block = \"ACAF; ACAG; AOUC\"\n",
    "for eq_name in block.split(';'):\n",
    "    equations[eq_name] = {\"sample\": estim_sample, \"block\": block}\n",
    "\n",
    "(equations[\"ACAF\"].sample, equations[\"ACAG\"].sample, equations[\"AOUC\"].sample)"
   ]
  },
  {
   "cell_type": "code",
   "execution_count": 27,
   "metadata": {},
   "outputs": [
    {
     "data": {
      "text/plain": [
       "('ACAF; ACAG; AOUC', 'ACAF; ACAG; AOUC', 'ACAF; ACAG; AOUC')"
      ]
     },
     "execution_count": 27,
     "metadata": {},
     "output_type": "execute_result"
    }
   ],
   "source": [
    "(equations[\"ACAF\"].block, equations[\"ACAG\"].block, equations[\"AOUC\"].block)"
   ]
  },
  {
   "cell_type": "code",
   "execution_count": 28,
   "metadata": {},
   "outputs": [
    {
     "data": {
      "text/plain": [
       "Equation(endogenous = 'ACAF',\n",
       "         lec = '(ACAF/VAF[-1]) := acaf2 * GOSF[-1] + acaf4 * (TIME=1995)',\n",
       "         method = 'MAX_LIKELIHOOD',\n",
       "         from_period = '1990Y1',\n",
       "         to_period = '2015Y1',\n",
       "         block = 'ACAF',\n",
       "         tests = {corr = 1,\n",
       "                  dw = 2.32935,\n",
       "                  fstat = 32.2732,\n",
       "                  loglik = 83.8075,\n",
       "                  meany = 0.00818467,\n",
       "                  r2 = 0.821761,\n",
       "                  r2adj = 0.796299,\n",
       "                  ssres = 5.19945e-05,\n",
       "                  stderr = 0.00192715,\n",
       "                  stderrp = 23.5458,\n",
       "                  stdev = 0.0042699},\n",
       "         date = '12-06-1998')"
      ]
     },
     "execution_count": 28,
     "metadata": {},
     "output_type": "execute_result"
    }
   ],
   "source": [
    "# update lec, method, sample and block\n",
    "equations[\"ACAF\"].lec = \"(ACAF/VAF[-1]) := acaf2 * GOSF[-1] + acaf4 * (TIME=1995)\"\n",
    "equations[\"ACAF\"].method = EqMethod.MAX_LIKELIHOOD\n",
    "# new equation sample is from 1990Y1 to the last year of Variables\n",
    "equations[\"ACAF\"].sample = \"1990Y1:\"\n",
    "equations[\"ACAF\"].block = \"ACAF\"\n",
    "equations[\"ACAF\"]"
   ]
  },
  {
   "cell_type": "markdown",
   "metadata": {},
   "source": [
    "Delete an equation:"
   ]
  },
  {
   "cell_type": "code",
   "execution_count": 29,
   "metadata": {},
   "outputs": [
    {
     "data": {
      "text/plain": [
       "['ACAF', 'ACAG', 'AOUC']"
      ]
     },
     "execution_count": 29,
     "metadata": {},
     "output_type": "execute_result"
    }
   ],
   "source": [
    "equations.get_names(\"A*\")"
   ]
  },
  {
   "cell_type": "code",
   "execution_count": 30,
   "metadata": {},
   "outputs": [
    {
     "data": {
      "text/plain": [
       "['ACAG', 'AOUC']"
      ]
     },
     "execution_count": 30,
     "metadata": {},
     "output_type": "execute_result"
    }
   ],
   "source": [
    "del equations[\"ACAF\"]\n",
    "equations.get_names(\"A*\")"
   ]
  },
  {
   "cell_type": "markdown",
   "metadata": {},
   "source": [
    "Working on a subset:"
   ]
  },
  {
   "cell_type": "code",
   "execution_count": 31,
   "metadata": {},
   "outputs": [
    {
     "data": {
      "text/plain": [
       "['ACAG', 'AOUC']"
      ]
     },
     "execution_count": 31,
     "metadata": {},
     "output_type": "execute_result"
    }
   ],
   "source": [
    "# 1) get subset\n",
    "equations_subset = equations[\"A*\"]\n",
    "equations_subset.names"
   ]
  },
  {
   "cell_type": "code",
   "execution_count": 32,
   "metadata": {},
   "outputs": [
    {
     "data": {
      "text/plain": [
       "Equation(endogenous = 'AOUC_',\n",
       "         lec = 'AOUC_ := ((WCRH/QL)/(WCRH/QL)[1990Y1]) * (VAFF/(VM+VAFF))[-1] + PM * (VM/(VAFF+VM))[-1]',\n",
       "         method = 'LSQ',\n",
       "         from_period = '1960Y1',\n",
       "         to_period = '2015Y1')"
      ]
     },
     "execution_count": 32,
     "metadata": {},
     "output_type": "execute_result"
    }
   ],
   "source": [
    "# 2) add a equation to the subset\n",
    "equations_subset[\"AOUC_\"] = \"AOUC_ := ((WCRH/QL)/(WCRH/QL)[1990Y1]) * (VAFF/(VM+VAFF))[-1] + PM * (VM/(VAFF+VM))[-1]\"\n",
    "equations_subset[\"AOUC_\"]"
   ]
  },
  {
   "cell_type": "code",
   "execution_count": 33,
   "metadata": {},
   "outputs": [
    {
     "data": {
      "text/plain": [
       "True"
      ]
     },
     "execution_count": 33,
     "metadata": {},
     "output_type": "execute_result"
    }
   ],
   "source": [
    "# --> new equation also appears in the global workspace\n",
    "\"AOUC_\" in equations"
   ]
  },
  {
   "cell_type": "code",
   "execution_count": 34,
   "metadata": {},
   "outputs": [
    {
     "data": {
      "text/plain": [
       "Equation(endogenous = 'AOUC_',\n",
       "         lec = 'AOUC_ := ((WCRH/QL)/(WCRH/QL)[1990Y1]) * (VAFF/(VM+VAFF))[-1] + PM * (VM/(VAFF+VM))[-1]',\n",
       "         method = 'LSQ',\n",
       "         from_period = '1960Y1',\n",
       "         to_period = '2015Y1')"
      ]
     },
     "execution_count": 34,
     "metadata": {},
     "output_type": "execute_result"
    }
   ],
   "source": [
    "equations[\"AOUC_\"]"
   ]
  },
  {
   "cell_type": "code",
   "execution_count": 35,
   "metadata": {},
   "outputs": [
    {
     "data": {
      "text/plain": [
       "Equation(endogenous = 'AOUC_',\n",
       "         lec = 'AOUC_ := ((WCRH/QL)/(WCRH/QL)[1990Y1]) * (VAFF/(VM+VAFF))[-1]',\n",
       "         method = 'LSQ',\n",
       "         from_period = '1960Y1',\n",
       "         to_period = '2015Y1')"
      ]
     },
     "execution_count": 35,
     "metadata": {},
     "output_type": "execute_result"
    }
   ],
   "source": [
    "# 3) update a equation in the subset\n",
    "equations_subset[\"AOUC_\"] = \"AOUC_ := ((WCRH/QL)/(WCRH/QL)[1990Y1]) * (VAFF/(VM+VAFF))[-1]\"\n",
    "equations_subset[\"AOUC_\"]           "
   ]
  },
  {
   "cell_type": "code",
   "execution_count": 36,
   "metadata": {},
   "outputs": [
    {
     "data": {
      "text/plain": [
       "Equation(endogenous = 'AOUC_',\n",
       "         lec = 'AOUC_ := ((WCRH/QL)/(WCRH/QL)[1990Y1]) * (VAFF/(VM+VAFF))[-1]',\n",
       "         method = 'LSQ',\n",
       "         from_period = '1960Y1',\n",
       "         to_period = '2015Y1')"
      ]
     },
     "execution_count": 36,
     "metadata": {},
     "output_type": "execute_result"
    }
   ],
   "source": [
    "# --> equation is also updated in the global workspace\n",
    "equations[\"AOUC_\"]"
   ]
  },
  {
   "cell_type": "code",
   "execution_count": 37,
   "metadata": {},
   "outputs": [
    {
     "data": {
      "text/plain": [
       "['DEBT',\n",
       " 'DPU',\n",
       " 'DPUF',\n",
       " 'DPUG',\n",
       " 'DPUGO',\n",
       " 'DPUH',\n",
       " 'DPUU',\n",
       " 'DTF',\n",
       " 'DTH',\n",
       " 'DTH1',\n",
       " 'DTH1C']"
      ]
     },
     "execution_count": 37,
     "metadata": {},
     "output_type": "execute_result"
    }
   ],
   "source": [
    "# delete one equation from a subset of the global database\n",
    "equations_subset = equations[\"D*\"]\n",
    "equations_subset.names"
   ]
  },
  {
   "cell_type": "code",
   "execution_count": 38,
   "metadata": {},
   "outputs": [
    {
     "data": {
      "text/plain": [
       "['DEBT', 'DPU', 'DPUF', 'DPUG', 'DPUH', 'DPUU', 'DTF', 'DTH', 'DTH1', 'DTH1C']"
      ]
     },
     "execution_count": 38,
     "metadata": {},
     "output_type": "execute_result"
    }
   ],
   "source": [
    "del equations_subset[\"DPUGO\"]\n",
    "equations_subset.names"
   ]
  },
  {
   "cell_type": "code",
   "execution_count": 39,
   "metadata": {},
   "outputs": [
    {
     "data": {
      "text/plain": [
       "['DEBT', 'DPU', 'DPUF', 'DPUG', 'DPUH', 'DPUU', 'DTF', 'DTH', 'DTH1', 'DTH1C']"
      ]
     },
     "execution_count": 39,
     "metadata": {},
     "output_type": "execute_result"
    }
   ],
   "source": [
    "# NOTE: the equation has also been deleted from the global database\n",
    "equations.get_names(\"D*\")"
   ]
  },
  {
   "cell_type": "markdown",
   "metadata": {},
   "source": [
    "### Get - add - update - delete identity(ies)"
   ]
  },
  {
   "cell_type": "markdown",
   "metadata": {},
   "source": [
    "Add one identity:"
   ]
  },
  {
   "cell_type": "code",
   "execution_count": 40,
   "metadata": {},
   "outputs": [
    {
     "data": {
      "text/plain": [
       "Identity('YN - YK')"
      ]
     },
     "execution_count": 40,
     "metadata": {},
     "output_type": "execute_result"
    }
   ],
   "source": [
    "identities[\"BDY\"] = \"YN - YK\"\n",
    "identities[\"BDY\"]"
   ]
  },
  {
   "cell_type": "markdown",
   "metadata": {},
   "source": [
    "Update an identity:"
   ]
  },
  {
   "cell_type": "code",
   "execution_count": 41,
   "metadata": {},
   "outputs": [
    {
     "data": {
      "text/plain": [
       "Identity('((WCRH/QL)/(WCRH/QL)[1990Y1])*(VAFF/(VM+VAFF))[-1]+PM*(VM/(VM+VAFF))[-1]')"
      ]
     },
     "execution_count": 41,
     "metadata": {},
     "output_type": "execute_result"
    }
   ],
   "source": [
    "identities[\"AOUC\"]"
   ]
  },
  {
   "cell_type": "code",
   "execution_count": 42,
   "metadata": {},
   "outputs": [
    {
     "data": {
      "text/plain": [
       "Identity('(WCRH / WCRH[1990Y1]) * (VAFF / (VM+VAFF))[-1] + PM * (VM / (VM+VAFF))[-1]')"
      ]
     },
     "execution_count": 42,
     "metadata": {},
     "output_type": "execute_result"
    }
   ],
   "source": [
    "identities[\"AOUC\"] = '(WCRH / WCRH[1990Y1]) * (VAFF / (VM+VAFF))[-1] + PM * (VM / (VM+VAFF))[-1]'\n",
    "identities[\"AOUC\"]"
   ]
  },
  {
   "cell_type": "markdown",
   "metadata": {},
   "source": [
    "Delete an identity:"
   ]
  },
  {
   "cell_type": "code",
   "execution_count": 43,
   "metadata": {},
   "outputs": [
    {
     "data": {
      "text/plain": [
       "['W', 'WBGR', 'WCRH', 'WMINR', 'WO']"
      ]
     },
     "execution_count": 43,
     "metadata": {},
     "output_type": "execute_result"
    }
   ],
   "source": [
    "identities.get_names(\"W*\")"
   ]
  },
  {
   "cell_type": "code",
   "execution_count": 44,
   "metadata": {},
   "outputs": [
    {
     "data": {
      "text/plain": [
       "['WBGR', 'WCRH', 'WMINR', 'WO']"
      ]
     },
     "execution_count": 44,
     "metadata": {},
     "output_type": "execute_result"
    }
   ],
   "source": [
    "del identities[\"W\"]\n",
    "identities.get_names(\"W*\")"
   ]
  },
  {
   "cell_type": "markdown",
   "metadata": {},
   "source": [
    "Working on a subset:"
   ]
  },
  {
   "cell_type": "code",
   "execution_count": 45,
   "metadata": {},
   "outputs": [
    {
     "data": {
      "text/plain": [
       "['XEX',\n",
       " 'XNATY',\n",
       " 'XPOIL',\n",
       " 'XPWMAB',\n",
       " 'XPWMS',\n",
       " 'XPWXAB',\n",
       " 'XPWXS',\n",
       " 'XQWXAB',\n",
       " 'XQWXS',\n",
       " 'XQWXSS',\n",
       " 'XRLBER',\n",
       " 'XTFP',\n",
       " 'XW']"
      ]
     },
     "execution_count": 45,
     "metadata": {},
     "output_type": "execute_result"
    }
   ],
   "source": [
    "# 1) get subset\n",
    "identities_subset = identities[\"X*\"]\n",
    "identities_subset.names"
   ]
  },
  {
   "cell_type": "code",
   "execution_count": 46,
   "metadata": {},
   "outputs": [
    {
     "data": {
      "text/plain": [
       "Identity('grt DPU')"
      ]
     },
     "execution_count": 46,
     "metadata": {},
     "output_type": "execute_result"
    }
   ],
   "source": [
    "# 2) add an identity to the subset\n",
    "identities_subset[\"XDPU\"] = \"grt DPU\"\n",
    "identities_subset[\"XDPU\"]"
   ]
  },
  {
   "cell_type": "code",
   "execution_count": 47,
   "metadata": {},
   "outputs": [
    {
     "data": {
      "text/plain": [
       "(True, Identity('grt DPU'))"
      ]
     },
     "execution_count": 47,
     "metadata": {},
     "output_type": "execute_result"
    }
   ],
   "source": [
    "# --> new identity also appears in the global workspace\n",
    "\"XDPU\" in identities, identities[\"XDPU\"]"
   ]
  },
  {
   "cell_type": "code",
   "execution_count": 48,
   "metadata": {},
   "outputs": [
    {
     "data": {
      "text/plain": [
       "Identity('0')"
      ]
     },
     "execution_count": 48,
     "metadata": {},
     "output_type": "execute_result"
    }
   ],
   "source": [
    "# 3) update an identity in the subset\n",
    "identities_subset[\"XDPU\"] = \"0\"\n",
    "identities_subset[\"XDPU\"]"
   ]
  },
  {
   "cell_type": "code",
   "execution_count": 49,
   "metadata": {},
   "outputs": [
    {
     "data": {
      "text/plain": [
       "Identity('0')"
      ]
     },
     "execution_count": 49,
     "metadata": {},
     "output_type": "execute_result"
    }
   ],
   "source": [
    "# --> identity is also updated in the global workspace\n",
    "identities[\"XDPU\"]"
   ]
  },
  {
   "cell_type": "code",
   "execution_count": 50,
   "metadata": {},
   "outputs": [
    {
     "data": {
      "text/plain": [
       "['Y', 'YSEFPR', 'YSFICR']"
      ]
     },
     "execution_count": 50,
     "metadata": {},
     "output_type": "execute_result"
    }
   ],
   "source": [
    "# delete one identity from a subset of the global database\n",
    "identities_subset = identities[\"Y*\"]\n",
    "identities_subset.names"
   ]
  },
  {
   "cell_type": "code",
   "execution_count": 51,
   "metadata": {},
   "outputs": [
    {
     "data": {
      "text/plain": [
       "['YSEFPR', 'YSFICR']"
      ]
     },
     "execution_count": 51,
     "metadata": {},
     "output_type": "execute_result"
    }
   ],
   "source": [
    "del identities_subset[\"Y\"]\n",
    "identities_subset.names"
   ]
  },
  {
   "cell_type": "code",
   "execution_count": 52,
   "metadata": {},
   "outputs": [
    {
     "data": {
      "text/plain": [
       "False"
      ]
     },
     "execution_count": 52,
     "metadata": {},
     "output_type": "execute_result"
    }
   ],
   "source": [
    "# NOTE: the identity has also been deleted from the global database\n",
    "\"Y\" in identities"
   ]
  },
  {
   "cell_type": "code",
   "execution_count": 53,
   "metadata": {},
   "outputs": [
    {
     "data": {
      "text/plain": [
       "['YSEFPR', 'YSFICR']"
      ]
     },
     "execution_count": 53,
     "metadata": {},
     "output_type": "execute_result"
    }
   ],
   "source": [
    "identities.get_names(\"Y*\")"
   ]
  },
  {
   "cell_type": "markdown",
   "metadata": {},
   "source": [
    "### Get - add - update - delete list(s)"
   ]
  },
  {
   "cell_type": "markdown",
   "metadata": {},
   "source": [
    "Add one list:"
   ]
  },
  {
   "cell_type": "code",
   "execution_count": 54,
   "metadata": {},
   "outputs": [
    {
     "data": {
      "text/plain": [
       "['ACAF', 'ACAG', 'AOUC', 'AOUC_', 'AQC']"
      ]
     },
     "execution_count": 54,
     "metadata": {},
     "output_type": "execute_result"
    }
   ],
   "source": [
    "# --- by passing a string\n",
    "lists[\"A_VAR\"] = \"ACAF;ACAG;AOUC;AOUC_;AQC\"\n",
    "lists[\"A_VAR\"]"
   ]
  },
  {
   "cell_type": "code",
   "execution_count": 55,
   "metadata": {},
   "outputs": [
    {
     "data": {
      "text/plain": [
       "['BENEF', 'BQY', 'BRUGP', 'BVY']"
      ]
     },
     "execution_count": 55,
     "metadata": {},
     "output_type": "execute_result"
    }
   ],
   "source": [
    "# --- by passing a Python list\n",
    "b_vars = variables.get_names(\"B*\")\n",
    "b_vars"
   ]
  },
  {
   "cell_type": "code",
   "execution_count": 56,
   "metadata": {},
   "outputs": [
    {
     "data": {
      "text/plain": [
       "['BENEF', 'BQY', 'BRUGP', 'BVY']"
      ]
     },
     "execution_count": 56,
     "metadata": {},
     "output_type": "execute_result"
    }
   ],
   "source": [
    "lists[\"B_VAR\"] = b_vars\n",
    "lists[\"B_VAR\"]"
   ]
  },
  {
   "cell_type": "markdown",
   "metadata": {},
   "source": [
    "Update a list:"
   ]
  },
  {
   "cell_type": "code",
   "execution_count": 57,
   "metadata": {},
   "outputs": [
    {
     "data": {
      "text/plain": [
       "['ACAF', 'ACAG', 'AOUC', 'AQC']"
      ]
     },
     "execution_count": 57,
     "metadata": {},
     "output_type": "execute_result"
    }
   ],
   "source": [
    "# --- by passing a string\n",
    "lists[\"A_VAR\"] = \"ACAF;ACAG;AOUC;AQC\"\n",
    "lists[\"A_VAR\"]"
   ]
  },
  {
   "cell_type": "code",
   "execution_count": 58,
   "metadata": {},
   "outputs": [
    {
     "data": {
      "text/plain": [
       "['BQY', 'BVY']"
      ]
     },
     "execution_count": 58,
     "metadata": {},
     "output_type": "execute_result"
    }
   ],
   "source": [
    "# --- by passing a Python list\n",
    "b_y_vars = variables.get_names(\"B*Y\")\n",
    "b_y_vars"
   ]
  },
  {
   "cell_type": "code",
   "execution_count": 59,
   "metadata": {},
   "outputs": [
    {
     "data": {
      "text/plain": [
       "['BQY', 'BVY']"
      ]
     },
     "execution_count": 59,
     "metadata": {},
     "output_type": "execute_result"
    }
   ],
   "source": [
    "lists[\"B_VAR\"] = b_y_vars\n",
    "lists[\"B_VAR\"]"
   ]
  },
  {
   "cell_type": "markdown",
   "metadata": {},
   "source": [
    "Delete a list:"
   ]
  },
  {
   "cell_type": "code",
   "execution_count": 60,
   "metadata": {},
   "outputs": [
    {
     "data": {
      "text/plain": [
       "['COPY', 'COPY0', 'COPY1']"
      ]
     },
     "execution_count": 60,
     "metadata": {},
     "output_type": "execute_result"
    }
   ],
   "source": [
    "lists.get_names(\"C*\")"
   ]
  },
  {
   "cell_type": "code",
   "execution_count": 61,
   "metadata": {},
   "outputs": [
    {
     "data": {
      "text/plain": [
       "['COPY0', 'COPY1']"
      ]
     },
     "execution_count": 61,
     "metadata": {},
     "output_type": "execute_result"
    }
   ],
   "source": [
    "del lists[\"COPY\"]\n",
    "lists.get_names(\"C*\")"
   ]
  },
  {
   "cell_type": "markdown",
   "metadata": {},
   "source": [
    "Working on a subset:"
   ]
  },
  {
   "cell_type": "code",
   "execution_count": 62,
   "metadata": {},
   "outputs": [
    {
     "data": {
      "text/plain": [
       "['ENDO', 'ENDO0', 'ENDO1', 'ENVI']"
      ]
     },
     "execution_count": 62,
     "metadata": {},
     "output_type": "execute_result"
    }
   ],
   "source": [
    "# 1) get subset\n",
    "lists_subset = lists[\"E*\"]\n",
    "lists_subset.names"
   ]
  },
  {
   "cell_type": "code",
   "execution_count": 63,
   "metadata": {},
   "outputs": [
    {
     "data": {
      "text/plain": [
       "['EFMY', 'EFXY', 'EX', 'EXC', 'EXCC', 'EXCCR']"
      ]
     },
     "execution_count": 63,
     "metadata": {},
     "output_type": "execute_result"
    }
   ],
   "source": [
    "# 2) add a list to the subset\n",
    "lists_subset[\"E_VAR\"] = variables.get_names(\"E*\")\n",
    "lists_subset[\"E_VAR\"]"
   ]
  },
  {
   "cell_type": "code",
   "execution_count": 64,
   "metadata": {},
   "outputs": [
    {
     "data": {
      "text/plain": [
       "(True, ['EFMY', 'EFXY', 'EX', 'EXC', 'EXCC', 'EXCCR'])"
      ]
     },
     "execution_count": 64,
     "metadata": {},
     "output_type": "execute_result"
    }
   ],
   "source": [
    "# --> new list also appears in the global workspace\n",
    "\"E_VAR\" in lists, lists[\"E_VAR\"]"
   ]
  },
  {
   "cell_type": "code",
   "execution_count": 65,
   "metadata": {},
   "outputs": [
    {
     "data": {
      "text/plain": [
       "['EX', 'EXC', 'EXCC', 'EXCCR']"
      ]
     },
     "execution_count": 65,
     "metadata": {},
     "output_type": "execute_result"
    }
   ],
   "source": [
    "# 3) update a list in the subset\n",
    "lists_subset[\"E_VAR\"] = \"EX;EXC;EXCC;EXCCR\"\n",
    "lists_subset[\"E_VAR\"]"
   ]
  },
  {
   "cell_type": "code",
   "execution_count": 66,
   "metadata": {},
   "outputs": [
    {
     "data": {
      "text/plain": [
       "['EX', 'EXC', 'EXCC', 'EXCCR']"
      ]
     },
     "execution_count": 66,
     "metadata": {},
     "output_type": "execute_result"
    }
   ],
   "source": [
    "# --> list is also updated in the global workspace\n",
    "lists[\"E_VAR\"]"
   ]
  },
  {
   "cell_type": "code",
   "execution_count": 67,
   "metadata": {},
   "outputs": [
    {
     "data": {
      "text/plain": [
       "['ENDO', 'ENDO0', 'ENDO1', 'ENVI', 'E_VAR']"
      ]
     },
     "execution_count": 67,
     "metadata": {},
     "output_type": "execute_result"
    }
   ],
   "source": [
    "# delete one IODE list from a subset of the global database\n",
    "lists_subset = lists[\"E*\"]\n",
    "lists_subset.names"
   ]
  },
  {
   "cell_type": "code",
   "execution_count": 68,
   "metadata": {},
   "outputs": [
    {
     "data": {
      "text/plain": [
       "['ENDO', 'ENDO0', 'ENDO1', 'E_VAR']"
      ]
     },
     "execution_count": 68,
     "metadata": {},
     "output_type": "execute_result"
    }
   ],
   "source": [
    "del lists_subset[\"ENVI\"]\n",
    "lists_subset.names"
   ]
  },
  {
   "cell_type": "code",
   "execution_count": 69,
   "metadata": {},
   "outputs": [
    {
     "data": {
      "text/plain": [
       "False"
      ]
     },
     "execution_count": 69,
     "metadata": {},
     "output_type": "execute_result"
    }
   ],
   "source": [
    "# NOTE: the IODE list has also been deleted from the global database\n",
    "\"ENVI\" in lists"
   ]
  },
  {
   "cell_type": "code",
   "execution_count": 70,
   "metadata": {},
   "outputs": [
    {
     "data": {
      "text/plain": [
       "['ENDO', 'ENDO0', 'ENDO1', 'E_VAR']"
      ]
     },
     "execution_count": 70,
     "metadata": {},
     "output_type": "execute_result"
    }
   ],
   "source": [
    "lists.get_names(\"E*\")"
   ]
  },
  {
   "cell_type": "markdown",
   "metadata": {},
   "source": [
    "### Get - add - update - delete scalar(s)"
   ]
  },
  {
   "cell_type": "markdown",
   "metadata": {},
   "source": [
    "Add one scalar:"
   ]
  },
  {
   "cell_type": "code",
   "execution_count": 71,
   "metadata": {},
   "outputs": [
    {
     "data": {
      "text/plain": [
       "Scalar(0.1, 1, na)"
      ]
     },
     "execution_count": 71,
     "metadata": {},
     "output_type": "execute_result"
    }
   ],
   "source": [
    "# 1. default relax to 1.0\n",
    "scalars[\"a0\"] = 0.1\n",
    "scalars[\"a0\"]"
   ]
  },
  {
   "cell_type": "code",
   "execution_count": 72,
   "metadata": {},
   "outputs": [
    {
     "data": {
      "text/plain": [
       "Scalar(0.1, 0.9, na)"
      ]
     },
     "execution_count": 72,
     "metadata": {},
     "output_type": "execute_result"
    }
   ],
   "source": [
    "# 2. value + relax\n",
    "scalars[\"a1\"] = 0.1, 0.9\n",
    "scalars[\"a1\"]"
   ]
  },
  {
   "cell_type": "markdown",
   "metadata": {},
   "source": [
    "Update a scalar:"
   ]
  },
  {
   "cell_type": "code",
   "execution_count": 73,
   "metadata": {},
   "outputs": [
    {
     "data": {
      "text/plain": [
       "Scalar(0.0157684, 1, 0.00136871)"
      ]
     },
     "execution_count": 73,
     "metadata": {},
     "output_type": "execute_result"
    }
   ],
   "source": [
    "scalars[\"acaf1\"]"
   ]
  },
  {
   "cell_type": "code",
   "execution_count": 74,
   "metadata": {},
   "outputs": [
    {
     "data": {
      "text/plain": [
       "Scalar(0.8, 1, 0.00136871)"
      ]
     },
     "execution_count": 74,
     "metadata": {},
     "output_type": "execute_result"
    }
   ],
   "source": [
    "# only update the value\n",
    "scalars[\"acaf1\"] = 0.8\n",
    "scalars[\"acaf1\"]"
   ]
  },
  {
   "cell_type": "code",
   "execution_count": 75,
   "metadata": {},
   "outputs": [
    {
     "data": {
      "text/plain": [
       "Scalar(0.8, 0.9, na)"
      ]
     },
     "execution_count": 75,
     "metadata": {},
     "output_type": "execute_result"
    }
   ],
   "source": [
    "# update value and relax (tuple)\n",
    "scalars[\"acaf2\"] = 0.8, 0.9\n",
    "scalars[\"acaf2\"]"
   ]
  },
  {
   "cell_type": "code",
   "execution_count": 76,
   "metadata": {},
   "outputs": [
    {
     "data": {
      "text/plain": [
       "Scalar(0.7, 0.8, na)"
      ]
     },
     "execution_count": 76,
     "metadata": {},
     "output_type": "execute_result"
    }
   ],
   "source": [
    "# update value and relax (list)\n",
    "scalars[\"acaf2\"] = (0.7, 0.8)\n",
    "scalars[\"acaf2\"]"
   ]
  },
  {
   "cell_type": "code",
   "execution_count": 77,
   "metadata": {},
   "outputs": [
    {
     "data": {
      "text/plain": [
       "Scalar(0.8, 0.9, 0.87301)"
      ]
     },
     "execution_count": 77,
     "metadata": {},
     "output_type": "execute_result"
    }
   ],
   "source": [
    "# update value and relax (dictionary)\n",
    "scalars[\"acaf3\"] = {\"relax\": 0.9, \"value\": 0.8}\n",
    "scalars[\"acaf3\"]"
   ]
  },
  {
   "cell_type": "code",
   "execution_count": 78,
   "metadata": {},
   "outputs": [
    {
     "data": {
      "text/plain": [
       "Scalar(-0.00850518, 1, 0.0020833)"
      ]
     },
     "execution_count": 78,
     "metadata": {},
     "output_type": "execute_result"
    }
   ],
   "source": [
    "# update value and/or relax (Scalar object)\n",
    "# NOTE: the standard deviation (std) cannot be changed manually\n",
    "scalars[\"acaf4\"]"
   ]
  },
  {
   "cell_type": "code",
   "execution_count": 79,
   "metadata": {},
   "outputs": [
    {
     "data": {
      "text/plain": [
       "Scalar(0.8, 0.9, 0.0020833)"
      ]
     },
     "execution_count": 79,
     "metadata": {},
     "output_type": "execute_result"
    }
   ],
   "source": [
    "scalars[\"acaf4\"].value = 0.8\n",
    "scalars[\"acaf4\"].relax = 0.9\n",
    "scalars[\"acaf4\"]"
   ]
  },
  {
   "cell_type": "markdown",
   "metadata": {},
   "source": [
    "Delete a scalar:"
   ]
  },
  {
   "cell_type": "code",
   "execution_count": 80,
   "metadata": {},
   "outputs": [
    {
     "data": {
      "text/plain": [
       "['a0', 'a1', 'acaf1', 'acaf2', 'acaf3', 'acaf4']"
      ]
     },
     "execution_count": 80,
     "metadata": {},
     "output_type": "execute_result"
    }
   ],
   "source": [
    "scalars.get_names(\"a*\")"
   ]
  },
  {
   "cell_type": "code",
   "execution_count": 81,
   "metadata": {},
   "outputs": [
    {
     "data": {
      "text/plain": [
       "['a0', 'a1', 'acaf1', 'acaf2', 'acaf3']"
      ]
     },
     "execution_count": 81,
     "metadata": {},
     "output_type": "execute_result"
    }
   ],
   "source": [
    "del scalars[\"acaf4\"]\n",
    "scalars.get_names(\"a*\")"
   ]
  },
  {
   "cell_type": "markdown",
   "metadata": {},
   "source": [
    "Working on a subset:"
   ]
  },
  {
   "cell_type": "code",
   "execution_count": 82,
   "metadata": {},
   "outputs": [
    {
     "data": {
      "text/plain": [
       "['a0', 'a1', 'acaf1', 'acaf2', 'acaf3']"
      ]
     },
     "execution_count": 82,
     "metadata": {},
     "output_type": "execute_result"
    }
   ],
   "source": [
    "# 1) get subset\n",
    "scalars_subset = scalars[\"a*\"]\n",
    "scalars_subset.names"
   ]
  },
  {
   "cell_type": "code",
   "execution_count": 83,
   "metadata": {},
   "outputs": [
    {
     "data": {
      "text/plain": [
       "Scalar(1, 1, na)"
      ]
     },
     "execution_count": 83,
     "metadata": {},
     "output_type": "execute_result"
    }
   ],
   "source": [
    "# 2) add a scalar to the subset\n",
    "scalars_subset[\"acaf0\"] = 1.0, 1.0\n",
    "scalars_subset[\"acaf0\"]"
   ]
  },
  {
   "cell_type": "code",
   "execution_count": 84,
   "metadata": {},
   "outputs": [
    {
     "data": {
      "text/plain": [
       "(True, Scalar(1, 1, na))"
      ]
     },
     "execution_count": 84,
     "metadata": {},
     "output_type": "execute_result"
    }
   ],
   "source": [
    "# --> new scalar also appears in the global workspace\n",
    "\"acaf0\" in scalars, scalars[\"acaf0\"]"
   ]
  },
  {
   "cell_type": "code",
   "execution_count": 85,
   "metadata": {},
   "outputs": [
    {
     "data": {
      "text/plain": [
       "Scalar(0.1, 1, na)"
      ]
     },
     "execution_count": 85,
     "metadata": {},
     "output_type": "execute_result"
    }
   ],
   "source": [
    "# 3) update a scalar in the subset\n",
    "scalars_subset[\"acaf0\"] = 0.1\n",
    "scalars_subset[\"acaf0\"]"
   ]
  },
  {
   "cell_type": "code",
   "execution_count": 86,
   "metadata": {},
   "outputs": [
    {
     "data": {
      "text/plain": [
       "Scalar(0.1, 1, na)"
      ]
     },
     "execution_count": 86,
     "metadata": {},
     "output_type": "execute_result"
    }
   ],
   "source": [
    "# --> scalar is also updated in the global workspace\n",
    "scalars[\"acaf0\"]"
   ]
  },
  {
   "cell_type": "code",
   "execution_count": 87,
   "metadata": {},
   "outputs": [
    {
     "data": {
      "text/plain": [
       "['zkf1', 'zkf2', 'zkf3']"
      ]
     },
     "execution_count": 87,
     "metadata": {},
     "output_type": "execute_result"
    }
   ],
   "source": [
    "# delete one scalar from a subset of the global database\n",
    "scalars_subset = scalars[\"z*\"]\n",
    "scalars_subset.names"
   ]
  },
  {
   "cell_type": "code",
   "execution_count": 88,
   "metadata": {},
   "outputs": [
    {
     "data": {
      "text/plain": [
       "['zkf1', 'zkf3']"
      ]
     },
     "execution_count": 88,
     "metadata": {},
     "output_type": "execute_result"
    }
   ],
   "source": [
    "del scalars_subset[\"zkf2\"]\n",
    "scalars_subset.names"
   ]
  },
  {
   "cell_type": "code",
   "execution_count": 89,
   "metadata": {},
   "outputs": [
    {
     "data": {
      "text/plain": [
       "False"
      ]
     },
     "execution_count": 89,
     "metadata": {},
     "output_type": "execute_result"
    }
   ],
   "source": [
    "# NOTE: the scalar has also been deleted from the global database\n",
    "\"zkf2\" in scalars"
   ]
  },
  {
   "cell_type": "code",
   "execution_count": 90,
   "metadata": {},
   "outputs": [
    {
     "data": {
      "text/plain": [
       "['zkf1', 'zkf3']"
      ]
     },
     "execution_count": 90,
     "metadata": {},
     "output_type": "execute_result"
    }
   ],
   "source": [
    "scalars.get_names(\"z*\")"
   ]
  },
  {
   "cell_type": "markdown",
   "metadata": {},
   "source": [
    "### Get - add - update - delete table(s)"
   ]
  },
  {
   "cell_type": "markdown",
   "metadata": {},
   "source": [
    "Create an add a new table:"
   ]
  },
  {
   "cell_type": "code",
   "execution_count": 91,
   "metadata": {},
   "outputs": [
    {
     "data": {
      "text/plain": [
       "DIVIS | 1              |            \n",
       "TITLE |         \"New Table\"         \n",
       "----- | ----------------------------\n",
       "CELL  | \"\"             |     \"#S\"   \n",
       "----- | ----------------------------\n",
       "CELL  | \"GOSG:\"        |        GOSG\n",
       "CELL  | \"YDTG:\"        |        YDTG\n",
       "CELL  | \"DTH:\"         |         DTH\n",
       "CELL  | \"DTF:\"         |         DTF\n",
       "CELL  | \"IT:\"          |          IT\n",
       "CELL  | \"YSSG+COTRES:\" | YSSG+COTRES\n",
       "CELL  | \"RIDG:\"        |        RIDG\n",
       "CELL  | \"OCUG:\"        |        OCUG\n",
       "----- | ----------------------------\n",
       "MODE  | \n",
       "FILES | \n",
       "DATE  | \n",
       "\n",
       "nb lines: 16\n",
       "nb columns: 2\n",
       "language: 'ENGLISH'\n",
       "gridx: 'MAJOR'\n",
       "gridy: 'MAJOR'\n",
       "graph_axis: 'VALUES'\n",
       "graph_alignment: 'LEFT'"
      ]
     },
     "execution_count": 91,
     "metadata": {},
     "output_type": "execute_result"
    }
   ],
   "source": [
    "# 1. specify list of line titles and list of LEC expressions\n",
    "lines_titles = [\"GOSG:\", \"YDTG:\", \"DTH:\", \"DTF:\", \"IT:\", \"YSSG+COTRES:\", \"RIDG:\", \"OCUG:\"]\n",
    "lines_lecs = [\"GOSG\", \"YDTG\", \"DTH\", \"DTF\", \"IT\", \"YSSG+COTRES\", \"RIDG\", \"OCUG\"]\n",
    "tables[\"TABLE_CELL_LECS\"] = {\"nb_columns\": 2, \"table_title\": \"New Table\", \"lecs_or_vars\": lines_lecs,\n",
    "                             \"lines_titles\": lines_titles, \"mode\": True, \"files\": True, \"date\": True}\n",
    "tables[\"TABLE_CELL_LECS\"]"
   ]
  },
  {
   "cell_type": "code",
   "execution_count": 92,
   "metadata": {},
   "outputs": [
    {
     "data": {
      "text/plain": [
       "DIVIS | 1  |     \n",
       "TITLE | \"New Table\"\n",
       "----- | -----------\n",
       "CELL  | \"\" | \"#S\"\n",
       "----- | -----------\n",
       "----- | -----------\n",
       "MODE  | \n",
       "FILES | \n",
       "DATE  | \n",
       "\n",
       "nb lines: 8\n",
       "nb columns: 2\n",
       "language: 'ENGLISH'\n",
       "gridx: 'MAJOR'\n",
       "gridy: 'MAJOR'\n",
       "graph_axis: 'VALUES'\n",
       "graph_alignment: 'LEFT'"
      ]
     },
     "execution_count": 92,
     "metadata": {},
     "output_type": "execute_result"
    }
   ],
   "source": [
    "# 2. specify list of variables\n",
    "vars_list = [\"GOSG\", \"YDTG\", \"DTH\", \"DTF\", \"IT\", \"YSSG\", \"COTRES\", \"RIDG\", \"OCUG\", \"$ENVI\"]\n",
    "tables[\"TABLE_VARS\"] = {\"nb_columns\": 2, \"table_title\": \"New Table\", \"lecs_or_vars\": vars_list,\n",
    "                        \"mode\": True, \"files\": True, \"date\": True}\n",
    "tables[\"TABLE_VARS\"]"
   ]
  },
  {
   "cell_type": "markdown",
   "metadata": {},
   "source": [
    "Update a table:"
   ]
  },
  {
   "cell_type": "code",
   "execution_count": 93,
   "metadata": {},
   "outputs": [
    {
     "data": {
      "text/plain": [
       "DIVIS | 1              |            \n",
       "TITLE |         \"New Table\"         \n",
       "----- | ----------------------------\n",
       "CELL  | \"\"             |     \"#S\"   \n",
       "----- | ----------------------------\n",
       "CELL  | \"GOSG:\"        |        GOSG\n",
       "CELL  | \"YDTG:\"        |        YDTG\n",
       "CELL  | \"DTH:\"         |         DTH\n",
       "CELL  | \"DTF:\"         |         DTF\n",
       "CELL  | \"IT:\"          |          IT\n",
       "CELL  | \"YSSG+COTRES:\" | YSSG+COTRES\n",
       "CELL  | \"RIDG:\"        |        RIDG\n",
       "CELL  | \"OCUG:\"        |        OCUG\n",
       "----- | ----------------------------\n",
       "MODE  | \n",
       "FILES | \n",
       "DATE  | \n",
       "\n",
       "nb lines: 16\n",
       "nb columns: 2\n",
       "language: 'ENGLISH'\n",
       "gridx: 'MAJOR'\n",
       "gridy: 'MAJOR'\n",
       "graph_axis: 'VALUES'\n",
       "graph_alignment: 'LEFT'"
      ]
     },
     "execution_count": 93,
     "metadata": {},
     "output_type": "execute_result"
    }
   ],
   "source": [
    "tables[\"TABLE_CELL_LECS\"]               "
   ]
  },
  {
   "cell_type": "code",
   "execution_count": 94,
   "metadata": {},
   "outputs": [
    {
     "data": {
      "text/plain": [
       "'VALUES'"
      ]
     },
     "execution_count": 94,
     "metadata": {},
     "output_type": "execute_result"
    }
   ],
   "source": [
    "tables[\"TABLE_CELL_LECS\"].graph_axis"
   ]
  },
  {
   "cell_type": "code",
   "execution_count": 95,
   "metadata": {},
   "outputs": [
    {
     "data": {
      "text/plain": [
       "'SEMILOG'"
      ]
     },
     "execution_count": 95,
     "metadata": {},
     "output_type": "execute_result"
    }
   ],
   "source": [
    "from iode import TableGraphAxis\n",
    "# set graph axis type\n",
    "tables[\"TABLE_CELL_LECS\"].graph_axis = TableGraphAxis.SEMILOG\n",
    "tables[\"TABLE_CELL_LECS\"].graph_axis"
   ]
  },
  {
   "cell_type": "code",
   "execution_count": 96,
   "metadata": {},
   "outputs": [
    {
     "data": {
      "text/plain": [
       "New Table"
      ]
     },
     "execution_count": 96,
     "metadata": {},
     "output_type": "execute_result"
    }
   ],
   "source": [
    "# get the first line\n",
    "tables[\"TABLE_CELL_LECS\"][0]"
   ]
  },
  {
   "cell_type": "code",
   "execution_count": 97,
   "metadata": {},
   "outputs": [
    {
     "data": {
      "text/plain": [
       "<DATE>"
      ]
     },
     "execution_count": 97,
     "metadata": {},
     "output_type": "execute_result"
    }
   ],
   "source": [
    "# get the last line\n",
    "tables[\"TABLE_CELL_LECS\"][-1]"
   ]
  },
  {
   "cell_type": "code",
   "execution_count": 98,
   "metadata": {},
   "outputs": [
    {
     "data": {
      "text/plain": [
       "DIVIS | 1              |            \n",
       "TITLE |         \"New Table\"         \n",
       "----- | ----------------------------\n",
       "CELL  | \"\"             |     \"#S\"   \n",
       "----- | ----------------------------\n",
       "CELL  | \"GOSG:\"        |        GOSG\n",
       "CELL  | \"YDTG:\"        |        YDTG\n",
       "CELL  | \"DTH:\"         |         DTH\n",
       "CELL  | \"DTF:\"         |         DTF\n",
       "CELL  | \"IT:\"          |          IT\n",
       "CELL  | \"YSSG+COTRES:\" | YSSG+COTRES\n",
       "CELL  | \"RIDG:\"        |        RIDG\n",
       "CELL  | \"OCUG:\"        |        OCUG\n",
       "----- | ----------------------------\n",
       "MODE  | \n",
       "FILES | \n",
       "\n",
       "nb lines: 15\n",
       "nb columns: 2\n",
       "language: 'ENGLISH'\n",
       "gridx: 'MAJOR'\n",
       "gridy: 'MAJOR'\n",
       "graph_axis: 'SEMILOG'\n",
       "graph_alignment: 'LEFT'"
      ]
     },
     "execution_count": 98,
     "metadata": {},
     "output_type": "execute_result"
    }
   ],
   "source": [
    "# delete last line\n",
    "del tables[\"TABLE_CELL_LECS\"][-1]\n",
    "tables[\"TABLE_CELL_LECS\"]"
   ]
  },
  {
   "cell_type": "code",
   "execution_count": 99,
   "metadata": {},
   "outputs": [
    {
     "data": {
      "text/plain": [
       "9"
      ]
     },
     "execution_count": 99,
     "metadata": {},
     "output_type": "execute_result"
    }
   ],
   "source": [
    "# get index of line containing YSSG+COTRES\n",
    "index = tables[\"TABLE_CELL_LECS\"].index(\"YSSG+COTRES\")\n",
    "index"
   ]
  },
  {
   "cell_type": "code",
   "execution_count": 100,
   "metadata": {},
   "outputs": [
    {
     "data": {
      "text/plain": [
       "('\"YSSG+COTRES:\"', 'YSSG+COTRES')"
      ]
     },
     "execution_count": 100,
     "metadata": {},
     "output_type": "execute_result"
    }
   ],
   "source": [
    "tables[\"TABLE_CELL_LECS\"][index]"
   ]
  },
  {
   "cell_type": "code",
   "execution_count": 101,
   "metadata": {},
   "outputs": [
    {
     "data": {
      "text/plain": [
       "'CELL'"
      ]
     },
     "execution_count": 101,
     "metadata": {},
     "output_type": "execute_result"
    }
   ],
   "source": [
    "# get line type\n",
    "tables[\"TABLE_CELL_LECS\"][index].line_type"
   ]
  },
  {
   "cell_type": "code",
   "execution_count": 102,
   "metadata": {},
   "outputs": [
    {
     "data": {
      "text/plain": [
       "'LINE'"
      ]
     },
     "execution_count": 102,
     "metadata": {},
     "output_type": "execute_result"
    }
   ],
   "source": [
    "# get line graph type\n",
    "tables[\"TABLE_CELL_LECS\"][index].graph_type"
   ]
  },
  {
   "cell_type": "code",
   "execution_count": 103,
   "metadata": {},
   "outputs": [
    {
     "data": {
      "text/plain": [
       "True"
      ]
     },
     "execution_count": 103,
     "metadata": {},
     "output_type": "execute_result"
    }
   ],
   "source": [
    "# know if axis is left\n",
    "tables[\"TABLE_CELL_LECS\"][index].axis_left"
   ]
  },
  {
   "cell_type": "code",
   "execution_count": 104,
   "metadata": {},
   "outputs": [
    {
     "data": {
      "text/plain": [
       "('\"YSSG:\"', 'YSSG')"
      ]
     },
     "execution_count": 104,
     "metadata": {},
     "output_type": "execute_result"
    }
   ],
   "source": [
    "# update cells\n",
    "# double quotes \"    -> STRING cell\n",
    "# no double quotes   -> LEC cell\n",
    "tables[\"TABLE_CELL_LECS\"][index] = ('\"YSSG:\"', 'YSSG')\n",
    "tables[\"TABLE_CELL_LECS\"][index]"
   ]
  },
  {
   "cell_type": "code",
   "execution_count": 105,
   "metadata": {},
   "outputs": [
    {
     "data": {
      "text/plain": [
       "DIVIS | 1       |     \n",
       "TITLE |  \"New Table\"  \n",
       "----- | --------------\n",
       "CELL  | \"\"      | \"#S\"\n",
       "----- | --------------\n",
       "CELL  | \"GOSG:\" | GOSG\n",
       "CELL  | \"YDTG:\" | YDTG\n",
       "CELL  | \"DTH:\"  |  DTH\n",
       "CELL  | \"DTF:\"  |  DTF\n",
       "CELL  | \"IT:\"   |   IT\n",
       "CELL  | \"YSSG:\" | YSSG\n",
       "----- | --------------\n",
       "TITLE |  \"New Title\"  \n",
       "----- | --------------\n",
       "CELL  | \"RIDG:\" | RIDG\n",
       "CELL  | \"OCUG:\" | OCUG\n",
       "----- | --------------\n",
       "MODE  | \n",
       "FILES | \n",
       "\n",
       "nb lines: 18\n",
       "nb columns: 2\n",
       "language: 'ENGLISH'\n",
       "gridx: 'MAJOR'\n",
       "gridy: 'MAJOR'\n",
       "graph_axis: 'SEMILOG'\n",
       "graph_alignment: 'LEFT'"
      ]
     },
     "execution_count": 105,
     "metadata": {},
     "output_type": "execute_result"
    }
   ],
   "source": [
    "# insert a new title line surrounded by two separator lines\n",
    "tables[\"TABLE_CELL_LECS\"].insert(index + 1, '-')\n",
    "tables[\"TABLE_CELL_LECS\"].insert(index + 2, \"New Title\")\n",
    "tables[\"TABLE_CELL_LECS\"].insert(index + 3, '-')\n",
    "tables[\"TABLE_CELL_LECS\"]"
   ]
  },
  {
   "cell_type": "code",
   "execution_count": 106,
   "metadata": {},
   "outputs": [
    {
     "data": {
      "text/plain": [
       "DIVIS | 1       |     \n",
       "TITLE |  \"New Table\"  \n",
       "----- | --------------\n",
       "CELL  | \"\"      | \"#S\"\n",
       "----- | --------------\n",
       "CELL  | \"GOSG:\" | GOSG\n",
       "CELL  | \"YDTG:\" | YDTG\n",
       "CELL  | \"DTH:\"  |  DTH\n",
       "CELL  | \"DTF:\"  |  DTF\n",
       "CELL  | \"IT:\"   |   IT\n",
       "CELL  | \"YSSG:\" | YSSG\n",
       "----- | --------------\n",
       "TITLE |  \"New Title\"  \n",
       "----- | --------------\n",
       "CELL  | \"RIDG:\" | RIDG\n",
       "CELL  | \"OCUG:\" | OCUG\n",
       "----- | --------------\n",
       "MODE  | \n",
       "FILES | \n",
       "----- | --------------\n",
       "\n",
       "nb lines: 19\n",
       "nb columns: 2\n",
       "language: 'ENGLISH'\n",
       "gridx: 'MAJOR'\n",
       "gridy: 'MAJOR'\n",
       "graph_axis: 'SEMILOG'\n",
       "graph_alignment: 'LEFT'"
      ]
     },
     "execution_count": 106,
     "metadata": {},
     "output_type": "execute_result"
    }
   ],
   "source": [
    "# append a new sepatator line\n",
    "tables[\"TABLE_CELL_LECS\"] += '-'\n",
    "tables[\"TABLE_CELL_LECS\"]"
   ]
  },
  {
   "cell_type": "markdown",
   "metadata": {},
   "source": [
    "Delete a table:"
   ]
  },
  {
   "cell_type": "code",
   "execution_count": 107,
   "metadata": {},
   "outputs": [
    {
     "data": {
      "text/plain": [
       "['GAP', 'GDP', 'GFR', 'GFRLEVEL', 'GFRPC', 'GROWTH']"
      ]
     },
     "execution_count": 107,
     "metadata": {},
     "output_type": "execute_result"
    }
   ],
   "source": [
    "tables.get_names(\"G*\")"
   ]
  },
  {
   "cell_type": "code",
   "execution_count": 108,
   "metadata": {},
   "outputs": [
    {
     "data": {
      "text/plain": [
       "['GAP', 'GDP', 'GFR', 'GFRPC', 'GROWTH']"
      ]
     },
     "execution_count": 108,
     "metadata": {},
     "output_type": "execute_result"
    }
   ],
   "source": [
    "del tables[\"GFRLEVEL\"]\n",
    "tables.get_names(\"G*\")"
   ]
  },
  {
   "cell_type": "markdown",
   "metadata": {},
   "source": [
    "Working on a subset:"
   ]
  },
  {
   "cell_type": "code",
   "execution_count": 109,
   "metadata": {},
   "outputs": [
    {
     "data": {
      "text/plain": [
       "['C8_1', 'C8_2', 'C8_3', 'C8_4', 'C8_5', 'C8_6', 'C8_7', 'C8_8', 'C8_9']"
      ]
     },
     "execution_count": 109,
     "metadata": {},
     "output_type": "execute_result"
    }
   ],
   "source": [
    "# 1) get subset\n",
    "tables_subset = tables[\"C8_?\"]\n",
    "tables_subset.names"
   ]
  },
  {
   "cell_type": "code",
   "execution_count": 110,
   "metadata": {},
   "outputs": [
    {
     "data": {
      "text/plain": [
       "DIVIS | 1                                                       |       \n",
       "TITLE |                           \"Croissance\"                          \n",
       "----- | ----------------------------------------------------------------\n",
       "CELL  | \"\"                                                      |  \"#S\" \n",
       "----- | ----------------------------------------------------------------\n",
       "CELL  | \"Croissance de la population active\"                    |  XNATY\n",
       "CELL  | \"Croissance du prix du pétrole\"                         |  XPOIL\n",
       "CELL  | \"Croissance des prix des biens importés\"                | XPWMAB\n",
       "CELL  | \"Croissance des prix des marchés pertinents à l'export\" | XPWXAB\n",
       "----- | ----------------------------------------------------------------\n",
       "MODE  | \n",
       "FILES | \n",
       "DATE  | \n",
       "\n",
       "nb lines: 12\n",
       "nb columns: 2\n",
       "language: 'ENGLISH'\n",
       "gridx: 'MAJOR'\n",
       "gridy: 'MAJOR'\n",
       "graph_axis: 'VALUES'\n",
       "graph_alignment: 'LEFT'"
      ]
     },
     "execution_count": 110,
     "metadata": {},
     "output_type": "execute_result"
    }
   ],
   "source": [
    "# 2) add a table to the subset\n",
    "vars_list = [\"XNATY\", \"XPOIL\", \"XPWMAB\", \"XPWXAB\"]\n",
    "tables_subset[\"X_GRT\"] = {\"nb_columns\": 2, \"table_title\": \"Croissance\", \"lecs_or_vars\": vars_list,\n",
    "                          \"mode\": True, \"files\": True, \"date\": True}\n",
    "tables_subset[\"X_GRT\"]"
   ]
  },
  {
   "cell_type": "code",
   "execution_count": 111,
   "metadata": {},
   "outputs": [
    {
     "data": {
      "text/plain": [
       "(True,\n",
       " DIVIS | 1                                                       |       \n",
       " TITLE |                           \"Croissance\"                          \n",
       " ----- | ----------------------------------------------------------------\n",
       " CELL  | \"\"                                                      |  \"#S\" \n",
       " ----- | ----------------------------------------------------------------\n",
       " CELL  | \"Croissance de la population active\"                    |  XNATY\n",
       " CELL  | \"Croissance du prix du pétrole\"                         |  XPOIL\n",
       " CELL  | \"Croissance des prix des biens importés\"                | XPWMAB\n",
       " CELL  | \"Croissance des prix des marchés pertinents à l'export\" | XPWXAB\n",
       " ----- | ----------------------------------------------------------------\n",
       " MODE  | \n",
       " FILES | \n",
       " DATE  | \n",
       " \n",
       " nb lines: 12\n",
       " nb columns: 2\n",
       " language: 'ENGLISH'\n",
       " gridx: 'MAJOR'\n",
       " gridy: 'MAJOR'\n",
       " graph_axis: 'VALUES'\n",
       " graph_alignment: 'LEFT')"
      ]
     },
     "execution_count": 111,
     "metadata": {},
     "output_type": "execute_result"
    }
   ],
   "source": [
    "# --> new table also appears in the global workspace\n",
    "\"X_GRT\" in tables, tables[\"X_GRT\"]"
   ]
  },
  {
   "cell_type": "code",
   "execution_count": 112,
   "metadata": {},
   "outputs": [
    {
     "data": {
      "text/plain": [
       "DIVIS | 1                                                       |       \n",
       "TITLE |                           \"Croissance\"                          \n",
       "----- | ----------------------------------------------------------------\n",
       "CELL  | \"\"                                                      |  \"#S\" \n",
       "----- | ----------------------------------------------------------------\n",
       "CELL  | \"Croissance de la population active\"                    |  XNATY\n",
       "CELL  | \"Croissance du prix du pétrole\"                         |  XPOIL\n",
       "CELL  | \"Croissance des prix des biens importés\"                | XPWMAB\n",
       "CELL  | \"Croissance des prix des marchés pertinents à l'export\" | XPWXAB\n",
       "----- | ----------------------------------------------------------------\n",
       "MODE  | \n",
       "FILES | \n",
       "DATE  | \n",
       "\n",
       "nb lines: 12\n",
       "nb columns: 2\n",
       "language: 'ENGLISH'\n",
       "gridx: 'MAJOR'\n",
       "gridy: 'MAJOR'\n",
       "graph_axis: 'VALUES'\n",
       "graph_alignment: 'LEFT'"
      ]
     },
     "execution_count": 112,
     "metadata": {},
     "output_type": "execute_result"
    }
   ],
   "source": [
    "# 3) update a table in the subset\n",
    "table_x_grt = tables_subset[\"X_GRT\"]\n",
    "table_x_grt"
   ]
  },
  {
   "cell_type": "code",
   "execution_count": 113,
   "metadata": {},
   "outputs": [
    {
     "data": {
      "text/plain": [
       "DIVIS | 1                                                       |       \n",
       "TITLE |                           \"Croissance\"                          \n",
       "----- | ----------------------------------------------------------------\n",
       "CELL  | \"\"                                                      |  \"#S\" \n",
       "----- | ----------------------------------------------------------------\n",
       "CELL  | \"Croissance de la population active\"                    |  XNATY\n",
       "CELL  | \"Croissance du prix du pétrole\"                         |  XPOIL\n",
       "CELL  | \"Croissance des prix des biens importés\"                | XPWMAB\n",
       "CELL  | \"Croissance des prix des marchés pertinents à l'export\" | XPWXAB\n",
       "CELL  | \"Croissance des marchés pertinents\"                     | XQWXSS\n",
       "----- | ----------------------------------------------------------------\n",
       "MODE  | \n",
       "FILES | \n",
       "DATE  | \n",
       "\n",
       "nb lines: 13\n",
       "nb columns: 2\n",
       "language: 'ENGLISH'\n",
       "gridx: 'MAJOR'\n",
       "gridy: 'MAJOR'\n",
       "graph_axis: 'VALUES'\n",
       "graph_alignment: 'LEFT'"
      ]
     },
     "execution_count": 113,
     "metadata": {},
     "output_type": "execute_result"
    }
   ],
   "source": [
    "index = table_x_grt.index(\"XPWXAB\")\n",
    "table_x_grt.insert(index + 1, (f'\"{comments[\"XQWXSS\"]}\"', \"XQWXSS\"))\n",
    "tables_subset[\"X_GRT\"]                      "
   ]
  },
  {
   "cell_type": "code",
   "execution_count": 114,
   "metadata": {},
   "outputs": [
    {
     "data": {
      "text/plain": [
       "DIVIS | 1                                                       |       \n",
       "TITLE |                           \"Croissance\"                          \n",
       "----- | ----------------------------------------------------------------\n",
       "CELL  | \"\"                                                      |  \"#S\" \n",
       "----- | ----------------------------------------------------------------\n",
       "CELL  | \"Croissance de la population active\"                    |  XNATY\n",
       "CELL  | \"Croissance du prix du pétrole\"                         |  XPOIL\n",
       "CELL  | \"Croissance des prix des biens importés\"                | XPWMAB\n",
       "CELL  | \"Croissance des prix des marchés pertinents à l'export\" | XPWXAB\n",
       "CELL  | \"Croissance des marchés pertinents\"                     | XQWXSS\n",
       "----- | ----------------------------------------------------------------\n",
       "MODE  | \n",
       "FILES | \n",
       "DATE  | \n",
       "\n",
       "nb lines: 13\n",
       "nb columns: 2\n",
       "language: 'ENGLISH'\n",
       "gridx: 'MAJOR'\n",
       "gridy: 'MAJOR'\n",
       "graph_axis: 'VALUES'\n",
       "graph_alignment: 'LEFT'"
      ]
     },
     "execution_count": 114,
     "metadata": {},
     "output_type": "execute_result"
    }
   ],
   "source": [
    "# --> table is also updated in the global workspace\n",
    "tables[\"X_GRT\"]                       "
   ]
  },
  {
   "cell_type": "code",
   "execution_count": 115,
   "metadata": {},
   "outputs": [
    {
     "data": {
      "text/plain": [
       "['MULT1FR', 'MULT1RESU', 'MULT2FR', 'MULT2RESU']"
      ]
     },
     "execution_count": 115,
     "metadata": {},
     "output_type": "execute_result"
    }
   ],
   "source": [
    "# delete one table from a subset of the global database\n",
    "tables_subset = tables[\"M*\"]\n",
    "tables_subset.names"
   ]
  },
  {
   "cell_type": "code",
   "execution_count": 116,
   "metadata": {},
   "outputs": [
    {
     "data": {
      "text/plain": [
       "['MULT1FR', 'MULT1RESU', 'MULT2FR']"
      ]
     },
     "execution_count": 116,
     "metadata": {},
     "output_type": "execute_result"
    }
   ],
   "source": [
    "del tables_subset[\"MULT2RESU\"]\n",
    "tables_subset.names"
   ]
  },
  {
   "cell_type": "code",
   "execution_count": 117,
   "metadata": {},
   "outputs": [
    {
     "data": {
      "text/plain": [
       "False"
      ]
     },
     "execution_count": 117,
     "metadata": {},
     "output_type": "execute_result"
    }
   ],
   "source": [
    "# NOTE: the table has also been deleted from the global database\n",
    "\"MULT2RESU\" in tables"
   ]
  },
  {
   "cell_type": "code",
   "execution_count": 118,
   "metadata": {},
   "outputs": [
    {
     "data": {
      "text/plain": [
       "['MULT1FR', 'MULT1RESU', 'MULT2FR']"
      ]
     },
     "execution_count": 118,
     "metadata": {},
     "output_type": "execute_result"
    }
   ],
   "source": [
    "tables.get_names(\"M*\")"
   ]
  },
  {
   "cell_type": "markdown",
   "metadata": {},
   "source": [
    "### Get - add - update - delete variable(s)"
   ]
  },
  {
   "cell_type": "markdown",
   "metadata": {},
   "source": [
    "Add one variable:"
   ]
  },
  {
   "cell_type": "code",
   "execution_count": 119,
   "metadata": {},
   "outputs": [
    {
     "data": {
      "text/plain": [
       "[nan,\n",
       " nan,\n",
       " nan,\n",
       " nan,\n",
       " nan,\n",
       " nan,\n",
       " nan,\n",
       " nan,\n",
       " nan,\n",
       " nan,\n",
       " nan,\n",
       " nan,\n",
       " nan,\n",
       " nan,\n",
       " nan,\n",
       " nan,\n",
       " nan,\n",
       " nan,\n",
       " nan,\n",
       " nan,\n",
       " nan,\n",
       " nan,\n",
       " nan,\n",
       " nan,\n",
       " nan,\n",
       " nan,\n",
       " nan,\n",
       " nan,\n",
       " nan,\n",
       " nan,\n",
       " nan,\n",
       " nan,\n",
       " nan,\n",
       " nan,\n",
       " nan,\n",
       " nan,\n",
       " nan,\n",
       " nan,\n",
       " nan,\n",
       " nan,\n",
       " nan,\n",
       " nan,\n",
       " nan,\n",
       " nan,\n",
       " nan,\n",
       " nan,\n",
       " nan,\n",
       " nan,\n",
       " nan,\n",
       " nan,\n",
       " nan,\n",
       " nan,\n",
       " nan,\n",
       " nan,\n",
       " nan,\n",
       " nan]"
      ]
     },
     "execution_count": 119,
     "metadata": {},
     "output_type": "execute_result"
    }
   ],
   "source": [
    "# 1) same value for all periods\n",
    "variables[\"A0\"] = np.nan\n",
    "variables[\"A0\"]"
   ]
  },
  {
   "cell_type": "code",
   "execution_count": 120,
   "metadata": {},
   "outputs": [
    {
     "data": {
      "text/plain": [
       "[0.0,\n",
       " 1.0,\n",
       " 2.0,\n",
       " 3.0,\n",
       " 4.0,\n",
       " 5.0,\n",
       " 6.0,\n",
       " 7.0,\n",
       " 8.0,\n",
       " 9.0,\n",
       " 10.0,\n",
       " 11.0,\n",
       " 12.0,\n",
       " 13.0,\n",
       " 14.0,\n",
       " 15.0,\n",
       " 16.0,\n",
       " 17.0,\n",
       " 18.0,\n",
       " 19.0,\n",
       " 20.0,\n",
       " 21.0,\n",
       " 22.0,\n",
       " 23.0,\n",
       " 24.0,\n",
       " 25.0,\n",
       " 26.0,\n",
       " 27.0,\n",
       " 28.0,\n",
       " 29.0,\n",
       " 30.0,\n",
       " 31.0,\n",
       " 32.0,\n",
       " 33.0,\n",
       " 34.0,\n",
       " 35.0,\n",
       " 36.0,\n",
       " 37.0,\n",
       " 38.0,\n",
       " 39.0,\n",
       " 40.0,\n",
       " 41.0,\n",
       " 42.0,\n",
       " 43.0,\n",
       " 44.0,\n",
       " 45.0,\n",
       " 46.0,\n",
       " 47.0,\n",
       " 48.0,\n",
       " 49.0,\n",
       " 50.0,\n",
       " 51.0,\n",
       " 52.0,\n",
       " 53.0,\n",
       " 54.0,\n",
       " 55.0]"
      ]
     },
     "execution_count": 120,
     "metadata": {},
     "output_type": "execute_result"
    }
   ],
   "source": [
    "# 2) vector (list) containing a specific value for each period\n",
    "variables[\"A1\"] = list(range(variables.nb_periods))\n",
    "variables[\"A1\"]                     "
   ]
  },
  {
   "cell_type": "code",
   "execution_count": 121,
   "metadata": {},
   "outputs": [
    {
     "data": {
      "text/plain": [
       "[10.0,\n",
       " 11.0,\n",
       " 12.0,\n",
       " 13.0,\n",
       " 14.0,\n",
       " 15.0,\n",
       " 16.0,\n",
       " 17.0,\n",
       " 18.0,\n",
       " 19.0,\n",
       " 20.0,\n",
       " 21.0,\n",
       " 22.0,\n",
       " 23.0,\n",
       " 24.0,\n",
       " 25.0,\n",
       " 26.0,\n",
       " 27.0,\n",
       " 28.0,\n",
       " 29.0,\n",
       " 30.0,\n",
       " 31.0,\n",
       " 32.0,\n",
       " 33.0,\n",
       " 34.0,\n",
       " 35.0,\n",
       " 36.0,\n",
       " 37.0,\n",
       " 38.0,\n",
       " 39.0,\n",
       " 40.0,\n",
       " 41.0,\n",
       " 42.0,\n",
       " 43.0,\n",
       " 44.0,\n",
       " 45.0,\n",
       " 46.0,\n",
       " 47.0,\n",
       " 48.0,\n",
       " 49.0,\n",
       " 50.0,\n",
       " 51.0,\n",
       " 52.0,\n",
       " 53.0,\n",
       " 54.0,\n",
       " 55.0,\n",
       " 56.0,\n",
       " 57.0,\n",
       " 58.0,\n",
       " 59.0,\n",
       " 60.0,\n",
       " 61.0,\n",
       " 62.0,\n",
       " 63.0,\n",
       " 64.0,\n",
       " 65.0]"
      ]
     },
     "execution_count": 121,
     "metadata": {},
     "output_type": "execute_result"
    }
   ],
   "source": [
    "# 3) LEC expression\n",
    "variables[\"A2\"] = \"t + 10\"\n",
    "variables[\"A2\"]                     "
   ]
  },
  {
   "cell_type": "markdown",
   "metadata": {},
   "source": [
    "Update a variable:"
   ]
  },
  {
   "cell_type": "code",
   "execution_count": 122,
   "metadata": {},
   "outputs": [
    {
     "data": {
      "text/plain": [
       "[nan,\n",
       " nan,\n",
       " nan,\n",
       " nan,\n",
       " nan,\n",
       " nan,\n",
       " nan,\n",
       " nan,\n",
       " nan,\n",
       " nan,\n",
       " 1.2130001,\n",
       " 5.2020001,\n",
       " 9.184,\n",
       " 8.0790005,\n",
       " 11.332,\n",
       " 13.518001,\n",
       " 15.784,\n",
       " 16.544001,\n",
       " 21.489,\n",
       " 20.281,\n",
       " 21.277,\n",
       " 32.417999,\n",
       " 24.446999,\n",
       " 27.025002,\n",
       " 24.504,\n",
       " 27.560999,\n",
       " 25.542,\n",
       " 27.499001,\n",
       " 25.353001,\n",
       " 17.165001,\n",
       " 23.771,\n",
       " 26.240999,\n",
       " 30.159,\n",
       " 34.661999,\n",
       " 8.1610022,\n",
       " -13.130997,\n",
       " 32.171001,\n",
       " 39.935799,\n",
       " 29.645657,\n",
       " 13.530404919696034,\n",
       " 10.046610792200543,\n",
       " 2.8679227364554634,\n",
       " -0.9292125090516451,\n",
       " -6.091564987568884,\n",
       " -14.582094462898064,\n",
       " -26.538789569788573,\n",
       " -28.987287982597536,\n",
       " -33.378425784295416,\n",
       " -38.40951778239742,\n",
       " -37.46350964127375,\n",
       " -37.82742883229439,\n",
       " -44.544792633543224,\n",
       " -55.55928981721873,\n",
       " -68.89465432262006,\n",
       " -83.34062511080091,\n",
       " -96.41041982848331]"
      ]
     },
     "execution_count": 122,
     "metadata": {},
     "output_type": "execute_result"
    }
   ],
   "source": [
    "# 1) update all values of a Variable\n",
    "variables[\"ACAF\"]                   "
   ]
  },
  {
   "cell_type": "code",
   "execution_count": 123,
   "metadata": {},
   "outputs": [
    {
     "data": {
      "text/plain": [
       "[nan,\n",
       " nan,\n",
       " nan,\n",
       " nan,\n",
       " nan,\n",
       " nan,\n",
       " nan,\n",
       " nan,\n",
       " nan,\n",
       " nan,\n",
       " nan,\n",
       " nan,\n",
       " nan,\n",
       " nan,\n",
       " nan,\n",
       " nan,\n",
       " nan,\n",
       " nan,\n",
       " nan,\n",
       " nan,\n",
       " nan,\n",
       " nan,\n",
       " nan,\n",
       " nan,\n",
       " nan,\n",
       " nan,\n",
       " nan,\n",
       " nan,\n",
       " nan,\n",
       " nan,\n",
       " nan,\n",
       " nan,\n",
       " nan,\n",
       " nan,\n",
       " nan,\n",
       " nan,\n",
       " nan,\n",
       " nan,\n",
       " nan,\n",
       " nan,\n",
       " nan,\n",
       " nan,\n",
       " nan,\n",
       " nan,\n",
       " nan,\n",
       " nan,\n",
       " nan,\n",
       " nan,\n",
       " nan,\n",
       " nan,\n",
       " nan,\n",
       " nan,\n",
       " nan,\n",
       " nan,\n",
       " nan,\n",
       " nan]"
      ]
     },
     "execution_count": 123,
     "metadata": {},
     "output_type": "execute_result"
    }
   ],
   "source": [
    "# 1.I) same value for all periods\n",
    "variables[\"ACAF\"] = np.nan\n",
    "variables[\"ACAF\"]                   "
   ]
  },
  {
   "cell_type": "code",
   "execution_count": 124,
   "metadata": {},
   "outputs": [
    {
     "data": {
      "text/plain": [
       "[0.0,\n",
       " 1.0,\n",
       " 2.0,\n",
       " 3.0,\n",
       " 4.0,\n",
       " 5.0,\n",
       " 6.0,\n",
       " 7.0,\n",
       " 8.0,\n",
       " 9.0,\n",
       " 10.0,\n",
       " 11.0,\n",
       " 12.0,\n",
       " 13.0,\n",
       " 14.0,\n",
       " 15.0,\n",
       " 16.0,\n",
       " 17.0,\n",
       " 18.0,\n",
       " 19.0,\n",
       " 20.0,\n",
       " 21.0,\n",
       " 22.0,\n",
       " 23.0,\n",
       " 24.0,\n",
       " 25.0,\n",
       " 26.0,\n",
       " 27.0,\n",
       " 28.0,\n",
       " 29.0,\n",
       " 30.0,\n",
       " 31.0,\n",
       " 32.0,\n",
       " 33.0,\n",
       " 34.0,\n",
       " 35.0,\n",
       " 36.0,\n",
       " 37.0,\n",
       " 38.0,\n",
       " 39.0,\n",
       " 40.0,\n",
       " 41.0,\n",
       " 42.0,\n",
       " 43.0,\n",
       " 44.0,\n",
       " 45.0,\n",
       " 46.0,\n",
       " 47.0,\n",
       " 48.0,\n",
       " 49.0,\n",
       " 50.0,\n",
       " 51.0,\n",
       " 52.0,\n",
       " 53.0,\n",
       " 54.0,\n",
       " 55.0]"
      ]
     },
     "execution_count": 124,
     "metadata": {},
     "output_type": "execute_result"
    }
   ],
   "source": [
    "# 1.II) vector (list) containing a specific value for each period\n",
    "variables[\"ACAF\"] = list(range(variables.nb_periods))\n",
    "variables[\"ACAF\"]                   "
   ]
  },
  {
   "cell_type": "code",
   "execution_count": 125,
   "metadata": {},
   "outputs": [
    {
     "data": {
      "text/plain": [
       "[10.0,\n",
       " 11.0,\n",
       " 12.0,\n",
       " 13.0,\n",
       " 14.0,\n",
       " 15.0,\n",
       " 16.0,\n",
       " 17.0,\n",
       " 18.0,\n",
       " 19.0,\n",
       " 20.0,\n",
       " 21.0,\n",
       " 22.0,\n",
       " 23.0,\n",
       " 24.0,\n",
       " 25.0,\n",
       " 26.0,\n",
       " 27.0,\n",
       " 28.0,\n",
       " 29.0,\n",
       " 30.0,\n",
       " 31.0,\n",
       " 32.0,\n",
       " 33.0,\n",
       " 34.0,\n",
       " 35.0,\n",
       " 36.0,\n",
       " 37.0,\n",
       " 38.0,\n",
       " 39.0,\n",
       " 40.0,\n",
       " 41.0,\n",
       " 42.0,\n",
       " 43.0,\n",
       " 44.0,\n",
       " 45.0,\n",
       " 46.0,\n",
       " 47.0,\n",
       " 48.0,\n",
       " 49.0,\n",
       " 50.0,\n",
       " 51.0,\n",
       " 52.0,\n",
       " 53.0,\n",
       " 54.0,\n",
       " 55.0,\n",
       " 56.0,\n",
       " 57.0,\n",
       " 58.0,\n",
       " 59.0,\n",
       " 60.0,\n",
       " 61.0,\n",
       " 62.0,\n",
       " 63.0,\n",
       " 64.0,\n",
       " 65.0]"
      ]
     },
     "execution_count": 125,
     "metadata": {},
     "output_type": "execute_result"
    }
   ],
   "source": [
    "# 1.III) LEC expression\n",
    "variables[\"ACAF\"] = \"t + 10\"\n",
    "variables[\"ACAF\"]                   "
   ]
  },
  {
   "cell_type": "code",
   "execution_count": 126,
   "metadata": {},
   "outputs": [
    {
     "data": {
      "text/plain": [
       "-28.1721855713507"
      ]
     },
     "execution_count": 126,
     "metadata": {},
     "output_type": "execute_result"
    }
   ],
   "source": [
    "# 2) set one value of a Variable for a specific period\n",
    "variables[\"ACAG\", \"1990Y1\"]"
   ]
  },
  {
   "cell_type": "code",
   "execution_count": 127,
   "metadata": {},
   "outputs": [
    {
     "data": {
      "text/plain": [
       "-28.2"
      ]
     },
     "execution_count": 127,
     "metadata": {},
     "output_type": "execute_result"
    }
   ],
   "source": [
    "variables[\"ACAG\", \"1990Y1\"] = -28.2\n",
    "variables[\"ACAG\", \"1990Y1\"]"
   ]
  },
  {
   "cell_type": "code",
   "execution_count": 128,
   "metadata": {},
   "outputs": [
    {
     "data": {
      "text/plain": [
       "[0.0, 0.0, 0.0, 0.0, 0.0]"
      ]
     },
     "execution_count": 128,
     "metadata": {},
     "output_type": "execute_result"
    }
   ],
   "source": [
    "# 3) set the variable values for range of periods\n",
    "# 3.I) using a Python slice\n",
    "# 3.I.a) variable(periods) = same value for all periods\n",
    "variables[\"ACAF\", \"1991Y1\":\"1995Y1\"] = 0.0\n",
    "variables[\"ACAF\", \"1991Y1\":\"1995Y1\"]"
   ]
  },
  {
   "cell_type": "code",
   "execution_count": 129,
   "metadata": {},
   "outputs": [
    {
     "data": {
      "text/plain": [
       "[0.0, 1.0, 2.0, 3.0, 4.0]"
      ]
     },
     "execution_count": 129,
     "metadata": {},
     "output_type": "execute_result"
    }
   ],
   "source": [
    "# 3.I.b) variable(periods) = vector (list) containing a specific value for each period\n",
    "variables[\"ACAF\", \"1991Y1\":\"1995Y1\"] = [0., 1., 2., 3., 4.]\n",
    "variables[\"ACAF\", \"1991Y1\":\"1995Y1\"]"
   ]
  },
  {
   "cell_type": "code",
   "execution_count": 130,
   "metadata": {},
   "outputs": [
    {
     "data": {
      "text/plain": [
       "[41.0, 42.0, 43.0, 44.0, 45.0]"
      ]
     },
     "execution_count": 130,
     "metadata": {},
     "output_type": "execute_result"
    }
   ],
   "source": [
    "# 3.I.c) variable(periods) = LEC expression\n",
    "variables[\"ACAF\", \"1991Y1\":\"1995Y1\"] = \"t + 10\"\n",
    "variables[\"ACAF\", \"1991Y1\":\"1995Y1\"]"
   ]
  },
  {
   "cell_type": "code",
   "execution_count": 131,
   "metadata": {},
   "outputs": [
    {
     "data": {
      "text/plain": [
       "[0.0, 0.0, 0.0, 0.0, 0.0]"
      ]
     },
     "execution_count": 131,
     "metadata": {},
     "output_type": "execute_result"
    }
   ],
   "source": [
    "# 3.II) same as above but with the colon ':' inside the periods range string\n",
    "# 3.II.a) variable(periods) = same value for all periods\n",
    "variables[\"ACAF\", \"1991Y1:1995Y1\"] = 0.0\n",
    "variables[\"ACAF\", \"1991Y1:1995Y1\"]"
   ]
  },
  {
   "cell_type": "code",
   "execution_count": 132,
   "metadata": {},
   "outputs": [
    {
     "data": {
      "text/plain": [
       "[0.0, -1.0, -2.0, -3.0, -4.0]"
      ]
     },
     "execution_count": 132,
     "metadata": {},
     "output_type": "execute_result"
    }
   ],
   "source": [
    "# 3.II.b) variable(periods) = vector (list) containing a specific value for each period\n",
    "variables[\"ACAF\", \"1991Y1:1995Y1\"] = [0., -1., -2., -3., -4.]\n",
    "variables[\"ACAF\", \"1991Y1\":\"1995Y1\"]"
   ]
  },
  {
   "cell_type": "code",
   "execution_count": 133,
   "metadata": {},
   "outputs": [
    {
     "data": {
      "text/plain": [
       "[21.0, 22.0, 23.0, 24.0, 25.0]"
      ]
     },
     "execution_count": 133,
     "metadata": {},
     "output_type": "execute_result"
    }
   ],
   "source": [
    "# 3.II.c) variable(periods) = LEC expression\n",
    "variables[\"ACAF\", \"1991Y1:1995Y1\"] = \"t - 10\"\n",
    "variables[\"ACAF\", \"1991Y1:1995Y1\"]"
   ]
  },
  {
   "cell_type": "markdown",
   "metadata": {},
   "source": [
    "Delete a variable:"
   ]
  },
  {
   "cell_type": "code",
   "execution_count": 134,
   "metadata": {},
   "outputs": [
    {
     "data": {
      "text/plain": [
       "['A0', 'A1', 'A2', 'ACAF', 'ACAG', 'AOUC', 'AOUC_', 'AQC']"
      ]
     },
     "execution_count": 134,
     "metadata": {},
     "output_type": "execute_result"
    }
   ],
   "source": [
    "variables.get_names(\"A*\")"
   ]
  },
  {
   "cell_type": "code",
   "execution_count": 135,
   "metadata": {},
   "outputs": [
    {
     "data": {
      "text/plain": [
       "['A0', 'A1', 'A2', 'ACAG', 'AOUC', 'AOUC_', 'AQC']"
      ]
     },
     "execution_count": 135,
     "metadata": {},
     "output_type": "execute_result"
    }
   ],
   "source": [
    "del variables[\"ACAF\"]\n",
    "variables.get_names(\"A*\")"
   ]
  },
  {
   "cell_type": "markdown",
   "metadata": {},
   "source": [
    "Working on a subset:"
   ]
  },
  {
   "cell_type": "code",
   "execution_count": 136,
   "metadata": {},
   "outputs": [
    {
     "data": {
      "text/plain": [
       "['A0', 'A1', 'A2', 'ACAG', 'AOUC', 'AOUC_', 'AQC']"
      ]
     },
     "execution_count": 136,
     "metadata": {},
     "output_type": "execute_result"
    }
   ],
   "source": [
    "# 1) get subset\n",
    "variables_subset = variables[\"A*\"]\n",
    "variables_subset.names"
   ]
  },
  {
   "cell_type": "code",
   "execution_count": 137,
   "metadata": {},
   "outputs": [
    {
     "data": {
      "text/plain": [
       "[nan,\n",
       " nan,\n",
       " nan,\n",
       " nan,\n",
       " nan,\n",
       " nan,\n",
       " nan,\n",
       " nan,\n",
       " nan,\n",
       " nan,\n",
       " nan,\n",
       " nan,\n",
       " nan,\n",
       " nan,\n",
       " nan,\n",
       " nan,\n",
       " nan,\n",
       " nan,\n",
       " nan,\n",
       " nan,\n",
       " nan,\n",
       " nan,\n",
       " nan,\n",
       " nan,\n",
       " nan,\n",
       " nan,\n",
       " nan,\n",
       " nan,\n",
       " nan,\n",
       " nan,\n",
       " nan,\n",
       " nan,\n",
       " nan,\n",
       " nan,\n",
       " nan,\n",
       " nan,\n",
       " nan,\n",
       " nan,\n",
       " nan,\n",
       " nan,\n",
       " nan,\n",
       " nan,\n",
       " nan,\n",
       " nan,\n",
       " nan,\n",
       " nan,\n",
       " nan,\n",
       " nan,\n",
       " nan,\n",
       " nan,\n",
       " nan,\n",
       " nan,\n",
       " nan,\n",
       " nan,\n",
       " nan,\n",
       " nan]"
      ]
     },
     "execution_count": 137,
     "metadata": {},
     "output_type": "execute_result"
    }
   ],
   "source": [
    "# 2) add a variable to the subset\n",
    "variables_subset[\"A3\"] = np.nan\n",
    "variables_subset[\"A3\"]              "
   ]
  },
  {
   "cell_type": "code",
   "execution_count": 138,
   "metadata": {},
   "outputs": [
    {
     "data": {
      "text/plain": [
       "(True,\n",
       " [nan,\n",
       "  nan,\n",
       "  nan,\n",
       "  nan,\n",
       "  nan,\n",
       "  nan,\n",
       "  nan,\n",
       "  nan,\n",
       "  nan,\n",
       "  nan,\n",
       "  nan,\n",
       "  nan,\n",
       "  nan,\n",
       "  nan,\n",
       "  nan,\n",
       "  nan,\n",
       "  nan,\n",
       "  nan,\n",
       "  nan,\n",
       "  nan,\n",
       "  nan,\n",
       "  nan,\n",
       "  nan,\n",
       "  nan,\n",
       "  nan,\n",
       "  nan,\n",
       "  nan,\n",
       "  nan,\n",
       "  nan,\n",
       "  nan,\n",
       "  nan,\n",
       "  nan,\n",
       "  nan,\n",
       "  nan,\n",
       "  nan,\n",
       "  nan,\n",
       "  nan,\n",
       "  nan,\n",
       "  nan,\n",
       "  nan,\n",
       "  nan,\n",
       "  nan,\n",
       "  nan,\n",
       "  nan,\n",
       "  nan,\n",
       "  nan,\n",
       "  nan,\n",
       "  nan,\n",
       "  nan,\n",
       "  nan,\n",
       "  nan,\n",
       "  nan,\n",
       "  nan,\n",
       "  nan,\n",
       "  nan,\n",
       "  nan])"
      ]
     },
     "execution_count": 138,
     "metadata": {},
     "output_type": "execute_result"
    }
   ],
   "source": [
    "# --> new variable also appears in the global workspace\n",
    "\"A3\" in variables, variables[\"A3\"]            "
   ]
  },
  {
   "cell_type": "code",
   "execution_count": 139,
   "metadata": {},
   "outputs": [
    {
     "data": {
      "text/plain": [
       "[0.0,\n",
       " 0.0,\n",
       " 0.0,\n",
       " 0.0,\n",
       " 0.0,\n",
       " 0.0,\n",
       " 0.0,\n",
       " 0.0,\n",
       " 0.0,\n",
       " 0.0,\n",
       " 0.0,\n",
       " 0.0,\n",
       " 0.0,\n",
       " 0.0,\n",
       " 0.0,\n",
       " 0.0,\n",
       " 0.0,\n",
       " 0.0,\n",
       " 0.0,\n",
       " 0.0,\n",
       " 0.0,\n",
       " 0.0,\n",
       " 0.0,\n",
       " 0.0,\n",
       " 0.0,\n",
       " 0.0,\n",
       " 0.0,\n",
       " 0.0,\n",
       " 0.0,\n",
       " 0.0,\n",
       " 0.0,\n",
       " 0.0,\n",
       " 0.0,\n",
       " 0.0,\n",
       " 0.0,\n",
       " 0.0,\n",
       " 0.0,\n",
       " 0.0,\n",
       " 0.0,\n",
       " 0.0,\n",
       " 0.0,\n",
       " 0.0,\n",
       " 0.0,\n",
       " 0.0,\n",
       " 0.0,\n",
       " 0.0,\n",
       " 0.0,\n",
       " 0.0,\n",
       " 0.0,\n",
       " 0.0,\n",
       " 0.0,\n",
       " 0.0,\n",
       " 0.0,\n",
       " 0.0,\n",
       " 0.0,\n",
       " 0.0]"
      ]
     },
     "execution_count": 139,
     "metadata": {},
     "output_type": "execute_result"
    }
   ],
   "source": [
    "# 3) update a variable in the subset\n",
    "variables_subset[\"A3\"] = 0.0\n",
    "variables_subset[\"A3\"]              "
   ]
  },
  {
   "cell_type": "code",
   "execution_count": 140,
   "metadata": {},
   "outputs": [
    {
     "data": {
      "text/plain": [
       "[0.0,\n",
       " 0.0,\n",
       " 0.0,\n",
       " 0.0,\n",
       " 0.0,\n",
       " 0.0,\n",
       " 0.0,\n",
       " 0.0,\n",
       " 0.0,\n",
       " 0.0,\n",
       " 0.0,\n",
       " 0.0,\n",
       " 0.0,\n",
       " 0.0,\n",
       " 0.0,\n",
       " 0.0,\n",
       " 0.0,\n",
       " 0.0,\n",
       " 0.0,\n",
       " 0.0,\n",
       " 0.0,\n",
       " 0.0,\n",
       " 0.0,\n",
       " 0.0,\n",
       " 0.0,\n",
       " 0.0,\n",
       " 0.0,\n",
       " 0.0,\n",
       " 0.0,\n",
       " 0.0,\n",
       " 0.0,\n",
       " 0.0,\n",
       " 0.0,\n",
       " 0.0,\n",
       " 0.0,\n",
       " 0.0,\n",
       " 0.0,\n",
       " 0.0,\n",
       " 0.0,\n",
       " 0.0,\n",
       " 0.0,\n",
       " 0.0,\n",
       " 0.0,\n",
       " 0.0,\n",
       " 0.0,\n",
       " 0.0,\n",
       " 0.0,\n",
       " 0.0,\n",
       " 0.0,\n",
       " 0.0,\n",
       " 0.0,\n",
       " 0.0,\n",
       " 0.0,\n",
       " 0.0,\n",
       " 0.0,\n",
       " 0.0]"
      ]
     },
     "execution_count": 140,
     "metadata": {},
     "output_type": "execute_result"
    }
   ],
   "source": [
    "# --> variable is also updated in the global workspace\n",
    "variables[\"A3\"]                     "
   ]
  },
  {
   "cell_type": "code",
   "execution_count": 141,
   "metadata": {},
   "outputs": [
    {
     "data": {
      "text/plain": [
       "['DEBT',\n",
       " 'DPU',\n",
       " 'DPUF',\n",
       " 'DPUG',\n",
       " 'DPUGO',\n",
       " 'DPUH',\n",
       " 'DPUHO',\n",
       " 'DPUU',\n",
       " 'DTF',\n",
       " 'DTFX',\n",
       " 'DTH',\n",
       " 'DTH1',\n",
       " 'DTH1C',\n",
       " 'DTHX']"
      ]
     },
     "execution_count": 141,
     "metadata": {},
     "output_type": "execute_result"
    }
   ],
   "source": [
    "# delete one variable from a subset of the global database\n",
    "variables_subset = variables[\"D*\"]\n",
    "variables_subset.names"
   ]
  },
  {
   "cell_type": "code",
   "execution_count": 142,
   "metadata": {},
   "outputs": [
    {
     "data": {
      "text/plain": [
       "['DEBT',\n",
       " 'DPU',\n",
       " 'DPUF',\n",
       " 'DPUG',\n",
       " 'DPUH',\n",
       " 'DPUHO',\n",
       " 'DPUU',\n",
       " 'DTF',\n",
       " 'DTFX',\n",
       " 'DTH',\n",
       " 'DTH1',\n",
       " 'DTH1C',\n",
       " 'DTHX']"
      ]
     },
     "execution_count": 142,
     "metadata": {},
     "output_type": "execute_result"
    }
   ],
   "source": [
    "del variables_subset[\"DPUGO\"]\n",
    "variables_subset.names"
   ]
  },
  {
   "cell_type": "code",
   "execution_count": 143,
   "metadata": {},
   "outputs": [
    {
     "data": {
      "text/plain": [
       "False"
      ]
     },
     "execution_count": 143,
     "metadata": {},
     "output_type": "execute_result"
    }
   ],
   "source": [
    "# NOTE: the variable has also been deleted from the global database\n",
    "\"DPUGO\" in variables"
   ]
  },
  {
   "cell_type": "code",
   "execution_count": 144,
   "metadata": {},
   "outputs": [
    {
     "data": {
      "text/plain": [
       "['DEBT',\n",
       " 'DPU',\n",
       " 'DPUF',\n",
       " 'DPUG',\n",
       " 'DPUH',\n",
       " 'DPUHO',\n",
       " 'DPUU',\n",
       " 'DTF',\n",
       " 'DTFX',\n",
       " 'DTH',\n",
       " 'DTH1',\n",
       " 'DTH1C',\n",
       " 'DTHX']"
      ]
     },
     "execution_count": 144,
     "metadata": {},
     "output_type": "execute_result"
    }
   ],
   "source": [
    "variables.get_names(\"D*\")"
   ]
  },
  {
   "cell_type": "markdown",
   "metadata": {},
   "source": [
    "## Estimation\n",
    "\n",
    "To estimate either one equation or a block of equations, use the [Equation.estimate](../_generated/iode.Equation.estimate.rst#iode.Equation.estimate) method of the equation object."
   ]
  },
  {
   "cell_type": "code",
   "execution_count": 145,
   "metadata": {},
   "outputs": [
    {
     "name": "stdout",
     "output_type": "stream",
     "text": [
      "Help on method estimate in module iode.iode_cython:\n",
      "\n",
      "estimate(from_period: 'Union[str, Period]' = None, to_period: 'Union[str, Period]' = None, list_eqs: 'Union[str, List[str]]' = None) method of iode.iode_cython.Equations instance\n",
      "    estimate(self, from_period: Union[str, Period] = None, to_period: Union[str, Period] = None, list_eqs: Union[str, List[str]] = None)\n",
      "    \n",
      "    Estimate an equation or a block of equations.\n",
      "    \n",
      "    At the end of the estimation process, certain variables and scalars are automatically created \n",
      "    if the process has converged. These variables and scalars can be used for computational purposes and, \n",
      "    as they are part of the global workspace, can be saved for future use.\n",
      "    \n",
      "    The tests resulting from the last estimation are saved as scalars. The same applies to residuals, \n",
      "    left-hand and right-hand members of equations.\n",
      "    \n",
      "    Saved tests (as scalars) have the following names (`e<ith>_*` for the <ith> equation of the block):\n",
      "    \n",
      "        - `e<ith>_n`  : number of sample periods \n",
      "        - `e<ith>_k`  : number of estimated coefficients \n",
      "        - `e<ith>_stdev` : std dev of residuals \n",
      "        - `e<ith>_meany` : mean of Y \n",
      "        - `e<ith>_ssres` : sum of squares of residuals \n",
      "        - `e<ith>_stderr` : std error \n",
      "        - `e<ith>_stderrp` : std error percent (in %) \n",
      "        - `e<ith>_fstat` : F-Stat \n",
      "        - `e<ith>_r2`  : R square \n",
      "        - `e<ith>_r2adj`  : adjusted R-squared \n",
      "        - `e<ith>_dw` : Durbin-Watson \n",
      "        - `e<ith>_loglik`  : Log Likelihood \n",
      "    \n",
      "    Calculated series are saved in special variables:\n",
      "    \n",
      "        - `_YCALC<i>` : right-hand side of the <ith> equation in the block\n",
      "        - `_YOBS<i>` : left-hand side of the <ith> equation in the block \n",
      "        - `_YRES<i>` : residuals of the <ith> equation of the block \n",
      "    \n",
      "    Outside the estimation sample, the series values are :math:`NA`.\n",
      "    \n",
      "    Parameters\n",
      "    ----------\n",
      "    from_period : str or Period, optional\n",
      "        The starting period of the execution range. \n",
      "        Defaults to the starting period of the current Variables sample.\n",
      "    to_period : str or Period, optional\n",
      "        The ending period of the execution range.\n",
      "        Defaults to the ending period of the current Variables sample.\n",
      "    list_eqs: str or list(str), optional\n",
      "        List of equations to be estimated. \n",
      "        If not provided, all equations of the present Equations database will be estimated.\n",
      "        Default to None (all equations).\n",
      "    \n",
      "    Warnings\n",
      "    --------\n",
      "    If some equations to be estimated belongs to a same block, the *block* (:meth:`Equation.block`), \n",
      "    *method* (:meth:`Equation.method`), and *instruments* (':meth:`Equation.instruments`) of each of \n",
      "    them must have been updated before.\n",
      "    \n",
      "    Examples\n",
      "    --------\n",
      "    >>> from iode import SAMPLE_DATA_DIR, equations, scalars, variables\n",
      "    >>> equations.load(f\"{SAMPLE_DATA_DIR}/fun.eqs\")        # doctest: +ELLIPSIS, +NORMALIZE_WHITESPACE\n",
      "    Loading .../fun.eqs\n",
      "    274 objects loaded \n",
      "    >>> variables.load(f\"{SAMPLE_DATA_DIR}/fun.var\")        # doctest: +ELLIPSIS, +NORMALIZE_WHITESPACE\n",
      "    Loading .../fun.var\n",
      "    394 objects loaded\n",
      "    \n",
      "    >>> equations[\"ACAF\"].lec\n",
      "    '(ACAF/VAF[-1]) :=acaf1+acaf2*GOSF[-1]+\\nacaf4*(TIME=1995)'\n",
      "    >>> equations[\"DPUH\"].lec\n",
      "    'dln (DPUH/DPUHO):=dpuh_1+dpuh_2*dln(IHU/PI5)+dln PC'\n",
      "    \n",
      "    >>> # create scalars\n",
      "    >>> scalars[\"acaf1\"] = 0., 1.\n",
      "    >>> scalars[\"acaf2\"] = 0., 1.\n",
      "    >>> scalars[\"acaf4\"] = 0., 1.\n",
      "    >>> scalars[\"dpuh_1\"] = 0., 1.\n",
      "    >>> scalars[\"dpuh_2\"] = 0., 1.\n",
      "    \n",
      "    >>> # estimate an equation\n",
      "    >>> equations.estimate(\"1980Y1\", \"1996Y1\", \"ACAF\")      # doctest: +ELLIPSIS, +NORMALIZE_WHITESPACE\n",
      "    Estimating : iteration 1 (||eps|| = 0.173205)\n",
      "    <BLANKLINE>\n",
      "    Estimating : iteration 2 (||eps|| = 5.16075e-09)\n",
      "    <BLANKLINE>\n",
      "    Solution reached after 2 iteration(s). Creating results file ...\n",
      "    <BLANKLINE>\n",
      "    >>> # or equivalenty\n",
      "    >>> equations[\"ACAF\"].estimate(\"1980Y1\", \"1996Y1\")      # doctest: +ELLIPSIS, +NORMALIZE_WHITESPACE\n",
      "    Estimating : iteration 1 (||eps|| = 7.05003e-13)\n",
      "    <BLANKLINE>\n",
      "    Solution reached after 1 iteration(s). Creating results file ...\n",
      "    <BLANKLINE>\n",
      "    >>> scalars[\"acaf1\"]\n",
      "    Scalar(0.0157705, 1, 0.00136949)\n",
      "    >>> scalars[\"acaf2\"]\n",
      "    Scalar(-7.96505e-06, 1, 1.48247e-06)\n",
      "    >>> scalars[\"acaf4\"]\n",
      "    Scalar(-0.0085027, 1, 0.00208257)\n",
      "    >>> scalars[\"dpuh_1\"]\n",
      "    Scalar(0, 1, na)\n",
      "    >>> scalars[\"dpuh_2\"]\n",
      "    Scalar(0, 1, na)\n",
      "    \n",
      "    >>> # estimate a block\n",
      "    >>> # prepare equations (same block and method)\n",
      "    >>> block = \"ACAF;DPUH\"\n",
      "    >>> for name in block.split(\";\"):\n",
      "    ...     equations[name] = {\"block\": block, \"method\": \"LSQ\"}\n",
      "    >>> equations.estimate(\"1980Y1\", \"1996Y1\", block)           # doctest: +ELLIPSIS, +NORMALIZE_WHITESPACE\n",
      "    Estimating : iteration 1 (||eps|| = 0.141421)\n",
      "    <BLANKLINE>\n",
      "    Estimating : iteration 2 (||eps|| = 1.522e-12)\n",
      "    <BLANKLINE>\n",
      "    Solution reached after 2 iteration(s). Creating results file ...\n",
      "    <BLANKLINE>\n",
      "    Estimating : iteration 1 (||eps|| = 4.34603e-12)\n",
      "    <BLANKLINE>\n",
      "    Solution reached after 1 iteration(s). Creating results file ...\n",
      "    <BLANKLINE>\n",
      "    >>> scalars[\"acaf1\"]\n",
      "    Scalar(0.0157705, 1, 0.00136079)\n",
      "    >>> scalars[\"acaf2\"]\n",
      "    Scalar(-7.96505e-06, 1, 1.47188e-06)\n",
      "    >>> scalars[\"acaf4\"]\n",
      "    Scalar(-0.0085027, 1, 0.00206603)\n",
      "    >>> scalars[\"dpuh_1\"]\n",
      "    Scalar(0.0109855, 1, 0.00481857)\n",
      "    >>> scalars[\"dpuh_2\"]\n",
      "    Scalar(0.0574893, 1, 0.0368951)\n",
      "\n"
     ]
    }
   ],
   "source": [
    "help(equations.estimate)"
   ]
  },
  {
   "cell_type": "markdown",
   "metadata": {},
   "source": [
    "Let's start by reloading all workspaces:"
   ]
  },
  {
   "cell_type": "code",
   "execution_count": 146,
   "metadata": {},
   "outputs": [
    {
     "name": "stdout",
     "output_type": "stream",
     "text": [
      "Loading C:\\soft\\Miniconda3\\Lib\\site-packages\\iode\\tests\\data/fun.cmt\n",
      "317 objects loaded\n",
      "Loading C:\\soft\\Miniconda3\\Lib\\site-packages\\iode\\tests\\data/fun.eqs\n",
      "274 objects loaded\n",
      "Loading C:\\soft\\Miniconda3\\Lib\\site-packages\\iode\\tests\\data/fun.idt\n",
      "48 objects loaded\n",
      "Loading C:\\soft\\Miniconda3\\Lib\\site-packages\\iode\\tests\\data/fun.lst\n",
      "17 objects loaded\n",
      "Loading C:\\soft\\Miniconda3\\Lib\\site-packages\\iode\\tests\\data/fun.scl\n",
      "161 objects loaded\n",
      "Loading C:\\soft\\Miniconda3\\Lib\\site-packages\\iode\\tests\\data/fun.tbl\n",
      "46 objects loaded\n",
      "Loading C:\\soft\\Miniconda3\\Lib\\site-packages\\iode\\tests\\data/fun.var\n",
      "394 objects loaded\n"
     ]
    }
   ],
   "source": [
    "comments.load(f\"{SAMPLE_DATA_DIR}/fun.cmt\")\n",
    "equations.load(f\"{SAMPLE_DATA_DIR}/fun.eqs\")\n",
    "identities.load(f\"{SAMPLE_DATA_DIR}/fun.idt\")\n",
    "lists.load(f\"{SAMPLE_DATA_DIR}/fun.lst\")\n",
    "scalars.load(f\"{SAMPLE_DATA_DIR}/fun.scl\")\n",
    "tables.load(f\"{SAMPLE_DATA_DIR}/fun.tbl\")\n",
    "variables.load(f\"{SAMPLE_DATA_DIR}/fun.var\")"
   ]
  },
  {
   "cell_type": "markdown",
   "metadata": {},
   "source": [
    "Example for one equation:"
   ]
  },
  {
   "cell_type": "code",
   "execution_count": 147,
   "metadata": {},
   "outputs": [
    {
     "name": "stdout",
     "output_type": "stream",
     "text": [
      "ACAF equation LEC: (ACAF/VAF[-1]) :=acaf1+acaf2*GOSF[-1]+\n",
      "acaf4*(TIME=1995)\n",
      "ACAF equations coefficients (= scalars): ['acaf1', 'acaf2', 'acaf4']\n",
      "ACAF equations variables: ['ACAF', 'VAF', 'GOSF', 'TIME']\n",
      "scalars names in scalars_copy: ['acaf1', 'acaf2', 'acaf4']\n",
      "Estimating : iteration 1 (||eps|| = 0.173205)\n",
      "\n",
      "Estimating : iteration 2 (||eps|| = 5.16075e-09)\n",
      "\n",
      "Solution reached after 2 iteration(s). Creating results file ...\n",
      "\n",
      "Estimating : iteration 1 (||eps|| = 7.05003e-13)\n",
      "\n",
      "Solution reached after 1 iteration(s). Creating results file ...\n",
      "\n",
      "Resulting values for the coefficient 'acaf1': Scalar(0.0157705, 1, 0.00136949)\n",
      "Resulting values for the coefficient 'acaf2': Scalar(-7.96505e-06, 1, 1.48247e-06)\n",
      "Resulting values for the coefficient 'acaf4': Scalar(-0.0085027, 1, 0.00208257)\n"
     ]
    }
   ],
   "source": [
    "# ---- estimate coefficients of one equation ----\n",
    "print(f\"ACAF equation LEC: {equations['ACAF'].lec}\")\n",
    "print(f\"ACAF equations coefficients (= scalars): {equations['ACAF'].coefficients}\")\n",
    "print(f\"ACAF equations variables: {equations['ACAF'].variables}\")\n",
    "\n",
    "# copy the original values of the coefficients into an isolated scalars workspace\n",
    "# Useful to restore the original values if the estimation process didn't go well\n",
    "scalars_copy = scalars[equations['ACAF'].coefficients].copy()\n",
    "print(f\"scalars names in scalars_copy: {scalars_copy.names}\")\n",
    "\n",
    "# reset scalars\n",
    "for name in equations['ACAF'].coefficients:\n",
    "    scalars[name] = 0., 1.\n",
    "\n",
    "# estimate the 'ACAF' equation for the periods ranging from '1980Y1' to '1996Y1'\n",
    "equations.estimate(\"1980Y1\", \"1996Y1\", \"ACAF\")\n",
    "# or equivalently\n",
    "equations[\"ACAF\"].estimate(\"1980Y1\", \"1996Y1\")\n",
    "\n",
    "print(f\"Resulting values for the coefficient 'acaf1': {scalars['acaf1']}\")\n",
    "print(f\"Resulting values for the coefficient 'acaf2': {scalars['acaf2']}\")\n",
    "print(f\"Resulting values for the coefficient 'acaf4': {scalars['acaf4']}\")"
   ]
  },
  {
   "cell_type": "markdown",
   "metadata": {},
   "source": [
    "Example for a block of equations:"
   ]
  },
  {
   "cell_type": "code",
   "execution_count": 148,
   "metadata": {},
   "outputs": [
    {
     "name": "stdout",
     "output_type": "stream",
     "text": [
      "ACAF equation LEC: (ACAF/VAF[-1]) :=acaf1+acaf2*GOSF[-1]+\n",
      "acaf4*(TIME=1995)\n",
      "ACAF equations coefficients (= scalars): ['acaf1', 'acaf2', 'acaf4']\n",
      "ACAF equations variables: ['ACAF', 'VAF', 'GOSF', 'TIME']\n",
      "DPUH equation LEC: dln (DPUH/DPUHO):=dpuh_1+dpuh_2*dln(IHU/PI5)+dln PC\n",
      "DPUH equations coefficients (= scalars): ['dpuh_1', 'dpuh_2']\n",
      "DPUH equations variables: ['DPUH', 'DPUHO', 'IHU', 'PI5', 'PC']\n",
      "scalars names in scalars_copy: ['acaf1', 'acaf2', 'acaf4', 'dpuh_1', 'dpuh_2']\n",
      "Estimating : iteration 1 (||eps|| = 0.223607)\n",
      "\n",
      "Estimating : iteration 2 (||eps|| = 5.16075e-09)\n",
      "\n",
      "Solution reached after 2 iteration(s). Creating results file ...\n",
      "\n",
      "Estimating : iteration 1 (||eps|| = 4.38565e-12)\n",
      "\n",
      "Solution reached after 1 iteration(s). Creating results file ...\n",
      "\n",
      "Resulting values for the coefficient 'acaf1': Scalar(0.0157705, 1, 0.00136079)\n",
      "Resulting values for the coefficient 'acaf2': Scalar(-7.96505e-06, 1, 1.47188e-06)\n",
      "Resulting values for the coefficient 'acaf4': Scalar(-0.0085027, 1, 0.00206603)\n",
      "Resulting values for the coefficient 'dpuh_1': Scalar(0.0109855, 1, 0.00481857)\n",
      "Resulting values for the coefficient 'dpuh_2': Scalar(0.0574893, 1, 0.0368951)\n"
     ]
    }
   ],
   "source": [
    "# ---- estimate a block of equations ----\n",
    "print(f\"ACAF equation LEC: {equations['ACAF'].lec}\")\n",
    "print(f\"ACAF equations coefficients (= scalars): {equations['ACAF'].coefficients}\")\n",
    "print(f\"ACAF equations variables: {equations['ACAF'].variables}\")\n",
    "print(f\"DPUH equation LEC: {equations['DPUH'].lec}\")\n",
    "print(f\"DPUH equations coefficients (= scalars): {equations['DPUH'].coefficients}\")\n",
    "print(f\"DPUH equations variables: {equations['DPUH'].variables}\")\n",
    "\n",
    "# copy the original values of the coefficients into an isolated scalars workspace\n",
    "# Useful to restore the original values if the estimation process didn't go well\n",
    "scalars_names = equations['ACAF'].coefficients + equations['DPUH'].coefficients\n",
    "scalars_names = list(set(scalars_names))   # removed duplicates\n",
    "scalars_copy = scalars[scalars_names].copy()\n",
    "print(f\"scalars names in scalars_copy: {scalars_copy.names}\")\n",
    "\n",
    "# reset scalars\n",
    "for name in equations['ACAF'].coefficients:\n",
    "    scalars[name] = 0., 1.\n",
    "for name in equations['DPUH'].coefficients:\n",
    "    scalars[name] = 0., 1.\n",
    "\n",
    "# prepare equations (same block and method)\n",
    "block = \"ACAF;DPUH\"\n",
    "for name in block.split(\";\"):\n",
    "    equations[name] = {\"block\": block, \"method\": \"LSQ\"}\n",
    "\n",
    "# estimation the block 'ACAF;DPUH' for the periods ranging from '1980Y1' to '1996Y1'\n",
    "equations.estimate(\"1980Y1\", \"1996Y1\", block)\n",
    "\n",
    "print(f\"Resulting values for the coefficient 'acaf1': {scalars['acaf1']}\")\n",
    "print(f\"Resulting values for the coefficient 'acaf2': {scalars['acaf2']}\")\n",
    "print(f\"Resulting values for the coefficient 'acaf4': {scalars['acaf4']}\")\n",
    "print(f\"Resulting values for the coefficient 'dpuh_1': {scalars['dpuh_1']}\")\n",
    "print(f\"Resulting values for the coefficient 'dpuh_2': {scalars['dpuh_2']}\")"
   ]
  },
  {
   "cell_type": "markdown",
   "metadata": {},
   "source": [
    "## Simulation\n",
    "\n",
    "To simulate a model, you must create and initialize an instance of the [Simulation](../_generated/iode.Simulation.rst#iode.Simulation) class:"
   ]
  },
  {
   "cell_type": "code",
   "execution_count": 149,
   "metadata": {},
   "outputs": [
    {
     "name": "stdout",
     "output_type": "stream",
     "text": [
      "Help on class Simulation in module iode.iode_cython:\n",
      "\n",
      "class Simulation(builtins.object)\n",
      " |  Class for simulate models.\n",
      " |  \n",
      " |  Models\n",
      " |  ~~~~~~\n",
      " |  \n",
      " |  IN IODE, a model is simply a list of equations. No other construction is necessary: in this way, \n",
      " |  to modify a model, the only thing to do is to modify the list that defines it. \n",
      " |  For example, if a model is logically divided into 5 blocks, 5 lists of equations will be defined:: \n",
      " |  \n",
      " |      BLOC1 : A, B, C, D\n",
      " |      BLOC2 : X, Y\n",
      " |      BLOC3 : C1, C2, C3, C4\n",
      " |      BLOC4 : X_A1, X_A2, X_A3\n",
      " |      BLOC5 : R1, R2, R3, S_12\n",
      " |      MODSIM : $BLOC1, $BLOC2, $BLOC3, $BLOC4, $BLOC5\n",
      " |  \n",
      " |  To simulate a model, all equations of the model must have been loaded or created. In addition, \n",
      " |  all the variables and scalars used in the model equations must have been loaded or created. \n",
      " |  Values of exogenous variables and of scalar cannot be :math:`NA` (*Not Available*) over the \n",
      " |  simulation periods.\n",
      " |  \n",
      " |  Exchange Endo-Exo\n",
      " |  ~~~~~~~~~~~~~~~~~\n",
      " |  \n",
      " |  It is possible to set endogenous-exogenous pairs for ``goal seeking``. \n",
      " |  For each pair, the status of the variables is exchanged: endogenous becomes exogenous and vice versa. \n",
      " |  This enables the model to be run through known endogenous values and to deduce the necessary values \n",
      " |  for the associated exogenous variables. The exogenous variables take on the value calculated over the entire \n",
      " |  workspace period.\n",
      " |  See the method :meth:`Simulation.model_exchange`.\n",
      " |  \n",
      " |  Newton-Raphson Algorithm\n",
      " |  ~~~~~~~~~~~~~~~~~~~~~~~~\n",
      " |  \n",
      " |  When an equation is not explicitly defined in terms of its endogen, or when the endogen appears several times \n",
      " |  in the equation, the simulation algorithm tries to solve the equation using a Newton method. \n",
      " |  If this method fails, a secant method is used to find a solution to the equation. \n",
      " |  However, there is no guarantee that a solution will be found in every case. \n",
      " |  Non-continuous functions (singularities) such as:\n",
      " |  \n",
      " |  .. math::`X = a + \\frac{b}{X + 1}`\n",
      " |  \n",
      " |  may be impossible to solve around their singular point. For this type of problem, the only solution is to modify \n",
      " |  the form of the equation:\n",
      " |  \n",
      " |  .. math::`(X - a) * (X + 1) = b`\n",
      " |  \n",
      " |  Warnings\n",
      " |  --------\n",
      " |  - As the endogenous variable of an equation carries the name of the equation, it is not possible to place \n",
      " |    in a model two equations with the same endogenous variable.\n",
      " |  - The order in which equations are introduced in the lists can influence the behavior of the simulation algorithm. \n",
      " |    As this is a Gauss-Seidel algorithm, the information calculated is used directly in the rest of the calculation. \n",
      " |    If `X` depends on `Y`, it's better to place `Y` before `X` in the list of equations.\n",
      " |  \n",
      " |  Attributes\n",
      " |  ----------\n",
      " |  convergence_threshold: float\n",
      " |      Convergence threshold below which the simulation results are considered enough close \n",
      " |      to the true solution for the current period. \n",
      " |      Default to 0.001.\n",
      " |  relax: float\n",
      " |      Relaxation parameter (\"damping\").\n",
      " |      Its value must be in the range [0.1, 1.0].\n",
      " |      Default to 1.0\n",
      " |  max_nb_iterations: int\n",
      " |      Maximum number of iterations to reach a solution. If, after the specified maximum number \n",
      " |      of iterations, the model has not converged, the process stops with an error message. \n",
      " |      This parameter prevents the process from looping indefinitely.  \n",
      " |      Default to 100.\n",
      " |  sort_algorithm: SimulationSort\n",
      " |      Sorting algorithm used to reorganized the list of equations *before* the simulation is performed.\n",
      " |      This reorganization can be usefully to to speed up the simulation.\n",
      " |      Possible values are:\n",
      " |          - NONE: do not use any sorting algorithm\n",
      " |          - CONNEX: use the *Strongly Connected Component (SCC)* method only\n",
      " |          - BOTH: use both the *SCC* and the *Pseudo-triangulation* methods\n",
      " |      Default to BOTH.\n",
      " |  initialization_method: SimulationInitialization\n",
      " |      At the start of each period to be simulated, a starting value must be chosen for each endogenous variable. \n",
      " |      Possible values are:\n",
      " |          - TM1: :math:`Y := Y[-1], if Y null or NA`\n",
      " |          - TM1_A: :math:`Y := Y[-1], always`\n",
      " |          - EXTRA: :math:`Y := extrapolation, if Y null or NA`\n",
      " |          - EXTRA_A: :math:`Y := extrapolation, always`\n",
      " |          - ASIS: :math:`Y unchanged`\n",
      " |          - TM1_NA: :math:`Y := Y[-1], if Y = NA`\n",
      " |          - EXTRA_NA: :math:`Y := extrapolation, if Y = NA`\n",
      " |      Default to TM1.\n",
      " |  debug: bool\n",
      " |      Option to automatically generates IODE lists containing pre- and post-recursive equations: \n",
      " |      `_PRE`, `_INTER` and `_POST`.\n",
      " |      Default to False.\n",
      " |  nb_passes: int\n",
      " |      Number of passes to make when the pseudo-triangulation sorting algorithm is used.\n",
      " |      Default to 5.\n",
      " |  debug_newton: bool\n",
      " |      Save a trace of the sub-iterations when the Newton-Raphson alogrithm is used.\n",
      " |      Default to False.\n",
      " |  \n",
      " |  Examples\n",
      " |  --------\n",
      " |  >>> from iode import SAMPLE_DATA_DIR, equations, scalars, variables \n",
      " |  >>> from iode import Simulation\n",
      " |  >>> equations.load(f\"{SAMPLE_DATA_DIR}/fun.eqs\")        # doctest: +ELLIPSIS, +NORMALIZE_WHITESPACE\n",
      " |  Loading .../fun.eqs\n",
      " |  274 objects loaded \n",
      " |  >>> scalars.load(f\"{SAMPLE_DATA_DIR}/fun.scl\")          # doctest: +ELLIPSIS, +NORMALIZE_WHITESPACE\n",
      " |  Loading .../fun.scl\n",
      " |  161 objects loaded \n",
      " |  >>> variables.load(f\"{SAMPLE_DATA_DIR}/fun.var\")        # doctest: +ELLIPSIS, +NORMALIZE_WHITESPACE\n",
      " |  Loading .../fun.var\n",
      " |  394 objects loaded\n",
      " |  \n",
      " |  >>> simu = Simulation()\n",
      " |  >>> simu.convergence_threshold\n",
      " |  0.001\n",
      " |  >>> simu.relax\n",
      " |  1.0\n",
      " |  >>> simu.max_nb_iterations\n",
      " |  100\n",
      " |  >>> simu.sort_algorithm\n",
      " |  'BOTH (Connex compon. + Triangulation)'\n",
      " |  >>> simu.initialization_method\n",
      " |  'TM1 (Y := Y[-1], if Y null or NA)'\n",
      " |  >>> simu.debug\n",
      " |  False\n",
      " |  >>> simu.nb_passes\n",
      " |  5\n",
      " |  >>> simu.debug_newton\n",
      " |  False\n",
      " |  \n",
      " |  Methods defined here:\n",
      " |  \n",
      " |  __reduce__ = __reduce_cython__(...)\n",
      " |      __reduce_cython__(self)\n",
      " |  \n",
      " |  __setstate__ = __setstate_cython__(...)\n",
      " |      __setstate_cython__(self, __pyx_state)\n",
      " |  \n",
      " |  model_calculate_SCC(self, nb_iterations: 'int', pre_name: 'str' = '_PRE', inter_name: 'str' = '_INTER', post_name: 'str' = '_POST', list_eqs: 'Union[str, List[str]]' = None)\n",
      " |      model_calculate_SCC(self, nb_iterations: int, pre_name: str = u'_PRE', inter_name: str = u'_INTER', post_name: str = u'_POST', list_eqs: Union[str, List[str]] = None)\n",
      " |      \n",
      " |      Decompose the model into Strongly Connex Components (SCC) and reorder it. \n",
      " |      \n",
      " |      Three lists are created: pre-recursive, interdependent and post-recursive equations.\n",
      " |      When reordering the model, the number of triangulation iterations for the interdependent \n",
      " |      block must be specified. This value only affects the list of interdependent equations.\n",
      " |      These 3 lists only need to be constructed once for a given model.\n",
      " |      \n",
      " |      Parameters\n",
      " |      ----------\n",
      " |      nb_iterations : int\n",
      " |          Number of triangulation iterations to be performed. \n",
      " |      pre_name : str, optional\n",
      " |          Name of the list representing the pre-recursive equations.\n",
      " |          Default to \"_PRE\".\n",
      " |      inter_name : str, optional\n",
      " |          Name of the list representing the interdependent equations. \n",
      " |          Default to \"_INTER\".\n",
      " |      post_name : str, optional\n",
      " |          Name of the list representing the post-recursive equations.\n",
      " |          Default to \"_POST\".\n",
      " |      list_eqs : str or list(str), optional\n",
      " |          List of equations representing the model.\n",
      " |          Default to empty (all equations).\n",
      " |      \n",
      " |      Examples\n",
      " |      --------\n",
      " |      >>> from iode import SAMPLE_DATA_DIR, equations, lists, scalars, variables \n",
      " |      >>> from iode import Simulation\n",
      " |      >>> equations.load(f\"{SAMPLE_DATA_DIR}/fun.eqs\")        # doctest: +ELLIPSIS, +NORMALIZE_WHITESPACE\n",
      " |      Loading .../fun.eqs\n",
      " |      274 objects loaded \n",
      " |      >>> lists.load(f\"{SAMPLE_DATA_DIR}/fun.lst\")            # doctest: +ELLIPSIS, +NORMALIZE_WHITESPACE\n",
      " |      Loading .../fun.lst\n",
      " |      17 objects loaded \n",
      " |      >>> scalars.load(f\"{SAMPLE_DATA_DIR}/fun.scl\")          # doctest: +ELLIPSIS, +NORMALIZE_WHITESPACE\n",
      " |      Loading .../fun.scl\n",
      " |      161 objects loaded \n",
      " |      >>> variables.load(f\"{SAMPLE_DATA_DIR}/fun.var\")        # doctest: +ELLIPSIS, +NORMALIZE_WHITESPACE\n",
      " |      Loading .../fun.var\n",
      " |      394 objects loaded\n",
      " |      \n",
      " |      >>> simu = Simulation()\n",
      " |      >>> simu.model_calculate_SCC(10)        # doctest: +ELLIPSIS, +NORMALIZE_WHITESPACE\n",
      " |      Pseudo-linking equations ....\n",
      " |      Calculating SCC...\n",
      " |      Calculating SCC... -> #PRE 31 - #INTER 204 - #POST 39\n",
      " |      Reordering interdependent block...\n",
      " |      Reordering interdependent block...\n",
      " |      >>> lists[\"_PRE\"]           # doctest: +ELLIPSIS\n",
      " |      ['BRUGP', 'DTH1C', 'EX', 'ITCEE', ..., 'DTH1', 'PME', 'PMS', 'PMT']\n",
      " |      >>> len(lists[\"_PRE\"])\n",
      " |      31\n",
      " |      \n",
      " |      >>> lists[\"_INTER\"]         # doctest: +ELLIPSIS\n",
      " |      ['PMAB', 'PXAB', 'ULCP', 'SSH3P', ..., 'WCF_', 'ITEP', 'EXC', 'ITT']\n",
      " |      >>> len(lists[\"_INTER\"])\n",
      " |      204\n",
      " |      \n",
      " |      >>> lists[\"_POST\"]          # doctest: +ELLIPSIS\n",
      " |      ['IFU', 'SSHFF', 'PBBP', 'OCUF', ..., 'FLGR', 'FLF', 'DPUU', 'BENEF']\n",
      " |      >>> len(lists[\"_POST\"])\n",
      " |      39\n",
      " |  \n",
      " |  model_compile(self, list_eqs: 'Union[str, List[str]]' = None)\n",
      " |      model_compile(self, list_eqs: Union[str, List[str]] = None)\n",
      " |      \n",
      " |      Recompiles a list of equations, or all equations if no list is specified. \n",
      " |      It is only useful if (the list of) equations contain macros in their LEC form (like $list).\n",
      " |      \n",
      " |      The set of equations stored in memory are made up of several elements: the LEC form, \n",
      " |      the estimation inputs and the **compiled form** of the equation. If the LEC form \n",
      " |      contains macros, the **compiled form** may no longer correspond to the LEC form.\n",
      " |      This can happen when a new list file is loaded into memory, when a list is manually \n",
      " |      modified or copied from disk, or when an equation file is loaded into memory.\n",
      " |      \n",
      " |      Parameters\n",
      " |      ----------\n",
      " |      list_eqs : str or list(str), optional\n",
      " |          List of equations to recompile. \n",
      " |          Default to empty (recompile all equations).\n",
      " |  \n",
      " |  model_exchange(self, list_exo: 'Union[str, List[str]]' = None)\n",
      " |      model_exchange(self, list_exo: Union[str, List[str]] = None)\n",
      " |      \n",
      " |      Set a list of endogenous-exogenous pairs for ``goal seeking``. \n",
      " |      For each pair, the status of the variables is exchanged: endogenous becomes exogenous and vice versa. \n",
      " |      This enables the model to be run through known endogenous values and to deduce the necessary values \n",
      " |      for the associated exogenous variables. The exogenous variables take on the value calculated over the entire \n",
      " |      workspace period.\n",
      " |      \n",
      " |      Parameters\n",
      " |      ----------\n",
      " |      list_exo : str or list(str)\n",
      " |          List of endogenous-exogenous pairs. \n",
      " |          Each pair must be written as `endogenous_name-exogenous_name`.\n",
      " |          If the passed list is empty, the internal list of endogenous-exogenous pairs is reset.\n",
      " |          Default to None (empty).\n",
      " |      \n",
      " |      Examples\n",
      " |      --------\n",
      " |      >>> from iode import SAMPLE_DATA_DIR, equations, identities, scalars, variables \n",
      " |      >>> from iode import Simulation\n",
      " |      >>> equations.load(f\"{SAMPLE_DATA_DIR}/fun.eqs\")        # doctest: +ELLIPSIS, +NORMALIZE_WHITESPACE\n",
      " |      Loading .../fun.eqs\n",
      " |      274 objects loaded \n",
      " |      >>> identities.load(f\"{SAMPLE_DATA_DIR}/fun.idt\")       # doctest: +ELLIPSIS, +NORMALIZE_WHITESPACE\n",
      " |      Loading .../fun.idt\n",
      " |      48 objects loaded \n",
      " |      >>> scalars.load(f\"{SAMPLE_DATA_DIR}/fun.scl\")          # doctest: +ELLIPSIS, +NORMALIZE_WHITESPACE\n",
      " |      Loading .../fun.scl\n",
      " |      161 objects loaded \n",
      " |      >>> variables.load(f\"{SAMPLE_DATA_DIR}/fun.var\")        # doctest: +ELLIPSIS, +NORMALIZE_WHITESPACE\n",
      " |      Loading .../fun.var\n",
      " |      394 objects loaded\n",
      " |      \n",
      " |      >>> equations[\"UY\"].lec\n",
      " |      'UY := NATY-NDOMY-NIY-NGY-(EFXY-EFMY)-NFY'\n",
      " |      >>> identities[\"XNATY\"]\n",
      " |      Identity('grt NATY')\n",
      " |      >>> # endogenous variable\n",
      " |      >>> variables[\"XNATY\", \"2000Y1:2015Y1\"]     # doctest: +ELLIPSIS\n",
      " |      [0.22, 0.699999988079071, 0.4, 0.7, ..., -0.20000000298023224, -0.20000000298023224]\n",
      " |      >>> # reset exogeneous variable\n",
      " |      >>> variables[\"UY\", \"2000Y1:2015Y1\"] = 0.0\n",
      " |      >>> variables[\"UY\", \"2000Y1:2015Y1\"]    # doctest: +ELLIPSIS\n",
      " |      [0.0, 0.0, ..., 0.0, 0.0]\n",
      " |      \n",
      " |      >>> simu = Simulation()\n",
      " |      >>> simu.model_simulate(\"2000Y1\", \"2015Y1\")     # doctest: +ELLIPSIS, +NORMALIZE_WHITESPACE\n",
      " |      Linking equations ....\n",
      " |      Calculating SCC...\n",
      " |      Calculating SCC... -> #PRE 31 - #INTER 204 - #POST 39\n",
      " |      Reordering interdependent block...\n",
      " |      Reordering interdependent block...\n",
      " |      2000Y1: 1 iters - error =    1.342 - cpu=0ms\n",
      " |      2000Y1: 2 iters - error =   0.4115 - cpu=0ms\n",
      " |      2000Y1: 3 iters - error =   0.5272 - cpu=0ms\n",
      " |      ...\n",
      " |      2015Y1: 19 iters - error =  0.00267 - cpu=0ms\n",
      " |      2015Y1: 20 iters - error =  0.00141 - cpu=0ms\n",
      " |      2015Y1: 21 iters - error = 0.0006749 - cpu=0ms\n",
      " |      >>> # endogenous variable (unchanged)\n",
      " |      >>> variables[\"XNATY\", \"2000Y1:2015Y1\"]     # doctest: +ELLIPSIS\n",
      " |      [0.22, 0.699999988079071, 0.4, 0.7, ..., -0.20000000298023224, -0.20000000298023224]\n",
      " |      >>> # exogeneous variable\n",
      " |      >>> variables[\"UY\", \"2000Y1:2015Y1\"]         # doctest: +ELLIPSIS\n",
      " |      [624.1781881798956, 645.0542977503601, 661.6074127102179, ..., 525.1258272992568]\n",
      " |      \n",
      " |      >>> # exchange UY and XNATY\n",
      " |      >>> simu.model_exchange(\"UY-XNATY\")\n",
      " |      >>> # update endogenous variable (now UY)\n",
      " |      >>> variables[\"UY\", \"2000Y1:2002Y1\"] = [630.0, 650.0, 670.0]\n",
      " |      >>> # rerun simulation\n",
      " |      >>> simu.model_simulate(\"2000Y1\", \"2015Y1\")     # doctest: +ELLIPSIS, +NORMALIZE_WHITESPACE\n",
      " |      Linking equations ....\n",
      " |      Calculating SCC...\n",
      " |      Calculating SCC... -> #PRE 30 - #INTER 204 - #POST 40\n",
      " |      Reordering interdependent block...\n",
      " |      Reordering interdependent block...\n",
      " |      2000Y1: 1 iters - error =  0.09305 - cpu=0ms\n",
      " |      2000Y1: 2 iters - error = 0.001205 - cpu=0ms\n",
      " |      2000Y1: 3 iters - error =  0.00138 - cpu=0ms\n",
      " |      ...\n",
      " |      2015Y1: 23 iters - error = 0.001306 - cpu=0ms\n",
      " |      2015Y1: 24 iters - error = 0.001463 - cpu=0ms\n",
      " |      2015Y1: 25 iters - error = 0.0007763 - cpu=0ms\n",
      " |      >>> # exogeneous variable (now XNATY)\n",
      " |      >>> variables[\"XNATY\", \"2000Y1:2015Y1\"]     # doctest: +ELLIPSIS\n",
      " |      [0.3508274950028535, 0.6702440874066322, 0.5092369210188463, ..., -0.19926923081414763]\n",
      " |  \n",
      " |  model_simulate(self, from_period: 'Union[str, Period]', to_period: 'Union[str, Period]', list_eqs: 'Union[str, List[str]]' = None)\n",
      " |      model_simulate(self, from_period: Union[str, Period], to_period: Union[str, Period], list_eqs: Union[str, List[str]] = None)\n",
      " |      \n",
      " |      Run the simulation of a model for a given sample.\n",
      " |      \n",
      " |      To simulate a model, all equations of the model must have been loaded or created. In addition, \n",
      " |      all the variables and scalars used in the model equations must have been loaded or created. \n",
      " |      Values of exogenous variables and of scalar cannot be :math:`NA` (*Not Available*) over the \n",
      " |      simulation sample.\n",
      " |      \n",
      " |      Parameters\n",
      " |      ----------\n",
      " |      from_period : str or Period\n",
      " |          The starting period for the simulation.\n",
      " |      to_period : str or Period\n",
      " |          The ending period for the simulation.\n",
      " |      list_eqs : str or list(str), optional\n",
      " |          List of equations representing the model.\n",
      " |          Default to empty (all equations).\n",
      " |      \n",
      " |      Examples\n",
      " |      --------\n",
      " |      >>> from iode import SAMPLE_DATA_DIR, equations, identities, lists, scalars, variables \n",
      " |      >>> from iode import Simulation\n",
      " |      >>> equations.load(f\"{SAMPLE_DATA_DIR}/fun.eqs\")        # doctest: +ELLIPSIS, +NORMALIZE_WHITESPACE\n",
      " |      Loading .../fun.eqs\n",
      " |      274 objects loaded \n",
      " |      >>> identities.load(f\"{SAMPLE_DATA_DIR}/fun.idt\")       # doctest: +ELLIPSIS, +NORMALIZE_WHITESPACE\n",
      " |      Loading .../fun.idt\n",
      " |      48 objects loaded \n",
      " |      >>> lists.load(f\"{SAMPLE_DATA_DIR}/fun.lst\")            # doctest: +ELLIPSIS, +NORMALIZE_WHITESPACE\n",
      " |      Loading .../fun.lst\n",
      " |      17 objects loaded \n",
      " |      >>> scalars.load(f\"{SAMPLE_DATA_DIR}/fun.scl\")          # doctest: +ELLIPSIS, +NORMALIZE_WHITESPACE\n",
      " |      Loading .../fun.scl\n",
      " |      161 objects loaded \n",
      " |      >>> variables.load(f\"{SAMPLE_DATA_DIR}/fun.var\")        # doctest: +ELLIPSIS, +NORMALIZE_WHITESPACE\n",
      " |      Loading .../fun.var\n",
      " |      394 objects loaded\n",
      " |      \n",
      " |      >>> # exogeneous variable \n",
      " |      >>> equations[\"UY\"].lec\n",
      " |      'UY := NATY-NDOMY-NIY-NGY-(EFXY-EFMY)-NFY'\n",
      " |      >>> # reset values\n",
      " |      >>> variables[\"UY\", \"2000Y1:2015Y1\"] = 0.0\n",
      " |      >>> variables[\"UY\", \"2000Y1:2015Y1\"]            # doctest: +ELLIPSIS\n",
      " |      [0.0, 0.0, ..., 0.0, 0.0]\n",
      " |      \n",
      " |      >>> # endogenous variable\n",
      " |      >>> identities[\"XNATY\"]\n",
      " |      Identity('grt NATY')\n",
      " |      >>> variables[\"XNATY\", \"2000Y1:2015Y1\"]         # doctest: +ELLIPSIS\n",
      " |      [0.22, 0.699999988079071, 0.4, 0.7, ..., -0.20000000298023224, -0.20000000298023224]\n",
      " |      \n",
      " |      >>> # simulate the model (no reordering)\n",
      " |      >>> simu = Simulation()\n",
      " |      >>> simu.model_simulate(\"2000Y1\", \"2015Y1\")     # doctest: +ELLIPSIS, +NORMALIZE_WHITESPACE\n",
      " |      Linking equations ....\n",
      " |      Calculating SCC...\n",
      " |      Calculating SCC... -> #PRE 31 - #INTER 204 - #POST 39\n",
      " |      Reordering interdependent block...\n",
      " |      Reordering interdependent block...\n",
      " |      2000Y1: 1 iters - error =    1.342 - cpu=0ms\n",
      " |      2000Y1: 2 iters - error =   0.4115 - cpu=0ms\n",
      " |      2000Y1: 3 iters - error =   0.5272 - cpu=0ms\n",
      " |      ...\n",
      " |      2015Y1: 19 iters - error =  0.00267 - cpu=0ms\n",
      " |      2015Y1: 20 iters - error =  0.00141 - cpu=0ms\n",
      " |      2015Y1: 21 iters - error = 0.0006749 - cpu=0ms\n",
      " |      >>> variables[\"UY\", \"2000Y1:2015Y1\"]            # doctest: +ELLIPSIS\n",
      " |      [624.1781881798956, 645.0542977503601, 661.6074127102179, ..., 525.1258272992568]\n",
      " |  \n",
      " |  model_simulate_SCC(self, from_period: 'Union[str, Period]', to_period: 'Union[str, Period]', pre_name: 'str' = '_PRE', inter_name: 'str' = '_INTER', post_name: 'str' = '_POST')\n",
      " |      model_simulate_SCC(self, from_period: Union[str, Period], to_period: Union[str, Period], pre_name: str = u'_PRE', inter_name: str = u'_INTER', post_name: str = u'_POST')\n",
      " |      \n",
      " |      Simulates a model previously decomposed into Strongly Connex Components (SCC) and reordered.\n",
      " |      It is intended to be called after the method :meth:`Simulation.model_calculate_SCC`.\n",
      " |      \n",
      " |      To improve performance at simulation start-up, the simulation process has been divided into 2 stages. \n",
      " |      The first only deals with model reordering (see method :meth:`Simulation.model_calculate_SCC`), \n",
      " |      the second with simulation (see method :meth:`Simulation.model_simulate`).\n",
      " |      \n",
      " |      Parameters\n",
      " |      ----------\n",
      " |      from_period : str or Period\n",
      " |          The starting period for the simulation.\n",
      " |      to_period : str or Period\n",
      " |          The ending period for the simulation.\n",
      " |      pre_name : str, optional\n",
      " |          Name of the list representing the pre-recursive equations.\n",
      " |          Default to \"_PRE\".\n",
      " |      inter_name : str, optional\n",
      " |          Name of the list representing the interdependent equations. \n",
      " |          Default to \"_INTER\".\n",
      " |      post_name : str, optional\n",
      " |          Name of the list representing the post-recursive equations.\n",
      " |          Default to \"_POST\".\n",
      " |      \n",
      " |      See Also\n",
      " |      --------\n",
      " |      Simulation.model_calculate_SCC\n",
      " |      Simulation.model_simulate\n",
      " |      \n",
      " |      Examples\n",
      " |      --------\n",
      " |      >>> from iode import SAMPLE_DATA_DIR, equations, identities, lists, scalars, variables \n",
      " |      >>> from iode import Simulation\n",
      " |      >>> equations.load(f\"{SAMPLE_DATA_DIR}/fun.eqs\")        # doctest: +ELLIPSIS, +NORMALIZE_WHITESPACE\n",
      " |      Loading .../fun.eqs\n",
      " |      274 objects loaded \n",
      " |      >>> identities.load(f\"{SAMPLE_DATA_DIR}/fun.idt\")       # doctest: +ELLIPSIS, +NORMALIZE_WHITESPACE\n",
      " |      Loading .../fun.idt\n",
      " |      48 objects loaded \n",
      " |      >>> lists.load(f\"{SAMPLE_DATA_DIR}/fun.lst\")            # doctest: +ELLIPSIS, +NORMALIZE_WHITESPACE\n",
      " |      Loading .../fun.lst\n",
      " |      17 objects loaded \n",
      " |      >>> scalars.load(f\"{SAMPLE_DATA_DIR}/fun.scl\")          # doctest: +ELLIPSIS, +NORMALIZE_WHITESPACE\n",
      " |      Loading .../fun.scl\n",
      " |      161 objects loaded \n",
      " |      >>> variables.load(f\"{SAMPLE_DATA_DIR}/fun.var\")        # doctest: +ELLIPSIS, +NORMALIZE_WHITESPACE\n",
      " |      Loading .../fun.var\n",
      " |      394 objects loaded\n",
      " |      >>> simu = Simulation()\n",
      " |      \n",
      " |      Step 1 - Compute the Strongly Connex Components (SCC) decomposition\n",
      " |      \n",
      " |      >>> simu.model_calculate_SCC(10)    # doctest: +ELLIPSIS, +NORMALIZE_WHITESPACE\n",
      " |      Pseudo-linking equations ....\n",
      " |      Calculating SCC...\n",
      " |      Calculating SCC... -> #PRE 31 - #INTER 204 - #POST 39\n",
      " |      Reordering interdependent block...\n",
      " |      Reordering interdependent block...\n",
      " |      >>> lists[\"_PRE\"]           # doctest: +ELLIPSIS\n",
      " |      ['BRUGP', 'DTH1C', 'EX', 'ITCEE', ..., 'ZZF_', 'DTH1', 'PME', 'PMS', 'PMT']\n",
      " |      >>> len(lists[\"_PRE\"])\n",
      " |      31\n",
      " |      >>> lists[\"_INTER\"]         # doctest: +ELLIPSIS\n",
      " |      ['PMAB', 'PXAB', 'ULCP', 'SSH3P', ..., 'YSSG', 'WCF_', 'ITEP', 'EXC', 'ITT']\n",
      " |      >>> len(lists[\"_INTER\"])\n",
      " |      204\n",
      " |      >>> lists[\"_POST\"]          # doctest: +ELLIPSIS\n",
      " |      ['IFU', 'SSHFF', 'PBBP', 'OCUF', ..., 'GAP', 'FLGR', 'FLF', 'DPUU', 'BENEF']\n",
      " |      >>> len(lists[\"_POST\"])\n",
      " |      39\n",
      " |      \n",
      " |      Step 2 - Simulate the model based on the 3 lists _PRE, _INTER and _POST\n",
      " |      \n",
      " |      >>> # exogeneous variable \n",
      " |      >>> equations[\"UY\"].lec\n",
      " |      'UY := NATY-NDOMY-NIY-NGY-(EFXY-EFMY)-NFY'\n",
      " |      >>> # reset values\n",
      " |      >>> variables[\"UY\", \"2000Y1:2015Y1\"] = 0.0\n",
      " |      >>> variables[\"UY\", \"2000Y1:2015Y1\"]        # doctest: +ELLIPSIS\n",
      " |      [0.0, 0.0, ..., 0.0, 0.0]\n",
      " |      >>> # endogenous variable\n",
      " |      >>> identities[\"XNATY\"]\n",
      " |      Identity('grt NATY')\n",
      " |      >>> variables[\"XNATY\", \"2000Y1:2015Y1\"]     # doctest: +ELLIPSIS\n",
      " |      [0.22, 0.699999988079071, 0.4, 0.7, ..., -0.20000000298023224, -0.20000000298023224]\n",
      " |      \n",
      " |      >>> simu.model_simulate_SCC(\"2000Y1\", \"2015Y1\")     # doctest: +ELLIPSIS, +NORMALIZE_WHITESPACE\n",
      " |      Linking equations ....\n",
      " |      2000Y1: 1 iters - error =   0.3155 - cpu=0ms\n",
      " |      2000Y1: 2 iters - error =    1.953 - cpu=0ms\n",
      " |      2000Y1: 3 iters - error =   0.2335 - cpu=0ms\n",
      " |      ...\n",
      " |      2015Y1: 10 iters - error =  0.01144 - cpu=0ms\n",
      " |      2015Y1: 11 iters - error = 0.006679 - cpu=0ms\n",
      " |      2015Y1: 12 iters - error = 0.0003485 - cpu=0ms\n",
      " |      >>> variables[\"UY\", \"2000Y1:2015Y1\"]        # doctest: +ELLIPSIS\n",
      " |      [624.1822680369564, 645.0533712662168, 661.5778936891761, ..., 525.2940777398553]\n",
      " |  \n",
      " |  ----------------------------------------------------------------------\n",
      " |  Static methods defined here:\n",
      " |  \n",
      " |  __new__(*args, **kwargs)\n",
      " |      Create and return a new object.  See help(type) for accurate signature.\n",
      " |  \n",
      " |  ----------------------------------------------------------------------\n",
      " |  Data descriptors defined here:\n",
      " |  \n",
      " |  convergence_threshold\n",
      " |      convergence_threshold: float\n",
      " |      \n",
      " |      Indicates the convergence threshold below which the simulation ends positively for the current period.\n",
      " |      In other words, for a given period, when the relative differences between two successive iterations (k and k-1)\n",
      " |      \n",
      " |      .. math:: \\frac{\\|Y[k] - Y[k-1]\\|}{\\|Y[k]\\|}\n",
      " |      \n",
      " |      are below this threshold for all endogenous variables, the model is considered to have converged.\n",
      " |      Default value is 0.001.\n",
      " |      \n",
      " |      Parameters\n",
      " |      ----------\n",
      " |      value: float\n",
      " |          New convergence threshold value.\n",
      " |      \n",
      " |      Examples\n",
      " |      --------\n",
      " |      >>> from iode import Simulation\n",
      " |      >>> simu = Simulation()\n",
      " |      >>> simu.convergence_threshold\n",
      " |      0.001\n",
      " |      >>> simu.convergence_threshold = 1e-6\n",
      " |      >>> simu.convergence_threshold\n",
      " |      1e-06\n",
      " |  \n",
      " |  debug\n",
      " |      debug: bool\n",
      " |      \n",
      " |      Option to automatically generates IODE lists containing pre-recursive, interdependent \n",
      " |      and post-recursive equations: `_PRE`, `_INTER` and `_POST`.\n",
      " |      It is used with the method :meth:`Simulation.model_simulate`.\n",
      " |      Default to False.\n",
      " |      \n",
      " |      Parameters\n",
      " |      ----------\n",
      " |      value: bool \n",
      " |      \n",
      " |      Examples\n",
      " |      --------\n",
      " |      >>> from iode import SAMPLE_DATA_DIR, equations, lists, scalars, variables \n",
      " |      >>> from iode import Simulation\n",
      " |      >>> equations.load(f\"{SAMPLE_DATA_DIR}/fun.eqs\")        # doctest: +ELLIPSIS, +NORMALIZE_WHITESPACE\n",
      " |      Loading .../fun.eqs\n",
      " |      274 objects loaded \n",
      " |      >>> lists.load(f\"{SAMPLE_DATA_DIR}/fun.lst\")            # doctest: +ELLIPSIS, +NORMALIZE_WHITESPACE\n",
      " |      Loading .../fun.lst\n",
      " |      17 objects loaded \n",
      " |      >>> scalars.load(f\"{SAMPLE_DATA_DIR}/fun.scl\")          # doctest: +ELLIPSIS, +NORMALIZE_WHITESPACE\n",
      " |      Loading .../fun.scl\n",
      " |      161 objects loaded \n",
      " |      >>> variables.load(f\"{SAMPLE_DATA_DIR}/fun.var\")        # doctest: +ELLIPSIS, +NORMALIZE_WHITESPACE\n",
      " |      Loading .../fun.var\n",
      " |      394 objects loaded\n",
      " |      \n",
      " |      >>> simu = Simulation()\n",
      " |      >>> # force IODE to create the three list _PRE, _INTER and _POST \n",
      " |      >>> # when the method model_simulate is called \n",
      " |      >>> simu.debug = True\n",
      " |      >>> simu.model_simulate(\"2000Y1\", \"2015Y1\")     # doctest: +ELLIPSIS, +NORMALIZE_WHITESPACE\n",
      " |      Linking equations ....\n",
      " |      Calculating SCC...\n",
      " |      Calculating SCC... -> #PRE 31 - #INTER 204 - #POST 39\n",
      " |      Reordering interdependent block...\n",
      " |      Reordering interdependent block...\n",
      " |      2000Y1: 1 iters - error =   0.6558 - cpu=0ms\n",
      " |      2000Y1: 2 iters - error =   0.1684 - cpu=0ms\n",
      " |      2000Y1: 3 iters - error =   0.5237 - cpu=0ms\n",
      " |      ...\n",
      " |      2015Y1: 19 iters - error = 0.002907 - cpu=0ms\n",
      " |      2015Y1: 20 iters - error = 0.001537 - cpu=0ms\n",
      " |      2015Y1: 21 iters - error = 0.0005893 - cpu=0ms\n",
      " |      \n",
      " |      >>> lists[\"_PRE\"]           # doctest: +ELLIPSIS\n",
      " |      ['BRUGP', 'DTH1C', 'EX', 'ITCEE', ..., 'ZZF_', 'DTH1', 'PME', 'PMS', 'PMT']\n",
      " |      >>> len(lists[\"_PRE\"])\n",
      " |      31\n",
      " |      \n",
      " |      >>> lists[\"_INTER\"]         # doctest: +ELLIPSIS\n",
      " |      ['PMAB', 'PXAB', 'ITFGO', 'ITFGI', ..., 'FLG', 'VBNP', 'VBNP_P', 'VBBP_P']\n",
      " |      >>> len(lists[\"_INTER\"])\n",
      " |      204\n",
      " |      \n",
      " |      >>> lists[\"_POST\"]          # doctest: +ELLIPSIS\n",
      " |      ['IFU', 'SSHFF', 'PBBP', 'OCUF', ..., 'GAP', 'FLGR', 'FLF', 'DPUU', 'BENEF']\n",
      " |      >>> len(lists[\"_POST\"])\n",
      " |      39\n",
      " |  \n",
      " |  debug_newton\n",
      " |      debug_newton: bool\n",
      " |      \n",
      " |      Save a trace of the sub-iterations when the Newton-Raphson alogrithm is used.\n",
      " |      Default to False.\n",
      " |      \n",
      " |      Parameters\n",
      " |      ----------\n",
      " |      value: bool\n",
      " |      \n",
      " |      Examples\n",
      " |      --------\n",
      " |      >>> from iode import Simulation\n",
      " |      >>> simu = Simulation()\n",
      " |      >>> # default value\n",
      " |      >>> simu.debug_newton\n",
      " |      False\n",
      " |  \n",
      " |  initialization_method\n",
      " |      initialization_method: str\n",
      " |      \n",
      " |      At the start of each period to be simulated, a starting value must be chosen for each endogenous variable. \n",
      " |      This value can be :\n",
      " |        - :math:`Y := Y[-1], if Y null or NA` (TM1) : each null or NA endogen at the start takes the value of \n",
      " |          the previous period,\n",
      " |        - :math:`Y := Y[-1], always` (TM1_A) : each endogen takes the value of the previous period at the start,\n",
      " |        - :math:`Y := extrapolation, if Y null or NA` (EXTRA) : each null or NA endogen takes as value a linear \n",
      " |          extrapolation of the two previous periods,\n",
      " |        - :math:`Y := extrapolation, always` (EXTRA_A) : each endogen takes as its value a linear extrapolation of \n",
      " |          the two preceding periods, whether or not it is zero at the start,\n",
      " |        - :math:`Y unchanged` (ASIS): endogenous values are not initialized. They retain their value whether or \n",
      " |          not they are zero,\n",
      " |        - :math:`Y := Y[-1], if Y = NA` (TM1_NA): each NA value takes the value of the previous period,\n",
      " |        - :math:`Y := extrapolation, if Y = NA` (EXTRA_NA): each NA value takes the value of a linear extrapolation of \n",
      " |          the two previous periods.\n",
      " |      \n",
      " |      Parameters\n",
      " |      ----------\n",
      " |      value: SimulationInitialization or str\n",
      " |          initialization method. Possible values are:\n",
      " |            - TM1: :math:`Y := Y[-1], if Y null or NA`\n",
      " |            - TM1_A: :math:`Y := Y[-1], always`\n",
      " |            - EXTRA: :math:`Y := extrapolation, if Y null or NA`\n",
      " |            - EXTRA_A: :math:`Y := extrapolation, always`\n",
      " |            - ASIS: :math:`Y unchanged`\n",
      " |            - TM1_NA: :math:`Y := Y[-1], if Y = NA`\n",
      " |            - EXTRA_NA: :math:`Y := extrapolation, if Y = NA`\n",
      " |      \n",
      " |      Examples\n",
      " |      -------- \n",
      " |      >>> from iode import Simulation, SimulationInitialization\n",
      " |      >>> simu = Simulation()\n",
      " |      >>> # default value\n",
      " |      >>> simu.initialization_method\n",
      " |      'TM1 (Y := Y[-1], if Y null or NA)'\n",
      " |      \n",
      " |      >>> simu.initialization_method = \"TM1\"\n",
      " |      >>> simu.initialization_method\n",
      " |      'TM1 (Y := Y[-1], if Y null or NA)'\n",
      " |      >>> simu.initialization_method = SimulationInitialization.TM1\n",
      " |      >>> simu.initialization_method\n",
      " |      'TM1 (Y := Y[-1], if Y null or NA)'\n",
      " |      \n",
      " |      >>> simu.initialization_method = \"TM1_A\"\n",
      " |      >>> simu.initialization_method\n",
      " |      'TM1_A (Y := Y[-1], always)'\n",
      " |      >>> simu.initialization_method = SimulationInitialization.TM1_A\n",
      " |      >>> simu.initialization_method\n",
      " |      'TM1_A (Y := Y[-1], always)'\n",
      " |      \n",
      " |      >>> simu.initialization_method = \"EXTRA\"\n",
      " |      >>> simu.initialization_method\n",
      " |      'EXTRA (Y := extrapolation, if Y null or NA)'\n",
      " |      >>> simu.initialization_method = SimulationInitialization.EXTRA\n",
      " |      >>> simu.initialization_method\n",
      " |      'EXTRA (Y := extrapolation, if Y null or NA)'\n",
      " |      \n",
      " |      >>> simu.initialization_method = \"EXTRA_A\"\n",
      " |      >>> simu.initialization_method\n",
      " |      'EXTRA_A (Y := extrapolation, always)'\n",
      " |      >>> simu.initialization_method = SimulationInitialization.EXTRA_A\n",
      " |      >>> simu.initialization_method\n",
      " |      'EXTRA_A (Y := extrapolation, always)'\n",
      " |      \n",
      " |      >>> simu.initialization_method = \"ASIS\"\n",
      " |      >>> simu.initialization_method\n",
      " |      'ASIS (Y unchanged)'\n",
      " |      >>> simu.initialization_method = SimulationInitialization.ASIS\n",
      " |      >>> simu.initialization_method\n",
      " |      'ASIS (Y unchanged)'\n",
      " |      \n",
      " |      >>> simu.initialization_method = \"TM1_NA\"\n",
      " |      >>> simu.initialization_method\n",
      " |      'TM1_NA (Y := Y[-1], if Y = NA)'\n",
      " |      >>> simu.initialization_method = SimulationInitialization.TM1_NA\n",
      " |      >>> simu.initialization_method\n",
      " |      'TM1_NA (Y := Y[-1], if Y = NA)'\n",
      " |      \n",
      " |      >>> simu.initialization_method = \"EXTRA_NA\"\n",
      " |      >>> simu.initialization_method\n",
      " |      'EXTRA_NA (Y := extrapolation, if Y = NA)'\n",
      " |      >>> simu.initialization_method = SimulationInitialization.EXTRA_NA\n",
      " |      >>> simu.initialization_method\n",
      " |      'EXTRA_NA (Y := extrapolation, if Y = NA)'\n",
      " |  \n",
      " |  max_nb_iterations\n",
      " |      max_nb_iterations: int\n",
      " |      \n",
      " |      Maximum number of iterations to reach a solution. If, after the specified maximum number \n",
      " |      of iterations, the model has not converged, the process stops with an error message. \n",
      " |      This parameter prevents the process from looping indefinitely.\n",
      " |      Default value is 100.\n",
      " |      \n",
      " |      Parameters\n",
      " |      ----------\n",
      " |      value: int\n",
      " |          New maximum number of iterations allowed.\n",
      " |      \n",
      " |      Examples\n",
      " |      --------\n",
      " |      >>> from iode import Simulation\n",
      " |      >>> simu = Simulation()\n",
      " |      >>> # default value\n",
      " |      >>> simu.max_nb_iterations\n",
      " |      100\n",
      " |      >>> simu.max_nb_iterations = 1000\n",
      " |      >>> simu.max_nb_iterations\n",
      " |      1000\n",
      " |  \n",
      " |  max_nb_iterations_newton\n",
      " |      max_nb_iterations_newton: int\n",
      " |      \n",
      " |      Maximum number of iterations when the Newton-Raphson algorithm is used.\n",
      " |      Default to 50.\n",
      " |      \n",
      " |      Parameters\n",
      " |      ----------\n",
      " |      value: int\n",
      " |      \n",
      " |      Examples\n",
      " |      --------\n",
      " |      >>> from iode import Simulation\n",
      " |      >>> simu = Simulation()\n",
      " |      >>> # default value\n",
      " |      >>> simu.max_nb_iterations_newton\n",
      " |      50\n",
      " |      >>> simu.max_nb_iterations_newton = 100\n",
      " |      >>> simu.max_nb_iterations_newton\n",
      " |      100\n",
      " |  \n",
      " |  nb_passes\n",
      " |      nb_passes: int\n",
      " |      \n",
      " |      Number of passes to make when the pseudo-triangulation sorting algorithm is used.\n",
      " |      Default to 5.\n",
      " |      \n",
      " |      See Also\n",
      " |      --------\n",
      " |      Simulation.sort_algorithm\n",
      " |      \n",
      " |      Parameters\n",
      " |      ----------\n",
      " |      value: int\n",
      " |      \n",
      " |      Examples\n",
      " |      --------\n",
      " |      >>> from iode import Simulation\n",
      " |      >>> simu = Simulation()\n",
      " |      >>> # default value\n",
      " |      >>> simu.nb_passes \n",
      " |      5\n",
      " |      >>> simu.nb_passes = 10\n",
      " |      >>> simu.nb_passes\n",
      " |      10\n",
      " |  \n",
      " |  relax\n",
      " |      relax: float\n",
      " |      \n",
      " |      Relaxation parameter.\n",
      " |      \n",
      " |      It modifies the algorithm's behavior in the following way in the following way: the variable :math:`X`, \n",
      " |      calculated by the associated model equation, is not for subsequent iterations, but replaced by \n",
      " |      \n",
      " |      .. math:: X[k] = X^\\prime * \\lambda + X[k-1] * (1 - \\lambda)\n",
      " |      \n",
      " |      where: \n",
      " |      \n",
      " |        - :math:`X^\\prime` is the result of calculating the equation,\n",
      " |        - :math:`\\lambda` is the relaxation parameter,\n",
      " |        - :math:`X[k-1]` is the result of the calculation at the previous iteration,\n",
      " |        - :math:`X[k]` is the new value\n",
      " |      \n",
      " |      If :math:`\\lambda` is 1, :math:`X[k]` is the result of calculating the equation without modification.\n",
      " |      If :math:`\\lambda` is 0, :math:`X` will never change. \n",
      " |      \n",
      " |      It is recommended to set this parameter to a value between 0.5 and 1 when a model doesn't converge\n",
      " |      or converges too slowly.\n",
      " |      \n",
      " |      Default value is 1.0.\n",
      " |      \n",
      " |      Parameters\n",
      " |      ----------\n",
      " |      value: float\n",
      " |          New relaxation parameter value. Its value must be in the range [0.1, 1.0]. \n",
      " |      \n",
      " |      Examples\n",
      " |      --------\n",
      " |      >>> from iode import Simulation\n",
      " |      >>> simu = Simulation()\n",
      " |      >>> simu.relax\n",
      " |      1.0\n",
      " |      >>> simu.relax = 0.9\n",
      " |      >>> simu.relax\n",
      " |      0.9\n",
      " |  \n",
      " |  sort_algorithm\n",
      " |      sort_algorithm: str\n",
      " |      \n",
      " |      Sorting algorithm used to reorganized the list of equations *before* the simulation is performed.\n",
      " |      This reorganization can be usefully to to speed up the simulation. \n",
      " |      \n",
      " |      Two methods can be used separately or in combination. Both use algorithms from the *graph theory*.\n",
      " |      \n",
      " |      Strongly Connected Component (SCC)\n",
      " |      ~~~~~~~~~~~~~~~~~~~~~~~~~~~~~~~~~~\n",
      " |      \n",
      " |      this involves dividing the model into non-interdependent blocks. \n",
      " |      This method limits the number of equations to be calculated, based on the dependencies of \n",
      " |      the equations on each other. \n",
      " |      \n",
      " |      In the following example, blocks 1 and 3 are non-interdependent, meaning that only one calculation \n",
      " |      is required per period. The relaxation parameter is not used in these blocks. \n",
      " |      Block 2 is the interdependent part of the model. This block is the only one to be iterated on. \n",
      " |      This reduces the number of equations to be solved to 3, instead of the 6 that actually make up the model. \n",
      " |      Decomposition can result in more than three blocks::\n",
      " |      \n",
      " |          Let's consider the following equations:\n",
      " |          A = f1(B,C,D)\n",
      " |          B = f2(C,A)\n",
      " |          C = f3(B,X)\n",
      " |          D = f4(X,Y)\n",
      " |          X = f5(Y)\n",
      " |          Z = f6(A,B,C,X)\n",
      " |      \n",
      " |          The following blocks are built (in this order):\n",
      " |          1: X = f5(Y)       depends only on exogenous Y\n",
      " |             D = f4(X,Y)     depends on X\n",
      " |          2: A = f1(B,C,D)   loop with B and C\n",
      " |             B = f2(C,A)     loop with A and C\n",
      " |             C = f3(B,X)     loops with B, then with A\n",
      " |          3: Z = f6(A,B,C,X) is not used by any equation\n",
      " |      \n",
      " |      Pseudo-triangulation\n",
      " |      ~~~~~~~~~~~~~~~~~~~~\n",
      " |      \n",
      " |      This method reorganizes equations using a specific algorithm. \n",
      " |      Basically, dependencies are analyzed and equations are organized accordingly: if B depends on A, \n",
      " |      B is placed after A, and so on. Several passes are usually necessary to obtain a satisfactory result. \n",
      " |      The optimal number of passes depends on the model and is left to the user's choice.\n",
      " |      \n",
      " |      Parameters\n",
      " |      ----------\n",
      " |      value: SimulationSort or str\n",
      " |          New value for the used sorting algorithm. \n",
      " |          Possible values are:\n",
      " |            - NONE: do not use any sorting algorithm\n",
      " |            - CONNEX: use the *Strongly Connected Component (SCC)* method only\n",
      " |            - BOTH: use both the *SCC* and the *Pseudo-triangulation* methods\n",
      " |      \n",
      " |      Examples\n",
      " |      -------- \n",
      " |      >>> from iode import Simulation, SimulationSort\n",
      " |      >>> simu = Simulation()\n",
      " |      >>> # default value\n",
      " |      >>> simu.sort_algorithm\n",
      " |      'BOTH (Connex compon. + Triangulation)'\n",
      " |      \n",
      " |      >>> simu.sort_algorithm = \"none\"\n",
      " |      >>> simu.sort_algorithm\n",
      " |      'NONE (None)'\n",
      " |      >>> simu.sort_algorithm = SimulationSort.NONE\n",
      " |      >>> simu.sort_algorithm\n",
      " |      'NONE (None)'\n",
      " |      \n",
      " |      >>> simu.sort_algorithm = \"connex\"\n",
      " |      >>> simu.sort_algorithm\n",
      " |      'CONNEX (Connex compon. decomposition)'\n",
      " |      >>> simu.sort_algorithm = SimulationSort.CONNEX\n",
      " |      >>> simu.sort_algorithm\n",
      " |      'CONNEX (Connex compon. decomposition)'\n",
      " |      \n",
      " |      >>> simu.sort_algorithm = \"both\"\n",
      " |      >>> simu.sort_algorithm\n",
      " |      'BOTH (Connex compon. + Triangulation)'\n",
      " |      >>> simu.sort_algorithm = SimulationSort.BOTH\n",
      " |      >>> simu.sort_algorithm\n",
      " |      'BOTH (Connex compon. + Triangulation)'\n",
      "\n"
     ]
    }
   ],
   "source": [
    "from iode import Simulation\n",
    "\n",
    "help(Simulation)"
   ]
  },
  {
   "cell_type": "code",
   "execution_count": 150,
   "metadata": {},
   "outputs": [
    {
     "name": "stdout",
     "output_type": "stream",
     "text": [
      "possible sort algorithms: ['CONNEX', 'BOTH', 'NONE']\n"
     ]
    }
   ],
   "source": [
    "from iode import SimulationSort\n",
    "\n",
    "print(f\"possible sort algorithms: {[member.name for member in SimulationSort]}\")"
   ]
  },
  {
   "cell_type": "code",
   "execution_count": 151,
   "metadata": {},
   "outputs": [
    {
     "name": "stdout",
     "output_type": "stream",
     "text": [
      "possible initialization methods: ['TM1', 'TM1_A', 'EXTRA', 'EXTRA_A', 'ASIS', 'TM1_NA', 'EXTRA_NA']\n"
     ]
    }
   ],
   "source": [
    "from iode import SimulationInitialization\n",
    "\n",
    "print(f\"possible initialization methods: {[member.name for member in SimulationInitialization]}\")"
   ]
  },
  {
   "cell_type": "code",
   "execution_count": 152,
   "metadata": {},
   "outputs": [
    {
     "name": "stdout",
     "output_type": "stream",
     "text": [
      "Simulation() methods and properties:\n",
      "convergence_threshold\n",
      "debug\n",
      "debug_newton\n",
      "initialization_method\n",
      "max_nb_iterations\n",
      "max_nb_iterations_newton\n",
      "model_calculate_SCC\n",
      "model_compile\n",
      "model_exchange\n",
      "model_simulate\n",
      "model_simulate_SCC\n",
      "nb_passes\n",
      "relax\n",
      "sort_algorithm\n"
     ]
    }
   ],
   "source": [
    "# ---- simulation ----\n",
    "print(\"Simulation() methods and properties:\")\n",
    "for name in dir(Simulation):\n",
    "    if not name.startswith('_'):\n",
    "        print(name)"
   ]
  },
  {
   "cell_type": "code",
   "execution_count": 153,
   "metadata": {},
   "outputs": [
    {
     "name": "stdout",
     "output_type": "stream",
     "text": [
      "Simulation convergence_threshold: 0.001\n",
      "Simulation relax: 1.0\n",
      "Simulation max_nb_iterations: 100\n",
      "Simulation sort_algorithm: BOTH (Connex compon. + Triangulation)\n",
      "Simulation initialization_method: TM1 (Y := Y[-1], if Y null or NA)\n",
      "Simulation debug: False\n",
      "Simulation nb_passes: 5\n",
      "Simulation debug_newton: False\n"
     ]
    }
   ],
   "source": [
    "# create and initialize a Simulation instance\n",
    "simu = Simulation(sort_algorithm=SimulationSort.BOTH, initialization_method=SimulationInitialization.TM1)\n",
    "print(f\"Simulation convergence_threshold: {simu.convergence_threshold}\")\n",
    "print(f\"Simulation relax: {simu.relax}\")\n",
    "print(f\"Simulation max_nb_iterations: {simu.max_nb_iterations}\")\n",
    "print(f\"Simulation sort_algorithm: {simu.sort_algorithm}\")\n",
    "print(f\"Simulation initialization_method: {simu.initialization_method}\")\n",
    "print(f\"Simulation debug: {simu.debug}\")\n",
    "print(f\"Simulation nb_passes: {simu.nb_passes}\")\n",
    "print(f\"Simulation debug_newton: {simu.debug_newton}\")"
   ]
  },
  {
   "cell_type": "markdown",
   "metadata": {},
   "source": [
    "To run the simulation, call the [Simulation.model_simulate](../_generated/iode.Simulation.model_simulate.rst#iode.Simulation.model_simulate) method:"
   ]
  },
  {
   "cell_type": "code",
   "execution_count": 154,
   "metadata": {},
   "outputs": [
    {
     "name": "stdout",
     "output_type": "stream",
     "text": [
      "Help on cython_function_or_method in module iode.iode_cython:\n",
      "\n",
      "model_simulate(self, from_period: 'Union[str, Period]', to_period: 'Union[str, Period]', list_eqs: 'Union[str, List[str]]' = None)\n",
      "    model_simulate(self, from_period: Union[str, Period], to_period: Union[str, Period], list_eqs: Union[str, List[str]] = None)\n",
      "    \n",
      "    Run the simulation of a model for a given sample.\n",
      "    \n",
      "    To simulate a model, all equations of the model must have been loaded or created. In addition, \n",
      "    all the variables and scalars used in the model equations must have been loaded or created. \n",
      "    Values of exogenous variables and of scalar cannot be :math:`NA` (*Not Available*) over the \n",
      "    simulation sample.\n",
      "    \n",
      "    Parameters\n",
      "    ----------\n",
      "    from_period : str or Period\n",
      "        The starting period for the simulation.\n",
      "    to_period : str or Period\n",
      "        The ending period for the simulation.\n",
      "    list_eqs : str or list(str), optional\n",
      "        List of equations representing the model.\n",
      "        Default to empty (all equations).\n",
      "    \n",
      "    Examples\n",
      "    --------\n",
      "    >>> from iode import SAMPLE_DATA_DIR, equations, identities, lists, scalars, variables \n",
      "    >>> from iode import Simulation\n",
      "    >>> equations.load(f\"{SAMPLE_DATA_DIR}/fun.eqs\")        # doctest: +ELLIPSIS, +NORMALIZE_WHITESPACE\n",
      "    Loading .../fun.eqs\n",
      "    274 objects loaded \n",
      "    >>> identities.load(f\"{SAMPLE_DATA_DIR}/fun.idt\")       # doctest: +ELLIPSIS, +NORMALIZE_WHITESPACE\n",
      "    Loading .../fun.idt\n",
      "    48 objects loaded \n",
      "    >>> lists.load(f\"{SAMPLE_DATA_DIR}/fun.lst\")            # doctest: +ELLIPSIS, +NORMALIZE_WHITESPACE\n",
      "    Loading .../fun.lst\n",
      "    17 objects loaded \n",
      "    >>> scalars.load(f\"{SAMPLE_DATA_DIR}/fun.scl\")          # doctest: +ELLIPSIS, +NORMALIZE_WHITESPACE\n",
      "    Loading .../fun.scl\n",
      "    161 objects loaded \n",
      "    >>> variables.load(f\"{SAMPLE_DATA_DIR}/fun.var\")        # doctest: +ELLIPSIS, +NORMALIZE_WHITESPACE\n",
      "    Loading .../fun.var\n",
      "    394 objects loaded\n",
      "    \n",
      "    >>> # exogeneous variable \n",
      "    >>> equations[\"UY\"].lec\n",
      "    'UY := NATY-NDOMY-NIY-NGY-(EFXY-EFMY)-NFY'\n",
      "    >>> # reset values\n",
      "    >>> variables[\"UY\", \"2000Y1:2015Y1\"] = 0.0\n",
      "    >>> variables[\"UY\", \"2000Y1:2015Y1\"]            # doctest: +ELLIPSIS\n",
      "    [0.0, 0.0, ..., 0.0, 0.0]\n",
      "    \n",
      "    >>> # endogenous variable\n",
      "    >>> identities[\"XNATY\"]\n",
      "    Identity('grt NATY')\n",
      "    >>> variables[\"XNATY\", \"2000Y1:2015Y1\"]         # doctest: +ELLIPSIS\n",
      "    [0.22, 0.699999988079071, 0.4, 0.7, ..., -0.20000000298023224, -0.20000000298023224]\n",
      "    \n",
      "    >>> # simulate the model (no reordering)\n",
      "    >>> simu = Simulation()\n",
      "    >>> simu.model_simulate(\"2000Y1\", \"2015Y1\")     # doctest: +ELLIPSIS, +NORMALIZE_WHITESPACE\n",
      "    Linking equations ....\n",
      "    Calculating SCC...\n",
      "    Calculating SCC... -> #PRE 31 - #INTER 204 - #POST 39\n",
      "    Reordering interdependent block...\n",
      "    Reordering interdependent block...\n",
      "    2000Y1: 1 iters - error =    1.342 - cpu=0ms\n",
      "    2000Y1: 2 iters - error =   0.4115 - cpu=0ms\n",
      "    2000Y1: 3 iters - error =   0.5272 - cpu=0ms\n",
      "    ...\n",
      "    2015Y1: 19 iters - error =  0.00267 - cpu=0ms\n",
      "    2015Y1: 20 iters - error =  0.00141 - cpu=0ms\n",
      "    2015Y1: 21 iters - error = 0.0006749 - cpu=0ms\n",
      "    >>> variables[\"UY\", \"2000Y1:2015Y1\"]            # doctest: +ELLIPSIS\n",
      "    [624.1781881798956, 645.0542977503601, 661.6074127102179, ..., 525.1258272992568]\n",
      "\n"
     ]
    }
   ],
   "source": [
    "help(Simulation.model_simulate)"
   ]
  },
  {
   "cell_type": "code",
   "execution_count": 155,
   "metadata": {},
   "outputs": [
    {
     "name": "stdout",
     "output_type": "stream",
     "text": [
      "exogenous variable 'UY': UY := NATY-NDOMY-NIY-NGY-(EFXY-EFMY)-NFY\n",
      "endogenous variable 'XNATY': grt NATY\n",
      "exogenous variable 'UY' before simulation:\n",
      "[671.46, 647.3906678388862, 0.0, 0.0, 0.0, 0.0, 0.0, 0.0]\n",
      "Linking equations ....\n",
      "Calculating SCC...\n",
      "Calculating SCC... 0 ms -> #PRE 31 - #INTER 204 - #POST 39\n",
      "Reordering interdependent block...\n",
      "Reordering interdependent block... 0 ms\n",
      "2000Y1: 1 iters - error =    1.342 - cpu=0ms\n",
      "2000Y1: 2 iters - error =   0.4115 - cpu=0ms\n",
      "2000Y1: 3 iters - error =   0.5272 - cpu=0ms\n",
      "2000Y1: 4 iters - error =   0.0215 - cpu=0ms\n",
      "2000Y1: 5 iters - error =  0.03879 - cpu=0ms\n",
      "2000Y1: 6 iters - error =  0.02778 - cpu=0ms\n",
      "2000Y1: 7 iters - error =   0.1455 - cpu=0ms\n",
      "2000Y1: 8 iters - error =  0.02579 - cpu=0ms\n",
      "2000Y1: 9 iters - error =   0.1056 - cpu=0ms\n",
      "2000Y1: 10 iters - error =  0.08991 - cpu=0ms\n",
      "2000Y1: 11 iters - error =  0.02125 - cpu=0ms\n",
      "2000Y1: 12 iters - error =  0.03417 - cpu=0ms\n",
      "2000Y1: 13 iters - error =  0.03339 - cpu=0ms\n",
      "2000Y1: 14 iters - error =  0.02385 - cpu=0ms\n",
      "2000Y1: 15 iters - error =   0.0155 - cpu=0ms\n",
      "2000Y1: 16 iters - error =  0.02808 - cpu=0ms\n",
      "2000Y1: 17 iters - error =  0.02482 - cpu=0ms\n",
      "2000Y1: 18 iters - error = 0.005567 - cpu=0ms\n",
      "2000Y1: 19 iters - error =  0.01901 - cpu=0ms\n",
      "2000Y1: 20 iters - error =  0.01799 - cpu=0ms\n",
      "2000Y1: 21 iters - error = 0.005509 - cpu=0ms\n",
      "2000Y1: 22 iters - error = 0.006262 - cpu=0ms\n",
      "2000Y1: 23 iters - error = 0.009459 - cpu=0ms\n",
      "2000Y1: 24 iters - error = 0.005406 - cpu=0ms\n",
      "2000Y1: 25 iters - error = 0.001688 - cpu=0ms\n",
      "2000Y1: 26 iters - error = 0.003784 - cpu=0ms\n",
      "2000Y1: 27 iters - error = 0.002721 - cpu=0ms\n",
      "2000Y1: 28 iters - error = 0.001391 - cpu=0ms\n",
      "2000Y1: 29 iters - error = 0.001468 - cpu=0ms\n",
      "2000Y1: 30 iters - error = 0.001189 - cpu=0ms\n",
      "2000Y1: 31 iters - error = 0.001087 - cpu=0ms\n",
      "2000Y1: 32 iters - error = 0.0009331 - cpu=0ms\n",
      "2001Y1: 1 iters - error =   0.1469 - cpu=0ms\n",
      "2001Y1: 2 iters - error =   0.1626 - cpu=0ms\n",
      "2001Y1: 3 iters - error =  0.04421 - cpu=0ms\n",
      "2001Y1: 4 iters - error =   0.1438 - cpu=0ms\n",
      "2001Y1: 5 iters - error =  0.08974 - cpu=0ms\n",
      "2001Y1: 6 iters - error =   0.1151 - cpu=0ms\n",
      "2001Y1: 7 iters - error =  0.02902 - cpu=0ms\n",
      "2001Y1: 8 iters - error =  0.03207 - cpu=0ms\n",
      "2001Y1: 9 iters - error =  0.03317 - cpu=0ms\n",
      "2001Y1: 10 iters - error =  0.02115 - cpu=0ms\n",
      "2001Y1: 11 iters - error =  0.01292 - cpu=0ms\n",
      "2001Y1: 12 iters - error =  0.01934 - cpu=0ms\n",
      "2001Y1: 13 iters - error =  0.01547 - cpu=0ms\n",
      "2001Y1: 14 iters - error = 0.005576 - cpu=0ms\n",
      "2001Y1: 15 iters - error =   0.0117 - cpu=0ms\n",
      "2001Y1: 16 iters - error =  0.01059 - cpu=0ms\n",
      "2001Y1: 17 iters - error = 0.002458 - cpu=0ms\n",
      "2001Y1: 18 iters - error = 0.002883 - cpu=0ms\n",
      "2001Y1: 19 iters - error = 0.003653 - cpu=0ms\n",
      "2001Y1: 20 iters - error = 0.002041 - cpu=0ms\n",
      "2001Y1: 21 iters - error =  0.00131 - cpu=0ms\n",
      "2001Y1: 22 iters - error = 0.001629 - cpu=0ms\n",
      "2001Y1: 23 iters - error = 0.001957 - cpu=0ms\n",
      "2001Y1: 24 iters - error = 0.001256 - cpu=0ms\n",
      "2001Y1: 25 iters - error = 0.0005994 - cpu=0ms\n",
      "2002Y1: 1 iters - error =   0.1392 - cpu=0ms\n",
      "2002Y1: 2 iters - error =  0.07417 - cpu=0ms\n",
      "2002Y1: 3 iters - error =  0.04143 - cpu=0ms\n",
      "2002Y1: 4 iters - error =   0.1255 - cpu=0ms\n",
      "2002Y1: 5 iters - error =  0.06099 - cpu=0ms\n",
      "2002Y1: 6 iters - error =  0.07134 - cpu=0ms\n",
      "2002Y1: 7 iters - error =  0.06237 - cpu=0ms\n",
      "2002Y1: 8 iters - error =  0.03253 - cpu=0ms\n",
      "2002Y1: 9 iters - error =  0.06952 - cpu=0ms\n",
      "2002Y1: 10 iters - error =  0.05227 - cpu=0ms\n",
      "2002Y1: 11 iters - error =  0.02705 - cpu=0ms\n",
      "2002Y1: 12 iters - error =  0.04529 - cpu=0ms\n",
      "2002Y1: 13 iters - error =  0.03068 - cpu=0ms\n",
      "2002Y1: 14 iters - error =  0.01573 - cpu=0ms\n",
      "2002Y1: 15 iters - error =  0.02003 - cpu=0ms\n",
      "2002Y1: 16 iters - error =   0.0122 - cpu=0ms\n",
      "2002Y1: 17 iters - error = 0.006209 - cpu=0ms\n",
      "2002Y1: 18 iters - error = 0.008044 - cpu=0ms\n",
      "2002Y1: 19 iters - error = 0.004351 - cpu=16ms\n",
      "2002Y1: 20 iters - error = 0.002208 - cpu=0ms\n",
      "2002Y1: 21 iters - error = 0.004448 - cpu=0ms\n",
      "2002Y1: 22 iters - error = 0.002251 - cpu=0ms\n",
      "2002Y1: 23 iters - error = 0.001781 - cpu=0ms\n",
      "2002Y1: 24 iters - error = 0.003335 - cpu=0ms\n",
      "2002Y1: 25 iters - error = 0.001688 - cpu=0ms\n",
      "2002Y1: 26 iters - error = 0.001138 - cpu=0ms\n",
      "2002Y1: 27 iters - error =   0.0023 - cpu=0ms\n",
      "2002Y1: 28 iters - error = 0.001244 - cpu=0ms\n",
      "2002Y1: 29 iters - error = 0.0006305 - cpu=0ms\n",
      "2003Y1: 1 iters - error =   0.2734 - cpu=0ms\n",
      "2003Y1: 2 iters - error =   0.1715 - cpu=0ms\n",
      "2003Y1: 3 iters - error =   0.1908 - cpu=0ms\n",
      "2003Y1: 4 iters - error =  0.03431 - cpu=0ms\n",
      "2003Y1: 5 iters - error =  0.03977 - cpu=0ms\n",
      "2003Y1: 6 iters - error =   0.2196 - cpu=0ms\n",
      "2003Y1: 7 iters - error =  0.08058 - cpu=0ms\n",
      "2003Y1: 8 iters - error =  0.07217 - cpu=0ms\n",
      "2003Y1: 9 iters - error =  0.06001 - cpu=0ms\n",
      "2003Y1: 10 iters - error =    0.052 - cpu=0ms\n",
      "2003Y1: 11 iters - error =  0.03988 - cpu=0ms\n",
      "2003Y1: 12 iters - error =  0.04485 - cpu=0ms\n",
      "2003Y1: 13 iters - error =  0.02861 - cpu=0ms\n",
      "2003Y1: 14 iters - error =  0.01684 - cpu=0ms\n",
      "2003Y1: 15 iters - error =  0.02294 - cpu=0ms\n",
      "2003Y1: 16 iters - error =  0.01348 - cpu=0ms\n",
      "2003Y1: 17 iters - error = 0.007891 - cpu=0ms\n",
      "2003Y1: 18 iters - error =   0.0105 - cpu=0ms\n",
      "2003Y1: 19 iters - error = 0.006378 - cpu=0ms\n",
      "2003Y1: 20 iters - error = 0.004615 - cpu=0ms\n",
      "2003Y1: 21 iters - error = 0.005244 - cpu=0ms\n",
      "2003Y1: 22 iters - error = 0.003331 - cpu=0ms\n",
      "2003Y1: 23 iters - error = 0.002966 - cpu=0ms\n",
      "2003Y1: 24 iters - error = 0.003183 - cpu=0ms\n",
      "2003Y1: 25 iters - error = 0.001939 - cpu=0ms\n",
      "2003Y1: 26 iters - error = 0.001651 - cpu=0ms\n",
      "2003Y1: 27 iters - error = 0.002027 - cpu=0ms\n",
      "2003Y1: 28 iters - error = 0.001192 - cpu=0ms\n",
      "2003Y1: 29 iters - error = 0.0008518 - cpu=0ms\n",
      "2004Y1: 1 iters - error =   0.7476 - cpu=0ms\n",
      "2004Y1: 2 iters - error =   0.1119 - cpu=0ms\n",
      "2004Y1: 3 iters - error =    1.048 - cpu=0ms\n",
      "2004Y1: 4 iters - error =  0.04751 - cpu=0ms\n",
      "2004Y1: 5 iters - error =  0.09179 - cpu=0ms\n",
      "2004Y1: 6 iters - error =   0.6823 - cpu=0ms\n",
      "2004Y1: 7 iters - error =  0.04999 - cpu=0ms\n",
      "2004Y1: 8 iters - error =   0.1978 - cpu=0ms\n",
      "2004Y1: 9 iters - error =   0.1691 - cpu=0ms\n",
      "2004Y1: 10 iters - error =  0.07599 - cpu=0ms\n",
      "2004Y1: 11 iters - error =  0.09744 - cpu=0ms\n",
      "2004Y1: 12 iters - error =  0.02245 - cpu=0ms\n",
      "2004Y1: 13 iters - error =  0.05014 - cpu=0ms\n",
      "2004Y1: 14 iters - error =  0.02967 - cpu=0ms\n",
      "2004Y1: 15 iters - error =  0.01254 - cpu=0ms\n",
      "2004Y1: 16 iters - error =  0.02579 - cpu=0ms\n",
      "2004Y1: 17 iters - error = 0.009859 - cpu=0ms\n",
      "2004Y1: 18 iters - error = 0.007254 - cpu=0ms\n",
      "2004Y1: 19 iters - error =  0.01295 - cpu=0ms\n",
      "2004Y1: 20 iters - error = 0.007628 - cpu=0ms\n",
      "2004Y1: 21 iters - error = 0.002349 - cpu=0ms\n",
      "2004Y1: 22 iters - error =  0.00658 - cpu=0ms\n",
      "2004Y1: 23 iters - error = 0.006031 - cpu=0ms\n",
      "2004Y1: 24 iters - error = 0.001247 - cpu=0ms\n",
      "2004Y1: 25 iters - error = 0.003276 - cpu=0ms\n",
      "2004Y1: 26 iters - error = 0.003524 - cpu=0ms\n",
      "2004Y1: 27 iters - error = 0.0008072 - cpu=0ms\n",
      "2005Y1: 1 iters - error =    1.456 - cpu=0ms\n",
      "2005Y1: 2 iters - error =  0.04908 - cpu=0ms\n",
      "2005Y1: 3 iters - error =   0.2206 - cpu=0ms\n",
      "2005Y1: 4 iters - error =  0.02286 - cpu=0ms\n",
      "2005Y1: 5 iters - error =  0.05554 - cpu=0ms\n",
      "2005Y1: 6 iters - error =   0.2497 - cpu=0ms\n",
      "2005Y1: 7 iters - error =  0.05886 - cpu=0ms\n",
      "2005Y1: 8 iters - error =   0.1939 - cpu=0ms\n",
      "2005Y1: 9 iters - error =   0.1009 - cpu=0ms\n",
      "2005Y1: 10 iters - error =  0.07312 - cpu=0ms\n",
      "2005Y1: 11 iters - error =  0.09347 - cpu=0ms\n",
      "2005Y1: 12 iters - error =  0.01783 - cpu=0ms\n",
      "2005Y1: 13 iters - error =  0.04225 - cpu=0ms\n",
      "2005Y1: 14 iters - error =  0.02445 - cpu=0ms\n",
      "2005Y1: 15 iters - error =  0.01179 - cpu=0ms\n",
      "2005Y1: 16 iters - error =  0.02065 - cpu=0ms\n",
      "2005Y1: 17 iters - error = 0.006419 - cpu=0ms\n",
      "2005Y1: 18 iters - error =  0.00744 - cpu=0ms\n",
      "2005Y1: 19 iters - error =  0.01042 - cpu=0ms\n",
      "2005Y1: 20 iters - error = 0.005133 - cpu=0ms\n",
      "2005Y1: 21 iters - error = 0.001777 - cpu=0ms\n",
      "2005Y1: 22 iters - error = 0.005452 - cpu=0ms\n",
      "2005Y1: 23 iters - error = 0.004363 - cpu=0ms\n",
      "2005Y1: 24 iters - error = 0.0008932 - cpu=0ms\n",
      "2006Y1: 1 iters - error =   0.3748 - cpu=0ms\n",
      "2006Y1: 2 iters - error =  0.05364 - cpu=0ms\n",
      "2006Y1: 3 iters - error =  0.09185 - cpu=0ms\n",
      "2006Y1: 4 iters - error =  0.01464 - cpu=0ms\n",
      "2006Y1: 5 iters - error =  0.03955 - cpu=0ms\n",
      "2006Y1: 6 iters - error =  0.07795 - cpu=0ms\n",
      "2006Y1: 7 iters - error =  0.03603 - cpu=0ms\n",
      "2006Y1: 8 iters - error =  0.05526 - cpu=0ms\n",
      "2006Y1: 9 iters - error =  0.02942 - cpu=0ms\n",
      "2006Y1: 10 iters - error =  0.02179 - cpu=0ms\n",
      "2006Y1: 11 iters - error =  0.02527 - cpu=0ms\n",
      "2006Y1: 12 iters - error =  0.01991 - cpu=0ms\n",
      "2006Y1: 13 iters - error =  0.01505 - cpu=0ms\n",
      "2006Y1: 14 iters - error = 0.009153 - cpu=0ms\n",
      "2006Y1: 15 iters - error =  0.01204 - cpu=0ms\n",
      "2006Y1: 16 iters - error = 0.009105 - cpu=0ms\n",
      "2006Y1: 17 iters - error = 0.003616 - cpu=0ms\n",
      "2006Y1: 18 iters - error = 0.005353 - cpu=0ms\n",
      "2006Y1: 19 iters - error = 0.004054 - cpu=0ms\n",
      "2006Y1: 20 iters - error = 0.001791 - cpu=0ms\n",
      "2006Y1: 21 iters - error = 0.002029 - cpu=0ms\n",
      "2006Y1: 22 iters - error = 0.001538 - cpu=0ms\n",
      "2006Y1: 23 iters - error = 0.0009519 - cpu=0ms\n",
      "2007Y1: 1 iters - error =   0.3861 - cpu=16ms\n",
      "2007Y1: 2 iters - error =   0.1482 - cpu=0ms\n",
      "2007Y1: 3 iters - error =   0.1089 - cpu=0ms\n",
      "2007Y1: 4 iters - error =     0.02 - cpu=0ms\n",
      "2007Y1: 5 iters - error =  0.06446 - cpu=0ms\n",
      "2007Y1: 6 iters - error =  0.07199 - cpu=0ms\n",
      "2007Y1: 7 iters - error =  0.04285 - cpu=0ms\n",
      "2007Y1: 8 iters - error =  0.04536 - cpu=0ms\n",
      "2007Y1: 9 iters - error =  0.02663 - cpu=0ms\n",
      "2007Y1: 10 iters - error =  0.01737 - cpu=0ms\n",
      "2007Y1: 11 iters - error =  0.01978 - cpu=0ms\n",
      "2007Y1: 12 iters - error =  0.02513 - cpu=0ms\n",
      "2007Y1: 13 iters - error =  0.01736 - cpu=0ms\n",
      "2007Y1: 14 iters - error =    0.014 - cpu=0ms\n",
      "2007Y1: 15 iters - error =  0.01611 - cpu=0ms\n",
      "2007Y1: 16 iters - error =  0.01114 - cpu=0ms\n",
      "2007Y1: 17 iters - error =  0.00517 - cpu=0ms\n",
      "2007Y1: 18 iters - error =   0.0069 - cpu=0ms\n",
      "2007Y1: 19 iters - error = 0.004782 - cpu=0ms\n",
      "2007Y1: 20 iters - error = 0.002058 - cpu=0ms\n",
      "2007Y1: 21 iters - error = 0.002319 - cpu=0ms\n",
      "2007Y1: 22 iters - error = 0.001608 - cpu=0ms\n",
      "2007Y1: 23 iters - error = 0.0008991 - cpu=0ms\n",
      "2008Y1: 1 iters - error =     1.83 - cpu=0ms\n",
      "2008Y1: 2 iters - error =   0.1791 - cpu=0ms\n",
      "2008Y1: 3 iters - error =   0.3285 - cpu=0ms\n",
      "2008Y1: 4 iters - error =   0.0357 - cpu=0ms\n",
      "2008Y1: 5 iters - error =  0.07899 - cpu=0ms\n",
      "2008Y1: 6 iters - error =   0.1843 - cpu=0ms\n",
      "2008Y1: 7 iters - error =   0.1282 - cpu=0ms\n",
      "2008Y1: 8 iters - error =   0.2269 - cpu=0ms\n",
      "2008Y1: 9 iters - error =  0.05006 - cpu=0ms\n",
      "2008Y1: 10 iters - error =   0.1186 - cpu=0ms\n",
      "2008Y1: 11 iters - error =  0.08972 - cpu=0ms\n",
      "2008Y1: 12 iters - error =  0.02022 - cpu=0ms\n",
      "2008Y1: 13 iters - error =  0.03951 - cpu=0ms\n",
      "2008Y1: 14 iters - error =  0.01977 - cpu=0ms\n",
      "2008Y1: 15 iters - error =  0.01641 - cpu=0ms\n",
      "2008Y1: 16 iters - error = 0.009136 - cpu=0ms\n",
      "2008Y1: 17 iters - error = 0.008439 - cpu=0ms\n",
      "2008Y1: 18 iters - error =  0.01059 - cpu=0ms\n",
      "2008Y1: 19 iters - error = 0.004835 - cpu=0ms\n",
      "2008Y1: 20 iters - error = 0.002527 - cpu=0ms\n",
      "2008Y1: 21 iters - error = 0.005263 - cpu=0ms\n",
      "2008Y1: 22 iters - error = 0.004564 - cpu=0ms\n",
      "2008Y1: 23 iters - error = 0.001349 - cpu=0ms\n",
      "2008Y1: 24 iters - error = 0.002029 - cpu=0ms\n",
      "2008Y1: 25 iters - error = 0.003034 - cpu=0ms\n",
      "2008Y1: 26 iters - error = 0.001441 - cpu=0ms\n",
      "2008Y1: 27 iters - error = 0.0006797 - cpu=0ms\n",
      "2009Y1: 1 iters - error =   0.1848 - cpu=0ms\n",
      "2009Y1: 2 iters - error =   0.0475 - cpu=0ms\n",
      "2009Y1: 3 iters - error =   0.1111 - cpu=0ms\n",
      "2009Y1: 4 iters - error =  0.02079 - cpu=0ms\n",
      "2009Y1: 5 iters - error =  0.02227 - cpu=0ms\n",
      "2009Y1: 6 iters - error =  0.05414 - cpu=0ms\n",
      "2009Y1: 7 iters - error =  0.08717 - cpu=0ms\n",
      "2009Y1: 8 iters - error =  0.04485 - cpu=0ms\n",
      "2009Y1: 9 iters - error =  0.05714 - cpu=0ms\n",
      "2009Y1: 10 iters - error =  0.02805 - cpu=0ms\n",
      "2009Y1: 11 iters - error =  0.02205 - cpu=0ms\n",
      "2009Y1: 12 iters - error =  0.01953 - cpu=0ms\n",
      "2009Y1: 13 iters - error = 0.009677 - cpu=0ms\n",
      "2009Y1: 14 iters - error =  0.02168 - cpu=0ms\n",
      "2009Y1: 15 iters - error =  0.01088 - cpu=0ms\n",
      "2009Y1: 16 iters - error = 0.007067 - cpu=0ms\n",
      "2009Y1: 17 iters - error =  0.01167 - cpu=0ms\n",
      "2009Y1: 18 iters - error = 0.006161 - cpu=0ms\n",
      "2009Y1: 19 iters - error = 0.003065 - cpu=0ms\n",
      "2009Y1: 20 iters - error =  0.00519 - cpu=0ms\n",
      "2009Y1: 21 iters - error = 0.003574 - cpu=0ms\n",
      "2009Y1: 22 iters - error = 0.001781 - cpu=0ms\n",
      "2009Y1: 23 iters - error = 0.001976 - cpu=0ms\n",
      "2009Y1: 24 iters - error = 0.001704 - cpu=0ms\n",
      "2009Y1: 25 iters - error = 0.0008494 - cpu=0ms\n",
      "2010Y1: 1 iters - error =   0.1323 - cpu=0ms\n",
      "2010Y1: 2 iters - error =  0.02419 - cpu=0ms\n",
      "2010Y1: 3 iters - error =  0.04883 - cpu=0ms\n",
      "2010Y1: 4 iters - error =  0.05473 - cpu=0ms\n",
      "2010Y1: 5 iters - error =  0.03387 - cpu=0ms\n",
      "2010Y1: 6 iters - error =  0.01942 - cpu=0ms\n",
      "2010Y1: 7 iters - error =  0.01793 - cpu=0ms\n",
      "2010Y1: 8 iters - error =  0.01116 - cpu=0ms\n",
      "2010Y1: 9 iters - error =  0.01362 - cpu=0ms\n",
      "2010Y1: 10 iters - error =  0.01024 - cpu=0ms\n",
      "2010Y1: 11 iters - error =  0.01412 - cpu=0ms\n",
      "2010Y1: 12 iters - error = 0.008799 - cpu=0ms\n",
      "2010Y1: 13 iters - error =  0.01206 - cpu=0ms\n",
      "2010Y1: 14 iters - error =  0.01227 - cpu=0ms\n",
      "2010Y1: 15 iters - error =  0.00764 - cpu=0ms\n",
      "2010Y1: 16 iters - error = 0.008189 - cpu=0ms\n",
      "2010Y1: 17 iters - error = 0.006221 - cpu=0ms\n",
      "2010Y1: 18 iters - error = 0.003868 - cpu=0ms\n",
      "2010Y1: 19 iters - error = 0.002978 - cpu=0ms\n",
      "2010Y1: 20 iters - error = 0.002575 - cpu=0ms\n",
      "2010Y1: 21 iters - error =   0.0016 - cpu=0ms\n",
      "2010Y1: 22 iters - error = 0.0009308 - cpu=0ms\n",
      "2011Y1: 1 iters - error =   0.1407 - cpu=0ms\n",
      "2011Y1: 2 iters - error =  0.05322 - cpu=0ms\n",
      "2011Y1: 3 iters - error =  0.03522 - cpu=0ms\n",
      "2011Y1: 4 iters - error =  0.06519 - cpu=0ms\n",
      "2011Y1: 5 iters - error =  0.04265 - cpu=0ms\n",
      "2011Y1: 6 iters - error =  0.03215 - cpu=0ms\n",
      "2011Y1: 7 iters - error =  0.02126 - cpu=0ms\n",
      "2011Y1: 8 iters - error = 0.005832 - cpu=0ms\n",
      "2011Y1: 9 iters - error = 0.005093 - cpu=0ms\n",
      "2011Y1: 10 iters - error =  0.01685 - cpu=0ms\n",
      "2011Y1: 11 iters - error =  0.01105 - cpu=0ms\n",
      "2011Y1: 12 iters - error = 0.008473 - cpu=0ms\n",
      "2011Y1: 13 iters - error =  0.01348 - cpu=0ms\n",
      "2011Y1: 14 iters - error = 0.008833 - cpu=0ms\n",
      "2011Y1: 15 iters - error = 0.005075 - cpu=0ms\n",
      "2011Y1: 16 iters - error = 0.008186 - cpu=0ms\n",
      "2011Y1: 17 iters - error = 0.005368 - cpu=0ms\n",
      "2011Y1: 18 iters - error = 0.002448 - cpu=0ms\n",
      "2011Y1: 19 iters - error = 0.003072 - cpu=0ms\n",
      "2011Y1: 20 iters - error = 0.002017 - cpu=0ms\n",
      "2011Y1: 21 iters - error = 0.0008955 - cpu=0ms\n",
      "2012Y1: 1 iters - error =   0.1441 - cpu=0ms\n",
      "2012Y1: 2 iters - error =  0.06864 - cpu=0ms\n",
      "2012Y1: 3 iters - error =  0.02902 - cpu=0ms\n",
      "2012Y1: 4 iters - error =  0.07885 - cpu=0ms\n",
      "2012Y1: 5 iters - error =   0.0496 - cpu=0ms\n",
      "2012Y1: 6 iters - error =  0.05045 - cpu=0ms\n",
      "2012Y1: 7 iters - error =  0.03225 - cpu=0ms\n",
      "2012Y1: 8 iters - error =  0.01118 - cpu=0ms\n",
      "2012Y1: 9 iters - error =  0.01066 - cpu=0ms\n",
      "2012Y1: 10 iters - error =  0.02081 - cpu=0ms\n",
      "2012Y1: 11 iters - error =   0.0131 - cpu=0ms\n",
      "2012Y1: 12 iters - error =  0.01283 - cpu=0ms\n",
      "2012Y1: 13 iters - error =  0.01469 - cpu=0ms\n",
      "2012Y1: 14 iters - error =  0.00925 - cpu=0ms\n",
      "2012Y1: 15 iters - error = 0.005597 - cpu=0ms\n",
      "2012Y1: 16 iters - error = 0.008443 - cpu=0ms\n",
      "2012Y1: 17 iters - error = 0.005323 - cpu=0ms\n",
      "2012Y1: 18 iters - error = 0.002231 - cpu=0ms\n",
      "2012Y1: 19 iters - error =  0.00306 - cpu=0ms\n",
      "2012Y1: 20 iters - error = 0.001931 - cpu=0ms\n",
      "2012Y1: 21 iters - error = 0.001118 - cpu=0ms\n",
      "2012Y1: 22 iters - error = 0.001079 - cpu=0ms\n",
      "2012Y1: 23 iters - error = 0.0006811 - cpu=0ms\n",
      "2013Y1: 1 iters - error =   0.1459 - cpu=0ms\n",
      "2013Y1: 2 iters - error =  0.06801 - cpu=0ms\n",
      "2013Y1: 3 iters - error =  0.02858 - cpu=0ms\n",
      "2013Y1: 4 iters - error =  0.08317 - cpu=0ms\n",
      "2013Y1: 5 iters - error =  0.04917 - cpu=0ms\n",
      "2013Y1: 6 iters - error =  0.06038 - cpu=0ms\n",
      "2013Y1: 7 iters - error =  0.03646 - cpu=0ms\n",
      "2013Y1: 8 iters - error =  0.01522 - cpu=0ms\n",
      "2013Y1: 9 iters - error =  0.01256 - cpu=0ms\n",
      "2013Y1: 10 iters - error =  0.02177 - cpu=0ms\n",
      "2013Y1: 11 iters - error =  0.01285 - cpu=0ms\n",
      "2013Y1: 12 iters - error =  0.01368 - cpu=0ms\n",
      "2013Y1: 13 iters - error =  0.01485 - cpu=0ms\n",
      "2013Y1: 14 iters - error = 0.008774 - cpu=0ms\n",
      "2013Y1: 15 iters - error = 0.005647 - cpu=0ms\n",
      "2013Y1: 16 iters - error = 0.008261 - cpu=0ms\n",
      "2013Y1: 17 iters - error = 0.004888 - cpu=0ms\n",
      "2013Y1: 18 iters - error =  0.00214 - cpu=0ms\n",
      "2013Y1: 19 iters - error = 0.002771 - cpu=0ms\n",
      "2013Y1: 20 iters - error = 0.001642 - cpu=0ms\n",
      "2013Y1: 21 iters - error = 0.001127 - cpu=0ms\n",
      "2013Y1: 22 iters - error = 0.0009004 - cpu=0ms\n",
      "2014Y1: 1 iters - error =   0.1403 - cpu=0ms\n",
      "2014Y1: 2 iters - error =  0.04933 - cpu=0ms\n",
      "2014Y1: 3 iters - error =  0.03131 - cpu=0ms\n",
      "2014Y1: 4 iters - error =   0.0836 - cpu=0ms\n",
      "2014Y1: 5 iters - error =  0.04559 - cpu=0ms\n",
      "2014Y1: 6 iters - error =  0.05751 - cpu=0ms\n",
      "2014Y1: 7 iters - error =  0.03209 - cpu=0ms\n",
      "2014Y1: 8 iters - error =  0.01582 - cpu=0ms\n",
      "2014Y1: 9 iters - error = 0.008559 - cpu=0ms\n",
      "2014Y1: 10 iters - error =  0.02079 - cpu=0ms\n",
      "2014Y1: 11 iters - error =  0.01128 - cpu=0ms\n",
      "2014Y1: 12 iters - error =  0.01334 - cpu=16ms\n",
      "2014Y1: 13 iters - error =  0.01501 - cpu=0ms\n",
      "2014Y1: 14 iters - error = 0.008159 - cpu=0ms\n",
      "2014Y1: 15 iters - error = 0.005495 - cpu=0ms\n",
      "2014Y1: 16 iters - error = 0.008547 - cpu=0ms\n",
      "2014Y1: 17 iters - error =  0.00465 - cpu=0ms\n",
      "2014Y1: 18 iters - error = 0.001798 - cpu=0ms\n",
      "2014Y1: 19 iters - error = 0.002687 - cpu=0ms\n",
      "2014Y1: 20 iters - error = 0.001464 - cpu=0ms\n",
      "2014Y1: 21 iters - error = 0.0009068 - cpu=0ms\n",
      "2015Y1: 1 iters - error =   0.1324 - cpu=0ms\n",
      "2015Y1: 2 iters - error =  0.02634 - cpu=0ms\n",
      "2015Y1: 3 iters - error =  0.03397 - cpu=0ms\n",
      "2015Y1: 4 iters - error =  0.08506 - cpu=0ms\n",
      "2015Y1: 5 iters - error =  0.04498 - cpu=0ms\n",
      "2015Y1: 6 iters - error =  0.04602 - cpu=0ms\n",
      "2015Y1: 7 iters - error =  0.02487 - cpu=0ms\n",
      "2015Y1: 8 iters - error =  0.01191 - cpu=0ms\n",
      "2015Y1: 9 iters - error = 0.006243 - cpu=0ms\n",
      "2015Y1: 10 iters - error =  0.01808 - cpu=0ms\n",
      "2015Y1: 11 iters - error = 0.009525 - cpu=0ms\n",
      "2015Y1: 12 iters - error =  0.01186 - cpu=0ms\n",
      "2015Y1: 13 iters - error =  0.01416 - cpu=0ms\n",
      "2015Y1: 14 iters - error = 0.007464 - cpu=0ms\n",
      "2015Y1: 15 iters - error = 0.005254 - cpu=0ms\n",
      "2015Y1: 16 iters - error = 0.008526 - cpu=0ms\n",
      "2015Y1: 17 iters - error = 0.004497 - cpu=0ms\n",
      "2015Y1: 18 iters - error = 0.001737 - cpu=0ms\n",
      "2015Y1: 19 iters - error =  0.00267 - cpu=0ms\n",
      "2015Y1: 20 iters - error =  0.00141 - cpu=0ms\n",
      "2015Y1: 21 iters - error = 0.0006749 - cpu=0ms\n",
      "exogenous variable 'UY' after simulation:\n",
      "[671.46, 647.3906678388862, 624.1781881798956, 645.0542977503601, 661.6074127102179, 676.5611515243486, 680.8992865590999, 682.9920328779863]\n"
     ]
    }
   ],
   "source": [
    "print(f\"exogenous variable 'UY': {equations['UY'].lec}\")\n",
    "print(f\"endogenous variable 'XNATY': {identities['XNATY']}\")\n",
    "# reset values of exogenous variable\n",
    "variables[\"UY\", \"2000Y1:2015Y1\"] = 0.0\n",
    "\n",
    "print(f\"exogenous variable 'UY' before simulation:\\n{variables['UY', '1998Y1:2005Y1']}\")\n",
    "\n",
    "# run the simulation for the periods range '2000Y1' to '2015Y1'\n",
    "simu.model_simulate(\"2000Y1\", \"2015Y1\")\n",
    "\n",
    "print(f\"exogenous variable 'UY' after simulation:\\n{variables['UY', '1998Y1:2005Y1']}\")"
   ]
  },
  {
   "cell_type": "markdown",
   "metadata": {},
   "source": [
    "## Import/Export IODE workspaces to pandas Series and DataFrame\n",
    "\n",
    "To import / export the content of the `comments`, `identities` and `lists` workspaces to a pandas Series object, use the [from_series()](../_generated/iode.Comments.from_series.rst#iode.Comments.from_series) and [to_series()](../_generated/iode.Comments.to_series.rst#iode.Comments.to_series) methods. \n",
    "\n",
    "Alternatively, you can use the [series](../_generated/iode.Comments.series.rst#iode.Comments.series) property to export the content of the `comments`, `identities` and `lists` workspaces to a pandas Series object."
   ]
  },
  {
   "cell_type": "code",
   "execution_count": 156,
   "metadata": {},
   "outputs": [
    {
     "name": "stdout",
     "output_type": "stream",
     "text": [
      "Comments as pandas Series:\n",
      "<bound method Series.info of ACAF        Ondernemingen: ontvangen kapitaaloverdrachten.\n",
      "ACAG     Totale overheid: netto ontvangen kapitaaloverd...\n",
      "AOUC                             Kost per eenheid produkt.\n",
      "AQC          Kost per eenheid produkt: kapitaal en arbeid.\n",
      "BENEF             Ondernemingen: niet-uitgekeerde winsten.\n",
      "                               ...                        \n",
      "ZF       Indexeringscoëfficiënt voor de lonen in de pri...\n",
      "ZJ       Indexeringscoëfficiënt voor de sociale uitkeri...\n",
      "ZKF            Bezettingsgraad van de produktiecapaciteit.\n",
      "ZX                          Saut d'index (correction en %)\n",
      "ZZ_      Marktsector (ondernemingen en zelfstandigen): ...\n",
      "Name: Comments, Length: 317, dtype: object>\n",
      "\n",
      "Identities as pandas Series:\n",
      "<bound method Series.info of AOUC      ((WCRH/QL)/(WCRH/QL)[1990Y1])*(VAFF/(VM+VAFF))...\n",
      "AOUC_     exp(ln(((WCF/NFYH)/QL)+PKF/(QAFF/KNFFY))*(QAFF...\n",
      "FLGR                                               FLG/VBBP\n",
      "GAP2                                  100*(QAFF_/(Q_F+Q_I))\n",
      "GAP_                                     100*((QAF_/Q_F)-1)\n",
      "GOSFR                                             GOSF/VAF_\n",
      "IUGR                                               IUG/VBBP\n",
      "KL                            exp(mavg(5,ln(NFYH/KNF[-1])))\n",
      "KNFFO                                                     1\n",
      "LCLASS    (NDOMY+NIY+NGY+EFXY-EFMY+(KNFY*KLFHP)/(0.001*H...\n",
      "LKEYN     (NDOMY+NIY+NGY+EFXY-EFMY+(QAF_*KLFHP**(1-ZZF_)...\n",
      "MU        (1-VM/VBBP)/((1-(DTH+IT+YSSG+COTRES-SBG)/VBBP)...\n",
      "NAWRU     1-exp((gamma2+gamma3*ln(W/ZJ)[-1]+gamma4*ln(WM...\n",
      "NFYHO                                                     1\n",
      "OCP                                            d DEBT + FLG\n",
      "PCO                                                       1\n",
      "PKF                                     PIF*(RLBER+VKFF+.1)\n",
      "PROD                                              QAF_/NFYH\n",
      "QCO                                                       1\n",
      "QL                                  KLFHP**(ZZF_-1)*TFPFHP_\n",
      "RDEBT                                         YIDG/DEBT[-1]\n",
      "RENT      (VAFF_-WCF_-WIND_-DTF)/(PIF*KNFF[-1]*(RLBER+VK...\n",
      "RLBER                                 .01*RLBE-d(6,ln PC)/6\n",
      "SBGX                                          (SBG-WLCP)/ZJ\n",
      "SBGXR                                               grt SBG\n",
      "SSFFX                                  COTPOS+SSFFIC-SSSMAP\n",
      "UCLASS    NATY-(NDOMY+NIY+NGY+EFXY-EFMY+(KNFY*KLFHP)/(0....\n",
      "W                                                 WBF_/NFYH\n",
      "WBGR                                      WBGP/(ZJ*TWG*NGY)\n",
      "WCRH                                               WCF/NFYH\n",
      "WMINR                                               WMIN/ZJ\n",
      "WO                                                        1\n",
      "XEX                                                  grt EX\n",
      "XNATY                                              grt NATY\n",
      "XPOIL                                              grt POIL\n",
      "XPWMAB                                            grt PWMAB\n",
      "XPWMS                                              grt PWMS\n",
      "XPWXAB                                            grt PWXAB\n",
      "XPWXS                                              grt PWXS\n",
      "XQWXAB                                            grt QWXAB\n",
      "XQWXS                                              grt QWXS\n",
      "XQWXSS                                            grt QWXSS\n",
      "XRLBER                                            RLBER*100\n",
      "XTFP                                            grt TFPFHP_\n",
      "XW                                                        0\n",
      "Y                                                    QBBP_P\n",
      "YSEFPR                                           YSEFP/WBGP\n",
      "YSFICR                                      YSFIC/(TWGP*ZJ)\n",
      "Name: Identities, dtype: object>\n",
      "\n",
      "Lists as pandas Series:\n",
      "<bound method Series.info of COPY                                      ['$COPY0', '$COPY1']\n",
      "COPY0        ['ACAF', 'ACAG', 'AOUC', 'AQC', 'BENEF', 'BQY'...\n",
      "COPY1        ['VMAB', 'VME', 'VMK', 'VMN', 'VMS', 'VMT', 'V...\n",
      "ENDO                                      ['$endo0', '$endo1']\n",
      "ENDO0        ['ACAF', 'ACAG', 'AOUC', 'AQC', 'BENEF', 'BQY'...\n",
      "ENDO1        ['VBNP_I', 'VBNP_P', 'VC', 'VC_', 'VI', 'VI5',...\n",
      "ENVI         ['EX', 'PWMAB', 'PWMS', 'PWXAB', 'PWXS', 'QWXA...\n",
      "IDT          ['OCP', 'FLGR', 'KL', 'PROD', 'QL', 'RDEBT', '...\n",
      "MAINEQ       ['W', 'NFYH', 'KNFF', 'PC', 'PXAB', 'PMAB', 'Q...\n",
      "MYLIST                      ['A02_075_H_BRU', 'A02_100_H_VLA']\n",
      "TOTAL                                   ['$TOTAL0', '$TOTAL1']\n",
      "TOTAL0       ['ACAF', 'ACAG', 'AOUC', 'AQC', 'BENEF', 'BQY'...\n",
      "TOTAL1       ['VBNP_I', 'VBNP_P', 'VC', 'VC_', 'VI', 'VI5',...\n",
      "XENVI        ['XEX', 'XPWMAB', 'XPWMS', 'XPWXAB', 'XPWXS', ...\n",
      "XSCENARIO    ['XQWXSS', 'XPWXAB', 'XPWMAB', 'XRLBER', 'XRSB...\n",
      "_SCAL        ['acaf1', 'acaf2', 'acaf3', 'dlnpaf', 'dpuh_1'...\n",
      "_SEARCH                                                ['ZKF']\n",
      "Name: Lists, dtype: object>\n"
     ]
    }
   ],
   "source": [
    "import pandas as pd\n",
    "\n",
    "# ---- to pandas Series ----\n",
    "# See Comments/Identities/Lists.to_series and \n",
    "#     Comments/Identities/Lists.series\n",
    "\n",
    "series_cmt = comments.to_series()\n",
    "print(f\"Comments as pandas Series:\\n{series_cmt.info}\")\n",
    "print()\n",
    "\n",
    "series_idt = identities.to_series()\n",
    "print(f\"Identities as pandas Series:\\n{series_idt.info}\")\n",
    "print()\n",
    "\n",
    "series_lst = lists.to_series()\n",
    "print(f\"Lists as pandas Series:\\n{series_lst.info}\")\n",
    "\n",
    "# Alternatively\n",
    "\n",
    "series_cmt = comments.series\n",
    "series_idt = identities.series\n",
    "series_lst = lists.series\n",
    "\n",
    "# ---- from pandas Series ----\n",
    "# See Comments/Identities/Lists.from_series\n",
    "\n",
    "comments.from_series(series_cmt)\n",
    "identities.from_series(series_idt)\n",
    "lists.from_series(series_lst)"
   ]
  },
  {
   "cell_type": "markdown",
   "metadata": {},
   "source": [
    "To import / export the content of the `equations`, `scalars` and `variables` workspaces to a pandas DataFrame object, use the [from_frame()](../_generated/iode.Variables.from_frame.rst#iode.Variables.from_frame) and [to_frame()](../_generated/iode.Variables.to_frame.rst#iode.Variables.to_frame) methods. \n",
    "\n",
    "Alternatively, you can use the [df](../_generated/iode.Variables.df.rst#iode.Variables.df) property to export the content of the `equations`, `scalars` and `variables` workspaces to a pandas DataFrame object."
   ]
  },
  {
   "cell_type": "code",
   "execution_count": 157,
   "metadata": {},
   "outputs": [
    {
     "name": "stdout",
     "output_type": "stream",
     "text": [
      "Equations as pandas DataFrame:\n",
      "<bound method DataFrame.info of                                                      lec method  \\\n",
      "ACAF   (ACAF/VAF[-1]) :=acaf1+acaf2*GOSF[-1]+\\nacaf4*...    LSQ   \n",
      "ACAG   ACAG := ACAG[-1]+r VBBP[-1]+(0.006*VBBP[-1]*(T...    LSQ   \n",
      "AOUC   AOUC:=((WCRH/QL)/(WCRH/QL)[1990Y1])*(VAFF/(VM+...    LSQ   \n",
      "BENEF  d BENEF :=d(VBNP-(IT+ITCEE)+SUB-DPUU-(WCF+SSFF...    LSQ   \n",
      "BQY                                    BQY:=(YK+YN)/PBBP    LSQ   \n",
      "...                                                  ...    ...   \n",
      "YSSF                                  dln YSSF:=dln WBF_    LSQ   \n",
      "YSSG                       YSSG := SSF+SSH-(YSSF+COTRES)    LSQ   \n",
      "ZF                       grt ZF :=grt PC+ZX-0.05*grt PME    LSQ   \n",
      "ZJ                      grt ZJ :=grt PC +ZX-0.05*grt PME    LSQ   \n",
      "ZZF_                                    ZZF_ := ZZF_[-1]    LSQ   \n",
      "\n",
      "              sample comment instruments      block  corr    stdev     meany  \\\n",
      "ACAF   1980Y1:1996Y1                      ACAF;DPUH   1.0  0.00427  0.008185   \n",
      "ACAG            None                           ACAG   0.0  0.00000  0.000000   \n",
      "AOUC            None                           AOUC   0.0  0.00000  0.000000   \n",
      "BENEF           None                          BENEF   0.0  0.00000  0.000000   \n",
      "BQY             None                            BQY   0.0  0.00000  0.000000   \n",
      "...              ...     ...         ...        ...   ...      ...       ...   \n",
      "YSSF            None                           YSSF   0.0  0.00000  0.000000   \n",
      "YSSG            None                           YSSG   0.0  0.00000  0.000000   \n",
      "ZF              None                             ZF   0.0  0.00000  0.000000   \n",
      "ZJ              None                             ZJ   0.0  0.00000  0.000000   \n",
      "ZZF_            None                           ZZF_   0.0  0.00000  0.000000   \n",
      "\n",
      "          ssres    stderr    stderrp      fstat        r2    r2adj       dw  \\\n",
      "ACAF   0.000052  0.001927  23.542242  32.285107  0.821815  0.79636  2.33007   \n",
      "ACAG   0.000000  0.000000   0.000000   0.000000  0.000000  0.00000  0.00000   \n",
      "AOUC   0.000000  0.000000   0.000000   0.000000  0.000000  0.00000  0.00000   \n",
      "BENEF  0.000000  0.000000   0.000000   0.000000  0.000000  0.00000  0.00000   \n",
      "BQY    0.000000  0.000000   0.000000   0.000000  0.000000  0.00000  0.00000   \n",
      "...         ...       ...        ...        ...       ...      ...      ...   \n",
      "YSSF   0.000000  0.000000   0.000000   0.000000  0.000000  0.00000  0.00000   \n",
      "YSSG   0.000000  0.000000   0.000000   0.000000  0.000000  0.00000  0.00000   \n",
      "ZF     0.000000  0.000000   0.000000   0.000000  0.000000  0.00000  0.00000   \n",
      "ZJ     0.000000  0.000000   0.000000   0.000000  0.000000  0.00000  0.00000   \n",
      "ZZF_   0.000000  0.000000   0.000000   0.000000  0.000000  0.00000  0.00000   \n",
      "\n",
      "          loglik        date  \n",
      "ACAF   83.810104  02-01-2025  \n",
      "ACAG    0.000000              \n",
      "AOUC    0.000000              \n",
      "BENEF   0.000000              \n",
      "BQY     0.000000              \n",
      "...          ...         ...  \n",
      "YSSF    0.000000              \n",
      "YSSG    0.000000              \n",
      "ZF      0.000000              \n",
      "ZJ      0.000000              \n",
      "ZZF_    0.000000              \n",
      "\n",
      "[274 rows x 18 columns]>\n",
      "\n",
      "Scalars as pandas DataFrame:\n",
      "<bound method DataFrame.info of            value  relax       std\n",
      "acaf1   0.015770    1.0  0.001361\n",
      "acaf2  -0.000008    1.0  0.000001\n",
      "acaf3   2.502560    1.0  0.873010\n",
      "acaf4  -0.008503    1.0  0.002066\n",
      "dlnpaf  0.900000    1.0       NaN\n",
      "...          ...    ...       ...\n",
      "y6      0.000000    0.0  0.000000\n",
      "y7     -0.154957    1.0  0.323920\n",
      "zkf1    0.201117    1.0  0.375671\n",
      "zkf2    0.792063    1.0  0.181193\n",
      "zkf3   -7.271244    1.0  2.676398\n",
      "\n",
      "[173 rows x 3 columns]>\n",
      "\n",
      "Variables as pandas DataFrame:\n",
      "<bound method DataFrame.info of time      1960Y1    1961Y1    1962Y1    1963Y1    1964Y1    1965Y1    1966Y1  \\\n",
      "names                                                                          \n",
      "ACAF         NaN       NaN       NaN       NaN       NaN       NaN       NaN   \n",
      "ACAG         NaN       NaN       NaN       NaN       NaN       NaN       NaN   \n",
      "AOUC         NaN  0.247832  0.254568  0.263796  0.276243  0.285806  0.297213   \n",
      "AOUC_        NaN       NaN       NaN       NaN       NaN       NaN  0.274546   \n",
      "AQC      0.21753  0.215449  0.222281  0.229539  0.236535  0.247324  0.262551   \n",
      "...          ...       ...       ...       ...       ...       ...       ...   \n",
      "_YCALC1      NaN       NaN       NaN       NaN       NaN       NaN       NaN   \n",
      "_YOBS0       NaN       NaN       NaN       NaN       NaN       NaN       NaN   \n",
      "_YOBS1       NaN       NaN       NaN       NaN       NaN       NaN       NaN   \n",
      "_YRES0       NaN       NaN       NaN       NaN       NaN       NaN       NaN   \n",
      "_YRES1       NaN       NaN       NaN       NaN       NaN       NaN       NaN   \n",
      "\n",
      "time       1967Y1    1968Y1    1969Y1  ...     2006Y1     2007Y1     2008Y1  \\\n",
      "names                                  ...                                    \n",
      "ACAF          NaN       NaN       NaN  ... -29.239319 -33.523553 -38.530775   \n",
      "ACAG          NaN       NaN       NaN  ...  26.912151  27.943379  28.974618   \n",
      "AOUC     0.306346  0.307979  0.317038  ...   1.200849   1.220734   1.264284   \n",
      "AOUC_    0.282045  0.285986  0.294525  ...   1.185897   1.195166   1.213834   \n",
      "AQC      0.269070  0.272069  0.279866  ...   1.398064   1.407913   1.425645   \n",
      "...           ...       ...       ...  ...        ...        ...        ...   \n",
      "_YCALC1       NaN       NaN       NaN  ...        NaN        NaN        NaN   \n",
      "_YOBS0        NaN       NaN       NaN  ...        NaN        NaN        NaN   \n",
      "_YOBS1        NaN       NaN       NaN  ...        NaN        NaN        NaN   \n",
      "_YRES0        NaN       NaN       NaN  ...        NaN        NaN        NaN   \n",
      "_YRES1        NaN       NaN       NaN  ...        NaN        NaN        NaN   \n",
      "\n",
      "time        2009Y1     2010Y1     2011Y1     2012Y1     2013Y1     2014Y1  \\\n",
      "names                                                                       \n",
      "ACAF    -37.253230 -37.444568 -44.192417 -55.300551 -68.832120 -83.435278   \n",
      "ACAG     30.011728  31.035088  32.065488  33.104837  34.151202  35.201558   \n",
      "AOUC      1.288301   1.307967   1.329292   1.356158   1.388426   1.424418   \n",
      "AOUC_     1.231854   1.250164   1.274261   1.304590   1.338086   1.373010   \n",
      "AQC       1.446332   1.462868   1.482274   1.513666   1.558039   1.613181   \n",
      "...            ...        ...        ...        ...        ...        ...   \n",
      "_YCALC1        NaN        NaN        NaN        NaN        NaN        NaN   \n",
      "_YOBS0         NaN        NaN        NaN        NaN        NaN        NaN   \n",
      "_YOBS1         NaN        NaN        NaN        NaN        NaN        NaN   \n",
      "_YRES0         NaN        NaN        NaN        NaN        NaN        NaN   \n",
      "_YRES1         NaN        NaN        NaN        NaN        NaN        NaN   \n",
      "\n",
      "time        2015Y1  \n",
      "names               \n",
      "ACAF    -96.595392  \n",
      "ACAG     36.250965  \n",
      "AOUC      1.461590  \n",
      "AOUC_     1.407557  \n",
      "AQC       1.674291  \n",
      "...            ...  \n",
      "_YCALC1        NaN  \n",
      "_YOBS0         NaN  \n",
      "_YOBS1         NaN  \n",
      "_YRES0         NaN  \n",
      "_YRES1         NaN  \n",
      "\n",
      "[400 rows x 56 columns]>\n"
     ]
    },
    {
     "name": "stderr",
     "output_type": "stream",
     "text": [
      "C:\\Users\\ALD\\AppData\\Local\\Temp\\ipykernel_11644\\1615955290.py:5: UserWarning: 'sample' is not defined\n",
      "  df_eqs = equations.to_frame()\n",
      "C:\\Users\\ALD\\AppData\\Local\\Temp\\ipykernel_11644\\1615955290.py:18: UserWarning: 'sample' is not defined\n",
      "  df_eqs = equations.df\n"
     ]
    }
   ],
   "source": [
    "# ---- to pandas DataFrame ----\n",
    "# See Equations/Scalars/Variables.to_frame and\n",
    "#     Equations/Scalars/Variables.df\n",
    "\n",
    "df_eqs = equations.to_frame()\n",
    "print(f\"Equations as pandas DataFrame:\\n{df_eqs.info}\")\n",
    "print()\n",
    "\n",
    "df_scl = scalars.to_frame()\n",
    "print(f\"Scalars as pandas DataFrame:\\n{df_scl.info}\")\n",
    "print()\n",
    "\n",
    "df_vars = variables.to_frame()\n",
    "print(f\"Variables as pandas DataFrame:\\n{df_vars.info}\")\n",
    "\n",
    "# Alternatively\n",
    "\n",
    "df_eqs = equations.df\n",
    "df_scl = scalars.df\n",
    "df_vars = variables.df\n",
    "\n",
    "# ---- from pandas DataFrame ----\n",
    "# See Equations/Scalars/Variables.from_frame\n",
    "\n",
    "equations.from_frame(df_eqs)\n",
    "scalars.from_frame(df_scl)\n",
    "variables.from_frame(df_vars)"
   ]
  },
  {
   "cell_type": "markdown",
   "metadata": {},
   "source": [
    "## Import/Export the Variables workspace to LArray\n",
    "\n",
    "To import / export the content of the `variables` workspaces to a LArray Array object, use the [from_array()](../_generated/iode.Variables.from_array.rst#iode.Variables.from_array) and [to_array()](../_generated/iode.Variables.to_array.rst#iode.Variables.to_array) methods:"
   ]
  },
  {
   "cell_type": "code",
   "execution_count": 158,
   "metadata": {},
   "outputs": [
    {
     "name": "stdout",
     "output_type": "stream",
     "text": [
      "Variables as LArray Array:\n",
      "400 x 56\n",
      " names [400]: 'ACAF' 'ACAG' 'AOUC' ... '_YOBS1' '_YRES0' '_YRES1'\n",
      " time [56]: '1960Y1' '1961Y1' '1962Y1' ... '2013Y1' '2014Y1' '2015Y1'\n",
      "dtype: float64\n",
      "memory used: 175.00 Kb\n"
     ]
    }
   ],
   "source": [
    "import larray as la\n",
    "\n",
    "# ---- to LArray Array ----\n",
    "# See Variables.to_array\n",
    "\n",
    "arr_vars = variables.to_array()\n",
    "print(f\"Variables as LArray Array:\\n{arr_vars.info}\")\n",
    "\n",
    "# ---- from LArray array ----\n",
    "# See Variables.from_array\n",
    "\n",
    "variables.from_array(arr_vars)"
   ]
  },
  {
   "cell_type": "markdown",
   "metadata": {},
   "source": [
    "## Execute IODE report commands/files\n",
    "\n",
    "To run an IODE command, use the [execute_command()](../_generated/iode.execute_command.rst#iode.execute_command) function:"
   ]
  },
  {
   "cell_type": "code",
   "execution_count": 159,
   "metadata": {},
   "outputs": [
    {
     "name": "stdout",
     "output_type": "stream",
     "text": [
      "Execute IODE commands (useful for IODE functions and commands not yet ported to Python):\n",
      "Saving test_var.av\n",
      "sample 2000Y1 2005Y1\n",
      "A 1 2 3 4 5 6 \n",
      "B -1 0 1 2 3 4 \n",
      "C -1 na 3 2 1.66666666666667 1.5 \n",
      "D na 100 50 33.3333333333333 25 20 \n",
      "\n"
     ]
    }
   ],
   "source": [
    "from iode import execute_command\n",
    "\n",
    "# ---- execute IODE commands ----\n",
    "print(\"Execute IODE commands (useful for IODE functions and commands not yet ported to Python):\")\n",
    "execute_command(\"$WsClearVar\")\n",
    "execute_command(\"$WsSample 2000Y1 2005Y1\")\n",
    "execute_command(\"$DataCalcVar A t+1\")\n",
    "execute_command(\"$DataCalcVar B t-1\")\n",
    "execute_command(\"$DataCalcVar C A/B\")\n",
    "execute_command(\"$DataCalcVar D grt A\")\n",
    "execute_command(\"$WsSaveVar test_var.av\")\n",
    "with open(\"test_var.av\", \"r\") as f:\n",
    "    print(f.read())"
   ]
  },
  {
   "cell_type": "markdown",
   "metadata": {},
   "source": [
    "To run an entire IODE report (i.e. file with the '.rep' extension), call the [execute_report()](../_generated/iode.execute_report.rst#iode.execute_report) function:"
   ]
  },
  {
   "cell_type": "code",
   "execution_count": 160,
   "metadata": {},
   "outputs": [
    {
     "name": "stdout",
     "output_type": "stream",
     "text": [
      "Execute an IODE report -> execute_report()\n",
      "Saving test_var.av\n",
      "sample 2000Y1 2005Y1\n",
      "A 1 2 3 4 5 6 \n",
      "B -1 0 1 2 3 4 \n",
      "C -1 na 3 2 1.66666666666667 1.5 \n",
      "D na 100 50 33.3333333333333 25 20 \n",
      "\n"
     ]
    }
   ],
   "source": [
    "from iode import execute_report\n",
    "\n",
    "# ---- execute IODE reports ----\n",
    "print(\"Execute an IODE report -> execute_report()\")\n",
    "with open(\"create_var.rep\", \"w\") as f:\n",
    "    f.write(\"$WsClearVar\\n\")\n",
    "    f.write(\"$WsSample 2000Y1 2005Y1\\n\")\n",
    "    f.write(\"$DataCalcVar %1% t+1 \\n\")\n",
    "    f.write(\"$DataCalcVar %2% t-1 \\n\")\n",
    "    f.write(\"$DataCalcVar %3% %1%/%2%\\n\")\n",
    "    f.write(\"$DataCalcVar %4% grt %1% \\n\")\n",
    "    f.write(\"$WsSaveVar test_var.av\\n\")\n",
    "\n",
    "execute_report(\"create_var.rep\", [\"A\", \"B\", \"C\", \"D\"])\n",
    "\n",
    "with open(\"test_var.av\", \"r\") as f:\n",
    "    print(f.read())\n"
   ]
  }
 ],
 "metadata": {
  "kernelspec": {
   "display_name": "base",
   "language": "python",
   "name": "python3"
  },
  "language_info": {
   "codemirror_mode": {
    "name": "ipython",
    "version": 3
   },
   "file_extension": ".py",
   "mimetype": "text/x-python",
   "name": "python",
   "nbconvert_exporter": "python",
   "pygments_lexer": "ipython3",
   "version": "3.11.9"
  }
 },
 "nbformat": 4,
 "nbformat_minor": 2
}
