{
 "cells": [
  {
   "cell_type": "markdown",
   "metadata": {},
   "source": [
    "# Getting Started\n",
    "\n",
    "The purpose of the present `Getting Started` section is to give a quick overview of the main objects, methods and functions of the Python `iode` library.\n",
    "To get a more detailed presentation of all capabilities of `iode`, read the next sections of the tutorial.\n",
    "\n",
    "The [Installation](../install.rst#installation) section describes how to install the `iode` library and the `iode-gui` graphical user interface and their dependencies.\n",
    "\n",
    "The [Introduction](../introduction.rst#introduction) section gives a brief overview of the concepts of the `IODE` tool.\n",
    "    \n",
    "The [The LEC Language](../lec_language.rst#the-lec-language) section describes the *LEC* language (\"*Langage Econométrique Condensé*\"), which is the scripting language used in the `IODE` tool to define *equations*, *identities* or any mathematical expressions to be evaluated.\n",
    "\n",
    "The [API Reference](../api.rst#api-reference) section of the documentation give you the list of all objects, methods and functions with their individual documentation and examples.\n",
    "\n",
    "The [Equivalence IODE Report Commands and IODE Python](../equivalence.rst#equivalence-iode-report-commands-and-iode-python) section contains *equivalence tables* between the IODE report syntax and the Python `iode` syntax."
   ]
  },
  {
   "cell_type": "markdown",
   "metadata": {},
   "source": [
    "To use the Python `iode` library, the first thing to do is to import objects and functions you need from it:"
   ]
  },
  {
   "cell_type": "code",
   "execution_count": 1,
   "metadata": {},
   "outputs": [],
   "source": [
    "import numpy as np\n",
    "import pandas as pd\n",
    "import larray as la\n",
    "\n",
    "from iode import Sample_DATA_DIR, NA"
   ]
  },
  {
   "cell_type": "markdown",
   "metadata": {},
   "source": [
    "To know the version of the `iode` library installed on your machine, type:"
   ]
  },
  {
   "cell_type": "code",
   "execution_count": 2,
   "metadata": {},
   "outputs": [
    {
     "data": {
      "text/plain": [
       "'7.1.0'"
      ]
     },
     "execution_count": 2,
     "metadata": {},
     "output_type": "execute_result"
    }
   ],
   "source": [
    "from iode import __version__\n",
    "__version__"
   ]
  },
  {
   "cell_type": "markdown",
   "metadata": {},
   "source": [
    "To print the documentation of an object, method or function in a Python interactive console, use the `help()` function:"
   ]
  },
  {
   "cell_type": "code",
   "execution_count": 3,
   "metadata": {},
   "outputs": [
    {
     "name": "stdout",
     "output_type": "stream",
     "text": [
      "Help on method load in module iode.iode_database.abstract_database:\n",
      "\n",
      "load(filepath: str) method of iode.iode_database.equations_database.Equations instance\n",
      "    Load objects stored in file 'filepath' into the current database.\n",
      "    Erase the database before to load the file.\n",
      "\n",
      "    Parameters\n",
      "    ----------\n",
      "    filepath: str\n",
      "        path to the file to load\n",
      "\n",
      "    Examples\n",
      "    --------\n",
      "    >>> from iode import comments, equations, identities, lists, tables, scalars, variables\n",
      "    >>> from iode import Sample_DATA_DIR\n",
      "    >>> comments.load(f\"{Sample_DATA_DIR}/fun.cmt\")         # doctest: +ELLIPSIS, +NORMALIZE_WHITESPACE\n",
      "    Loading .../fun.cmt\n",
      "    317 objects loaded\n",
      "\n",
      "    >>> equations.load(f\"{Sample_DATA_DIR}/fun.eqs\")        # doctest: +ELLIPSIS, +NORMALIZE_WHITESPACE\n",
      "    Loading .../fun.eqs\n",
      "    274 objects loaded\n",
      "\n",
      "    >>> identities.load(f\"{Sample_DATA_DIR}/fun.idt\")       # doctest: +ELLIPSIS, +NORMALIZE_WHITESPACE\n",
      "    Loading .../fun.idt\n",
      "    48 objects loaded\n",
      "\n",
      "    >>> lists.load(f\"{Sample_DATA_DIR}/fun.lst\")            # doctest: +ELLIPSIS, +NORMALIZE_WHITESPACE\n",
      "    Loading .../fun.lst\n",
      "    17 objects loaded\n",
      "\n",
      "    >>> tables.load(f\"{Sample_DATA_DIR}/fun.tbl\")           # doctest: +ELLIPSIS, +NORMALIZE_WHITESPACE\n",
      "    Loading .../fun.tbl\n",
      "    46 objects loaded\n",
      "\n",
      "    >>> scalars.load(f\"{Sample_DATA_DIR}/fun.scl\")          # doctest: +ELLIPSIS, +NORMALIZE_WHITESPACE\n",
      "    Loading .../fun.scl\n",
      "    161 objects loaded\n",
      "\n",
      "    >>> variables.load(f\"{Sample_DATA_DIR}/fun.var\")        # doctest: +ELLIPSIS, +NORMALIZE_WHITESPACE\n",
      "    Loading .../fun.var\n",
      "    394 objects loaded\n",
      "\n"
     ]
    }
   ],
   "source": [
    "from iode import equations\n",
    "\n",
    "# ---- print documentation of a function or method ----\n",
    "help(equations.load)"
   ]
  },
  {
   "cell_type": "markdown",
   "metadata": {},
   "source": [
    "## IODE Objects\n",
    "\n",
    "A model is a system of *equations*, which are formulas involving *variables*, numerical time series defined over a given period, with a specific frequency (annual, quarterly, etc.). \n",
    "The *equations* may contain coefficients (possibly estimated) which are dimensionless *variables*, called *Scalars*.\n",
    "\n",
    "The *variables* themselves are not always obtained as such, but most often result from calculations based on other *variables*, possibly coming from several sources. These calculations can be, for example, sector aggregation or a geographic dimension. The formulas used to generate those *variables* are called *identities*.\n",
    "\n",
    "The name given to each *variable* generally does not allow its content to be indicated with sufficient precision. IODE allows the creation of *comments* whose name will be identical to that of the *variables* they define. These *comments* are simply free text.\n",
    "\n",
    "When *variables* are available, it is often useful to present them in the form of tables or charts. \n",
    "IODE allows the construction of special *tables* for this purpose. Those *tables* do not contain numerical values, but formulas and text. Then, these can be \"*computed*\" so as to obtain numerical tables (called *computed tables*) or charts. This approach is very efficient: the same table can be reused to print different versions of the *variables* (after simulating a scenario, for example). These *tables* can also be used to compare different scenarios or variants of a model by loading different files containing the same *variables*.\n",
    "\n",
    "There is no notion of a model as an object in IODE: a model is simply a *list* of equations. \n",
    "To avoid the tedious work of re-encoding *lists*, these are managed as standalone objects and saved in list files. *Lists* are also used in formulas to shorten writing, or passed as parameters to *IODE functions*, etc.\n",
    "\n",
    "Each object of one of the seven types is identified by a name of up to 20 characters. They always start with a letter or an underscore '_'. Their names are written in lowercase for *scalars* and in uppercase for other objects (so as to distinguish *scalars* and *variables* in *LEC* formulas)."
   ]
  },
  {
   "cell_type": "markdown",
   "metadata": {},
   "source": [
    "### Comment\n",
    "\n",
    "IODE *Comments* are free text. They are used to document other IODE objects."
   ]
  },
  {
   "cell_type": "code",
   "execution_count": 4,
   "metadata": {},
   "outputs": [
    {
     "data": {
      "text/plain": [
       "'Enterprises: received capital transfers'"
      ]
     },
     "execution_count": 4,
     "metadata": {},
     "output_type": "execute_result"
    }
   ],
   "source": [
    "cmt_ACAF = \"Enterprises: received capital transfers\"\n",
    "cmt_ACAF"
   ]
  },
  {
   "cell_type": "markdown",
   "metadata": {},
   "source": [
    "### Equation\n",
    "\n",
    "An *equation* represents an equality mixing *variables* and *scalars* (coefficients) and is part of a model. \n",
    "Each equation is composed of the following elements:\n",
    "\n",
    "- the *LEC* form (the formula scripting language in IODE)\n",
    "- a free comment (title of the Table)\n",
    "- the method by which it was estimated (if applicable)\n",
    "- the possible estimation period\n",
    "- the names of equations estimated simultaneously (block)\n",
    "- the instruments used for the estimation\n",
    "\n",
    "All these definition elements are present in each equation, but may be left empty if not applicable.\n",
    "\n",
    "The name of an equation is that of its endogenous variable. An equation can never be renamed, \n",
    "but it can be deleted and redefined with a new name.\n",
    "\n",
    "To create an equation, you can use the constructor method of the [Equation](../_generated/iode.Equation.rst#iode.Equation) class:"
   ]
  },
  {
   "cell_type": "code",
   "execution_count": 5,
   "metadata": {
    "nbsphinx": "hidden"
   },
   "outputs": [
    {
     "name": "stdout",
     "output_type": "stream",
     "text": [
      "Loading C:\\soft\\miniconda3\\Lib\\site-packages\\iode\\tests\\data/fun.cmt\n",
      "317 objects loaded\n",
      "Loading C:\\soft\\miniconda3\\Lib\\site-packages\\iode\\tests\\data/fun.eqs\n",
      "274 objects loaded\n",
      "Loading C:\\soft\\miniconda3\\Lib\\site-packages\\iode\\tests\\data/fun.idt\n",
      "48 objects loaded\n",
      "Loading C:\\soft\\miniconda3\\Lib\\site-packages\\iode\\tests\\data/fun.lst\n",
      "17 objects loaded\n",
      "Loading C:\\soft\\miniconda3\\Lib\\site-packages\\iode\\tests\\data/fun.scl\n",
      "161 objects loaded\n",
      "Loading C:\\soft\\miniconda3\\Lib\\site-packages\\iode\\tests\\data/fun.tbl\n",
      "46 objects loaded\n",
      "Loading C:\\soft\\miniconda3\\Lib\\site-packages\\iode\\tests\\data/fun.var\n",
      "394 objects loaded\n"
     ]
    }
   ],
   "source": [
    "# ---- hidden cell -> required to run the estimation of the equation below ----\n",
    "from iode import comments, equations, identities, lists, scalars, tables, variables\n",
    "\n",
    "comments.load(f\"{Sample_DATA_DIR}/fun.cmt\")\n",
    "equations.load(f\"{Sample_DATA_DIR}/fun.eqs\")\n",
    "identities.load(f\"{Sample_DATA_DIR}/fun.idt\")\n",
    "lists.load(f\"{Sample_DATA_DIR}/fun.lst\")\n",
    "scalars.load(f\"{Sample_DATA_DIR}/fun.scl\")\n",
    "tables.load(f\"{Sample_DATA_DIR}/fun.tbl\")\n",
    "variables.load(f\"{Sample_DATA_DIR}/fun.var\")"
   ]
  },
  {
   "cell_type": "code",
   "execution_count": 6,
   "metadata": {},
   "outputs": [
    {
     "data": {
      "text/plain": [
       "Equation(endogenous = 'ACAF',\n",
       "         lec = '(ACAF / VAF[-1]) := acaf1 + acaf2 * GOSF[-1] + acaf4 * (TIME=1995)',\n",
       "         method = 'LSQ',\n",
       "         from_period = '1960Y1',\n",
       "         to_period = '2015Y1')"
      ]
     },
     "execution_count": 6,
     "metadata": {},
     "output_type": "execute_result"
    }
   ],
   "source": [
    "from iode import Equation, variables\n",
    "# initialize the sample (range of periods) of the 'variables' workspace\n",
    "variables.sample = \"1960Y1:2015Y1\"\n",
    "# create a new equation\n",
    "eq_ACAF = Equation(\"ACAF\", \"(ACAF / VAF[-1]) := acaf1 + acaf2 * GOSF[-1] + acaf4 * (TIME=1995)\")\n",
    "eq_ACAF"
   ]
  },
  {
   "cell_type": "markdown",
   "metadata": {},
   "source": [
    "To access and modify the elements of an equation, you can use the following attributes:"
   ]
  },
  {
   "cell_type": "code",
   "execution_count": 7,
   "metadata": {},
   "outputs": [
    {
     "data": {
      "text/plain": [
       "'ACAF'"
      ]
     },
     "execution_count": 7,
     "metadata": {},
     "output_type": "execute_result"
    }
   ],
   "source": [
    "# endogenous variables of the equation \n",
    "# (= equation's name)\n",
    "eq_ACAF.endogenous"
   ]
  },
  {
   "cell_type": "markdown",
   "metadata": {},
   "source": [
    "<div class=\"alert alert-warning\">\n",
    "\n",
    "**Warning**: the *endogenous* variable of an equation is the name of the equation itself and cannot be changed:\n",
    "\n",
    "</div>"
   ]
  },
  {
   "cell_type": "code",
   "execution_count": 8,
   "metadata": {},
   "outputs": [
    {
     "name": "stdout",
     "output_type": "stream",
     "text": [
      "Error: property 'endogenous' of 'Equation' object has no setter\n"
     ]
    }
   ],
   "source": [
    "try:\n",
    "    eq_ACAF.endogenous = \"ACAF_\"\n",
    "except AttributeError as e:\n",
    "    print(f\"Error: {e}\")"
   ]
  },
  {
   "cell_type": "code",
   "execution_count": 9,
   "metadata": {},
   "outputs": [
    {
     "data": {
      "text/plain": [
       "'(ACAF / VAF[-1]) := acaf1 + acaf2 * GOSF[-1] + acaf4 * (TIME=1995)'"
      ]
     },
     "execution_count": 9,
     "metadata": {},
     "output_type": "execute_result"
    }
   ],
   "source": [
    "# LEC form of the equation\n",
    "eq_ACAF.lec"
   ]
  },
  {
   "cell_type": "code",
   "execution_count": 10,
   "metadata": {},
   "outputs": [
    {
     "data": {
      "text/plain": [
       "'ACAF / VAF[-1] := acaf1 + acaf2 * GOSF[-1] + acaf4 * (TIME=1995)'"
      ]
     },
     "execution_count": 10,
     "metadata": {},
     "output_type": "execute_result"
    }
   ],
   "source": [
    "eq_ACAF.lec = \"ACAF / VAF[-1] := acaf1 + acaf2 * GOSF[-1] + acaf4 * (TIME=1995)\"\n",
    "eq_ACAF.lec"
   ]
  },
  {
   "cell_type": "code",
   "execution_count": 11,
   "metadata": {},
   "outputs": [
    {
     "data": {
      "text/plain": [
       "'LSQ'"
      ]
     },
     "execution_count": 11,
     "metadata": {},
     "output_type": "execute_result"
    }
   ],
   "source": [
    "# estimation method of the equation\n",
    "eq_ACAF.method"
   ]
  },
  {
   "cell_type": "code",
   "execution_count": 12,
   "metadata": {},
   "outputs": [
    {
     "data": {
      "text/plain": [
       "'MAX_LIKELIHOOD'"
      ]
     },
     "execution_count": 12,
     "metadata": {},
     "output_type": "execute_result"
    }
   ],
   "source": [
    "from iode import EqMethod\n",
    "eq_ACAF.method = EqMethod.MAX_LIKELIHOOD\n",
    "eq_ACAF.method"
   ]
  },
  {
   "cell_type": "code",
   "execution_count": 13,
   "metadata": {},
   "outputs": [
    {
     "data": {
      "text/plain": [
       "Sample(\"1960Y1:2015Y1\")"
      ]
     },
     "execution_count": 13,
     "metadata": {},
     "output_type": "execute_result"
    }
   ],
   "source": [
    "# range of periods for which the equation is estimated\n",
    "# By default, it is the sample of the 'variables' workspace\n",
    "eq_ACAF.sample"
   ]
  },
  {
   "cell_type": "code",
   "execution_count": 14,
   "metadata": {},
   "outputs": [
    {
     "data": {
      "text/plain": [
       "Sample(\"1980Y1:1996Y1\")"
      ]
     },
     "execution_count": 14,
     "metadata": {},
     "output_type": "execute_result"
    }
   ],
   "source": [
    "eq_ACAF.sample = \"1980Y1:1996Y1\"\n",
    "eq_ACAF.sample"
   ]
  },
  {
   "cell_type": "code",
   "execution_count": 15,
   "metadata": {},
   "outputs": [
    {
     "data": {
      "text/plain": [
       "''"
      ]
     },
     "execution_count": 15,
     "metadata": {},
     "output_type": "execute_result"
    }
   ],
   "source": [
    "# block of equations to which the equation belongs\n",
    "# A block of equations is a group of equations that are estimated together\n",
    "eq_ACAF.block"
   ]
  },
  {
   "cell_type": "code",
   "execution_count": 16,
   "metadata": {},
   "outputs": [
    {
     "data": {
      "text/plain": [
       "'ACAF;DPUH'"
      ]
     },
     "execution_count": 16,
     "metadata": {},
     "output_type": "execute_result"
    }
   ],
   "source": [
    "eq_ACAF.block = \"ACAF;DPUH\"\n",
    "eq_ACAF.block"
   ]
  },
  {
   "cell_type": "code",
   "execution_count": 17,
   "metadata": {},
   "outputs": [
    {
     "data": {
      "text/plain": [
       "''"
      ]
     },
     "execution_count": 17,
     "metadata": {},
     "output_type": "execute_result"
    }
   ],
   "source": [
    "# comment associated with the equation\n",
    "eq_ACAF.comment"
   ]
  },
  {
   "cell_type": "code",
   "execution_count": 18,
   "metadata": {},
   "outputs": [
    {
     "data": {
      "text/plain": [
       "'Enterprises: received capital transfers'"
      ]
     },
     "execution_count": 18,
     "metadata": {},
     "output_type": "execute_result"
    }
   ],
   "source": [
    "eq_ACAF.comment = cmt_ACAF\n",
    "eq_ACAF.comment"
   ]
  },
  {
   "cell_type": "code",
   "execution_count": 19,
   "metadata": {},
   "outputs": [
    {
     "data": {
      "text/plain": [
       "''"
      ]
     },
     "execution_count": 19,
     "metadata": {},
     "output_type": "execute_result"
    }
   ],
   "source": [
    "# instruments associated with the equation\n",
    "eq_ACAF.instruments"
   ]
  },
  {
   "cell_type": "code",
   "execution_count": 20,
   "metadata": {},
   "outputs": [
    {
     "data": {
      "text/plain": [
       "['GOSF', 'VAF']"
      ]
     },
     "execution_count": 20,
     "metadata": {},
     "output_type": "execute_result"
    }
   ],
   "source": [
    "eq_ACAF.instruments = [\"GOSF\", \"VAF\"]\n",
    "eq_ACAF.instruments"
   ]
  },
  {
   "cell_type": "code",
   "execution_count": 21,
   "metadata": {},
   "outputs": [
    {
     "data": {
      "text/plain": [
       "{'corr': 0.0,\n",
       " 'dw': 0.0,\n",
       " 'fstat': 0.0,\n",
       " 'loglik': 0.0,\n",
       " 'meany': 0.0,\n",
       " 'r2': 0.0,\n",
       " 'r2adj': 0.0,\n",
       " 'ssres': 0.0,\n",
       " 'stderr': 0.0,\n",
       " 'stderrp': 0.0,\n",
       " 'stdev': 0.0}"
      ]
     },
     "execution_count": 21,
     "metadata": {},
     "output_type": "execute_result"
    }
   ],
   "source": [
    "# tests evaluated during the estimation of the equation\n",
    "eq_ACAF.tests"
   ]
  },
  {
   "cell_type": "markdown",
   "metadata": {},
   "source": [
    "<div class=\"alert alert-warning\">\n",
    "\n",
    "**Warning**: the *tests* associated with an equation are set during the estimation process and cannot be modified manually.\n",
    "\n",
    "</div>"
   ]
  },
  {
   "cell_type": "code",
   "execution_count": 22,
   "metadata": {},
   "outputs": [
    {
     "name": "stdout",
     "output_type": "stream",
     "text": [
      "Error: property 'tests' of 'Equation' object has no setter\n"
     ]
    }
   ],
   "source": [
    "try:\n",
    "    eq_ACAF.tests = [1.0, 2.32935, 32.2732, 83.8075, 0.00818467, 0.821761, 0.796299,\n",
    "                     5.19945e-05, 0.00192715, 23.5458, 0.0042699]\n",
    "except AttributeError as e:\n",
    "    print(f\"Error: {e}\")"
   ]
  },
  {
   "cell_type": "markdown",
   "metadata": {},
   "source": [
    "<div class=\"alert alert-warning\">\n",
    "\n",
    "**Warning**: in the same way, the *date* attribute of an equation is updated during the estimation process and cannot be modified manually.\n",
    "\n",
    "</div>"
   ]
  },
  {
   "cell_type": "code",
   "execution_count": 23,
   "metadata": {},
   "outputs": [
    {
     "data": {
      "text/plain": [
       "''"
      ]
     },
     "execution_count": 23,
     "metadata": {},
     "output_type": "execute_result"
    }
   ],
   "source": [
    "# last date of estimation of the equation\n",
    "eq_ACAF.date"
   ]
  },
  {
   "cell_type": "code",
   "execution_count": 24,
   "metadata": {},
   "outputs": [
    {
     "name": "stdout",
     "output_type": "stream",
     "text": [
      "Error: property 'date' of 'Equation' object has no setter\n"
     ]
    }
   ],
   "source": [
    "try:\n",
    "    eq_ACAF.date = \"04-06-2025\"\n",
    "except AttributeError as e:\n",
    "    print(f\"Error: {e}\")"
   ]
  },
  {
   "cell_type": "markdown",
   "metadata": {},
   "source": [
    "To get the list of *scalars* (*coefficients*) and *variables* referenced in an Equation, use the [coefficients](../_generated/iode.Equation.coefficients.rst#iode.Equation.coefficients) and [variables](../_generated/iode.Equation.variables.rst#iode.Equation.variables) properties of the [Equation](../_generated/iode.Equation.rst#iode.Equation) class:"
   ]
  },
  {
   "cell_type": "code",
   "execution_count": 25,
   "metadata": {},
   "outputs": [
    {
     "data": {
      "text/plain": [
       "['acaf1', 'acaf2', 'acaf4']"
      ]
     },
     "execution_count": 25,
     "metadata": {},
     "output_type": "execute_result"
    }
   ],
   "source": [
    "eq_ACAF.coefficients"
   ]
  },
  {
   "cell_type": "code",
   "execution_count": 26,
   "metadata": {},
   "outputs": [
    {
     "data": {
      "text/plain": [
       "['ACAF', 'VAF', 'GOSF', 'TIME']"
      ]
     },
     "execution_count": 26,
     "metadata": {},
     "output_type": "execute_result"
    }
   ],
   "source": [
    "eq_ACAF.variables"
   ]
  },
  {
   "cell_type": "markdown",
   "metadata": {},
   "source": [
    "To split an equation into its left-hand side and its right-hand side, use the [split_equation](../_generated/iode.Equation.split_equation.rst#iode.Equation.split_equation) method of the [Equation](../_generated/iode.Equation.rst#iode.Equation) class:"
   ]
  },
  {
   "cell_type": "code",
   "execution_count": 27,
   "metadata": {},
   "outputs": [
    {
     "name": "stdout",
     "output_type": "stream",
     "text": [
      "left-hand side:  ACAF / VAF[-1]\n",
      "right-hand side: acaf1 + acaf2 * GOSF[-1] + acaf4 * (TIME=1995)\n"
     ]
    }
   ],
   "source": [
    "left, right = eq_ACAF.split_equation()\n",
    "print(\"left-hand side: \", left)\n",
    "print(\"right-hand side:\", right)"
   ]
  },
  {
   "cell_type": "markdown",
   "metadata": {},
   "source": [
    "To estimate the an equation, use the [estimate](../_generated/iode.Equation.estimate.rst#iode.Equation.estimate) method of the [Equation](../_generated/iode.Equation.rst#iode.Equation) class.\n",
    "\n",
    "At the end of the estimation process, certain variables and scalars are automatically created if the process has converged. These variables and scalars can be used for computational purposes and, as they are part of the global workspace, can be saved for future use.\n",
    "\n",
    "The tests resulting from the last estimation are saved as scalars. \n",
    "The same applies to residuals, left-hand and right-hand members of equations.\n",
    "\n",
    "Saved tests (as scalars) have the following names:\n",
    "\n",
    "- `e0_n` : number of sample periods \n",
    "- `e0_k` : number of estimated coefficients \n",
    "- `e0_stdev` : std dev of residuals \n",
    "- `e0_meany` : mean of Y \n",
    "- `e0_ssres` : sum of squares of residuals \n",
    "- `e0_stderr` : std error \n",
    "- `e0_stderrp` : std error percent (in %) \n",
    "- `e0_fstat` : F-Stat \n",
    "- `e0_r2` : R square \n",
    "- `e0_r2adj` : adjusted R-squared \n",
    "- `e0_dw` : Durbin-Watson \n",
    "- `e0_loglik` : Log Likelihood\n",
    "\n",
    "Calculated series are saved in special variables:\n",
    "\n",
    "- `_YCALC0` : right-hand side of the equation\n",
    "- `_YOBS0` : left-hand side of the equation\n",
    "- `_YRES0` : residuals of the equation\n",
    "\n",
    "Outside the estimation sample, the series values are `NA` (Not Available):"
   ]
  },
  {
   "cell_type": "code",
   "execution_count": 28,
   "metadata": {},
   "outputs": [
    {
     "name": "stdout",
     "output_type": "stream",
     "text": [
      "Estimating : iteration 1 (||eps|| = 0.0566493)\n",
      "\n",
      "Estimating : iteration 2 (||eps|| = 0.0594508)\n",
      "\n",
      "Estimating : iteration 3 (||eps|| = 0.0117815)\n",
      "\n",
      "Estimating : iteration 4 (||eps|| = 0.00240163)\n",
      "\n",
      "Estimating : iteration 5 (||eps|| = 0.000492758)\n",
      "\n",
      "Estimating : iteration 6 (||eps|| = 0.000101281)\n",
      "\n",
      "Estimating : iteration 7 (||eps|| = 2.08105e-05)\n",
      "\n",
      "Estimating : iteration 8 (||eps|| = 4.27624e-06)\n",
      "\n",
      "Solution reached after 8 iteration(s). Creating results file ...\n",
      "\n"
     ]
    },
    {
     "data": {
      "text/plain": [
       "True"
      ]
     },
     "execution_count": 28,
     "metadata": {},
     "output_type": "execute_result"
    }
   ],
   "source": [
    "success = eq_ACAF.estimate(\"1980Y1\", \"2000Y1\")\n",
    "success"
   ]
  },
  {
   "cell_type": "code",
   "execution_count": 29,
   "metadata": {},
   "outputs": [
    {
     "data": {
      "text/plain": [
       "{'corr': 1.0,\n",
       " 'dw': 1.8939708471298218,\n",
       " 'fstat': 34.6290397644043,\n",
       " 'loglik': 158.13970947265625,\n",
       " 'meany': 0.007528899237513542,\n",
       " 'r2': 0.7937153577804565,\n",
       " 'r2adj': 0.7707948684692383,\n",
       " 'ssres': 7.38456001272425e-05,\n",
       " 'stderr': 0.002025471068918705,\n",
       " 'stderrp': 26.902618408203125,\n",
       " 'stdev': 0.004230715800076723}"
      ]
     },
     "execution_count": 29,
     "metadata": {},
     "output_type": "execute_result"
    }
   ],
   "source": [
    "eq_ACAF.tests"
   ]
  },
  {
   "cell_type": "code",
   "execution_count": 30,
   "metadata": {},
   "outputs": [
    {
     "data": {
      "text/plain": [
       "'06-06-2025'"
      ]
     },
     "execution_count": 30,
     "metadata": {},
     "output_type": "execute_result"
    }
   ],
   "source": [
    "eq_ACAF.date"
   ]
  },
  {
   "cell_type": "markdown",
   "metadata": {},
   "source": [
    "### Identity\n",
    "\n",
    "An *identity* is an expression written in the *LEC* language that allows the construction of a \n",
    "new statistical series based on already defined series. In general, *identities* are executed\n",
    "in groups to create or update a set of *variables*. *Identities* can be executed for a specific \n",
    "range of periods, or for all periods defined in the workspace.\n",
    "\n",
    "*Identities* should not be confused with *equations*. They are not part of a model.\n",
    "\n",
    "To create an *identity*, you can use the constructor method of the [Identity](../_generated/iode.Identity.rst#iode.Identity) class:"
   ]
  },
  {
   "cell_type": "code",
   "execution_count": 31,
   "metadata": {},
   "outputs": [
    {
     "data": {
      "text/plain": [
       "Identity('1 - exp((gamma2 + gamma3 * ln(W/ZJ)[-1] + gamma4 * ln(WMIN/ZJ)) / gamma_)')"
      ]
     },
     "execution_count": 31,
     "metadata": {},
     "output_type": "execute_result"
    }
   ],
   "source": [
    "from iode import Identity\n",
    "idt = Identity(\"1 - exp((gamma2 + gamma3 * ln(W/ZJ)[-1] + gamma4 * ln(WMIN/ZJ)) / gamma_)\")\n",
    "idt"
   ]
  },
  {
   "cell_type": "markdown",
   "metadata": {},
   "source": [
    "To get the list of *scalars* (*coefficients*) and *variables* referenced in an identity, use the [coefficients](../_generated/iode.Identity.coefficients.rst#iode.Identity.coefficients) and [variables](../_generated/iode.Identity.variables.rst#iode.Identity.variables) properties of the [Identity](../_generated/iode.Identity.rst#iode.Identity) class:"
   ]
  },
  {
   "cell_type": "code",
   "execution_count": 32,
   "metadata": {},
   "outputs": [
    {
     "data": {
      "text/plain": [
       "['gamma2', 'gamma3', 'gamma4', 'gamma_']"
      ]
     },
     "execution_count": 32,
     "metadata": {},
     "output_type": "execute_result"
    }
   ],
   "source": [
    "idt.coefficients"
   ]
  },
  {
   "cell_type": "code",
   "execution_count": 33,
   "metadata": {},
   "outputs": [
    {
     "data": {
      "text/plain": [
       "['W', 'ZJ', 'WMIN']"
      ]
     },
     "execution_count": 33,
     "metadata": {},
     "output_type": "execute_result"
    }
   ],
   "source": [
    "idt.variables"
   ]
  },
  {
   "cell_type": "markdown",
   "metadata": {},
   "source": [
    "### List\n",
    "\n",
    "IODE *Lists* are either free text (like IODE *comments*) or a Python list. \n",
    "They are used to simplify writing in various circumstances:\n",
    "\n",
    "- list of equations defining a model\n",
    "- list of tables to print\n",
    "- any argument of a function (such as print period)\n",
    "- macro in an equation, identity, or table\n",
    "- etc."
   ]
  },
  {
   "cell_type": "code",
   "execution_count": 34,
   "metadata": {},
   "outputs": [
    {
     "data": {
      "text/plain": [
       "['ACAF', 'ACAG', 'AOUC', 'AOUC_', 'AQC']"
      ]
     },
     "execution_count": 34,
     "metadata": {},
     "output_type": "execute_result"
    }
   ],
   "source": [
    "A_VARS = [\"ACAF\", \"ACAG\", \"AOUC\", \"AOUC_\", \"AQC\"]\n",
    "A_VARS"
   ]
  },
  {
   "cell_type": "markdown",
   "metadata": {},
   "source": [
    "### Scalar\n",
    "\n",
    "*Scalars* are essentially estimated coefficients of econometric *equations*. \n",
    "For this reason, each scalar contains in its definition:\n",
    "\n",
    "- its *value*\n",
    "- the *relaxation* parameter, set to 0 to lock the coefficient during estimation\n",
    "- its *standard deviation*, result of the last estimation\n",
    "\n",
    "Only the *values* of the *scalars* are relevant when calculating a *LEC* expression. \n",
    "The other two values (relaxation and standard deviation) are only meaningful for estimation.\n",
    "\n",
    "The names of *scalars* must be in lowercase so that *variables* are distinct from *scalars* in *LEC* formulas.\n",
    "\n",
    "To create a *scalar*, you can use the constructor method of the [Scalar](../_generated/iode.Scalar.rst#iode.Scalar) class:\n"
   ]
  },
  {
   "cell_type": "code",
   "execution_count": 35,
   "metadata": {},
   "outputs": [
    {
     "data": {
      "text/plain": [
       "Scalar(0.9, 1, na)"
      ]
     },
     "execution_count": 35,
     "metadata": {},
     "output_type": "execute_result"
    }
   ],
   "source": [
    "import numpy as np\n",
    "from iode import Scalar\n",
    "\n",
    "# default relax\n",
    "scalar = Scalar(0.9)\n",
    "scalar"
   ]
  },
  {
   "cell_type": "code",
   "execution_count": 36,
   "metadata": {},
   "outputs": [
    {
     "data": {
      "text/plain": [
       "Scalar(0.9, 0.8, na)"
      ]
     },
     "execution_count": 36,
     "metadata": {},
     "output_type": "execute_result"
    }
   ],
   "source": [
    "# specific value and relax\n",
    "scalar = Scalar(0.9, 0.8)\n",
    "scalar"
   ]
  },
  {
   "cell_type": "code",
   "execution_count": 37,
   "metadata": {},
   "outputs": [
    {
     "data": {
      "text/plain": [
       "Scalar(na, 1, na)"
      ]
     },
     "execution_count": 37,
     "metadata": {},
     "output_type": "execute_result"
    }
   ],
   "source": [
    "# Python nan are converted to IODE NA\n",
    "scalar = Scalar(np.nan)\n",
    "scalar"
   ]
  },
  {
   "cell_type": "code",
   "execution_count": 38,
   "metadata": {},
   "outputs": [
    {
     "name": "stdout",
     "output_type": "stream",
     "text": [
      "Error: Expected 'value' to be a finite number\n"
     ]
    }
   ],
   "source": [
    "# Python inf are not accepted\n",
    "try:\n",
    "    scalar = Scalar(np.inf)\n",
    "except ValueError as e:\n",
    "    print(f\"Error: {e}\")"
   ]
  },
  {
   "cell_type": "code",
   "execution_count": 39,
   "metadata": {},
   "outputs": [
    {
     "name": "stdout",
     "output_type": "stream",
     "text": [
      "Error: Expected 'relax' value between 0.0 and 1.0\n"
     ]
    }
   ],
   "source": [
    "# relax must be between 0.0 and 1.0\n",
    "try:\n",
    "    scalar = Scalar(0.9, 1.1)\n",
    "except ValueError as e:\n",
    "    print(f\"Error: {e}\")"
   ]
  },
  {
   "cell_type": "markdown",
   "metadata": {},
   "source": [
    "To access and modify the *value* and *relax* of a *scalar*, use the following attributes:"
   ]
  },
  {
   "cell_type": "code",
   "execution_count": 40,
   "metadata": {},
   "outputs": [
    {
     "data": {
      "text/plain": [
       "nan"
      ]
     },
     "execution_count": 40,
     "metadata": {},
     "output_type": "execute_result"
    }
   ],
   "source": [
    "scalar.value"
   ]
  },
  {
   "cell_type": "code",
   "execution_count": 41,
   "metadata": {},
   "outputs": [
    {
     "data": {
      "text/plain": [
       "0.95"
      ]
     },
     "execution_count": 41,
     "metadata": {},
     "output_type": "execute_result"
    }
   ],
   "source": [
    "scalar.value = 0.95\n",
    "scalar.value"
   ]
  },
  {
   "cell_type": "code",
   "execution_count": 42,
   "metadata": {},
   "outputs": [
    {
     "data": {
      "text/plain": [
       "1.0"
      ]
     },
     "execution_count": 42,
     "metadata": {},
     "output_type": "execute_result"
    }
   ],
   "source": [
    "scalar.relax"
   ]
  },
  {
   "cell_type": "code",
   "execution_count": 43,
   "metadata": {},
   "outputs": [
    {
     "data": {
      "text/plain": [
       "0.85"
      ]
     },
     "execution_count": 43,
     "metadata": {},
     "output_type": "execute_result"
    }
   ],
   "source": [
    "scalar.relax = 0.85\n",
    "scalar.relax"
   ]
  },
  {
   "cell_type": "markdown",
   "metadata": {},
   "source": [
    "To access *standard deviation* of a *scalar*, use the *std* attribute:"
   ]
  },
  {
   "cell_type": "code",
   "execution_count": 44,
   "metadata": {},
   "outputs": [
    {
     "data": {
      "text/plain": [
       "nan"
      ]
     },
     "execution_count": 44,
     "metadata": {},
     "output_type": "execute_result"
    }
   ],
   "source": [
    "scalar.std"
   ]
  },
  {
   "cell_type": "markdown",
   "metadata": {},
   "source": [
    "<div class=\"alert alert-warning\">\n",
    "\n",
    "**Warning**: the *standard deviation* of a *scalar* is set during the estimation process and cannot be modified manually.\n",
    "\n",
    "</div>"
   ]
  },
  {
   "cell_type": "code",
   "execution_count": 45,
   "metadata": {},
   "outputs": [
    {
     "name": "stdout",
     "output_type": "stream",
     "text": [
      "Error: property 'std' of 'Scalar' object has no setter\n"
     ]
    }
   ],
   "source": [
    "try:\n",
    "    scalar.std = 0.001369\n",
    "except AttributeError as e:\n",
    "    print(f\"Error: {e}\")"
   ]
  },
  {
   "cell_type": "markdown",
   "metadata": {},
   "source": [
    "### Table\n",
    "\n",
    "One of the most frequently performed operations during a simulation exercise is the display of tables of results and charts. \n",
    "\n",
    "Each IODE *table* is a set of lines. A line is composed of two parts (in general):\n",
    "\n",
    "- a *text* part, which will be the title of the line\n",
    "- a *formula* part, which will allow the calculation of the numerical values to be placed in the *computed table*:\n",
    "\n",
    ">\n",
    ">    TABLE TITLE    \n",
    ">       \n",
    ">    Gross National Product      GNP    \n",
    ">    Unemployment                UL    \n",
    ">    External Balance            X-I\n",
    ">\n",
    "\n",
    "The lines are actually of several types: \n",
    "\n",
    "- *TITLE* lines (centered on the page width), \n",
    "- *CELL* lines (title + formula), \n",
    "- *SEPARATOR* lines\n",
    "- *MODE* lines\n",
    "- *FILES* lines\n",
    "- *DATE* lines\n",
    "\n",
    "A table is designed to be \"*computed*\" over different periods, described by a \"*generalized sample*\" \n",
    "such as:\n",
    "\n",
    ">\n",
    ">    1980Y1:10               --> 10 observations from 1980Y1\n",
    ">    1980Y1, 1985Y1, 1990:5  --> 1980, 1985, then 5 observations from 1990Y1\n",
    ">    80/79:5                 --> 5 growth rates from 1980\n",
    ">    ...\n",
    ">\n",
    "\n",
    "It can also contain values from different files:\n",
    "\n",
    ">\n",
    ">    (1990:5)[1,2,1-2]   --> values from 1990 to 1994 for files\n",
    ">                            1, 2, and for the difference between the two files.\n",
    ">\n",
    "\n",
    "The *computed table* can be:\n",
    "\n",
    "- displayed on screen\n",
    "- printed\n",
    "- exported as a chart\n",
    "- exported to a file (in CSV, HTML, ...)\n",
    "- (Python) converted to a Pandas DataFrame or an larray Array\n",
    "\n",
    "*Tables* can very well be used in a project that does not include an econometric model: \n",
    "the only information used by tables are *variables* and possibly *scalars*."
   ]
  },
  {
   "cell_type": "markdown",
   "metadata": {},
   "source": [
    "#### Create A Table\n",
    "\n",
    "To create an IODE table, you can either: \n",
    "\n",
    "1. Call the [Table](../_generated/iode.Table.rst#iode.Table) constructor without any argument. This will create an empty table with two columns. Then you can add lines using the [+= operator](../_generated/iode.Table.__iadd__.rst) or the [insert()](../_generated/iode.Table.insert.rst#iode.Table.insert) method (see next section)."
   ]
  },
  {
   "cell_type": "code",
   "execution_count": 46,
   "metadata": {},
   "outputs": [
    {
     "data": {
      "text/plain": [
       "DIVIS | 1 |     \n",
       "TITLE |         \n",
       "----- | --------\n",
       "CELL  |   | \"#S\"\n",
       "----- | --------\n",
       "\n",
       "nb lines: 4\n",
       "nb columns: 2\n",
       "language: 'ENGLISH'\n",
       "gridx: 'MAJOR'\n",
       "gridy: 'MAJOR'\n",
       "graph_axis: 'VALUES'\n",
       "graph_alignment: 'LEFT'"
      ]
     },
     "execution_count": 46,
     "metadata": {},
     "output_type": "execute_result"
    }
   ],
   "source": [
    "from iode import Table\n",
    "\n",
    "# empty table\n",
    "table = Table()\n",
    "table"
   ]
  },
  {
   "cell_type": "markdown",
   "metadata": {},
   "source": [
    "2. Call the [Table](../_generated/iode.Table.rst#iode.Table) constructor with a title and a list of variables. This list can contain IODE list(s) referenced with a `$` symbol. In that case, the IODE list(s) will be expanded to its (their) content. For each row, if an IODE comment with the same name as the variable exists, the value of the comment will be used in the left column. If the comment does not exist, the name of the variable will be used. The boolean arguments *mode*, *files* and *date* can be used to append the corresponding special lines to the table. These three lines are used when the table is computed (according to a *generalized sample*):"
   ]
  },
  {
   "cell_type": "code",
   "execution_count": 47,
   "metadata": {},
   "outputs": [
    {
     "data": {
      "text/plain": [
       "['EX',\n",
       " 'PWMAB',\n",
       " 'PWMS',\n",
       " 'PWXAB',\n",
       " 'PWXS',\n",
       " 'QWXAB',\n",
       " 'QWXS',\n",
       " 'POIL',\n",
       " 'NATY',\n",
       " 'TFPFHP_']"
      ]
     },
     "execution_count": 47,
     "metadata": {},
     "output_type": "execute_result"
    }
   ],
   "source": [
    "# content of the IODE list 'ENVI'\n",
    "lists[\"ENVI\"]"
   ]
  },
  {
   "cell_type": "code",
   "execution_count": 48,
   "metadata": {},
   "outputs": [
    {
     "data": {
      "text/plain": [
       "DIVIS | 1                                                                    |        \n",
       "TITLE |                      \"Table example with variables only\"                      \n",
       "----- | ------------------------------------------------------------------------------\n",
       "CELL  |                                                                      |   \"#S\" \n",
       "----- | ------------------------------------------------------------------------------\n",
       "CELL  | \"Bruto exploitatie-overschot: overheid (= afschrijvingen).\"          |    GOSG\n",
       "CELL  | \"Overheid: geïnde indirecte belastingen.\"                            |    YDTG\n",
       "CELL  | \"Totale overheid: directe belasting van de gezinnen.\"                |     DTH\n",
       "CELL  | \"Totale overheid: directe vennootschapsbelasting.\"                   |     DTF\n",
       "CELL  | \"Totale indirecte belastingen.\"                                      |      IT\n",
       "CELL  | \"Globale overheid: ontvangen sociale zekerheidsbijdragen.\"           |    YSSG\n",
       "CELL  | \"Cotisation de responsabilisation.\"                                  |  COTRES\n",
       "CELL  | \"Overheid: inkomen uit vermogen.\"                                    |    RIDG\n",
       "CELL  | \"Globale overheid: saldo van de ontvangen lopendeoverdrachten.\"      |    OCUG\n",
       "CELL  | \"Wisselkoers van de USD t.o.v. de BEF (jaargemiddelde).\"             |      EX\n",
       "CELL  | \"Index wereldprijs - invoer van niet-energieprodukten, inUSD.\"       |   PWMAB\n",
       "CELL  | \"Index wereldprijs - invoer van diensten, in USD.\"                   |    PWMS\n",
       "CELL  | \"Index wereldprijs - uitvoer van niet-energieprodukten, inUSD.\"      |   PWXAB\n",
       "CELL  | \"Index wereldprijs - uitvoer van diensten, in USD.\"                  |    PWXS\n",
       "CELL  | \"Indicator van het volume van de wereldvraag naar goederen,1985=1.\"  |   QWXAB\n",
       "CELL  | \"Indicator van het volume van de wereldvraag naar diensten,1985=1.\"  |    QWXS\n",
       "CELL  | \"Brent olieprijs (USD per barrel).\"                                  |    POIL\n",
       "CELL  | \"Totale beroepsbevolking (jaargemiddelde).\"                          |    NATY\n",
       "CELL  | \"TFPFHP_\"                                                            | TFPFHP_\n",
       "----- | ------------------------------------------------------------------------------\n",
       "MODE  | \n",
       "FILES | \n",
       "DATE  | \n",
       "\n",
       "nb lines: 27\n",
       "nb columns: 2\n",
       "language: 'ENGLISH'\n",
       "gridx: 'MAJOR'\n",
       "gridy: 'MAJOR'\n",
       "graph_axis: 'VALUES'\n",
       "graph_alignment: 'LEFT'"
      ]
     },
     "execution_count": 48,
     "metadata": {},
     "output_type": "execute_result"
    }
   ],
   "source": [
    "# create a table using a list of variables\n",
    "# NOTE: the list of variables can contain IODE list(s). \n",
    "#       The IODE list(s) must be referenced using the '$' symbol\n",
    "table_title = \"Table example with variables only\"\n",
    "lines_vars = [\"GOSG\", \"YDTG\", \"DTH\", \"DTF\", \"IT\", \"YSSG\", \"COTRES\", \"RIDG\", \"OCUG\", \"$ENVI\"]\n",
    "table = Table(2, table_title, lines_vars, mode=True, files=True, date=True)\n",
    "table"
   ]
  },
  {
   "cell_type": "code",
   "execution_count": 49,
   "metadata": {},
   "outputs": [
    {
     "data": {
      "text/plain": [
       "DIVIS | 1                                                                    |        \n",
       "TITLE |          \"Table example with all variables passed as a single string\"         \n",
       "----- | ------------------------------------------------------------------------------\n",
       "CELL  |                                                                      |   \"#S\" \n",
       "----- | ------------------------------------------------------------------------------\n",
       "CELL  | \"Bruto exploitatie-overschot: overheid (= afschrijvingen).\"          |    GOSG\n",
       "CELL  | \"Overheid: geïnde indirecte belastingen.\"                            |    YDTG\n",
       "CELL  | \"Totale overheid: directe belasting van de gezinnen.\"                |     DTH\n",
       "CELL  | \"Totale overheid: directe vennootschapsbelasting.\"                   |     DTF\n",
       "CELL  | \"Totale indirecte belastingen.\"                                      |      IT\n",
       "CELL  | \"Globale overheid: ontvangen sociale zekerheidsbijdragen.\"           |    YSSG\n",
       "CELL  | \"Cotisation de responsabilisation.\"                                  |  COTRES\n",
       "CELL  | \"Overheid: inkomen uit vermogen.\"                                    |    RIDG\n",
       "CELL  | \"Globale overheid: saldo van de ontvangen lopendeoverdrachten.\"      |    OCUG\n",
       "CELL  | \"Wisselkoers van de USD t.o.v. de BEF (jaargemiddelde).\"             |      EX\n",
       "CELL  | \"Index wereldprijs - invoer van niet-energieprodukten, inUSD.\"       |   PWMAB\n",
       "CELL  | \"Index wereldprijs - invoer van diensten, in USD.\"                   |    PWMS\n",
       "CELL  | \"Index wereldprijs - uitvoer van niet-energieprodukten, inUSD.\"      |   PWXAB\n",
       "CELL  | \"Index wereldprijs - uitvoer van diensten, in USD.\"                  |    PWXS\n",
       "CELL  | \"Indicator van het volume van de wereldvraag naar goederen,1985=1.\"  |   QWXAB\n",
       "CELL  | \"Indicator van het volume van de wereldvraag naar diensten,1985=1.\"  |    QWXS\n",
       "CELL  | \"Brent olieprijs (USD per barrel).\"                                  |    POIL\n",
       "CELL  | \"Totale beroepsbevolking (jaargemiddelde).\"                          |    NATY\n",
       "CELL  | \"TFPFHP_\"                                                            | TFPFHP_\n",
       "----- | ------------------------------------------------------------------------------\n",
       "MODE  | \n",
       "FILES | \n",
       "DATE  | \n",
       "\n",
       "nb lines: 27\n",
       "nb columns: 2\n",
       "language: 'ENGLISH'\n",
       "gridx: 'MAJOR'\n",
       "gridy: 'MAJOR'\n",
       "graph_axis: 'VALUES'\n",
       "graph_alignment: 'LEFT'"
      ]
     },
     "execution_count": 49,
     "metadata": {},
     "output_type": "execute_result"
    }
   ],
   "source": [
    "# variables or LEC expressions can be also passed as a single string\n",
    "lines_vars = \"GOSG;YDTG;DTH;DTF;IT;YSSG;COTRES;RIDG;OCUG;$ENVI\"\n",
    "table_title = \"Table example with all variables passed as a single string\"\n",
    "table = Table(2, table_title, lines_vars, mode=True, files=True, date=True)\n",
    "table"
   ]
  },
  {
   "cell_type": "markdown",
   "metadata": {},
   "source": [
    "3. Call the [Table](../_generated/iode.Table.rst#iode.Table) constructor with a title, a list of line titles (left column) and a list of the variables names or LEC expressions (right column):"
   ]
  },
  {
   "cell_type": "code",
   "execution_count": 50,
   "metadata": {},
   "outputs": [
    {
     "data": {
      "text/plain": [
       "DIVIS | 1              |            \n",
       "TITLE | \"Table example with titles on the left and LEC expressions on the right\"\n",
       "----- | ------------------------------------------------------------------------\n",
       "CELL  |                |     \"#S\"   \n",
       "----- | ------------------------------------------------------------------------\n",
       "CELL  | \"GOSG:\"        |        GOSG\n",
       "CELL  | \"YDTG:\"        |        YDTG\n",
       "CELL  | \"DTH:\"         |         DTH\n",
       "CELL  | \"DTF:\"         |         DTF\n",
       "CELL  | \"IT:\"          |          IT\n",
       "CELL  | \"YSSG+COTRES:\" | YSSG+COTRES\n",
       "CELL  | \"RIDG:\"        |        RIDG\n",
       "CELL  | \"OCUG:\"        |        OCUG\n",
       "----- | ------------------------------------------------------------------------\n",
       "MODE  | \n",
       "FILES | \n",
       "DATE  | \n",
       "\n",
       "nb lines: 16\n",
       "nb columns: 2\n",
       "language: 'ENGLISH'\n",
       "gridx: 'MAJOR'\n",
       "gridy: 'MAJOR'\n",
       "graph_axis: 'VALUES'\n",
       "graph_alignment: 'LEFT'"
      ]
     },
     "execution_count": 50,
     "metadata": {},
     "output_type": "execute_result"
    }
   ],
   "source": [
    "table_title = \"Table example with titles on the left and LEC expressions on the right\"\n",
    "# left column\n",
    "lines_titles = [\"GOSG:\", \"YDTG:\", \"DTH:\", \"DTF:\", \"IT:\", \"YSSG+COTRES:\", \"RIDG:\", \"OCUG:\"]\n",
    "# right column\n",
    "lines_lecs = [\"GOSG\", \"YDTG\", \"DTH\", \"DTF\", \"IT\", \"YSSG+COTRES\", \"RIDG\", \"OCUG\"]\n",
    "table = Table(2, table_title, lines_lecs, lines_titles, True, True, True)\n",
    "table"
   ]
  },
  {
   "cell_type": "markdown",
   "metadata": {},
   "source": [
    "#### Get/Update The Divider Line\n",
    "\n",
    "To update the divider line, use the [divider](../_generated/iode.Table.divider.rst#iode.Table.divider) attribute:"
   ]
  },
  {
   "cell_type": "code",
   "execution_count": 51,
   "metadata": {},
   "outputs": [
    {
     "data": {
      "text/plain": [
       "('1', '')"
      ]
     },
     "execution_count": 51,
     "metadata": {},
     "output_type": "execute_result"
    }
   ],
   "source": [
    "# the default divider is 1\n",
    "table.divider"
   ]
  },
  {
   "cell_type": "code",
   "execution_count": 52,
   "metadata": {},
   "outputs": [
    {
     "data": {
      "text/plain": [
       "('1', '1e-2')"
      ]
     },
     "execution_count": 52,
     "metadata": {},
     "output_type": "execute_result"
    }
   ],
   "source": [
    "# update the divider to multiply all values of the \n",
    "# right column by 100 (e.g. to get percentage values)\n",
    "table.divider = ('1', '1e-2')\n",
    "table.divider"
   ]
  },
  {
   "cell_type": "markdown",
   "metadata": {},
   "source": [
    "#### Find The Position Of A Line\n",
    "\n",
    "To find the position of a line in an IODE table, use the [index(str)](../_generated/iode.Table.index.rst#iode.Table.index) method:"
   ]
  },
  {
   "cell_type": "code",
   "execution_count": 53,
   "metadata": {},
   "outputs": [
    {
     "data": {
      "text/plain": [
       "10"
      ]
     },
     "execution_count": 53,
     "metadata": {},
     "output_type": "execute_result"
    }
   ],
   "source": [
    "# find the index of the TITLE or CELL line containing RIDG\n",
    "index = table.index(\"RIDG\")\n",
    "index"
   ]
  },
  {
   "cell_type": "markdown",
   "metadata": {},
   "source": [
    "#### Get/Update Content Of Lines\n",
    "\n",
    "To get or update the content of a line, use the [[index]](../_generated/iode.Table.__setitem__.rst) operator:"
   ]
  },
  {
   "cell_type": "code",
   "execution_count": 54,
   "metadata": {},
   "outputs": [
    {
     "data": {
      "text/plain": [
       "('\"GOSG:\"', 'GOSG')"
      ]
     },
     "execution_count": 54,
     "metadata": {},
     "output_type": "execute_result"
    }
   ],
   "source": [
    "table[4]"
   ]
  },
  {
   "cell_type": "markdown",
   "metadata": {},
   "source": [
    "Negative indices can be used to get or update the content of a line from the end of the table:"
   ]
  },
  {
   "cell_type": "code",
   "execution_count": 55,
   "metadata": {},
   "outputs": [
    {
     "data": {
      "text/plain": [
       "<DATE>"
      ]
     },
     "execution_count": 55,
     "metadata": {},
     "output_type": "execute_result"
    }
   ],
   "source": [
    "# content of the last line\n",
    "table[-1]"
   ]
  },
  {
   "cell_type": "markdown",
   "metadata": {},
   "source": [
    "#### Append Lines\n",
    "\n",
    "To append a line to an IODE table, use the [+= operator](../_generated/iode.Table.__iadd__.rst):"
   ]
  },
  {
   "cell_type": "code",
   "execution_count": 56,
   "metadata": {},
   "outputs": [
    {
     "data": {
      "text/plain": [
       "DIVIS | 1       |     \n",
       "TITLE |               \n",
       "----- | --------------\n",
       "CELL  |         | \"#S\"\n",
       "----- | --------------\n",
       "TITLE | \"Dummy Table\" \n",
       "----- | --------------\n",
       "CELL  | \"RIDG:\" | RIDG\n",
       "----- | --------------\n",
       "MODE  | \n",
       "FILES | \n",
       "DATE  | \n",
       "\n",
       "nb lines: 11\n",
       "nb columns: 2\n",
       "language: 'ENGLISH'\n",
       "gridx: 'MAJOR'\n",
       "gridy: 'MAJOR'\n",
       "graph_axis: 'VALUES'\n",
       "graph_alignment: 'LEFT'"
      ]
     },
     "execution_count": 56,
     "metadata": {},
     "output_type": "execute_result"
    }
   ],
   "source": [
    "from iode import TableLineType\n",
    "\n",
    "table = Table()\n",
    "\n",
    "# append a title line\n",
    "table += \"Dummy Table\"\n",
    "\n",
    "# append a separator line\n",
    "table += '-'\n",
    "\n",
    "# append a line with cells\n",
    "# NOTE: line containing double quotes \" -> assumed to be a STRING cell\n",
    "#       line without double quotes      -> assumed to be a LEC cell\n",
    "table += ('\"RIDG:\"', 'RIDG')\n",
    "\n",
    "# append a separator line (other way to do it)\n",
    "table += TableLineType.SEP\n",
    "\n",
    "# append a special MODE line\n",
    "table += TableLineType.MODE\n",
    "\n",
    "# append a special FILES line\n",
    "table += TableLineType.FILES\n",
    "\n",
    "# append a special DATE line\n",
    "table += TableLineType.DATE\n",
    "\n",
    "table"
   ]
  },
  {
   "cell_type": "markdown",
   "metadata": {},
   "source": [
    "#### Insert Lines\n",
    "\n",
    "To insert a line at a specific index, use the [insert(index, value)](../_generated/iode.Table.insert.rst#iode.Table.insert) method:"
   ]
  },
  {
   "cell_type": "code",
   "execution_count": 57,
   "metadata": {},
   "outputs": [
    {
     "data": {
      "text/plain": [
       "DIVIS | 1       |     \n",
       "TITLE |               \n",
       "----- | --------------\n",
       "CELL  |         | \"#S\"\n",
       "----- | --------------\n",
       "TITLE | \"Dummy Table\" \n",
       "----- | --------------\n",
       "CELL  | \"OCUG:\" | OCUG\n",
       "CELL  | \"RIDG:\" | RIDG\n",
       "CELL  | \"GOSG:\" | GOSG\n",
       "----- | --------------\n",
       "TITLE |  \"New Title\"  \n",
       "----- | --------------\n",
       "----- | --------------\n",
       "MODE  | \n",
       "FILES | \n",
       "DATE  | \n",
       "\n",
       "nb lines: 16\n",
       "nb columns: 2\n",
       "language: 'ENGLISH'\n",
       "gridx: 'MAJOR'\n",
       "gridy: 'MAJOR'\n",
       "graph_axis: 'VALUES'\n",
       "graph_alignment: 'LEFT'"
      ]
     },
     "execution_count": 57,
     "metadata": {},
     "output_type": "execute_result"
    }
   ],
   "source": [
    "# insert a CELL line before the RIDG line\n",
    "index = table.index(\"RIDG\")\n",
    "table.insert(index, ('\"OCUG:\"', 'OCUG'))\n",
    "\n",
    "# insert a CELL line after the RIDG line\n",
    "index = table.index(\"RIDG\")\n",
    "table.insert(index + 1, ('\"GOSG:\"', 'GOSG'))\n",
    "\n",
    "# insert a separator after the GOSG line\n",
    "index = table.index(\"GOSG\")\n",
    "index += 1\n",
    "table.insert(index, '-')\n",
    "\n",
    "# insert a title line after the separator line\n",
    "index += 1\n",
    "table.insert(index, \"New Title\")\n",
    "\n",
    "# insert a separator line after the title line\n",
    "index += 1\n",
    "table.insert(index, TableLineType.SEP)\n",
    "\n",
    "table"
   ]
  },
  {
   "cell_type": "markdown",
   "metadata": {},
   "source": [
    "#### Delete Lines\n",
    "\n",
    "To delete a line, use the [del keyword](../_generated/iode.Table.__delitem__.rst):"
   ]
  },
  {
   "cell_type": "code",
   "execution_count": 58,
   "metadata": {},
   "outputs": [
    {
     "data": {
      "text/plain": [
       "DIVIS | 1       |     \n",
       "TITLE |               \n",
       "----- | --------------\n",
       "CELL  |         | \"#S\"\n",
       "----- | --------------\n",
       "TITLE | \"Dummy Table\" \n",
       "----- | --------------\n",
       "CELL  | \"OCUG:\" | OCUG\n",
       "CELL  | \"RIDG:\" | RIDG\n",
       "CELL  | \"GOSG:\" | GOSG\n",
       "----- | --------------\n",
       "----- | --------------\n",
       "----- | --------------\n",
       "MODE  | \n",
       "FILES | \n",
       "DATE  | \n",
       "\n",
       "nb lines: 15\n",
       "nb columns: 2\n",
       "language: 'ENGLISH'\n",
       "gridx: 'MAJOR'\n",
       "gridy: 'MAJOR'\n",
       "graph_axis: 'VALUES'\n",
       "graph_alignment: 'LEFT'"
      ]
     },
     "execution_count": 58,
     "metadata": {},
     "output_type": "execute_result"
    }
   ],
   "source": [
    "index = table.index(\"New Title\")\n",
    "\n",
    "# delete the title line\n",
    "del table[index]\n",
    "\n",
    "table"
   ]
  },
  {
   "cell_type": "markdown",
   "metadata": {},
   "source": [
    "Negative indices can be used to delete lines from the end of the table:"
   ]
  },
  {
   "cell_type": "code",
   "execution_count": 59,
   "metadata": {},
   "outputs": [
    {
     "data": {
      "text/plain": [
       "DIVIS | 1       |     \n",
       "TITLE |               \n",
       "----- | --------------\n",
       "CELL  |         | \"#S\"\n",
       "----- | --------------\n",
       "TITLE | \"Dummy Table\" \n",
       "----- | --------------\n",
       "CELL  | \"OCUG:\" | OCUG\n",
       "CELL  | \"RIDG:\" | RIDG\n",
       "CELL  | \"GOSG:\" | GOSG\n",
       "----- | --------------\n",
       "----- | --------------\n",
       "----- | --------------\n",
       "MODE  | \n",
       "FILES | \n",
       "\n",
       "nb lines: 14\n",
       "nb columns: 2\n",
       "language: 'ENGLISH'\n",
       "gridx: 'MAJOR'\n",
       "gridy: 'MAJOR'\n",
       "graph_axis: 'VALUES'\n",
       "graph_alignment: 'LEFT'"
      ]
     },
     "execution_count": 59,
     "metadata": {},
     "output_type": "execute_result"
    }
   ],
   "source": [
    "# delete the last line\n",
    "del table[-1]\n",
    "\n",
    "table"
   ]
  },
  {
   "cell_type": "markdown",
   "metadata": {},
   "source": [
    "#### Get the coefficients and variables of a table\n",
    "\n",
    "To get the list of *scalars* (*coefficients*) and *variables* referenced in a *table*, use the [coefficients](../_generated/iode.Table.coefficients.rst#iode.Table.coefficients) and [variables](../_generated/iode.Table.variables.rst#iode.Table.variables) properties of the [Table](../_generated/iode.Table.rst#iode.Table) class:"
   ]
  },
  {
   "cell_type": "code",
   "execution_count": 60,
   "metadata": {},
   "outputs": [
    {
     "data": {
      "text/plain": [
       "[]"
      ]
     },
     "execution_count": 60,
     "metadata": {},
     "output_type": "execute_result"
    }
   ],
   "source": [
    "table.coefficients"
   ]
  },
  {
   "cell_type": "code",
   "execution_count": 61,
   "metadata": {},
   "outputs": [
    {
     "data": {
      "text/plain": [
       "['GOSG', 'OCUG', 'RIDG']"
      ]
     },
     "execution_count": 61,
     "metadata": {},
     "output_type": "execute_result"
    }
   ],
   "source": [
    "table.variables"
   ]
  },
  {
   "cell_type": "markdown",
   "metadata": {},
   "source": [
    "#### Plotting\n",
    "\n",
    "To plot a *table*, use the [plot](../_generated/iode.Table.plot.rst#iode.Table.plot) method:"
   ]
  },
  {
   "cell_type": "code",
   "execution_count": 62,
   "metadata": {},
   "outputs": [
    {
     "data": {
      "text/plain": [
       "DIVIS | 1             |            \n",
       "TITLE |     \"Table for plotting\"   \n",
       "----- | ---------------------------\n",
       "CELL  |               |     \"#S\"   \n",
       "----- | ---------------------------\n",
       "CELL  | \"GOSG\"        |        GOSG\n",
       "CELL  | \"YDTG\"        |        YDTG\n",
       "CELL  | \"DTH\"         |         DTH\n",
       "CELL  | \"DTF\"         |         DTF\n",
       "CELL  | \"IT\"          |          IT\n",
       "CELL  | \"YSSG+COTRES\" | YSSG+COTRES\n",
       "CELL  | \"RIDG\"        |        RIDG\n",
       "CELL  | \"OCUG\"        |        OCUG\n",
       "----- | ---------------------------\n",
       "MODE  | \n",
       "FILES | \n",
       "DATE  | \n",
       "\n",
       "nb lines: 16\n",
       "nb columns: 2\n",
       "language: 'ENGLISH'\n",
       "gridx: 'MAJOR'\n",
       "gridy: 'MAJOR'\n",
       "graph_axis: 'VALUES'\n",
       "graph_alignment: 'LEFT'"
      ]
     },
     "execution_count": 62,
     "metadata": {},
     "output_type": "execute_result"
    }
   ],
   "source": [
    "# variables or LEC expressions can be also passed as a single string\n",
    "table_title = \"Table for plotting\"\n",
    "# left column\n",
    "lines_titles = [\"GOSG\", \"YDTG\", \"DTH\", \"DTF\", \"IT\", \"YSSG+COTRES\", \"RIDG\", \"OCUG\"]\n",
    "# right column\n",
    "lines_lecs = [\"GOSG\", \"YDTG\", \"DTH\", \"DTF\", \"IT\", \"YSSG+COTRES\", \"RIDG\", \"OCUG\"]\n",
    "table = Table(2, table_title, lines_lecs, lines_titles, True, True, True)\n",
    "table"
   ]
  },
  {
   "cell_type": "code",
   "execution_count": 63,
   "metadata": {},
   "outputs": [
    {
     "data": {
      "image/png": "[encoded data removed]",
      "text/plain": [
       "<Figure size 640x480 with 1 Axes>"
      ]
     },
     "metadata": {},
     "output_type": "display_data"
    },
    {
     "data": {
      "text/plain": [
       "<Axes: xlabel='periods', ylabel='values'>"
      ]
     },
     "execution_count": 63,
     "metadata": {},
     "output_type": "execute_result"
    }
   ],
   "source": [
    "table.plot()"
   ]
  },
  {
   "cell_type": "markdown",
   "metadata": {},
   "source": [
    "### Variable\n",
    "\n",
    "*Variables* are series of numbers.\n",
    "\n",
    "All *variables* from the \"*variables*\" workspace are defined over the same range of periods (sample). \n",
    "If observations are missing, they take the special value `NA` (Not Available) \n",
    "(displayed as `--` in the graphical user interface).\n",
    "\n",
    "Their names must be in uppercase so that *variables* are distinct from *scalars* in *LEC* formulas.\n",
    "\n",
    "There is no `Variable` class in the Python `iode` library. Instead, a *variable* is represented by a subset of the *variables* workspace with one unique *variable*"
   ]
  },
  {
   "cell_type": "markdown",
   "metadata": {},
   "source": [
    "## Computed Tables\n",
    "\n",
    "To compute a table according to a *generalized sample* and *extra files*, use the [Table.compute](../_generated/iode.Table.compute.rst#iode.Table.compute) method of the IODE table objects:\n",
    "\n",
    "Calling `compute(generalized_sample, extra_files, nb_decimals, quiet)` computes the values corresponding to LEC expressions in cells.\n",
    "    \n",
    "The values are calculated for given a *generalized sample*. This sample contains the following information:\n",
    "    \n",
    "  * the sampling of the periods to take into account \n",
    "  * the operations to be performed on the periods\n",
    "  * the list of files involved in the computation of the table\n",
    "  * the operations to be performed between files\n",
    "  * the repetition factor\n",
    "    \n",
    "The syntax of the *generalized sample* follows the rules described below. The syntax of a period: \n",
    "    \n",
    "  * a period is indicated as in LEC: `yyPpp` or `yyyyPpp` where *yyyy* indicates the year, \n",
    "    *P* the periodicity and *pp* the sub-period (e.g. 1990Y1) \n",
    "  * a period can be shifted n periods to the left or right using the operators `<n` and `>n` \n",
    "  * when used with a zero argument, the shift operators have a special meaning: \n",
    "      - `<0` means \"first period of the year\" \n",
    "      - `>0` means \"last period of the year\" \n",
    "  * the special periods 'BOS', 'EOS' and 'NOW' can be used to represent the beginning \n",
    "    or end of the current sample or the current period (PC clock)\n",
    "  * the special periods 'BOS1', 'EOS1' and 'NOW1' are equivalent to the previous ones, \n",
    "    except that they are moved to the first sub-period of the year of 'BOS', 'EOS' and \n",
    "    'NOW' respectively (if NOW = 2012M5, NOW1 = 2012M1)\n",
    "  * each period is separated from the next by a semicolon \n",
    "  * a period or group of periods can be repeated: simply place the colon character (`:`) after \n",
    "    the definition of the column or group of columns, followed by the desired number of repetitions. \n",
    "    Repetitions are made with an increment of one period, unless followed by an asterisk and a value. \n",
    "    This value is then the repeat increment. It can be negative, in which case the periods are \n",
    "    presented in decreasing order\n",
    "  * the repeat, increment and shift can be the words PER (or P) or SUB (or S), which respectively indicate \n",
    "    the number of periods in a year of the current sample and the current sub-period\n",
    "  * the file definition is optional and is enclosed in square brackets. \n",
    "    It applies to all preceding period definitions.\n",
    "    \n",
    "The following file operations are possible:\n",
    "    \n",
    "  * absolute value: [1] \n",
    "  * difference: [1-2] \n",
    "  * difference in percent: [1/2] \n",
    "  * sum: [1+2] \n",
    "  * average: [1~2] or [1^2]. \n",
    "    \n",
    "The file [1] always refers to the current workspace. Extra files (if passed as argument) are numerated from 2 to 5. The following period operations are possible:\n",
    "    \n",
    "  * value: (75) \n",
    "  * growth rate over one or more periods: (75/74, 75/70) \n",
    "  * average growth rate: (75//70) \n",
    "  * difference: (75-74, 75-70) \n",
    "  * average difference: (75--70) \n",
    "  * average: (75~74) or (75^74) \n",
    "  * sum of consecutive periods: (70Q1+70Q4) \n",
    "  * index or base value: (76=70) \n",
    "    \n",
    "Repetition can be performed with an increment greater than 1 or less than 0: \n",
    "simply place a star followed by the step after the number of repetitions (70:3*5 = 70, 75, 80).\n",
    "    \n",
    "Generalized sample examples:\n",
    "\n",
    "```\n",
    "70; 75; 80:6 = 70:3*5; 81:5 = 70; 75; 80; 81; 82; 83; 84; 85\n",
    "70/69:2 = 70/69; 71/70\n",
    "(70; 70-69):2 = 70; 70-69; 71; 71-70;\n",
    "70[1,2]:2*5 = 70[1]; 70[2]; 75[1]; 75[2]\n",
    "(70;75)[1,2-1] = 70[1]; 75[1]; 70[2-1]; 75[2-1]\n",
    "(70;75;(80; 80/79):2)[1,2] = 70[1]; 70[2]; 75[1]; 75[2]; 80[1]; 80[2]; 80/79[1]; 80/79[2] 81[1]; 8[2]; 8180[1]; 81/80[2]\n",
    "2000Y1>5 = 2005Y1\n",
    "1999M1>12 = 2000M1\n",
    "EOS<1 = 2019Y1                         (if EOS == 2020Y1)\n",
    "BOS<1 = 1959Y1                         (if BOS == 1960Y1)\n",
    "EOS<4:5*-1 =2016;2017;2018;2019;2020   (if EOS = 2020Y1)\n",
    "```"
   ]
  },
  {
   "cell_type": "markdown",
   "metadata": {},
   "source": [
    "### Examples"
   ]
  },
  {
   "cell_type": "code",
   "execution_count": 64,
   "metadata": {},
   "outputs": [
    {
     "data": {
      "text/plain": [
       "DIVIS | 1              |            \n",
       "TITLE | \"Table example with titles on the left and LEC expressions on the right\"\n",
       "----- | ------------------------------------------------------------------------\n",
       "CELL  |                |     \"#S\"   \n",
       "----- | ------------------------------------------------------------------------\n",
       "CELL  | \"GOSG:\"        |        GOSG\n",
       "CELL  | \"YDTG:\"        |        YDTG\n",
       "CELL  | \"DTH:\"         |         DTH\n",
       "CELL  | \"DTF:\"         |         DTF\n",
       "CELL  | \"IT:\"          |          IT\n",
       "CELL  | \"YSSG+COTRES:\" | YSSG+COTRES\n",
       "CELL  | \"RIDG:\"        |        RIDG\n",
       "CELL  | \"OCUG:\"        |        OCUG\n",
       "----- | ------------------------------------------------------------------------\n",
       "MODE  | \n",
       "FILES | \n",
       "DATE  | \n",
       "\n",
       "nb lines: 16\n",
       "nb columns: 2\n",
       "language: 'ENGLISH'\n",
       "gridx: 'MAJOR'\n",
       "gridy: 'MAJOR'\n",
       "graph_axis: 'VALUES'\n",
       "graph_alignment: 'LEFT'"
      ]
     },
     "execution_count": 64,
     "metadata": {},
     "output_type": "execute_result"
    }
   ],
   "source": [
    "table_title = \"Table example with titles on the left and LEC expressions on the right\"\n",
    "# left column\n",
    "lines_titles = [\"GOSG:\", \"YDTG:\", \"DTH:\", \"DTF:\", \"IT:\", \"YSSG+COTRES:\", \"RIDG:\", \"OCUG:\"]\n",
    "# right column\n",
    "lines_lecs = [\"GOSG\", \"YDTG\", \"DTH\", \"DTF\", \"IT\", \"YSSG+COTRES\", \"RIDG\", \"OCUG\"]\n",
    "table = Table(2, table_title, lines_lecs, lines_titles, True, True, True)\n",
    "table"
   ]
  },
  {
   "cell_type": "code",
   "execution_count": 65,
   "metadata": {},
   "outputs": [
    {
     "data": {
      "text/plain": [
       " line title \\ period[file]  |    2000   |    2001   |    2002   |    2003   |    2004   |    2005  \n",
       "----------------------------------------------------------------------------------------------------\n",
       "GOSG:                       |   32.7013 |   34.5183 |   35.9341 |   37.3602 |   39.0778 |   40.6990\n",
       "YDTG:                       | 1841.7930 | 1913.4770 | 1999.8462 | 2042.4147 | 2097.7328 | 2094.7998\n",
       "DTH:                        | 1477.3851 | 1539.1702 | 1614.1974 | 1661.0073 | 1697.6353 | 1690.1593\n",
       "DTF:                        |  364.4079 |  374.3072 |  385.6475 |  381.4071 |  400.0916 |  404.6382\n",
       "IT:                         | 1146.7131 | 1202.9021 | 1242.0110 | 1288.0103 | 1342.8635 | 1401.3764\n",
       "YSSG+COTRES:                | 1680.2238 | 1752.5931 | 1818.5073 | 1891.1969 | 1932.6684 | 1970.2945\n",
       "RIDG:                       |   98.7683 |  104.2563 |  108.5322 |  112.8396 |  118.0272 |  122.9238\n",
       "OCUG:                       | -120.7692 | -127.4797 | -132.7081 | -137.9749 | -144.3181 | -150.3054"
      ]
     },
     "execution_count": 65,
     "metadata": {},
     "output_type": "execute_result"
    }
   ],
   "source": [
    "# simple time series (current workspace) - 6 observations - 4 decimals\n",
    "computed_table = table.compute(\"2000:6\", nb_decimals=4)\n",
    "computed_table"
   ]
  },
  {
   "cell_type": "code",
   "execution_count": 66,
   "metadata": {},
   "outputs": [
    {
     "data": {
      "text/plain": [
       "['GOSG:', 'YDTG:', 'DTH:', 'DTF:', 'IT:', 'YSSG+COTRES:', 'RIDG:', 'OCUG:']"
      ]
     },
     "execution_count": 66,
     "metadata": {},
     "output_type": "execute_result"
    }
   ],
   "source": [
    "# get lines of the computed table\n",
    "computed_table.lines"
   ]
  },
  {
   "cell_type": "code",
   "execution_count": 67,
   "metadata": {},
   "outputs": [
    {
     "data": {
      "text/plain": [
       "['2000', '2001', '2002', '2003', '2004', '2005']"
      ]
     },
     "execution_count": 67,
     "metadata": {},
     "output_type": "execute_result"
    }
   ],
   "source": [
    "# get columns of the computed table\n",
    "computed_table.columns"
   ]
  },
  {
   "cell_type": "code",
   "execution_count": 68,
   "metadata": {},
   "outputs": [
    {
     "data": {
      "text/plain": [
       " line title \\ period[file]  |   2010  | 2010/2009 |   2011  | 2011/2010 |   2012  | 2012/2011 |   2013  | 2013/2012 |   2014  | 2014/2013\n",
       "------------------------------------------------------------------------------------------------------------------------------------------\n",
       "GOSG:                       |   47.36 |      2.40 |   48.81 |      3.07 |   50.73 |      3.94 |   53.07 |      4.62 |   55.74 |      5.02\n",
       "YDTG:                       | 2456.29 |      3.16 | 2554.61 |      4.00 | 2681.32 |      4.96 | 2832.01 |      5.62 | 2998.33 |      5.87\n",
       "DTH:                        | 1999.96 |      3.38 | 2083.70 |      4.19 | 2193.41 |      5.26 | 2326.45 |      6.07 | 2477.09 |      6.47\n",
       "DTF:                        |  456.33 |      2.17 |  470.90 |      3.19 |  487.91 |      3.61 |  505.56 |      3.62 |  521.24 |      3.10\n",
       "IT:                         | 1688.71 |      2.49 | 1752.86 |      3.80 | 1830.30 |      4.42 | 1918.71 |      4.83 | 2012.81 |      4.90\n",
       "YSSG+COTRES:                | 2370.44 |      2.94 | 2448.77 |      3.30 | 2551.46 |      4.19 | 2680.09 |      5.04 | 2824.22 |      5.38\n",
       "RIDG:                       |  143.04 |      2.40 |  147.42 |      3.07 |  153.22 |      3.94 |  160.30 |      4.62 |  168.34 |      5.02\n",
       "OCUG:                       | -174.90 |      2.40 | -180.26 |      3.07 | -187.36 |      3.94 | -196.01 |      4.62 | -205.84 |      5.02"
      ]
     },
     "execution_count": 68,
     "metadata": {},
     "output_type": "execute_result"
    }
   ],
   "source": [
    "# two time series (current workspace) - 5 observations - 2 decimals (default)\n",
    "computed_table = table.compute(\"(2010;2010/2009):5\")\n",
    "computed_table"
   ]
  },
  {
   "cell_type": "code",
   "execution_count": 69,
   "metadata": {},
   "outputs": [
    {
     "data": {
      "text/plain": [
       " line title \\ period[file]  | 2010[1] | 2010[2] | 2011[1] | 2011[2] | 2012[1] | 2012[2] | 2013[1] | 2013[2] | 2014[1] | 2014[2]\n",
       "--------------------------------------------------------------------------------------------------------------------------------\n",
       "GOSG:                       |   47.36 |   47.36 |   48.81 |   48.81 |   50.73 |   50.73 |   53.07 |   53.07 |   55.74 |   55.74\n",
       "YDTG:                       | 2456.29 | 2456.29 | 2554.61 | 2554.61 | 2681.32 | 2681.32 | 2832.01 | 2832.01 | 2998.33 | 2998.33\n",
       "DTH:                        | 1999.96 | 1999.96 | 2083.70 | 2083.70 | 2193.41 | 2193.41 | 2326.45 | 2326.45 | 2477.09 | 2477.09\n",
       "DTF:                        |  456.33 |  456.33 |  470.90 |  470.90 |  487.91 |  487.91 |  505.56 |  505.56 |  521.24 |  521.24\n",
       "IT:                         | 1688.71 | 1688.71 | 1752.86 | 1752.86 | 1830.30 | 1830.30 | 1918.71 | 1918.71 | 2012.81 | 2012.81\n",
       "YSSG+COTRES:                | 2370.44 | 2370.44 | 2448.77 | 2448.77 | 2551.46 | 2551.46 | 2680.09 | 2680.09 | 2824.22 | 2824.22\n",
       "RIDG:                       |  143.04 |  143.04 |  147.42 |  147.42 |  153.22 |  153.22 |  160.30 |  160.30 |  168.34 |  168.34\n",
       "OCUG:                       | -174.90 | -174.90 | -180.26 | -180.26 | -187.36 | -187.36 | -196.01 | -196.01 | -205.84 | -205.84"
      ]
     },
     "execution_count": 69,
     "metadata": {},
     "output_type": "execute_result"
    }
   ],
   "source": [
    "from pathlib import Path\n",
    "\n",
    "# simple time series (current workspace + one extra file) - 5 observations - 2 decimals (default)\n",
    "sample_data_dir = Path(Sample_DATA_DIR)\n",
    "computed_table = table.compute(\"2010[1;2]:5\", extra_files=sample_data_dir/\"ref.av\", quiet=True)\n",
    "computed_table"
   ]
  },
  {
   "cell_type": "code",
   "execution_count": 70,
   "metadata": {},
   "outputs": [
    {
     "data": {
      "text/plain": [
       "['c:\\\\soft\\\\miniconda3\\\\Lib\\\\site-packages\\\\iode\\\\tests\\\\data\\\\fun.var',\n",
       " 'c:\\\\soft\\\\miniconda3\\\\Lib\\\\site-packages\\\\iode\\\\tests\\\\data\\\\ref.av']"
      ]
     },
     "execution_count": 70,
     "metadata": {},
     "output_type": "execute_result"
    }
   ],
   "source": [
    "# get the list of files used to compute the table \n",
    "# (the first file represents the current workspace)\n",
    "computed_table.files"
   ]
  },
  {
   "cell_type": "code",
   "execution_count": 71,
   "metadata": {},
   "outputs": [
    {
     "data": {
      "text/plain": [
       " line title \\ period[file]  | 2010[1] | 2010[2] | 2010[3] | 2010[4] | 2010[5]\n",
       "------------------------------------------------------------------------------\n",
       "GOSG:                       |   47.36 |   47.36 |   47.36 |   47.36 |      --\n",
       "YDTG:                       | 2456.29 | 2456.29 | 2456.29 | 2456.29 |      --\n",
       "DTH:                        | 1999.96 | 1999.96 | 1999.96 | 1999.96 |      --\n",
       "DTF:                        |  456.33 |  456.33 |  456.33 |  456.33 |      --\n",
       "IT:                         | 1688.71 | 1688.71 | 1688.71 | 1688.71 |      --\n",
       "YSSG+COTRES:                | 2370.44 | 2370.44 | 2370.44 | 2370.44 |      --\n",
       "RIDG:                       |  143.04 |  143.04 |  143.04 |  143.04 |      --\n",
       "OCUG:                       | -174.90 | -174.90 | -174.90 | -174.90 |      --"
      ]
     },
     "execution_count": 71,
     "metadata": {},
     "output_type": "execute_result"
    }
   ],
   "source": [
    "# simple time series (current workspace + 4 extra files) - 5 observations - 2 decimals (default)\n",
    "extra_files = [sample_data_dir / \"ref.av\", sample_data_dir / \"fun.av\", \n",
    "               sample_data_dir / \"fun2.av\", sample_data_dir / \"a.var\"]\n",
    "computed_table = table.compute(\"2010[1;2;3;4;5]:1\", extra_files=extra_files, quiet=True)\n",
    "computed_table"
   ]
  },
  {
   "cell_type": "code",
   "execution_count": 72,
   "metadata": {},
   "outputs": [
    {
     "data": {
      "text/plain": [
       "['c:\\\\soft\\\\miniconda3\\\\Lib\\\\site-packages\\\\iode\\\\tests\\\\data\\\\fun.var',\n",
       " 'c:\\\\soft\\\\miniconda3\\\\Lib\\\\site-packages\\\\iode\\\\tests\\\\data\\\\ref.av',\n",
       " 'c:\\\\soft\\\\miniconda3\\\\Lib\\\\site-packages\\\\iode\\\\tests\\\\data\\\\fun.av',\n",
       " 'c:\\\\soft\\\\miniconda3\\\\Lib\\\\site-packages\\\\iode\\\\tests\\\\data\\\\fun2.av',\n",
       " 'c:\\\\soft\\\\miniconda3\\\\Lib\\\\site-packages\\\\iode\\\\tests\\\\data\\\\a.var']"
      ]
     },
     "execution_count": 72,
     "metadata": {},
     "output_type": "execute_result"
    }
   ],
   "source": [
    "# get the list of files used to compute the table\n",
    "# (the first file represents the current workspace)\n",
    "computed_table.files"
   ]
  },
  {
   "cell_type": "markdown",
   "metadata": {},
   "source": [
    "### Plotting\n",
    "\n",
    "To plot a computed table, you can use the [plot](../_generated/iode.ComputedTable.plot.rst#iode.ComputedTable.plot) method of the IODE table objects:"
   ]
  },
  {
   "cell_type": "code",
   "execution_count": 73,
   "metadata": {},
   "outputs": [
    {
     "data": {
      "image/png": "[encoded data removed]",
      "text/plain": [
       "<Figure size 640x480 with 1 Axes>"
      ]
     },
     "metadata": {},
     "output_type": "display_data"
    },
    {
     "data": {
      "text/plain": [
       "<Axes: xlabel='periods', ylabel='values'>"
      ]
     },
     "execution_count": 73,
     "metadata": {},
     "output_type": "execute_result"
    }
   ],
   "source": [
    "computed_table = table.compute(\"2000:6\", nb_decimals=4)\n",
    "computed_table.plot()"
   ]
  },
  {
   "cell_type": "markdown",
   "metadata": {},
   "source": [
    "## Working with workspaces\n",
    "\n",
    "As we seen above, `IODE` operates on objects of 7 different types:\n",
    "\n",
    "- **comments**\n",
    "- **equations**\n",
    "- **identities**\n",
    "- **lists**\n",
    "- **scalars**\n",
    "- **tables**\n",
    "- **variables**\n",
    "\n",
    "These are grouped into 7 dictionaries called `workspaces`. "
   ]
  },
  {
   "cell_type": "markdown",
   "metadata": {},
   "source": [
    "### Load workspaces\n",
    "\n",
    "To load IODE objects from a binary file (i.e. with extension `.cmt`, `.eqs`, `.idt`, `.lst`, `.scl`, `.tbl`, `.var`) or from an ASCII file (i.e. with extension `.ac`, `.ae`, `.ai`, `.al`, `.as`, `.at`, `.av`), use the [load()](../_generated/iode.Comments.load.rst#iode.Comments.load) method of the corresponding object. For example:"
   ]
  },
  {
   "cell_type": "code",
   "execution_count": 74,
   "metadata": {},
   "outputs": [
    {
     "name": "stdout",
     "output_type": "stream",
     "text": [
      "Loading C:\\soft\\miniconda3\\Lib\\site-packages\\iode\\tests\\data/fun.cmt\n",
      "317 objects loaded\n",
      "Loading C:\\soft\\miniconda3\\Lib\\site-packages\\iode\\tests\\data/fun.eqs\n",
      "274 objects loaded\n",
      "Loading C:\\soft\\miniconda3\\Lib\\site-packages\\iode\\tests\\data/fun.idt\n",
      "48 objects loaded\n",
      "Loading C:\\soft\\miniconda3\\Lib\\site-packages\\iode\\tests\\data/fun.lst\n",
      "17 objects loaded\n",
      "Loading C:\\soft\\miniconda3\\Lib\\site-packages\\iode\\tests\\data/fun.scl\n",
      "161 objects loaded\n",
      "Loading C:\\soft\\miniconda3\\Lib\\site-packages\\iode\\tests\\data/fun.tbl\n",
      "46 objects loaded\n",
      "Loading C:\\soft\\miniconda3\\Lib\\site-packages\\iode\\tests\\data/fun.var\n",
      "394 objects loaded\n"
     ]
    },
    {
     "data": {
      "text/plain": [
       "(317, 274, 48, 17, 161, 46, 394)"
      ]
     },
     "execution_count": 74,
     "metadata": {},
     "output_type": "execute_result"
    }
   ],
   "source": [
    "# ---- load equations, identities, scalars and variables ----\n",
    "from iode import comments, equations, identities, lists, scalars, tables, variables\n",
    "\n",
    "# Note: test binary and ASCII 'fun' files are located in the 'Sample_DATA_DIR' \n",
    "#       directory of the 'iode' package\n",
    "comments.load(f\"{Sample_DATA_DIR}/fun.cmt\")\n",
    "equations.load(f\"{Sample_DATA_DIR}/fun.eqs\")\n",
    "identities.load(f\"{Sample_DATA_DIR}/fun.idt\")\n",
    "lists.load(f\"{Sample_DATA_DIR}/fun.lst\")\n",
    "scalars.load(f\"{Sample_DATA_DIR}/fun.scl\")\n",
    "tables.load(f\"{Sample_DATA_DIR}/fun.tbl\")\n",
    "variables.load(f\"{Sample_DATA_DIR}/fun.var\")\n",
    "\n",
    "# ---- print the number of objects present in the above workspaces ----\n",
    "len(comments), len(equations), len(identities), len(lists), len(scalars), len(tables), len(variables)"
   ]
  },
  {
   "cell_type": "markdown",
   "metadata": {},
   "source": [
    "### Explore workspaces\n",
    "\n",
    "To get the list of objects names present in a workspace, use the [names](../_generated/iode.Comments.names.rst#iode.Comments.names) attribute of the workspace. \n",
    "For example:"
   ]
  },
  {
   "cell_type": "code",
   "execution_count": 75,
   "metadata": {},
   "outputs": [
    {
     "data": {
      "text/plain": [
       "['COPY',\n",
       " 'COPY0',\n",
       " 'COPY1',\n",
       " 'ENDO',\n",
       " 'ENDO0',\n",
       " 'ENDO1',\n",
       " 'ENVI',\n",
       " 'IDT',\n",
       " 'MAINEQ',\n",
       " 'MYLIST',\n",
       " 'TOTAL',\n",
       " 'TOTAL0',\n",
       " 'TOTAL1',\n",
       " 'XENVI',\n",
       " 'XSCENARIO',\n",
       " '_SCAL',\n",
       " '_SEARCH']"
      ]
     },
     "execution_count": 75,
     "metadata": {},
     "output_type": "execute_result"
    }
   ],
   "source": [
    "# get the list of all IODE lists\n",
    "lists.names"
   ]
  },
  {
   "cell_type": "markdown",
   "metadata": {},
   "source": [
    "To check if a name is present in a workspace, use the `in` operator. \n",
    "For example:"
   ]
  },
  {
   "cell_type": "code",
   "execution_count": 76,
   "metadata": {},
   "outputs": [
    {
     "name": "stdout",
     "output_type": "stream",
     "text": [
      "The 'ENVI' IODE list exists\n"
     ]
    }
   ],
   "source": [
    "if 'ENVI' in lists:\n",
    "    print(\"The 'ENVI' IODE list exists\")\n",
    "else:\n",
    "    print(\"'ENVI' IODE list not found\")"
   ]
  },
  {
   "cell_type": "markdown",
   "metadata": {},
   "source": [
    "To iterate over names of a workspace, simply use the Python syntax for the *for loop*:"
   ]
  },
  {
   "cell_type": "code",
   "execution_count": 77,
   "metadata": {},
   "outputs": [
    {
     "name": "stdout",
     "output_type": "stream",
     "text": [
      "Iterate over all IODE lists names in the Lists workspace:\n",
      "COPY\n",
      "COPY0\n",
      "COPY1\n",
      "ENDO\n",
      "ENDO0\n",
      "ENDO1\n",
      "ENVI\n",
      "IDT\n",
      "MAINEQ\n",
      "MYLIST\n",
      "TOTAL\n",
      "TOTAL0\n",
      "TOTAL1\n",
      "XENVI\n",
      "XSCENARIO\n",
      "_SCAL\n",
      "_SEARCH\n"
     ]
    }
   ],
   "source": [
    "print(\"Iterate over all IODE lists names in the Lists workspace:\")\n",
    "for name in lists:\n",
    "    print(name)"
   ]
  },
  {
   "cell_type": "markdown",
   "metadata": {},
   "source": [
    "To get the current used sample for the Variables, use the [sample](../_generated/iode.Variables.sample.rst#iode.Variables.sample) attribute of the [variables](../_generated/iode.Variables.rst#iode.Variables) workspace:"
   ]
  },
  {
   "cell_type": "code",
   "execution_count": 78,
   "metadata": {},
   "outputs": [
    {
     "data": {
      "text/plain": [
       "Sample(\"1960Y1:2015Y1\")"
      ]
     },
     "execution_count": 78,
     "metadata": {},
     "output_type": "execute_result"
    }
   ],
   "source": [
    "# current used sample\n",
    "variables.sample"
   ]
  },
  {
   "cell_type": "markdown",
   "metadata": {},
   "source": [
    "### Save workspaces\n",
    "\n",
    "To save the content of a workspace (or a subset of a workspace), use the [save()](../_generated/iode.Variables.save.rst#iode.Variables.save) method:"
   ]
  },
  {
   "cell_type": "code",
   "execution_count": 79,
   "metadata": {},
   "outputs": [
    {
     "name": "stdout",
     "output_type": "stream",
     "text": [
      "Saving c:\\usr\\Projects\\iode-1\\doc\\source\\tutorial\\equations.eqs\n",
      "274 objects saved\n",
      "Saving c:\\usr\\Projects\\iode-1\\doc\\source\\tutorial\\variables_subset.av\n",
      "Check content of the variables_subset.av file:\n",
      "\n",
      "sample 1960Y1 2015Y1\n",
      "ACAF na na na na na na na na na na 1.2130001 5.2020001 9.184 8.0790005 11.332 13.518001 15.784 16.544001 21.489 20.281 21.277 32.417999 24.446999 27.025002 24.504 27.560999 25.542 27.499001 25.353001 17.165001 23.771 26.240999 30.159 34.661999 8.1610022 -13.130997 32.171001 39.935799 29.645657 13.530404919696 10.0466107922005 2.86792273645546 -0.929212509051645 -6.09156498756888 -14.5820944628981 -26.5387895697886 -28.9872879825975 -33.3784257842954 -38.4095177823974 -37.4635096412738 -37.8274288322944 -44.5447926335432 -55.5592898172187 -68.8946543226201 -83.3406251108009 -96.4104198284833 \n",
      "ACAG na na na na na na na na na na -11.028999 -15.847 -19.288002 -21.814999 -25.447002 -24.618999 -27.770998 -28.839001 -29.434998 -30.411001 -30.353001 -41.060997 -31.178001 -32.604 -30.237003 -38.061001 -31.939999 -35.59 -37.238003 -25.991001 -28.1721855713507 -30.934 -40.285999 -43.157997 -16.029003 -41.845993 -40.237 -32.93 -38.345695 -39.8581741316036 -41.534786567348 18.9398011359783 19.9808148751188 21.0205021787734 22.0664755229642 23.1079621640615 24.1296371451098 25.1609090496654 26.1921114843413 27.2299551185986 28.2539289782105 29.2846003640349 30.3239611503116 31.3701388106954 32.4202988291984 33.469601344881 \n",
      "AQC 0.21753037 0.21544869 0.22228125 0.22953896 0.23653506 0.24732406 0.26255098 0.26907021 0.27206925 0.27986595 0.29396999 0.31906503 0.3426649 0.36655167 0.42489415 0.49478459 0.53812659 0.5841772 0.61441606 0.64528418 0.68947881 0.73596764 0.77532566 0.82384807 0.85829282 0.90006256 0.92794591 0.93221092 0.92874223 0.9445076 1 1.0628064 1.1102825 1.1532652 1.1571276 1.1616869 1.1580297 1.201328 1.2031082 1.34296996567459 1.33860285536454 1.37918824681718 1.40881646814855 1.4197045826264 1.40065205989326 1.39697298498842 1.39806354127729 1.40791333507892 1.42564487943834 1.44633167140609 1.46286836974508 1.4822736109441 1.51366597504599 1.55803878946449 1.61318116991651 1.67429057570213 \n",
      "BQY 31.777023 30.852692 30.352686 27.369537 26.937241 35.434574 37.147881 39.505711 42.182659 43.180264 53.083984 49.670918 53.546627 49.331879 50.91983 49.630653 53.96249 40.783443 35.963261 12.621698 -9.930582 -11.615362 -44.158623 -48.221375 -43.152462 -57.944221 -35.790237 -21.710344 -20.180235 -11.333452 -34.099998 -1.2597286 -13.746386 52.161541 66.625153 91.089355 104.67634 113.51928 116.18705 117.908447093342 119.955089852255 121.37741690021 121.700965506023 122.433025255743 124.490157052046 127.572355095553 129.818419511458 131.31355487699 132.020462612763 132.709142263746 133.959190039522 135.075585222668 135.597702367503 135.753159667506 135.968846903397 136.672483513679 \n",
      "BVY 7.1999998 7.0999999 7.1000004 6.6000004 6.8000002 9.3999996 10.3 11.3 12.4 13.3 17.200001 17 19.5 19.200001 22.300001 24.4 28.5 23.099998 21.299999 7.7999992 -6.3999977 -7.9000015 -32.100002 -37.099998 -34.900002 -49.699997 -31.799999 -19.700005 -18.699997 -10.987999 -34.099997 -1.3000031 -14.699997 58.100002 75.900002 105.5 123.2 135.6192 140.73978 144.858781845561 150.053352305841 155.895061264049 160.228327009897 164.690028964993 169.072563292021 173.128489782561 176.73460923165 180.338756120558 184.785317603043 189.533437819158 194.344845745399 199.148256821389 204.263448922459 210.010481935745 216.588822212895 224.043770177584 \n",
      "\n",
      "\n"
     ]
    }
   ],
   "source": [
    "# ---- save workspace (or subset) ----\n",
    "# save the whole workspace\n",
    "equations.save('equations.eqs')\n",
    "\n",
    "# save only a subset of the global variables workspace\n",
    "vars_subset = variables[[\"ACAF\", \"ACAG\", \"AQC\", \"BQY\", \"BVY\"]]\n",
    "vars_subset.save('variables_subset.av')    \n",
    "\n",
    "print(\"Check content of the variables_subset.av file:\\n\")\n",
    "with open(\"variables_subset.av\", \"r\") as f:\n",
    "    print(f.read())\n",
    "print()"
   ]
  },
  {
   "cell_type": "markdown",
   "metadata": {},
   "source": [
    "### Workspace subsets\n",
    "\n",
    "IODE workspaces can contains a lot objects and it can be sometimes easier to work on a subset of the objects present in a workspace. To get a subset of an IODE workspace, a *pattern* can be passed to the `[]` operator. \n",
    "A (sub-)`pattern` is a list of characters representing a group of object names. It includes some special characters which have a special meaning:\n",
    "\n",
    "* `*` : any character sequence, even empty\n",
    "* `?` : any character (one and only one)\n",
    "* `@` : any alphanumerical char [A-Za-z0-9]\n",
    "* `&` : any non alphanumerical char\n",
    "* `|` : any alphanumeric character or none at the beginning and end of a string \n",
    "* `!` : any non-alphanumeric character or none at the beginning and end of a string \n",
    "* `\\` : escape the next character\n",
    "\n",
    "The *pattern* can contain sub-patterns, as well as, object names. The sub-patterns and object names are separated by a *separator* character which is either:\n",
    "\n",
    "* a whitespace `' '`\n",
    "* a comma `,`\n",
    "* a semi-colon `;`\n",
    "* a tabulation `\\t`\n",
    "* a newline `\\n`\n",
    "\n",
    "Note that the *pattern* can contain references to IODE lists which are prefixed with the symbol `$`:"
   ]
  },
  {
   "cell_type": "code",
   "execution_count": 80,
   "metadata": {},
   "outputs": [
    {
     "data": {
      "text/plain": [
       "Workspace: Variables\n",
       "nb variables: 33\n",
       "filename: c:\\soft\\miniconda3\\Lib\\site-packages\\iode\\tests\\data\\fun.var\n",
       "description: Modèle fun - Simulation 1                         \n",
       "sample: 1960Y1:2015Y1\n",
       "mode: LEVEL\n",
       "\n",
       " name\t1960Y1\t1961Y1\t1962Y1\t1963Y1\t1964Y1\t...\t 2010Y1 \t 2011Y1 \t 2012Y1 \t 2013Y1 \t 2014Y1 \t 2015Y1 \n",
       "ACAF \t    na\t    na\t    na\t    na\t    na\t...\t  -37.83\t  -44.54\t  -55.56\t  -68.89\t  -83.34\t  -96.41\n",
       "ACAG \t    na\t    na\t    na\t    na\t    na\t...\t   28.25\t   29.28\t   30.32\t   31.37\t   32.42\t   33.47\n",
       "AOUC \t    na\t  0.25\t  0.25\t  0.26\t  0.28\t...\t    1.31\t    1.33\t    1.36\t    1.39\t    1.42\t    1.46\n",
       "AOUC_\t    na\t    na\t    na\t    na\t    na\t...\t    1.25\t    1.27\t    1.30\t    1.34\t    1.37\t    1.41\n",
       "AQC  \t  0.22\t  0.22\t  0.22\t  0.23\t  0.24\t...\t    1.46\t    1.48\t    1.51\t    1.56\t    1.61\t    1.67\n",
       "...  \t   ...\t   ...\t   ...\t   ...\t   ...\t...\t     ...\t     ...\t     ...\t     ...\t     ...\t     ...\n",
       "WCF_ \t193.41\t205.78\t226.79\t250.05\t286.84\t...\t 5170.60\t 5340.61\t 5577.10\t 5872.12\t 6199.43\t 6531.10\n",
       "WIND_\t 69.98\t 72.09\t 75.96\t 78.14\t 82.12\t...\t 1301.03\t 1338.25\t 1389.28\t 1455.12\t 1532.45\t 1615.10\n",
       "WNF_ \t156.39\t164.81\t181.95\t198.53\t224.50\t...\t 3249.75\t 3356.81\t 3505.67\t 3691.39\t 3897.45\t 4106.27\n",
       "YDH_ \t439.50\t462.93\t493.99\t530.13\t587.08\t...\t10995.83\t11398.84\t11895.99\t12481.62\t13127.32\t13792.13\n",
       "ZZF_ \t  0.69\t  0.69\t  0.69\t  0.69\t  0.69\t...\t    0.69\t    0.69\t    0.69\t    0.69\t    0.69\t    0.69"
      ]
     },
     "execution_count": 80,
     "metadata": {},
     "output_type": "execute_result"
    }
   ],
   "source": [
    "vars_subset = variables[\"A*;*_\"]\n",
    "vars_subset"
   ]
  },
  {
   "cell_type": "code",
   "execution_count": 81,
   "metadata": {},
   "outputs": [
    {
     "data": {
      "text/plain": [
       "['EX',\n",
       " 'PWMAB',\n",
       " 'PWMS',\n",
       " 'PWXAB',\n",
       " 'PWXS',\n",
       " 'QWXAB',\n",
       " 'QWXS',\n",
       " 'POIL',\n",
       " 'NATY',\n",
       " 'TFPFHP_']"
      ]
     },
     "execution_count": 81,
     "metadata": {},
     "output_type": "execute_result"
    }
   ],
   "source": [
    "lists[\"ENVI\"]"
   ]
  },
  {
   "cell_type": "code",
   "execution_count": 82,
   "metadata": {},
   "outputs": [
    {
     "data": {
      "text/plain": [
       "Workspace: Variables\n",
       "nb variables: 15\n",
       "filename: c:\\soft\\miniconda3\\Lib\\site-packages\\iode\\tests\\data\\fun.var\n",
       "description: Modèle fun - Simulation 1                         \n",
       "sample: 1960Y1:2015Y1\n",
       "mode: LEVEL\n",
       "\n",
       "  name \t1960Y1\t1961Y1\t1962Y1\t1963Y1\t1964Y1\t...\t2010Y1\t2011Y1\t2012Y1\t2013Y1\t2014Y1\t2015Y1\n",
       "ACAF   \t    na\t    na\t    na\t    na\t    na\t...\t-37.83\t-44.54\t-55.56\t-68.89\t-83.34\t-96.41\n",
       "ACAG   \t    na\t    na\t    na\t    na\t    na\t...\t 28.25\t 29.28\t 30.32\t 31.37\t 32.42\t 33.47\n",
       "AOUC   \t    na\t  0.25\t  0.25\t  0.26\t  0.28\t...\t  1.31\t  1.33\t  1.36\t  1.39\t  1.42\t  1.46\n",
       "AOUC_  \t    na\t    na\t    na\t    na\t    na\t...\t  1.25\t  1.27\t  1.30\t  1.34\t  1.37\t  1.41\n",
       "AQC    \t  0.22\t  0.22\t  0.22\t  0.23\t  0.24\t...\t  1.46\t  1.48\t  1.51\t  1.56\t  1.61\t  1.67\n",
       "...    \t   ...\t   ...\t   ...\t   ...\t   ...\t...\t   ...\t   ...\t   ...\t   ...\t   ...\t   ...\n",
       "PWXAB  \t  0.23\t  0.23\t  0.23\t  0.23\t  0.23\t...\t  1.44\t  1.46\t  1.49\t  1.51\t  1.54\t  1.57\n",
       "PWXS   \t  0.21\t  0.21\t  0.21\t  0.21\t  0.21\t...\t  1.70\t  1.73\t  1.76\t  1.79\t  1.82\t  1.85\n",
       "QWXAB  \t  0.44\t  0.44\t  0.44\t  0.44\t  0.44\t...\t  4.38\t  4.63\t  4.88\t  5.15\t  5.43\t  5.73\n",
       "QWXS   \t  0.55\t  0.55\t  0.55\t  0.55\t  0.55\t...\t  1.77\t  1.83\t  1.88\t  1.94\t  2.00\t  2.06\n",
       "TFPFHP_\t  0.39\t  0.40\t  0.42\t  0.43\t  0.44\t...\t  1.10\t  1.11\t  1.12\t  1.13\t  1.14\t  1.15"
      ]
     },
     "execution_count": 82,
     "metadata": {},
     "output_type": "execute_result"
    }
   ],
   "source": [
    "vars_subset = variables[\"A*;$ENVI\"]\n",
    "vars_subset"
   ]
  },
  {
   "cell_type": "markdown",
   "metadata": {},
   "source": [
    "### Get - add - update - delete objects in a workspaces\n",
    "\n",
    "In a similar way to Python dictionaries, you can [get](../_generated/iode.Equations.__getitem__.rst), [add](../_generated/iode.Equations.__setitem__.rst), [update](../_generated/iode.Equations.__setitem__.rst) and [delete](../_generated/iode.Equations.__delitem__.rst) IODE objects in a workspace using the `[]` operator.\n",
    "\n",
    "* To extract an IODE object from a workspace, use the syntax: `my_obj = workspace[name]`.\n",
    "* To add an IODE object to a workspace, use the syntax: `workspace[new_name] = new_obj`.\n",
    "* To update an IODE object in a workspace, use the syntax: `workspace[name] = new_value`.\n",
    "* To delete an IODE object from a workspace, use the syntax: `del workspace[name]`.\n",
    "\n",
    "To add or update IODE objects using:\n",
    "\n",
    "* a pandas Series or DataFrame, see the [pandas tutorial](./pandas.ipynb).\n",
    "* an larray Array, see the [larray tutorial](./larray.ipynb).\n",
    "* a numpy ndarray, see the [numpy tutorial](./numpy.ipynb)."
   ]
  },
  {
   "cell_type": "markdown",
   "metadata": {},
   "source": [
    "#### Comments"
   ]
  },
  {
   "cell_type": "markdown",
   "metadata": {},
   "source": [
    "Add one comment:"
   ]
  },
  {
   "cell_type": "code",
   "execution_count": 83,
   "metadata": {},
   "outputs": [
    {
     "data": {
      "text/plain": [
       "'A new comment'"
      ]
     },
     "execution_count": 83,
     "metadata": {},
     "output_type": "execute_result"
    }
   ],
   "source": [
    "comments[\"NEW\"] = \"A new comment\"\n",
    "comments[\"NEW\"]"
   ]
  },
  {
   "cell_type": "markdown",
   "metadata": {},
   "source": [
    "Update a comment:"
   ]
  },
  {
   "cell_type": "code",
   "execution_count": 84,
   "metadata": {},
   "outputs": [
    {
     "data": {
      "text/plain": [
       "'New Value'"
      ]
     },
     "execution_count": 84,
     "metadata": {},
     "output_type": "execute_result"
    }
   ],
   "source": [
    "comments[\"NEW\"] = \"New Value\"\n",
    "comments[\"NEW\"]"
   ]
  },
  {
   "cell_type": "markdown",
   "metadata": {},
   "source": [
    "Update multiple comments at once:"
   ]
  },
  {
   "cell_type": "code",
   "execution_count": 85,
   "metadata": {},
   "outputs": [
    {
     "data": {
      "text/plain": [
       "Workspace: Comments\n",
       "nb comments: 3\n",
       "filename: c:\\soft\\miniconda3\\Lib\\site-packages\\iode\\tests\\data\\fun.cmt\n",
       "\n",
       "name\t       comments       \n",
       "ACAF\tUpdated ACAF from dict\n",
       "ACAG\tUpdated ACAG from dict\n",
       "AOUC\tUpdated AOUC from dict"
      ]
     },
     "execution_count": 85,
     "metadata": {},
     "output_type": "execute_result"
    }
   ],
   "source": [
    "# 1) using a dict of values\n",
    "values = {\"AOUC\": \"Updated AOUC from dict\", \"ACAF\": \"Updated ACAF from dict\", \n",
    "          \"ACAG\": \"Updated ACAG from dict\"}\n",
    "comments[\"ACAF, ACAG, AOUC\"] = values\n",
    "comments[\"ACAF, ACAG, AOUC\"]"
   ]
  },
  {
   "cell_type": "code",
   "execution_count": 86,
   "metadata": {},
   "outputs": [
    {
     "data": {
      "text/plain": [
       "Workspace: Comments\n",
       "nb comments: 3\n",
       "filename: c:\\soft\\miniconda3\\Lib\\site-packages\\iode\\tests\\data\\fun.cmt\n",
       "\n",
       "name\t                    comments                    \n",
       "ACAF\tUpdated ACAF from another iode Comments database\n",
       "ACAG\tUpdated ACAG from another iode Comments database\n",
       "AOUC\tUpdated AOUC from another iode Comments database"
      ]
     },
     "execution_count": 86,
     "metadata": {},
     "output_type": "execute_result"
    }
   ],
   "source": [
    "# 2) using another Comments database (subset)\n",
    "comments_subset = comments[\"ACAF, ACAG, AOUC\"].copy()\n",
    "comments_subset[\"ACAF\"] = \"Updated ACAF from another iode Comments database\"\n",
    "comments_subset[\"ACAG\"] = \"Updated ACAG from another iode Comments database\"\n",
    "comments_subset[\"AOUC\"] = \"Updated AOUC from another iode Comments database\"\n",
    "comments[\"ACAF, ACAG, AOUC\"] = comments_subset\n",
    "comments[\"ACAF, ACAG, AOUC\"]"
   ]
  },
  {
   "cell_type": "markdown",
   "metadata": {},
   "source": [
    "Delete a comment:"
   ]
  },
  {
   "cell_type": "code",
   "execution_count": 87,
   "metadata": {},
   "outputs": [
    {
     "data": {
      "text/plain": [
       "['ACAF', 'ACAG', 'AOUC', 'AQC']"
      ]
     },
     "execution_count": 87,
     "metadata": {},
     "output_type": "execute_result"
    }
   ],
   "source": [
    "comments.get_names(\"A*\")"
   ]
  },
  {
   "cell_type": "code",
   "execution_count": 88,
   "metadata": {},
   "outputs": [
    {
     "data": {
      "text/plain": [
       "['ACAG', 'AOUC', 'AQC']"
      ]
     },
     "execution_count": 88,
     "metadata": {},
     "output_type": "execute_result"
    }
   ],
   "source": [
    "del comments[\"ACAF\"]\n",
    "comments.get_names(\"A*\")"
   ]
  },
  {
   "cell_type": "markdown",
   "metadata": {},
   "source": [
    "#### Equations"
   ]
  },
  {
   "cell_type": "markdown",
   "metadata": {},
   "source": [
    "Add one equation:"
   ]
  },
  {
   "cell_type": "code",
   "execution_count": 89,
   "metadata": {},
   "outputs": [
    {
     "data": {
      "text/plain": [
       "Equation(endogenous = 'TEST',\n",
       "         lec = 'TEST := 0',\n",
       "         method = 'LSQ',\n",
       "         from_period = '1960Y1',\n",
       "         to_period = '2015Y1')"
      ]
     },
     "execution_count": 89,
     "metadata": {},
     "output_type": "execute_result"
    }
   ],
   "source": [
    "equations[\"TEST\"] = \"TEST := 0\"\n",
    "equations[\"TEST\"]"
   ]
  },
  {
   "cell_type": "markdown",
   "metadata": {},
   "source": [
    "Update an equation:"
   ]
  },
  {
   "cell_type": "code",
   "execution_count": 90,
   "metadata": {},
   "outputs": [
    {
     "data": {
      "text/plain": [
       "Equation(endogenous = 'ACAF',\n",
       "         lec = '(ACAF/VAF[-1]) :=acaf1+acaf2*GOSF[-1]+\\nacaf4*(TIME=1995)',\n",
       "         method = 'LSQ',\n",
       "         from_period = '1980Y1',\n",
       "         to_period = '1996Y1',\n",
       "         block = 'ACAF',\n",
       "         tests = {corr = 1,\n",
       "                  dw = 2.32935,\n",
       "                  fstat = 32.2732,\n",
       "                  loglik = 83.8075,\n",
       "                  meany = 0.00818467,\n",
       "                  r2 = 0.821761,\n",
       "                  r2adj = 0.796299,\n",
       "                  ssres = 5.19945e-05,\n",
       "                  stderr = 0.00192715,\n",
       "                  stderrp = 23.5458,\n",
       "                  stdev = 0.0042699},\n",
       "         date = '12-06-1998')"
      ]
     },
     "execution_count": 90,
     "metadata": {},
     "output_type": "execute_result"
    }
   ],
   "source": [
    "equations[\"ACAF\"]"
   ]
  },
  {
   "cell_type": "code",
   "execution_count": 91,
   "metadata": {},
   "outputs": [
    {
     "data": {
      "text/plain": [
       "Equation(endogenous = 'ACAF',\n",
       "         lec = '(ACAF/VAF[-1]) := acaf1 + acaf2 * GOSF[-1] + acaf4 * (TIME=1995)',\n",
       "         method = 'LSQ',\n",
       "         from_period = '1980Y1',\n",
       "         to_period = '1996Y1',\n",
       "         block = 'ACAF',\n",
       "         tests = {corr = 1,\n",
       "                  dw = 2.32935,\n",
       "                  fstat = 32.2732,\n",
       "                  loglik = 83.8075,\n",
       "                  meany = 0.00818467,\n",
       "                  r2 = 0.821761,\n",
       "                  r2adj = 0.796299,\n",
       "                  ssres = 5.19945e-05,\n",
       "                  stderr = 0.00192715,\n",
       "                  stderrp = 23.5458,\n",
       "                  stdev = 0.0042699},\n",
       "         date = '12-06-1998')"
      ]
     },
     "execution_count": 91,
     "metadata": {},
     "output_type": "execute_result"
    }
   ],
   "source": [
    "# update only the LEC\n",
    "equations[\"ACAF\"] = \"(ACAF/VAF[-1]) := acaf1 + acaf2 * GOSF[-1] + acaf4 * (TIME=1995)\"\n",
    "equations[\"ACAF\"]"
   ]
  },
  {
   "cell_type": "code",
   "execution_count": 92,
   "metadata": {},
   "outputs": [
    {
     "data": {
      "text/plain": [
       "(Sample(\"2000Y1:2010Y1\"), Sample(\"2000Y1:2010Y1\"), Sample(\"2000Y1:2010Y1\"))"
      ]
     },
     "execution_count": 92,
     "metadata": {},
     "output_type": "execute_result"
    }
   ],
   "source": [
    "# update block and sample of a block of equations to estimation (dictionary)\n",
    "estim_sample = \"2000Y1:2010Y1\"\n",
    "block = \"ACAF; ACAG; AOUC\"\n",
    "for eq_name in block.split(';'):\n",
    "    equations[eq_name] = {\"sample\": estim_sample, \"block\": block}\n",
    "\n",
    "(equations[\"ACAF\"].sample, equations[\"ACAG\"].sample, equations[\"AOUC\"].sample)"
   ]
  },
  {
   "cell_type": "code",
   "execution_count": 93,
   "metadata": {},
   "outputs": [
    {
     "data": {
      "text/plain": [
       "('ACAF; ACAG; AOUC', 'ACAF; ACAG; AOUC', 'ACAF; ACAG; AOUC')"
      ]
     },
     "execution_count": 93,
     "metadata": {},
     "output_type": "execute_result"
    }
   ],
   "source": [
    "(equations[\"ACAF\"].block, equations[\"ACAG\"].block, equations[\"AOUC\"].block)"
   ]
  },
  {
   "cell_type": "code",
   "execution_count": 94,
   "metadata": {},
   "outputs": [
    {
     "data": {
      "text/plain": [
       "Equation(endogenous = 'ACAF',\n",
       "         lec = '(ACAF/VAF[-1]) := acaf2 * GOSF[-1] + acaf4 * (TIME=1995)',\n",
       "         method = 'MAX_LIKELIHOOD',\n",
       "         from_period = '1990Y1',\n",
       "         to_period = '2015Y1',\n",
       "         block = 'ACAF',\n",
       "         tests = {corr = 1,\n",
       "                  dw = 2.32935,\n",
       "                  fstat = 32.2732,\n",
       "                  loglik = 83.8075,\n",
       "                  meany = 0.00818467,\n",
       "                  r2 = 0.821761,\n",
       "                  r2adj = 0.796299,\n",
       "                  ssres = 5.19945e-05,\n",
       "                  stderr = 0.00192715,\n",
       "                  stderrp = 23.5458,\n",
       "                  stdev = 0.0042699},\n",
       "         date = '12-06-1998')"
      ]
     },
     "execution_count": 94,
     "metadata": {},
     "output_type": "execute_result"
    }
   ],
   "source": [
    "# update lec, method, sample and block\n",
    "equations[\"ACAF\"].lec = \"(ACAF/VAF[-1]) := acaf2 * GOSF[-1] + acaf4 * (TIME=1995)\"\n",
    "equations[\"ACAF\"].method = EqMethod.MAX_LIKELIHOOD\n",
    "# new equation sample is from 1990Y1 to the last year of Variables\n",
    "equations[\"ACAF\"].sample = \"1990Y1:\"\n",
    "equations[\"ACAF\"].block = \"ACAF\"\n",
    "equations[\"ACAF\"]"
   ]
  },
  {
   "cell_type": "markdown",
   "metadata": {},
   "source": [
    "Update multiple equations at once:"
   ]
  },
  {
   "cell_type": "code",
   "execution_count": 95,
   "metadata": {},
   "outputs": [
    {
     "data": {
      "text/plain": [
       "Workspace: Equations\n",
       "nb equations: 3\n",
       "filename: c:\\usr\\Projects\\iode-1\\doc\\source\\tutorial\\equations.eqs\n",
       "\n",
       "name\t                                     lec                                      \t method\t    sample   \tblock\tfstat \tr2adj \t  dw  \tloglik\tdate\n",
       "ACAF\t(ACAF/VAF[-1]) :=acaf1+acaf2*GOSF[-1]+ acaf4*(TIME=1995)                      \tZELLNER\t1980Y1:1996Y1\t     \t0.0000\t0.0000\t0.0000\t0.0000\t    \n",
       "ACAG\tACAG := ACAG[-1]+r VBBP[-1]+(0.006*VBBP[-1]*(TIME=2001)-0.008*(TIME=2008))    \tZELLNER\t1980Y1:1996Y1\t     \t0.0000\t0.0000\t0.0000\t0.0000\t    \n",
       "AOUC\tAOUC:=((WCRH/QL)/(WCRH/QL)[1990Y1])*(VAFF/(VM+VAFF))[-1]+PM*(VM/(VAFF+VM))[-1]\tZELLNER\t1980Y1:1996Y1\t     \t0.0000\t0.0000\t0.0000\t0.0000\t    "
      ]
     },
     "execution_count": 95,
     "metadata": {},
     "output_type": "execute_result"
    }
   ],
   "source": [
    "# 1) using a dict of values\n",
    "eq_ACAF = Equation(\"ACAF\", \"(ACAF/VAF[-1]) :=acaf1+acaf2*GOSF[-1]+ acaf4*(TIME=1995)\", \n",
    "                   method=EqMethod.ZELLNER, from_period='1980Y1', to_period='1996Y1')\n",
    "eq_ACAG = Equation(\"ACAG\", \"ACAG := ACAG[-1]+r VBBP[-1]+(0.006*VBBP[-1]*(TIME=2001)-0.008*(TIME=2008))\", \n",
    "                   method=EqMethod.ZELLNER, from_period='1980Y1', to_period='1996Y1')\n",
    "eq_AOUC = Equation(\"AOUC\", \"AOUC:=((WCRH/QL)/(WCRH/QL)[1990Y1])*(VAFF/(VM+VAFF))[-1]+PM*(VM/(VAFF+VM))[-1]\", \n",
    "                   method=EqMethod.ZELLNER, from_period='1980Y1', to_period='1996Y1')\n",
    "values = {\"ACAF\": eq_ACAF, \"ACAG\": eq_ACAG, \"AOUC\": eq_AOUC}\n",
    "equations[\"ACAF, ACAG, AOUC\"] = values\n",
    "equations[\"ACAF, ACAG, AOUC\"]"
   ]
  },
  {
   "cell_type": "code",
   "execution_count": 96,
   "metadata": {},
   "outputs": [
    {
     "data": {
      "text/plain": [
       "Workspace: Equations\n",
       "nb equations: 3\n",
       "filename: c:\\usr\\Projects\\iode-1\\doc\\source\\tutorial\\equations.eqs\n",
       "\n",
       "name\t                                     lec                                      \t    method    \t    sample   \tblock\tfstat \tr2adj \t  dw  \tloglik\tdate\n",
       "ACAF\t(ACAF/VAF[-1]) :=acaf1+acaf2*GOSF[-1]+ acaf4*(TIME=1995)                      \tMAX_LIKELIHOOD\t1980Y1:1996Y1\t     \t0.0000\t0.0000\t0.0000\t0.0000\t    \n",
       "ACAG\tACAG := ACAG[-1]+r VBBP[-1]+(0.006*VBBP[-1]*(TIME=2001)-0.008*(TIME=2008))    \tMAX_LIKELIHOOD\t1980Y1:1996Y1\t     \t0.0000\t0.0000\t0.0000\t0.0000\t    \n",
       "AOUC\tAOUC:=((WCRH/QL)/(WCRH/QL)[1990Y1])*(VAFF/(VM+VAFF))[-1]+PM*(VM/(VAFF+VM))[-1]\tMAX_LIKELIHOOD\t1980Y1:1996Y1\t     \t0.0000\t0.0000\t0.0000\t0.0000\t    "
      ]
     },
     "execution_count": 96,
     "metadata": {},
     "output_type": "execute_result"
    }
   ],
   "source": [
    "# 2) using another Equations database (subset)\n",
    "equations_subset = equations[\"ACAF, ACAG, AOUC\"].copy()\n",
    "equations_subset[\"ACAF\"].method = EqMethod.MAX_LIKELIHOOD\n",
    "equations_subset[\"ACAG\"].method = EqMethod.MAX_LIKELIHOOD\n",
    "equations_subset[\"AOUC\"].method = EqMethod.MAX_LIKELIHOOD\n",
    "equations[\"ACAF, ACAG, AOUC\"] = equations_subset\n",
    "equations[\"ACAF, ACAG, AOUC\"]"
   ]
  },
  {
   "cell_type": "markdown",
   "metadata": {},
   "source": [
    "Delete an equation:"
   ]
  },
  {
   "cell_type": "code",
   "execution_count": 97,
   "metadata": {},
   "outputs": [
    {
     "data": {
      "text/plain": [
       "['ACAF', 'ACAG', 'AOUC']"
      ]
     },
     "execution_count": 97,
     "metadata": {},
     "output_type": "execute_result"
    }
   ],
   "source": [
    "equations.get_names(\"A*\")"
   ]
  },
  {
   "cell_type": "code",
   "execution_count": 98,
   "metadata": {},
   "outputs": [
    {
     "data": {
      "text/plain": [
       "['ACAG', 'AOUC']"
      ]
     },
     "execution_count": 98,
     "metadata": {},
     "output_type": "execute_result"
    }
   ],
   "source": [
    "del equations[\"ACAF\"]\n",
    "equations.get_names(\"A*\")"
   ]
  },
  {
   "cell_type": "markdown",
   "metadata": {},
   "source": [
    "#### Identities"
   ]
  },
  {
   "cell_type": "markdown",
   "metadata": {},
   "source": [
    "Add one identity:"
   ]
  },
  {
   "cell_type": "code",
   "execution_count": 99,
   "metadata": {},
   "outputs": [
    {
     "data": {
      "text/plain": [
       "Identity('YN - YK')"
      ]
     },
     "execution_count": 99,
     "metadata": {},
     "output_type": "execute_result"
    }
   ],
   "source": [
    "identities[\"BDY\"] = \"YN - YK\"\n",
    "identities[\"BDY\"]"
   ]
  },
  {
   "cell_type": "markdown",
   "metadata": {},
   "source": [
    "Update an identity:"
   ]
  },
  {
   "cell_type": "code",
   "execution_count": 100,
   "metadata": {},
   "outputs": [
    {
     "data": {
      "text/plain": [
       "Identity('((WCRH/QL)/(WCRH/QL)[1990Y1])*(VAFF/(VM+VAFF))[-1]+PM*(VM/(VM+VAFF))[-1]')"
      ]
     },
     "execution_count": 100,
     "metadata": {},
     "output_type": "execute_result"
    }
   ],
   "source": [
    "identities[\"AOUC\"]"
   ]
  },
  {
   "cell_type": "code",
   "execution_count": 101,
   "metadata": {},
   "outputs": [
    {
     "data": {
      "text/plain": [
       "Identity('(WCRH / WCRH[1990Y1]) * (VAFF / (VM+VAFF))[-1] + PM * (VM / (VM+VAFF))[-1]')"
      ]
     },
     "execution_count": 101,
     "metadata": {},
     "output_type": "execute_result"
    }
   ],
   "source": [
    "identities[\"AOUC\"] = '(WCRH / WCRH[1990Y1]) * (VAFF / (VM+VAFF))[-1] + PM * (VM / (VM+VAFF))[-1]'\n",
    "identities[\"AOUC\"]"
   ]
  },
  {
   "cell_type": "markdown",
   "metadata": {},
   "source": [
    "Update multiple identities at once:"
   ]
  },
  {
   "cell_type": "code",
   "execution_count": 102,
   "metadata": {},
   "outputs": [
    {
     "data": {
      "text/plain": [
       "Workspace: Identities\n",
       "nb identities: 3\n",
       "filename: c:\\soft\\miniconda3\\Lib\\site-packages\\iode\\tests\\data\\fun.idt\n",
       "\n",
       " name\t         identities        \n",
       "GAP2 \t0.9 * 100*(QAFF_/(Q_F+Q_I))\n",
       "GAP_ \t0.9 * 100*((QAF_/Q_F)-1)   \n",
       "GOSFR\t0.9 * (GOSF/VAF_)          "
      ]
     },
     "execution_count": 102,
     "metadata": {},
     "output_type": "execute_result"
    }
   ],
   "source": [
    "# 1) using a dict of values\n",
    "values = {\"GAP2\": \"0.9 * 100*(QAFF_/(Q_F+Q_I))\", \"GAP_\": \"0.9 * 100*((QAF_/Q_F)-1)\", \n",
    "          \"GOSFR\": \"0.9 * (GOSF/VAF_)\"}\n",
    "identities[\"GAP2, GAP_, GOSFR\"] = values\n",
    "identities[\"GAP2, GAP_, GOSFR\"]"
   ]
  },
  {
   "cell_type": "code",
   "execution_count": 103,
   "metadata": {},
   "outputs": [
    {
     "data": {
      "text/plain": [
       "Workspace: Identities\n",
       "nb identities: 3\n",
       "filename: c:\\soft\\miniconda3\\Lib\\site-packages\\iode\\tests\\data\\fun.idt\n",
       "\n",
       " name\t         identities        \n",
       "GAP2 \t0.7 * 100*(QAFF_/(Q_F+Q_I))\n",
       "GAP_ \t0.7 * 100*((QAF_/Q_F)-1)   \n",
       "GOSFR\t0.7 * (GOSF/VAF_)          "
      ]
     },
     "execution_count": 103,
     "metadata": {},
     "output_type": "execute_result"
    }
   ],
   "source": [
    "# 2) using another Identities database (subset)\n",
    "identities_subset = identities[\"GAP2, GAP_, GOSFR\"].copy()\n",
    "identities_subset[\"GAP2\"] = \"0.7 * 100*(QAFF_/(Q_F+Q_I))\"\n",
    "identities_subset[\"GAP_\"] = \"0.7 * 100*((QAF_/Q_F)-1)\"\n",
    "identities_subset[\"GOSFR\"] = \"0.7 * (GOSF/VAF_)\"\n",
    "identities[\"GAP2, GAP_, GOSFR\"] = identities_subset\n",
    "identities[\"GAP2, GAP_, GOSFR\"]"
   ]
  },
  {
   "cell_type": "markdown",
   "metadata": {},
   "source": [
    "Delete an identity:"
   ]
  },
  {
   "cell_type": "code",
   "execution_count": 104,
   "metadata": {},
   "outputs": [
    {
     "data": {
      "text/plain": [
       "['W', 'WBGR', 'WCRH', 'WMINR', 'WO']"
      ]
     },
     "execution_count": 104,
     "metadata": {},
     "output_type": "execute_result"
    }
   ],
   "source": [
    "identities.get_names(\"W*\")"
   ]
  },
  {
   "cell_type": "code",
   "execution_count": 105,
   "metadata": {},
   "outputs": [
    {
     "data": {
      "text/plain": [
       "['WBGR', 'WCRH', 'WMINR', 'WO']"
      ]
     },
     "execution_count": 105,
     "metadata": {},
     "output_type": "execute_result"
    }
   ],
   "source": [
    "del identities[\"W\"]\n",
    "identities.get_names(\"W*\")"
   ]
  },
  {
   "cell_type": "markdown",
   "metadata": {},
   "source": [
    "#### Lists"
   ]
  },
  {
   "cell_type": "markdown",
   "metadata": {},
   "source": [
    "Add one list:"
   ]
  },
  {
   "cell_type": "code",
   "execution_count": 106,
   "metadata": {},
   "outputs": [
    {
     "data": {
      "text/plain": [
       "['ACAF', 'ACAG', 'AOUC', 'AOUC_', 'AQC']"
      ]
     },
     "execution_count": 106,
     "metadata": {},
     "output_type": "execute_result"
    }
   ],
   "source": [
    "# --- by passing a string\n",
    "lists[\"A_VAR\"] = \"ACAF;ACAG;AOUC;AOUC_;AQC\"\n",
    "lists[\"A_VAR\"]"
   ]
  },
  {
   "cell_type": "code",
   "execution_count": 107,
   "metadata": {},
   "outputs": [
    {
     "data": {
      "text/plain": [
       "['BENEF', 'BQY', 'BRUGP', 'BVY']"
      ]
     },
     "execution_count": 107,
     "metadata": {},
     "output_type": "execute_result"
    }
   ],
   "source": [
    "# --- by passing a Python list\n",
    "b_vars = variables.get_names(\"B*\")\n",
    "b_vars"
   ]
  },
  {
   "cell_type": "code",
   "execution_count": 108,
   "metadata": {},
   "outputs": [
    {
     "data": {
      "text/plain": [
       "['BENEF', 'BQY', 'BRUGP', 'BVY']"
      ]
     },
     "execution_count": 108,
     "metadata": {},
     "output_type": "execute_result"
    }
   ],
   "source": [
    "lists[\"B_VAR\"] = b_vars\n",
    "lists[\"B_VAR\"]"
   ]
  },
  {
   "cell_type": "markdown",
   "metadata": {},
   "source": [
    "Update a list:"
   ]
  },
  {
   "cell_type": "code",
   "execution_count": 109,
   "metadata": {},
   "outputs": [
    {
     "data": {
      "text/plain": [
       "['ACAF', 'ACAG', 'AOUC', 'AQC']"
      ]
     },
     "execution_count": 109,
     "metadata": {},
     "output_type": "execute_result"
    }
   ],
   "source": [
    "# --- by passing a string\n",
    "lists[\"A_VAR\"] = \"ACAF;ACAG;AOUC;AQC\"\n",
    "lists[\"A_VAR\"]"
   ]
  },
  {
   "cell_type": "code",
   "execution_count": 110,
   "metadata": {},
   "outputs": [
    {
     "data": {
      "text/plain": [
       "['BQY', 'BVY']"
      ]
     },
     "execution_count": 110,
     "metadata": {},
     "output_type": "execute_result"
    }
   ],
   "source": [
    "# --- by passing a Python list\n",
    "b_y_vars = variables.get_names(\"B*Y\")\n",
    "b_y_vars"
   ]
  },
  {
   "cell_type": "code",
   "execution_count": 111,
   "metadata": {},
   "outputs": [
    {
     "data": {
      "text/plain": [
       "['BQY', 'BVY']"
      ]
     },
     "execution_count": 111,
     "metadata": {},
     "output_type": "execute_result"
    }
   ],
   "source": [
    "lists[\"B_VAR\"] = b_y_vars\n",
    "lists[\"B_VAR\"]"
   ]
  },
  {
   "cell_type": "markdown",
   "metadata": {},
   "source": [
    "Update multiple lists at once:"
   ]
  },
  {
   "cell_type": "code",
   "execution_count": 112,
   "metadata": {},
   "outputs": [
    {
     "data": {
      "text/plain": [
       "Workspace: Lists\n",
       "nb lists: 3\n",
       "filename: c:\\soft\\miniconda3\\Lib\\site-packages\\iode\\tests\\data\\fun.lst\n",
       "description: Modèle fun                                        \n",
       "\n",
       " name \t                                    lists                                    \n",
       "ENVI  \tPWMAB; PWMS; PWXAB; PWXS; QWXAB; QWXS; POIL; NATY                            \n",
       "IDT   \tFLGR; KL; PROD; QL; RDEBT; RENT; RLBER; SBGX; WCRH; IUGR; SBGXR; WBGR; YSFICR\n",
       "MAINEQ\tNFYH; KNFF; PC; PXAB; PMAB; QXAB; QMAB                                       "
      ]
     },
     "execution_count": 112,
     "metadata": {},
     "output_type": "execute_result"
    }
   ],
   "source": [
    "# 1) using a dict of values\n",
    "values = {\"ENVI\": \"PWMAB; PWMS; PWXAB; PWXS; QWXAB; QWXS; POIL; NATY\",\n",
    "          \"IDT\": \"FLGR; KL; PROD; QL; RDEBT; RENT; RLBER; SBGX; WCRH; IUGR; SBGXR; WBGR; YSFICR\",\n",
    "          \"MAINEQ\": \"NFYH; KNFF; PC; PXAB; PMAB; QXAB; QMAB\"}\n",
    "lists[\"ENVI, IDT, MAINEQ\"] = values\n",
    "lists[\"ENVI, IDT, MAINEQ\"]"
   ]
  },
  {
   "cell_type": "code",
   "execution_count": 113,
   "metadata": {},
   "outputs": [
    {
     "data": {
      "text/plain": [
       "Workspace: Lists\n",
       "nb lists: 3\n",
       "filename: c:\\soft\\miniconda3\\Lib\\site-packages\\iode\\tests\\data\\fun.lst\n",
       "description: Modèle fun                                        \n",
       "\n",
       " name \t                        lists                        \n",
       "ENVI  \tPWXAB; PWXS; QWXAB; QWXS                             \n",
       "IDT   \tPROD; QL; RDEBT; RENT; RLBER; SBGX; WCRH; IUGR; SBGXR\n",
       "MAINEQ\tPC; PXAB; PMAB                                       "
      ]
     },
     "execution_count": 113,
     "metadata": {},
     "output_type": "execute_result"
    }
   ],
   "source": [
    "# 2) using another Lists database (subset)\n",
    "lists_subset = lists[\"ENVI, IDT, MAINEQ\"].copy()\n",
    "lists_subset[\"ENVI\"] = \"PWXAB; PWXS; QWXAB; QWXS\"\n",
    "lists_subset[\"IDT\"] = \"PROD; QL; RDEBT; RENT; RLBER; SBGX; WCRH; IUGR; SBGXR\"\n",
    "lists_subset[\"MAINEQ\"] = \"PC; PXAB; PMAB\"\n",
    "lists[\"ENVI, IDT, MAINEQ\"] = lists_subset\n",
    "lists[\"ENVI, IDT, MAINEQ\"]"
   ]
  },
  {
   "cell_type": "markdown",
   "metadata": {},
   "source": [
    "Delete a list:"
   ]
  },
  {
   "cell_type": "code",
   "execution_count": 114,
   "metadata": {},
   "outputs": [
    {
     "data": {
      "text/plain": [
       "['COPY', 'COPY0', 'COPY1']"
      ]
     },
     "execution_count": 114,
     "metadata": {},
     "output_type": "execute_result"
    }
   ],
   "source": [
    "lists.get_names(\"C*\")"
   ]
  },
  {
   "cell_type": "code",
   "execution_count": 115,
   "metadata": {},
   "outputs": [
    {
     "data": {
      "text/plain": [
       "['COPY0', 'COPY1']"
      ]
     },
     "execution_count": 115,
     "metadata": {},
     "output_type": "execute_result"
    }
   ],
   "source": [
    "del lists[\"COPY\"]\n",
    "lists.get_names(\"C*\")"
   ]
  },
  {
   "cell_type": "markdown",
   "metadata": {},
   "source": [
    "#### Scalars"
   ]
  },
  {
   "cell_type": "markdown",
   "metadata": {},
   "source": [
    "Add one scalar:"
   ]
  },
  {
   "cell_type": "code",
   "execution_count": 116,
   "metadata": {},
   "outputs": [
    {
     "data": {
      "text/plain": [
       "Scalar(0.1, 1, na)"
      ]
     },
     "execution_count": 116,
     "metadata": {},
     "output_type": "execute_result"
    }
   ],
   "source": [
    "# 1. default relax to 1.0\n",
    "scalars[\"a0\"] = 0.1\n",
    "scalars[\"a0\"]"
   ]
  },
  {
   "cell_type": "code",
   "execution_count": 117,
   "metadata": {},
   "outputs": [
    {
     "data": {
      "text/plain": [
       "Scalar(0.1, 0.9, na)"
      ]
     },
     "execution_count": 117,
     "metadata": {},
     "output_type": "execute_result"
    }
   ],
   "source": [
    "# 2. value + relax\n",
    "scalars[\"a1\"] = 0.1, 0.9\n",
    "scalars[\"a1\"]"
   ]
  },
  {
   "cell_type": "markdown",
   "metadata": {},
   "source": [
    "Update a scalar:"
   ]
  },
  {
   "cell_type": "code",
   "execution_count": 118,
   "metadata": {},
   "outputs": [
    {
     "data": {
      "text/plain": [
       "Scalar(0.0157684, 1, 0.00136871)"
      ]
     },
     "execution_count": 118,
     "metadata": {},
     "output_type": "execute_result"
    }
   ],
   "source": [
    "scalars[\"acaf1\"]"
   ]
  },
  {
   "cell_type": "code",
   "execution_count": 119,
   "metadata": {},
   "outputs": [
    {
     "data": {
      "text/plain": [
       "Scalar(0.8, 1, na)"
      ]
     },
     "execution_count": 119,
     "metadata": {},
     "output_type": "execute_result"
    }
   ],
   "source": [
    "# only update the value\n",
    "scalars[\"acaf1\"] = 0.8\n",
    "scalars[\"acaf1\"]"
   ]
  },
  {
   "cell_type": "code",
   "execution_count": 120,
   "metadata": {},
   "outputs": [
    {
     "data": {
      "text/plain": [
       "Scalar(0.8, 0.9, na)"
      ]
     },
     "execution_count": 120,
     "metadata": {},
     "output_type": "execute_result"
    }
   ],
   "source": [
    "# update value and relax (tuple)\n",
    "scalars[\"acaf2\"] = 0.8, 0.9\n",
    "scalars[\"acaf2\"]"
   ]
  },
  {
   "cell_type": "code",
   "execution_count": 121,
   "metadata": {},
   "outputs": [
    {
     "data": {
      "text/plain": [
       "Scalar(0.7, 0.8, na)"
      ]
     },
     "execution_count": 121,
     "metadata": {},
     "output_type": "execute_result"
    }
   ],
   "source": [
    "# update value and relax (list)\n",
    "scalars[\"acaf2\"] = (0.7, 0.8)\n",
    "scalars[\"acaf2\"]"
   ]
  },
  {
   "cell_type": "code",
   "execution_count": 122,
   "metadata": {},
   "outputs": [
    {
     "data": {
      "text/plain": [
       "Scalar(0.8, 0.9, na)"
      ]
     },
     "execution_count": 122,
     "metadata": {},
     "output_type": "execute_result"
    }
   ],
   "source": [
    "# update value and relax (dictionary)\n",
    "scalars[\"acaf3\"] = {\"relax\": 0.9, \"value\": 0.8}\n",
    "scalars[\"acaf3\"]"
   ]
  },
  {
   "cell_type": "code",
   "execution_count": 123,
   "metadata": {},
   "outputs": [
    {
     "data": {
      "text/plain": [
       "Scalar(-0.00850518, 1, 0.0020833)"
      ]
     },
     "execution_count": 123,
     "metadata": {},
     "output_type": "execute_result"
    }
   ],
   "source": [
    "# update value and/or relax (Scalar object)\n",
    "# NOTE: the standard deviation (std) cannot be changed manually\n",
    "scalars[\"acaf4\"]"
   ]
  },
  {
   "cell_type": "code",
   "execution_count": 124,
   "metadata": {},
   "outputs": [
    {
     "data": {
      "text/plain": [
       "Scalar(0.8, 0.9, na)"
      ]
     },
     "execution_count": 124,
     "metadata": {},
     "output_type": "execute_result"
    }
   ],
   "source": [
    "scalars[\"acaf4\"].value = 0.8\n",
    "scalars[\"acaf4\"].relax = 0.9\n",
    "scalars[\"acaf4\"]"
   ]
  },
  {
   "cell_type": "markdown",
   "metadata": {},
   "source": [
    "Update multiple scalars at once:"
   ]
  },
  {
   "cell_type": "code",
   "execution_count": 125,
   "metadata": {},
   "outputs": [
    {
     "data": {
      "text/plain": [
       "Workspace: Scalars\n",
       "nb scalars: 3\n",
       "filename: c:\\soft\\miniconda3\\Lib\\site-packages\\iode\\tests\\data\\fun.scl\n",
       "\n",
       " name\t value \trelax \tstd\n",
       "acaf1\t 0.0160\t1.0000\t na\n",
       "acaf2\t-0.0008\t0.9000\t na\n",
       "acaf3\t 2.5000\t1.0000\t na"
      ]
     },
     "execution_count": 125,
     "metadata": {},
     "output_type": "execute_result"
    }
   ],
   "source": [
    "# 1) using a dict of values\n",
    "values = {\"acaf1\": 0.016, \"acaf2\": (-8.e-04, 0.9), \"acaf3\": Scalar(2.5)}\n",
    "scalars[\"acaf1, acaf2, acaf3\"] = values\n",
    "scalars[\"acaf1, acaf2, acaf3\"]"
   ]
  },
  {
   "cell_type": "code",
   "execution_count": 126,
   "metadata": {},
   "outputs": [
    {
     "data": {
      "text/plain": [
       "Workspace: Scalars\n",
       "nb scalars: 3\n",
       "filename: c:\\soft\\miniconda3\\Lib\\site-packages\\iode\\tests\\data\\fun.scl\n",
       "\n",
       " name\t value \trelax \tstd\n",
       "acaf1\t 0.0200\t1.0000\t na\n",
       "acaf2\t-0.0005\t0.9400\t na\n",
       "acaf3\t 2.9000\t1.0000\t na"
      ]
     },
     "execution_count": 126,
     "metadata": {},
     "output_type": "execute_result"
    }
   ],
   "source": [
    "# 2) using another Scalars database (subset)\n",
    "scalars_subset = scalars[\"acaf1, acaf2, acaf3\"].copy()\n",
    "scalars_subset[\"acaf1\"] = 0.02\n",
    "scalars_subset[\"acaf2\"] = (-5.e-04, 0.94)\n",
    "scalars_subset[\"acaf3\"] = Scalar(2.9)\n",
    "scalars[\"acaf1, acaf2, acaf3\"] = scalars_subset\n",
    "scalars[\"acaf1, acaf2, acaf3\"]"
   ]
  },
  {
   "cell_type": "markdown",
   "metadata": {},
   "source": [
    "Delete a scalar:"
   ]
  },
  {
   "cell_type": "code",
   "execution_count": 127,
   "metadata": {},
   "outputs": [
    {
     "data": {
      "text/plain": [
       "['a0', 'a1', 'acaf1', 'acaf2', 'acaf3', 'acaf4']"
      ]
     },
     "execution_count": 127,
     "metadata": {},
     "output_type": "execute_result"
    }
   ],
   "source": [
    "scalars.get_names(\"a*\")"
   ]
  },
  {
   "cell_type": "code",
   "execution_count": 128,
   "metadata": {},
   "outputs": [
    {
     "data": {
      "text/plain": [
       "['a0', 'a1', 'acaf1', 'acaf2', 'acaf3']"
      ]
     },
     "execution_count": 128,
     "metadata": {},
     "output_type": "execute_result"
    }
   ],
   "source": [
    "del scalars[\"acaf4\"]\n",
    "scalars.get_names(\"a*\")"
   ]
  },
  {
   "cell_type": "markdown",
   "metadata": {},
   "source": [
    "#### Tables"
   ]
  },
  {
   "cell_type": "markdown",
   "metadata": {},
   "source": [
    "Create an add a new table:"
   ]
  },
  {
   "cell_type": "code",
   "execution_count": 129,
   "metadata": {},
   "outputs": [
    {
     "data": {
      "text/plain": [
       "DIVIS | 1              |            \n",
       "TITLE |         \"New Table\"         \n",
       "----- | ----------------------------\n",
       "CELL  | \"\"             |     \"#S\"   \n",
       "----- | ----------------------------\n",
       "CELL  | \"GOSG:\"        |        GOSG\n",
       "CELL  | \"YDTG:\"        |        YDTG\n",
       "CELL  | \"DTH:\"         |         DTH\n",
       "CELL  | \"DTF:\"         |         DTF\n",
       "CELL  | \"IT:\"          |          IT\n",
       "CELL  | \"YSSG+COTRES:\" | YSSG+COTRES\n",
       "CELL  | \"RIDG:\"        |        RIDG\n",
       "CELL  | \"OCUG:\"        |        OCUG\n",
       "----- | ----------------------------\n",
       "MODE  | \n",
       "FILES | \n",
       "DATE  | \n",
       "\n",
       "nb lines: 16\n",
       "nb columns: 2\n",
       "language: 'ENGLISH'\n",
       "gridx: 'MAJOR'\n",
       "gridy: 'MAJOR'\n",
       "graph_axis: 'VALUES'\n",
       "graph_alignment: 'LEFT'"
      ]
     },
     "execution_count": 129,
     "metadata": {},
     "output_type": "execute_result"
    }
   ],
   "source": [
    "# 1. specify list of line titles and list of LEC expressions\n",
    "lines_titles = [\"GOSG:\", \"YDTG:\", \"DTH:\", \"DTF:\", \"IT:\", \"YSSG+COTRES:\", \"RIDG:\", \"OCUG:\"]\n",
    "lines_lecs = [\"GOSG\", \"YDTG\", \"DTH\", \"DTF\", \"IT\", \"YSSG+COTRES\", \"RIDG\", \"OCUG\"]\n",
    "tables[\"TABLE_CELL_LECS\"] = {\"nb_columns\": 2, \"table_title\": \"New Table\", \"lecs_or_vars\": lines_lecs,\n",
    "                             \"lines_titles\": lines_titles, \"mode\": True, \"files\": True, \"date\": True}\n",
    "tables[\"TABLE_CELL_LECS\"]"
   ]
  },
  {
   "cell_type": "code",
   "execution_count": 130,
   "metadata": {},
   "outputs": [
    {
     "data": {
      "text/plain": [
       "DIVIS | 1                                                                    |       \n",
       "TITLE |                                  \"New Table\"                                 \n",
       "----- | -----------------------------------------------------------------------------\n",
       "CELL  | \"\"                                                                   |  \"#S\" \n",
       "----- | -----------------------------------------------------------------------------\n",
       "CELL  | \"Bruto exploitatie-overschot: overheid (= afschrijvingen).\"          |   GOSG\n",
       "CELL  | \"Overheid: geïnde indirecte belastingen.\"                            |   YDTG\n",
       "CELL  | \"Totale overheid: directe belasting van de gezinnen.\"                |    DTH\n",
       "CELL  | \"Totale overheid: directe vennootschapsbelasting.\"                   |    DTF\n",
       "CELL  | \"Totale indirecte belastingen.\"                                      |     IT\n",
       "CELL  | \"Globale overheid: ontvangen sociale zekerheidsbijdragen.\"           |   YSSG\n",
       "CELL  | \"Cotisation de responsabilisation.\"                                  | COTRES\n",
       "CELL  | \"Overheid: inkomen uit vermogen.\"                                    |   RIDG\n",
       "CELL  | \"Globale overheid: saldo van de ontvangen lopendeoverdrachten.\"      |   OCUG\n",
       "CELL  | \"Index wereldprijs - uitvoer van niet-energieprodukten, inUSD.\"      |  PWXAB\n",
       "CELL  | \"Index wereldprijs - uitvoer van diensten, in USD.\"                  |   PWXS\n",
       "CELL  | \"Indicator van het volume van de wereldvraag naar goederen,1985=1.\"  |  QWXAB\n",
       "CELL  | \"Indicator van het volume van de wereldvraag naar diensten,1985=1.\"  |   QWXS\n",
       "----- | -----------------------------------------------------------------------------\n",
       "MODE  | \n",
       "FILES | \n",
       "DATE  | \n",
       "\n",
       "nb lines: 21\n",
       "nb columns: 2\n",
       "language: 'ENGLISH'\n",
       "gridx: 'MAJOR'\n",
       "gridy: 'MAJOR'\n",
       "graph_axis: 'VALUES'\n",
       "graph_alignment: 'LEFT'"
      ]
     },
     "execution_count": 130,
     "metadata": {},
     "output_type": "execute_result"
    }
   ],
   "source": [
    "# 2. specify list of variables\n",
    "vars_list = [\"GOSG\", \"YDTG\", \"DTH\", \"DTF\", \"IT\", \"YSSG\", \"COTRES\", \"RIDG\", \"OCUG\", \"$ENVI\"]\n",
    "tables[\"TABLE_VARS\"] = {\"nb_columns\": 2, \"table_title\": \"New Table\", \"lecs_or_vars\": vars_list,\n",
    "                        \"mode\": True, \"files\": True, \"date\": True}\n",
    "tables[\"TABLE_VARS\"]"
   ]
  },
  {
   "cell_type": "markdown",
   "metadata": {},
   "source": [
    "Update a table:"
   ]
  },
  {
   "cell_type": "code",
   "execution_count": 131,
   "metadata": {},
   "outputs": [
    {
     "data": {
      "text/plain": [
       "DIVIS | 1              |            \n",
       "TITLE |         \"New Table\"         \n",
       "----- | ----------------------------\n",
       "CELL  | \"\"             |     \"#S\"   \n",
       "----- | ----------------------------\n",
       "CELL  | \"GOSG:\"        |        GOSG\n",
       "CELL  | \"YDTG:\"        |        YDTG\n",
       "CELL  | \"DTH:\"         |         DTH\n",
       "CELL  | \"DTF:\"         |         DTF\n",
       "CELL  | \"IT:\"          |          IT\n",
       "CELL  | \"YSSG+COTRES:\" | YSSG+COTRES\n",
       "CELL  | \"RIDG:\"        |        RIDG\n",
       "CELL  | \"OCUG:\"        |        OCUG\n",
       "----- | ----------------------------\n",
       "MODE  | \n",
       "FILES | \n",
       "DATE  | \n",
       "\n",
       "nb lines: 16\n",
       "nb columns: 2\n",
       "language: 'ENGLISH'\n",
       "gridx: 'MAJOR'\n",
       "gridy: 'MAJOR'\n",
       "graph_axis: 'VALUES'\n",
       "graph_alignment: 'LEFT'"
      ]
     },
     "execution_count": 131,
     "metadata": {},
     "output_type": "execute_result"
    }
   ],
   "source": [
    "tables[\"TABLE_CELL_LECS\"]               "
   ]
  },
  {
   "cell_type": "code",
   "execution_count": 132,
   "metadata": {},
   "outputs": [
    {
     "data": {
      "text/plain": [
       "'VALUES'"
      ]
     },
     "execution_count": 132,
     "metadata": {},
     "output_type": "execute_result"
    }
   ],
   "source": [
    "tables[\"TABLE_CELL_LECS\"].graph_axis"
   ]
  },
  {
   "cell_type": "code",
   "execution_count": 133,
   "metadata": {},
   "outputs": [
    {
     "data": {
      "text/plain": [
       "'SEMILOG'"
      ]
     },
     "execution_count": 133,
     "metadata": {},
     "output_type": "execute_result"
    }
   ],
   "source": [
    "from iode import TableGraphAxis\n",
    "# set graph axis type\n",
    "tables[\"TABLE_CELL_LECS\"].graph_axis = TableGraphAxis.SEMILOG\n",
    "tables[\"TABLE_CELL_LECS\"].graph_axis"
   ]
  },
  {
   "cell_type": "code",
   "execution_count": 134,
   "metadata": {},
   "outputs": [
    {
     "data": {
      "text/plain": [
       "New Table"
      ]
     },
     "execution_count": 134,
     "metadata": {},
     "output_type": "execute_result"
    }
   ],
   "source": [
    "# get the first line\n",
    "tables[\"TABLE_CELL_LECS\"][0]"
   ]
  },
  {
   "cell_type": "code",
   "execution_count": 135,
   "metadata": {},
   "outputs": [
    {
     "data": {
      "text/plain": [
       "<DATE>"
      ]
     },
     "execution_count": 135,
     "metadata": {},
     "output_type": "execute_result"
    }
   ],
   "source": [
    "# get the last line\n",
    "tables[\"TABLE_CELL_LECS\"][-1]"
   ]
  },
  {
   "cell_type": "code",
   "execution_count": 136,
   "metadata": {},
   "outputs": [
    {
     "data": {
      "text/plain": [
       "DIVIS | 1              |            \n",
       "TITLE |         \"New Table\"         \n",
       "----- | ----------------------------\n",
       "CELL  | \"\"             |     \"#S\"   \n",
       "----- | ----------------------------\n",
       "CELL  | \"GOSG:\"        |        GOSG\n",
       "CELL  | \"YDTG:\"        |        YDTG\n",
       "CELL  | \"DTH:\"         |         DTH\n",
       "CELL  | \"DTF:\"         |         DTF\n",
       "CELL  | \"IT:\"          |          IT\n",
       "CELL  | \"YSSG+COTRES:\" | YSSG+COTRES\n",
       "CELL  | \"RIDG:\"        |        RIDG\n",
       "CELL  | \"OCUG:\"        |        OCUG\n",
       "----- | ----------------------------\n",
       "MODE  | \n",
       "FILES | \n",
       "\n",
       "nb lines: 15\n",
       "nb columns: 2\n",
       "language: 'ENGLISH'\n",
       "gridx: 'MAJOR'\n",
       "gridy: 'MAJOR'\n",
       "graph_axis: 'SEMILOG'\n",
       "graph_alignment: 'LEFT'"
      ]
     },
     "execution_count": 136,
     "metadata": {},
     "output_type": "execute_result"
    }
   ],
   "source": [
    "# delete last line\n",
    "del tables[\"TABLE_CELL_LECS\"][-1]\n",
    "tables[\"TABLE_CELL_LECS\"]"
   ]
  },
  {
   "cell_type": "code",
   "execution_count": 137,
   "metadata": {},
   "outputs": [
    {
     "data": {
      "text/plain": [
       "9"
      ]
     },
     "execution_count": 137,
     "metadata": {},
     "output_type": "execute_result"
    }
   ],
   "source": [
    "# get index of line containing YSSG+COTRES\n",
    "index = tables[\"TABLE_CELL_LECS\"].index(\"YSSG+COTRES\")\n",
    "index"
   ]
  },
  {
   "cell_type": "code",
   "execution_count": 138,
   "metadata": {},
   "outputs": [
    {
     "data": {
      "text/plain": [
       "('\"YSSG+COTRES:\"', 'YSSG+COTRES')"
      ]
     },
     "execution_count": 138,
     "metadata": {},
     "output_type": "execute_result"
    }
   ],
   "source": [
    "tables[\"TABLE_CELL_LECS\"][index]"
   ]
  },
  {
   "cell_type": "code",
   "execution_count": 139,
   "metadata": {},
   "outputs": [
    {
     "data": {
      "text/plain": [
       "'CELL'"
      ]
     },
     "execution_count": 139,
     "metadata": {},
     "output_type": "execute_result"
    }
   ],
   "source": [
    "# get line type\n",
    "tables[\"TABLE_CELL_LECS\"][index].line_type"
   ]
  },
  {
   "cell_type": "code",
   "execution_count": 140,
   "metadata": {},
   "outputs": [
    {
     "data": {
      "text/plain": [
       "'LINE'"
      ]
     },
     "execution_count": 140,
     "metadata": {},
     "output_type": "execute_result"
    }
   ],
   "source": [
    "# get line graph type\n",
    "tables[\"TABLE_CELL_LECS\"][index].graph_type"
   ]
  },
  {
   "cell_type": "code",
   "execution_count": 141,
   "metadata": {},
   "outputs": [
    {
     "data": {
      "text/plain": [
       "True"
      ]
     },
     "execution_count": 141,
     "metadata": {},
     "output_type": "execute_result"
    }
   ],
   "source": [
    "# know if axis is left\n",
    "tables[\"TABLE_CELL_LECS\"][index].axis_left"
   ]
  },
  {
   "cell_type": "code",
   "execution_count": 142,
   "metadata": {},
   "outputs": [
    {
     "data": {
      "text/plain": [
       "('\"YSSG:\"', 'YSSG')"
      ]
     },
     "execution_count": 142,
     "metadata": {},
     "output_type": "execute_result"
    }
   ],
   "source": [
    "# update cells\n",
    "# double quotes \"    -> STRING cell\n",
    "# no double quotes   -> LEC cell\n",
    "tables[\"TABLE_CELL_LECS\"][index] = ('\"YSSG:\"', 'YSSG')\n",
    "tables[\"TABLE_CELL_LECS\"][index]"
   ]
  },
  {
   "cell_type": "code",
   "execution_count": 143,
   "metadata": {},
   "outputs": [
    {
     "data": {
      "text/plain": [
       "DIVIS | 1       |     \n",
       "TITLE |  \"New Table\"  \n",
       "----- | --------------\n",
       "CELL  | \"\"      | \"#S\"\n",
       "----- | --------------\n",
       "CELL  | \"GOSG:\" | GOSG\n",
       "CELL  | \"YDTG:\" | YDTG\n",
       "CELL  | \"DTH:\"  |  DTH\n",
       "CELL  | \"DTF:\"  |  DTF\n",
       "CELL  | \"IT:\"   |   IT\n",
       "CELL  | \"YSSG:\" | YSSG\n",
       "----- | --------------\n",
       "TITLE |  \"New Title\"  \n",
       "----- | --------------\n",
       "CELL  | \"RIDG:\" | RIDG\n",
       "CELL  | \"OCUG:\" | OCUG\n",
       "----- | --------------\n",
       "MODE  | \n",
       "FILES | \n",
       "\n",
       "nb lines: 18\n",
       "nb columns: 2\n",
       "language: 'ENGLISH'\n",
       "gridx: 'MAJOR'\n",
       "gridy: 'MAJOR'\n",
       "graph_axis: 'SEMILOG'\n",
       "graph_alignment: 'LEFT'"
      ]
     },
     "execution_count": 143,
     "metadata": {},
     "output_type": "execute_result"
    }
   ],
   "source": [
    "# insert a new title line surrounded by two separator lines\n",
    "tables[\"TABLE_CELL_LECS\"].insert(index + 1, '-')\n",
    "tables[\"TABLE_CELL_LECS\"].insert(index + 2, \"New Title\")\n",
    "tables[\"TABLE_CELL_LECS\"].insert(index + 3, '-')\n",
    "tables[\"TABLE_CELL_LECS\"]"
   ]
  },
  {
   "cell_type": "code",
   "execution_count": 144,
   "metadata": {},
   "outputs": [
    {
     "data": {
      "text/plain": [
       "DIVIS | 1       |     \n",
       "TITLE |  \"New Table\"  \n",
       "----- | --------------\n",
       "CELL  | \"\"      | \"#S\"\n",
       "----- | --------------\n",
       "CELL  | \"GOSG:\" | GOSG\n",
       "CELL  | \"YDTG:\" | YDTG\n",
       "CELL  | \"DTH:\"  |  DTH\n",
       "CELL  | \"DTF:\"  |  DTF\n",
       "CELL  | \"IT:\"   |   IT\n",
       "CELL  | \"YSSG:\" | YSSG\n",
       "----- | --------------\n",
       "TITLE |  \"New Title\"  \n",
       "----- | --------------\n",
       "CELL  | \"RIDG:\" | RIDG\n",
       "CELL  | \"OCUG:\" | OCUG\n",
       "----- | --------------\n",
       "MODE  | \n",
       "FILES | \n",
       "----- | --------------\n",
       "\n",
       "nb lines: 19\n",
       "nb columns: 2\n",
       "language: 'ENGLISH'\n",
       "gridx: 'MAJOR'\n",
       "gridy: 'MAJOR'\n",
       "graph_axis: 'SEMILOG'\n",
       "graph_alignment: 'LEFT'"
      ]
     },
     "execution_count": 144,
     "metadata": {},
     "output_type": "execute_result"
    }
   ],
   "source": [
    "# append a new sepatator line\n",
    "tables[\"TABLE_CELL_LECS\"] += '-'\n",
    "tables[\"TABLE_CELL_LECS\"]"
   ]
  },
  {
   "cell_type": "markdown",
   "metadata": {},
   "source": [
    "Update multiple tables at once:"
   ]
  },
  {
   "cell_type": "code",
   "execution_count": 145,
   "metadata": {},
   "outputs": [
    {
     "data": {
      "text/plain": [
       "Workspace: Tables\n",
       "nb tables: 3\n",
       "filename: c:\\soft\\miniconda3\\Lib\\site-packages\\iode\\tests\\data\\fun.tbl\n",
       "\n",
       "name\t               table titles              \n",
       "C8_1\tDéterminants de l'output potentiel (copy)\n",
       "C8_2\tDéterminants de la productivité (copy)   \n",
       "C8_3\tOutput gap (copy)                        "
      ]
     },
     "execution_count": 145,
     "metadata": {},
     "output_type": "execute_result"
    }
   ],
   "source": [
    "# 1) using a dict of values\n",
    "table_C8_1 = tables[\"C8_1\"].copy()\n",
    "table_C8_1.title = table_C8_1.title + \" (copy)\"\n",
    "table_C8_2 = tables[\"C8_2\"].copy()\n",
    "table_C8_2.title = table_C8_2.title + \" (copy)\"\n",
    "table_C8_3 = tables[\"C8_3\"].copy()\n",
    "table_C8_3.title = table_C8_3.title + \" (copy)\"\n",
    "\n",
    "values = {\"C8_1\": table_C8_1, \"C8_2\": table_C8_2, \"C8_3\": table_C8_3}\n",
    "tables[\"C8_1, C8_2, C8_3\"] = values\n",
    "tables[\"C8_1, C8_2, C8_3\"]"
   ]
  },
  {
   "cell_type": "code",
   "execution_count": 146,
   "metadata": {},
   "outputs": [
    {
     "data": {
      "text/plain": [
       "Workspace: Tables\n",
       "nb tables: 3\n",
       "filename: c:\\soft\\miniconda3\\Lib\\site-packages\\iode\\tests\\data\\fun.tbl\n",
       "\n",
       "name\t                    table titles                    \n",
       "C8_1\tDéterminants de l'output potentiel (detached subset)\n",
       "C8_2\tDéterminants de la productivité (detached subset)   \n",
       "C8_3\tOutput gap (detached subset)                        "
      ]
     },
     "execution_count": 146,
     "metadata": {},
     "output_type": "execute_result"
    }
   ],
   "source": [
    "# 2) using another tables database (subset)\n",
    "tables_subset = tables[\"C8_1, C8_2, C8_3\"].copy()\n",
    "tables_subset[\"C8_1\"].title = tables_subset[\"C8_1\"].title.replace(\"(copy)\", \"(detached subset)\")\n",
    "tables_subset[\"C8_2\"].title = tables_subset[\"C8_2\"].title.replace(\"(copy)\", \"(detached subset)\")\n",
    "tables_subset[\"C8_3\"].title = tables_subset[\"C8_3\"].title.replace(\"(copy)\", \"(detached subset)\")\n",
    "\n",
    "tables[\"C8_1, C8_2, C8_3\"] = tables_subset\n",
    "tables[\"C8_1, C8_2, C8_3\"]"
   ]
  },
  {
   "cell_type": "markdown",
   "metadata": {},
   "source": [
    "Delete a table:"
   ]
  },
  {
   "cell_type": "code",
   "execution_count": 147,
   "metadata": {},
   "outputs": [
    {
     "data": {
      "text/plain": [
       "['GAP', 'GDP', 'GFR', 'GFRLEVEL', 'GFRPC', 'GROWTH']"
      ]
     },
     "execution_count": 147,
     "metadata": {},
     "output_type": "execute_result"
    }
   ],
   "source": [
    "tables.get_names(\"G*\")"
   ]
  },
  {
   "cell_type": "code",
   "execution_count": 148,
   "metadata": {},
   "outputs": [
    {
     "data": {
      "text/plain": [
       "['GAP', 'GDP', 'GFR', 'GFRPC', 'GROWTH']"
      ]
     },
     "execution_count": 148,
     "metadata": {},
     "output_type": "execute_result"
    }
   ],
   "source": [
    "del tables[\"GFRLEVEL\"]\n",
    "tables.get_names(\"G*\")"
   ]
  },
  {
   "cell_type": "markdown",
   "metadata": {},
   "source": [
    "#### Variables"
   ]
  },
  {
   "cell_type": "markdown",
   "metadata": {},
   "source": [
    "Get variable:"
   ]
  },
  {
   "cell_type": "code",
   "execution_count": 149,
   "metadata": {},
   "outputs": [
    {
     "data": {
      "text/plain": [
       "23.771"
      ]
     },
     "execution_count": 149,
     "metadata": {},
     "output_type": "execute_result"
    }
   ],
   "source": [
    "# get the value for a single period -> float \n",
    "variables[\"ACAF\", \"1990Y1\"]"
   ]
  },
  {
   "cell_type": "code",
   "execution_count": 150,
   "metadata": {},
   "outputs": [
    {
     "data": {
      "text/plain": [
       "Workspace: Variables\n",
       "nb variables: 1\n",
       "filename: c:\\soft\\miniconda3\\Lib\\site-packages\\iode\\tests\\data\\fun.var\n",
       "description: Modèle fun - Simulation 1                         \n",
       "sample: 1960Y1:2015Y1\n",
       "mode: LEVEL\n",
       "\n",
       "name\t1960Y1\t1961Y1\t1962Y1\t1963Y1\t1964Y1\t1965Y1\t...\t2009Y1\t2010Y1\t2011Y1\t2012Y1\t2013Y1\t2014Y1\t2015Y1\n",
       "ACAF\t    na\t    na\t    na\t    na\t    na\t    na\t...\t-37.46\t-37.83\t-44.54\t-55.56\t-68.89\t-83.34\t-96.41"
      ]
     },
     "execution_count": 150,
     "metadata": {},
     "output_type": "execute_result"
    }
   ],
   "source": [
    "# get the values for all periods -> Variables\n",
    "variables[\"ACAF\"]"
   ]
  },
  {
   "cell_type": "code",
   "execution_count": 151,
   "metadata": {},
   "outputs": [
    {
     "data": {
      "text/plain": [
       "Workspace: Variables\n",
       "nb variables: 1\n",
       "filename: c:\\soft\\miniconda3\\Lib\\site-packages\\iode\\tests\\data\\fun.var\n",
       "description: Modèle fun - Simulation 1                         \n",
       "sample: 1990Y1:2000Y1\n",
       "mode: LEVEL\n",
       "\n",
       "name\t1990Y1\t1991Y1\t1992Y1\t1993Y1\t1994Y1\t1995Y1\t1996Y1\t1997Y1\t1998Y1\t1999Y1\t2000Y1\n",
       "ACAF\t 23.77\t 26.24\t 30.16\t 34.66\t  8.16\t-13.13\t 32.17\t 39.94\t 29.65\t 13.53\t 10.05"
      ]
     },
     "execution_count": 151,
     "metadata": {},
     "output_type": "execute_result"
    }
   ],
   "source": [
    "# get the values for a range of periods -> Variables\n",
    "variables[\"ACAF\", \"1990Y1:2000Y1\"]"
   ]
  },
  {
   "cell_type": "code",
   "execution_count": 152,
   "metadata": {},
   "outputs": [
    {
     "data": {
      "text/plain": [
       "time\n",
       "1990Y1    23.771000\n",
       "1995Y1   -13.130997\n",
       "2000Y1    10.046611\n",
       "Name: ACAF, dtype: float64"
      ]
     },
     "execution_count": 152,
     "metadata": {},
     "output_type": "execute_result"
    }
   ],
   "source": [
    "# get the values for a list non-contiguous periods -> pandas Series \n",
    "variables[\"ACAF\", [\"1990Y1\", \"1995Y1\", \"2000Y1\"]]"
   ]
  },
  {
   "cell_type": "markdown",
   "metadata": {},
   "source": [
    "Get values for a single period:"
   ]
  },
  {
   "cell_type": "code",
   "execution_count": 153,
   "metadata": {},
   "outputs": [
    {
     "data": {
      "text/plain": [
       "Workspace: Variables\n",
       "nb variables: 394\n",
       "filename: c:\\soft\\miniconda3\\Lib\\site-packages\\iode\\tests\\data\\fun.var\n",
       "description: Modèle fun - Simulation 1                         \n",
       "sample: 1990Y1:1990Y1\n",
       "mode: LEVEL\n",
       "\n",
       " name\t1990Y1\n",
       "ACAF \t 23.77\n",
       "ACAG \t-28.17\n",
       "AOUC \t  1.00\n",
       "AOUC_\t  0.94\n",
       "AQC  \t  1.00\n",
       "...  \t   ...\n",
       "ZJ   \t  1.09\n",
       "ZKF  \t  0.81\n",
       "ZKFO \t  1.00\n",
       "ZX   \t  0.00\n",
       "ZZF_ \t  0.69"
      ]
     },
     "execution_count": 153,
     "metadata": {},
     "output_type": "execute_result"
    }
   ],
   "source": [
    "variables[:, \"1990Y1\"]"
   ]
  },
  {
   "cell_type": "markdown",
   "metadata": {},
   "source": [
    "or equivalently:"
   ]
  },
  {
   "cell_type": "code",
   "execution_count": 154,
   "metadata": {},
   "outputs": [
    {
     "data": {
      "text/plain": [
       "Workspace: Variables\n",
       "nb variables: 394\n",
       "filename: c:\\soft\\miniconda3\\Lib\\site-packages\\iode\\tests\\data\\fun.var\n",
       "description: Modèle fun - Simulation 1                         \n",
       "sample: 1990Y1:1990Y1\n",
       "mode: LEVEL\n",
       "\n",
       " name\t1990Y1\n",
       "ACAF \t 23.77\n",
       "ACAG \t-28.17\n",
       "AOUC \t  1.00\n",
       "AOUC_\t  0.94\n",
       "AQC  \t  1.00\n",
       "...  \t   ...\n",
       "ZJ   \t  1.09\n",
       "ZKF  \t  0.81\n",
       "ZKFO \t  1.00\n",
       "ZX   \t  0.00\n",
       "ZZF_ \t  0.69"
      ]
     },
     "execution_count": 154,
     "metadata": {},
     "output_type": "execute_result"
    }
   ],
   "source": [
    "variables[\"*\", \"1990Y1\"]"
   ]
  },
  {
   "cell_type": "markdown",
   "metadata": {},
   "source": [
    "Add one variable:"
   ]
  },
  {
   "cell_type": "code",
   "execution_count": 155,
   "metadata": {},
   "outputs": [
    {
     "data": {
      "text/plain": [
       "Workspace: Variables\n",
       "nb variables: 1\n",
       "filename: c:\\soft\\miniconda3\\Lib\\site-packages\\iode\\tests\\data\\fun.var\n",
       "description: Modèle fun - Simulation 1                         \n",
       "sample: 1960Y1:2015Y1\n",
       "mode: LEVEL\n",
       "\n",
       "name\t1960Y1\t1961Y1\t1962Y1\t1963Y1\t1964Y1\t1965Y1\t...\t2009Y1\t2010Y1\t2011Y1\t2012Y1\t2013Y1\t2014Y1\t2015Y1\n",
       "A0  \t    na\t    na\t    na\t    na\t    na\t    na\t...\t    na\t    na\t    na\t    na\t    na\t    na\t    na"
      ]
     },
     "execution_count": 155,
     "metadata": {},
     "output_type": "execute_result"
    }
   ],
   "source": [
    "# 1) same value for all periods\n",
    "# NOTE: you can also use NA from iode to set a variable value to NaN\n",
    "variables[\"A0\"] = np.nan \n",
    "variables[\"A0\"]"
   ]
  },
  {
   "cell_type": "code",
   "execution_count": 156,
   "metadata": {},
   "outputs": [
    {
     "data": {
      "text/plain": [
       "Workspace: Variables\n",
       "nb variables: 1\n",
       "filename: c:\\soft\\miniconda3\\Lib\\site-packages\\iode\\tests\\data\\fun.var\n",
       "description: Modèle fun - Simulation 1                         \n",
       "sample: 1960Y1:2015Y1\n",
       "mode: LEVEL\n",
       "\n",
       "name\t1960Y1\t1961Y1\t1962Y1\t1963Y1\t1964Y1\t1965Y1\t...\t2009Y1\t2010Y1\t2011Y1\t2012Y1\t2013Y1\t2014Y1\t2015Y1\n",
       "A1  \t 10.00\t 11.00\t 12.00\t 13.00\t 14.00\t 15.00\t...\t 59.00\t 60.00\t 61.00\t 62.00\t 63.00\t 64.00\t 65.00"
      ]
     },
     "execution_count": 156,
     "metadata": {},
     "output_type": "execute_result"
    }
   ],
   "source": [
    "# 2) LEC expression\n",
    "variables[\"A1\"] = \"t + 10\"\n",
    "variables[\"A1\"] "
   ]
  },
  {
   "cell_type": "code",
   "execution_count": 157,
   "metadata": {},
   "outputs": [
    {
     "data": {
      "text/plain": [
       "Workspace: Variables\n",
       "nb variables: 1\n",
       "filename: c:\\soft\\miniconda3\\Lib\\site-packages\\iode\\tests\\data\\fun.var\n",
       "description: Modèle fun - Simulation 1                         \n",
       "sample: 1960Y1:2015Y1\n",
       "mode: LEVEL\n",
       "\n",
       "name\t1960Y1\t1961Y1\t1962Y1\t1963Y1\t1964Y1\t1965Y1\t...\t2009Y1\t2010Y1\t2011Y1\t2012Y1\t2013Y1\t2014Y1\t2015Y1\n",
       "A2  \t    na\t  1.00\t  2.00\t  3.00\t  4.00\t  5.00\t...\t 49.00\t 50.00\t 51.00\t 52.00\t 53.00\t 54.00\t    na"
      ]
     },
     "execution_count": 157,
     "metadata": {},
     "output_type": "execute_result"
    }
   ],
   "source": [
    "# 3) list of values for each period\n",
    "values = list(range(variables.nb_periods))\n",
    "values[0] = NA\n",
    "values[-1] = np.nan\n",
    "variables[\"A2\"] = values\n",
    "variables[\"A2\"]                     "
   ]
  },
  {
   "cell_type": "code",
   "execution_count": 158,
   "metadata": {},
   "outputs": [
    {
     "data": {
      "text/plain": [
       "Workspace: Variables\n",
       "nb variables: 1\n",
       "filename: c:\\soft\\miniconda3\\Lib\\site-packages\\iode\\tests\\data\\fun.var\n",
       "description: Modèle fun - Simulation 1                         \n",
       "sample: 1960Y1:2015Y1\n",
       "mode: LEVEL\n",
       "\n",
       "name\t1960Y1\t1961Y1\t1962Y1\t1963Y1\t1964Y1\t1965Y1\t...\t2009Y1\t2010Y1\t2011Y1\t2012Y1\t2013Y1\t2014Y1\t2015Y1\n",
       "A5  \t    na\t    na\t    na\t    na\t    na\t    na\t...\t-37.46\t-37.83\t-44.54\t-55.56\t-68.89\t-83.34\t-96.41"
      ]
     },
     "execution_count": 158,
     "metadata": {},
     "output_type": "execute_result"
    }
   ],
   "source": [
    "# 4) Variables object\n",
    "variables[\"A5\"] = variables[\"ACAF\"]\n",
    "variables[\"A5\"]"
   ]
  },
  {
   "cell_type": "markdown",
   "metadata": {},
   "source": [
    "Update a variable.\n",
    "\n",
    "Set one value of a variable for a specific period:"
   ]
  },
  {
   "cell_type": "code",
   "execution_count": 159,
   "metadata": {},
   "outputs": [
    {
     "data": {
      "text/plain": [
       "-28.1721855713507"
      ]
     },
     "execution_count": 159,
     "metadata": {},
     "output_type": "execute_result"
    }
   ],
   "source": [
    "variables[\"ACAG\", \"1990Y1\"]"
   ]
  },
  {
   "cell_type": "code",
   "execution_count": 160,
   "metadata": {},
   "outputs": [
    {
     "data": {
      "text/plain": [
       "-28.2"
      ]
     },
     "execution_count": 160,
     "metadata": {},
     "output_type": "execute_result"
    }
   ],
   "source": [
    "variables[\"ACAG\", \"1990Y1\"] = -28.2\n",
    "variables[\"ACAG\", \"1990Y1\"]"
   ]
  },
  {
   "cell_type": "markdown",
   "metadata": {},
   "source": [
    "Update all values of a variable:"
   ]
  },
  {
   "cell_type": "code",
   "execution_count": 161,
   "metadata": {},
   "outputs": [
    {
     "data": {
      "text/plain": [
       "Workspace: Variables\n",
       "nb variables: 1\n",
       "filename: c:\\soft\\miniconda3\\Lib\\site-packages\\iode\\tests\\data\\fun.var\n",
       "description: Modèle fun - Simulation 1                         \n",
       "sample: 1960Y1:2015Y1\n",
       "mode: LEVEL\n",
       "\n",
       "name\t1960Y1\t1961Y1\t1962Y1\t1963Y1\t1964Y1\t1965Y1\t...\t2009Y1\t2010Y1\t2011Y1\t2012Y1\t2013Y1\t2014Y1\t2015Y1\n",
       "ACAF\t    na\t    na\t    na\t    na\t    na\t    na\t...\t-37.46\t-37.83\t-44.54\t-55.56\t-68.89\t-83.34\t-96.41"
      ]
     },
     "execution_count": 161,
     "metadata": {},
     "output_type": "execute_result"
    }
   ],
   "source": [
    "variables[\"ACAF\"]                   "
   ]
  },
  {
   "cell_type": "code",
   "execution_count": 162,
   "metadata": {},
   "outputs": [
    {
     "data": {
      "text/plain": [
       "Workspace: Variables\n",
       "nb variables: 1\n",
       "filename: c:\\soft\\miniconda3\\Lib\\site-packages\\iode\\tests\\data\\fun.var\n",
       "description: Modèle fun - Simulation 1                         \n",
       "sample: 1960Y1:2015Y1\n",
       "mode: LEVEL\n",
       "\n",
       "name\t1960Y1\t1961Y1\t1962Y1\t1963Y1\t1964Y1\t1965Y1\t...\t2009Y1\t2010Y1\t2011Y1\t2012Y1\t2013Y1\t2014Y1\t2015Y1\n",
       "ACAF\t    na\t    na\t    na\t    na\t    na\t    na\t...\t    na\t    na\t    na\t    na\t    na\t    na\t    na"
      ]
     },
     "execution_count": 162,
     "metadata": {},
     "output_type": "execute_result"
    }
   ],
   "source": [
    "# 1) same value for all periods\n",
    "variables[\"ACAF\"] = np.nan\n",
    "variables[\"ACAF\"]                   "
   ]
  },
  {
   "cell_type": "code",
   "execution_count": 163,
   "metadata": {},
   "outputs": [
    {
     "data": {
      "text/plain": [
       "Workspace: Variables\n",
       "nb variables: 1\n",
       "filename: c:\\soft\\miniconda3\\Lib\\site-packages\\iode\\tests\\data\\fun.var\n",
       "description: Modèle fun - Simulation 1                         \n",
       "sample: 1960Y1:2015Y1\n",
       "mode: LEVEL\n",
       "\n",
       "name\t1960Y1\t1961Y1\t1962Y1\t1963Y1\t1964Y1\t1965Y1\t...\t2009Y1\t2010Y1\t2011Y1\t2012Y1\t2013Y1\t2014Y1\t2015Y1\n",
       "ACAF\t 10.00\t 11.00\t 12.00\t 13.00\t 14.00\t 15.00\t...\t 59.00\t 60.00\t 61.00\t 62.00\t 63.00\t 64.00\t 65.00"
      ]
     },
     "execution_count": 163,
     "metadata": {},
     "output_type": "execute_result"
    }
   ],
   "source": [
    "# 2) LEC expression\n",
    "variables[\"ACAF\"] = \"t + 10\"\n",
    "variables[\"ACAF\"]                 "
   ]
  },
  {
   "cell_type": "code",
   "execution_count": 164,
   "metadata": {},
   "outputs": [
    {
     "data": {
      "text/plain": [
       "Workspace: Variables\n",
       "nb variables: 1\n",
       "filename: c:\\soft\\miniconda3\\Lib\\site-packages\\iode\\tests\\data\\fun.var\n",
       "description: Modèle fun - Simulation 1                         \n",
       "sample: 1960Y1:2015Y1\n",
       "mode: LEVEL\n",
       "\n",
       "name\t1960Y1\t1961Y1\t1962Y1\t1963Y1\t1964Y1\t1965Y1\t...\t2009Y1\t2010Y1\t2011Y1\t2012Y1\t2013Y1\t2014Y1\t2015Y1\n",
       "ACAF\t    na\t  1.00\t  2.00\t  3.00\t  4.00\t  5.00\t...\t 49.00\t 50.00\t 51.00\t 52.00\t 53.00\t 54.00\t    na"
      ]
     },
     "execution_count": 164,
     "metadata": {},
     "output_type": "execute_result"
    }
   ],
   "source": [
    "# 3) list of values for each period\n",
    "values = list(range(variables.nb_periods))\n",
    "values[0] = NA\n",
    "values[-1] = np.nan\n",
    "variables[\"ACAF\"] = values\n",
    "variables[\"ACAF\"]              "
   ]
  },
  {
   "cell_type": "code",
   "execution_count": 165,
   "metadata": {},
   "outputs": [
    {
     "data": {
      "text/plain": [
       "Workspace: Variables\n",
       "nb variables: 1\n",
       "filename: c:\\soft\\miniconda3\\Lib\\site-packages\\iode\\tests\\data\\fun.var\n",
       "description: Modèle fun - Simulation 1                         \n",
       "sample: 1960Y1:2015Y1\n",
       "mode: LEVEL\n",
       "\n",
       "name\t1960Y1\t1961Y1\t1962Y1\t1963Y1\t1964Y1\t1965Y1\t...\t2009Y1\t2010Y1\t2011Y1\t2012Y1\t2013Y1\t2014Y1\t2015Y1\n",
       "AQC \t  0.22\t  0.22\t  0.22\t  0.23\t  0.24\t  0.25\t...\t  1.45\t  1.46\t  1.48\t  1.51\t  1.56\t  1.61\t  1.67"
      ]
     },
     "execution_count": 165,
     "metadata": {},
     "output_type": "execute_result"
    }
   ],
   "source": [
    "# 4) Variables object\n",
    "variables[\"AQC\"]"
   ]
  },
  {
   "cell_type": "code",
   "execution_count": 166,
   "metadata": {},
   "outputs": [
    {
     "data": {
      "text/plain": [
       "Workspace: Variables\n",
       "nb variables: 1\n",
       "filename: c:\\soft\\miniconda3\\Lib\\site-packages\\iode\\tests\\data\\fun.var\n",
       "description: Modèle fun - Simulation 1                         \n",
       "sample: 1960Y1:2015Y1\n",
       "mode: LEVEL\n",
       "\n",
       "name\t1960Y1\t1961Y1\t1962Y1\t1963Y1\t1964Y1\t1965Y1\t...\t2009Y1\t2010Y1\t2011Y1\t2012Y1\t2013Y1\t2014Y1\t2015Y1\n",
       "ACAF\t  0.22\t  0.22\t  0.22\t  0.23\t  0.24\t  0.25\t...\t  1.45\t  1.46\t  1.48\t  1.51\t  1.56\t  1.61\t  1.67"
      ]
     },
     "execution_count": 166,
     "metadata": {},
     "output_type": "execute_result"
    }
   ],
   "source": [
    "variables[\"ACAF\"] = variables[\"AQC\"]\n",
    "variables[\"ACAF\"]"
   ]
  },
  {
   "cell_type": "markdown",
   "metadata": {},
   "source": [
    "Set the values for range of (contiguous) periods:"
   ]
  },
  {
   "cell_type": "code",
   "execution_count": 167,
   "metadata": {},
   "outputs": [
    {
     "data": {
      "text/plain": [
       "Workspace: Variables\n",
       "nb variables: 1\n",
       "filename: c:\\soft\\miniconda3\\Lib\\site-packages\\iode\\tests\\data\\fun.var\n",
       "description: Modèle fun - Simulation 1                         \n",
       "sample: 1991Y1:1995Y1\n",
       "mode: LEVEL\n",
       "\n",
       "name\t1991Y1\t1992Y1\t1993Y1\t1994Y1\t1995Y1\n",
       "ACAF\t  0.00\t  0.00\t  0.00\t  0.00\t  0.00"
      ]
     },
     "execution_count": 167,
     "metadata": {},
     "output_type": "execute_result"
    }
   ],
   "source": [
    "# 1) variable[t:t+x] = same value for all periods\n",
    "variables[\"ACAF\", \"1991Y1:1995Y1\"] = 0.0\n",
    "variables[\"ACAF\", \"1991Y1:1995Y1\"]"
   ]
  },
  {
   "cell_type": "code",
   "execution_count": 168,
   "metadata": {},
   "outputs": [
    {
     "data": {
      "text/plain": [
       "Workspace: Variables\n",
       "nb variables: 1\n",
       "filename: c:\\soft\\miniconda3\\Lib\\site-packages\\iode\\tests\\data\\fun.var\n",
       "description: Modèle fun - Simulation 1                         \n",
       "sample: 1991Y1:1995Y1\n",
       "mode: LEVEL\n",
       "\n",
       "name\t1991Y1\t1992Y1\t1993Y1\t1994Y1\t1995Y1\n",
       "ACAF\t 41.00\t 42.00\t 43.00\t 44.00\t 45.00"
      ]
     },
     "execution_count": 168,
     "metadata": {},
     "output_type": "execute_result"
    }
   ],
   "source": [
    "# 2) variable[t:t+x] = LEC expression\n",
    "variables[\"ACAF\", \"1991Y1:1995Y1\"] = \"t + 10\"\n",
    "variables[\"ACAF\", \"1991Y1:1995Y1\"]"
   ]
  },
  {
   "cell_type": "code",
   "execution_count": 169,
   "metadata": {},
   "outputs": [
    {
     "data": {
      "text/plain": [
       "Workspace: Variables\n",
       "nb variables: 1\n",
       "filename: c:\\soft\\miniconda3\\Lib\\site-packages\\iode\\tests\\data\\fun.var\n",
       "description: Modèle fun - Simulation 1                         \n",
       "sample: 1991Y1:1995Y1\n",
       "mode: LEVEL\n",
       "\n",
       "name\t1991Y1\t1992Y1\t1993Y1\t1994Y1\t1995Y1\n",
       "ACAF\t  1.00\t    na\t  3.00\t    na\t  5.00"
      ]
     },
     "execution_count": 169,
     "metadata": {},
     "output_type": "execute_result"
    }
   ],
   "source": [
    "# 3) variable[t:t+x] = list of values for each period\n",
    "values = [1.0, NA, 3.0, np.nan, 5.0]\n",
    "variables[\"ACAF\", \"1991Y1:1995Y1\"] = values\n",
    "variables[\"ACAF\", \"1991Y1:1995Y1\"]"
   ]
  },
  {
   "cell_type": "code",
   "execution_count": 170,
   "metadata": {},
   "outputs": [
    {
     "data": {
      "text/plain": [
       "Workspace: Variables\n",
       "nb variables: 1\n",
       "filename: c:\\soft\\miniconda3\\Lib\\site-packages\\iode\\tests\\data\\fun.var\n",
       "description: Modèle fun - Simulation 1                         \n",
       "sample: 1991Y1:1995Y1\n",
       "mode: LEVEL\n",
       "\n",
       "name\t1991Y1\t1992Y1\t1993Y1\t1994Y1\t1995Y1\n",
       "AQC \t  1.06\t  1.11\t  1.15\t  1.16\t  1.16"
      ]
     },
     "execution_count": 170,
     "metadata": {},
     "output_type": "execute_result"
    }
   ],
   "source": [
    "# 4) variable[t:t+x] = Variables object\n",
    "variables[\"AQC\", \"1991Y1:1995Y1\"]"
   ]
  },
  {
   "cell_type": "code",
   "execution_count": 171,
   "metadata": {},
   "outputs": [
    {
     "data": {
      "text/plain": [
       "Workspace: Variables\n",
       "nb variables: 1\n",
       "filename: c:\\soft\\miniconda3\\Lib\\site-packages\\iode\\tests\\data\\fun.var\n",
       "description: Modèle fun - Simulation 1                         \n",
       "sample: 1991Y1:1995Y1\n",
       "mode: LEVEL\n",
       "\n",
       "name\t1991Y1\t1992Y1\t1993Y1\t1994Y1\t1995Y1\n",
       "ACAF\t  1.06\t  1.11\t  1.15\t  1.16\t  1.16"
      ]
     },
     "execution_count": 171,
     "metadata": {},
     "output_type": "execute_result"
    }
   ],
   "source": [
    "variables[\"ACAF\", \"1991Y1:1995Y1\"] = variables[\"AQC\", \"1991Y1:1995Y1\"]\n",
    "variables[\"ACAF\", \"1991Y1:1995Y1\"]"
   ]
  },
  {
   "cell_type": "markdown",
   "metadata": {},
   "source": [
    "Set the values for a list of non-contiguous periods:"
   ]
  },
  {
   "cell_type": "code",
   "execution_count": 172,
   "metadata": {},
   "outputs": [
    {
     "data": {
      "text/plain": [
       "time\n",
       "1991Y1    1.0\n",
       "1993Y1    3.0\n",
       "1995Y1    5.0\n",
       "Name: ACAF, dtype: float64"
      ]
     },
     "execution_count": 172,
     "metadata": {},
     "output_type": "execute_result"
    }
   ],
   "source": [
    "values = [1.0, 3.0, 5.0]\n",
    "variables[\"ACAF\", [\"1991Y1\", \"1993Y1\", \"1995Y1\"]] = values\n",
    "variables[\"ACAF\", [\"1991Y1\", \"1993Y1\", \"1995Y1\"]]"
   ]
  },
  {
   "cell_type": "markdown",
   "metadata": {},
   "source": [
    "Update multiple variables at once:"
   ]
  },
  {
   "cell_type": "code",
   "execution_count": 173,
   "metadata": {},
   "outputs": [
    {
     "data": {
      "text/plain": [
       "Workspace: Variables\n",
       "nb variables: 3\n",
       "filename: c:\\soft\\miniconda3\\Lib\\site-packages\\iode\\tests\\data\\fun.var\n",
       "description: Modèle fun - Simulation 1                         \n",
       "sample: 1991Y1:1995Y1\n",
       "mode: LEVEL\n",
       "\n",
       "name\t1991Y1\t1992Y1\t1993Y1\t1994Y1\t1995Y1\n",
       "ACAF\t 32.00\t 33.00\t 34.00\t 35.00\t 36.00\n",
       "ACAG\t 32.00\t 33.00\t 34.00\t 35.00\t 36.00\n",
       "AOUC\t 32.00\t 33.00\t 34.00\t 35.00\t 36.00"
      ]
     },
     "execution_count": 173,
     "metadata": {},
     "output_type": "execute_result"
    }
   ],
   "source": [
    "# 1) using a string\n",
    "variables[\"ACAF, ACAG, AOUC\", \"1991Y1:1995Y1\"] = \"t + 1\"\n",
    "variables[\"ACAF, ACAG, AOUC\", \"1991Y1:1995Y1\"]"
   ]
  },
  {
   "cell_type": "code",
   "execution_count": 174,
   "metadata": {},
   "outputs": [
    {
     "name": "stderr",
     "output_type": "stream",
     "text": [
      "c:\\soft\\Miniconda3\\Lib\\site-packages\\iode\\iode_database\\variables_database.py:1121: FutureWarning: Series.__getitem__ treating keys as positions is deprecated. In a future version, integer keys will always be treated as labels (consistent with DataFrame behavior). To access a value by position, use `ser.iloc[pos]`\n",
      "  self._cython_instance._update_variable(name, pos, values, key_periods)\n"
     ]
    },
    {
     "data": {
      "text/plain": [
       "Workspace: Variables\n",
       "nb variables: 3\n",
       "filename: c:\\soft\\miniconda3\\Lib\\site-packages\\iode\\tests\\data\\fun.var\n",
       "description: Modèle fun - Simulation 1                         \n",
       "sample: 1991Y1:1995Y1\n",
       "mode: LEVEL\n",
       "\n",
       "name\t1991Y1\t1992Y1\t1993Y1\t1994Y1\t1995Y1\n",
       "ACAF\t 33.60\t 34.65\t 35.70\t 36.75\t 37.80\n",
       "ACAG\t    na\t-39.96\t-42.88\t-16.33\t-41.16\n",
       "AOUC\t  1.02\t    na\t  1.05\t    na\t  1.06"
      ]
     },
     "execution_count": 174,
     "metadata": {},
     "output_type": "execute_result"
    }
   ],
   "source": [
    "# 2) using a dict of values\n",
    "periods = [\"1991Y1\", \"1992Y1\", \"1993Y1\", \"1994Y1\", \"1995Y1\"]\n",
    "values = {\"ACAF\": \"ACAF * 1.05\",\n",
    "          \"ACAG\": [np.nan, -39.96, -42.88, -16.33, -41.16],\n",
    "          \"AOUC\": pd.Series([1.023, np.nan, 1.046, np.nan, 1.064], index=periods)}\n",
    "variables[\"ACAF, ACAG, AOUC\", \"1991Y1:1995Y1\"] = values\n",
    "variables[\"ACAF, ACAG, AOUC\", \"1991Y1:1995Y1\"]\n"
   ]
  },
  {
   "cell_type": "code",
   "execution_count": 175,
   "metadata": {},
   "outputs": [
    {
     "data": {
      "text/plain": [
       "Workspace: Variables\n",
       "nb variables: 3\n",
       "filename: c:\\soft\\miniconda3\\Lib\\site-packages\\iode\\tests\\data\\fun.var\n",
       "description: Modèle fun - Simulation 1                         \n",
       "sample: 1991Y1:1995Y1\n",
       "mode: LEVEL\n",
       "\n",
       "name\t 1991Y1\t 1992Y1\t 1993Y1\t 1994Y1\t 1995Y1\n",
       "ACAF\t1991.00\t1992.00\t1993.00\t1994.00\t1995.00\n",
       "ACAG\t1996.00\t1997.00\t1998.00\t1999.00\t2000.00\n",
       "AOUC\t2001.00\t2002.00\t2003.00\t2004.00\t2005.00"
      ]
     },
     "execution_count": 175,
     "metadata": {},
     "output_type": "execute_result"
    }
   ],
   "source": [
    "# 3) using another variables database (subset)\n",
    "variables_subset = variables[\"ACAF, ACAG, AOUC\", \"1991Y1:1995Y1\"].copy()\n",
    "variables_subset[\"ACAF\"] = [1991, 1992, 1993, 1994, 1995]\n",
    "variables_subset[\"ACAG\"] = [1996, 1997, 1998, 1999, 2000]\n",
    "variables_subset[\"AOUC\"] = [2001, 2002, 2003, 2004, 2005]\n",
    "variables[\"ACAF, ACAG, AOUC\", \"1991Y1:1995Y1\"] = variables_subset\n",
    "variables[\"ACAF, ACAG, AOUC\", \"1991Y1:1995Y1\"]"
   ]
  },
  {
   "cell_type": "markdown",
   "metadata": {},
   "source": [
    "Delete a variable:"
   ]
  },
  {
   "cell_type": "code",
   "execution_count": 176,
   "metadata": {},
   "outputs": [
    {
     "data": {
      "text/plain": [
       "['A0', 'A1', 'A2', 'A5', 'ACAF', 'ACAG', 'AOUC', 'AOUC_', 'AQC']"
      ]
     },
     "execution_count": 176,
     "metadata": {},
     "output_type": "execute_result"
    }
   ],
   "source": [
    "variables.get_names(\"A*\")"
   ]
  },
  {
   "cell_type": "code",
   "execution_count": 177,
   "metadata": {},
   "outputs": [
    {
     "data": {
      "text/plain": [
       "['A0', 'A1', 'A2', 'A5', 'ACAG', 'AOUC', 'AOUC_', 'AQC']"
      ]
     },
     "execution_count": 177,
     "metadata": {},
     "output_type": "execute_result"
    }
   ],
   "source": [
    "del variables[\"ACAF\"]\n",
    "variables.get_names(\"A*\")"
   ]
  },
  {
   "cell_type": "markdown",
   "metadata": {},
   "source": [
    "### Get - add - update - delete objects in workspace subsets\n",
    "\n",
    "<div class=\"alert alert-info\">\n",
    "\n",
    "**Note**\n",
    "\n",
    "When an IODE object is added, updated or deleted from a subset of a workspace, the change is also applied to the global workspace. For example, if an equation is added to the subset of the *equations* workspace, the the change is also applied to the global *equations* database.\n",
    "\n",
    "To create an isolate subset of a workspace, use the [copy](../_generated/iode.Equations.copy.rst#iode.Equations.copy) method. This method returns a new workspace in which each object is a copy of the original object from the global workspace. Any change made to the *copied subset* will not be applied to the global workspace. This can be useful for example if you want to save previous values of scalars before estimating an equation or a block of equations and then restore the original values if the estimated values are not satisfying.\n",
    "\n",
    "</div>\n"
   ]
  },
  {
   "cell_type": "markdown",
   "metadata": {},
   "source": [
    "#### Comments - Equations - Identities - Lists - Scalars - Tables"
   ]
  },
  {
   "cell_type": "markdown",
   "metadata": {},
   "source": [
    "Let's first begin by reloading the example workspace for all IODE types:"
   ]
  },
  {
   "cell_type": "code",
   "execution_count": 178,
   "metadata": {},
   "outputs": [
    {
     "name": "stdout",
     "output_type": "stream",
     "text": [
      "Loading C:\\soft\\miniconda3\\Lib\\site-packages\\iode\\tests\\data/fun.cmt\n",
      "317 objects loaded\n",
      "Loading C:\\soft\\miniconda3\\Lib\\site-packages\\iode\\tests\\data/fun.eqs\n",
      "274 objects loaded\n",
      "Loading C:\\soft\\miniconda3\\Lib\\site-packages\\iode\\tests\\data/fun.idt\n",
      "48 objects loaded\n",
      "Loading C:\\soft\\miniconda3\\Lib\\site-packages\\iode\\tests\\data/fun.lst\n",
      "17 objects loaded\n",
      "Loading C:\\soft\\miniconda3\\Lib\\site-packages\\iode\\tests\\data/fun.scl\n",
      "161 objects loaded\n",
      "Loading C:\\soft\\miniconda3\\Lib\\site-packages\\iode\\tests\\data/fun.tbl\n",
      "46 objects loaded\n",
      "Loading C:\\soft\\miniconda3\\Lib\\site-packages\\iode\\tests\\data/fun.var\n",
      "394 objects loaded\n"
     ]
    }
   ],
   "source": [
    "comments.load(f\"{Sample_DATA_DIR}/fun.cmt\")\n",
    "equations.load(f\"{Sample_DATA_DIR}/fun.eqs\")\n",
    "identities.load(f\"{Sample_DATA_DIR}/fun.idt\")\n",
    "lists.load(f\"{Sample_DATA_DIR}/fun.lst\")\n",
    "scalars.load(f\"{Sample_DATA_DIR}/fun.scl\")\n",
    "tables.load(f\"{Sample_DATA_DIR}/fun.tbl\")\n",
    "variables.load(f\"{Sample_DATA_DIR}/fun.var\")"
   ]
  },
  {
   "cell_type": "code",
   "execution_count": 179,
   "metadata": {},
   "outputs": [
    {
     "data": {
      "text/plain": [
       "['ACAF', 'ACAG', 'AOUC', 'AQC']"
      ]
     },
     "execution_count": 179,
     "metadata": {},
     "output_type": "execute_result"
    }
   ],
   "source": [
    "# 1) get subset using a pattern\n",
    "comments_subset = comments[\"A*\"]\n",
    "comments_subset.names"
   ]
  },
  {
   "cell_type": "code",
   "execution_count": 180,
   "metadata": {},
   "outputs": [
    {
     "data": {
      "text/plain": [
       "'New Comment'"
      ]
     },
     "execution_count": 180,
     "metadata": {},
     "output_type": "execute_result"
    }
   ],
   "source": [
    "# 2) add a comment to the subset\n",
    "comments_subset[\"A0\"] = \"New Comment\"\n",
    "comments_subset[\"A0\"]"
   ]
  },
  {
   "cell_type": "code",
   "execution_count": 181,
   "metadata": {},
   "outputs": [
    {
     "data": {
      "text/plain": [
       "(True, 'New Comment')"
      ]
     },
     "execution_count": 181,
     "metadata": {},
     "output_type": "execute_result"
    }
   ],
   "source": [
    "# --> new comment also appears in the global workspace\n",
    "\"A0\" in comments, comments[\"A0\"]"
   ]
  },
  {
   "cell_type": "code",
   "execution_count": 182,
   "metadata": {},
   "outputs": [
    {
     "data": {
      "text/plain": [
       "'Updated Comment'"
      ]
     },
     "execution_count": 182,
     "metadata": {},
     "output_type": "execute_result"
    }
   ],
   "source": [
    "# 3) update a comment in the subset\n",
    "comments_subset[\"A0\"] = \"Updated Comment\"\n",
    "comments_subset[\"A0\"]"
   ]
  },
  {
   "cell_type": "code",
   "execution_count": 183,
   "metadata": {},
   "outputs": [
    {
     "data": {
      "text/plain": [
       "'Updated Comment'"
      ]
     },
     "execution_count": 183,
     "metadata": {},
     "output_type": "execute_result"
    }
   ],
   "source": [
    "# --> comment is also updated in the global workspace\n",
    "comments[\"A0\"]"
   ]
  },
  {
   "cell_type": "code",
   "execution_count": 184,
   "metadata": {},
   "outputs": [
    {
     "data": {
      "text/plain": [
       "['ACAF', 'ACAG', 'AOUC', 'AQC']"
      ]
     },
     "execution_count": 184,
     "metadata": {},
     "output_type": "execute_result"
    }
   ],
   "source": [
    "# delete comment from the subset\n",
    "del comments_subset[\"A0\"]\n",
    "comments_subset.names"
   ]
  },
  {
   "cell_type": "code",
   "execution_count": 185,
   "metadata": {},
   "outputs": [
    {
     "data": {
      "text/plain": [
       "False"
      ]
     },
     "execution_count": 185,
     "metadata": {},
     "output_type": "execute_result"
    }
   ],
   "source": [
    "# NOTE: the comment has also been deleted from the global database\n",
    "\"A0\" in comments"
   ]
  },
  {
   "cell_type": "code",
   "execution_count": 186,
   "metadata": {},
   "outputs": [
    {
     "data": {
      "text/plain": [
       "['ACAF', 'ACAG', 'AOUC', 'AQC']"
      ]
     },
     "execution_count": 186,
     "metadata": {},
     "output_type": "execute_result"
    }
   ],
   "source": [
    "comments.get_names(\"A*\")"
   ]
  },
  {
   "cell_type": "markdown",
   "metadata": {},
   "source": [
    "#### Variables"
   ]
  },
  {
   "cell_type": "code",
   "execution_count": 187,
   "metadata": {},
   "outputs": [
    {
     "data": {
      "text/plain": [
       "['ACAF', 'ACAG', 'AOUC', 'AOUC_', 'AQC']"
      ]
     },
     "execution_count": 187,
     "metadata": {},
     "output_type": "execute_result"
    }
   ],
   "source": [
    "# 1) get subset using a pattern\n",
    "vars_subset = variables[\"A*\"]\n",
    "vars_subset.names"
   ]
  },
  {
   "cell_type": "code",
   "execution_count": 188,
   "metadata": {},
   "outputs": [
    {
     "data": {
      "text/plain": [
       "Workspace: Variables\n",
       "nb variables: 5\n",
       "filename: c:\\soft\\miniconda3\\Lib\\site-packages\\iode\\tests\\data\\fun.var\n",
       "description: Modèle fun - Simulation 1                         \n",
       "sample: 1990Y1:1990Y1\n",
       "mode: LEVEL\n",
       "\n",
       " name\t1990Y1\n",
       "ACAF \t 23.77\n",
       "ACAG \t-28.17\n",
       "AOUC \t  1.00\n",
       "AOUC_\t  0.94\n",
       "AQC  \t  1.00"
      ]
     },
     "execution_count": 188,
     "metadata": {},
     "output_type": "execute_result"
    }
   ],
   "source": [
    "# get the values for a specific period -> Variables\n",
    "variables[\"A*\", \"1990Y1\"]"
   ]
  },
  {
   "cell_type": "code",
   "execution_count": 189,
   "metadata": {},
   "outputs": [
    {
     "data": {
      "text/plain": [
       "Workspace: Variables\n",
       "nb variables: 5\n",
       "filename: c:\\soft\\miniconda3\\Lib\\site-packages\\iode\\tests\\data\\fun.var\n",
       "description: Modèle fun - Simulation 1                         \n",
       "sample: 1990Y1:2000Y1\n",
       "mode: LEVEL\n",
       "\n",
       " name\t1990Y1\t1991Y1\t1992Y1\t1993Y1\t1994Y1\t1995Y1\t1996Y1\t1997Y1\t1998Y1\t1999Y1\t2000Y1\n",
       "ACAF \t 23.77\t 26.24\t 30.16\t 34.66\t  8.16\t-13.13\t 32.17\t 39.94\t 29.65\t 13.53\t 10.05\n",
       "ACAG \t-28.17\t-30.93\t-40.29\t-43.16\t-16.03\t-41.85\t-40.24\t-32.93\t-38.35\t-39.86\t-41.53\n",
       "AOUC \t  1.00\t  1.02\t  1.03\t  1.03\t  1.05\t  1.05\t  1.05\t  1.08\t  1.09\t  1.11\t  1.12\n",
       "AOUC_\t  0.94\t  0.96\t  0.97\t  0.98\t  0.99\t  1.00\t  1.00\t  1.03\t  1.04\t  1.08\t  1.10\n",
       "AQC  \t  1.00\t  1.06\t  1.11\t  1.15\t  1.16\t  1.16\t  1.16\t  1.20\t  1.20\t  1.34\t  1.34"
      ]
     },
     "execution_count": 189,
     "metadata": {},
     "output_type": "execute_result"
    }
   ],
   "source": [
    "# get the variable values for range of periods -> Variables\n",
    "variables[\"A*\", \"1990Y1:2000Y1\"]"
   ]
  },
  {
   "cell_type": "code",
   "execution_count": 190,
   "metadata": {},
   "outputs": [
    {
     "data": {
      "text/html": [
       "<div>\n",
       "<style scoped>\n",
       "    .dataframe tbody tr th:only-of-type {\n",
       "        vertical-align: middle;\n",
       "    }\n",
       "\n",
       "    .dataframe tbody tr th {\n",
       "        vertical-align: top;\n",
       "    }\n",
       "\n",
       "    .dataframe thead th {\n",
       "        text-align: right;\n",
       "    }\n",
       "</style>\n",
       "<table border=\"1\" class=\"dataframe\">\n",
       "  <thead>\n",
       "    <tr style=\"text-align: right;\">\n",
       "      <th>time</th>\n",
       "      <th>1990Y1</th>\n",
       "      <th>1995Y1</th>\n",
       "      <th>2000Y1</th>\n",
       "    </tr>\n",
       "    <tr>\n",
       "      <th>variables</th>\n",
       "      <th></th>\n",
       "      <th></th>\n",
       "      <th></th>\n",
       "    </tr>\n",
       "  </thead>\n",
       "  <tbody>\n",
       "    <tr>\n",
       "      <th>ACAF</th>\n",
       "      <td>23.771000</td>\n",
       "      <td>-13.130997</td>\n",
       "      <td>10.046611</td>\n",
       "    </tr>\n",
       "    <tr>\n",
       "      <th>ACAG</th>\n",
       "      <td>-28.172186</td>\n",
       "      <td>-41.845993</td>\n",
       "      <td>-41.534787</td>\n",
       "    </tr>\n",
       "    <tr>\n",
       "      <th>AOUC</th>\n",
       "      <td>1.000000</td>\n",
       "      <td>1.049891</td>\n",
       "      <td>1.116238</td>\n",
       "    </tr>\n",
       "    <tr>\n",
       "      <th>AOUC_</th>\n",
       "      <td>0.937359</td>\n",
       "      <td>0.995263</td>\n",
       "      <td>1.101957</td>\n",
       "    </tr>\n",
       "    <tr>\n",
       "      <th>AQC</th>\n",
       "      <td>1.000000</td>\n",
       "      <td>1.161687</td>\n",
       "      <td>1.338603</td>\n",
       "    </tr>\n",
       "  </tbody>\n",
       "</table>\n",
       "</div>"
      ],
      "text/plain": [
       "time          1990Y1     1995Y1     2000Y1\n",
       "variables                                 \n",
       "ACAF       23.771000 -13.130997  10.046611\n",
       "ACAG      -28.172186 -41.845993 -41.534787\n",
       "AOUC        1.000000   1.049891   1.116238\n",
       "AOUC_       0.937359   0.995263   1.101957\n",
       "AQC         1.000000   1.161687   1.338603"
      ]
     },
     "execution_count": 190,
     "metadata": {},
     "output_type": "execute_result"
    }
   ],
   "source": [
    "# get the variable values for a list of non-contiguous periods -> pandas DataFrame\n",
    "variables[\"A*\", [\"1990Y1\", \"1995Y1\", \"2000Y1\"]]"
   ]
  },
  {
   "cell_type": "code",
   "execution_count": 191,
   "metadata": {},
   "outputs": [
    {
     "data": {
      "text/plain": [
       "Workspace: Variables\n",
       "nb variables: 1\n",
       "filename: c:\\soft\\miniconda3\\Lib\\site-packages\\iode\\tests\\data\\fun.var\n",
       "description: Modèle fun - Simulation 1                         \n",
       "sample: 1960Y1:2015Y1\n",
       "mode: LEVEL\n",
       "\n",
       "name\t1960Y1\t1961Y1\t1962Y1\t1963Y1\t1964Y1\t1965Y1\t...\t2009Y1\t2010Y1\t2011Y1\t2012Y1\t2013Y1\t2014Y1\t2015Y1\n",
       "A0  \t    na\t    na\t    na\t    na\t    na\t    na\t...\t    na\t    na\t    na\t    na\t    na\t    na\t    na"
      ]
     },
     "execution_count": 191,
     "metadata": {},
     "output_type": "execute_result"
    }
   ],
   "source": [
    "# 2) add a variable to the subset\n",
    "vars_subset[\"A0\"] = np.nan\n",
    "vars_subset[\"A0\"]              "
   ]
  },
  {
   "cell_type": "code",
   "execution_count": 192,
   "metadata": {},
   "outputs": [
    {
     "data": {
      "text/plain": [
       "True"
      ]
     },
     "execution_count": 192,
     "metadata": {},
     "output_type": "execute_result"
    }
   ],
   "source": [
    "# --> new variable also appears in the global workspace\n",
    "\"A0\" in variables            "
   ]
  },
  {
   "cell_type": "code",
   "execution_count": 193,
   "metadata": {},
   "outputs": [
    {
     "data": {
      "text/plain": [
       "Workspace: Variables\n",
       "nb variables: 1\n",
       "filename: c:\\soft\\miniconda3\\Lib\\site-packages\\iode\\tests\\data\\fun.var\n",
       "description: Modèle fun - Simulation 1                         \n",
       "sample: 1960Y1:2015Y1\n",
       "mode: LEVEL\n",
       "\n",
       "name\t1960Y1\t1961Y1\t1962Y1\t1963Y1\t1964Y1\t1965Y1\t...\t2009Y1\t2010Y1\t2011Y1\t2012Y1\t2013Y1\t2014Y1\t2015Y1\n",
       "A0  \t    na\t    na\t    na\t    na\t    na\t    na\t...\t    na\t    na\t    na\t    na\t    na\t    na\t    na"
      ]
     },
     "execution_count": 193,
     "metadata": {},
     "output_type": "execute_result"
    }
   ],
   "source": [
    "variables[\"A0\"]"
   ]
  },
  {
   "cell_type": "code",
   "execution_count": 194,
   "metadata": {},
   "outputs": [
    {
     "data": {
      "text/plain": [
       "Workspace: Variables\n",
       "nb variables: 1\n",
       "filename: c:\\soft\\miniconda3\\Lib\\site-packages\\iode\\tests\\data\\fun.var\n",
       "description: Modèle fun - Simulation 1                         \n",
       "sample: 1960Y1:2015Y1\n",
       "mode: LEVEL\n",
       "\n",
       "name\t1960Y1\t1961Y1\t1962Y1\t1963Y1\t1964Y1\t1965Y1\t...\t2009Y1\t2010Y1\t2011Y1\t2012Y1\t2013Y1\t2014Y1\t2015Y1\n",
       "A0  \t  0.00\t  0.00\t  0.00\t  0.00\t  0.00\t  0.00\t...\t  0.00\t  0.00\t  0.00\t  0.00\t  0.00\t  0.00\t  0.00"
      ]
     },
     "execution_count": 194,
     "metadata": {},
     "output_type": "execute_result"
    }
   ],
   "source": [
    "# 3) update a variable in the subset\n",
    "vars_subset[\"A0\"] = 0.0\n",
    "vars_subset[\"A0\"]              "
   ]
  },
  {
   "cell_type": "code",
   "execution_count": 195,
   "metadata": {},
   "outputs": [
    {
     "data": {
      "text/plain": [
       "Workspace: Variables\n",
       "nb variables: 1\n",
       "filename: c:\\soft\\miniconda3\\Lib\\site-packages\\iode\\tests\\data\\fun.var\n",
       "description: Modèle fun - Simulation 1                         \n",
       "sample: 1960Y1:2015Y1\n",
       "mode: LEVEL\n",
       "\n",
       "name\t1960Y1\t1961Y1\t1962Y1\t1963Y1\t1964Y1\t1965Y1\t...\t2009Y1\t2010Y1\t2011Y1\t2012Y1\t2013Y1\t2014Y1\t2015Y1\n",
       "A0  \t  0.00\t  0.00\t  0.00\t  0.00\t  0.00\t  0.00\t...\t  0.00\t  0.00\t  0.00\t  0.00\t  0.00\t  0.00\t  0.00"
      ]
     },
     "execution_count": 195,
     "metadata": {},
     "output_type": "execute_result"
    }
   ],
   "source": [
    "# --> variable is also updated in the global workspace\n",
    "variables[\"A0\"]                     "
   ]
  },
  {
   "cell_type": "code",
   "execution_count": 196,
   "metadata": {},
   "outputs": [
    {
     "data": {
      "text/plain": [
       "False"
      ]
     },
     "execution_count": 196,
     "metadata": {},
     "output_type": "execute_result"
    }
   ],
   "source": [
    "# delete one variable from a subset of the global database\n",
    "del vars_subset[\"A0\"]\n",
    "\"A0\" in vars_subset"
   ]
  },
  {
   "cell_type": "code",
   "execution_count": 197,
   "metadata": {},
   "outputs": [
    {
     "data": {
      "text/plain": [
       "False"
      ]
     },
     "execution_count": 197,
     "metadata": {},
     "output_type": "execute_result"
    }
   ],
   "source": [
    "# NOTE: the variable has also been deleted from the global database\n",
    "\"A0\" in variables"
   ]
  },
  {
   "cell_type": "markdown",
   "metadata": {},
   "source": [
    "It is also possible to work on subset over names and periods:"
   ]
  },
  {
   "cell_type": "code",
   "execution_count": 198,
   "metadata": {},
   "outputs": [
    {
     "data": {
      "text/plain": [
       "['ACAF', 'ACAG', 'AOUC', 'AOUC_', 'AQC']"
      ]
     },
     "execution_count": 198,
     "metadata": {},
     "output_type": "execute_result"
    }
   ],
   "source": [
    "# 1) get subset over names and periods -> Variables\n",
    "vars_subset = variables[\"A*\", \"1991Y1:1995Y1\"]\n",
    "vars_subset.names"
   ]
  },
  {
   "cell_type": "code",
   "execution_count": 199,
   "metadata": {},
   "outputs": [
    {
     "data": {
      "text/plain": [
       "Workspace: Variables\n",
       "nb variables: 5\n",
       "filename: c:\\soft\\miniconda3\\Lib\\site-packages\\iode\\tests\\data\\fun.var\n",
       "description: Modèle fun - Simulation 1                         \n",
       "sample: 1991Y1:1995Y1\n",
       "mode: LEVEL\n",
       "\n",
       " name\t1991Y1\t1992Y1\t1993Y1\t1994Y1\t1995Y1\n",
       "ACAF \t 26.24\t 30.16\t 34.66\t  8.16\t-13.13\n",
       "ACAG \t-30.93\t-40.29\t-43.16\t-16.03\t-41.85\n",
       "AOUC \t  1.02\t  1.03\t  1.03\t  1.05\t  1.05\n",
       "AOUC_\t  0.96\t  0.97\t  0.98\t  0.99\t  1.00\n",
       "AQC  \t  1.06\t  1.11\t  1.15\t  1.16\t  1.16"
      ]
     },
     "execution_count": 199,
     "metadata": {},
     "output_type": "execute_result"
    }
   ],
   "source": [
    "vars_subset"
   ]
  },
  {
   "cell_type": "code",
   "execution_count": 200,
   "metadata": {},
   "outputs": [
    {
     "data": {
      "text/plain": [
       "Workspace: Variables\n",
       "nb variables: 1\n",
       "filename: c:\\soft\\miniconda3\\Lib\\site-packages\\iode\\tests\\data\\fun.var\n",
       "description: Modèle fun - Simulation 1                         \n",
       "sample: 1991Y1:1995Y1\n",
       "mode: LEVEL\n",
       "\n",
       "name\t1991Y1\t1992Y1\t1993Y1\t1994Y1\t1995Y1\n",
       "ACAF\t  1.00\t  1.00\t  1.00\t  1.00\t  1.00"
      ]
     },
     "execution_count": 200,
     "metadata": {},
     "output_type": "execute_result"
    }
   ],
   "source": [
    "# 2) update a variable in the subset\n",
    "vars_subset[\"ACAF\"] = 1.0\n",
    "vars_subset[\"ACAF\"]"
   ]
  },
  {
   "cell_type": "code",
   "execution_count": 201,
   "metadata": {},
   "outputs": [
    {
     "data": {
      "text/plain": [
       "1.0"
      ]
     },
     "execution_count": 201,
     "metadata": {},
     "output_type": "execute_result"
    }
   ],
   "source": [
    "# --> variable is also updated in the global workspace\n",
    "variables[\"ACAF\", \"1991Y1\"]"
   ]
  },
  {
   "cell_type": "code",
   "execution_count": 202,
   "metadata": {},
   "outputs": [
    {
     "data": {
      "text/plain": [
       "1.0"
      ]
     },
     "execution_count": 202,
     "metadata": {},
     "output_type": "execute_result"
    }
   ],
   "source": [
    "variables[\"ACAF\", \"1995Y1\"]"
   ]
  },
  {
   "cell_type": "markdown",
   "metadata": {},
   "source": [
    "<div class=\"alert alert-info\">\n",
    "\n",
    "**Note**\n",
    "\n",
    "Selecting non-contiguous periods will return a pandas object, not a Variables object. This is because the IODE Variables workspace is designed to work with contiguous periods. The pandas object is not a view of the Variables workspace, but a copy of the data. Modifying a value of the pandas object will not affect the Variables workspace.\n",
    "\n",
    "</div>\n"
   ]
  },
  {
   "cell_type": "code",
   "execution_count": 203,
   "metadata": {},
   "outputs": [
    {
     "data": {
      "text/html": [
       "<div>\n",
       "<style scoped>\n",
       "    .dataframe tbody tr th:only-of-type {\n",
       "        vertical-align: middle;\n",
       "    }\n",
       "\n",
       "    .dataframe tbody tr th {\n",
       "        vertical-align: top;\n",
       "    }\n",
       "\n",
       "    .dataframe thead th {\n",
       "        text-align: right;\n",
       "    }\n",
       "</style>\n",
       "<table border=\"1\" class=\"dataframe\">\n",
       "  <thead>\n",
       "    <tr style=\"text-align: right;\">\n",
       "      <th>time</th>\n",
       "      <th>1990Y1</th>\n",
       "      <th>1995Y1</th>\n",
       "      <th>2000Y1</th>\n",
       "    </tr>\n",
       "    <tr>\n",
       "      <th>variables</th>\n",
       "      <th></th>\n",
       "      <th></th>\n",
       "      <th></th>\n",
       "    </tr>\n",
       "  </thead>\n",
       "  <tbody>\n",
       "    <tr>\n",
       "      <th>ACAF</th>\n",
       "      <td>23.771000</td>\n",
       "      <td>1.000000</td>\n",
       "      <td>10.046611</td>\n",
       "    </tr>\n",
       "    <tr>\n",
       "      <th>ACAG</th>\n",
       "      <td>-28.172186</td>\n",
       "      <td>-41.845993</td>\n",
       "      <td>-41.534787</td>\n",
       "    </tr>\n",
       "    <tr>\n",
       "      <th>AOUC</th>\n",
       "      <td>1.000000</td>\n",
       "      <td>1.049891</td>\n",
       "      <td>1.116238</td>\n",
       "    </tr>\n",
       "    <tr>\n",
       "      <th>AOUC_</th>\n",
       "      <td>0.937359</td>\n",
       "      <td>0.995263</td>\n",
       "      <td>1.101957</td>\n",
       "    </tr>\n",
       "    <tr>\n",
       "      <th>AQC</th>\n",
       "      <td>1.000000</td>\n",
       "      <td>1.161687</td>\n",
       "      <td>1.338603</td>\n",
       "    </tr>\n",
       "  </tbody>\n",
       "</table>\n",
       "</div>"
      ],
      "text/plain": [
       "time          1990Y1     1995Y1     2000Y1\n",
       "variables                                 \n",
       "ACAF       23.771000   1.000000  10.046611\n",
       "ACAG      -28.172186 -41.845993 -41.534787\n",
       "AOUC        1.000000   1.049891   1.116238\n",
       "AOUC_       0.937359   0.995263   1.101957\n",
       "AQC         1.000000   1.161687   1.338603"
      ]
     },
     "execution_count": 203,
     "metadata": {},
     "output_type": "execute_result"
    }
   ],
   "source": [
    "df_vars_subset = variables[\"A*\", [\"1990Y1\", \"1995Y1\", \"2000Y1\"]]\n",
    "df_vars_subset"
   ]
  },
  {
   "cell_type": "markdown",
   "metadata": {},
   "source": [
    "### Get Scalars And Variables Referenced In The Equations, Identities And Tables Workspaces"
   ]
  },
  {
   "cell_type": "markdown",
   "metadata": {},
   "source": [
    "To get the list of *scalars* (*coefficients*) and *variables* referenced in identities, use the [coefficients](../_generated/iode.Equations.coefficients.rst#iode.Equations.coefficients) and [variables](../_generated/iode.Equations.variables.rst#iode.Equations.variables) properties of the [equations](../_generated/iode.Equations.rst#iode.Equations) workspace:"
   ]
  },
  {
   "cell_type": "code",
   "execution_count": 204,
   "metadata": {},
   "outputs": [
    {
     "name": "stderr",
     "output_type": "stream",
     "text": [
      "c:\\soft\\Miniconda3\\Lib\\site-packages\\iode\\time\\sample.py:240: UserWarning: 'sample' is not defined\n",
      "  return self._cython_instance.__str__()\n"
     ]
    },
    {
     "data": {
      "text/plain": [
       "Workspace: Equations\n",
       "nb equations: 3\n",
       "filename: c:\\soft\\miniconda3\\Lib\\site-packages\\iode\\tests\\data\\fun.eqs\n",
       "\n",
       "name\t                                     lec                                      \tmethod\t    sample   \tblock\t fstat \tr2adj \t  dw  \t loglik\t   date   \n",
       "ACAF\t(ACAF/VAF[-1]) :=acaf1+acaf2*GOSF[-1]+ acaf4*(TIME=1995)                      \t   LSQ\t1980Y1:1996Y1\t ACAF\t32.2732\t0.7963\t2.3293\t83.8075\t12-06-1998\n",
       "ACAG\tACAG := ACAG[-1]+r VBBP[-1]+(0.006*VBBP[-1]*(TIME=2001)-0.008*(TIME=2008))    \t   LSQ\t         None\t ACAG\t 0.0000\t0.0000\t0.0000\t 0.0000\t          \n",
       "AOUC\tAOUC:=((WCRH/QL)/(WCRH/QL)[1990Y1])*(VAFF/(VM+VAFF))[-1]+PM*(VM/(VAFF+VM))[-1]\t   LSQ\t         None\t AOUC\t 0.0000\t0.0000\t0.0000\t 0.0000\t          "
      ]
     },
     "execution_count": 204,
     "metadata": {},
     "output_type": "execute_result"
    }
   ],
   "source": [
    "equations[\"A*\"]"
   ]
  },
  {
   "cell_type": "code",
   "execution_count": 205,
   "metadata": {},
   "outputs": [
    {
     "data": {
      "text/plain": [
       "['acaf1', 'acaf2', 'acaf4']"
      ]
     },
     "execution_count": 205,
     "metadata": {},
     "output_type": "execute_result"
    }
   ],
   "source": [
    "equations[\"A*\"].coefficients"
   ]
  },
  {
   "cell_type": "code",
   "execution_count": 206,
   "metadata": {},
   "outputs": [
    {
     "data": {
      "text/plain": [
       "['ACAF',\n",
       " 'ACAG',\n",
       " 'AOUC',\n",
       " 'GOSF',\n",
       " 'PM',\n",
       " 'QL',\n",
       " 'TIME',\n",
       " 'VAF',\n",
       " 'VAFF',\n",
       " 'VBBP',\n",
       " 'VM',\n",
       " 'WCRH']"
      ]
     },
     "execution_count": 206,
     "metadata": {},
     "output_type": "execute_result"
    }
   ],
   "source": [
    "equations[\"A*\"].variables"
   ]
  },
  {
   "cell_type": "markdown",
   "metadata": {},
   "source": [
    "To get the list of *scalars* (*coefficients*) and *variables* referenced in identities, use the [coefficients](../_generated/iode.Identities.coefficients.rst#iode.Identities.coefficients) and [variables](../_generated/iode.Identities.variables.rst#iode.Identities.variables) properties of the [identities](../_generated/iode.Identities.rst#iode.Identities) workspace:"
   ]
  },
  {
   "cell_type": "code",
   "execution_count": 207,
   "metadata": {},
   "outputs": [
    {
     "data": {
      "text/plain": [
       "Workspace: Identities\n",
       "nb identities: 4\n",
       "filename: c:\\soft\\miniconda3\\Lib\\site-packages\\iode\\tests\\data\\fun.idt\n",
       "\n",
       " name\t                                            identities                                           \n",
       "AOUC \t((WCRH/QL)/(WCRH/QL)[1990Y1])*(VAFF/(VM+VAFF))[-1]+PM*(VM/(VM+VAFF))[-1]                         \n",
       "AOUC_\texp(ln(((WCF/NFYH)/QL)+PKF/(QAFF/KNFFY))*(QAFF/(QX+QAFF)+.05)[-1]+ln PM*(QM/ (QAFF+QM)-0.05)[-1])\n",
       "NAWRU\t1-exp((gamma2+gamma3*ln(W/ZJ)[-1]+gamma4*ln(WMIN/ZJ))/ gamma_)                                   \n",
       "NFYHO\t1                                                                                                "
      ]
     },
     "execution_count": 207,
     "metadata": {},
     "output_type": "execute_result"
    }
   ],
   "source": [
    "identities[\"A*;N*\"]"
   ]
  },
  {
   "cell_type": "code",
   "execution_count": 208,
   "metadata": {},
   "outputs": [
    {
     "data": {
      "text/plain": [
       "['gamma2', 'gamma3', 'gamma4', 'gamma_']"
      ]
     },
     "execution_count": 208,
     "metadata": {},
     "output_type": "execute_result"
    }
   ],
   "source": [
    "identities[\"A*;N*\"].coefficients"
   ]
  },
  {
   "cell_type": "code",
   "execution_count": 209,
   "metadata": {},
   "outputs": [
    {
     "data": {
      "text/plain": [
       "['KNFFY',\n",
       " 'NFYH',\n",
       " 'PKF',\n",
       " 'PM',\n",
       " 'QAFF',\n",
       " 'QL',\n",
       " 'QM',\n",
       " 'QX',\n",
       " 'VAFF',\n",
       " 'VM',\n",
       " 'W',\n",
       " 'WCF',\n",
       " 'WCRH',\n",
       " 'WMIN',\n",
       " 'ZJ']"
      ]
     },
     "execution_count": 209,
     "metadata": {},
     "output_type": "execute_result"
    }
   ],
   "source": [
    "identities[\"A*;N*\"].variables"
   ]
  },
  {
   "cell_type": "markdown",
   "metadata": {},
   "source": [
    "To get the list of *scalars* (*coefficients*) and *variables* referenced in identities, use the [coefficients](../_generated/iode.Tables.coefficients.rst#iode.Tables.coefficients) and [variables](../_generated/iode.Tables.variables.rst#iode.Tables.variables) properties of the [tables](../_generated/iode.Tables.rst#iode.Tables) workspace:"
   ]
  },
  {
   "cell_type": "code",
   "execution_count": 210,
   "metadata": {},
   "outputs": [
    {
     "data": {
      "text/plain": [
       "Workspace: Tables\n",
       "nb tables: 19\n",
       "filename: c:\\soft\\miniconda3\\Lib\\site-packages\\iode\\tests\\data\\fun.tbl\n",
       "\n",
       "  name \t             table titles            \n",
       "ANAKNFF\tDéterminants de la croissance de K   \n",
       "ANAPRIX\tAnalyse des prix                     \n",
       "C8_1   \tDéterminants de l'output potentiel   \n",
       "C8_10  \tCoin salarial parafiscal             \n",
       "C8_11  \tPropension moyenne à épargner        \n",
       "...    \t...                                  \n",
       "C8_9   \tPrix à la consommation et index      \n",
       "C9_1   \tCroissance et marchés à l'exportation\n",
       "C9_2   \tCompétitivité et termes d'échange    \n",
       "C9_3   \tProductivité totale des facteurs     \n",
       "C9_4   \tTaux d'intérêt et croissance         "
      ]
     },
     "execution_count": 210,
     "metadata": {},
     "output_type": "execute_result"
    }
   ],
   "source": [
    "tables[\"A*;C*\"]"
   ]
  },
  {
   "cell_type": "code",
   "execution_count": 211,
   "metadata": {},
   "outputs": [
    {
     "data": {
      "text/plain": [
       "['knf2', 'knff1']"
      ]
     },
     "execution_count": 211,
     "metadata": {},
     "output_type": "execute_result"
    }
   ],
   "source": [
    "tables[\"A*;C*\"].coefficients"
   ]
  },
  {
   "cell_type": "code",
   "execution_count": 212,
   "metadata": {},
   "outputs": [
    {
     "data": {
      "text/plain": [
       "['AOUC',\n",
       " 'AOUC_',\n",
       " 'EX',\n",
       " 'GAP_',\n",
       " 'ITCR',\n",
       " 'KLFHP',\n",
       " 'KNFF',\n",
       " 'NFY',\n",
       " 'NFYH',\n",
       " 'NIY',\n",
       " 'PC',\n",
       " 'PKF',\n",
       " 'PM',\n",
       " 'PROD',\n",
       " 'PWXAB',\n",
       " 'PX',\n",
       " 'QAFF',\n",
       " 'QAFF_',\n",
       " 'QBBP',\n",
       " 'QWXAB',\n",
       " 'QWXSS',\n",
       " 'QXAB',\n",
       " 'Q_F',\n",
       " 'Q_I',\n",
       " 'RENT',\n",
       " 'RLBER',\n",
       " 'SSFF',\n",
       " 'SSHFF',\n",
       " 'TFPFHP_',\n",
       " 'VAF_',\n",
       " 'VC',\n",
       " 'WBF_',\n",
       " 'WCF_',\n",
       " 'WCRH',\n",
       " 'WNF_',\n",
       " 'YDH',\n",
       " 'ZJ']"
      ]
     },
     "execution_count": 212,
     "metadata": {},
     "output_type": "execute_result"
    }
   ],
   "source": [
    "tables[\"A*;C*\"].variables"
   ]
  },
  {
   "cell_type": "markdown",
   "metadata": {},
   "source": [
    "### Get Words Referenced In IODE Objects\n",
    "\n",
    "More generally, the [search](../_generated/iode.Equations.search.rst#iode.Equations.search) method can also be used to get the list of IODE objects containing a specific word or pattern. For instance, it can be used to get the list of comments and tables containing a specific word:"
   ]
  },
  {
   "cell_type": "code",
   "execution_count": 213,
   "metadata": {},
   "outputs": [
    {
     "name": "stdout",
     "output_type": "stream",
     "text": [
      "equations containing the scalar 'acaf1': ['ACAF']\n",
      "equations containing the variable 'AOUC': ['AOUC', 'PC', 'PIF', 'PXS', 'QXAB']\n",
      "equations containing the variables 'ACAF', 'ACAG' or 'AOUC':\n",
      " ['ACAF', 'ACAG', 'AOUC', 'FLF', 'FLG', 'PC', 'PIF', 'PXS', 'QXAB']\n"
     ]
    }
   ],
   "source": [
    "# list of equations containing the scalar 'acaf1'\n",
    "eq_list = equations.search(\"acaf1\")\n",
    "print(\"equations containing the scalar 'acaf1':\", eq_list)\n",
    "\n",
    "# list of equations containing the variable 'AOUC'\n",
    "eq_list = equations.search(\"AOUC\")\n",
    "print(\"equations containing the variable 'AOUC':\", eq_list)\n",
    "\n",
    "# list of equations containing either the variable 'ACAF', 'ACAG' or 'AOUC'\n",
    "eq_set = set()\n",
    "for var in [\"ACAF\", \"ACAG\", \"AOUC\"]:\n",
    "    eq_set |= set(equations.search(var))\n",
    "eq_list = sorted(list(eq_set))\n",
    "print(\"equations containing the variables 'ACAF', 'ACAG' or 'AOUC':\\n\", eq_list)"
   ]
  },
  {
   "cell_type": "markdown",
   "metadata": {},
   "source": [
    "### Get IODE Objects Referenced In Other IODE Objects\n",
    "\n",
    "To get the list of IODE objects referenced in another IODE object, use the [search](../_generated/iode.Equations.search.rst#iode.Equations.search) method. For instance, it can be used to get the list of equations containing a specific scalar or variable:"
   ]
  },
  {
   "cell_type": "code",
   "execution_count": 214,
   "metadata": {},
   "outputs": [
    {
     "name": "stdout",
     "output_type": "stream",
     "text": [
      "comments containing the word 'Croissance':\n",
      " ['XNATY', 'XPOIL', 'XPWMAB', 'XPWXAB', 'XQWXSS', 'XTFP']\n",
      "tables containing the word 'Croissance':\n",
      " ['ANAKNFF', 'C8_5', 'C9_1', 'C9_4', 'T1', 'XQBBP']\n"
     ]
    }
   ],
   "source": [
    "# list of comments containing the word 'Croissance'\n",
    "cmt_list = comments.search(\"Croissance\")\n",
    "print(\"comments containing the word 'Croissance':\\n\", cmt_list)\n",
    "\n",
    "# list of tables containing the word 'Croissance'\n",
    "tbl_list = tables.search(\"Croissance\")\n",
    "print(\"tables containing the word 'Croissance':\\n\", tbl_list)"
   ]
  },
  {
   "cell_type": "markdown",
   "metadata": {},
   "source": [
    "### Plotting Variables\n",
    "\n",
    "To plot *variables*, you can use the [plot](../_generated/iode.Variables.plot.rst#iode.Variables.plot) method of the [variables](../_generated/iode.Variables.rst#iode.Variables) workspace:"
   ]
  },
  {
   "cell_type": "code",
   "execution_count": 215,
   "metadata": {},
   "outputs": [
    {
     "data": {
      "image/png": "[encoded data removed]",
      "text/plain": [
       "<Figure size 640x480 with 1 Axes>"
      ]
     },
     "metadata": {},
     "output_type": "display_data"
    },
    {
     "data": {
      "text/plain": [
       "<Axes: xlabel='periods', ylabel='values'>"
      ]
     },
     "execution_count": 215,
     "metadata": {},
     "output_type": "execute_result"
    }
   ],
   "source": [
    "vars_subset = variables[\"AOUC;AOUC_;AQC\"]\n",
    "vars_subset.plot()"
   ]
  },
  {
   "cell_type": "markdown",
   "metadata": {},
   "source": [
    "## Execute Identities\n",
    "\n",
    "To execute an identity, use the [execute()](../_generated/iode.Identities.execute.rst#iode.Identities.execute) method of the [identities](../_generated/iode.Identities.rst#iode.Identities) workspace:"
   ]
  },
  {
   "cell_type": "code",
   "execution_count": 216,
   "metadata": {},
   "outputs": [
    {
     "name": "stdout",
     "output_type": "stream",
     "text": [
      "Loading C:\\soft\\miniconda3\\Lib\\site-packages\\iode\\tests\\data/fun.idt\n",
      "48 objects loaded\n",
      "Loading C:\\soft\\miniconda3\\Lib\\site-packages\\iode\\tests\\data/fun.var\n",
      "394 objects loaded\n",
      "100*((QAF_/Q_F)-1)\n",
      "100*(QAFF_/(Q_F+Q_I))\n"
     ]
    },
    {
     "data": {
      "text/plain": [
       "Workspace: Variables\n",
       "nb variables: 2\n",
       "filename: c:\\soft\\miniconda3\\Lib\\site-packages\\iode\\tests\\data\\fun.var\n",
       "description: Modèle fun - Simulation 1                         \n",
       "sample: 1960Y1:2015Y1\n",
       "mode: LEVEL\n",
       "\n",
       "name\t1960Y1\t1961Y1\t1962Y1\t1963Y1\t1964Y1\t1965Y1\t...\t2009Y1\t2010Y1\t2011Y1\t2012Y1\t2013Y1\t2014Y1\t2015Y1\n",
       "GAP2\t  0.00\t  0.00\t  0.00\t  0.00\t  0.00\t  0.00\t...\t  0.00\t  0.00\t  0.00\t  0.00\t  0.00\t  0.00\t  0.00\n",
       "GAP_\t  0.00\t  0.00\t  0.00\t  0.00\t  0.00\t  0.00\t...\t  0.00\t  0.00\t  0.00\t  0.00\t  0.00\t  0.00\t  0.00"
      ]
     },
     "execution_count": 216,
     "metadata": {},
     "output_type": "execute_result"
    }
   ],
   "source": [
    "identities.load(f\"{Sample_DATA_DIR}/fun.idt\")\n",
    "variables.load(f\"{Sample_DATA_DIR}/fun.var\")\n",
    "\n",
    "print(identities[\"GAP_\"])\n",
    "print(identities[\"GAP2\"])\n",
    "\n",
    "# reset variables GAP_ and GAP2\n",
    "variables[\"GAP_\"] = 0.\n",
    "variables[\"GAP2\"] = 0.  \n",
    "variables[\"GAP_;GAP2\"] \n"
   ]
  },
  {
   "cell_type": "code",
   "execution_count": 217,
   "metadata": {},
   "outputs": [
    {
     "data": {
      "text/plain": [
       "Workspace: Variables\n",
       "nb variables: 2\n",
       "filename: c:\\soft\\miniconda3\\Lib\\site-packages\\iode\\tests\\data\\fun.var\n",
       "description: Modèle fun - Simulation 1                         \n",
       "sample: 1960Y1:2015Y1\n",
       "mode: LEVEL\n",
       "\n",
       "name\t1960Y1\t1961Y1\t1962Y1\t1963Y1\t1964Y1\t1965Y1\t...\t2009Y1\t2010Y1\t2011Y1\t2012Y1\t2013Y1\t2014Y1\t2015Y1\n",
       "GAP2\t 96.93\t 97.40\t 98.37\t 97.71\t100.88\t100.63\t...\t100.85\t100.54\t101.36\t102.19\t102.50\t102.15\t101.59\n",
       "GAP_\t -3.20\t -3.98\t -2.12\t -2.65\t -0.23\t -0.65\t...\t  1.96\t  1.61\t  2.61\t  3.61\t  4.06\t  3.78\t  3.24"
      ]
     },
     "execution_count": 217,
     "metadata": {},
     "output_type": "execute_result"
    }
   ],
   "source": [
    "# compute GAP_ and GAP2 (assuming Scalars and Variables are already loaded)\n",
    "identities.execute(\"GAP_;GAP2\")\n",
    "variables[\"GAP_;GAP2\"] "
   ]
  },
  {
   "cell_type": "code",
   "execution_count": 218,
   "metadata": {},
   "outputs": [
    {
     "data": {
      "text/plain": [
       "Workspace: Variables\n",
       "nb variables: 2\n",
       "filename: c:\\soft\\miniconda3\\Lib\\site-packages\\iode\\tests\\data\\fun.var\n",
       "description: Modèle fun - Simulation 1                         \n",
       "sample: 1998Y1:2007Y1\n",
       "mode: LEVEL\n",
       "\n",
       "name\t1998Y1\t1999Y1\t2000Y1\t2001Y1\t2002Y1\t2003Y1\t2004Y1\t2005Y1\t2006Y1\t2007Y1\n",
       "GAP2\t  0.00\t  0.00\t104.61\t103.06\t102.17\t102.82\t104.47\t104.36\t  0.00\t  0.00\n",
       "GAP_\t  0.00\t  0.00\t  4.51\t  3.31\t  2.62\t  3.46\t  5.48\t  5.58\t  0.00\t  0.00"
      ]
     },
     "execution_count": 218,
     "metadata": {},
     "output_type": "execute_result"
    }
   ],
   "source": [
    "# compute GAP_ and GAP2 over a subset of the sample\n",
    "variables[\"GAP_\"] = 0.\n",
    "variables[\"GAP2\"] = 0.\n",
    "identities.execute(\"GAP_;GAP2\", \"2000Y1\", \"2005Y1\")\n",
    "variables[\"GAP_;GAP2\", \"1998Y1:2007Y1\"] "
   ]
  },
  {
   "cell_type": "markdown",
   "metadata": {},
   "source": [
    "## Arithmetic Operations On Variables"
   ]
  },
  {
   "cell_type": "code",
   "execution_count": 219,
   "metadata": {},
   "outputs": [
    {
     "name": "stdout",
     "output_type": "stream",
     "text": [
      "Loading C:\\soft\\miniconda3\\Lib\\site-packages\\iode\\tests\\data/fun.var\n",
      "394 objects loaded\n"
     ]
    },
    {
     "data": {
      "text/plain": [
       "Workspace: Variables\n",
       "nb variables: 5\n",
       "filename: c:\\soft\\miniconda3\\Lib\\site-packages\\iode\\tests\\data\\fun.var\n",
       "description: Modèle fun - Simulation 1                         \n",
       "sample: 1991Y1:1995Y1\n",
       "mode: LEVEL\n",
       "\n",
       " name\t1991Y1\t1992Y1\t1993Y1\t1994Y1\t1995Y1\n",
       "ACAF \t 26.24\t 30.16\t 34.66\t  8.16\t-13.13\n",
       "ACAG \t-30.93\t-40.29\t-43.16\t-16.03\t-41.85\n",
       "AOUC \t  1.02\t  1.03\t  1.03\t  1.05\t  1.05\n",
       "AOUC_\t  0.96\t  0.97\t  0.98\t  0.99\t  1.00\n",
       "AQC  \t  1.06\t  1.11\t  1.15\t  1.16\t  1.16"
      ]
     },
     "execution_count": 219,
     "metadata": {},
     "output_type": "execute_result"
    }
   ],
   "source": [
    "# reload variables to start from a clean state\n",
    "variables.load(f\"{Sample_DATA_DIR}/fun.var\")\n",
    "\n",
    "# select a subset of variables for the examples below\n",
    "vars_subset = variables[\"A*\", \"1991Y1:1995Y1\"]\n",
    "vars_subset"
   ]
  },
  {
   "cell_type": "markdown",
   "metadata": {},
   "source": [
    "### With a float"
   ]
  },
  {
   "cell_type": "code",
   "execution_count": 220,
   "metadata": {},
   "outputs": [
    {
     "data": {
      "text/plain": [
       "Workspace: Variables\n",
       "nb variables: 5\n",
       "filename: c:\\soft\\miniconda3\\Lib\\site-packages\\iode\\tests\\data\\fun.var\n",
       "description: Modèle fun - Simulation 1                         \n",
       "sample: 1991Y1:1995Y1\n",
       "mode: LEVEL\n",
       "\n",
       " name\t1991Y1\t1992Y1\t1993Y1\t1994Y1\t1995Y1\n",
       "ACAF \t 28.24\t 32.16\t 36.66\t 10.16\t-11.13\n",
       "ACAG \t-28.93\t-38.29\t-41.16\t-14.03\t-39.85\n",
       "AOUC \t  3.02\t  3.03\t  3.03\t  3.05\t  3.05\n",
       "AOUC_\t  2.96\t  2.97\t  2.98\t  2.99\t  3.00\n",
       "AQC  \t  3.06\t  3.11\t  3.15\t  3.16\t  3.16"
      ]
     },
     "execution_count": 220,
     "metadata": {},
     "output_type": "execute_result"
    }
   ],
   "source": [
    "# add a scalar to all values of a subset of variables\n",
    "new_vars_subset = vars_subset + 2.0\n",
    "new_vars_subset"
   ]
  },
  {
   "cell_type": "markdown",
   "metadata": {},
   "source": [
    "### Between (Subsets Of) Variables Objects"
   ]
  },
  {
   "cell_type": "code",
   "execution_count": 221,
   "metadata": {},
   "outputs": [
    {
     "data": {
      "text/plain": [
       "Workspace: Variables\n",
       "nb variables: 5\n",
       "filename: c:\\soft\\miniconda3\\Lib\\site-packages\\iode\\tests\\data\\fun.var\n",
       "description: Modèle fun - Simulation 1                         \n",
       "sample: 1991Y1:1995Y1\n",
       "mode: LEVEL\n",
       "\n",
       " name\t1991Y1\t1992Y1\t1993Y1\t1994Y1\t1995Y1\n",
       "ACAF \t 52.48\t 60.32\t 69.32\t 16.32\t-26.26\n",
       "ACAG \t-61.87\t-80.57\t-86.32\t-32.06\t-83.69\n",
       "AOUC \t  2.05\t  2.06\t  2.06\t  2.09\t  2.10\n",
       "AOUC_\t  1.93\t  1.95\t  1.96\t  1.98\t  1.99\n",
       "AQC  \t  2.13\t  2.22\t  2.31\t  2.31\t  2.32"
      ]
     },
     "execution_count": 221,
     "metadata": {},
     "output_type": "execute_result"
    }
   ],
   "source": [
    "# add two subsets of variables\n",
    "new_vars_subset = vars_subset + vars_subset\n",
    "new_vars_subset"
   ]
  },
  {
   "cell_type": "markdown",
   "metadata": {},
   "source": [
    "### With pandas Series or DataFrame\n",
    "\n",
    "See the `Arithmetic Operations On Variables With pandas Series And DataFrames` section from the [IODE and pandas](pandas.ipynb) tutorial for more details."
   ]
  },
  {
   "cell_type": "markdown",
   "metadata": {},
   "source": [
    "### With larray Arrays\n",
    "\n",
    "See the `Arithmetic Operations On Variables With larray Array objects` section from the [IODE and larray](larray.ipynb) tutorial for more details."
   ]
  },
  {
   "cell_type": "markdown",
   "metadata": {},
   "source": [
    "### With numpy ndarrays\n",
    "\n",
    "See the `Arithmetic Operations On Variables With numpy ndarray objects` section from the [IODE and numpy](numpy.ipynb) tutorial for more details."
   ]
  },
  {
   "cell_type": "markdown",
   "metadata": {},
   "source": [
    "## Estimation\n",
    "\n",
    "To estimate either one equation or a block of equations, use the [estimate](../_generated/iode.Equation.estimate.rst#iode.Equation.estimate) method of the [Equation](../_generated/iode.Equation.rst#iode.Equation) class or the [estimate](../_generated/iode.Equations.estimate.rst#iode.Equations.estimate) method of the [Equations](../_generated/iode.Equations.rst#iode.Equations) workspace:\n",
    "\n",
    "Calling the `estimate(from_period, to_period, list_eqs, quiet)` method estimates an equation or a block of equations in the specified periods range.\n",
    "\n",
    "At the end of the estimation process, certain variables and scalars are automatically created \n",
    "if the process has converged. These variables and scalars can be used for computational purposes and, \n",
    "as they are part of the global workspace, can be saved for future use.\n",
    "\n",
    "The tests resulting from the last estimation are saved as scalars. The same applies to residuals, \n",
    "left-hand and right-hand members of equations.\n",
    "\n",
    "Saved tests (as scalars) have the following names (`e<ith>_*` for the <ith> equation of the block):\n",
    "\n",
    "  * `e<ith>_n`  : number of sample periods \n",
    "  * `e<ith>_k`  : number of estimated coefficients \n",
    "  * `e<ith>_stdev` : std dev of residuals \n",
    "  * `e<ith>_meany` : mean of Y \n",
    "  * `e<ith>_ssres` : sum of squares of residuals \n",
    "  * `e<ith>_stderr` : std error \n",
    "  * `e<ith>_stderrp` : std error percent (in %) \n",
    "  * `e<ith>_fstat` : F-Stat \n",
    "  * `e<ith>_r2`  : R square \n",
    "  * `e<ith>_r2adj`  : adjusted R-squared \n",
    "  * `e<ith>_dw` : Durbin-Watson \n",
    "  * `e<ith>_loglik`  : Log Likelihood \n",
    "\n",
    "Calculated series are saved in special variables:\n",
    "\n",
    "  * `_YCALC<i>` : right-hand side of the <ith> equation in the block\n",
    "  * `_YOBS<i>` : left-hand side of the <ith> equation in the block \n",
    "  * `_YRES<i>` : residuals of the <ith> equation of the block \n",
    "\n",
    "Outside the estimation sample, the series values are `NA`."
   ]
  },
  {
   "cell_type": "markdown",
   "metadata": {},
   "source": [
    "Let's start by reloading all workspaces:"
   ]
  },
  {
   "cell_type": "code",
   "execution_count": 222,
   "metadata": {},
   "outputs": [
    {
     "name": "stdout",
     "output_type": "stream",
     "text": [
      "Loading C:\\soft\\miniconda3\\Lib\\site-packages\\iode\\tests\\data/fun.cmt\n",
      "317 objects loaded\n",
      "Loading C:\\soft\\miniconda3\\Lib\\site-packages\\iode\\tests\\data/fun.eqs\n",
      "274 objects loaded\n",
      "Loading C:\\soft\\miniconda3\\Lib\\site-packages\\iode\\tests\\data/fun.idt\n",
      "48 objects loaded\n",
      "Loading C:\\soft\\miniconda3\\Lib\\site-packages\\iode\\tests\\data/fun.lst\n",
      "17 objects loaded\n",
      "Loading C:\\soft\\miniconda3\\Lib\\site-packages\\iode\\tests\\data/fun.scl\n",
      "161 objects loaded\n",
      "Loading C:\\soft\\miniconda3\\Lib\\site-packages\\iode\\tests\\data/fun.tbl\n",
      "46 objects loaded\n",
      "Loading C:\\soft\\miniconda3\\Lib\\site-packages\\iode\\tests\\data/fun.var\n",
      "394 objects loaded\n"
     ]
    }
   ],
   "source": [
    "comments.load(f\"{Sample_DATA_DIR}/fun.cmt\")\n",
    "equations.load(f\"{Sample_DATA_DIR}/fun.eqs\")\n",
    "identities.load(f\"{Sample_DATA_DIR}/fun.idt\")\n",
    "lists.load(f\"{Sample_DATA_DIR}/fun.lst\")\n",
    "scalars.load(f\"{Sample_DATA_DIR}/fun.scl\")\n",
    "tables.load(f\"{Sample_DATA_DIR}/fun.tbl\")\n",
    "variables.load(f\"{Sample_DATA_DIR}/fun.var\")"
   ]
  },
  {
   "cell_type": "markdown",
   "metadata": {},
   "source": [
    "Example for one equation:"
   ]
  },
  {
   "cell_type": "code",
   "execution_count": 223,
   "metadata": {},
   "outputs": [
    {
     "name": "stdout",
     "output_type": "stream",
     "text": [
      "ACAF equation LEC: (ACAF/VAF[-1]) :=acaf1+acaf2*GOSF[-1]+\n",
      "acaf4*(TIME=1995)\n",
      "ACAF equations coefficients (= scalars): ['acaf1', 'acaf2', 'acaf4']\n",
      "ACAF equations variables: ['ACAF', 'VAF', 'GOSF', 'TIME']\n",
      "scalars names in scalars_copy: ['acaf1', 'acaf2', 'acaf4']\n",
      "Estimating : iteration 1 (||eps|| = 0.173205)\n",
      "\n",
      "Estimating : iteration 2 (||eps|| = 5.16075e-09)\n",
      "\n",
      "Solution reached after 2 iteration(s). Creating results file ...\n",
      "\n",
      "Estimating : iteration 1 (||eps|| = 7.05003e-13)\n",
      "\n",
      "Solution reached after 1 iteration(s). Creating results file ...\n",
      "\n",
      "Equation estimation success: True\n",
      "Resulting values for the coefficient 'acaf1': Scalar(0.0157705, 1, 0.00136949)\n",
      "Resulting values for the coefficient 'acaf2': Scalar(-7.96505e-06, 1, 1.48247e-06)\n",
      "Resulting values for the coefficient 'acaf4': Scalar(-0.0085027, 1, 0.00208257)\n"
     ]
    }
   ],
   "source": [
    "# ---- estimate coefficients of one equation ----\n",
    "print(f\"ACAF equation LEC: {equations['ACAF'].lec}\")\n",
    "print(f\"ACAF equations coefficients (= scalars): {equations['ACAF'].coefficients}\")\n",
    "print(f\"ACAF equations variables: {equations['ACAF'].variables}\")\n",
    "\n",
    "# copy the original values of the coefficients into an isolated scalars workspace\n",
    "# Useful to restore the original values if the estimation process didn't go well\n",
    "scalars_copy = scalars[equations['ACAF'].coefficients].copy()\n",
    "print(f\"scalars names in scalars_copy: {scalars_copy.names}\")\n",
    "\n",
    "# reset scalars\n",
    "for name in equations['ACAF'].coefficients:\n",
    "    scalars[name] = 0., 1.\n",
    "\n",
    "# estimate the 'ACAF' equation for the periods ranging from '1980Y1' to '1996Y1'\n",
    "success = equations.estimate(\"1980Y1\", \"1996Y1\", \"ACAF\")\n",
    "# or equivalently\n",
    "success = equations[\"ACAF\"].estimate(\"1980Y1\", \"1996Y1\")\n",
    "print(f\"Equation estimation success: {success}\")\n",
    "\n",
    "print(f\"Resulting values for the coefficient 'acaf1': {scalars['acaf1']}\")\n",
    "print(f\"Resulting values for the coefficient 'acaf2': {scalars['acaf2']}\")\n",
    "print(f\"Resulting values for the coefficient 'acaf4': {scalars['acaf4']}\")"
   ]
  },
  {
   "cell_type": "markdown",
   "metadata": {},
   "source": [
    "Example for a block of equations:"
   ]
  },
  {
   "cell_type": "code",
   "execution_count": 224,
   "metadata": {},
   "outputs": [
    {
     "name": "stdout",
     "output_type": "stream",
     "text": [
      "ACAF equation LEC: (ACAF/VAF[-1]) :=acaf1+acaf2*GOSF[-1]+\n",
      "acaf4*(TIME=1995)\n",
      "ACAF equations coefficients (= scalars): ['acaf1', 'acaf2', 'acaf4']\n",
      "ACAF equations variables: ['ACAF', 'VAF', 'GOSF', 'TIME']\n",
      "DPUH equation LEC: dln (DPUH/DPUHO):=dpuh_1+dpuh_2*dln(IHU/PI5)+dln PC\n",
      "DPUH equations coefficients (= scalars): ['dpuh_1', 'dpuh_2']\n",
      "DPUH equations variables: ['DPUH', 'DPUHO', 'IHU', 'PI5', 'PC']\n",
      "scalars names in scalars_copy: ['acaf1', 'acaf2', 'acaf4', 'dpuh_1', 'dpuh_2']\n",
      "Estimating : iteration 1 (||eps|| = 0.223607)\n",
      "\n",
      "Estimating : iteration 2 (||eps|| = 5.16075e-09)\n",
      "\n",
      "Solution reached after 2 iteration(s). Creating results file ...\n",
      "\n",
      "Estimating : iteration 1 (||eps|| = 4.38565e-12)\n",
      "\n",
      "Solution reached after 1 iteration(s). Creating results file ...\n",
      "\n",
      "Block estimation success: True\n",
      "Resulting values for the coefficient 'acaf1': Scalar(0.0157705, 1, 0.00136079)\n",
      "Resulting values for the coefficient 'acaf2': Scalar(-7.96505e-06, 1, 1.47188e-06)\n",
      "Resulting values for the coefficient 'acaf4': Scalar(-0.0085027, 1, 0.00206603)\n",
      "Resulting values for the coefficient 'dpuh_1': Scalar(0.0109855, 1, 0.00481857)\n",
      "Resulting values for the coefficient 'dpuh_2': Scalar(0.0574893, 1, 0.0368951)\n"
     ]
    }
   ],
   "source": [
    "# ---- estimate a block of equations ----\n",
    "print(f\"ACAF equation LEC: {equations['ACAF'].lec}\")\n",
    "print(f\"ACAF equations coefficients (= scalars): {equations['ACAF'].coefficients}\")\n",
    "print(f\"ACAF equations variables: {equations['ACAF'].variables}\")\n",
    "print(f\"DPUH equation LEC: {equations['DPUH'].lec}\")\n",
    "print(f\"DPUH equations coefficients (= scalars): {equations['DPUH'].coefficients}\")\n",
    "print(f\"DPUH equations variables: {equations['DPUH'].variables}\")\n",
    "\n",
    "# copy the original values of the coefficients into an isolated scalars workspace\n",
    "# Useful to restore the original values if the estimation process didn't go well\n",
    "scalars_names = equations['ACAF'].coefficients + equations['DPUH'].coefficients\n",
    "scalars_names = list(set(scalars_names))   # removed duplicates\n",
    "scalars_copy = scalars[scalars_names].copy()\n",
    "print(f\"scalars names in scalars_copy: {scalars_copy.names}\")\n",
    "\n",
    "# reset scalars\n",
    "for name in equations['ACAF'].coefficients:\n",
    "    scalars[name] = 0., 1.\n",
    "for name in equations['DPUH'].coefficients:\n",
    "    scalars[name] = 0., 1.\n",
    "\n",
    "# prepare equations (same block and method)\n",
    "block = \"ACAF;DPUH\"\n",
    "for name in block.split(\";\"):\n",
    "    equations[name] = {\"block\": block, \"method\": \"LSQ\"}\n",
    "\n",
    "# estimation the block 'ACAF;DPUH' for the periods ranging from '1980Y1' to '1996Y1'\n",
    "success = equations.estimate(\"1980Y1\", \"1996Y1\", block)\n",
    "print(f\"Block estimation success: {success}\")\n",
    "\n",
    "print(f\"Resulting values for the coefficient 'acaf1': {scalars['acaf1']}\")\n",
    "print(f\"Resulting values for the coefficient 'acaf2': {scalars['acaf2']}\")\n",
    "print(f\"Resulting values for the coefficient 'acaf4': {scalars['acaf4']}\")\n",
    "print(f\"Resulting values for the coefficient 'dpuh_1': {scalars['dpuh_1']}\")\n",
    "print(f\"Resulting values for the coefficient 'dpuh_2': {scalars['dpuh_2']}\")"
   ]
  },
  {
   "cell_type": "markdown",
   "metadata": {},
   "source": [
    "## Simulation\n",
    "\n",
    "To simulate a model, you must create and initialize an instance of the [Simulation](../_generated/iode.Simulation.rst#iode.Simulation) class.\n",
    "\n",
    "### Models\n",
    "\n",
    "IN IODE, a model is simply a list of equations. No other construction is necessary: in this way, to modify a model, the only thing to do is to modify the list that defines it. For example, if a model is logically divided into 5 blocks, 5 lists of equations will be defined:\n",
    "\n",
    "```\n",
    "BLOC1 : A, B, C, D\n",
    "BLOC2 : X, Y\n",
    "BLOC3 : C1, C2, C3, C4\n",
    "BLOC4 : X_A1, X_A2, X_A3\n",
    "BLOC5 : R1, R2, R3, S_12\n",
    "MODSIM : $BLOC1, $BLOC2, $BLOC3, $BLOC4, $BLOC5\n",
    "```\n",
    "\n",
    "To simulate a model, all equations of the model must have been loaded or created. In addition, all the variables and scalars used in the model equations must have been loaded or created. Values of exogenous variables and of scalar cannot be `NA` (*Not Available*) over the simulation periods.\n",
    "   \n",
    "### Exchange Endo-Exo\n",
    "\n",
    "It is possible to set endogenous-exogenous pairs for `goal seeking`. For each pair, the status of the variables is exchanged: endogenous becomes exogenous and vice versa. This enables the model to be run through known endogenous values and to deduce the necessary values for the associated exogenous variables. The exogenous variables take on the value calculated over the entire workspace period.\n",
    "See the documentation of the [model_exchange](../_generated/iode.Simulation.model_exchange.rst#iode.Simulation.model_exchange) method.\n",
    "\n",
    "### Newton-Raphson Algorithm\n",
    "\n",
    "When an equation is not explicitly defined in terms of its endogen, or when the endogen appears several times in the equation, the simulation algorithm tries to solve the equation using a Newton method. If this method fails, a secant method is used to find a solution to the equation. However, there is no guarantee that a solution will be found in every case. Non-continuous functions (singularities) such as:\n",
    "   \n",
    "$$\n",
    "X = a + \\frac{b}{X + 1}\n",
    "$$\n",
    "   \n",
    "may be impossible to solve around their singular point. For this type of problem, the only solution is to modify the form of the equation:\n",
    "   \n",
    "$$\n",
    "(X - a) * (X + 1) = b\n",
    "$$\n",
    " \n",
    "<div class=\"alert alert-warning\">\n",
    "<strong>Warning:</strong>\n",
    "\n",
    "a) As the endogenous variable of an equation carries the name of the equation, it is not possible to place in a model two equations with the same endogenous variable.\n",
    "  \n",
    "b) The order in which equations are introduced in the lists can influence the behavior of the simulation algorithm. As this is a Gauss-Seidel algorithm, the information calculated is used directly in the rest of the calculation. If *X* depends on *Y*, it's better to place *Y* before *X* in the list of equations.\n",
    "</div>\n"
   ]
  },
  {
   "cell_type": "markdown",
   "metadata": {},
   "source": [
    "### Examples"
   ]
  },
  {
   "cell_type": "code",
   "execution_count": 225,
   "metadata": {},
   "outputs": [
    {
     "name": "stdout",
     "output_type": "stream",
     "text": [
      "possible sort algorithms: ['CONNEX', 'BOTH', 'NONE']\n"
     ]
    }
   ],
   "source": [
    "from iode import SimulationSort\n",
    "\n",
    "print(f\"possible sort algorithms: {[member.name for member in SimulationSort]}\")"
   ]
  },
  {
   "cell_type": "code",
   "execution_count": 226,
   "metadata": {},
   "outputs": [
    {
     "name": "stdout",
     "output_type": "stream",
     "text": [
      "possible initialization methods: ['TM1', 'TM1_A', 'EXTRA', 'EXTRA_A', 'ASIS', 'TM1_NA', 'EXTRA_NA']\n"
     ]
    }
   ],
   "source": [
    "from iode import SimulationInitialization\n",
    "\n",
    "print(f\"possible initialization methods: {[member.name for member in SimulationInitialization]}\")"
   ]
  },
  {
   "cell_type": "code",
   "execution_count": 227,
   "metadata": {},
   "outputs": [
    {
     "name": "stdout",
     "output_type": "stream",
     "text": [
      "--- Simulation ---\n",
      "convergence_threshold = 0.001\n",
      "relax = 1.0\n",
      "max_nb_iterations = 100\n",
      "sort_algorithm = BOTH (Connex compon. + Triangulation)\n",
      "initialization_method = TM1 (Y := Y[-1], if Y null or NA)\n",
      "debug = False\n",
      "nb_passes = 5\n",
      "debug_newton = False\n",
      "------------------\n"
     ]
    }
   ],
   "source": [
    "from iode import Simulation\n",
    "\n",
    "# create and initialize a Simulation instance\n",
    "simu = Simulation(sort_algorithm=SimulationSort.BOTH, initialization_method=SimulationInitialization.TM1)\n",
    "print(simu)"
   ]
  },
  {
   "cell_type": "markdown",
   "metadata": {},
   "source": [
    "To run the simulation, call the [Simulation.model_simulate](../_generated/iode.Simulation.model_simulate.rst#iode.Simulation.model_simulate) method:"
   ]
  },
  {
   "cell_type": "code",
   "execution_count": 228,
   "metadata": {},
   "outputs": [
    {
     "name": "stdout",
     "output_type": "stream",
     "text": [
      "exogenous variable 'UY': UY := NATY-NDOMY-NIY-NGY-(EFXY-EFMY)-NFY\n",
      "endogenous variable 'XNATY': grt NATY\n",
      "exogenous variable 'UY' before simulation:\n",
      "Workspace: Variables\n",
      "nb variables: 1\n",
      "filename: c:\\soft\\miniconda3\\Lib\\site-packages\\iode\\tests\\data\\fun.var\n",
      "description: Modèle fun - Simulation 1                         \n",
      "sample: 1998Y1:2005Y1\n",
      "mode: LEVEL\n",
      "\n",
      "name\t1998Y1\t1999Y1\t2000Y1\t2001Y1\t2002Y1\t2003Y1\t2004Y1\t2005Y1\n",
      "UY  \t671.46\t647.39\t  0.00\t  0.00\t  0.00\t  0.00\t  0.00\t  0.00\n",
      "\n",
      "Simulation success: True\n",
      "exogenous variable 'UY' after simulation:\n",
      "Workspace: Variables\n",
      "nb variables: 1\n",
      "filename: c:\\soft\\miniconda3\\Lib\\site-packages\\iode\\tests\\data\\fun.var\n",
      "description: Modèle fun - Simulation 1                         \n",
      "sample: 1998Y1:2005Y1\n",
      "mode: LEVEL\n",
      "\n",
      "name\t1998Y1\t1999Y1\t2000Y1\t2001Y1\t2002Y1\t2003Y1\t2004Y1\t2005Y1\n",
      "UY  \t671.46\t647.39\t624.18\t645.05\t661.61\t676.56\t680.90\t682.99\n",
      "\n"
     ]
    }
   ],
   "source": [
    "print(f\"exogenous variable 'UY': {equations['UY'].lec}\")\n",
    "print(f\"endogenous variable 'XNATY': {identities['XNATY']}\")\n",
    "# reset values of exogenous variable\n",
    "variables[\"UY\", \"2000Y1:2015Y1\"] = 0.0\n",
    "\n",
    "print(f\"exogenous variable 'UY' before simulation:\\n{variables['UY', '1998Y1:2005Y1']}\")\n",
    "\n",
    "# run the simulation for the periods range '2000Y1' to '2015Y1'\n",
    "success = simu.model_simulate(\"2000Y1\", \"2015Y1\", quiet=True)\n",
    "print(f\"Simulation success: {success}\")\n",
    "\n",
    "print(f\"exogenous variable 'UY' after simulation:\\n{variables['UY', '1998Y1:2005Y1']}\")"
   ]
  },
  {
   "cell_type": "markdown",
   "metadata": {},
   "source": [
    "## Import/Export IODE workspaces from/to pandas Series and DataFrame\n",
    "\n",
    "To import / export the content of the `comments`, `identities` and `lists` workspaces from/to a pandas Series object, use the [from_series()](../_generated/iode.Comments.from_series.rst#iode.Comments.from_series) and [to_series()](../_generated/iode.Comments.to_series.rst#iode.Comments.to_series) methods. \n",
    "\n",
    "Alternatively, you can use the [series](../_generated/iode.Comments.series.rst#iode.Comments.series) property to export the content of the `comments`, `identities` and `lists` workspaces to a pandas Series object.\n",
    "\n",
    "For the examples, see the [pandas tutorial](pandas.ipynb)."
   ]
  },
  {
   "cell_type": "markdown",
   "metadata": {},
   "source": [
    "## Import/Export IODE Variables workspace from/to numpy ndarray\n",
    "\n",
    "To import / export the content of the `Variables` workspace (or a subset of it) from/to a numpy ndarray object, use the [from_numpy](../_generated/iode.Variables.from_numpy.rst#iode.Variables.from_numpy) and [to_numpy](../_generated/iode.Variables.to_numpy.rst#iode.Variables.to_numpy) methods.\n",
    "\n",
    "For the examples, see the [numpy tutorial](numpy.ipynb)."
   ]
  },
  {
   "cell_type": "markdown",
   "metadata": {},
   "source": [
    "## Import/Export the Variables workspace from/to LArray Array\n",
    "\n",
    "To import / export the content of the `variables` workspaces from/to an LArray Array object, use the [from_array()](../_generated/iode.Variables.from_array.rst#iode.Variables.from_array) and [to_array()](../_generated/iode.Variables.to_array.rst#iode.Variables.to_array) methods.\n",
    "\n",
    "For the examples, see the [larray tutorial](larray.ipynb)."
   ]
  },
  {
   "cell_type": "markdown",
   "metadata": {},
   "source": [
    "## Execute IODE report commands/files\n",
    "\n",
    "To run an IODE command, use the [execute_command()](../_generated/iode.execute_command.rst#iode.execute_command) function:"
   ]
  },
  {
   "cell_type": "code",
   "execution_count": 229,
   "metadata": {},
   "outputs": [
    {
     "name": "stdout",
     "output_type": "stream",
     "text": [
      "Execute IODE commands (useful for IODE functions and commands not yet ported to Python):\n",
      "Saving test_var.av\n",
      "sample 2000Y1 2005Y1\n",
      "A 1 2 3 4 5 6 \n",
      "B -1 0 1 2 3 4 \n",
      "C -1 na 3 2 1.66666666666667 1.5 \n",
      "D na 100 50 33.3333333333333 25 20 \n",
      "\n"
     ]
    }
   ],
   "source": [
    "from iode import execute_command\n",
    "\n",
    "# ---- execute IODE commands ----\n",
    "print(\"Execute IODE commands (useful for IODE functions and commands not yet ported to Python):\")\n",
    "execute_command(\"$WsClearVar\")\n",
    "execute_command(\"$WsSample 2000Y1 2005Y1\")\n",
    "execute_command(\"$DataCalcVar A t+1\")\n",
    "execute_command(\"$DataCalcVar B t-1\")\n",
    "execute_command(\"$DataCalcVar C A/B\")\n",
    "execute_command(\"$DataCalcVar D grt A\")\n",
    "execute_command(\"$WsSaveVar test_var.av\")\n",
    "with open(\"test_var.av\", \"r\") as f:\n",
    "    print(f.read())"
   ]
  },
  {
   "cell_type": "markdown",
   "metadata": {},
   "source": [
    "To run an entire IODE report (i.e. file with the '.rep' extension), call the [execute_report()](../_generated/iode.execute_report.rst#iode.execute_report) function:"
   ]
  },
  {
   "cell_type": "code",
   "execution_count": 230,
   "metadata": {},
   "outputs": [
    {
     "name": "stdout",
     "output_type": "stream",
     "text": [
      "Execute an IODE report -> execute_report()\n",
      "Saving test_var.av\n",
      "sample 2000Y1 2005Y1\n",
      "A 1 2 3 4 5 6 \n",
      "B -1 0 1 2 3 4 \n",
      "C -1 na 3 2 1.66666666666667 1.5 \n",
      "D na 100 50 33.3333333333333 25 20 \n",
      "\n"
     ]
    }
   ],
   "source": [
    "from iode import execute_report\n",
    "\n",
    "# ---- execute IODE reports ----\n",
    "print(\"Execute an IODE report -> execute_report()\")\n",
    "with open(\"create_var.rep\", \"w\") as f:\n",
    "    f.write(\"$WsClearVar\\n\")\n",
    "    f.write(\"$WsSample 2000Y1 2005Y1\\n\")\n",
    "    f.write(\"$DataCalcVar %1% t+1 \\n\")\n",
    "    f.write(\"$DataCalcVar %2% t-1 \\n\")\n",
    "    f.write(\"$DataCalcVar %3% %1%/%2%\\n\")\n",
    "    f.write(\"$DataCalcVar %4% grt %1% \\n\")\n",
    "    f.write(\"$WsSaveVar test_var.av\\n\")\n",
    "\n",
    "execute_report(\"create_var.rep\", [\"A\", \"B\", \"C\", \"D\"])\n",
    "\n",
    "with open(\"test_var.av\", \"r\") as f:\n",
    "    print(f.read())\n"
   ]
  },
  {
   "cell_type": "markdown",
   "metadata": {},
   "source": [
    "## Graphical User Interface\n",
    "\n",
    "It is possible to run the graphical user interface to view the content of the IODE workspace from any line of a Python script. Simply call the function [view_workspace()](../_generated/iode.view_workspace.rst#iode.view_workspace) to open the GUI."
   ]
  },
  {
   "cell_type": "markdown",
   "metadata": {},
   "source": [
    "Content of a Python script:\n",
    "\n",
    "```python\n",
    "from iode import view_workspace, ...\n",
    "\n",
    "... code here ...\n",
    "\n",
    "# To view the workspace, you can use the following command:\n",
    "view_workspace()\n",
    "\n",
    "# To open the graphical user interface showing the files \n",
    "# from a specific directory, pass the path to the directory \n",
    "# as an argument:\n",
    "view_workspace(\"path/to/your/directory\")\n",
    "\n",
    "... code here ...\n",
    "```"
   ]
  }
 ],
 "metadata": {
  "kernelspec": {
   "display_name": "base",
   "language": "python",
   "name": "python3"
  },
  "language_info": {
   "codemirror_mode": {
    "name": "ipython",
    "version": 3
   },
   "file_extension": ".py",
   "mimetype": "text/x-python",
   "name": "python",
   "nbconvert_exporter": "python",
   "pygments_lexer": "ipython3",
   "version": "3.12.9"
  }
 },
 "nbformat": 4,
 "nbformat_minor": 2
}
