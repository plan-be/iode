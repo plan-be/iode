{
 "cells": [
  {
   "cell_type": "markdown",
   "metadata": {},
   "source": [
    "# Getting Started\n",
    "\n",
    "The purpose of the present `Getting Started` section is to give a quick overview of the main objects, methods and functions of the Python `iode` library.\n",
    "To get a more detailed presentation of all capabilities of `iode`, read the next sections of the tutorial.\n",
    "    \n",
    "The [API Reference](../api.rst#api-reference) section of the documentation give you the list of all objects, methods and functions with their individual documentation and examples.\n",
    "\n",
    "The [Equivalence IODE Report Commands and IODE Python](../equivalence.rst#equivalence-iode-report-commands-and-iode-python) section contains *equivalence tables* between the IODE report syntax and the Python `iode` syntax."
   ]
  },
  {
   "cell_type": "markdown",
   "metadata": {},
   "source": [
    "To use the Python `iode` library, the first thing to do is to import objects and functions you need from it:"
   ]
  },
  {
   "cell_type": "code",
   "execution_count": 157,
   "metadata": {},
   "outputs": [],
   "source": [
    "import numpy as np\n",
    "import pandas as pd\n",
    "import larray as la\n",
    "\n",
    "from copy import copy\n",
    "from iode import (SAMPLE_DATA_DIR, comments, equations, identities, lists, scalars, \n",
    "                  tables, variables, Equation, Scalar, Table, EqMethod, Sample, NA)"
   ]
  },
  {
   "cell_type": "markdown",
   "metadata": {},
   "source": [
    "To know the version of the `iode` library installed on your machine, type:"
   ]
  },
  {
   "cell_type": "code",
   "execution_count": 158,
   "metadata": {},
   "outputs": [
    {
     "data": {
      "text/plain": [
       "'7.0.0'"
      ]
     },
     "execution_count": 158,
     "metadata": {},
     "output_type": "execute_result"
    }
   ],
   "source": [
    "from iode import __version__\n",
    "__version__"
   ]
  },
  {
   "cell_type": "markdown",
   "metadata": {},
   "source": [
    "To print the documentation of an object, method or function in a Python interactive console, use the `help()` function:"
   ]
  },
  {
   "cell_type": "code",
   "execution_count": 159,
   "metadata": {},
   "outputs": [
    {
     "name": "stdout",
     "output_type": "stream",
     "text": [
      "Help on method load in module iode.iode_database.abstract_database:\n",
      "\n",
      "load(filepath: str) method of iode.iode_database.equations_database.Equations instance\n",
      "    Load objects stored in file 'filepath' into the current database.\n",
      "    Erase the database before to load the file.\n",
      "    \n",
      "    Parameters\n",
      "    ----------\n",
      "    filepath: str\n",
      "        path to the file to load\n",
      "    \n",
      "    Examples\n",
      "    --------\n",
      "    >>> from iode import comments, equations, identities, lists, tables, scalars, variables\n",
      "    >>> from iode import SAMPLE_DATA_DIR\n",
      "    >>> comments.load(f\"{SAMPLE_DATA_DIR}/fun.cmt\")         # doctest: +ELLIPSIS, +NORMALIZE_WHITESPACE\n",
      "    Loading .../fun.cmt\n",
      "    317 objects loaded\n",
      "    \n",
      "    >>> equations.load(f\"{SAMPLE_DATA_DIR}/fun.eqs\")        # doctest: +ELLIPSIS, +NORMALIZE_WHITESPACE\n",
      "    Loading .../fun.eqs\n",
      "    274 objects loaded\n",
      "    \n",
      "    >>> identities.load(f\"{SAMPLE_DATA_DIR}/fun.idt\")       # doctest: +ELLIPSIS, +NORMALIZE_WHITESPACE\n",
      "    Loading .../fun.idt\n",
      "    48 objects loaded\n",
      "    \n",
      "    >>> lists.load(f\"{SAMPLE_DATA_DIR}/fun.lst\")            # doctest: +ELLIPSIS, +NORMALIZE_WHITESPACE\n",
      "    Loading .../fun.lst\n",
      "    17 objects loaded\n",
      "    \n",
      "    >>> tables.load(f\"{SAMPLE_DATA_DIR}/fun.tbl\")           # doctest: +ELLIPSIS, +NORMALIZE_WHITESPACE\n",
      "    Loading .../fun.tbl\n",
      "    46 objects loaded\n",
      "    \n",
      "    >>> scalars.load(f\"{SAMPLE_DATA_DIR}/fun.scl\")          # doctest: +ELLIPSIS, +NORMALIZE_WHITESPACE\n",
      "    Loading .../fun.scl\n",
      "    161 objects loaded\n",
      "    \n",
      "    >>> variables.load(f\"{SAMPLE_DATA_DIR}/fun.var\")        # doctest: +ELLIPSIS, +NORMALIZE_WHITESPACE\n",
      "    Loading .../fun.var\n",
      "    394 objects loaded\n",
      "\n"
     ]
    }
   ],
   "source": [
    "# ---- print documentation of a function or method ----\n",
    "help(equations.load)"
   ]
  },
  {
   "cell_type": "markdown",
   "metadata": {},
   "source": [
    "## Load IODE objects\n",
    "\n",
    "To load IODE objects from a binary file (i.e. with extension `.cmt`, `.eqs`, `.idt`, `.lst`, `.scl`, `.tbl`, `.var`) or from an ASCII file (i.e. with extension `.ac`, `.ae`, `.ai`, `.al`, `.as`, `.at`, `.av`), use the [load()](../_generated/iode.Comments.load.rst#iode.Comments.load) method of the corresponding object. For example:"
   ]
  },
  {
   "cell_type": "code",
   "execution_count": 160,
   "metadata": {},
   "outputs": [
    {
     "name": "stdout",
     "output_type": "stream",
     "text": [
      "Loading C:\\soft\\Miniconda3\\Lib\\site-packages\\iode\\tests\\data/fun.cmt\n",
      "317 objects loaded\n",
      "Loading C:\\soft\\Miniconda3\\Lib\\site-packages\\iode\\tests\\data/fun.eqs\n",
      "274 objects loaded\n",
      "Loading C:\\soft\\Miniconda3\\Lib\\site-packages\\iode\\tests\\data/fun.idt\n",
      "48 objects loaded\n",
      "Loading C:\\soft\\Miniconda3\\Lib\\site-packages\\iode\\tests\\data/fun.lst\n",
      "17 objects loaded\n",
      "Loading C:\\soft\\Miniconda3\\Lib\\site-packages\\iode\\tests\\data/fun.scl\n",
      "161 objects loaded\n",
      "Loading C:\\soft\\Miniconda3\\Lib\\site-packages\\iode\\tests\\data/fun.tbl\n",
      "46 objects loaded\n",
      "Loading C:\\soft\\Miniconda3\\Lib\\site-packages\\iode\\tests\\data/fun.var\n",
      "394 objects loaded\n"
     ]
    },
    {
     "data": {
      "text/plain": [
       "(317, 274, 48, 17, 161, 46, 394)"
      ]
     },
     "execution_count": 160,
     "metadata": {},
     "output_type": "execute_result"
    }
   ],
   "source": [
    "# ---- load equations, identities, scalars and variables ----\n",
    "# Note: test binary and ASCII 'fun' files are located in the 'SAMPLE_DATA_DIR' \n",
    "#       directory of the 'iode' package\n",
    "comments.load(f\"{SAMPLE_DATA_DIR}/fun.cmt\")\n",
    "equations.load(f\"{SAMPLE_DATA_DIR}/fun.eqs\")\n",
    "identities.load(f\"{SAMPLE_DATA_DIR}/fun.idt\")\n",
    "lists.load(f\"{SAMPLE_DATA_DIR}/fun.lst\")\n",
    "scalars.load(f\"{SAMPLE_DATA_DIR}/fun.scl\")\n",
    "tables.load(f\"{SAMPLE_DATA_DIR}/fun.tbl\")\n",
    "variables.load(f\"{SAMPLE_DATA_DIR}/fun.var\")\n",
    "\n",
    "# ---- print the number of objects present in the above workspaces ----\n",
    "len(comments), len(equations), len(identities), len(lists), len(scalars), len(tables), len(variables)"
   ]
  },
  {
   "cell_type": "markdown",
   "metadata": {},
   "source": [
    "## Save IODE objects\n",
    "\n",
    "To save the content of a workspace (or a subset of a workspace), use the [save()](../_generated/iode.Variables.save.rst#iode.Variables.save) method:"
   ]
  },
  {
   "cell_type": "code",
   "execution_count": 161,
   "metadata": {},
   "outputs": [
    {
     "name": "stdout",
     "output_type": "stream",
     "text": [
      "Saving c:\\usr\\Projects\\iode-1\\doc\\source\\tutorial\\equations.eqs\n",
      "274 objects saved\n",
      "Saving c:\\usr\\Projects\\iode-1\\doc\\source\\tutorial\\variables_subset.av\n",
      "Check content of the variables_subset.av file:\n",
      "\n",
      "sample 1960Y1 2015Y1\n",
      "ACAF na na na na na na na na na na 1.2130001 5.2020001 9.184 8.0790005 11.332 13.518001 15.784 16.544001 21.489 20.281 21.277 32.417999 24.446999 27.025002 24.504 27.560999 25.542 27.499001 25.353001 17.165001 23.771 26.240999 30.159 34.661999 8.1610022 -13.130997 32.171001 39.935799 29.645657 13.530404919696 10.0466107922005 2.86792273645546 -0.929212509051645 -6.09156498756888 -14.5820944628981 -26.5387895697886 -28.9872879825975 -33.3784257842954 -38.4095177823974 -37.4635096412738 -37.8274288322944 -44.5447926335432 -55.5592898172187 -68.8946543226201 -83.3406251108009 -96.4104198284833 \n",
      "ACAG na na na na na na na na na na -11.028999 -15.847 -19.288002 -21.814999 -25.447002 -24.618999 -27.770998 -28.839001 -29.434998 -30.411001 -30.353001 -41.060997 -31.178001 -32.604 -30.237003 -38.061001 -31.939999 -35.59 -37.238003 -25.991001 -28.1721855713507 -30.934 -40.285999 -43.157997 -16.029003 -41.845993 -40.237 -32.93 -38.345695 -39.8581741316036 -41.534786567348 18.9398011359783 19.9808148751188 21.0205021787734 22.0664755229642 23.1079621640615 24.1296371451098 25.1609090496654 26.1921114843413 27.2299551185986 28.2539289782105 29.2846003640349 30.3239611503116 31.3701388106954 32.4202988291984 33.469601344881 \n",
      "AQC 0.21753037 0.21544869 0.22228125 0.22953896 0.23653506 0.24732406 0.26255098 0.26907021 0.27206925 0.27986595 0.29396999 0.31906503 0.3426649 0.36655167 0.42489415 0.49478459 0.53812659 0.5841772 0.61441606 0.64528418 0.68947881 0.73596764 0.77532566 0.82384807 0.85829282 0.90006256 0.92794591 0.93221092 0.92874223 0.9445076 1 1.0628064 1.1102825 1.1532652 1.1571276 1.1616869 1.1580297 1.201328 1.2031082 1.34296996567459 1.33860285536454 1.37918824681718 1.40881646814855 1.4197045826264 1.40065205989326 1.39697298498842 1.39806354127729 1.40791333507892 1.42564487943834 1.44633167140609 1.46286836974508 1.4822736109441 1.51366597504599 1.55803878946449 1.61318116991651 1.67429057570213 \n",
      "BQY 31.777023 30.852692 30.352686 27.369537 26.937241 35.434574 37.147881 39.505711 42.182659 43.180264 53.083984 49.670918 53.546627 49.331879 50.91983 49.630653 53.96249 40.783443 35.963261 12.621698 -9.930582 -11.615362 -44.158623 -48.221375 -43.152462 -57.944221 -35.790237 -21.710344 -20.180235 -11.333452 -34.099998 -1.2597286 -13.746386 52.161541 66.625153 91.089355 104.67634 113.51928 116.18705 117.908447093342 119.955089852255 121.37741690021 121.700965506023 122.433025255743 124.490157052046 127.572355095553 129.818419511458 131.31355487699 132.020462612763 132.709142263746 133.959190039522 135.075585222668 135.597702367503 135.753159667506 135.968846903397 136.672483513679 \n",
      "BVY 7.1999998 7.0999999 7.1000004 6.6000004 6.8000002 9.3999996 10.3 11.3 12.4 13.3 17.200001 17 19.5 19.200001 22.300001 24.4 28.5 23.099998 21.299999 7.7999992 -6.3999977 -7.9000015 -32.100002 -37.099998 -34.900002 -49.699997 -31.799999 -19.700005 -18.699997 -10.987999 -34.099997 -1.3000031 -14.699997 58.100002 75.900002 105.5 123.2 135.6192 140.73978 144.858781845561 150.053352305841 155.895061264049 160.228327009897 164.690028964993 169.072563292021 173.128489782561 176.73460923165 180.338756120558 184.785317603043 189.533437819158 194.344845745399 199.148256821389 204.263448922459 210.010481935745 216.588822212895 224.043770177584 \n",
      "\n",
      "\n"
     ]
    }
   ],
   "source": [
    "# ---- save workspace (or subset) ----\n",
    "# save the whole workspace\n",
    "equations.save('equations.eqs')\n",
    "\n",
    "# save only a subset of the global variables workspace\n",
    "vars_subset = variables[[\"ACAF\", \"ACAG\", \"AQC\", \"BQY\", \"BVY\"]]\n",
    "vars_subset.save('variables_subset.av')    \n",
    "\n",
    "print(\"Check content of the variables_subset.av file:\\n\")\n",
    "with open(\"variables_subset.av\", \"r\") as f:\n",
    "    print(f.read())\n",
    "print()"
   ]
  },
  {
   "cell_type": "markdown",
   "metadata": {},
   "source": [
    "## Working with workspaces\n",
    "\n",
    "To get the list of objects names present in a workspace, use the [names](../_generated/iode.Comments.names.rst#iode.Comments.names) attribute of the workspace. \n",
    "For example:"
   ]
  },
  {
   "cell_type": "code",
   "execution_count": 162,
   "metadata": {},
   "outputs": [
    {
     "data": {
      "text/plain": [
       "['COPY',\n",
       " 'COPY0',\n",
       " 'COPY1',\n",
       " 'ENDO',\n",
       " 'ENDO0',\n",
       " 'ENDO1',\n",
       " 'ENVI',\n",
       " 'IDT',\n",
       " 'MAINEQ',\n",
       " 'MYLIST',\n",
       " 'TOTAL',\n",
       " 'TOTAL0',\n",
       " 'TOTAL1',\n",
       " 'XENVI',\n",
       " 'XSCENARIO',\n",
       " '_SCAL',\n",
       " '_SEARCH']"
      ]
     },
     "execution_count": 162,
     "metadata": {},
     "output_type": "execute_result"
    }
   ],
   "source": [
    "# get the list of all IODE lists\n",
    "lists.names"
   ]
  },
  {
   "cell_type": "markdown",
   "metadata": {},
   "source": [
    "To check if a name is present in a workspace, use the `in` operator. \n",
    "For example:"
   ]
  },
  {
   "cell_type": "code",
   "execution_count": 163,
   "metadata": {},
   "outputs": [
    {
     "name": "stdout",
     "output_type": "stream",
     "text": [
      "The 'ENVI' IODE list exists\n"
     ]
    }
   ],
   "source": [
    "if 'ENVI' in lists:\n",
    "    print(\"The 'ENVI' IODE list exists\")\n",
    "else:\n",
    "    print(\"'ENVI' IODE list not found\")"
   ]
  },
  {
   "cell_type": "markdown",
   "metadata": {},
   "source": [
    "To iterate over names of a workspace, simply use the Python syntax for the *for loop*:"
   ]
  },
  {
   "cell_type": "code",
   "execution_count": 164,
   "metadata": {},
   "outputs": [
    {
     "name": "stdout",
     "output_type": "stream",
     "text": [
      "Iterate over all IODE lists names in the Lists workspace:\n",
      "COPY\n",
      "COPY0\n",
      "COPY1\n",
      "ENDO\n",
      "ENDO0\n",
      "ENDO1\n",
      "ENVI\n",
      "IDT\n",
      "MAINEQ\n",
      "MYLIST\n",
      "TOTAL\n",
      "TOTAL0\n",
      "TOTAL1\n",
      "XENVI\n",
      "XSCENARIO\n",
      "_SCAL\n",
      "_SEARCH\n"
     ]
    }
   ],
   "source": [
    "print(\"Iterate over all IODE lists names in the Lists workspace:\")\n",
    "for name in lists:\n",
    "    print(name)"
   ]
  },
  {
   "cell_type": "markdown",
   "metadata": {},
   "source": [
    "To get the current used sample for the Variables, use the [sample](../_generated/iode.Variables.sample.rst#iode.Variables.sample) attribute of the [variables](../_generated/iode.Variables.rst#iode.Variables) workspace:"
   ]
  },
  {
   "cell_type": "code",
   "execution_count": 165,
   "metadata": {},
   "outputs": [
    {
     "data": {
      "text/plain": [
       "Sample(\"1960Y1:2015Y1\")"
      ]
     },
     "execution_count": 165,
     "metadata": {},
     "output_type": "execute_result"
    }
   ],
   "source": [
    "# current used sample\n",
    "variables.sample"
   ]
  },
  {
   "cell_type": "markdown",
   "metadata": {},
   "source": [
    "### Get - add - update - delete IODE object(s)\n",
    "\n",
    "In a similar way to Python dictionaries, you can [get](../_generated/iode.Equations.__getitem__.rst), [add](../_generated/iode.Equations.__setitem__.rst), [update](../_generated/iode.Equations.__setitem__.rst) and [delete](../_generated/iode.Equations.__delitem__.rst) IODE objects in a workspace using the `[]` operator.\n",
    "\n",
    "* To extract an IODE object from a workspace, use the syntax: `my_obj = workspace[name]`.\n",
    "* To add an IODE object to a workspace, use the syntax: `workspace[new_name] = new_obj`.\n",
    "* To update an IODE object in a workspace, use the syntax: `workspace[name] = new_value`.\n",
    "* To delete an IODE object from a workspace, use the syntax: `del workspace[name]`.\n",
    "\n",
    "To add or update IODE objects using:\n",
    "\n",
    "* a pandas Series or DataFrame, see the [pandas tutorial](./pandas.ipynb).\n",
    "* an larray Array, see the [larray tutorial](./larray.ipynb).\n",
    "* a numpy ndarray, see the [numpy tutorial](./numpy.ipynb)."
   ]
  },
  {
   "cell_type": "markdown",
   "metadata": {},
   "source": [
    "#### Comments"
   ]
  },
  {
   "cell_type": "markdown",
   "metadata": {},
   "source": [
    "Add one comment:"
   ]
  },
  {
   "cell_type": "code",
   "execution_count": 166,
   "metadata": {},
   "outputs": [
    {
     "data": {
      "text/plain": [
       "'A new comment'"
      ]
     },
     "execution_count": 166,
     "metadata": {},
     "output_type": "execute_result"
    }
   ],
   "source": [
    "comments[\"NEW\"] = \"A new comment\"\n",
    "comments[\"NEW\"]"
   ]
  },
  {
   "cell_type": "markdown",
   "metadata": {},
   "source": [
    "Update a comment:"
   ]
  },
  {
   "cell_type": "code",
   "execution_count": 167,
   "metadata": {},
   "outputs": [
    {
     "data": {
      "text/plain": [
       "'New Value'"
      ]
     },
     "execution_count": 167,
     "metadata": {},
     "output_type": "execute_result"
    }
   ],
   "source": [
    "comments[\"NEW\"] = \"New Value\"\n",
    "comments[\"NEW\"]"
   ]
  },
  {
   "cell_type": "markdown",
   "metadata": {},
   "source": [
    "Update multiple comments at once:"
   ]
  },
  {
   "cell_type": "code",
   "execution_count": 168,
   "metadata": {},
   "outputs": [
    {
     "data": {
      "text/plain": [
       "Workspace: Comments\n",
       "nb comments: 3\n",
       "filename: c:\\soft\\Miniconda3\\Lib\\site-packages\\iode\\tests\\data\\fun.cmt\n",
       "\n",
       "name\t       comments       \n",
       "ACAF\tUpdated ACAF from dict\n",
       "ACAG\tUpdated ACAG from dict\n",
       "AOUC\tUpdated AOUC from dict"
      ]
     },
     "execution_count": 168,
     "metadata": {},
     "output_type": "execute_result"
    }
   ],
   "source": [
    "# 1) using a dict of values\n",
    "values = {\"AOUC\": \"Updated AOUC from dict\", \"ACAF\": \"Updated ACAF from dict\", \n",
    "          \"ACAG\": \"Updated ACAG from dict\"}\n",
    "comments[\"ACAF, ACAG, AOUC\"] = values\n",
    "comments[\"ACAF, ACAG, AOUC\"]"
   ]
  },
  {
   "cell_type": "code",
   "execution_count": 169,
   "metadata": {},
   "outputs": [
    {
     "data": {
      "text/plain": [
       "Workspace: Comments\n",
       "nb comments: 3\n",
       "filename: c:\\soft\\Miniconda3\\Lib\\site-packages\\iode\\tests\\data\\fun.cmt\n",
       "\n",
       "name\t                    comments                    \n",
       "ACAF\tUpdated ACAF from another iode Comments database\n",
       "ACAG\tUpdated ACAG from another iode Comments database\n",
       "AOUC\tUpdated AOUC from another iode Comments database"
      ]
     },
     "execution_count": 169,
     "metadata": {},
     "output_type": "execute_result"
    }
   ],
   "source": [
    "# 2) using another Comments database (subset)\n",
    "comments_subset = comments[\"ACAF, ACAG, AOUC\"].copy()\n",
    "comments_subset[\"ACAF\"] = \"Updated ACAF from another iode Comments database\"\n",
    "comments_subset[\"ACAG\"] = \"Updated ACAG from another iode Comments database\"\n",
    "comments_subset[\"AOUC\"] = \"Updated AOUC from another iode Comments database\"\n",
    "comments[\"ACAF, ACAG, AOUC\"] = comments_subset\n",
    "comments[\"ACAF, ACAG, AOUC\"]"
   ]
  },
  {
   "cell_type": "markdown",
   "metadata": {},
   "source": [
    "Delete a comment:"
   ]
  },
  {
   "cell_type": "code",
   "execution_count": 170,
   "metadata": {},
   "outputs": [
    {
     "data": {
      "text/plain": [
       "['ACAF', 'ACAG', 'AOUC', 'AQC']"
      ]
     },
     "execution_count": 170,
     "metadata": {},
     "output_type": "execute_result"
    }
   ],
   "source": [
    "comments.get_names(\"A*\")"
   ]
  },
  {
   "cell_type": "code",
   "execution_count": 171,
   "metadata": {},
   "outputs": [
    {
     "data": {
      "text/plain": [
       "['ACAG', 'AOUC', 'AQC']"
      ]
     },
     "execution_count": 171,
     "metadata": {},
     "output_type": "execute_result"
    }
   ],
   "source": [
    "del comments[\"ACAF\"]\n",
    "comments.get_names(\"A*\")"
   ]
  },
  {
   "cell_type": "markdown",
   "metadata": {},
   "source": [
    "#### Equations"
   ]
  },
  {
   "cell_type": "markdown",
   "metadata": {},
   "source": [
    "Add one equation:"
   ]
  },
  {
   "cell_type": "code",
   "execution_count": 172,
   "metadata": {},
   "outputs": [
    {
     "data": {
      "text/plain": [
       "Equation(endogenous = 'TEST',\n",
       "         lec = 'TEST := 0',\n",
       "         method = 'LSQ',\n",
       "         from_period = '1960Y1',\n",
       "         to_period = '2015Y1')"
      ]
     },
     "execution_count": 172,
     "metadata": {},
     "output_type": "execute_result"
    }
   ],
   "source": [
    "equations[\"TEST\"] = \"TEST := 0\"\n",
    "equations[\"TEST\"]"
   ]
  },
  {
   "cell_type": "markdown",
   "metadata": {},
   "source": [
    "Update an equation:"
   ]
  },
  {
   "cell_type": "code",
   "execution_count": 173,
   "metadata": {},
   "outputs": [
    {
     "data": {
      "text/plain": [
       "Equation(endogenous = 'ACAF',\n",
       "         lec = '(ACAF/VAF[-1]) :=acaf1+acaf2*GOSF[-1]+\\nacaf4*(TIME=1995)',\n",
       "         method = 'LSQ',\n",
       "         from_period = '1980Y1',\n",
       "         to_period = '1996Y1',\n",
       "         block = 'ACAF',\n",
       "         tests = {corr = 1,\n",
       "                  dw = 2.32935,\n",
       "                  fstat = 32.2732,\n",
       "                  loglik = 83.8075,\n",
       "                  meany = 0.00818467,\n",
       "                  r2 = 0.821761,\n",
       "                  r2adj = 0.796299,\n",
       "                  ssres = 5.19945e-05,\n",
       "                  stderr = 0.00192715,\n",
       "                  stderrp = 23.5458,\n",
       "                  stdev = 0.0042699},\n",
       "         date = '12-06-1998')"
      ]
     },
     "execution_count": 173,
     "metadata": {},
     "output_type": "execute_result"
    }
   ],
   "source": [
    "equations[\"ACAF\"]"
   ]
  },
  {
   "cell_type": "code",
   "execution_count": 174,
   "metadata": {},
   "outputs": [
    {
     "data": {
      "text/plain": [
       "Equation(endogenous = 'ACAF',\n",
       "         lec = '(ACAF/VAF[-1]) := acaf1 + acaf2 * GOSF[-1] + acaf4 * (TIME=1995)',\n",
       "         method = 'LSQ',\n",
       "         from_period = '1980Y1',\n",
       "         to_period = '1996Y1',\n",
       "         block = 'ACAF')"
      ]
     },
     "execution_count": 174,
     "metadata": {},
     "output_type": "execute_result"
    }
   ],
   "source": [
    "# update only the LEC\n",
    "equations[\"ACAF\"] = \"(ACAF/VAF[-1]) := acaf1 + acaf2 * GOSF[-1] + acaf4 * (TIME=1995)\"\n",
    "equations[\"ACAF\"]"
   ]
  },
  {
   "cell_type": "code",
   "execution_count": 175,
   "metadata": {},
   "outputs": [
    {
     "data": {
      "text/plain": [
       "(Sample(\"2000Y1:2010Y1\"), Sample(\"2000Y1:2010Y1\"), Sample(\"2000Y1:2010Y1\"))"
      ]
     },
     "execution_count": 175,
     "metadata": {},
     "output_type": "execute_result"
    }
   ],
   "source": [
    "# update block and sample of a block of equations to estimation (dictionary)\n",
    "estim_sample = \"2000Y1:2010Y1\"\n",
    "block = \"ACAF; ACAG; AOUC\"\n",
    "for eq_name in block.split(';'):\n",
    "    equations[eq_name] = {\"sample\": estim_sample, \"block\": block}\n",
    "\n",
    "(equations[\"ACAF\"].sample, equations[\"ACAG\"].sample, equations[\"AOUC\"].sample)"
   ]
  },
  {
   "cell_type": "code",
   "execution_count": 176,
   "metadata": {},
   "outputs": [
    {
     "data": {
      "text/plain": [
       "('ACAF; ACAG; AOUC', 'ACAF; ACAG; AOUC', 'ACAF; ACAG; AOUC')"
      ]
     },
     "execution_count": 176,
     "metadata": {},
     "output_type": "execute_result"
    }
   ],
   "source": [
    "(equations[\"ACAF\"].block, equations[\"ACAG\"].block, equations[\"AOUC\"].block)"
   ]
  },
  {
   "cell_type": "code",
   "execution_count": 177,
   "metadata": {},
   "outputs": [
    {
     "data": {
      "text/plain": [
       "Equation(endogenous = 'ACAF',\n",
       "         lec = '(ACAF/VAF[-1]) := acaf2 * GOSF[-1] + acaf4 * (TIME=1995)',\n",
       "         method = 'MAX_LIKELIHOOD',\n",
       "         from_period = '1990Y1',\n",
       "         to_period = '2015Y1',\n",
       "         block = 'ACAF')"
      ]
     },
     "execution_count": 177,
     "metadata": {},
     "output_type": "execute_result"
    }
   ],
   "source": [
    "# update lec, method, sample and block\n",
    "equations[\"ACAF\"].lec = \"(ACAF/VAF[-1]) := acaf2 * GOSF[-1] + acaf4 * (TIME=1995)\"\n",
    "equations[\"ACAF\"].method = EqMethod.MAX_LIKELIHOOD\n",
    "# new equation sample is from 1990Y1 to the last year of Variables\n",
    "equations[\"ACAF\"].sample = \"1990Y1:\"\n",
    "equations[\"ACAF\"].block = \"ACAF\"\n",
    "equations[\"ACAF\"]"
   ]
  },
  {
   "cell_type": "markdown",
   "metadata": {},
   "source": [
    "Update multiple equations at once:"
   ]
  },
  {
   "cell_type": "code",
   "execution_count": 178,
   "metadata": {},
   "outputs": [
    {
     "data": {
      "text/plain": [
       "Workspace: Equations\n",
       "nb equations: 3\n",
       "filename: c:\\usr\\Projects\\iode-1\\doc\\source\\tutorial\\equations.eqs\n",
       "\n",
       "name\t                                     lec                                      \t method\t    sample   \tblock\tfstat \tr2adj \t  dw  \tloglik\tdate\n",
       "ACAF\t(ACAF/VAF[-1]) :=acaf1+acaf2*GOSF[-1]+ acaf4*(TIME=1995)                      \tZELLNER\t1980Y1:1996Y1\t     \t0.0000\t0.0000\t0.0000\t0.0000\t    \n",
       "ACAG\tACAG := ACAG[-1]+r VBBP[-1]+(0.006*VBBP[-1]*(TIME=2001)-0.008*(TIME=2008))    \tZELLNER\t1980Y1:1996Y1\t     \t0.0000\t0.0000\t0.0000\t0.0000\t    \n",
       "AOUC\tAOUC:=((WCRH/QL)/(WCRH/QL)[1990Y1])*(VAFF/(VM+VAFF))[-1]+PM*(VM/(VAFF+VM))[-1]\tZELLNER\t1980Y1:1996Y1\t     \t0.0000\t0.0000\t0.0000\t0.0000\t    "
      ]
     },
     "execution_count": 178,
     "metadata": {},
     "output_type": "execute_result"
    }
   ],
   "source": [
    "# 1) using a dict of values\n",
    "eq_ACAF = Equation(\"ACAF\", \"(ACAF/VAF[-1]) :=acaf1+acaf2*GOSF[-1]+ acaf4*(TIME=1995)\", \n",
    "                   method=EqMethod.ZELLNER, from_period='1980Y1', to_period='1996Y1')\n",
    "eq_ACAG = Equation(\"ACAG\", \"ACAG := ACAG[-1]+r VBBP[-1]+(0.006*VBBP[-1]*(TIME=2001)-0.008*(TIME=2008))\", \n",
    "                   method=EqMethod.ZELLNER, from_period='1980Y1', to_period='1996Y1')\n",
    "eq_AOUC = Equation(\"AOUC\", \"AOUC:=((WCRH/QL)/(WCRH/QL)[1990Y1])*(VAFF/(VM+VAFF))[-1]+PM*(VM/(VAFF+VM))[-1]\", \n",
    "                   method=EqMethod.ZELLNER, from_period='1980Y1', to_period='1996Y1')\n",
    "values = {\"ACAF\": eq_ACAF, \"ACAG\": eq_ACAG, \"AOUC\": eq_AOUC}\n",
    "equations[\"ACAF, ACAG, AOUC\"] = values\n",
    "equations[\"ACAF, ACAG, AOUC\"]"
   ]
  },
  {
   "cell_type": "code",
   "execution_count": 179,
   "metadata": {},
   "outputs": [
    {
     "data": {
      "text/plain": [
       "Workspace: Equations\n",
       "nb equations: 3\n",
       "filename: c:\\usr\\Projects\\iode-1\\doc\\source\\tutorial\\equations.eqs\n",
       "\n",
       "name\t                                     lec                                      \t    method    \t    sample   \tblock\tfstat \tr2adj \t  dw  \tloglik\tdate\n",
       "ACAF\t(ACAF/VAF[-1]) :=acaf1+acaf2*GOSF[-1]+ acaf4*(TIME=1995)                      \tMAX_LIKELIHOOD\t1980Y1:1996Y1\t     \t0.0000\t0.0000\t0.0000\t0.0000\t    \n",
       "ACAG\tACAG := ACAG[-1]+r VBBP[-1]+(0.006*VBBP[-1]*(TIME=2001)-0.008*(TIME=2008))    \tMAX_LIKELIHOOD\t1980Y1:1996Y1\t     \t0.0000\t0.0000\t0.0000\t0.0000\t    \n",
       "AOUC\tAOUC:=((WCRH/QL)/(WCRH/QL)[1990Y1])*(VAFF/(VM+VAFF))[-1]+PM*(VM/(VAFF+VM))[-1]\tMAX_LIKELIHOOD\t1980Y1:1996Y1\t     \t0.0000\t0.0000\t0.0000\t0.0000\t    "
      ]
     },
     "execution_count": 179,
     "metadata": {},
     "output_type": "execute_result"
    }
   ],
   "source": [
    "# 2) using another Equations database (subset)\n",
    "equations_subset = equations[\"ACAF, ACAG, AOUC\"].copy()\n",
    "equations_subset[\"ACAF\"].method = EqMethod.MAX_LIKELIHOOD\n",
    "equations_subset[\"ACAG\"].method = EqMethod.MAX_LIKELIHOOD\n",
    "equations_subset[\"AOUC\"].method = EqMethod.MAX_LIKELIHOOD\n",
    "equations[\"ACAF, ACAG, AOUC\"] = equations_subset\n",
    "equations[\"ACAF, ACAG, AOUC\"]"
   ]
  },
  {
   "cell_type": "markdown",
   "metadata": {},
   "source": [
    "Delete an equation:"
   ]
  },
  {
   "cell_type": "code",
   "execution_count": 180,
   "metadata": {},
   "outputs": [
    {
     "data": {
      "text/plain": [
       "['ACAF', 'ACAG', 'AOUC']"
      ]
     },
     "execution_count": 180,
     "metadata": {},
     "output_type": "execute_result"
    }
   ],
   "source": [
    "equations.get_names(\"A*\")"
   ]
  },
  {
   "cell_type": "code",
   "execution_count": 181,
   "metadata": {},
   "outputs": [
    {
     "data": {
      "text/plain": [
       "['ACAG', 'AOUC']"
      ]
     },
     "execution_count": 181,
     "metadata": {},
     "output_type": "execute_result"
    }
   ],
   "source": [
    "del equations[\"ACAF\"]\n",
    "equations.get_names(\"A*\")"
   ]
  },
  {
   "cell_type": "markdown",
   "metadata": {},
   "source": [
    "#### Identities"
   ]
  },
  {
   "cell_type": "markdown",
   "metadata": {},
   "source": [
    "Add one identity:"
   ]
  },
  {
   "cell_type": "code",
   "execution_count": 182,
   "metadata": {},
   "outputs": [
    {
     "data": {
      "text/plain": [
       "Identity('YN - YK')"
      ]
     },
     "execution_count": 182,
     "metadata": {},
     "output_type": "execute_result"
    }
   ],
   "source": [
    "identities[\"BDY\"] = \"YN - YK\"\n",
    "identities[\"BDY\"]"
   ]
  },
  {
   "cell_type": "markdown",
   "metadata": {},
   "source": [
    "Update an identity:"
   ]
  },
  {
   "cell_type": "code",
   "execution_count": 183,
   "metadata": {},
   "outputs": [
    {
     "data": {
      "text/plain": [
       "Identity('((WCRH/QL)/(WCRH/QL)[1990Y1])*(VAFF/(VM+VAFF))[-1]+PM*(VM/(VM+VAFF))[-1]')"
      ]
     },
     "execution_count": 183,
     "metadata": {},
     "output_type": "execute_result"
    }
   ],
   "source": [
    "identities[\"AOUC\"]"
   ]
  },
  {
   "cell_type": "code",
   "execution_count": 184,
   "metadata": {},
   "outputs": [
    {
     "data": {
      "text/plain": [
       "Identity('(WCRH / WCRH[1990Y1]) * (VAFF / (VM+VAFF))[-1] + PM * (VM / (VM+VAFF))[-1]')"
      ]
     },
     "execution_count": 184,
     "metadata": {},
     "output_type": "execute_result"
    }
   ],
   "source": [
    "identities[\"AOUC\"] = '(WCRH / WCRH[1990Y1]) * (VAFF / (VM+VAFF))[-1] + PM * (VM / (VM+VAFF))[-1]'\n",
    "identities[\"AOUC\"]"
   ]
  },
  {
   "cell_type": "markdown",
   "metadata": {},
   "source": [
    "Update multiple identities at once:"
   ]
  },
  {
   "cell_type": "code",
   "execution_count": 185,
   "metadata": {},
   "outputs": [
    {
     "data": {
      "text/plain": [
       "Workspace: Identities\n",
       "nb identities: 3\n",
       "filename: c:\\soft\\Miniconda3\\Lib\\site-packages\\iode\\tests\\data\\fun.idt\n",
       "\n",
       " name\t         identities        \n",
       "GAP2 \t0.9 * 100*(QAFF_/(Q_F+Q_I))\n",
       "GAP_ \t0.9 * 100*((QAF_/Q_F)-1)   \n",
       "GOSFR\t0.9 * (GOSF/VAF_)          "
      ]
     },
     "execution_count": 185,
     "metadata": {},
     "output_type": "execute_result"
    }
   ],
   "source": [
    "# 1) using a dict of values\n",
    "values = {\"GAP2\": \"0.9 * 100*(QAFF_/(Q_F+Q_I))\", \"GAP_\": \"0.9 * 100*((QAF_/Q_F)-1)\", \n",
    "          \"GOSFR\": \"0.9 * (GOSF/VAF_)\"}\n",
    "identities[\"GAP2, GAP_, GOSFR\"] = values\n",
    "identities[\"GAP2, GAP_, GOSFR\"]"
   ]
  },
  {
   "cell_type": "code",
   "execution_count": 186,
   "metadata": {},
   "outputs": [
    {
     "data": {
      "text/plain": [
       "Workspace: Identities\n",
       "nb identities: 3\n",
       "filename: c:\\soft\\Miniconda3\\Lib\\site-packages\\iode\\tests\\data\\fun.idt\n",
       "\n",
       " name\t         identities        \n",
       "GAP2 \t0.7 * 100*(QAFF_/(Q_F+Q_I))\n",
       "GAP_ \t0.7 * 100*((QAF_/Q_F)-1)   \n",
       "GOSFR\t0.7 * (GOSF/VAF_)          "
      ]
     },
     "execution_count": 186,
     "metadata": {},
     "output_type": "execute_result"
    }
   ],
   "source": [
    "# 2) using another Identities database (subset)\n",
    "identities_subset = identities[\"GAP2, GAP_, GOSFR\"].copy()\n",
    "identities_subset[\"GAP2\"] = \"0.7 * 100*(QAFF_/(Q_F+Q_I))\"\n",
    "identities_subset[\"GAP_\"] = \"0.7 * 100*((QAF_/Q_F)-1)\"\n",
    "identities_subset[\"GOSFR\"] = \"0.7 * (GOSF/VAF_)\"\n",
    "identities[\"GAP2, GAP_, GOSFR\"] = identities_subset\n",
    "identities[\"GAP2, GAP_, GOSFR\"]"
   ]
  },
  {
   "cell_type": "markdown",
   "metadata": {},
   "source": [
    "Delete an identity:"
   ]
  },
  {
   "cell_type": "code",
   "execution_count": 187,
   "metadata": {},
   "outputs": [
    {
     "data": {
      "text/plain": [
       "['W', 'WBGR', 'WCRH', 'WMINR', 'WO']"
      ]
     },
     "execution_count": 187,
     "metadata": {},
     "output_type": "execute_result"
    }
   ],
   "source": [
    "identities.get_names(\"W*\")"
   ]
  },
  {
   "cell_type": "code",
   "execution_count": 188,
   "metadata": {},
   "outputs": [
    {
     "data": {
      "text/plain": [
       "['WBGR', 'WCRH', 'WMINR', 'WO']"
      ]
     },
     "execution_count": 188,
     "metadata": {},
     "output_type": "execute_result"
    }
   ],
   "source": [
    "del identities[\"W\"]\n",
    "identities.get_names(\"W*\")"
   ]
  },
  {
   "cell_type": "markdown",
   "metadata": {},
   "source": [
    "#### Lists"
   ]
  },
  {
   "cell_type": "markdown",
   "metadata": {},
   "source": [
    "Add one list:"
   ]
  },
  {
   "cell_type": "code",
   "execution_count": 189,
   "metadata": {},
   "outputs": [
    {
     "data": {
      "text/plain": [
       "['ACAF', 'ACAG', 'AOUC', 'AOUC_', 'AQC']"
      ]
     },
     "execution_count": 189,
     "metadata": {},
     "output_type": "execute_result"
    }
   ],
   "source": [
    "# --- by passing a string\n",
    "lists[\"A_VAR\"] = \"ACAF;ACAG;AOUC;AOUC_;AQC\"\n",
    "lists[\"A_VAR\"]"
   ]
  },
  {
   "cell_type": "code",
   "execution_count": 190,
   "metadata": {},
   "outputs": [
    {
     "data": {
      "text/plain": [
       "['BENEF', 'BQY', 'BRUGP', 'BVY']"
      ]
     },
     "execution_count": 190,
     "metadata": {},
     "output_type": "execute_result"
    }
   ],
   "source": [
    "# --- by passing a Python list\n",
    "b_vars = variables.get_names(\"B*\")\n",
    "b_vars"
   ]
  },
  {
   "cell_type": "code",
   "execution_count": 191,
   "metadata": {},
   "outputs": [
    {
     "data": {
      "text/plain": [
       "['BENEF', 'BQY', 'BRUGP', 'BVY']"
      ]
     },
     "execution_count": 191,
     "metadata": {},
     "output_type": "execute_result"
    }
   ],
   "source": [
    "lists[\"B_VAR\"] = b_vars\n",
    "lists[\"B_VAR\"]"
   ]
  },
  {
   "cell_type": "markdown",
   "metadata": {},
   "source": [
    "Update a list:"
   ]
  },
  {
   "cell_type": "code",
   "execution_count": 192,
   "metadata": {},
   "outputs": [
    {
     "data": {
      "text/plain": [
       "['ACAF', 'ACAG', 'AOUC', 'AQC']"
      ]
     },
     "execution_count": 192,
     "metadata": {},
     "output_type": "execute_result"
    }
   ],
   "source": [
    "# --- by passing a string\n",
    "lists[\"A_VAR\"] = \"ACAF;ACAG;AOUC;AQC\"\n",
    "lists[\"A_VAR\"]"
   ]
  },
  {
   "cell_type": "code",
   "execution_count": 193,
   "metadata": {},
   "outputs": [
    {
     "data": {
      "text/plain": [
       "['BQY', 'BVY']"
      ]
     },
     "execution_count": 193,
     "metadata": {},
     "output_type": "execute_result"
    }
   ],
   "source": [
    "# --- by passing a Python list\n",
    "b_y_vars = variables.get_names(\"B*Y\")\n",
    "b_y_vars"
   ]
  },
  {
   "cell_type": "code",
   "execution_count": 194,
   "metadata": {},
   "outputs": [
    {
     "data": {
      "text/plain": [
       "['BQY', 'BVY']"
      ]
     },
     "execution_count": 194,
     "metadata": {},
     "output_type": "execute_result"
    }
   ],
   "source": [
    "lists[\"B_VAR\"] = b_y_vars\n",
    "lists[\"B_VAR\"]"
   ]
  },
  {
   "cell_type": "markdown",
   "metadata": {},
   "source": [
    "Update multiple lists at once:"
   ]
  },
  {
   "cell_type": "code",
   "execution_count": 195,
   "metadata": {},
   "outputs": [
    {
     "data": {
      "text/plain": [
       "Workspace: Lists\n",
       "nb lists: 3\n",
       "filename: c:\\soft\\Miniconda3\\Lib\\site-packages\\iode\\tests\\data\\fun.lst\n",
       "description: Modèle fun                                        \n",
       "\n",
       " name \t                                    lists                                    \n",
       "ENVI  \tPWMAB; PWMS; PWXAB; PWXS; QWXAB; QWXS; POIL; NATY                            \n",
       "IDT   \tFLGR; KL; PROD; QL; RDEBT; RENT; RLBER; SBGX; WCRH; IUGR; SBGXR; WBGR; YSFICR\n",
       "MAINEQ\tNFYH; KNFF; PC; PXAB; PMAB; QXAB; QMAB                                       "
      ]
     },
     "execution_count": 195,
     "metadata": {},
     "output_type": "execute_result"
    }
   ],
   "source": [
    "# 1) using a dict of values\n",
    "values = {\"ENVI\": \"PWMAB; PWMS; PWXAB; PWXS; QWXAB; QWXS; POIL; NATY\",\n",
    "          \"IDT\": \"FLGR; KL; PROD; QL; RDEBT; RENT; RLBER; SBGX; WCRH; IUGR; SBGXR; WBGR; YSFICR\",\n",
    "          \"MAINEQ\": \"NFYH; KNFF; PC; PXAB; PMAB; QXAB; QMAB\"}\n",
    "lists[\"ENVI, IDT, MAINEQ\"] = values\n",
    "lists[\"ENVI, IDT, MAINEQ\"]"
   ]
  },
  {
   "cell_type": "code",
   "execution_count": 196,
   "metadata": {},
   "outputs": [
    {
     "data": {
      "text/plain": [
       "Workspace: Lists\n",
       "nb lists: 3\n",
       "filename: c:\\soft\\Miniconda3\\Lib\\site-packages\\iode\\tests\\data\\fun.lst\n",
       "description: Modèle fun                                        \n",
       "\n",
       " name \t                        lists                        \n",
       "ENVI  \tPWXAB; PWXS; QWXAB; QWXS                             \n",
       "IDT   \tPROD; QL; RDEBT; RENT; RLBER; SBGX; WCRH; IUGR; SBGXR\n",
       "MAINEQ\tPC; PXAB; PMAB                                       "
      ]
     },
     "execution_count": 196,
     "metadata": {},
     "output_type": "execute_result"
    }
   ],
   "source": [
    "# 2) using another Lists database (subset)\n",
    "lists_subset = lists[\"ENVI, IDT, MAINEQ\"].copy()\n",
    "lists_subset[\"ENVI\"] = \"PWXAB; PWXS; QWXAB; QWXS\"\n",
    "lists_subset[\"IDT\"] = \"PROD; QL; RDEBT; RENT; RLBER; SBGX; WCRH; IUGR; SBGXR\"\n",
    "lists_subset[\"MAINEQ\"] = \"PC; PXAB; PMAB\"\n",
    "lists[\"ENVI, IDT, MAINEQ\"] = lists_subset\n",
    "lists[\"ENVI, IDT, MAINEQ\"]"
   ]
  },
  {
   "cell_type": "markdown",
   "metadata": {},
   "source": [
    "Delete a list:"
   ]
  },
  {
   "cell_type": "code",
   "execution_count": 197,
   "metadata": {},
   "outputs": [
    {
     "data": {
      "text/plain": [
       "['COPY', 'COPY0', 'COPY1']"
      ]
     },
     "execution_count": 197,
     "metadata": {},
     "output_type": "execute_result"
    }
   ],
   "source": [
    "lists.get_names(\"C*\")"
   ]
  },
  {
   "cell_type": "code",
   "execution_count": 198,
   "metadata": {},
   "outputs": [
    {
     "data": {
      "text/plain": [
       "['COPY0', 'COPY1']"
      ]
     },
     "execution_count": 198,
     "metadata": {},
     "output_type": "execute_result"
    }
   ],
   "source": [
    "del lists[\"COPY\"]\n",
    "lists.get_names(\"C*\")"
   ]
  },
  {
   "cell_type": "markdown",
   "metadata": {},
   "source": [
    "#### Scalars"
   ]
  },
  {
   "cell_type": "markdown",
   "metadata": {},
   "source": [
    "Add one scalar:"
   ]
  },
  {
   "cell_type": "code",
   "execution_count": 199,
   "metadata": {},
   "outputs": [
    {
     "data": {
      "text/plain": [
       "Scalar(0.1, 1, na)"
      ]
     },
     "execution_count": 199,
     "metadata": {},
     "output_type": "execute_result"
    }
   ],
   "source": [
    "# 1. default relax to 1.0\n",
    "scalars[\"a0\"] = 0.1\n",
    "scalars[\"a0\"]"
   ]
  },
  {
   "cell_type": "code",
   "execution_count": 200,
   "metadata": {},
   "outputs": [
    {
     "data": {
      "text/plain": [
       "Scalar(0.1, 0.9, na)"
      ]
     },
     "execution_count": 200,
     "metadata": {},
     "output_type": "execute_result"
    }
   ],
   "source": [
    "# 2. value + relax\n",
    "scalars[\"a1\"] = 0.1, 0.9\n",
    "scalars[\"a1\"]"
   ]
  },
  {
   "cell_type": "markdown",
   "metadata": {},
   "source": [
    "Update a scalar:"
   ]
  },
  {
   "cell_type": "code",
   "execution_count": 201,
   "metadata": {},
   "outputs": [
    {
     "data": {
      "text/plain": [
       "Scalar(0.0157684, 1, 0.00136871)"
      ]
     },
     "execution_count": 201,
     "metadata": {},
     "output_type": "execute_result"
    }
   ],
   "source": [
    "scalars[\"acaf1\"]"
   ]
  },
  {
   "cell_type": "code",
   "execution_count": 202,
   "metadata": {},
   "outputs": [
    {
     "data": {
      "text/plain": [
       "Scalar(0.8, 1, na)"
      ]
     },
     "execution_count": 202,
     "metadata": {},
     "output_type": "execute_result"
    }
   ],
   "source": [
    "# only update the value\n",
    "scalars[\"acaf1\"] = 0.8\n",
    "scalars[\"acaf1\"]"
   ]
  },
  {
   "cell_type": "code",
   "execution_count": 203,
   "metadata": {},
   "outputs": [
    {
     "data": {
      "text/plain": [
       "Scalar(0.8, 0.9, na)"
      ]
     },
     "execution_count": 203,
     "metadata": {},
     "output_type": "execute_result"
    }
   ],
   "source": [
    "# update value and relax (tuple)\n",
    "scalars[\"acaf2\"] = 0.8, 0.9\n",
    "scalars[\"acaf2\"]"
   ]
  },
  {
   "cell_type": "code",
   "execution_count": 204,
   "metadata": {},
   "outputs": [
    {
     "data": {
      "text/plain": [
       "Scalar(0.7, 0.8, na)"
      ]
     },
     "execution_count": 204,
     "metadata": {},
     "output_type": "execute_result"
    }
   ],
   "source": [
    "# update value and relax (list)\n",
    "scalars[\"acaf2\"] = (0.7, 0.8)\n",
    "scalars[\"acaf2\"]"
   ]
  },
  {
   "cell_type": "code",
   "execution_count": 205,
   "metadata": {},
   "outputs": [
    {
     "data": {
      "text/plain": [
       "Scalar(0.8, 0.9, na)"
      ]
     },
     "execution_count": 205,
     "metadata": {},
     "output_type": "execute_result"
    }
   ],
   "source": [
    "# update value and relax (dictionary)\n",
    "scalars[\"acaf3\"] = {\"relax\": 0.9, \"value\": 0.8}\n",
    "scalars[\"acaf3\"]"
   ]
  },
  {
   "cell_type": "code",
   "execution_count": 206,
   "metadata": {},
   "outputs": [
    {
     "data": {
      "text/plain": [
       "Scalar(-0.00850518, 1, 0.0020833)"
      ]
     },
     "execution_count": 206,
     "metadata": {},
     "output_type": "execute_result"
    }
   ],
   "source": [
    "# update value and/or relax (Scalar object)\n",
    "# NOTE: the standard deviation (std) cannot be changed manually\n",
    "scalars[\"acaf4\"]"
   ]
  },
  {
   "cell_type": "code",
   "execution_count": 207,
   "metadata": {},
   "outputs": [
    {
     "data": {
      "text/plain": [
       "Scalar(0.8, 0.9, na)"
      ]
     },
     "execution_count": 207,
     "metadata": {},
     "output_type": "execute_result"
    }
   ],
   "source": [
    "scalars[\"acaf4\"].value = 0.8\n",
    "scalars[\"acaf4\"].relax = 0.9\n",
    "scalars[\"acaf4\"]"
   ]
  },
  {
   "cell_type": "markdown",
   "metadata": {},
   "source": [
    "Update multiple scalars at once:"
   ]
  },
  {
   "cell_type": "code",
   "execution_count": 208,
   "metadata": {},
   "outputs": [
    {
     "data": {
      "text/plain": [
       "Workspace: Scalars\n",
       "nb scalars: 3\n",
       "filename: c:\\soft\\Miniconda3\\Lib\\site-packages\\iode\\tests\\data\\fun.scl\n",
       "\n",
       " name\t value \trelax \tstd\n",
       "acaf1\t 0.0160\t1.0000\t na\n",
       "acaf2\t-0.0008\t0.9000\t na\n",
       "acaf3\t 2.5000\t1.0000\t na"
      ]
     },
     "execution_count": 208,
     "metadata": {},
     "output_type": "execute_result"
    }
   ],
   "source": [
    "# 1) using a dict of values\n",
    "values = {\"acaf1\": 0.016, \"acaf2\": (-8.e-04, 0.9), \"acaf3\": Scalar(2.5)}\n",
    "scalars[\"acaf1, acaf2, acaf3\"] = values\n",
    "scalars[\"acaf1, acaf2, acaf3\"]"
   ]
  },
  {
   "cell_type": "code",
   "execution_count": 209,
   "metadata": {},
   "outputs": [
    {
     "data": {
      "text/plain": [
       "Workspace: Scalars\n",
       "nb scalars: 3\n",
       "filename: c:\\soft\\Miniconda3\\Lib\\site-packages\\iode\\tests\\data\\fun.scl\n",
       "\n",
       " name\t value \trelax \tstd\n",
       "acaf1\t 0.0200\t1.0000\t na\n",
       "acaf2\t-0.0005\t0.9400\t na\n",
       "acaf3\t 2.9000\t1.0000\t na"
      ]
     },
     "execution_count": 209,
     "metadata": {},
     "output_type": "execute_result"
    }
   ],
   "source": [
    "# 2) using another Scalars database (subset)\n",
    "scalars_subset = scalars[\"acaf1, acaf2, acaf3\"].copy()\n",
    "scalars_subset[\"acaf1\"] = 0.02\n",
    "scalars_subset[\"acaf2\"] = (-5.e-04, 0.94)\n",
    "scalars_subset[\"acaf3\"] = Scalar(2.9)\n",
    "scalars[\"acaf1, acaf2, acaf3\"] = scalars_subset\n",
    "scalars[\"acaf1, acaf2, acaf3\"]"
   ]
  },
  {
   "cell_type": "markdown",
   "metadata": {},
   "source": [
    "Delete a scalar:"
   ]
  },
  {
   "cell_type": "code",
   "execution_count": 210,
   "metadata": {},
   "outputs": [
    {
     "data": {
      "text/plain": [
       "['a0', 'a1', 'acaf1', 'acaf2', 'acaf3', 'acaf4']"
      ]
     },
     "execution_count": 210,
     "metadata": {},
     "output_type": "execute_result"
    }
   ],
   "source": [
    "scalars.get_names(\"a*\")"
   ]
  },
  {
   "cell_type": "code",
   "execution_count": 211,
   "metadata": {},
   "outputs": [
    {
     "data": {
      "text/plain": [
       "['a0', 'a1', 'acaf1', 'acaf2', 'acaf3']"
      ]
     },
     "execution_count": 211,
     "metadata": {},
     "output_type": "execute_result"
    }
   ],
   "source": [
    "del scalars[\"acaf4\"]\n",
    "scalars.get_names(\"a*\")"
   ]
  },
  {
   "cell_type": "markdown",
   "metadata": {},
   "source": [
    "#### Tables"
   ]
  },
  {
   "cell_type": "markdown",
   "metadata": {},
   "source": [
    "Create an add a new table:"
   ]
  },
  {
   "cell_type": "code",
   "execution_count": 212,
   "metadata": {},
   "outputs": [
    {
     "data": {
      "text/plain": [
       "DIVIS | 1              |            \n",
       "TITLE |         \"New Table\"         \n",
       "----- | ----------------------------\n",
       "CELL  | \"\"             |     \"#S\"   \n",
       "----- | ----------------------------\n",
       "CELL  | \"GOSG:\"        |        GOSG\n",
       "CELL  | \"YDTG:\"        |        YDTG\n",
       "CELL  | \"DTH:\"         |         DTH\n",
       "CELL  | \"DTF:\"         |         DTF\n",
       "CELL  | \"IT:\"          |          IT\n",
       "CELL  | \"YSSG+COTRES:\" | YSSG+COTRES\n",
       "CELL  | \"RIDG:\"        |        RIDG\n",
       "CELL  | \"OCUG:\"        |        OCUG\n",
       "----- | ----------------------------\n",
       "MODE  | \n",
       "FILES | \n",
       "DATE  | \n",
       "\n",
       "nb lines: 16\n",
       "nb columns: 2\n",
       "language: 'ENGLISH'\n",
       "gridx: 'MAJOR'\n",
       "gridy: 'MAJOR'\n",
       "graph_axis: 'VALUES'\n",
       "graph_alignment: 'LEFT'"
      ]
     },
     "execution_count": 212,
     "metadata": {},
     "output_type": "execute_result"
    }
   ],
   "source": [
    "# 1. specify list of line titles and list of LEC expressions\n",
    "lines_titles = [\"GOSG:\", \"YDTG:\", \"DTH:\", \"DTF:\", \"IT:\", \"YSSG+COTRES:\", \"RIDG:\", \"OCUG:\"]\n",
    "lines_lecs = [\"GOSG\", \"YDTG\", \"DTH\", \"DTF\", \"IT\", \"YSSG+COTRES\", \"RIDG\", \"OCUG\"]\n",
    "tables[\"TABLE_CELL_LECS\"] = {\"nb_columns\": 2, \"table_title\": \"New Table\", \"lecs_or_vars\": lines_lecs,\n",
    "                             \"lines_titles\": lines_titles, \"mode\": True, \"files\": True, \"date\": True}\n",
    "tables[\"TABLE_CELL_LECS\"]"
   ]
  },
  {
   "cell_type": "code",
   "execution_count": 213,
   "metadata": {},
   "outputs": [
    {
     "data": {
      "text/plain": [
       "DIVIS | 1                                                                    |       \n",
       "TITLE |                                  \"New Table\"                                 \n",
       "----- | -----------------------------------------------------------------------------\n",
       "CELL  | \"\"                                                                   |  \"#S\" \n",
       "----- | -----------------------------------------------------------------------------\n",
       "CELL  | \"Bruto exploitatie-overschot: overheid (= afschrijvingen).\"          |   GOSG\n",
       "CELL  | \"Overheid: geïnde indirecte belastingen.\"                            |   YDTG\n",
       "CELL  | \"Totale overheid: directe belasting van de gezinnen.\"                |    DTH\n",
       "CELL  | \"Totale overheid: directe vennootschapsbelasting.\"                   |    DTF\n",
       "CELL  | \"Totale indirecte belastingen.\"                                      |     IT\n",
       "CELL  | \"Globale overheid: ontvangen sociale zekerheidsbijdragen.\"           |   YSSG\n",
       "CELL  | \"Cotisation de responsabilisation.\"                                  | COTRES\n",
       "CELL  | \"Overheid: inkomen uit vermogen.\"                                    |   RIDG\n",
       "CELL  | \"Globale overheid: saldo van de ontvangen lopendeoverdrachten.\"      |   OCUG\n",
       "CELL  | \"Index wereldprijs - uitvoer van niet-energieprodukten, inUSD.\"      |  PWXAB\n",
       "CELL  | \"Index wereldprijs - uitvoer van diensten, in USD.\"                  |   PWXS\n",
       "CELL  | \"Indicator van het volume van de wereldvraag naar goederen,1985=1.\"  |  QWXAB\n",
       "CELL  | \"Indicator van het volume van de wereldvraag naar diensten,1985=1.\"  |   QWXS\n",
       "----- | -----------------------------------------------------------------------------\n",
       "MODE  | \n",
       "FILES | \n",
       "DATE  | \n",
       "\n",
       "nb lines: 21\n",
       "nb columns: 2\n",
       "language: 'ENGLISH'\n",
       "gridx: 'MAJOR'\n",
       "gridy: 'MAJOR'\n",
       "graph_axis: 'VALUES'\n",
       "graph_alignment: 'LEFT'"
      ]
     },
     "execution_count": 213,
     "metadata": {},
     "output_type": "execute_result"
    }
   ],
   "source": [
    "# 2. specify list of variables\n",
    "vars_list = [\"GOSG\", \"YDTG\", \"DTH\", \"DTF\", \"IT\", \"YSSG\", \"COTRES\", \"RIDG\", \"OCUG\", \"$ENVI\"]\n",
    "tables[\"TABLE_VARS\"] = {\"nb_columns\": 2, \"table_title\": \"New Table\", \"lecs_or_vars\": vars_list,\n",
    "                        \"mode\": True, \"files\": True, \"date\": True}\n",
    "tables[\"TABLE_VARS\"]"
   ]
  },
  {
   "cell_type": "markdown",
   "metadata": {},
   "source": [
    "Update a table:"
   ]
  },
  {
   "cell_type": "code",
   "execution_count": 214,
   "metadata": {},
   "outputs": [
    {
     "data": {
      "text/plain": [
       "DIVIS | 1              |            \n",
       "TITLE |         \"New Table\"         \n",
       "----- | ----------------------------\n",
       "CELL  | \"\"             |     \"#S\"   \n",
       "----- | ----------------------------\n",
       "CELL  | \"GOSG:\"        |        GOSG\n",
       "CELL  | \"YDTG:\"        |        YDTG\n",
       "CELL  | \"DTH:\"         |         DTH\n",
       "CELL  | \"DTF:\"         |         DTF\n",
       "CELL  | \"IT:\"          |          IT\n",
       "CELL  | \"YSSG+COTRES:\" | YSSG+COTRES\n",
       "CELL  | \"RIDG:\"        |        RIDG\n",
       "CELL  | \"OCUG:\"        |        OCUG\n",
       "----- | ----------------------------\n",
       "MODE  | \n",
       "FILES | \n",
       "DATE  | \n",
       "\n",
       "nb lines: 16\n",
       "nb columns: 2\n",
       "language: 'ENGLISH'\n",
       "gridx: 'MAJOR'\n",
       "gridy: 'MAJOR'\n",
       "graph_axis: 'VALUES'\n",
       "graph_alignment: 'LEFT'"
      ]
     },
     "execution_count": 214,
     "metadata": {},
     "output_type": "execute_result"
    }
   ],
   "source": [
    "tables[\"TABLE_CELL_LECS\"]               "
   ]
  },
  {
   "cell_type": "code",
   "execution_count": 215,
   "metadata": {},
   "outputs": [
    {
     "data": {
      "text/plain": [
       "'VALUES'"
      ]
     },
     "execution_count": 215,
     "metadata": {},
     "output_type": "execute_result"
    }
   ],
   "source": [
    "tables[\"TABLE_CELL_LECS\"].graph_axis"
   ]
  },
  {
   "cell_type": "code",
   "execution_count": 216,
   "metadata": {},
   "outputs": [
    {
     "data": {
      "text/plain": [
       "'SEMILOG'"
      ]
     },
     "execution_count": 216,
     "metadata": {},
     "output_type": "execute_result"
    }
   ],
   "source": [
    "from iode import TableGraphAxis\n",
    "# set graph axis type\n",
    "tables[\"TABLE_CELL_LECS\"].graph_axis = TableGraphAxis.SEMILOG\n",
    "tables[\"TABLE_CELL_LECS\"].graph_axis"
   ]
  },
  {
   "cell_type": "code",
   "execution_count": 217,
   "metadata": {},
   "outputs": [
    {
     "data": {
      "text/plain": [
       "New Table"
      ]
     },
     "execution_count": 217,
     "metadata": {},
     "output_type": "execute_result"
    }
   ],
   "source": [
    "# get the first line\n",
    "tables[\"TABLE_CELL_LECS\"][0]"
   ]
  },
  {
   "cell_type": "code",
   "execution_count": 218,
   "metadata": {},
   "outputs": [
    {
     "data": {
      "text/plain": [
       "<DATE>"
      ]
     },
     "execution_count": 218,
     "metadata": {},
     "output_type": "execute_result"
    }
   ],
   "source": [
    "# get the last line\n",
    "tables[\"TABLE_CELL_LECS\"][-1]"
   ]
  },
  {
   "cell_type": "code",
   "execution_count": 219,
   "metadata": {},
   "outputs": [
    {
     "data": {
      "text/plain": [
       "DIVIS | 1              |            \n",
       "TITLE |         \"New Table\"         \n",
       "----- | ----------------------------\n",
       "CELL  | \"\"             |     \"#S\"   \n",
       "----- | ----------------------------\n",
       "CELL  | \"GOSG:\"        |        GOSG\n",
       "CELL  | \"YDTG:\"        |        YDTG\n",
       "CELL  | \"DTH:\"         |         DTH\n",
       "CELL  | \"DTF:\"         |         DTF\n",
       "CELL  | \"IT:\"          |          IT\n",
       "CELL  | \"YSSG+COTRES:\" | YSSG+COTRES\n",
       "CELL  | \"RIDG:\"        |        RIDG\n",
       "CELL  | \"OCUG:\"        |        OCUG\n",
       "----- | ----------------------------\n",
       "MODE  | \n",
       "FILES | \n",
       "\n",
       "nb lines: 15\n",
       "nb columns: 2\n",
       "language: 'ENGLISH'\n",
       "gridx: 'MAJOR'\n",
       "gridy: 'MAJOR'\n",
       "graph_axis: 'SEMILOG'\n",
       "graph_alignment: 'LEFT'"
      ]
     },
     "execution_count": 219,
     "metadata": {},
     "output_type": "execute_result"
    }
   ],
   "source": [
    "# delete last line\n",
    "del tables[\"TABLE_CELL_LECS\"][-1]\n",
    "tables[\"TABLE_CELL_LECS\"]"
   ]
  },
  {
   "cell_type": "code",
   "execution_count": 220,
   "metadata": {},
   "outputs": [
    {
     "data": {
      "text/plain": [
       "9"
      ]
     },
     "execution_count": 220,
     "metadata": {},
     "output_type": "execute_result"
    }
   ],
   "source": [
    "# get index of line containing YSSG+COTRES\n",
    "index = tables[\"TABLE_CELL_LECS\"].index(\"YSSG+COTRES\")\n",
    "index"
   ]
  },
  {
   "cell_type": "code",
   "execution_count": 221,
   "metadata": {},
   "outputs": [
    {
     "data": {
      "text/plain": [
       "('\"YSSG+COTRES:\"', 'YSSG+COTRES')"
      ]
     },
     "execution_count": 221,
     "metadata": {},
     "output_type": "execute_result"
    }
   ],
   "source": [
    "tables[\"TABLE_CELL_LECS\"][index]"
   ]
  },
  {
   "cell_type": "code",
   "execution_count": 222,
   "metadata": {},
   "outputs": [
    {
     "data": {
      "text/plain": [
       "'CELL'"
      ]
     },
     "execution_count": 222,
     "metadata": {},
     "output_type": "execute_result"
    }
   ],
   "source": [
    "# get line type\n",
    "tables[\"TABLE_CELL_LECS\"][index].line_type"
   ]
  },
  {
   "cell_type": "code",
   "execution_count": 223,
   "metadata": {},
   "outputs": [
    {
     "data": {
      "text/plain": [
       "'LINE'"
      ]
     },
     "execution_count": 223,
     "metadata": {},
     "output_type": "execute_result"
    }
   ],
   "source": [
    "# get line graph type\n",
    "tables[\"TABLE_CELL_LECS\"][index].graph_type"
   ]
  },
  {
   "cell_type": "code",
   "execution_count": 224,
   "metadata": {},
   "outputs": [
    {
     "data": {
      "text/plain": [
       "True"
      ]
     },
     "execution_count": 224,
     "metadata": {},
     "output_type": "execute_result"
    }
   ],
   "source": [
    "# know if axis is left\n",
    "tables[\"TABLE_CELL_LECS\"][index].axis_left"
   ]
  },
  {
   "cell_type": "code",
   "execution_count": 225,
   "metadata": {},
   "outputs": [
    {
     "data": {
      "text/plain": [
       "('\"YSSG:\"', 'YSSG')"
      ]
     },
     "execution_count": 225,
     "metadata": {},
     "output_type": "execute_result"
    }
   ],
   "source": [
    "# update cells\n",
    "# double quotes \"    -> STRING cell\n",
    "# no double quotes   -> LEC cell\n",
    "tables[\"TABLE_CELL_LECS\"][index] = ('\"YSSG:\"', 'YSSG')\n",
    "tables[\"TABLE_CELL_LECS\"][index]"
   ]
  },
  {
   "cell_type": "code",
   "execution_count": 226,
   "metadata": {},
   "outputs": [
    {
     "data": {
      "text/plain": [
       "DIVIS | 1       |     \n",
       "TITLE |  \"New Table\"  \n",
       "----- | --------------\n",
       "CELL  | \"\"      | \"#S\"\n",
       "----- | --------------\n",
       "CELL  | \"GOSG:\" | GOSG\n",
       "CELL  | \"YDTG:\" | YDTG\n",
       "CELL  | \"DTH:\"  |  DTH\n",
       "CELL  | \"DTF:\"  |  DTF\n",
       "CELL  | \"IT:\"   |   IT\n",
       "CELL  | \"YSSG:\" | YSSG\n",
       "----- | --------------\n",
       "TITLE |  \"New Title\"  \n",
       "----- | --------------\n",
       "CELL  | \"RIDG:\" | RIDG\n",
       "CELL  | \"OCUG:\" | OCUG\n",
       "----- | --------------\n",
       "MODE  | \n",
       "FILES | \n",
       "\n",
       "nb lines: 18\n",
       "nb columns: 2\n",
       "language: 'ENGLISH'\n",
       "gridx: 'MAJOR'\n",
       "gridy: 'MAJOR'\n",
       "graph_axis: 'SEMILOG'\n",
       "graph_alignment: 'LEFT'"
      ]
     },
     "execution_count": 226,
     "metadata": {},
     "output_type": "execute_result"
    }
   ],
   "source": [
    "# insert a new title line surrounded by two separator lines\n",
    "tables[\"TABLE_CELL_LECS\"].insert(index + 1, '-')\n",
    "tables[\"TABLE_CELL_LECS\"].insert(index + 2, \"New Title\")\n",
    "tables[\"TABLE_CELL_LECS\"].insert(index + 3, '-')\n",
    "tables[\"TABLE_CELL_LECS\"]"
   ]
  },
  {
   "cell_type": "code",
   "execution_count": 227,
   "metadata": {},
   "outputs": [
    {
     "data": {
      "text/plain": [
       "DIVIS | 1       |     \n",
       "TITLE |  \"New Table\"  \n",
       "----- | --------------\n",
       "CELL  | \"\"      | \"#S\"\n",
       "----- | --------------\n",
       "CELL  | \"GOSG:\" | GOSG\n",
       "CELL  | \"YDTG:\" | YDTG\n",
       "CELL  | \"DTH:\"  |  DTH\n",
       "CELL  | \"DTF:\"  |  DTF\n",
       "CELL  | \"IT:\"   |   IT\n",
       "CELL  | \"YSSG:\" | YSSG\n",
       "----- | --------------\n",
       "TITLE |  \"New Title\"  \n",
       "----- | --------------\n",
       "CELL  | \"RIDG:\" | RIDG\n",
       "CELL  | \"OCUG:\" | OCUG\n",
       "----- | --------------\n",
       "MODE  | \n",
       "FILES | \n",
       "----- | --------------\n",
       "\n",
       "nb lines: 19\n",
       "nb columns: 2\n",
       "language: 'ENGLISH'\n",
       "gridx: 'MAJOR'\n",
       "gridy: 'MAJOR'\n",
       "graph_axis: 'SEMILOG'\n",
       "graph_alignment: 'LEFT'"
      ]
     },
     "execution_count": 227,
     "metadata": {},
     "output_type": "execute_result"
    }
   ],
   "source": [
    "# append a new sepatator line\n",
    "tables[\"TABLE_CELL_LECS\"] += '-'\n",
    "tables[\"TABLE_CELL_LECS\"]"
   ]
  },
  {
   "cell_type": "markdown",
   "metadata": {},
   "source": [
    "Update multiple tables at once:"
   ]
  },
  {
   "cell_type": "code",
   "execution_count": 228,
   "metadata": {},
   "outputs": [
    {
     "data": {
      "text/plain": [
       "Workspace: Tables\n",
       "nb tables: 3\n",
       "filename: c:\\soft\\Miniconda3\\Lib\\site-packages\\iode\\tests\\data\\fun.tbl\n",
       "\n",
       "name\t               table titles              \n",
       "C8_1\tDéterminants de l'output potentiel (copy)\n",
       "C8_2\tDéterminants de la productivité (copy)   \n",
       "C8_3\tOutput gap (copy)                        "
      ]
     },
     "execution_count": 228,
     "metadata": {},
     "output_type": "execute_result"
    }
   ],
   "source": [
    "# 1) using a dict of values\n",
    "table_C8_1 = tables[\"C8_1\"].copy()\n",
    "table_C8_1.title = table_C8_1.title + \" (copy)\"\n",
    "table_C8_2 = tables[\"C8_2\"].copy()\n",
    "table_C8_2.title = table_C8_2.title + \" (copy)\"\n",
    "table_C8_3 = tables[\"C8_3\"].copy()\n",
    "table_C8_3.title = table_C8_3.title + \" (copy)\"\n",
    "\n",
    "values = {\"C8_1\": table_C8_1, \"C8_2\": table_C8_2, \"C8_3\": table_C8_3}\n",
    "tables[\"C8_1, C8_2, C8_3\"] = values\n",
    "tables[\"C8_1, C8_2, C8_3\"]"
   ]
  },
  {
   "cell_type": "code",
   "execution_count": 229,
   "metadata": {},
   "outputs": [
    {
     "data": {
      "text/plain": [
       "Workspace: Tables\n",
       "nb tables: 3\n",
       "filename: c:\\soft\\Miniconda3\\Lib\\site-packages\\iode\\tests\\data\\fun.tbl\n",
       "\n",
       "name\t                    table titles                    \n",
       "C8_1\tDéterminants de l'output potentiel (detached subset)\n",
       "C8_2\tDéterminants de la productivité (detached subset)   \n",
       "C8_3\tOutput gap (detached subset)                        "
      ]
     },
     "execution_count": 229,
     "metadata": {},
     "output_type": "execute_result"
    }
   ],
   "source": [
    "# 2) using another tables database (subset)\n",
    "tables_subset = tables[\"C8_1, C8_2, C8_3\"].copy()\n",
    "tables_subset[\"C8_1\"].title = tables_subset[\"C8_1\"].title.replace(\"(copy)\", \"(detached subset)\")\n",
    "tables_subset[\"C8_2\"].title = tables_subset[\"C8_2\"].title.replace(\"(copy)\", \"(detached subset)\")\n",
    "tables_subset[\"C8_3\"].title = tables_subset[\"C8_3\"].title.replace(\"(copy)\", \"(detached subset)\")\n",
    "\n",
    "tables[\"C8_1, C8_2, C8_3\"] = tables_subset\n",
    "tables[\"C8_1, C8_2, C8_3\"]"
   ]
  },
  {
   "cell_type": "markdown",
   "metadata": {},
   "source": [
    "Delete a table:"
   ]
  },
  {
   "cell_type": "code",
   "execution_count": 230,
   "metadata": {},
   "outputs": [
    {
     "data": {
      "text/plain": [
       "['GAP', 'GDP', 'GFR', 'GFRLEVEL', 'GFRPC', 'GROWTH']"
      ]
     },
     "execution_count": 230,
     "metadata": {},
     "output_type": "execute_result"
    }
   ],
   "source": [
    "tables.get_names(\"G*\")"
   ]
  },
  {
   "cell_type": "code",
   "execution_count": 231,
   "metadata": {},
   "outputs": [
    {
     "data": {
      "text/plain": [
       "['GAP', 'GDP', 'GFR', 'GFRPC', 'GROWTH']"
      ]
     },
     "execution_count": 231,
     "metadata": {},
     "output_type": "execute_result"
    }
   ],
   "source": [
    "del tables[\"GFRLEVEL\"]\n",
    "tables.get_names(\"G*\")"
   ]
  },
  {
   "cell_type": "markdown",
   "metadata": {},
   "source": [
    "#### Variables"
   ]
  },
  {
   "cell_type": "markdown",
   "metadata": {},
   "source": [
    "Get variable:"
   ]
  },
  {
   "cell_type": "code",
   "execution_count": 232,
   "metadata": {},
   "outputs": [
    {
     "data": {
      "text/plain": [
       "23.771"
      ]
     },
     "execution_count": 232,
     "metadata": {},
     "output_type": "execute_result"
    }
   ],
   "source": [
    "# get the value for a single period -> float \n",
    "variables[\"ACAF\", \"1990Y1\"]"
   ]
  },
  {
   "cell_type": "code",
   "execution_count": 233,
   "metadata": {},
   "outputs": [
    {
     "data": {
      "text/plain": [
       "Workspace: Variables\n",
       "nb variables: 1\n",
       "filename: c:\\soft\\Miniconda3\\Lib\\site-packages\\iode\\tests\\data\\fun.var\n",
       "description: Modèle fun - Simulation 1                         \n",
       "sample: 1960Y1:2015Y1\n",
       "mode: LEVEL\n",
       "\n",
       "name\t1960Y1\t1961Y1\t1962Y1\t1963Y1\t1964Y1\t1965Y1\t...\t2009Y1\t2010Y1\t2011Y1\t2012Y1\t2013Y1\t2014Y1\t2015Y1\n",
       "ACAF\t    na\t    na\t    na\t    na\t    na\t    na\t...\t-37.46\t-37.83\t-44.54\t-55.56\t-68.89\t-83.34\t-96.41"
      ]
     },
     "execution_count": 233,
     "metadata": {},
     "output_type": "execute_result"
    }
   ],
   "source": [
    "# get the values for all periods -> Variables\n",
    "variables[\"ACAF\"]"
   ]
  },
  {
   "cell_type": "code",
   "execution_count": 234,
   "metadata": {},
   "outputs": [
    {
     "data": {
      "text/plain": [
       "Workspace: Variables\n",
       "nb variables: 1\n",
       "filename: c:\\soft\\Miniconda3\\Lib\\site-packages\\iode\\tests\\data\\fun.var\n",
       "description: Modèle fun - Simulation 1                         \n",
       "sample: 1990Y1:2000Y1\n",
       "mode: LEVEL\n",
       "\n",
       "name\t1990Y1\t1991Y1\t1992Y1\t1993Y1\t1994Y1\t1995Y1\t1996Y1\t1997Y1\t1998Y1\t1999Y1\t2000Y1\n",
       "ACAF\t 23.77\t 26.24\t 30.16\t 34.66\t  8.16\t-13.13\t 32.17\t 39.94\t 29.65\t 13.53\t 10.05"
      ]
     },
     "execution_count": 234,
     "metadata": {},
     "output_type": "execute_result"
    }
   ],
   "source": [
    "# get the values for a range of periods -> Variables\n",
    "variables[\"ACAF\", \"1990Y1:2000Y1\"]"
   ]
  },
  {
   "cell_type": "code",
   "execution_count": 235,
   "metadata": {},
   "outputs": [
    {
     "data": {
      "text/plain": [
       "time\n",
       "1990Y1    23.771000\n",
       "1995Y1   -13.130997\n",
       "2000Y1    10.046611\n",
       "Name: ACAF, dtype: float64"
      ]
     },
     "execution_count": 235,
     "metadata": {},
     "output_type": "execute_result"
    }
   ],
   "source": [
    "# get the values for a list non-contiguous periods -> pandas Series \n",
    "variables[\"ACAF\", [\"1990Y1\", \"1995Y1\", \"2000Y1\"]]"
   ]
  },
  {
   "cell_type": "markdown",
   "metadata": {},
   "source": [
    "Get values for a single period:"
   ]
  },
  {
   "cell_type": "code",
   "execution_count": 236,
   "metadata": {},
   "outputs": [
    {
     "data": {
      "text/plain": [
       "Workspace: Variables\n",
       "nb variables: 394\n",
       "filename: c:\\soft\\Miniconda3\\Lib\\site-packages\\iode\\tests\\data\\fun.var\n",
       "description: Modèle fun - Simulation 1                         \n",
       "sample: 1990Y1:1990Y1\n",
       "mode: LEVEL\n",
       "\n",
       " name\t1990Y1\n",
       "ACAF \t 23.77\n",
       "ACAG \t-28.17\n",
       "AOUC \t  1.00\n",
       "AOUC_\t  0.94\n",
       "AQC  \t  1.00\n",
       "...  \t   ...\n",
       "ZJ   \t  1.09\n",
       "ZKF  \t  0.81\n",
       "ZKFO \t  1.00\n",
       "ZX   \t  0.00\n",
       "ZZF_ \t  0.69"
      ]
     },
     "execution_count": 236,
     "metadata": {},
     "output_type": "execute_result"
    }
   ],
   "source": [
    "variables[:, \"1990Y1\"]"
   ]
  },
  {
   "cell_type": "markdown",
   "metadata": {},
   "source": [
    "or equivalently:"
   ]
  },
  {
   "cell_type": "code",
   "execution_count": 237,
   "metadata": {},
   "outputs": [
    {
     "data": {
      "text/plain": [
       "Workspace: Variables\n",
       "nb variables: 394\n",
       "filename: c:\\soft\\Miniconda3\\Lib\\site-packages\\iode\\tests\\data\\fun.var\n",
       "description: Modèle fun - Simulation 1                         \n",
       "sample: 1990Y1:1990Y1\n",
       "mode: LEVEL\n",
       "\n",
       " name\t1990Y1\n",
       "ACAF \t 23.77\n",
       "ACAG \t-28.17\n",
       "AOUC \t  1.00\n",
       "AOUC_\t  0.94\n",
       "AQC  \t  1.00\n",
       "...  \t   ...\n",
       "ZJ   \t  1.09\n",
       "ZKF  \t  0.81\n",
       "ZKFO \t  1.00\n",
       "ZX   \t  0.00\n",
       "ZZF_ \t  0.69"
      ]
     },
     "execution_count": 237,
     "metadata": {},
     "output_type": "execute_result"
    }
   ],
   "source": [
    "variables[\"*\", \"1990Y1\"]"
   ]
  },
  {
   "cell_type": "markdown",
   "metadata": {},
   "source": [
    "Add one variable:"
   ]
  },
  {
   "cell_type": "code",
   "execution_count": 238,
   "metadata": {},
   "outputs": [
    {
     "data": {
      "text/plain": [
       "Workspace: Variables\n",
       "nb variables: 1\n",
       "filename: c:\\soft\\Miniconda3\\Lib\\site-packages\\iode\\tests\\data\\fun.var\n",
       "description: Modèle fun - Simulation 1                         \n",
       "sample: 1960Y1:2015Y1\n",
       "mode: LEVEL\n",
       "\n",
       "name\t1960Y1\t1961Y1\t1962Y1\t1963Y1\t1964Y1\t1965Y1\t...\t2009Y1\t2010Y1\t2011Y1\t2012Y1\t2013Y1\t2014Y1\t2015Y1\n",
       "A0  \t    na\t    na\t    na\t    na\t    na\t    na\t...\t    na\t    na\t    na\t    na\t    na\t    na\t    na"
      ]
     },
     "execution_count": 238,
     "metadata": {},
     "output_type": "execute_result"
    }
   ],
   "source": [
    "# 1) same value for all periods\n",
    "# NOTE: you can also use NA from iode to set a variable value to NaN\n",
    "variables[\"A0\"] = np.nan \n",
    "variables[\"A0\"]"
   ]
  },
  {
   "cell_type": "code",
   "execution_count": 239,
   "metadata": {},
   "outputs": [
    {
     "data": {
      "text/plain": [
       "Workspace: Variables\n",
       "nb variables: 1\n",
       "filename: c:\\soft\\Miniconda3\\Lib\\site-packages\\iode\\tests\\data\\fun.var\n",
       "description: Modèle fun - Simulation 1                         \n",
       "sample: 1960Y1:2015Y1\n",
       "mode: LEVEL\n",
       "\n",
       "name\t1960Y1\t1961Y1\t1962Y1\t1963Y1\t1964Y1\t1965Y1\t...\t2009Y1\t2010Y1\t2011Y1\t2012Y1\t2013Y1\t2014Y1\t2015Y1\n",
       "A1  \t 10.00\t 11.00\t 12.00\t 13.00\t 14.00\t 15.00\t...\t 59.00\t 60.00\t 61.00\t 62.00\t 63.00\t 64.00\t 65.00"
      ]
     },
     "execution_count": 239,
     "metadata": {},
     "output_type": "execute_result"
    }
   ],
   "source": [
    "# 2) LEC expression\n",
    "variables[\"A1\"] = \"t + 10\"\n",
    "variables[\"A1\"] "
   ]
  },
  {
   "cell_type": "code",
   "execution_count": 240,
   "metadata": {},
   "outputs": [
    {
     "data": {
      "text/plain": [
       "Workspace: Variables\n",
       "nb variables: 1\n",
       "filename: c:\\soft\\Miniconda3\\Lib\\site-packages\\iode\\tests\\data\\fun.var\n",
       "description: Modèle fun - Simulation 1                         \n",
       "sample: 1960Y1:2015Y1\n",
       "mode: LEVEL\n",
       "\n",
       "name\t1960Y1\t1961Y1\t1962Y1\t1963Y1\t1964Y1\t1965Y1\t...\t2009Y1\t2010Y1\t2011Y1\t2012Y1\t2013Y1\t2014Y1\t2015Y1\n",
       "A2  \t    na\t  1.00\t  2.00\t  3.00\t  4.00\t  5.00\t...\t 49.00\t 50.00\t 51.00\t 52.00\t 53.00\t 54.00\t    na"
      ]
     },
     "execution_count": 240,
     "metadata": {},
     "output_type": "execute_result"
    }
   ],
   "source": [
    "# 3) list of values for each period\n",
    "values = list(range(variables.nb_periods))\n",
    "values[0] = NA\n",
    "values[-1] = np.nan\n",
    "variables[\"A2\"] = values\n",
    "variables[\"A2\"]                     "
   ]
  },
  {
   "cell_type": "code",
   "execution_count": 241,
   "metadata": {},
   "outputs": [
    {
     "data": {
      "text/plain": [
       "Workspace: Variables\n",
       "nb variables: 1\n",
       "filename: c:\\soft\\Miniconda3\\Lib\\site-packages\\iode\\tests\\data\\fun.var\n",
       "description: Modèle fun - Simulation 1                         \n",
       "sample: 1960Y1:2015Y1\n",
       "mode: LEVEL\n",
       "\n",
       "name\t1960Y1\t1961Y1\t1962Y1\t1963Y1\t1964Y1\t1965Y1\t...\t2009Y1\t2010Y1\t2011Y1\t2012Y1\t2013Y1\t2014Y1\t2015Y1\n",
       "A5  \t    na\t    na\t    na\t    na\t    na\t    na\t...\t-37.46\t-37.83\t-44.54\t-55.56\t-68.89\t-83.34\t-96.41"
      ]
     },
     "execution_count": 241,
     "metadata": {},
     "output_type": "execute_result"
    }
   ],
   "source": [
    "# 4) Variables object\n",
    "variables[\"A5\"] = variables[\"ACAF\"]\n",
    "variables[\"A5\"]"
   ]
  },
  {
   "cell_type": "markdown",
   "metadata": {},
   "source": [
    "Update a variable.\n",
    "\n",
    "Set one value of a variable for a specific period:"
   ]
  },
  {
   "cell_type": "code",
   "execution_count": 242,
   "metadata": {},
   "outputs": [
    {
     "data": {
      "text/plain": [
       "-28.1721855713507"
      ]
     },
     "execution_count": 242,
     "metadata": {},
     "output_type": "execute_result"
    }
   ],
   "source": [
    "variables[\"ACAG\", \"1990Y1\"]"
   ]
  },
  {
   "cell_type": "code",
   "execution_count": 243,
   "metadata": {},
   "outputs": [
    {
     "data": {
      "text/plain": [
       "-28.2"
      ]
     },
     "execution_count": 243,
     "metadata": {},
     "output_type": "execute_result"
    }
   ],
   "source": [
    "variables[\"ACAG\", \"1990Y1\"] = -28.2\n",
    "variables[\"ACAG\", \"1990Y1\"]"
   ]
  },
  {
   "cell_type": "markdown",
   "metadata": {},
   "source": [
    "Update all values of a variable:"
   ]
  },
  {
   "cell_type": "code",
   "execution_count": 244,
   "metadata": {},
   "outputs": [
    {
     "data": {
      "text/plain": [
       "Workspace: Variables\n",
       "nb variables: 1\n",
       "filename: c:\\soft\\Miniconda3\\Lib\\site-packages\\iode\\tests\\data\\fun.var\n",
       "description: Modèle fun - Simulation 1                         \n",
       "sample: 1960Y1:2015Y1\n",
       "mode: LEVEL\n",
       "\n",
       "name\t1960Y1\t1961Y1\t1962Y1\t1963Y1\t1964Y1\t1965Y1\t...\t2009Y1\t2010Y1\t2011Y1\t2012Y1\t2013Y1\t2014Y1\t2015Y1\n",
       "ACAF\t    na\t    na\t    na\t    na\t    na\t    na\t...\t-37.46\t-37.83\t-44.54\t-55.56\t-68.89\t-83.34\t-96.41"
      ]
     },
     "execution_count": 244,
     "metadata": {},
     "output_type": "execute_result"
    }
   ],
   "source": [
    "variables[\"ACAF\"]                   "
   ]
  },
  {
   "cell_type": "code",
   "execution_count": 245,
   "metadata": {},
   "outputs": [
    {
     "data": {
      "text/plain": [
       "Workspace: Variables\n",
       "nb variables: 1\n",
       "filename: c:\\soft\\Miniconda3\\Lib\\site-packages\\iode\\tests\\data\\fun.var\n",
       "description: Modèle fun - Simulation 1                         \n",
       "sample: 1960Y1:2015Y1\n",
       "mode: LEVEL\n",
       "\n",
       "name\t1960Y1\t1961Y1\t1962Y1\t1963Y1\t1964Y1\t1965Y1\t...\t2009Y1\t2010Y1\t2011Y1\t2012Y1\t2013Y1\t2014Y1\t2015Y1\n",
       "ACAF\t    na\t    na\t    na\t    na\t    na\t    na\t...\t    na\t    na\t    na\t    na\t    na\t    na\t    na"
      ]
     },
     "execution_count": 245,
     "metadata": {},
     "output_type": "execute_result"
    }
   ],
   "source": [
    "# 1) same value for all periods\n",
    "variables[\"ACAF\"] = np.nan\n",
    "variables[\"ACAF\"]                   "
   ]
  },
  {
   "cell_type": "code",
   "execution_count": 246,
   "metadata": {},
   "outputs": [
    {
     "data": {
      "text/plain": [
       "Workspace: Variables\n",
       "nb variables: 1\n",
       "filename: c:\\soft\\Miniconda3\\Lib\\site-packages\\iode\\tests\\data\\fun.var\n",
       "description: Modèle fun - Simulation 1                         \n",
       "sample: 1960Y1:2015Y1\n",
       "mode: LEVEL\n",
       "\n",
       "name\t1960Y1\t1961Y1\t1962Y1\t1963Y1\t1964Y1\t1965Y1\t...\t2009Y1\t2010Y1\t2011Y1\t2012Y1\t2013Y1\t2014Y1\t2015Y1\n",
       "ACAF\t 10.00\t 11.00\t 12.00\t 13.00\t 14.00\t 15.00\t...\t 59.00\t 60.00\t 61.00\t 62.00\t 63.00\t 64.00\t 65.00"
      ]
     },
     "execution_count": 246,
     "metadata": {},
     "output_type": "execute_result"
    }
   ],
   "source": [
    "# 2) LEC expression\n",
    "variables[\"ACAF\"] = \"t + 10\"\n",
    "variables[\"ACAF\"]                 "
   ]
  },
  {
   "cell_type": "code",
   "execution_count": 247,
   "metadata": {},
   "outputs": [
    {
     "data": {
      "text/plain": [
       "Workspace: Variables\n",
       "nb variables: 1\n",
       "filename: c:\\soft\\Miniconda3\\Lib\\site-packages\\iode\\tests\\data\\fun.var\n",
       "description: Modèle fun - Simulation 1                         \n",
       "sample: 1960Y1:2015Y1\n",
       "mode: LEVEL\n",
       "\n",
       "name\t1960Y1\t1961Y1\t1962Y1\t1963Y1\t1964Y1\t1965Y1\t...\t2009Y1\t2010Y1\t2011Y1\t2012Y1\t2013Y1\t2014Y1\t2015Y1\n",
       "ACAF\t    na\t  1.00\t  2.00\t  3.00\t  4.00\t  5.00\t...\t 49.00\t 50.00\t 51.00\t 52.00\t 53.00\t 54.00\t    na"
      ]
     },
     "execution_count": 247,
     "metadata": {},
     "output_type": "execute_result"
    }
   ],
   "source": [
    "# 3) list of values for each period\n",
    "values = list(range(variables.nb_periods))\n",
    "values[0] = NA\n",
    "values[-1] = np.nan\n",
    "variables[\"ACAF\"] = values\n",
    "variables[\"ACAF\"]              "
   ]
  },
  {
   "cell_type": "code",
   "execution_count": 248,
   "metadata": {},
   "outputs": [
    {
     "data": {
      "text/plain": [
       "Workspace: Variables\n",
       "nb variables: 1\n",
       "filename: c:\\soft\\Miniconda3\\Lib\\site-packages\\iode\\tests\\data\\fun.var\n",
       "description: Modèle fun - Simulation 1                         \n",
       "sample: 1960Y1:2015Y1\n",
       "mode: LEVEL\n",
       "\n",
       "name\t1960Y1\t1961Y1\t1962Y1\t1963Y1\t1964Y1\t1965Y1\t...\t2009Y1\t2010Y1\t2011Y1\t2012Y1\t2013Y1\t2014Y1\t2015Y1\n",
       "AQC \t  0.22\t  0.22\t  0.22\t  0.23\t  0.24\t  0.25\t...\t  1.45\t  1.46\t  1.48\t  1.51\t  1.56\t  1.61\t  1.67"
      ]
     },
     "execution_count": 248,
     "metadata": {},
     "output_type": "execute_result"
    }
   ],
   "source": [
    "# 4) Variables object\n",
    "variables[\"AQC\"]"
   ]
  },
  {
   "cell_type": "code",
   "execution_count": 249,
   "metadata": {},
   "outputs": [
    {
     "data": {
      "text/plain": [
       "Workspace: Variables\n",
       "nb variables: 1\n",
       "filename: c:\\soft\\Miniconda3\\Lib\\site-packages\\iode\\tests\\data\\fun.var\n",
       "description: Modèle fun - Simulation 1                         \n",
       "sample: 1960Y1:2015Y1\n",
       "mode: LEVEL\n",
       "\n",
       "name\t1960Y1\t1961Y1\t1962Y1\t1963Y1\t1964Y1\t1965Y1\t...\t2009Y1\t2010Y1\t2011Y1\t2012Y1\t2013Y1\t2014Y1\t2015Y1\n",
       "ACAF\t  0.22\t  0.22\t  0.22\t  0.23\t  0.24\t  0.25\t...\t  1.45\t  1.46\t  1.48\t  1.51\t  1.56\t  1.61\t  1.67"
      ]
     },
     "execution_count": 249,
     "metadata": {},
     "output_type": "execute_result"
    }
   ],
   "source": [
    "variables[\"ACAF\"] = variables[\"AQC\"]\n",
    "variables[\"ACAF\"]"
   ]
  },
  {
   "cell_type": "markdown",
   "metadata": {},
   "source": [
    "Set the values for range of (contiguous) periods:"
   ]
  },
  {
   "cell_type": "code",
   "execution_count": 250,
   "metadata": {},
   "outputs": [
    {
     "data": {
      "text/plain": [
       "Workspace: Variables\n",
       "nb variables: 1\n",
       "filename: c:\\soft\\Miniconda3\\Lib\\site-packages\\iode\\tests\\data\\fun.var\n",
       "description: Modèle fun - Simulation 1                         \n",
       "sample: 1991Y1:1995Y1\n",
       "mode: LEVEL\n",
       "\n",
       "name\t1991Y1\t1992Y1\t1993Y1\t1994Y1\t1995Y1\n",
       "ACAF\t  0.00\t  0.00\t  0.00\t  0.00\t  0.00"
      ]
     },
     "execution_count": 250,
     "metadata": {},
     "output_type": "execute_result"
    }
   ],
   "source": [
    "# 1) variable[t:t+x] = same value for all periods\n",
    "variables[\"ACAF\", \"1991Y1:1995Y1\"] = 0.0\n",
    "variables[\"ACAF\", \"1991Y1:1995Y1\"]"
   ]
  },
  {
   "cell_type": "code",
   "execution_count": 251,
   "metadata": {},
   "outputs": [
    {
     "data": {
      "text/plain": [
       "Workspace: Variables\n",
       "nb variables: 1\n",
       "filename: c:\\soft\\Miniconda3\\Lib\\site-packages\\iode\\tests\\data\\fun.var\n",
       "description: Modèle fun - Simulation 1                         \n",
       "sample: 1991Y1:1995Y1\n",
       "mode: LEVEL\n",
       "\n",
       "name\t1991Y1\t1992Y1\t1993Y1\t1994Y1\t1995Y1\n",
       "ACAF\t 41.00\t 42.00\t 43.00\t 44.00\t 45.00"
      ]
     },
     "execution_count": 251,
     "metadata": {},
     "output_type": "execute_result"
    }
   ],
   "source": [
    "# 2) variable[t:t+x] = LEC expression\n",
    "variables[\"ACAF\", \"1991Y1:1995Y1\"] = \"t + 10\"\n",
    "variables[\"ACAF\", \"1991Y1:1995Y1\"]"
   ]
  },
  {
   "cell_type": "code",
   "execution_count": 252,
   "metadata": {},
   "outputs": [
    {
     "data": {
      "text/plain": [
       "Workspace: Variables\n",
       "nb variables: 1\n",
       "filename: c:\\soft\\Miniconda3\\Lib\\site-packages\\iode\\tests\\data\\fun.var\n",
       "description: Modèle fun - Simulation 1                         \n",
       "sample: 1991Y1:1995Y1\n",
       "mode: LEVEL\n",
       "\n",
       "name\t1991Y1\t1992Y1\t1993Y1\t1994Y1\t1995Y1\n",
       "ACAF\t  1.00\t    na\t  3.00\t    na\t  5.00"
      ]
     },
     "execution_count": 252,
     "metadata": {},
     "output_type": "execute_result"
    }
   ],
   "source": [
    "# 3) variable[t:t+x] = list of values for each period\n",
    "values = [1.0, NA, 3.0, np.nan, 5.0]\n",
    "variables[\"ACAF\", \"1991Y1:1995Y1\"] = values\n",
    "variables[\"ACAF\", \"1991Y1:1995Y1\"]"
   ]
  },
  {
   "cell_type": "code",
   "execution_count": 253,
   "metadata": {},
   "outputs": [
    {
     "data": {
      "text/plain": [
       "Workspace: Variables\n",
       "nb variables: 1\n",
       "filename: c:\\soft\\Miniconda3\\Lib\\site-packages\\iode\\tests\\data\\fun.var\n",
       "description: Modèle fun - Simulation 1                         \n",
       "sample: 1991Y1:1995Y1\n",
       "mode: LEVEL\n",
       "\n",
       "name\t1991Y1\t1992Y1\t1993Y1\t1994Y1\t1995Y1\n",
       "AQC \t  1.06\t  1.11\t  1.15\t  1.16\t  1.16"
      ]
     },
     "execution_count": 253,
     "metadata": {},
     "output_type": "execute_result"
    }
   ],
   "source": [
    "# 4) variable[t:t+x] = Variables object\n",
    "variables[\"AQC\", \"1991Y1:1995Y1\"]"
   ]
  },
  {
   "cell_type": "code",
   "execution_count": 254,
   "metadata": {},
   "outputs": [
    {
     "data": {
      "text/plain": [
       "Workspace: Variables\n",
       "nb variables: 1\n",
       "filename: c:\\soft\\Miniconda3\\Lib\\site-packages\\iode\\tests\\data\\fun.var\n",
       "description: Modèle fun - Simulation 1                         \n",
       "sample: 1991Y1:1995Y1\n",
       "mode: LEVEL\n",
       "\n",
       "name\t1991Y1\t1992Y1\t1993Y1\t1994Y1\t1995Y1\n",
       "ACAF\t  1.06\t  1.11\t  1.15\t  1.16\t  1.16"
      ]
     },
     "execution_count": 254,
     "metadata": {},
     "output_type": "execute_result"
    }
   ],
   "source": [
    "variables[\"ACAF\", \"1991Y1:1995Y1\"] = variables[\"AQC\", \"1991Y1:1995Y1\"]\n",
    "variables[\"ACAF\", \"1991Y1:1995Y1\"]"
   ]
  },
  {
   "cell_type": "markdown",
   "metadata": {},
   "source": [
    "Set the values for a list of non-contiguous periods:"
   ]
  },
  {
   "cell_type": "code",
   "execution_count": 255,
   "metadata": {},
   "outputs": [
    {
     "data": {
      "text/plain": [
       "time\n",
       "1991Y1    1.0\n",
       "1993Y1    3.0\n",
       "1995Y1    5.0\n",
       "Name: ACAF, dtype: float64"
      ]
     },
     "execution_count": 255,
     "metadata": {},
     "output_type": "execute_result"
    }
   ],
   "source": [
    "values = [1.0, 3.0, 5.0]\n",
    "variables[\"ACAF\", [\"1991Y1\", \"1993Y1\", \"1995Y1\"]] = values\n",
    "variables[\"ACAF\", [\"1991Y1\", \"1993Y1\", \"1995Y1\"]]"
   ]
  },
  {
   "cell_type": "markdown",
   "metadata": {},
   "source": [
    "Update multiple variables at once:"
   ]
  },
  {
   "cell_type": "code",
   "execution_count": 256,
   "metadata": {},
   "outputs": [
    {
     "data": {
      "text/plain": [
       "Workspace: Variables\n",
       "nb variables: 3\n",
       "filename: c:\\soft\\Miniconda3\\Lib\\site-packages\\iode\\tests\\data\\fun.var\n",
       "description: Modèle fun - Simulation 1                         \n",
       "sample: 1991Y1:1995Y1\n",
       "mode: LEVEL\n",
       "\n",
       "name\t1991Y1\t1992Y1\t1993Y1\t1994Y1\t1995Y1\n",
       "ACAF\t 32.00\t 33.00\t 34.00\t 35.00\t 36.00\n",
       "ACAG\t 32.00\t 33.00\t 34.00\t 35.00\t 36.00\n",
       "AOUC\t 32.00\t 33.00\t 34.00\t 35.00\t 36.00"
      ]
     },
     "execution_count": 256,
     "metadata": {},
     "output_type": "execute_result"
    }
   ],
   "source": [
    "# 1) using a string\n",
    "variables[\"ACAF, ACAG, AOUC\", \"1991Y1:1995Y1\"] = \"t + 1\"\n",
    "variables[\"ACAF, ACAG, AOUC\", \"1991Y1:1995Y1\"]"
   ]
  },
  {
   "cell_type": "code",
   "execution_count": 257,
   "metadata": {},
   "outputs": [
    {
     "name": "stderr",
     "output_type": "stream",
     "text": [
      "c:\\soft\\Miniconda3\\Lib\\site-packages\\iode\\iode_database\\variables_database.py:1119: FutureWarning: Series.__getitem__ treating keys as positions is deprecated. In a future version, integer keys will always be treated as labels (consistent with DataFrame behavior). To access a value by position, use `ser.iloc[pos]`\n",
      "  self._cython_instance._update_variable(name, pos, values, key_periods)\n"
     ]
    },
    {
     "data": {
      "text/plain": [
       "Workspace: Variables\n",
       "nb variables: 3\n",
       "filename: c:\\soft\\Miniconda3\\Lib\\site-packages\\iode\\tests\\data\\fun.var\n",
       "description: Modèle fun - Simulation 1                         \n",
       "sample: 1991Y1:1995Y1\n",
       "mode: LEVEL\n",
       "\n",
       "name\t1991Y1\t1992Y1\t1993Y1\t1994Y1\t1995Y1\n",
       "ACAF\t 33.60\t 34.65\t 35.70\t 36.75\t 37.80\n",
       "ACAG\t    na\t-39.96\t-42.88\t-16.33\t-41.16\n",
       "AOUC\t  1.02\t    na\t  1.05\t    na\t  1.06"
      ]
     },
     "execution_count": 257,
     "metadata": {},
     "output_type": "execute_result"
    }
   ],
   "source": [
    "# 2) using a dict of values\n",
    "periods = [\"1991Y1\", \"1992Y1\", \"1993Y1\", \"1994Y1\", \"1995Y1\"]\n",
    "values = {\"ACAF\": \"ACAF * 1.05\",\n",
    "          \"ACAG\": [np.nan, -39.96, -42.88, -16.33, -41.16],\n",
    "          \"AOUC\": pd.Series([1.023, np.nan, 1.046, np.nan, 1.064], index=periods)}\n",
    "variables[\"ACAF, ACAG, AOUC\", \"1991Y1:1995Y1\"] = values\n",
    "variables[\"ACAF, ACAG, AOUC\", \"1991Y1:1995Y1\"]\n"
   ]
  },
  {
   "cell_type": "code",
   "execution_count": 258,
   "metadata": {},
   "outputs": [
    {
     "data": {
      "text/plain": [
       "Workspace: Variables\n",
       "nb variables: 3\n",
       "filename: c:\\soft\\Miniconda3\\Lib\\site-packages\\iode\\tests\\data\\fun.var\n",
       "description: Modèle fun - Simulation 1                         \n",
       "sample: 1991Y1:1995Y1\n",
       "mode: LEVEL\n",
       "\n",
       "name\t 1991Y1\t 1992Y1\t 1993Y1\t 1994Y1\t 1995Y1\n",
       "ACAF\t1991.00\t1992.00\t1993.00\t1994.00\t1995.00\n",
       "ACAG\t1996.00\t1997.00\t1998.00\t1999.00\t2000.00\n",
       "AOUC\t2001.00\t2002.00\t2003.00\t2004.00\t2005.00"
      ]
     },
     "execution_count": 258,
     "metadata": {},
     "output_type": "execute_result"
    }
   ],
   "source": [
    "# 3) using another variables database (subset)\n",
    "variables_subset = variables[\"ACAF, ACAG, AOUC\", \"1991Y1:1995Y1\"].copy()\n",
    "variables_subset[\"ACAF\"] = [1991, 1992, 1993, 1994, 1995]\n",
    "variables_subset[\"ACAG\"] = [1996, 1997, 1998, 1999, 2000]\n",
    "variables_subset[\"AOUC\"] = [2001, 2002, 2003, 2004, 2005]\n",
    "variables[\"ACAF, ACAG, AOUC\", \"1991Y1:1995Y1\"] = variables_subset\n",
    "variables[\"ACAF, ACAG, AOUC\", \"1991Y1:1995Y1\"]"
   ]
  },
  {
   "cell_type": "markdown",
   "metadata": {},
   "source": [
    "Delete a variable:"
   ]
  },
  {
   "cell_type": "code",
   "execution_count": 259,
   "metadata": {},
   "outputs": [
    {
     "data": {
      "text/plain": [
       "['A0', 'A1', 'A2', 'A5', 'ACAF', 'ACAG', 'AOUC', 'AOUC_', 'AQC']"
      ]
     },
     "execution_count": 259,
     "metadata": {},
     "output_type": "execute_result"
    }
   ],
   "source": [
    "variables.get_names(\"A*\")"
   ]
  },
  {
   "cell_type": "code",
   "execution_count": 260,
   "metadata": {},
   "outputs": [
    {
     "data": {
      "text/plain": [
       "['A0', 'A1', 'A2', 'A5', 'ACAG', 'AOUC', 'AOUC_', 'AQC']"
      ]
     },
     "execution_count": 260,
     "metadata": {},
     "output_type": "execute_result"
    }
   ],
   "source": [
    "del variables[\"ACAF\"]\n",
    "variables.get_names(\"A*\")"
   ]
  },
  {
   "cell_type": "markdown",
   "metadata": {},
   "source": [
    "### Workspace subsets\n",
    "\n",
    "IODE workspaces can contains a lot objects and it can be sometimes easier to work on a subset of the objects present in a workspace. To get a subset of an IODE workspace, a *pattern* can be passed to the `[]` operator. \n",
    "A (sub-)`pattern` is a list of characters representing a group of object names. It includes some special characters which have a special meaning:\n",
    "\n",
    "* `*` : any character sequence, even empty\n",
    "* `?` : any character (one and only one)\n",
    "* `@` : any alphanumerical char [A-Za-z0-9]\n",
    "* `&` : any non alphanumerical char\n",
    "* `|` : any alphanumeric character or none at the beginning and end of a string \n",
    "* `!` : any non-alphanumeric character or none at the beginning and end of a string \n",
    "* `\\` : escape the next character\n",
    "\n",
    "The *pattern* can contain sub-patterns, as well as, object names. The sub-patterns and object names are separated by a *separator* character which is either:\n",
    "\n",
    "* a whitespace `' '`\n",
    "* a comma `,`\n",
    "* a semi-colon `;`\n",
    "* a tabulation `\\t`\n",
    "* a newline `\\n`\n",
    "\n",
    "Note that the *pattern* can contain references to IODE lists which are prefixed with the symbol `$`.\n",
    "\n",
    "<div class=\"alert alert-info\">\n",
    "\n",
    "**Note**\n",
    "\n",
    "When an IODE object is added, updated or deleted from a subset of a workspace, the change is also applied to the global workspace. For example, if an equation is added to the subset of the *equations* workspace, the the change is also applied to the global *equations* database.\n",
    "\n",
    "To create an isolate subset of a workspace, use the [copy](../_generated/iode.Equations.copy.rst#iode.Equations.copy) method. This method returns a new workspace in which each object is a copy of the original object from the global workspace. Any change made to the *copied subset* will not be applied to the global workspace. This can be useful for example if you want to save previous values of scalars before estimating an equation or a block of equations and then restore the original values if the estimated values are not satisfying.\n",
    "\n",
    "</div>\n"
   ]
  },
  {
   "cell_type": "markdown",
   "metadata": {},
   "source": [
    "#### Comments - Equations - Identities - Lists - Scalars - Tables"
   ]
  },
  {
   "cell_type": "markdown",
   "metadata": {},
   "source": [
    "Let's first begin by reloading the example workspace for all IODE types:"
   ]
  },
  {
   "cell_type": "code",
   "execution_count": 261,
   "metadata": {},
   "outputs": [
    {
     "name": "stdout",
     "output_type": "stream",
     "text": [
      "Loading C:\\soft\\Miniconda3\\Lib\\site-packages\\iode\\tests\\data/fun.cmt\n",
      "317 objects loaded\n",
      "Loading C:\\soft\\Miniconda3\\Lib\\site-packages\\iode\\tests\\data/fun.eqs\n",
      "274 objects loaded\n",
      "Loading C:\\soft\\Miniconda3\\Lib\\site-packages\\iode\\tests\\data/fun.idt\n",
      "48 objects loaded\n",
      "Loading C:\\soft\\Miniconda3\\Lib\\site-packages\\iode\\tests\\data/fun.lst\n",
      "17 objects loaded\n",
      "Loading C:\\soft\\Miniconda3\\Lib\\site-packages\\iode\\tests\\data/fun.scl\n",
      "161 objects loaded\n",
      "Loading C:\\soft\\Miniconda3\\Lib\\site-packages\\iode\\tests\\data/fun.tbl\n",
      "46 objects loaded\n",
      "Loading C:\\soft\\Miniconda3\\Lib\\site-packages\\iode\\tests\\data/fun.var\n",
      "394 objects loaded\n"
     ]
    }
   ],
   "source": [
    "comments.load(f\"{SAMPLE_DATA_DIR}/fun.cmt\")\n",
    "equations.load(f\"{SAMPLE_DATA_DIR}/fun.eqs\")\n",
    "identities.load(f\"{SAMPLE_DATA_DIR}/fun.idt\")\n",
    "lists.load(f\"{SAMPLE_DATA_DIR}/fun.lst\")\n",
    "scalars.load(f\"{SAMPLE_DATA_DIR}/fun.scl\")\n",
    "tables.load(f\"{SAMPLE_DATA_DIR}/fun.tbl\")\n",
    "variables.load(f\"{SAMPLE_DATA_DIR}/fun.var\")"
   ]
  },
  {
   "cell_type": "code",
   "execution_count": 262,
   "metadata": {},
   "outputs": [
    {
     "data": {
      "text/plain": [
       "['ACAF', 'ACAG', 'AOUC', 'AQC']"
      ]
     },
     "execution_count": 262,
     "metadata": {},
     "output_type": "execute_result"
    }
   ],
   "source": [
    "# 1) get subset using a pattern\n",
    "comments_subset = comments[\"A*\"]\n",
    "comments_subset.names"
   ]
  },
  {
   "cell_type": "code",
   "execution_count": 263,
   "metadata": {},
   "outputs": [
    {
     "data": {
      "text/plain": [
       "'New Comment'"
      ]
     },
     "execution_count": 263,
     "metadata": {},
     "output_type": "execute_result"
    }
   ],
   "source": [
    "# 2) add a comment to the subset\n",
    "comments_subset[\"A0\"] = \"New Comment\"\n",
    "comments_subset[\"A0\"]"
   ]
  },
  {
   "cell_type": "code",
   "execution_count": 264,
   "metadata": {},
   "outputs": [
    {
     "data": {
      "text/plain": [
       "(True, 'New Comment')"
      ]
     },
     "execution_count": 264,
     "metadata": {},
     "output_type": "execute_result"
    }
   ],
   "source": [
    "# --> new comment also appears in the global workspace\n",
    "\"A0\" in comments, comments[\"A0\"]"
   ]
  },
  {
   "cell_type": "code",
   "execution_count": 265,
   "metadata": {},
   "outputs": [
    {
     "data": {
      "text/plain": [
       "'Updated Comment'"
      ]
     },
     "execution_count": 265,
     "metadata": {},
     "output_type": "execute_result"
    }
   ],
   "source": [
    "# 3) update a comment in the subset\n",
    "comments_subset[\"A0\"] = \"Updated Comment\"\n",
    "comments_subset[\"A0\"]"
   ]
  },
  {
   "cell_type": "code",
   "execution_count": 266,
   "metadata": {},
   "outputs": [
    {
     "data": {
      "text/plain": [
       "'Updated Comment'"
      ]
     },
     "execution_count": 266,
     "metadata": {},
     "output_type": "execute_result"
    }
   ],
   "source": [
    "# --> comment is also updated in the global workspace\n",
    "comments[\"A0\"]"
   ]
  },
  {
   "cell_type": "code",
   "execution_count": 267,
   "metadata": {},
   "outputs": [
    {
     "data": {
      "text/plain": [
       "['ACAF', 'ACAG', 'AOUC', 'AQC']"
      ]
     },
     "execution_count": 267,
     "metadata": {},
     "output_type": "execute_result"
    }
   ],
   "source": [
    "# delete comment from the subset\n",
    "del comments_subset[\"A0\"]\n",
    "comments_subset.names"
   ]
  },
  {
   "cell_type": "code",
   "execution_count": 268,
   "metadata": {},
   "outputs": [
    {
     "data": {
      "text/plain": [
       "False"
      ]
     },
     "execution_count": 268,
     "metadata": {},
     "output_type": "execute_result"
    }
   ],
   "source": [
    "# NOTE: the comment has also been deleted from the global database\n",
    "\"A0\" in comments"
   ]
  },
  {
   "cell_type": "code",
   "execution_count": 269,
   "metadata": {},
   "outputs": [
    {
     "data": {
      "text/plain": [
       "['ACAF', 'ACAG', 'AOUC', 'AQC']"
      ]
     },
     "execution_count": 269,
     "metadata": {},
     "output_type": "execute_result"
    }
   ],
   "source": [
    "comments.get_names(\"A*\")"
   ]
  },
  {
   "cell_type": "markdown",
   "metadata": {},
   "source": [
    "#### Variables"
   ]
  },
  {
   "cell_type": "code",
   "execution_count": 270,
   "metadata": {},
   "outputs": [
    {
     "data": {
      "text/plain": [
       "['ACAF', 'ACAG', 'AOUC', 'AOUC_', 'AQC']"
      ]
     },
     "execution_count": 270,
     "metadata": {},
     "output_type": "execute_result"
    }
   ],
   "source": [
    "# 1) get subset using a pattern\n",
    "vars_subset = variables[\"A*\"]\n",
    "vars_subset.names"
   ]
  },
  {
   "cell_type": "code",
   "execution_count": 271,
   "metadata": {},
   "outputs": [
    {
     "data": {
      "text/plain": [
       "Workspace: Variables\n",
       "nb variables: 5\n",
       "filename: c:\\soft\\Miniconda3\\Lib\\site-packages\\iode\\tests\\data\\fun.var\n",
       "description: Modèle fun - Simulation 1                         \n",
       "sample: 1990Y1:1990Y1\n",
       "mode: LEVEL\n",
       "\n",
       " name\t1990Y1\n",
       "ACAF \t 23.77\n",
       "ACAG \t-28.17\n",
       "AOUC \t  1.00\n",
       "AOUC_\t  0.94\n",
       "AQC  \t  1.00"
      ]
     },
     "execution_count": 271,
     "metadata": {},
     "output_type": "execute_result"
    }
   ],
   "source": [
    "# get the values for a specific period -> Variables\n",
    "variables[\"A*\", \"1990Y1\"]"
   ]
  },
  {
   "cell_type": "code",
   "execution_count": 272,
   "metadata": {},
   "outputs": [
    {
     "data": {
      "text/plain": [
       "Workspace: Variables\n",
       "nb variables: 5\n",
       "filename: c:\\soft\\Miniconda3\\Lib\\site-packages\\iode\\tests\\data\\fun.var\n",
       "description: Modèle fun - Simulation 1                         \n",
       "sample: 1990Y1:2000Y1\n",
       "mode: LEVEL\n",
       "\n",
       " name\t1990Y1\t1991Y1\t1992Y1\t1993Y1\t1994Y1\t1995Y1\t1996Y1\t1997Y1\t1998Y1\t1999Y1\t2000Y1\n",
       "ACAF \t 23.77\t 26.24\t 30.16\t 34.66\t  8.16\t-13.13\t 32.17\t 39.94\t 29.65\t 13.53\t 10.05\n",
       "ACAG \t-28.17\t-30.93\t-40.29\t-43.16\t-16.03\t-41.85\t-40.24\t-32.93\t-38.35\t-39.86\t-41.53\n",
       "AOUC \t  1.00\t  1.02\t  1.03\t  1.03\t  1.05\t  1.05\t  1.05\t  1.08\t  1.09\t  1.11\t  1.12\n",
       "AOUC_\t  0.94\t  0.96\t  0.97\t  0.98\t  0.99\t  1.00\t  1.00\t  1.03\t  1.04\t  1.08\t  1.10\n",
       "AQC  \t  1.00\t  1.06\t  1.11\t  1.15\t  1.16\t  1.16\t  1.16\t  1.20\t  1.20\t  1.34\t  1.34"
      ]
     },
     "execution_count": 272,
     "metadata": {},
     "output_type": "execute_result"
    }
   ],
   "source": [
    "# get the variable values for range of periods -> Variables\n",
    "variables[\"A*\", \"1990Y1:2000Y1\"]"
   ]
  },
  {
   "cell_type": "code",
   "execution_count": 273,
   "metadata": {},
   "outputs": [
    {
     "data": {
      "text/html": [
       "<div>\n",
       "<style scoped>\n",
       "    .dataframe tbody tr th:only-of-type {\n",
       "        vertical-align: middle;\n",
       "    }\n",
       "\n",
       "    .dataframe tbody tr th {\n",
       "        vertical-align: top;\n",
       "    }\n",
       "\n",
       "    .dataframe thead th {\n",
       "        text-align: right;\n",
       "    }\n",
       "</style>\n",
       "<table border=\"1\" class=\"dataframe\">\n",
       "  <thead>\n",
       "    <tr style=\"text-align: right;\">\n",
       "      <th>time</th>\n",
       "      <th>1990Y1</th>\n",
       "      <th>1995Y1</th>\n",
       "      <th>2000Y1</th>\n",
       "    </tr>\n",
       "    <tr>\n",
       "      <th>variables</th>\n",
       "      <th></th>\n",
       "      <th></th>\n",
       "      <th></th>\n",
       "    </tr>\n",
       "  </thead>\n",
       "  <tbody>\n",
       "    <tr>\n",
       "      <th>ACAF</th>\n",
       "      <td>23.771000</td>\n",
       "      <td>-13.130997</td>\n",
       "      <td>10.046611</td>\n",
       "    </tr>\n",
       "    <tr>\n",
       "      <th>ACAG</th>\n",
       "      <td>-28.172186</td>\n",
       "      <td>-41.845993</td>\n",
       "      <td>-41.534787</td>\n",
       "    </tr>\n",
       "    <tr>\n",
       "      <th>AOUC</th>\n",
       "      <td>1.000000</td>\n",
       "      <td>1.049891</td>\n",
       "      <td>1.116238</td>\n",
       "    </tr>\n",
       "    <tr>\n",
       "      <th>AOUC_</th>\n",
       "      <td>0.937359</td>\n",
       "      <td>0.995263</td>\n",
       "      <td>1.101957</td>\n",
       "    </tr>\n",
       "    <tr>\n",
       "      <th>AQC</th>\n",
       "      <td>1.000000</td>\n",
       "      <td>1.161687</td>\n",
       "      <td>1.338603</td>\n",
       "    </tr>\n",
       "  </tbody>\n",
       "</table>\n",
       "</div>"
      ],
      "text/plain": [
       "time          1990Y1     1995Y1     2000Y1\n",
       "variables                                 \n",
       "ACAF       23.771000 -13.130997  10.046611\n",
       "ACAG      -28.172186 -41.845993 -41.534787\n",
       "AOUC        1.000000   1.049891   1.116238\n",
       "AOUC_       0.937359   0.995263   1.101957\n",
       "AQC         1.000000   1.161687   1.338603"
      ]
     },
     "execution_count": 273,
     "metadata": {},
     "output_type": "execute_result"
    }
   ],
   "source": [
    "# get the variable values for a list of non-contiguous periods -> pandas DataFrame\n",
    "variables[\"A*\", [\"1990Y1\", \"1995Y1\", \"2000Y1\"]]"
   ]
  },
  {
   "cell_type": "code",
   "execution_count": 274,
   "metadata": {},
   "outputs": [
    {
     "data": {
      "text/plain": [
       "Workspace: Variables\n",
       "nb variables: 1\n",
       "filename: c:\\soft\\Miniconda3\\Lib\\site-packages\\iode\\tests\\data\\fun.var\n",
       "description: Modèle fun - Simulation 1                         \n",
       "sample: 1960Y1:2015Y1\n",
       "mode: LEVEL\n",
       "\n",
       "name\t1960Y1\t1961Y1\t1962Y1\t1963Y1\t1964Y1\t1965Y1\t...\t2009Y1\t2010Y1\t2011Y1\t2012Y1\t2013Y1\t2014Y1\t2015Y1\n",
       "A0  \t    na\t    na\t    na\t    na\t    na\t    na\t...\t    na\t    na\t    na\t    na\t    na\t    na\t    na"
      ]
     },
     "execution_count": 274,
     "metadata": {},
     "output_type": "execute_result"
    }
   ],
   "source": [
    "# 2) add a variable to the subset\n",
    "vars_subset[\"A0\"] = np.nan\n",
    "vars_subset[\"A0\"]              "
   ]
  },
  {
   "cell_type": "code",
   "execution_count": 275,
   "metadata": {},
   "outputs": [
    {
     "data": {
      "text/plain": [
       "True"
      ]
     },
     "execution_count": 275,
     "metadata": {},
     "output_type": "execute_result"
    }
   ],
   "source": [
    "# --> new variable also appears in the global workspace\n",
    "\"A0\" in variables            "
   ]
  },
  {
   "cell_type": "code",
   "execution_count": 276,
   "metadata": {},
   "outputs": [
    {
     "data": {
      "text/plain": [
       "Workspace: Variables\n",
       "nb variables: 1\n",
       "filename: c:\\soft\\Miniconda3\\Lib\\site-packages\\iode\\tests\\data\\fun.var\n",
       "description: Modèle fun - Simulation 1                         \n",
       "sample: 1960Y1:2015Y1\n",
       "mode: LEVEL\n",
       "\n",
       "name\t1960Y1\t1961Y1\t1962Y1\t1963Y1\t1964Y1\t1965Y1\t...\t2009Y1\t2010Y1\t2011Y1\t2012Y1\t2013Y1\t2014Y1\t2015Y1\n",
       "A0  \t    na\t    na\t    na\t    na\t    na\t    na\t...\t    na\t    na\t    na\t    na\t    na\t    na\t    na"
      ]
     },
     "execution_count": 276,
     "metadata": {},
     "output_type": "execute_result"
    }
   ],
   "source": [
    "variables[\"A0\"]"
   ]
  },
  {
   "cell_type": "code",
   "execution_count": 277,
   "metadata": {},
   "outputs": [
    {
     "data": {
      "text/plain": [
       "Workspace: Variables\n",
       "nb variables: 1\n",
       "filename: c:\\soft\\Miniconda3\\Lib\\site-packages\\iode\\tests\\data\\fun.var\n",
       "description: Modèle fun - Simulation 1                         \n",
       "sample: 1960Y1:2015Y1\n",
       "mode: LEVEL\n",
       "\n",
       "name\t1960Y1\t1961Y1\t1962Y1\t1963Y1\t1964Y1\t1965Y1\t...\t2009Y1\t2010Y1\t2011Y1\t2012Y1\t2013Y1\t2014Y1\t2015Y1\n",
       "A0  \t  0.00\t  0.00\t  0.00\t  0.00\t  0.00\t  0.00\t...\t  0.00\t  0.00\t  0.00\t  0.00\t  0.00\t  0.00\t  0.00"
      ]
     },
     "execution_count": 277,
     "metadata": {},
     "output_type": "execute_result"
    }
   ],
   "source": [
    "# 3) update a variable in the subset\n",
    "vars_subset[\"A0\"] = 0.0\n",
    "vars_subset[\"A0\"]              "
   ]
  },
  {
   "cell_type": "code",
   "execution_count": 278,
   "metadata": {},
   "outputs": [
    {
     "data": {
      "text/plain": [
       "Workspace: Variables\n",
       "nb variables: 1\n",
       "filename: c:\\soft\\Miniconda3\\Lib\\site-packages\\iode\\tests\\data\\fun.var\n",
       "description: Modèle fun - Simulation 1                         \n",
       "sample: 1960Y1:2015Y1\n",
       "mode: LEVEL\n",
       "\n",
       "name\t1960Y1\t1961Y1\t1962Y1\t1963Y1\t1964Y1\t1965Y1\t...\t2009Y1\t2010Y1\t2011Y1\t2012Y1\t2013Y1\t2014Y1\t2015Y1\n",
       "A0  \t  0.00\t  0.00\t  0.00\t  0.00\t  0.00\t  0.00\t...\t  0.00\t  0.00\t  0.00\t  0.00\t  0.00\t  0.00\t  0.00"
      ]
     },
     "execution_count": 278,
     "metadata": {},
     "output_type": "execute_result"
    }
   ],
   "source": [
    "# --> variable is also updated in the global workspace\n",
    "variables[\"A0\"]                     "
   ]
  },
  {
   "cell_type": "code",
   "execution_count": 279,
   "metadata": {},
   "outputs": [
    {
     "data": {
      "text/plain": [
       "False"
      ]
     },
     "execution_count": 279,
     "metadata": {},
     "output_type": "execute_result"
    }
   ],
   "source": [
    "# delete one variable from a subset of the global database\n",
    "del vars_subset[\"A0\"]\n",
    "\"A0\" in vars_subset"
   ]
  },
  {
   "cell_type": "code",
   "execution_count": 280,
   "metadata": {},
   "outputs": [
    {
     "data": {
      "text/plain": [
       "False"
      ]
     },
     "execution_count": 280,
     "metadata": {},
     "output_type": "execute_result"
    }
   ],
   "source": [
    "# NOTE: the variable has also been deleted from the global database\n",
    "\"A0\" in variables"
   ]
  },
  {
   "cell_type": "markdown",
   "metadata": {},
   "source": [
    "It is also possible to work on subset over names and periods:"
   ]
  },
  {
   "cell_type": "code",
   "execution_count": 281,
   "metadata": {},
   "outputs": [
    {
     "data": {
      "text/plain": [
       "['ACAF', 'ACAG', 'AOUC', 'AOUC_', 'AQC']"
      ]
     },
     "execution_count": 281,
     "metadata": {},
     "output_type": "execute_result"
    }
   ],
   "source": [
    "# 1) get subset over names and periods -> Variables\n",
    "vars_subset = variables[\"A*\", \"1991Y1:1995Y1\"]\n",
    "vars_subset.names"
   ]
  },
  {
   "cell_type": "code",
   "execution_count": 282,
   "metadata": {},
   "outputs": [
    {
     "data": {
      "text/plain": [
       "Workspace: Variables\n",
       "nb variables: 5\n",
       "filename: c:\\soft\\Miniconda3\\Lib\\site-packages\\iode\\tests\\data\\fun.var\n",
       "description: Modèle fun - Simulation 1                         \n",
       "sample: 1991Y1:1995Y1\n",
       "mode: LEVEL\n",
       "\n",
       " name\t1991Y1\t1992Y1\t1993Y1\t1994Y1\t1995Y1\n",
       "ACAF \t 26.24\t 30.16\t 34.66\t  8.16\t-13.13\n",
       "ACAG \t-30.93\t-40.29\t-43.16\t-16.03\t-41.85\n",
       "AOUC \t  1.02\t  1.03\t  1.03\t  1.05\t  1.05\n",
       "AOUC_\t  0.96\t  0.97\t  0.98\t  0.99\t  1.00\n",
       "AQC  \t  1.06\t  1.11\t  1.15\t  1.16\t  1.16"
      ]
     },
     "execution_count": 282,
     "metadata": {},
     "output_type": "execute_result"
    }
   ],
   "source": [
    "vars_subset"
   ]
  },
  {
   "cell_type": "code",
   "execution_count": 283,
   "metadata": {},
   "outputs": [
    {
     "data": {
      "text/plain": [
       "Workspace: Variables\n",
       "nb variables: 1\n",
       "filename: c:\\soft\\Miniconda3\\Lib\\site-packages\\iode\\tests\\data\\fun.var\n",
       "description: Modèle fun - Simulation 1                         \n",
       "sample: 1991Y1:1995Y1\n",
       "mode: LEVEL\n",
       "\n",
       "name\t1991Y1\t1992Y1\t1993Y1\t1994Y1\t1995Y1\n",
       "ACAF\t  1.00\t  1.00\t  1.00\t  1.00\t  1.00"
      ]
     },
     "execution_count": 283,
     "metadata": {},
     "output_type": "execute_result"
    }
   ],
   "source": [
    "# 2) update a variable in the subset\n",
    "vars_subset[\"ACAF\"] = 1.0\n",
    "vars_subset[\"ACAF\"]"
   ]
  },
  {
   "cell_type": "code",
   "execution_count": 284,
   "metadata": {},
   "outputs": [
    {
     "data": {
      "text/plain": [
       "1.0"
      ]
     },
     "execution_count": 284,
     "metadata": {},
     "output_type": "execute_result"
    }
   ],
   "source": [
    "# --> variable is also updated in the global workspace\n",
    "variables[\"ACAF\", \"1991Y1\"]"
   ]
  },
  {
   "cell_type": "code",
   "execution_count": 285,
   "metadata": {},
   "outputs": [
    {
     "data": {
      "text/plain": [
       "1.0"
      ]
     },
     "execution_count": 285,
     "metadata": {},
     "output_type": "execute_result"
    }
   ],
   "source": [
    "variables[\"ACAF\", \"1995Y1\"]"
   ]
  },
  {
   "cell_type": "markdown",
   "metadata": {},
   "source": [
    "<div class=\"alert alert-info\">\n",
    "\n",
    "**Note**\n",
    "\n",
    "Selecting non-contiguous periods will return a pandas object, not a Variables object. This is because the IODE Variables workspace is designed to work with contiguous periods. The pandas object is not a view of the Variables workspace, but a copy of the data. Modifying a value of the pandas object will not affect the Variables workspace.\n",
    "\n",
    "</div>\n"
   ]
  },
  {
   "cell_type": "code",
   "execution_count": 286,
   "metadata": {},
   "outputs": [
    {
     "data": {
      "text/html": [
       "<div>\n",
       "<style scoped>\n",
       "    .dataframe tbody tr th:only-of-type {\n",
       "        vertical-align: middle;\n",
       "    }\n",
       "\n",
       "    .dataframe tbody tr th {\n",
       "        vertical-align: top;\n",
       "    }\n",
       "\n",
       "    .dataframe thead th {\n",
       "        text-align: right;\n",
       "    }\n",
       "</style>\n",
       "<table border=\"1\" class=\"dataframe\">\n",
       "  <thead>\n",
       "    <tr style=\"text-align: right;\">\n",
       "      <th>time</th>\n",
       "      <th>1990Y1</th>\n",
       "      <th>1995Y1</th>\n",
       "      <th>2000Y1</th>\n",
       "    </tr>\n",
       "    <tr>\n",
       "      <th>variables</th>\n",
       "      <th></th>\n",
       "      <th></th>\n",
       "      <th></th>\n",
       "    </tr>\n",
       "  </thead>\n",
       "  <tbody>\n",
       "    <tr>\n",
       "      <th>ACAF</th>\n",
       "      <td>23.771000</td>\n",
       "      <td>1.000000</td>\n",
       "      <td>10.046611</td>\n",
       "    </tr>\n",
       "    <tr>\n",
       "      <th>ACAG</th>\n",
       "      <td>-28.172186</td>\n",
       "      <td>-41.845993</td>\n",
       "      <td>-41.534787</td>\n",
       "    </tr>\n",
       "    <tr>\n",
       "      <th>AOUC</th>\n",
       "      <td>1.000000</td>\n",
       "      <td>1.049891</td>\n",
       "      <td>1.116238</td>\n",
       "    </tr>\n",
       "    <tr>\n",
       "      <th>AOUC_</th>\n",
       "      <td>0.937359</td>\n",
       "      <td>0.995263</td>\n",
       "      <td>1.101957</td>\n",
       "    </tr>\n",
       "    <tr>\n",
       "      <th>AQC</th>\n",
       "      <td>1.000000</td>\n",
       "      <td>1.161687</td>\n",
       "      <td>1.338603</td>\n",
       "    </tr>\n",
       "  </tbody>\n",
       "</table>\n",
       "</div>"
      ],
      "text/plain": [
       "time          1990Y1     1995Y1     2000Y1\n",
       "variables                                 \n",
       "ACAF       23.771000   1.000000  10.046611\n",
       "ACAG      -28.172186 -41.845993 -41.534787\n",
       "AOUC        1.000000   1.049891   1.116238\n",
       "AOUC_       0.937359   0.995263   1.101957\n",
       "AQC         1.000000   1.161687   1.338603"
      ]
     },
     "execution_count": 286,
     "metadata": {},
     "output_type": "execute_result"
    }
   ],
   "source": [
    "df_vars_subset = variables[\"A*\", [\"1990Y1\", \"1995Y1\", \"2000Y1\"]]\n",
    "df_vars_subset"
   ]
  },
  {
   "cell_type": "markdown",
   "metadata": {},
   "source": [
    "## Arithmetic Operations On Variables"
   ]
  },
  {
   "cell_type": "code",
   "execution_count": 287,
   "metadata": {},
   "outputs": [
    {
     "name": "stdout",
     "output_type": "stream",
     "text": [
      "Loading C:\\soft\\Miniconda3\\Lib\\site-packages\\iode\\tests\\data/fun.var\n",
      "394 objects loaded\n"
     ]
    },
    {
     "data": {
      "text/plain": [
       "Workspace: Variables\n",
       "nb variables: 5\n",
       "filename: c:\\soft\\Miniconda3\\Lib\\site-packages\\iode\\tests\\data\\fun.var\n",
       "description: Modèle fun - Simulation 1                         \n",
       "sample: 1991Y1:1995Y1\n",
       "mode: LEVEL\n",
       "\n",
       " name\t1991Y1\t1992Y1\t1993Y1\t1994Y1\t1995Y1\n",
       "ACAF \t 26.24\t 30.16\t 34.66\t  8.16\t-13.13\n",
       "ACAG \t-30.93\t-40.29\t-43.16\t-16.03\t-41.85\n",
       "AOUC \t  1.02\t  1.03\t  1.03\t  1.05\t  1.05\n",
       "AOUC_\t  0.96\t  0.97\t  0.98\t  0.99\t  1.00\n",
       "AQC  \t  1.06\t  1.11\t  1.15\t  1.16\t  1.16"
      ]
     },
     "execution_count": 287,
     "metadata": {},
     "output_type": "execute_result"
    }
   ],
   "source": [
    "# reload variables to start from a clean state\n",
    "variables.load(f\"{SAMPLE_DATA_DIR}/fun.var\")\n",
    "\n",
    "# select a subset of variables for the examples below\n",
    "vars_subset = variables[\"A*\", \"1991Y1:1995Y1\"]\n",
    "vars_subset"
   ]
  },
  {
   "cell_type": "markdown",
   "metadata": {},
   "source": [
    "### With a float"
   ]
  },
  {
   "cell_type": "code",
   "execution_count": 288,
   "metadata": {},
   "outputs": [
    {
     "data": {
      "text/plain": [
       "Workspace: Variables\n",
       "nb variables: 5\n",
       "filename: c:\\soft\\Miniconda3\\Lib\\site-packages\\iode\\tests\\data\\fun.var\n",
       "description: Modèle fun - Simulation 1                         \n",
       "sample: 1991Y1:1995Y1\n",
       "mode: LEVEL\n",
       "\n",
       " name\t1991Y1\t1992Y1\t1993Y1\t1994Y1\t1995Y1\n",
       "ACAF \t 28.24\t 32.16\t 36.66\t 10.16\t-11.13\n",
       "ACAG \t-28.93\t-38.29\t-41.16\t-14.03\t-39.85\n",
       "AOUC \t  3.02\t  3.03\t  3.03\t  3.05\t  3.05\n",
       "AOUC_\t  2.96\t  2.97\t  2.98\t  2.99\t  3.00\n",
       "AQC  \t  3.06\t  3.11\t  3.15\t  3.16\t  3.16"
      ]
     },
     "execution_count": 288,
     "metadata": {},
     "output_type": "execute_result"
    }
   ],
   "source": [
    "# add a scalar to all values of a subset of variables\n",
    "new_vars_subset = vars_subset + 2.0\n",
    "new_vars_subset"
   ]
  },
  {
   "cell_type": "markdown",
   "metadata": {},
   "source": [
    "### Between (Subsets Of) Variables Objects"
   ]
  },
  {
   "cell_type": "code",
   "execution_count": 289,
   "metadata": {},
   "outputs": [
    {
     "data": {
      "text/plain": [
       "Workspace: Variables\n",
       "nb variables: 5\n",
       "filename: c:\\soft\\Miniconda3\\Lib\\site-packages\\iode\\tests\\data\\fun.var\n",
       "description: Modèle fun - Simulation 1                         \n",
       "sample: 1991Y1:1995Y1\n",
       "mode: LEVEL\n",
       "\n",
       " name\t1991Y1\t1992Y1\t1993Y1\t1994Y1\t1995Y1\n",
       "ACAF \t 52.48\t 60.32\t 69.32\t 16.32\t-26.26\n",
       "ACAG \t-61.87\t-80.57\t-86.32\t-32.06\t-83.69\n",
       "AOUC \t  2.05\t  2.06\t  2.06\t  2.09\t  2.10\n",
       "AOUC_\t  1.93\t  1.95\t  1.96\t  1.98\t  1.99\n",
       "AQC  \t  2.13\t  2.22\t  2.31\t  2.31\t  2.32"
      ]
     },
     "execution_count": 289,
     "metadata": {},
     "output_type": "execute_result"
    }
   ],
   "source": [
    "# add two subsets of variables\n",
    "new_vars_subset = vars_subset + vars_subset\n",
    "new_vars_subset"
   ]
  },
  {
   "cell_type": "markdown",
   "metadata": {},
   "source": [
    "### With pandas Series or DataFrame\n",
    "\n",
    "See the `Arithmetic Operations On Variables With pandas Series And DataFrames` section from the [IODE and pandas](pandas.ipynb) tutorial for more details."
   ]
  },
  {
   "cell_type": "markdown",
   "metadata": {},
   "source": [
    "### With larray Arrays\n",
    "\n",
    "See the `Arithmetic Operations On Variables With larray Array objects` section from the [IODE and larray](larray.ipynb) tutorial for more details."
   ]
  },
  {
   "cell_type": "markdown",
   "metadata": {},
   "source": [
    "### With numpy ndarrays\n",
    "\n",
    "See the `Arithmetic Operations On Variables With numpy ndarray objects` section from the [IODE and numpy](numpy.ipynb) tutorial for more details."
   ]
  },
  {
   "cell_type": "markdown",
   "metadata": {},
   "source": [
    "## Computed Tables\n",
    "\n",
    "To compute a table according to a *generalized sample* and *extra files*, use the [Table.compute](../_generated/iode.Table.compute.rst#iode.Table.compute) method of the IODE table objects:"
   ]
  },
  {
   "cell_type": "code",
   "execution_count": 290,
   "metadata": {},
   "outputs": [
    {
     "name": "stdout",
     "output_type": "stream",
     "text": [
      "Help on function compute in module iode.objects.table:\n",
      "\n",
      "compute(self, generalized_sample: str, extra_files: Union[str, pathlib.Path, List[str], List[pathlib.Path]] = None, nb_decimals: int = 2, quiet: bool = True) -> iode.computed_table.computed_table.ComputedTable\n",
      "    Compute the values corresponding to LEC expressions in cells.\n",
      "    \n",
      "    The values are calculated for given a *generalized sample*. \n",
      "    This sample contains the following information:\n",
      "    \n",
      "      - the sampling of the periods to take into account \n",
      "      - the operations to be performed on the periods\n",
      "      - the list of files involved in the computation of the table\n",
      "      - the operations to be performed between files\n",
      "      - the repetition factor\n",
      "    \n",
      "    The syntax of the *generalized sample* follows the rules described below.\n",
      "    \n",
      "    The syntax of a period: \n",
      "    \n",
      "      - a period is indicated as in LEC: 'yyPpp' or 'yyyyPpp' where yyyy indicates the year, \n",
      "        P the periodicity and pp the sub-period (e.g. 1990Y1) \n",
      "      - a period can be shifted n periods to the left or right using the operators <n and >n \n",
      "      - when used with a zero argument, the shift oprerators have a special meaning: \n",
      "          - <0 means \"first period of the year\" \n",
      "          - >0 means \"last period of the year\" \n",
      "      - the special periods 'BOS', 'EOS' and 'NOW' can be used to represent the beginning \n",
      "        or end of the current sample or the current period (PC clock)\n",
      "      - the special periods 'BOS1', 'EOS1' and 'NOW1' are equivalent to the previous ones, \n",
      "        except that they are moved to the first sub-period of the year of 'BOS', 'EOS' and \n",
      "        'NOW' respectively (if NOW = 2012M5, NOW1 = 2012M1)\n",
      "      - each period is separated from the next by a semicolon \n",
      "      - a period or group of periods can be repeated: simply place the colon character (:) after \n",
      "        the definition of the column or group of columns, followed by the desired number of repetitions. \n",
      "        Repetitions are made with an increment of one period, unless followed by an asterisk and a value. \n",
      "        This value is then the repeat increment. It can be negative, in which case the periods are \n",
      "        presented in decreasing order\n",
      "      - the repeat, increment and shift can be the words PER (or P) or SUB (or S), which respectively indicate \n",
      "        the number of periods in a year of the current sample and the current sub-period\n",
      "      - the file definition is optional and is enclosed in square brackets. \n",
      "        It applies to all preceding period definitions.\n",
      "    \n",
      "    The following file operations are possible:\n",
      "    \n",
      "      - absolute value: [1] \n",
      "      - difference: [1-2] \n",
      "      - difference in percent: [1/2] \n",
      "      - sum: [1+2] \n",
      "      - average: [1~2] or [1^2]. \n",
      "    \n",
      "    The file [1] always refers to the current workspace. \n",
      "    Extra files (if passed as argument) are numeroted from 2 to 5.\n",
      "    \n",
      "    The following period operations are possible:\n",
      "    \n",
      "      - value: (75) \n",
      "      - growth rate over one or more periods: (75/74, 75/70) \n",
      "      - average growth rate: (75//70) \n",
      "      - difference: (75-74, 75-70) \n",
      "      - average difference: (75--70) \n",
      "      - average: (75~74) or (75^74) \n",
      "      - sum of consecutive periods: (70Q1+70Q4) \n",
      "      - index or base value: (76=70) \n",
      "    \n",
      "    Repetition can be performed with an increment greater than 1 or less than 0: \n",
      "    simply place a star followed by the step after the number of repetitions (70:3*5 = 70, 75, 80).\n",
      "    \n",
      "    Examples::\n",
      "    \n",
      "        70; 75; 80:6 = 70:3*5; 81:5 = 70; 75; 80; 81; 82; 83; 84; 85\n",
      "        70/69:2 = 70/69; 71/70\n",
      "        (70; 70-69):2 = 70; 70-69; 71; 71-70;\n",
      "        70[1,2]:2*5 = 70[1]; 70[2]; 75[1]; 75[2]\n",
      "        (70;75)[1,2-1] = 70[1]; 75[1]; 70[2-1]; 75[2-1]\n",
      "        (70;75;(80; 80/79):2)[1,2] = 70[1]; 70[2]; 75[1]; 75[2]; 80[1]; 80[2]; 80/79[1]; 80/79[2] 81[1]; 81[2]; 81/80[1]; 81/80[2]\n",
      "        2000Y1>5 = 2005Y1\n",
      "        1999M1>12 = 2000M1\n",
      "        EOS<1 = 2019Y1                         (if EOS == 2020Y1)\n",
      "        BOS<1 = 1959Y1                         (if BOS == 1960Y1)\n",
      "        EOS<4:5*-1 =2016;2017;2018;2019;2020   (if EOS = 2020Y1)\n",
      "    \n",
      "    Parameters\n",
      "    ----------\n",
      "    generalized_sample: str\n",
      "        Generalized sample (see above).\n",
      "    extra_files: str or Path or list(str) or list(Path), optional\n",
      "        (List of) extra file(s) referenced in the generalized sample.\n",
      "        Maximum 4 files can be passed as argument.\n",
      "        The file [1] always refers to the current workspace. \n",
      "        Extra files (if passed as argument) are numeroted from 2 to 5.\n",
      "        Default to None (no extra files).\n",
      "    nb_decimals: int, optional\n",
      "        The number of decimals to display.\n",
      "        Default to 2.\n",
      "    quiet: bool, optional\n",
      "        If True, suppresses the logging messages when loading the extra files.\n",
      "        Default to True.\n",
      "    \n",
      "    Returns\n",
      "    -------\n",
      "    ComputedTable\n",
      "    \n",
      "    Examples\n",
      "    --------\n",
      "    >>> from pathlib import Path\n",
      "    >>> from iode import SAMPLE_DATA_DIR\n",
      "    >>> from iode import Table, tables, variables\n",
      "    >>> tables.load(f\"{SAMPLE_DATA_DIR}/fun.tbl\")           # doctest: +ELLIPSIS, +NORMALIZE_WHITESPACE\n",
      "    Loading .../fun.tbl\n",
      "    46 objects loaded\n",
      "    >>> variables.load(f\"{SAMPLE_DATA_DIR}/fun.var\")        # doctest: +ELLIPSIS, +NORMALIZE_WHITESPACE\n",
      "    Loading .../fun.var\n",
      "    394 objects loaded\n",
      "    >>> tables[\"C8_1\"]          # doctest: +NORMALIZE_WHITESPACE\n",
      "    DIVIS | 1                                  |\n",
      "    TITLE |      \"Déterminants de l'output potentiel\"\n",
      "    ----- | ---------------------------------------------\n",
      "    CELL  |                                    |   \"#s\"\n",
      "    ----- | ---------------------------------------------\n",
      "    CELL  | \"Output potentiel\"                 |  Q_F+Q_I\n",
      "    CELL  | \"Stock de capital\"                 | KNFF[-1]\n",
      "    CELL  | \"Intensité de capital\"             |    KLFHP\n",
      "    CELL  | \"Productivité totale des facteurs\" |  TFPFHP_\n",
      "    <BLANKLINE>\n",
      "    nb lines: 8\n",
      "    nb columns: 2\n",
      "    language: 'ENGLISH'\n",
      "    gridx: 'MAJOR'\n",
      "    gridy: 'MAJOR'\n",
      "    graph_axis: 'VALUES'\n",
      "    graph_alignment: 'LEFT'\n",
      "    <BLANKLINE>\n",
      "    \n",
      "    >>> # simple time series (current workspace) - 6 observations - 4 decimals\n",
      "    >>> computed_table = tables[\"C8_1\"].compute(\"2000:6\", nb_decimals=4)\n",
      "    >>> computed_table              # doctest: +NORMALIZE_WHITESPACE\n",
      "       line title \\ period[file]     |     00    |     01    |     02    |     03    |     04    |     05\n",
      "    ---------------------------------------------------------------------------------------------------------\n",
      "    Output potentiel                 | 5495.2128 | 5627.8589 | 5748.7804 | 5857.9529 | 5966.1999 | 6103.6318\n",
      "    Stock de capital                 | 8083.5517 | 8359.8908 | 8647.9354 | 8910.3393 | 9175.8106 | 9468.8865\n",
      "    Intensité de capital             |    0.5032 |    0.4896 |    0.4758 |    0.4623 |    0.4481 |    0.4349\n",
      "    Productivité totale des facteurs |    0.9938 |    1.0037 |    1.0137 |    1.0239 |    1.0341 |    1.0445\n",
      "    <BLANKLINE>\n",
      "    \n",
      "    >>> # two time series (current workspace) - 5 observations - 2 decimals (default)\n",
      "    >>> computed_table = tables[\"C8_1\"].compute(\"(2010;2010/2009):5\")\n",
      "    >>> computed_table              # doctest: +NORMALIZE_WHITESPACE\n",
      "       line title \\ period[file]     |    10    | 10/09 |    11    | 11/10 |    12    | 12/11 |    13    | 13/12 |    14    | 14/13\n",
      "    --------------------------------------------------------------------------------------------------------------------------------\n",
      "    Output potentiel                 |  6936.11 |  1.74 |  7045.34 |  1.57 |  7161.54 |  1.65 |  7302.29 |  1.97 |  7460.12 |  2.16\n",
      "    Stock de capital                 | 11293.85 |  2.82 | 11525.01 |  2.05 | 11736.78 |  1.84 | 11975.49 |  2.03 | 12263.95 |  2.41\n",
      "    Intensité de capital             |     0.39 | -2.17 |     0.38 | -2.05 |     0.37 | -1.91 |     0.36 | -1.86 |     0.36 | -1.90\n",
      "    Productivité totale des facteurs |     1.10 |  1.00 |     1.11 |  1.00 |     1.12 |  1.00 |     1.13 |  1.00 |     1.14 |  1.00\n",
      "    <BLANKLINE>\n",
      "    \n",
      "    >>> # simple time series (current workspace + one extra file) - 5 observations - 2 decimals (default)\n",
      "    >>> sample_data_dir = Path(SAMPLE_DATA_DIR)\n",
      "    >>> computed_table = tables[\"C8_1\"].compute(\"2010[1;2]:5\", extra_files=sample_data_dir/\"ref.av\")\n",
      "    >>> computed_table              # doctest: +NORMALIZE_WHITESPACE\n",
      "       line title \\ period[file]     |  10[1]   |  10[2]   |  11[1]   |  11[2]   |  12[1]   |  12[2]   |  13[1]   |  13[2]   |  14[1]   |  14[2]    \n",
      "    ----------------------------------------------------------------------------------------------------------------------------------------------- \n",
      "    Output potentiel                 |  6936.11 |  6797.39 |  7045.34 |  6904.44 |  7161.54 |  7018.31 |  7302.29 |  7156.24 |  7460.12 |  7310.91  \n",
      "    Stock de capital                 | 11293.85 | 11067.97 | 11525.01 | 11294.51 | 11736.78 | 11502.05 | 11975.49 | 11735.98 | 12263.95 | 12018.67  \n",
      "    Intensité de capital             |     0.39 |     0.38 |     0.38 |     0.37 |     0.37 |     0.36 |     0.36 |     0.36 |     0.36 |     0.35  \n",
      "    Productivité totale des facteurs |     1.10 |     1.08 |     1.11 |     1.09 |     1.12 |     1.10 |     1.13 |     1.11 |     1.14 |     1.12  \n",
      "    <BLANKLINE>\n",
      "    >>> computed_table.files            # doctest: +ELLIPSIS, +NORMALIZE_WHITESPACE\n",
      "    ['...ref.av']\n",
      "    \n",
      "    >>> # simple time series (current workspace + 4 extra files) - 5 observations - 2 decimals (default)\n",
      "    >>> extra_files = [sample_data_dir / \"ref.av\", sample_data_dir / \"fun.av\", \n",
      "    ...                sample_data_dir / \"fun2.av\", sample_data_dir / \"a.var\"]\n",
      "    >>> computed_table = tables[\"C8_1\"].compute(\"2010[1;2;3;4;5]:1\", extra_files=extra_files)\n",
      "    >>> computed_table              # doctest: +NORMALIZE_WHITESPACE\n",
      "       line title \\ period[file]     |  10[1]   |  10[2]   |  10[3]   |  10[4]   | 10[5]         \n",
      "    -------------------------------------------------------------------------------------\n",
      "    Output potentiel                 |  6936.11 |  6797.39 |  6936.11 |  6936.11 |   --\n",
      "    Stock de capital                 | 11293.85 | 11067.97 | 11293.85 | 11293.85 |   --\n",
      "    Intensité de capital             |     0.39 |     0.38 |     0.39 |     0.39 |   --\n",
      "    Productivité totale des facteurs |     1.10 |     1.08 |     1.10 |     1.10 |   --\n",
      "    <BLANKLINE>\n",
      "    >>> [Path(filepath).name for filepath in computed_table.files]\n",
      "    ['fun.var', 'ref.av', 'fun.av', 'fun2.av', 'a.var']\n",
      "\n"
     ]
    }
   ],
   "source": [
    "help(Table.compute)"
   ]
  },
  {
   "cell_type": "code",
   "execution_count": 291,
   "metadata": {},
   "outputs": [
    {
     "data": {
      "text/plain": [
       "DIVIS | 1                                  |         \n",
       "TITLE |      \"Déterminants de l'output potentiel\"    \n",
       "----- | ---------------------------------------------\n",
       "CELL  |                                    |   \"#s\"  \n",
       "----- | ---------------------------------------------\n",
       "CELL  | \"Output potentiel\"                 |  Q_F+Q_I\n",
       "CELL  | \"Stock de capital\"                 | KNFF[-1]\n",
       "CELL  | \"Intensité de capital\"             |    KLFHP\n",
       "CELL  | \"Productivité totale des facteurs\" |  TFPFHP_\n",
       "\n",
       "nb lines: 8\n",
       "nb columns: 2\n",
       "language: 'ENGLISH'\n",
       "gridx: 'MAJOR'\n",
       "gridy: 'MAJOR'\n",
       "graph_axis: 'VALUES'\n",
       "graph_alignment: 'LEFT'"
      ]
     },
     "execution_count": 291,
     "metadata": {},
     "output_type": "execute_result"
    }
   ],
   "source": [
    "tables[\"C8_1\"]"
   ]
  },
  {
   "cell_type": "code",
   "execution_count": 292,
   "metadata": {},
   "outputs": [
    {
     "data": {
      "text/plain": [
       "   line title \\ period[file]     |     00    |     01    |     02    |     03    |     04    |     05   \n",
       "---------------------------------------------------------------------------------------------------------\n",
       "Output potentiel                 | 5495.2128 | 5627.8589 | 5748.7804 | 5857.9529 | 5966.1999 | 6103.6318\n",
       "Stock de capital                 | 8083.5517 | 8359.8908 | 8647.9354 | 8910.3393 | 9175.8106 | 9468.8865\n",
       "Intensité de capital             |    0.5032 |    0.4896 |    0.4758 |    0.4623 |    0.4481 |    0.4349\n",
       "Productivité totale des facteurs |    0.9938 |    1.0037 |    1.0137 |    1.0239 |    1.0341 |    1.0445"
      ]
     },
     "execution_count": 292,
     "metadata": {},
     "output_type": "execute_result"
    }
   ],
   "source": [
    "# simple time series (current workspace) - 6 observations - 4 decimals\n",
    "computed_table = tables[\"C8_1\"].compute(\"2000:6\", nb_decimals=4)\n",
    "computed_table"
   ]
  },
  {
   "cell_type": "code",
   "execution_count": 293,
   "metadata": {},
   "outputs": [
    {
     "data": {
      "text/plain": [
       "['Output potentiel',\n",
       " 'Stock de capital',\n",
       " 'Intensité de capital',\n",
       " 'Productivité totale des facteurs']"
      ]
     },
     "execution_count": 293,
     "metadata": {},
     "output_type": "execute_result"
    }
   ],
   "source": [
    "# get lines of the computed table\n",
    "computed_table.lines"
   ]
  },
  {
   "cell_type": "code",
   "execution_count": 294,
   "metadata": {},
   "outputs": [
    {
     "data": {
      "text/plain": [
       "['00', '01', '02', '03', '04', '05']"
      ]
     },
     "execution_count": 294,
     "metadata": {},
     "output_type": "execute_result"
    }
   ],
   "source": [
    "# get columns of the computed table\n",
    "computed_table.columns"
   ]
  },
  {
   "cell_type": "code",
   "execution_count": 295,
   "metadata": {},
   "outputs": [
    {
     "data": {
      "text/plain": [
       "   line title \\ period[file]     |    10    | 10/09 |    11    | 11/10 |    12    | 12/11 |    13    | 13/12 |    14    | 14/13\n",
       "--------------------------------------------------------------------------------------------------------------------------------\n",
       "Output potentiel                 |  6936.11 |  1.74 |  7045.34 |  1.57 |  7161.54 |  1.65 |  7302.29 |  1.97 |  7460.12 |  2.16\n",
       "Stock de capital                 | 11293.85 |  2.82 | 11525.01 |  2.05 | 11736.78 |  1.84 | 11975.49 |  2.03 | 12263.95 |  2.41\n",
       "Intensité de capital             |     0.39 | -2.17 |     0.38 | -2.05 |     0.37 | -1.91 |     0.36 | -1.86 |     0.36 | -1.90\n",
       "Productivité totale des facteurs |     1.10 |  1.00 |     1.11 |  1.00 |     1.12 |  1.00 |     1.13 |  1.00 |     1.14 |  1.00"
      ]
     },
     "execution_count": 295,
     "metadata": {},
     "output_type": "execute_result"
    }
   ],
   "source": [
    "# two time series (current workspace) - 5 observations - 2 decimals (default)\n",
    "computed_table = tables[\"C8_1\"].compute(\"(2010;2010/2009):5\")\n",
    "computed_table"
   ]
  },
  {
   "cell_type": "code",
   "execution_count": 296,
   "metadata": {},
   "outputs": [
    {
     "data": {
      "text/plain": [
       "   line title \\ period[file]     |  10[1]   |  10[2]   |  11[1]   |  11[2]   |  12[1]   |  12[2]   |  13[1]   |  13[2]   |  14[1]   |  14[2]  \n",
       "-----------------------------------------------------------------------------------------------------------------------------------------------\n",
       "Output potentiel                 |  6936.11 |  6797.39 |  7045.34 |  6904.44 |  7161.54 |  7018.31 |  7302.29 |  7156.24 |  7460.12 |  7310.91\n",
       "Stock de capital                 | 11293.85 | 11067.97 | 11525.01 | 11294.51 | 11736.78 | 11502.05 | 11975.49 | 11735.98 | 12263.95 | 12018.67\n",
       "Intensité de capital             |     0.39 |     0.38 |     0.38 |     0.37 |     0.37 |     0.36 |     0.36 |     0.36 |     0.36 |     0.35\n",
       "Productivité totale des facteurs |     1.10 |     1.08 |     1.11 |     1.09 |     1.12 |     1.10 |     1.13 |     1.11 |     1.14 |     1.12"
      ]
     },
     "execution_count": 296,
     "metadata": {},
     "output_type": "execute_result"
    }
   ],
   "source": [
    "from pathlib import Path\n",
    "\n",
    "# simple time series (current workspace + one extra file) - 5 observations - 2 decimals (default)\n",
    "sample_data_dir = Path(SAMPLE_DATA_DIR)\n",
    "computed_table = tables[\"C8_1\"].compute(\"2010[1;2]:5\", extra_files=sample_data_dir/\"ref.av\", quiet=True)\n",
    "computed_table"
   ]
  },
  {
   "cell_type": "code",
   "execution_count": 297,
   "metadata": {},
   "outputs": [
    {
     "data": {
      "text/plain": [
       "['c:\\\\soft\\\\Miniconda3\\\\Lib\\\\site-packages\\\\iode\\\\tests\\\\data\\\\fun.var',\n",
       " 'c:\\\\soft\\\\Miniconda3\\\\Lib\\\\site-packages\\\\iode\\\\tests\\\\data\\\\ref.av']"
      ]
     },
     "execution_count": 297,
     "metadata": {},
     "output_type": "execute_result"
    }
   ],
   "source": [
    "# get the list of files used to compute the table \n",
    "# (the first file represents the current workspace)\n",
    "computed_table.files"
   ]
  },
  {
   "cell_type": "code",
   "execution_count": 298,
   "metadata": {},
   "outputs": [
    {
     "data": {
      "text/plain": [
       "   line title \\ period[file]     |  10[1]   |  10[2]   |  10[3]   |  10[4]   | 10[5]\n",
       "-------------------------------------------------------------------------------------\n",
       "Output potentiel                 |  6936.11 |  6797.39 |  6936.11 |  6936.11 |    --\n",
       "Stock de capital                 | 11293.85 | 11067.97 | 11293.85 | 11293.85 |    --\n",
       "Intensité de capital             |     0.39 |     0.38 |     0.39 |     0.39 |    --\n",
       "Productivité totale des facteurs |     1.10 |     1.08 |     1.10 |     1.10 |    --"
      ]
     },
     "execution_count": 298,
     "metadata": {},
     "output_type": "execute_result"
    }
   ],
   "source": [
    "# simple time series (current workspace + 4 extra files) - 5 observations - 2 decimals (default)\n",
    "extra_files = [sample_data_dir / \"ref.av\", sample_data_dir / \"fun.av\", \n",
    "               sample_data_dir / \"fun2.av\", sample_data_dir / \"a.var\"]\n",
    "computed_table = tables[\"C8_1\"].compute(\"2010[1;2;3;4;5]:1\", extra_files=extra_files, quiet=True)\n",
    "computed_table"
   ]
  },
  {
   "cell_type": "code",
   "execution_count": 299,
   "metadata": {},
   "outputs": [
    {
     "data": {
      "text/plain": [
       "['c:\\\\soft\\\\Miniconda3\\\\Lib\\\\site-packages\\\\iode\\\\tests\\\\data\\\\fun.var',\n",
       " 'c:\\\\soft\\\\Miniconda3\\\\Lib\\\\site-packages\\\\iode\\\\tests\\\\data\\\\ref.av',\n",
       " 'c:\\\\soft\\\\Miniconda3\\\\Lib\\\\site-packages\\\\iode\\\\tests\\\\data\\\\fun.av',\n",
       " 'c:\\\\soft\\\\Miniconda3\\\\Lib\\\\site-packages\\\\iode\\\\tests\\\\data\\\\fun2.av',\n",
       " 'c:\\\\soft\\\\Miniconda3\\\\Lib\\\\site-packages\\\\iode\\\\tests\\\\data\\\\a.var']"
      ]
     },
     "execution_count": 299,
     "metadata": {},
     "output_type": "execute_result"
    }
   ],
   "source": [
    "# get the list of files used to compute the table\n",
    "# (the first file represents the current workspace)\n",
    "computed_table.files"
   ]
  },
  {
   "cell_type": "markdown",
   "metadata": {},
   "source": [
    "## Estimation\n",
    "\n",
    "To estimate either one equation or a block of equations, use the [Equation.estimate](../_generated/iode.Equation.estimate.rst#iode.Equation.estimate) method of the equation object."
   ]
  },
  {
   "cell_type": "code",
   "execution_count": 300,
   "metadata": {},
   "outputs": [
    {
     "name": "stdout",
     "output_type": "stream",
     "text": [
      "Help on method estimate in module iode.iode_database.equations_database:\n",
      "\n",
      "estimate(from_period: Union[str, iode.time.period.Period] = None, to_period: Union[str, iode.time.period.Period] = None, list_eqs: Union[str, List[str]] = None, quiet: bool = False) -> bool method of iode.iode_database.equations_database.Equations instance\n",
      "    Estimate an equation or a block of equations.\n",
      "    \n",
      "    At the end of the estimation process, certain variables and scalars are automatically created \n",
      "    if the process has converged. These variables and scalars can be used for computational purposes and, \n",
      "    as they are part of the global workspace, can be saved for future use.\n",
      "    \n",
      "    The tests resulting from the last estimation are saved as scalars. The same applies to residuals, \n",
      "    left-hand and right-hand members of equations.\n",
      "    \n",
      "    Saved tests (as scalars) have the following names (`e<ith>_*` for the <ith> equation of the block):\n",
      "    \n",
      "        - `e<ith>_n`  : number of sample periods \n",
      "        - `e<ith>_k`  : number of estimated coefficients \n",
      "        - `e<ith>_stdev` : std dev of residuals \n",
      "        - `e<ith>_meany` : mean of Y \n",
      "        - `e<ith>_ssres` : sum of squares of residuals \n",
      "        - `e<ith>_stderr` : std error \n",
      "        - `e<ith>_stderrp` : std error percent (in %) \n",
      "        - `e<ith>_fstat` : F-Stat \n",
      "        - `e<ith>_r2`  : R square \n",
      "        - `e<ith>_r2adj`  : adjusted R-squared \n",
      "        - `e<ith>_dw` : Durbin-Watson \n",
      "        - `e<ith>_loglik`  : Log Likelihood \n",
      "    \n",
      "    Calculated series are saved in special variables:\n",
      "    \n",
      "        - `_YCALC<i>` : right-hand side of the <ith> equation in the block\n",
      "        - `_YOBS<i>` : left-hand side of the <ith> equation in the block \n",
      "        - `_YRES<i>` : residuals of the <ith> equation of the block \n",
      "    \n",
      "    Outside the estimation sample, the series values are :math:`NA`.\n",
      "    \n",
      "    Parameters\n",
      "    ----------\n",
      "    from_period : str or Period, optional\n",
      "        The starting period of the execution range. \n",
      "        Defaults to the starting period of the current Variables sample.\n",
      "    to_period : str or Period, optional\n",
      "        The ending period of the execution range.\n",
      "        Defaults to the ending period of the current Variables sample.\n",
      "    list_eqs: str or list(str), optional\n",
      "        List of equations to be estimated. \n",
      "        If not provided, all equations of the present Equations database will be estimated.\n",
      "        Default to None (all equations).\n",
      "    quiet : bool, optional\n",
      "        If True, suppresses the log messages during the estimation process\n",
      "        Default to False.\n",
      "    \n",
      "    Returns\n",
      "    -------\n",
      "    bool\n",
      "        True if the estimation process has converged, False otherwise.\n",
      "    \n",
      "    Warnings\n",
      "    --------\n",
      "    If some equations to be estimated belongs to a same block, the *block* (:meth:`Equation.block`), \n",
      "    *method* (:meth:`Equation.method`), and *instruments* (':meth:`Equation.instruments`) of each of \n",
      "    them must have been updated before.\n",
      "    \n",
      "    Examples\n",
      "    --------\n",
      "    >>> from iode import SAMPLE_DATA_DIR, equations, scalars, variables\n",
      "    >>> equations.load(f\"{SAMPLE_DATA_DIR}/fun.eqs\")        # doctest: +ELLIPSIS, +NORMALIZE_WHITESPACE\n",
      "    Loading .../fun.eqs\n",
      "    274 objects loaded \n",
      "    >>> variables.load(f\"{SAMPLE_DATA_DIR}/fun.var\")        # doctest: +ELLIPSIS, +NORMALIZE_WHITESPACE\n",
      "    Loading .../fun.var\n",
      "    394 objects loaded\n",
      "    \n",
      "    >>> equations[\"ACAF\"].lec\n",
      "    '(ACAF/VAF[-1]) :=acaf1+acaf2*GOSF[-1]+\\nacaf4*(TIME=1995)'\n",
      "    >>> equations[\"DPUH\"].lec\n",
      "    'dln (DPUH/DPUHO):=dpuh_1+dpuh_2*dln(IHU/PI5)+dln PC'\n",
      "    \n",
      "    >>> # create scalars\n",
      "    >>> scalars[\"acaf1\"] = 0., 1.\n",
      "    >>> scalars[\"acaf2\"] = 0., 1.\n",
      "    >>> scalars[\"acaf4\"] = 0., 1.\n",
      "    >>> scalars[\"dpuh_1\"] = 0., 1.\n",
      "    >>> scalars[\"dpuh_2\"] = 0., 1.\n",
      "    \n",
      "    >>> # estimate an equation\n",
      "    >>> success = equations.estimate(\"1980Y1\", \"1996Y1\", \"ACAF\")      # doctest: +NORMALIZE_WHITESPACE\n",
      "    Estimating : iteration 1 (||eps|| = 0.173205)\n",
      "    <BLANKLINE>\n",
      "    Estimating : iteration 2 (||eps|| = 5.16075e-09)\n",
      "    <BLANKLINE>\n",
      "    Solution reached after 2 iteration(s). Creating results file ...\n",
      "    <BLANKLINE>\n",
      "    >>> success\n",
      "    True\n",
      "    >>> # or equivalenty\n",
      "    >>> success = equations[\"ACAF\"].estimate(\"1980Y1\", \"1996Y1\")      # doctest: +NORMALIZE_WHITESPACE\n",
      "    Estimating : iteration 1 (||eps|| = 7.05003e-13)\n",
      "    <BLANKLINE>\n",
      "    Solution reached after 1 iteration(s). Creating results file ...\n",
      "    <BLANKLINE>\n",
      "    >>> scalars[\"acaf1\"]\n",
      "    Scalar(0.0157705, 1, 0.00136949)\n",
      "    >>> scalars[\"acaf2\"]\n",
      "    Scalar(-7.96505e-06, 1, 1.48247e-06)\n",
      "    >>> scalars[\"acaf4\"]\n",
      "    Scalar(-0.0085027, 1, 0.00208257)\n",
      "    >>> scalars[\"dpuh_1\"]\n",
      "    Scalar(0, 1, na)\n",
      "    >>> scalars[\"dpuh_2\"]\n",
      "    Scalar(0, 1, na)\n",
      "    >>> equations[\"ACAF\"]                           # doctest: +ELLIPSIS, +NORMALIZE_WHITESPACE\n",
      "    Equation(endogenous = 'ACAF',\n",
      "            lec = '(ACAF/VAF[-1]) :=acaf1+acaf2*GOSF[-1]+\\nacaf4*(TIME=1995)',\n",
      "            method = 'LSQ',\n",
      "            from_period = '1980Y1',\n",
      "            to_period = '1996Y1',\n",
      "            block = 'ACAF',\n",
      "            tests = {corr = 1,\n",
      "                    dw = 2.33007,\n",
      "                    fstat = 32.2851,\n",
      "                    loglik = 83.8101,\n",
      "                    meany = 0.00818467,\n",
      "                    r2 = 0.821815,\n",
      "                    r2adj = 0.79636,\n",
      "                    ssres = 5.19787e-05,\n",
      "                    stderr = 0.00192685,\n",
      "                    stderrp = 23.5422,\n",
      "                    stdev = 0.0042699},\n",
      "            date = '...')\n",
      "    >>> # observed values (left hand side of the equation)\n",
      "    >>> variables[\"_YOBS0\", \"1980Y1:1996Y1\"]        # doctest: +ELLIPSIS, +NORMALIZE_WHITESPACE\n",
      "    Workspace: Variables\n",
      "    nb variables: 1\n",
      "    filename: ...fun.var\n",
      "    description: Modèle fun - Simulation 1\n",
      "    sample: 1980Y1:1996Y1\n",
      "    mode: LEVEL\n",
      "    <BLANKLINE>\n",
      "     name       1980Y1  1981Y1  1982Y1  ...  1994Y1  1995Y1  1996Y1\n",
      "    _YOBS0        0.01    0.02    0.01  ...    0.00   -0.00    0.01\n",
      "    <BLANKLINE>\n",
      "    >>> # fitted values (right hand side of the equation)\n",
      "    >>> variables[\"_YCALC0\", \"1980Y1:1996Y1\"]       # doctest: +ELLIPSIS, +NORMALIZE_WHITESPACE\n",
      "    Workspace: Variables\n",
      "    nb variables: 1\n",
      "    filename: ...fun.var\n",
      "    description: Modèle fun - Simulation 1\n",
      "    sample: 1980Y1:1996Y1\n",
      "    mode: LEVEL\n",
      "    <BLANKLINE>\n",
      "      name      1980Y1  1981Y1  1982Y1  ...  1994Y1  1995Y1  1996Y1\n",
      "    _YCALC0       0.01    0.01    0.01  ...    0.01   -0.00    0.00\n",
      "    <BLANKLINE>\n",
      "    >>> # residuals values\n",
      "    >>> variables[\"_YRES0\", \"1980Y1:1996Y1\"]        # doctest: +ELLIPSIS, +NORMALIZE_WHITESPACE\n",
      "    Workspace: Variables\n",
      "    nb variables: 1\n",
      "    filename: ...fun.var\n",
      "    description: Modèle fun - Simulation 1\n",
      "    sample: 1980Y1:1996Y1\n",
      "    mode: LEVEL\n",
      "    <BLANKLINE>\n",
      "     name       1980Y1  1981Y1  1982Y1  ...  1994Y1  1995Y1  1996Y1\n",
      "    _YRES0       -0.00    0.00   -0.00  ...   -0.00    0.00    0.00\n",
      "    <BLANKLINE>\n",
      "    \n",
      "    >>> # estimate a block\n",
      "    >>> # prepare equations (same block and method)\n",
      "    >>> block = \"ACAF;DPUH\"\n",
      "    >>> for name in block.split(\";\"):\n",
      "    ...     equations[name] = {\"block\": block, \"method\": \"LSQ\"}\n",
      "    >>> success = equations.estimate(\"1980Y1\", \"1996Y1\", block)           # doctest: +ELLIPSIS, +NORMALIZE_WHITESPACE\n",
      "    Estimating : iteration 1 (||eps|| = 0.141421)\n",
      "    <BLANKLINE>\n",
      "    Estimating : iteration 2 (||eps|| = 1.522e-12)\n",
      "    <BLANKLINE>\n",
      "    Solution reached after 2 iteration(s). Creating results file ...\n",
      "    <BLANKLINE>\n",
      "    Estimating : iteration 1 (||eps|| = 4.34603e-12)\n",
      "    <BLANKLINE>\n",
      "    Solution reached after 1 iteration(s). Creating results file ...\n",
      "    <BLANKLINE>\n",
      "    >>> success\n",
      "    True\n",
      "    >>> scalars[\"acaf1\"]\n",
      "    Scalar(0.0157705, 1, 0.00136079)\n",
      "    >>> scalars[\"acaf2\"]\n",
      "    Scalar(-7.96505e-06, 1, 1.47188e-06)\n",
      "    >>> scalars[\"acaf4\"]\n",
      "    Scalar(-0.0085027, 1, 0.00206603)\n",
      "    >>> scalars[\"dpuh_1\"]\n",
      "    Scalar(0.0109855, 1, 0.00481857)\n",
      "    >>> scalars[\"dpuh_2\"]\n",
      "    Scalar(0.0574893, 1, 0.0368951)\n",
      "    >>> equations[\"ACAF\"]                           # doctest: +ELLIPSIS, +NORMALIZE_WHITESPACE\n",
      "    Equation(endogenous = 'ACAF',\n",
      "            lec = '(ACAF/VAF[-1]) :=acaf1+acaf2*GOSF[-1]+\\nacaf4*(TIME=1995)',\n",
      "            method = 'LSQ',\n",
      "            from_period = '1980Y1',\n",
      "            to_period = '1996Y1',\n",
      "            block = 'ACAF;DPUH',\n",
      "            tests = {corr = 1,\n",
      "                    dw = 2.33007,\n",
      "                    fstat = 32.2851,\n",
      "                    loglik = 83.8101,\n",
      "                    meany = 0.00818467,\n",
      "                    r2 = 0.821815,\n",
      "                    r2adj = 0.79636,\n",
      "                    ssres = 5.19787e-05,\n",
      "                    stderr = 0.00192685,\n",
      "                    stderrp = 23.5422,\n",
      "                    stdev = 0.0042699},\n",
      "            date = '...')\n",
      "    >>> # observed values for ACAF\n",
      "    >>> variables[\"_YOBS0\", \"1980Y1:1996Y1\"]        # doctest: +ELLIPSIS, +NORMALIZE_WHITESPACE\n",
      "    Workspace: Variables\n",
      "    nb variables: 1\n",
      "    filename: ...fun.var\n",
      "    description: Modèle fun - Simulation 1\n",
      "    sample: 1980Y1:1996Y1\n",
      "    mode: LEVEL\n",
      "    <BLANKLINE>\n",
      "     name       1980Y1  1981Y1  1982Y1  ...  1994Y1  1995Y1  1996Y1\n",
      "    _YOBS0        0.01    0.02    0.01  ...    0.00   -0.00    0.01\n",
      "    <BLANKLINE>\n",
      "    >>> # fitted values for ACAF\n",
      "    >>> variables[\"_YCALC0\", \"1980Y1:1996Y1\"]       # doctest: +ELLIPSIS, +NORMALIZE_WHITESPACE\n",
      "    Workspace: Variables\n",
      "    nb variables: 1\n",
      "    filename: ...fun.var\n",
      "    description: Modèle fun - Simulation 1\n",
      "    sample: 1980Y1:1996Y1\n",
      "    mode: LEVEL\n",
      "    <BLANKLINE>\n",
      "      name      1980Y1  1981Y1  1982Y1  ...  1994Y1  1995Y1  1996Y1\n",
      "    _YCALC0       0.01    0.01    0.01  ...    0.01   -0.00    0.00\n",
      "    <BLANKLINE>\n",
      "    >>> # residuals values for ACAF\n",
      "    >>> variables[\"_YRES0\", \"1980Y1:1996Y1\"]        # doctest: +ELLIPSIS, +NORMALIZE_WHITESPACE\n",
      "    Workspace: Variables\n",
      "    nb variables: 1\n",
      "    filename: ...fun.var\n",
      "    description: Modèle fun - Simulation 1\n",
      "    sample: 1980Y1:1996Y1\n",
      "    mode: LEVEL\n",
      "    <BLANKLINE>\n",
      "     name       1980Y1  1981Y1  1982Y1  ...  1994Y1  1995Y1  1996Y1\n",
      "    _YRES0       -0.00    0.00   -0.00  ...   -0.00   -0.00    0.00\n",
      "    <BLANKLINE>\n",
      "    >>> equations[\"DPUH\"]                           # doctest: +ELLIPSIS, +NORMALIZE_WHITESPACE\n",
      "    Equation(endogenous = 'DPUH',\n",
      "            lec = 'dln (DPUH/DPUHO):=dpuh_1+dpuh_2*dln(IHU/PI5)+dln PC',\n",
      "            method = 'LSQ',\n",
      "            from_period = '1980Y1',\n",
      "            to_period = '1996Y1',\n",
      "            block = 'ACAF;DPUH',\n",
      "            tests = {corr = 0.126096,\n",
      "                    dw = 3.15593,\n",
      "                    fstat = 3.51611,\n",
      "                    loglik = 43.5743,\n",
      "                    meany = 0.0505132,\n",
      "                    r2 = 0.189895,\n",
      "                    r2adj = 0.135888,\n",
      "                    ssres = 0.00591031,\n",
      "                    stderr = 0.01985,\n",
      "                    stderrp = 39.2966,\n",
      "                    stdev = 0.0213538},\n",
      "            date = '...')\n",
      "    >>> # observed values for DPUH\n",
      "    >>> variables[\"_YOBS1\", \"1980Y1:1996Y1\"]        # doctest: +ELLIPSIS, +NORMALIZE_WHITESPACE\n",
      "    Workspace: Variables\n",
      "    nb variables: 1\n",
      "    filename: ...fun.var\n",
      "    description: Modèle fun - Simulation 1\n",
      "    sample: 1980Y1:1996Y1\n",
      "    mode: LEVEL\n",
      "    <BLANKLINE>\n",
      "     name       1980Y1  1981Y1  1982Y1  ...  1994Y1  1995Y1  1996Y1\n",
      "    _YOBS1        0.06    0.09    0.07  ...    0.04    0.04    0.01\n",
      "    <BLANKLINE>\n",
      "    >>> # fitted values for DPUH\n",
      "    >>> variables[\"_YCALC1\", \"1980Y1:1996Y1\"]       # doctest: +ELLIPSIS, +NORMALIZE_WHITESPACE\n",
      "    Workspace: Variables\n",
      "    nb variables: 1\n",
      "    filename: ...fun.var\n",
      "    description: Modèle fun - Simulation 1\n",
      "    sample: 1980Y1:1996Y1\n",
      "    mode: LEVEL\n",
      "    <BLANKLINE>\n",
      "      name      1980Y1  1981Y1  1982Y1  ...  1994Y1  1995Y1  1996Y1\n",
      "    _YCALC1       0.07    0.06    0.08  ...    0.04    0.03    0.03\n",
      "    <BLANKLINE>\n",
      "    >>> # residuals values for DPUH\n",
      "    >>> variables[\"_YRES1\", \"1980Y1:1996Y1\"]        # doctest: +ELLIPSIS, +NORMALIZE_WHITESPACE\n",
      "    Workspace: Variables\n",
      "    nb variables: 1\n",
      "    filename: ...fun.var\n",
      "    description: Modèle fun - Simulation 1\n",
      "    sample: 1980Y1:1996Y1\n",
      "    mode: LEVEL\n",
      "    <BLANKLINE>\n",
      "     name       1980Y1  1981Y1  1982Y1  ...  1994Y1  1995Y1  1996Y1\n",
      "    _YRES1       -0.01    0.02   -0.02  ...   -0.00    0.01   -0.03\n",
      "    <BLANKLINE>\n",
      "\n"
     ]
    }
   ],
   "source": [
    "help(equations.estimate)"
   ]
  },
  {
   "cell_type": "markdown",
   "metadata": {},
   "source": [
    "Let's start by reloading all workspaces:"
   ]
  },
  {
   "cell_type": "code",
   "execution_count": 301,
   "metadata": {},
   "outputs": [
    {
     "name": "stdout",
     "output_type": "stream",
     "text": [
      "Loading C:\\soft\\Miniconda3\\Lib\\site-packages\\iode\\tests\\data/fun.cmt\n",
      "317 objects loaded\n",
      "Loading C:\\soft\\Miniconda3\\Lib\\site-packages\\iode\\tests\\data/fun.eqs\n",
      "274 objects loaded\n",
      "Loading C:\\soft\\Miniconda3\\Lib\\site-packages\\iode\\tests\\data/fun.idt\n",
      "48 objects loaded\n",
      "Loading C:\\soft\\Miniconda3\\Lib\\site-packages\\iode\\tests\\data/fun.lst\n",
      "17 objects loaded\n",
      "Loading C:\\soft\\Miniconda3\\Lib\\site-packages\\iode\\tests\\data/fun.scl\n",
      "161 objects loaded\n",
      "Loading C:\\soft\\Miniconda3\\Lib\\site-packages\\iode\\tests\\data/fun.tbl\n",
      "46 objects loaded\n",
      "Loading C:\\soft\\Miniconda3\\Lib\\site-packages\\iode\\tests\\data/fun.var\n",
      "394 objects loaded\n"
     ]
    }
   ],
   "source": [
    "comments.load(f\"{SAMPLE_DATA_DIR}/fun.cmt\")\n",
    "equations.load(f\"{SAMPLE_DATA_DIR}/fun.eqs\")\n",
    "identities.load(f\"{SAMPLE_DATA_DIR}/fun.idt\")\n",
    "lists.load(f\"{SAMPLE_DATA_DIR}/fun.lst\")\n",
    "scalars.load(f\"{SAMPLE_DATA_DIR}/fun.scl\")\n",
    "tables.load(f\"{SAMPLE_DATA_DIR}/fun.tbl\")\n",
    "variables.load(f\"{SAMPLE_DATA_DIR}/fun.var\")"
   ]
  },
  {
   "cell_type": "markdown",
   "metadata": {},
   "source": [
    "Example for one equation:"
   ]
  },
  {
   "cell_type": "code",
   "execution_count": 302,
   "metadata": {},
   "outputs": [
    {
     "name": "stdout",
     "output_type": "stream",
     "text": [
      "ACAF equation LEC: (ACAF/VAF[-1]) :=acaf1+acaf2*GOSF[-1]+\n",
      "acaf4*(TIME=1995)\n",
      "ACAF equations coefficients (= scalars): ['acaf1', 'acaf2', 'acaf4']\n",
      "ACAF equations variables: ['ACAF', 'VAF', 'GOSF', 'TIME']\n",
      "scalars names in scalars_copy: ['acaf1', 'acaf2', 'acaf4']\n",
      "Estimating : iteration 1 (||eps|| = 0.173205)\n",
      "\n",
      "Estimating : iteration 2 (||eps|| = 5.16075e-09)\n",
      "\n",
      "Solution reached after 2 iteration(s). Creating results file ...\n",
      "\n",
      "Estimating : iteration 1 (||eps|| = 7.05003e-13)\n",
      "\n",
      "Solution reached after 1 iteration(s). Creating results file ...\n",
      "\n",
      "Equation estimation success: True\n",
      "Resulting values for the coefficient 'acaf1': Scalar(0.0157705, 1, 0.00136949)\n",
      "Resulting values for the coefficient 'acaf2': Scalar(-7.96505e-06, 1, 1.48247e-06)\n",
      "Resulting values for the coefficient 'acaf4': Scalar(-0.0085027, 1, 0.00208257)\n"
     ]
    }
   ],
   "source": [
    "# ---- estimate coefficients of one equation ----\n",
    "print(f\"ACAF equation LEC: {equations['ACAF'].lec}\")\n",
    "print(f\"ACAF equations coefficients (= scalars): {equations['ACAF'].coefficients}\")\n",
    "print(f\"ACAF equations variables: {equations['ACAF'].variables}\")\n",
    "\n",
    "# copy the original values of the coefficients into an isolated scalars workspace\n",
    "# Useful to restore the original values if the estimation process didn't go well\n",
    "scalars_copy = scalars[equations['ACAF'].coefficients].copy()\n",
    "print(f\"scalars names in scalars_copy: {scalars_copy.names}\")\n",
    "\n",
    "# reset scalars\n",
    "for name in equations['ACAF'].coefficients:\n",
    "    scalars[name] = 0., 1.\n",
    "\n",
    "# estimate the 'ACAF' equation for the periods ranging from '1980Y1' to '1996Y1'\n",
    "success = equations.estimate(\"1980Y1\", \"1996Y1\", \"ACAF\")\n",
    "# or equivalently\n",
    "success = equations[\"ACAF\"].estimate(\"1980Y1\", \"1996Y1\")\n",
    "print(f\"Equation estimation success: {success}\")\n",
    "\n",
    "print(f\"Resulting values for the coefficient 'acaf1': {scalars['acaf1']}\")\n",
    "print(f\"Resulting values for the coefficient 'acaf2': {scalars['acaf2']}\")\n",
    "print(f\"Resulting values for the coefficient 'acaf4': {scalars['acaf4']}\")"
   ]
  },
  {
   "cell_type": "markdown",
   "metadata": {},
   "source": [
    "Example for a block of equations:"
   ]
  },
  {
   "cell_type": "code",
   "execution_count": 303,
   "metadata": {},
   "outputs": [
    {
     "name": "stdout",
     "output_type": "stream",
     "text": [
      "ACAF equation LEC: (ACAF/VAF[-1]) :=acaf1+acaf2*GOSF[-1]+\n",
      "acaf4*(TIME=1995)\n",
      "ACAF equations coefficients (= scalars): ['acaf1', 'acaf2', 'acaf4']\n",
      "ACAF equations variables: ['ACAF', 'VAF', 'GOSF', 'TIME']\n",
      "DPUH equation LEC: dln (DPUH/DPUHO):=dpuh_1+dpuh_2*dln(IHU/PI5)+dln PC\n",
      "DPUH equations coefficients (= scalars): ['dpuh_1', 'dpuh_2']\n",
      "DPUH equations variables: ['DPUH', 'DPUHO', 'IHU', 'PI5', 'PC']\n",
      "scalars names in scalars_copy: ['acaf1', 'acaf2', 'acaf4', 'dpuh_1', 'dpuh_2']\n",
      "Estimating : iteration 1 (||eps|| = 0.223607)\n",
      "\n",
      "Estimating : iteration 2 (||eps|| = 5.16075e-09)\n",
      "\n",
      "Solution reached after 2 iteration(s). Creating results file ...\n",
      "\n",
      "Estimating : iteration 1 (||eps|| = 4.38565e-12)\n",
      "\n",
      "Solution reached after 1 iteration(s). Creating results file ...\n",
      "\n",
      "Block estimation success: True\n",
      "Resulting values for the coefficient 'acaf1': Scalar(0.0157705, 1, 0.00136079)\n",
      "Resulting values for the coefficient 'acaf2': Scalar(-7.96505e-06, 1, 1.47188e-06)\n",
      "Resulting values for the coefficient 'acaf4': Scalar(-0.0085027, 1, 0.00206603)\n",
      "Resulting values for the coefficient 'dpuh_1': Scalar(0.0109855, 1, 0.00481857)\n",
      "Resulting values for the coefficient 'dpuh_2': Scalar(0.0574893, 1, 0.0368951)\n"
     ]
    }
   ],
   "source": [
    "# ---- estimate a block of equations ----\n",
    "print(f\"ACAF equation LEC: {equations['ACAF'].lec}\")\n",
    "print(f\"ACAF equations coefficients (= scalars): {equations['ACAF'].coefficients}\")\n",
    "print(f\"ACAF equations variables: {equations['ACAF'].variables}\")\n",
    "print(f\"DPUH equation LEC: {equations['DPUH'].lec}\")\n",
    "print(f\"DPUH equations coefficients (= scalars): {equations['DPUH'].coefficients}\")\n",
    "print(f\"DPUH equations variables: {equations['DPUH'].variables}\")\n",
    "\n",
    "# copy the original values of the coefficients into an isolated scalars workspace\n",
    "# Useful to restore the original values if the estimation process didn't go well\n",
    "scalars_names = equations['ACAF'].coefficients + equations['DPUH'].coefficients\n",
    "scalars_names = list(set(scalars_names))   # removed duplicates\n",
    "scalars_copy = scalars[scalars_names].copy()\n",
    "print(f\"scalars names in scalars_copy: {scalars_copy.names}\")\n",
    "\n",
    "# reset scalars\n",
    "for name in equations['ACAF'].coefficients:\n",
    "    scalars[name] = 0., 1.\n",
    "for name in equations['DPUH'].coefficients:\n",
    "    scalars[name] = 0., 1.\n",
    "\n",
    "# prepare equations (same block and method)\n",
    "block = \"ACAF;DPUH\"\n",
    "for name in block.split(\";\"):\n",
    "    equations[name] = {\"block\": block, \"method\": \"LSQ\"}\n",
    "\n",
    "# estimation the block 'ACAF;DPUH' for the periods ranging from '1980Y1' to '1996Y1'\n",
    "success = equations.estimate(\"1980Y1\", \"1996Y1\", block)\n",
    "print(f\"Block estimation success: {success}\")\n",
    "\n",
    "print(f\"Resulting values for the coefficient 'acaf1': {scalars['acaf1']}\")\n",
    "print(f\"Resulting values for the coefficient 'acaf2': {scalars['acaf2']}\")\n",
    "print(f\"Resulting values for the coefficient 'acaf4': {scalars['acaf4']}\")\n",
    "print(f\"Resulting values for the coefficient 'dpuh_1': {scalars['dpuh_1']}\")\n",
    "print(f\"Resulting values for the coefficient 'dpuh_2': {scalars['dpuh_2']}\")"
   ]
  },
  {
   "cell_type": "markdown",
   "metadata": {},
   "source": [
    "## Simulation\n",
    "\n",
    "To simulate a model, you must create and initialize an instance of the [Simulation](../_generated/iode.Simulation.rst#iode.Simulation) class:"
   ]
  },
  {
   "cell_type": "code",
   "execution_count": 304,
   "metadata": {},
   "outputs": [
    {
     "name": "stdout",
     "output_type": "stream",
     "text": [
      "Help on class Simulation in module iode.compute.simulation:\n",
      "\n",
      "class Simulation(builtins.object)\n",
      " |  Simulation(convergence_threshold: float = 0.001, relax: float = 1.0, max_nb_iterations: int = 100, sort_algorithm: Union[iode.iode_cython.SimulationSort, str] = <SimulationSort.BOTH: 1>, initialization_method: Union[iode.iode_cython.SimulationInitialization, str] = <SimulationInitialization.TM1: 0>, debug: bool = False, nb_passes: int = 5, debug_newton: bool = False)\n",
      " |  \n",
      " |  Class for simulate models.\n",
      " |  \n",
      " |  Models\n",
      " |  ~~~~~~\n",
      " |  \n",
      " |  IN IODE, a model is simply a list of equations. No other construction is necessary: in this way, \n",
      " |  to modify a model, the only thing to do is to modify the list that defines it. \n",
      " |  For example, if a model is logically divided into 5 blocks, 5 lists of equations will be defined:: \n",
      " |  \n",
      " |      BLOC1 : A, B, C, D\n",
      " |      BLOC2 : X, Y\n",
      " |      BLOC3 : C1, C2, C3, C4\n",
      " |      BLOC4 : X_A1, X_A2, X_A3\n",
      " |      BLOC5 : R1, R2, R3, S_12\n",
      " |      MODSIM : $BLOC1, $BLOC2, $BLOC3, $BLOC4, $BLOC5\n",
      " |  \n",
      " |  To simulate a model, all equations of the model must have been loaded or created. In addition, \n",
      " |  all the variables and scalars used in the model equations must have been loaded or created. \n",
      " |  Values of exogenous variables and of scalar cannot be :math:`NA` (*Not Available*) over the \n",
      " |  simulation periods.\n",
      " |  \n",
      " |  Exchange Endo-Exo\n",
      " |  ~~~~~~~~~~~~~~~~~\n",
      " |  \n",
      " |  It is possible to set endogenous-exogenous pairs for ``goal seeking``. \n",
      " |  For each pair, the status of the variables is exchanged: endogenous becomes exogenous and vice versa. \n",
      " |  This enables the model to be run through known endogenous values and to deduce the necessary values \n",
      " |  for the associated exogenous variables. The exogenous variables take on the value calculated over the entire \n",
      " |  workspace period.\n",
      " |  See the method :meth:`Simulation.model_exchange`.\n",
      " |  \n",
      " |  Newton-Raphson Algorithm\n",
      " |  ~~~~~~~~~~~~~~~~~~~~~~~~\n",
      " |  \n",
      " |  When an equation is not explicitly defined in terms of its endogen, or when the endogen appears several times \n",
      " |  in the equation, the simulation algorithm tries to solve the equation using a Newton method. \n",
      " |  If this method fails, a secant method is used to find a solution to the equation. \n",
      " |  However, there is no guarantee that a solution will be found in every case. \n",
      " |  Non-continuous functions (singularities) such as:\n",
      " |  \n",
      " |  .. math::`X = a + \\frac{b}{X + 1}`\n",
      " |  \n",
      " |  may be impossible to solve around their singular point. For this type of problem, the only solution is to modify \n",
      " |  the form of the equation:\n",
      " |  \n",
      " |  .. math::`(X - a) * (X + 1) = b`\n",
      " |  \n",
      " |  Warnings\n",
      " |  --------\n",
      " |  - As the endogenous variable of an equation carries the name of the equation, it is not possible to place \n",
      " |    in a model two equations with the same endogenous variable.\n",
      " |  - The order in which equations are introduced in the lists can influence the behavior of the simulation algorithm. \n",
      " |    As this is a Gauss-Seidel algorithm, the information calculated is used directly in the rest of the calculation. \n",
      " |    If `X` depends on `Y`, it's better to place `Y` before `X` in the list of equations.\n",
      " |  \n",
      " |  Attributes\n",
      " |  ----------\n",
      " |  convergence_threshold: float\n",
      " |      Convergence threshold below which the simulation results are considered enough close \n",
      " |      to the true solution for the current period. \n",
      " |      Default to 0.001.\n",
      " |  relax: float\n",
      " |      Relaxation parameter (\"damping\").\n",
      " |      Its value must be in the range [0.1, 1.0].\n",
      " |      Default to 1.0\n",
      " |  max_nb_iterations: int\n",
      " |      Maximum number of iterations to reach a solution. If, after the specified maximum number \n",
      " |      of iterations, the model has not converged, the process stops with an error message. \n",
      " |      This parameter prevents the process from looping indefinitely.  \n",
      " |      Default to 100.\n",
      " |  sort_algorithm: SimulationSort\n",
      " |      Sorting algorithm used to reorganized the list of equations *before* the simulation is performed.\n",
      " |      This reorganization can be usefully to to speed up the simulation.\n",
      " |      Possible values are:\n",
      " |          - NONE: do not use any sorting algorithm\n",
      " |          - CONNEX: use the *Strongly Connected Component (SCC)* method only\n",
      " |          - BOTH: use both the *SCC* and the *Pseudo-triangulation* methods\n",
      " |      Default to BOTH.\n",
      " |  initialization_method: SimulationInitialization\n",
      " |      At the start of each period to be simulated, a starting value must be chosen for each endogenous variable. \n",
      " |      Possible values are:\n",
      " |          - TM1: :math:`Y := Y[-1], if Y null or NA`\n",
      " |          - TM1_A: :math:`Y := Y[-1], always`\n",
      " |          - EXTRA: :math:`Y := extrapolation, if Y null or NA`\n",
      " |          - EXTRA_A: :math:`Y := extrapolation, always`\n",
      " |          - ASIS: :math:`Y unchanged`\n",
      " |          - TM1_NA: :math:`Y := Y[-1], if Y = NA`\n",
      " |          - EXTRA_NA: :math:`Y := extrapolation, if Y = NA`\n",
      " |      Default to TM1.\n",
      " |  debug: bool\n",
      " |      Option to automatically generates IODE lists containing pre- and post-recursive equations: \n",
      " |      `_PRE`, `_INTER` and `_POST`.\n",
      " |      Default to False.\n",
      " |  nb_passes: int\n",
      " |      Number of passes to make when the pseudo-triangulation sorting algorithm is used.\n",
      " |      Default to 5.\n",
      " |  debug_newton: bool\n",
      " |      Save a trace of the sub-iterations when the Newton-Raphson alogrithm is used.\n",
      " |      Default to False.\n",
      " |  \n",
      " |  Examples\n",
      " |  --------\n",
      " |  >>> from iode import SAMPLE_DATA_DIR, equations, scalars, variables \n",
      " |  >>> from iode import Simulation\n",
      " |  >>> equations.load(f\"{SAMPLE_DATA_DIR}/fun.eqs\")        # doctest: +ELLIPSIS, +NORMALIZE_WHITESPACE\n",
      " |  Loading .../fun.eqs\n",
      " |  274 objects loaded \n",
      " |  >>> scalars.load(f\"{SAMPLE_DATA_DIR}/fun.scl\")          # doctest: +ELLIPSIS, +NORMALIZE_WHITESPACE\n",
      " |  Loading .../fun.scl\n",
      " |  161 objects loaded \n",
      " |  >>> variables.load(f\"{SAMPLE_DATA_DIR}/fun.var\")        # doctest: +ELLIPSIS, +NORMALIZE_WHITESPACE\n",
      " |  Loading .../fun.var\n",
      " |  394 objects loaded\n",
      " |  \n",
      " |  >>> simu = Simulation()\n",
      " |  >>> simu.convergence_threshold\n",
      " |  0.001\n",
      " |  >>> simu.relax\n",
      " |  1.0\n",
      " |  >>> simu.max_nb_iterations\n",
      " |  100\n",
      " |  >>> simu.sort_algorithm\n",
      " |  'BOTH (Connex compon. + Triangulation)'\n",
      " |  >>> simu.initialization_method\n",
      " |  'TM1 (Y := Y[-1], if Y null or NA)'\n",
      " |  >>> simu.debug\n",
      " |  False\n",
      " |  >>> simu.nb_passes\n",
      " |  5\n",
      " |  >>> simu.debug_newton\n",
      " |  False\n",
      " |  \n",
      " |  Methods defined here:\n",
      " |  \n",
      " |  __init__(self, convergence_threshold: float = 0.001, relax: float = 1.0, max_nb_iterations: int = 100, sort_algorithm: Union[iode.iode_cython.SimulationSort, str] = <SimulationSort.BOTH: 1>, initialization_method: Union[iode.iode_cython.SimulationInitialization, str] = <SimulationInitialization.TM1: 0>, debug: bool = False, nb_passes: int = 5, debug_newton: bool = False)\n",
      " |      Initialize self.  See help(type(self)) for accurate signature.\n",
      " |  \n",
      " |  model_calculate_SCC(self, nb_iterations: int, pre_name: str = '_PRE', inter_name: str = '_INTER', post_name: str = '_POST', list_eqs: Union[str, List[str]] = None, quiet: bool = False) -> bool\n",
      " |      Decompose the model into Strongly Connex Components (SCC) and reorder it. \n",
      " |      \n",
      " |      Three lists are created: pre-recursive, interdependent and post-recursive equations.\n",
      " |      When reordering the model, the number of triangulation iterations for the interdependent \n",
      " |      block must be specified. This value only affects the list of interdependent equations.\n",
      " |      These 3 lists only need to be constructed once for a given model.\n",
      " |      \n",
      " |      Parameters\n",
      " |      ----------\n",
      " |      nb_iterations : int\n",
      " |          Number of triangulation iterations to be performed. \n",
      " |      pre_name : str, optional\n",
      " |          Name of the list representing the pre-recursive equations.\n",
      " |          Default to \"_PRE\".\n",
      " |      inter_name : str, optional\n",
      " |          Name of the list representing the interdependent equations. \n",
      " |          Default to \"_INTER\".\n",
      " |      post_name : str, optional\n",
      " |          Name of the list representing the post-recursive equations.\n",
      " |          Default to \"_POST\".\n",
      " |      list_eqs : str or list(str), optional\n",
      " |          List of equations representing the model.\n",
      " |          Default to empty (all equations).\n",
      " |      quiet : bool, optional\n",
      " |          If True, suppresses the log messages during the SCC decomposition process.\n",
      " |          Default to False.\n",
      " |      \n",
      " |      Returns\n",
      " |      -------\n",
      " |      bool\n",
      " |          True if the model was successfully reordered.\n",
      " |      \n",
      " |      Examples\n",
      " |      --------\n",
      " |      >>> from iode import SAMPLE_DATA_DIR, equations, lists, scalars, variables \n",
      " |      >>> from iode import Simulation\n",
      " |      >>> equations.load(f\"{SAMPLE_DATA_DIR}/fun.eqs\")        # doctest: +ELLIPSIS, +NORMALIZE_WHITESPACE\n",
      " |      Loading .../fun.eqs\n",
      " |      274 objects loaded \n",
      " |      >>> lists.load(f\"{SAMPLE_DATA_DIR}/fun.lst\")            # doctest: +ELLIPSIS, +NORMALIZE_WHITESPACE\n",
      " |      Loading .../fun.lst\n",
      " |      17 objects loaded \n",
      " |      >>> scalars.load(f\"{SAMPLE_DATA_DIR}/fun.scl\")          # doctest: +ELLIPSIS, +NORMALIZE_WHITESPACE\n",
      " |      Loading .../fun.scl\n",
      " |      161 objects loaded \n",
      " |      >>> variables.load(f\"{SAMPLE_DATA_DIR}/fun.var\")        # doctest: +ELLIPSIS, +NORMALIZE_WHITESPACE\n",
      " |      Loading .../fun.var\n",
      " |      394 objects loaded\n",
      " |      \n",
      " |      >>> simu = Simulation()\n",
      " |      >>> success = simu.model_calculate_SCC(10)        # doctest: +ELLIPSIS, +NORMALIZE_WHITESPACE\n",
      " |      Pseudo-linking equations ....\n",
      " |      Calculating SCC...\n",
      " |      Calculating SCC... -> #PRE 31 - #INTER 204 - #POST 39\n",
      " |      Reordering interdependent block...\n",
      " |      Reordering interdependent block...\n",
      " |      >>> success\n",
      " |      True\n",
      " |      \n",
      " |      >>> lists[\"_PRE\"]           # doctest: +ELLIPSIS\n",
      " |      ['BRUGP', 'DTH1C', 'EX', 'ITCEE', ..., 'DTH1', 'PME', 'PMS', 'PMT']\n",
      " |      >>> len(lists[\"_PRE\"])\n",
      " |      31\n",
      " |      \n",
      " |      >>> lists[\"_INTER\"]         # doctest: +ELLIPSIS\n",
      " |      ['PMAB', 'PXAB', 'ULCP', 'SSH3P', ..., 'WCF_', 'ITEP', 'EXC', 'ITT']\n",
      " |      >>> len(lists[\"_INTER\"])\n",
      " |      204\n",
      " |      \n",
      " |      >>> lists[\"_POST\"]          # doctest: +ELLIPSIS\n",
      " |      ['IFU', 'SSHFF', 'PBBP', 'OCUF', ..., 'FLGR', 'FLF', 'DPUU', 'BENEF']\n",
      " |      >>> len(lists[\"_POST\"])\n",
      " |      39\n",
      " |  \n",
      " |  model_compile(self, list_eqs: Union[str, List[str]] = None, quiet: bool = False) -> bool\n",
      " |      Recompiles a list of equations, or all equations if no list is specified. \n",
      " |      It is only useful if (the list of) equations contain macros in their LEC form (like $list).\n",
      " |      \n",
      " |      The set of equations stored in memory are made up of several elements: the LEC form, \n",
      " |      the estimation inputs and the **compiled form** of the equation. If the LEC form \n",
      " |      contains macros, the **compiled form** may no longer correspond to the LEC form.\n",
      " |      This can happen when a new list file is loaded into memory, when a list is manually \n",
      " |      modified or copied from disk, or when an equation file is loaded into memory.\n",
      " |      \n",
      " |      Parameters\n",
      " |      ----------\n",
      " |      list_eqs : str or list(str), optional\n",
      " |          List of equations to recompile. \n",
      " |          Default to empty (recompile all equations).\n",
      " |      quiet : bool, optional\n",
      " |          If True, suppresses the log messages during the compilation process. \n",
      " |          Default to False.\n",
      " |      \n",
      " |      Returns\n",
      " |      -------\n",
      " |      bool\n",
      " |          True if the compilation is successful, False otherwise.\n",
      " |  \n",
      " |  model_exchange(self, list_exo: Union[str, List[str]] = None)\n",
      " |      Set a list of endogenous-exogenous pairs for ``goal seeking``. \n",
      " |      For each pair, the status of the variables is exchanged: endogenous becomes exogenous and vice versa. \n",
      " |      This enables the model to be run through known endogenous values and to deduce the necessary values \n",
      " |      for the associated exogenous variables. The exogenous variables take on the value calculated over the entire \n",
      " |      workspace period.\n",
      " |      \n",
      " |      Parameters\n",
      " |      ----------\n",
      " |      list_exo : str or list(str)\n",
      " |          List of endogenous-exogenous pairs. \n",
      " |          Each pair must be written as `endogenous_name-exogenous_name`.\n",
      " |          If the passed list is empty, the internal list of endogenous-exogenous pairs is reset.\n",
      " |          Default to None (empty).\n",
      " |      \n",
      " |      Examples\n",
      " |      --------\n",
      " |      >>> from iode import SAMPLE_DATA_DIR, equations, identities, scalars, variables \n",
      " |      >>> from iode import Simulation\n",
      " |      >>> equations.load(f\"{SAMPLE_DATA_DIR}/fun.eqs\")        # doctest: +ELLIPSIS, +NORMALIZE_WHITESPACE\n",
      " |      Loading .../fun.eqs\n",
      " |      274 objects loaded \n",
      " |      >>> identities.load(f\"{SAMPLE_DATA_DIR}/fun.idt\")       # doctest: +ELLIPSIS, +NORMALIZE_WHITESPACE\n",
      " |      Loading .../fun.idt\n",
      " |      48 objects loaded \n",
      " |      >>> scalars.load(f\"{SAMPLE_DATA_DIR}/fun.scl\")          # doctest: +ELLIPSIS, +NORMALIZE_WHITESPACE\n",
      " |      Loading .../fun.scl\n",
      " |      161 objects loaded \n",
      " |      >>> variables.load(f\"{SAMPLE_DATA_DIR}/fun.var\")        # doctest: +ELLIPSIS, +NORMALIZE_WHITESPACE\n",
      " |      Loading .../fun.var\n",
      " |      394 objects loaded\n",
      " |      \n",
      " |      >>> equations[\"UY\"].lec\n",
      " |      'UY := NATY-NDOMY-NIY-NGY-(EFXY-EFMY)-NFY'\n",
      " |      >>> identities[\"XNATY\"]\n",
      " |      Identity('grt NATY')\n",
      " |      >>> # endogenous variable\n",
      " |      >>> variables[\"XNATY\", \"2000Y1:2015Y1\"]     # doctest: +ELLIPSIS, +NORMALIZE_WHITESPACE\n",
      " |      Workspace: Variables\n",
      " |      nb variables: 1\n",
      " |      filename: ...fun.var\n",
      " |      description: Modèle fun - Simulation 1\n",
      " |      sample: 2000Y1:2015Y1\n",
      " |      mode: LEVEL\n",
      " |      <BLANKLINE>\n",
      " |       name       2000Y1  2001Y1  2002Y1  ...  2013Y1  2014Y1  2015Y1\n",
      " |      XNATY         0.22    0.70    0.40  ...   -0.20   -0.20   -0.20\n",
      " |      <BLANKLINE>\n",
      " |      >>> # reset exogeneous variable\n",
      " |      >>> variables[\"UY\", \"2000Y1:2015Y1\"] = 0.0\n",
      " |      >>> variables[\"UY\", \"2000Y1:2015Y1\"]    # doctest: +ELLIPSIS, +NORMALIZE_WHITESPACE\n",
      " |      Workspace: Variables\n",
      " |      nb variables: 1\n",
      " |      filename: ...fun.var\n",
      " |      description: Modèle fun - Simulation 1\n",
      " |      sample: 2000Y1:2015Y1\n",
      " |      mode: LEVEL\n",
      " |      <BLANKLINE>\n",
      " |      name        2000Y1  2001Y1  2002Y1  ...  2013Y1  2014Y1  2015Y1\n",
      " |      UY            0.00    0.00    0.00  ...    0.00    0.00    0.00\n",
      " |      <BLANKLINE>\n",
      " |      \n",
      " |      >>> simu = Simulation()\n",
      " |      >>> success = simu.model_simulate(\"2000Y1\", \"2015Y1\")     # doctest: +ELLIPSIS, +NORMALIZE_WHITESPACE\n",
      " |      Linking equations ....\n",
      " |      Calculating SCC...\n",
      " |      Calculating SCC... -> #PRE 31 - #INTER 204 - #POST 39\n",
      " |      Reordering interdependent block...\n",
      " |      Reordering interdependent block...\n",
      " |      2000Y1: 1 iters - error =    1.342 - cpu=...ms\n",
      " |      2000Y1: 2 iters - error =   0.4115 - cpu=...ms\n",
      " |      2000Y1: 3 iters - error =   0.5272 - cpu=...ms\n",
      " |      ...\n",
      " |      2015Y1: 19 iters - error =  0.00267 - cpu=...ms\n",
      " |      2015Y1: 20 iters - error =  0.00141 - cpu=...ms\n",
      " |      2015Y1: 21 iters - error = 0.0006749 - cpu=...ms\n",
      " |      >>> success\n",
      " |      True\n",
      " |      \n",
      " |      >>> # endogenous variable (unchanged)\n",
      " |      >>> variables[\"XNATY\", \"2000Y1:2015Y1\"]     # doctest: +ELLIPSIS, +NORMALIZE_WHITESPACE\n",
      " |      Workspace: Variables\n",
      " |      nb variables: 1\n",
      " |      filename: ...fun.var\n",
      " |      description: Modèle fun - Simulation 1\n",
      " |      sample: 2000Y1:2015Y1\n",
      " |      mode: LEVEL\n",
      " |      <BLANKLINE>\n",
      " |       name       2000Y1  2001Y1  2002Y1  ...  2013Y1  2014Y1  2015Y1\n",
      " |      XNATY         0.22    0.70    0.40  ...   -0.20   -0.20   -0.20\n",
      " |      <BLANKLINE>\n",
      " |      >>> # exogeneous variable\n",
      " |      >>> variables[\"UY\", \"2000Y1:2015Y1\"]         # doctest: +ELLIPSIS, +NORMALIZE_WHITESPACE\n",
      " |      Workspace: Variables\n",
      " |      nb variables: 1\n",
      " |      filename: ...fun.var\n",
      " |      description: Modèle fun - Simulation 1\n",
      " |      sample: 2000Y1:2015Y1\n",
      " |      mode: LEVEL\n",
      " |      <BLANKLINE>\n",
      " |      name        2000Y1  2001Y1  2002Y1  ...  2013Y1  2014Y1  2015Y1\n",
      " |      UY          624.18  645.05  661.61  ...  549.24  533.37  525.13\n",
      " |      <BLANKLINE>\n",
      " |      \n",
      " |      >>> # exchange UY and XNATY\n",
      " |      >>> simu.model_exchange(\"UY-XNATY\")\n",
      " |      \n",
      " |      >>> # update endogenous variable (now UY)\n",
      " |      >>> variables[\"UY\", \"2000Y1:2002Y1\"] = [630.0, 650.0, 670.0]\n",
      " |      >>> # rerun simulation\n",
      " |      >>> success = simu.model_simulate(\"2000Y1\", \"2015Y1\")     # doctest: +ELLIPSIS, +NORMALIZE_WHITESPACE\n",
      " |      Linking equations ....\n",
      " |      Calculating SCC...\n",
      " |      Calculating SCC... -> #PRE 30 - #INTER 204 - #POST 40\n",
      " |      Reordering interdependent block...\n",
      " |      Reordering interdependent block...\n",
      " |      2000Y1: 1 iters - error =  0.09305 - cpu=...ms\n",
      " |      2000Y1: 2 iters - error = 0.001205 - cpu=...ms\n",
      " |      2000Y1: 3 iters - error =  0.00138 - cpu=...ms\n",
      " |      ...\n",
      " |      2015Y1: 23 iters - error = 0.001306 - cpu=...ms\n",
      " |      2015Y1: 24 iters - error = 0.001463 - cpu=...ms\n",
      " |      2015Y1: 25 iters - error = 0.0007763 - cpu=...ms\n",
      " |      >>> # exogeneous variable (now XNATY)\n",
      " |      >>> variables[\"XNATY\", \"2000Y1:2015Y1\"]     # doctest: +ELLIPSIS, +NORMALIZE_WHITESPACE\n",
      " |      Workspace: Variables\n",
      " |      nb variables: 1\n",
      " |      filename: ...fun.var\n",
      " |      description: Modèle fun - Simulation 1\n",
      " |      sample: 2000Y1:2015Y1\n",
      " |      mode: LEVEL\n",
      " |      <BLANKLINE>\n",
      " |       name       2000Y1  2001Y1  2002Y1  ...  2013Y1  2014Y1  2015Y1\n",
      " |      XNATY         0.35    0.67    0.51  ...   -0.20   -0.20   -0.20\n",
      " |      <BLANKLINE>\n",
      " |  \n",
      " |  model_simulate(self, from_period: Union[str, iode.time.period.Period], to_period: Union[str, iode.time.period.Period], list_eqs: Union[str, List[str]] = None, quiet: bool = False) -> bool\n",
      " |      Run the simulation of a model for a given sample.\n",
      " |      \n",
      " |      To simulate a model, all equations of the model must have been loaded or created. In addition, \n",
      " |      all the variables and scalars used in the model equations must have been loaded or created. \n",
      " |      Values of exogenous variables and of scalar cannot be :math:`NA` (*Not Available*) over the \n",
      " |      simulation sample.\n",
      " |      \n",
      " |      Parameters\n",
      " |      ----------\n",
      " |      from_period : str or Period\n",
      " |          The starting period for the simulation.\n",
      " |      to_period : str or Period\n",
      " |          The ending period for the simulation.\n",
      " |      list_eqs : str or list(str), optional\n",
      " |          List of equations representing the model.\n",
      " |          Default to empty (all equations).\n",
      " |      quiet : bool, optional\n",
      " |          If True, suppresses the log messages during the simulation process. \n",
      " |          Default to False.\n",
      " |      \n",
      " |      Returns\n",
      " |      -------\n",
      " |      bool\n",
      " |          True if the simulation is successful, False otherwise.\n",
      " |      \n",
      " |      Examples\n",
      " |      --------\n",
      " |      >>> from iode import SAMPLE_DATA_DIR, equations, identities, lists, scalars, variables \n",
      " |      >>> from iode import Simulation\n",
      " |      >>> equations.load(f\"{SAMPLE_DATA_DIR}/fun.eqs\")        # doctest: +ELLIPSIS, +NORMALIZE_WHITESPACE\n",
      " |      Loading .../fun.eqs\n",
      " |      274 objects loaded \n",
      " |      >>> identities.load(f\"{SAMPLE_DATA_DIR}/fun.idt\")       # doctest: +ELLIPSIS, +NORMALIZE_WHITESPACE\n",
      " |      Loading .../fun.idt\n",
      " |      48 objects loaded \n",
      " |      >>> lists.load(f\"{SAMPLE_DATA_DIR}/fun.lst\")            # doctest: +ELLIPSIS, +NORMALIZE_WHITESPACE\n",
      " |      Loading .../fun.lst\n",
      " |      17 objects loaded \n",
      " |      >>> scalars.load(f\"{SAMPLE_DATA_DIR}/fun.scl\")          # doctest: +ELLIPSIS, +NORMALIZE_WHITESPACE\n",
      " |      Loading .../fun.scl\n",
      " |      161 objects loaded \n",
      " |      >>> variables.load(f\"{SAMPLE_DATA_DIR}/fun.var\")        # doctest: +ELLIPSIS, +NORMALIZE_WHITESPACE\n",
      " |      Loading .../fun.var\n",
      " |      394 objects loaded\n",
      " |      \n",
      " |      >>> # exogenous variable \n",
      " |      >>> equations[\"UY\"].lec\n",
      " |      'UY := NATY-NDOMY-NIY-NGY-(EFXY-EFMY)-NFY'\n",
      " |      >>> # reset values\n",
      " |      >>> variables[\"UY\", \"2000Y1:2015Y1\"] = 0.0\n",
      " |      >>> variables[\"UY\", \"2000Y1:2015Y1\"]            # doctest: +ELLIPSIS, +NORMALIZE_WHITESPACE\n",
      " |      Workspace: Variables\n",
      " |      nb variables: 1\n",
      " |      filename: ...fun.var\n",
      " |      description: Modèle fun - Simulation 1\n",
      " |      sample: 2000Y1:2015Y1\n",
      " |      mode: LEVEL\n",
      " |      <BLANKLINE>\n",
      " |      name        2000Y1  2001Y1  2002Y1  ...  2013Y1  2014Y1  2015Y1\n",
      " |      UY            0.00    0.00    0.00  ...    0.00    0.00    0.00\n",
      " |      <BLANKLINE>\n",
      " |      \n",
      " |      >>> # endogenous variable\n",
      " |      >>> identities[\"XNATY\"]\n",
      " |      Identity('grt NATY')\n",
      " |      >>> variables[\"XNATY\", \"2000Y1:2015Y1\"]         # doctest: +ELLIPSIS, +NORMALIZE_WHITESPACE\n",
      " |      Workspace: Variables\n",
      " |      nb variables: 1\n",
      " |      filename: ...fun.var\n",
      " |      description: Modèle fun - Simulation 1\n",
      " |      sample: 2000Y1:2015Y1\n",
      " |      mode: LEVEL\n",
      " |      <BLANKLINE>\n",
      " |       name       2000Y1  2001Y1  2002Y1  ...  2013Y1  2014Y1  2015Y1\n",
      " |      XNATY         0.22    0.70    0.40  ...   -0.20   -0.20   -0.20\n",
      " |      <BLANKLINE>\n",
      " |      \n",
      " |      >>> # simulate the model (no reordering)\n",
      " |      >>> simu = Simulation()\n",
      " |      >>> success = simu.model_simulate(\"2000Y1\", \"2015Y1\")     # doctest: +ELLIPSIS, +NORMALIZE_WHITESPACE\n",
      " |      Linking equations ....\n",
      " |      Calculating SCC...\n",
      " |      Calculating SCC... -> #PRE 31 - #INTER 204 - #POST 39\n",
      " |      Reordering interdependent block...\n",
      " |      Reordering interdependent block...\n",
      " |      2000Y1: 1 iters - error =    1.342 - cpu=...ms\n",
      " |      2000Y1: 2 iters - error =   0.4115 - cpu=...ms\n",
      " |      2000Y1: 3 iters - error =   0.5272 - cpu=...ms\n",
      " |      ...\n",
      " |      2015Y1: 19 iters - error =  0.00267 - cpu=...ms\n",
      " |      2015Y1: 20 iters - error =  0.00141 - cpu=...ms\n",
      " |      2015Y1: 21 iters - error = 0.0006749 - cpu=...ms\n",
      " |      >>> success\n",
      " |      True\n",
      " |      >>> variables[\"UY\", \"2000Y1:2015Y1\"]            # doctest: +ELLIPSIS, +NORMALIZE_WHITESPACE\n",
      " |      Workspace: Variables\n",
      " |      nb variables: 1\n",
      " |      filename: ...fun.var\n",
      " |      description: Modèle fun - Simulation 1\n",
      " |      sample: 2000Y1:2015Y1\n",
      " |      mode: LEVEL\n",
      " |      <BLANKLINE>\n",
      " |      name        2000Y1  2001Y1  2002Y1  ...  2013Y1  2014Y1  2015Y1\n",
      " |      UY          624.18  645.05  661.61  ...  549.24  533.37  525.13\n",
      " |      <BLANKLINE>\n",
      " |  \n",
      " |  model_simulate_SCC(self, from_period: Union[str, iode.time.period.Period], to_period: Union[str, iode.time.period.Period], pre_name: str = '_PRE', inter_name: str = '_INTER', post_name: str = '_POST', quiet: bool = False) -> bool\n",
      " |      Simulates a model previously decomposed into Strongly Connex Components (SCC) and reordered.\n",
      " |      It is intended to be called after the method :meth:`Simulation.model_calculate_SCC`.\n",
      " |      \n",
      " |      To improve performance at simulation start-up, the simulation process has been divided into 2 stages. \n",
      " |      The first only deals with model reordering (see method :meth:`Simulation.model_calculate_SCC`), \n",
      " |      the second with simulation (see method :meth:`Simulation.model_simulate`).\n",
      " |      \n",
      " |      Parameters\n",
      " |      ----------\n",
      " |      from_period : str or Period\n",
      " |          The starting period for the simulation.\n",
      " |      to_period : str or Period\n",
      " |          The ending period for the simulation.\n",
      " |      pre_name : str, optional\n",
      " |          Name of the list representing the pre-recursive equations.\n",
      " |          Default to \"_PRE\".\n",
      " |      inter_name : str, optional\n",
      " |          Name of the list representing the interdependent equations. \n",
      " |          Default to \"_INTER\".\n",
      " |      post_name : str, optional\n",
      " |          Name of the list representing the post-recursive equations.\n",
      " |          Default to \"_POST\".\n",
      " |      quiet : bool, optional\n",
      " |          If True, the simulation will not display log messages.\n",
      " |          Default to False.\n",
      " |      \n",
      " |      Returns\n",
      " |      -------\n",
      " |      bool\n",
      " |          True if the simulation was successful, False otherwise.\n",
      " |      \n",
      " |      See Also\n",
      " |      --------\n",
      " |      Simulation.model_calculate_SCC\n",
      " |      Simulation.model_simulate\n",
      " |      \n",
      " |      Examples\n",
      " |      --------\n",
      " |      >>> from iode import SAMPLE_DATA_DIR, equations, identities, lists, scalars, variables \n",
      " |      >>> from iode import Simulation\n",
      " |      >>> equations.load(f\"{SAMPLE_DATA_DIR}/fun.eqs\")        # doctest: +ELLIPSIS, +NORMALIZE_WHITESPACE\n",
      " |      Loading .../fun.eqs\n",
      " |      274 objects loaded \n",
      " |      >>> identities.load(f\"{SAMPLE_DATA_DIR}/fun.idt\")       # doctest: +ELLIPSIS, +NORMALIZE_WHITESPACE\n",
      " |      Loading .../fun.idt\n",
      " |      48 objects loaded \n",
      " |      >>> lists.load(f\"{SAMPLE_DATA_DIR}/fun.lst\")            # doctest: +ELLIPSIS, +NORMALIZE_WHITESPACE\n",
      " |      Loading .../fun.lst\n",
      " |      17 objects loaded \n",
      " |      >>> scalars.load(f\"{SAMPLE_DATA_DIR}/fun.scl\")          # doctest: +ELLIPSIS, +NORMALIZE_WHITESPACE\n",
      " |      Loading .../fun.scl\n",
      " |      161 objects loaded \n",
      " |      >>> variables.load(f\"{SAMPLE_DATA_DIR}/fun.var\")        # doctest: +ELLIPSIS, +NORMALIZE_WHITESPACE\n",
      " |      Loading .../fun.var\n",
      " |      394 objects loaded\n",
      " |      >>> simu = Simulation()\n",
      " |      \n",
      " |      Step 1 - Compute the Strongly Connex Components (SCC) decomposition\n",
      " |      \n",
      " |      >>> success = simu.model_calculate_SCC(10)    # doctest: +ELLIPSIS, +NORMALIZE_WHITESPACE\n",
      " |      Pseudo-linking equations ....\n",
      " |      Calculating SCC...\n",
      " |      Calculating SCC... -> #PRE 31 - #INTER 204 - #POST 39\n",
      " |      Reordering interdependent block...\n",
      " |      Reordering interdependent block...\n",
      " |      >>> success\n",
      " |      True\n",
      " |      \n",
      " |      >>> lists[\"_PRE\"]           # doctest: +ELLIPSIS\n",
      " |      ['BRUGP', 'DTH1C', 'EX', 'ITCEE', ..., 'ZZF_', 'DTH1', 'PME', 'PMS', 'PMT']\n",
      " |      >>> len(lists[\"_PRE\"])\n",
      " |      31\n",
      " |      >>> lists[\"_INTER\"]         # doctest: +ELLIPSIS\n",
      " |      ['PMAB', 'PXAB', 'ULCP', 'SSH3P', ..., 'YSSG', 'WCF_', 'ITEP', 'EXC', 'ITT']\n",
      " |      >>> len(lists[\"_INTER\"])\n",
      " |      204\n",
      " |      >>> lists[\"_POST\"]          # doctest: +ELLIPSIS\n",
      " |      ['IFU', 'SSHFF', 'PBBP', 'OCUF', ..., 'GAP', 'FLGR', 'FLF', 'DPUU', 'BENEF']\n",
      " |      >>> len(lists[\"_POST\"])\n",
      " |      39\n",
      " |      \n",
      " |      Step 2 - Simulate the model based on the 3 lists _PRE, _INTER and _POST\n",
      " |      \n",
      " |      >>> # exogeneous variable \n",
      " |      >>> equations[\"UY\"].lec\n",
      " |      'UY := NATY-NDOMY-NIY-NGY-(EFXY-EFMY)-NFY'\n",
      " |      >>> # reset values\n",
      " |      >>> variables[\"UY\", \"2000Y1:2015Y1\"] = 0.0\n",
      " |      >>> variables[\"UY\", \"2000Y1:2015Y1\"]        # doctest: +ELLIPSIS, +NORMALIZE_WHITESPACE\n",
      " |      Workspace: Variables\n",
      " |      nb variables: 1\n",
      " |      filename: ...fun.var\n",
      " |      description: Modèle fun - Simulation 1\n",
      " |      sample: 2000Y1:2015Y1\n",
      " |      mode: LEVEL\n",
      " |      <BLANKLINE>\n",
      " |      name        2000Y1  2001Y1  2002Y1  ...  2013Y1  2014Y1  2015Y1\n",
      " |      UY            0.00    0.00    0.00  ...    0.00    0.00    0.00\n",
      " |      <BLANKLINE>\n",
      " |      >>> # endogenous variable\n",
      " |      >>> identities[\"XNATY\"]\n",
      " |      Identity('grt NATY')\n",
      " |      >>> variables[\"XNATY\", \"2000Y1:2015Y1\"]     # doctest: +ELLIPSIS, +NORMALIZE_WHITESPACE\n",
      " |      Workspace: Variables\n",
      " |      nb variables: 1\n",
      " |      filename: ...fun.var\n",
      " |      description: Modèle fun - Simulation 1\n",
      " |      sample: 2000Y1:2015Y1\n",
      " |      mode: LEVEL\n",
      " |      <BLANKLINE>\n",
      " |       name       2000Y1  2001Y1  2002Y1  ...  2013Y1  2014Y1  2015Y1\n",
      " |      XNATY         0.22    0.70    0.40  ...   -0.20   -0.20   -0.20\n",
      " |      <BLANKLINE>\n",
      " |      \n",
      " |      >>> success = simu.model_simulate_SCC(\"2000Y1\", \"2015Y1\")     # doctest: +ELLIPSIS, +NORMALIZE_WHITESPACE\n",
      " |      Linking equations ....\n",
      " |      2000Y1: 1 iters - error =   0.3155 - cpu=...ms\n",
      " |      2000Y1: 2 iters - error =    1.953 - cpu=...ms\n",
      " |      2000Y1: 3 iters - error =   0.2335 - cpu=...ms\n",
      " |      ...\n",
      " |      2015Y1: 10 iters - error =  0.01144 - cpu=...ms\n",
      " |      2015Y1: 11 iters - error = 0.006679 - cpu=...ms\n",
      " |      2015Y1: 12 iters - error = 0.0003485 - cpu=...ms\n",
      " |      >>> success\n",
      " |      True\n",
      " |      \n",
      " |      >>> variables[\"UY\", \"2000Y1:2015Y1\"]        # doctest: +ELLIPSIS, +NORMALIZE_WHITESPACE\n",
      " |      Workspace: Variables\n",
      " |      nb variables: 1\n",
      " |      filename: ...fun.var\n",
      " |      description: Modèle fun - Simulation 1\n",
      " |      sample: 2000Y1:2015Y1\n",
      " |      mode: LEVEL\n",
      " |      <BLANKLINE>\n",
      " |      name        2000Y1  2001Y1  2002Y1  ...  2013Y1  2014Y1  2015Y1\n",
      " |      UY          624.18  645.05  661.58  ...  549.26  533.49  525.29\n",
      " |      <BLANKLINE>\n",
      " |  \n",
      " |  ----------------------------------------------------------------------\n",
      " |  Data descriptors defined here:\n",
      " |  \n",
      " |  __dict__\n",
      " |      dictionary for instance variables\n",
      " |  \n",
      " |  __weakref__\n",
      " |      list of weak references to the object\n",
      " |  \n",
      " |  convergence_threshold\n",
      " |      Indicates the convergence threshold below which the simulation ends positively for the current period.\n",
      " |      In other words, for a given period, when the relative differences between two successive iterations (k and k-1)\n",
      " |      \n",
      " |      .. math:: \\frac{\\|Y[k] - Y[k-1]\\|}{\\|Y[k]\\|}\n",
      " |      \n",
      " |      are below this threshold for all endogenous variables, the model is considered to have converged.\n",
      " |      Default value is 0.001.\n",
      " |      \n",
      " |      Parameters\n",
      " |      ----------\n",
      " |      value: float\n",
      " |          New convergence threshold value.\n",
      " |      \n",
      " |      Examples\n",
      " |      --------\n",
      " |      >>> from iode import Simulation\n",
      " |      >>> simu = Simulation()\n",
      " |      >>> simu.convergence_threshold\n",
      " |      0.001\n",
      " |      >>> simu.convergence_threshold = 1e-6\n",
      " |      >>> simu.convergence_threshold\n",
      " |      1e-06\n",
      " |  \n",
      " |  debug\n",
      " |      Option to automatically generates IODE lists containing pre-recursive, interdependent \n",
      " |      and post-recursive equations: `_PRE`, `_INTER` and `_POST`.\n",
      " |      It is used with the method :meth:`Simulation.model_simulate`.\n",
      " |      Default to False.\n",
      " |      \n",
      " |      Parameters\n",
      " |      ----------\n",
      " |      value: bool \n",
      " |      \n",
      " |      Examples\n",
      " |      --------\n",
      " |      >>> from iode import SAMPLE_DATA_DIR, equations, lists, scalars, variables \n",
      " |      >>> from iode import Simulation\n",
      " |      >>> equations.load(f\"{SAMPLE_DATA_DIR}/fun.eqs\")        # doctest: +ELLIPSIS, +NORMALIZE_WHITESPACE\n",
      " |      Loading .../fun.eqs\n",
      " |      274 objects loaded \n",
      " |      >>> lists.load(f\"{SAMPLE_DATA_DIR}/fun.lst\")            # doctest: +ELLIPSIS, +NORMALIZE_WHITESPACE\n",
      " |      Loading .../fun.lst\n",
      " |      17 objects loaded \n",
      " |      >>> scalars.load(f\"{SAMPLE_DATA_DIR}/fun.scl\")          # doctest: +ELLIPSIS, +NORMALIZE_WHITESPACE\n",
      " |      Loading .../fun.scl\n",
      " |      161 objects loaded \n",
      " |      >>> variables.load(f\"{SAMPLE_DATA_DIR}/fun.var\")        # doctest: +ELLIPSIS, +NORMALIZE_WHITESPACE\n",
      " |      Loading .../fun.var\n",
      " |      394 objects loaded\n",
      " |      \n",
      " |      >>> simu = Simulation()\n",
      " |      >>> # force IODE to create the three list _PRE, _INTER and _POST \n",
      " |      >>> # when the method model_simulate is called \n",
      " |      >>> simu.debug = True\n",
      " |      >>> success = simu.model_simulate(\"2000Y1\", \"2015Y1\")   # doctest: +ELLIPSIS, +NORMALIZE_WHITESPACE\n",
      " |      Linking equations ....\n",
      " |      Calculating SCC...\n",
      " |      Calculating SCC... -> #PRE 31 - #INTER 204 - #POST 39\n",
      " |      Reordering interdependent block...\n",
      " |      Reordering interdependent block...\n",
      " |      2000Y1: 1 iters - error =   0.6558 - cpu=...ms\n",
      " |      2000Y1: 2 iters - error =   0.1684 - cpu=...ms\n",
      " |      2000Y1: 3 iters - error =   0.5237 - cpu=...ms\n",
      " |      ...\n",
      " |      2015Y1: 19 iters - error = 0.002907 - cpu=...ms\n",
      " |      2015Y1: 20 iters - error = 0.001537 - cpu=...ms\n",
      " |      2015Y1: 21 iters - error = 0.0005893 - cpu=...ms\n",
      " |      \n",
      " |      >>> lists[\"_PRE\"]           # doctest: +ELLIPSIS\n",
      " |      ['BRUGP', 'DTH1C', 'EX', 'ITCEE', ..., 'ZZF_', 'DTH1', 'PME', 'PMS', 'PMT']\n",
      " |      >>> len(lists[\"_PRE\"])\n",
      " |      31\n",
      " |      \n",
      " |      >>> lists[\"_INTER\"]         # doctest: +ELLIPSIS\n",
      " |      ['PMAB', 'PXAB', 'ITFGO', 'ITFGI', ..., 'FLG', 'VBNP', 'VBNP_P', 'VBBP_P']\n",
      " |      >>> len(lists[\"_INTER\"])\n",
      " |      204\n",
      " |      \n",
      " |      >>> lists[\"_POST\"]          # doctest: +ELLIPSIS\n",
      " |      ['IFU', 'SSHFF', 'PBBP', 'OCUF', ..., 'GAP', 'FLGR', 'FLF', 'DPUU', 'BENEF']\n",
      " |      >>> len(lists[\"_POST\"])\n",
      " |      39\n",
      " |  \n",
      " |  debug_newton\n",
      " |      Save a trace of the sub-iterations when the Newton-Raphson alogrithm is used.\n",
      " |      Default to False.\n",
      " |      \n",
      " |      Parameters\n",
      " |      ----------\n",
      " |      value: bool\n",
      " |      \n",
      " |      Examples\n",
      " |      --------\n",
      " |      >>> from iode import Simulation\n",
      " |      >>> simu = Simulation()\n",
      " |      >>> # default value\n",
      " |      >>> simu.debug_newton\n",
      " |      False\n",
      " |  \n",
      " |  initialization_method\n",
      " |      At the start of each period to be simulated, a starting value must be chosen for each endogenous variable. \n",
      " |      This value can be :\n",
      " |        - :math:`Y := Y[-1], if Y null or NA` (TM1) : each null or NA endogen at the start takes the value of \n",
      " |          the previous period,\n",
      " |        - :math:`Y := Y[-1], always` (TM1_A) : each endogen takes the value of the previous period at the start,\n",
      " |        - :math:`Y := extrapolation, if Y null or NA` (EXTRA) : each null or NA endogen takes as value a linear \n",
      " |          extrapolation of the two previous periods,\n",
      " |        - :math:`Y := extrapolation, always` (EXTRA_A) : each endogen takes as its value a linear extrapolation of \n",
      " |          the two preceding periods, whether or not it is zero at the start,\n",
      " |        - :math:`Y unchanged` (ASIS): endogenous values are not initialized. They retain their value whether or \n",
      " |          not they are zero,\n",
      " |        - :math:`Y := Y[-1], if Y = NA` (TM1_NA): each NA value takes the value of the previous period,\n",
      " |        - :math:`Y := extrapolation, if Y = NA` (EXTRA_NA): each NA value takes the value of a linear extrapolation of \n",
      " |          the two previous periods.\n",
      " |      \n",
      " |      Parameters\n",
      " |      ----------\n",
      " |      value: SimulationInitialization or str\n",
      " |          initialization method. Possible values are:\n",
      " |            - TM1: :math:`Y := Y[-1], if Y null or NA`\n",
      " |            - TM1_A: :math:`Y := Y[-1], always`\n",
      " |            - EXTRA: :math:`Y := extrapolation, if Y null or NA`\n",
      " |            - EXTRA_A: :math:`Y := extrapolation, always`\n",
      " |            - ASIS: :math:`Y unchanged`\n",
      " |            - TM1_NA: :math:`Y := Y[-1], if Y = NA`\n",
      " |            - EXTRA_NA: :math:`Y := extrapolation, if Y = NA`\n",
      " |      \n",
      " |      Examples\n",
      " |      -------- \n",
      " |      >>> from iode import Simulation, SimulationInitialization\n",
      " |      >>> simu = Simulation()\n",
      " |      >>> # default value\n",
      " |      >>> simu.initialization_method\n",
      " |      'TM1 (Y := Y[-1], if Y null or NA)'\n",
      " |      \n",
      " |      >>> simu.initialization_method = \"TM1\"\n",
      " |      >>> simu.initialization_method\n",
      " |      'TM1 (Y := Y[-1], if Y null or NA)'\n",
      " |      >>> simu.initialization_method = SimulationInitialization.TM1\n",
      " |      >>> simu.initialization_method\n",
      " |      'TM1 (Y := Y[-1], if Y null or NA)'\n",
      " |      \n",
      " |      >>> simu.initialization_method = \"TM1_A\"\n",
      " |      >>> simu.initialization_method\n",
      " |      'TM1_A (Y := Y[-1], always)'\n",
      " |      >>> simu.initialization_method = SimulationInitialization.TM1_A\n",
      " |      >>> simu.initialization_method\n",
      " |      'TM1_A (Y := Y[-1], always)'\n",
      " |      \n",
      " |      >>> simu.initialization_method = \"EXTRA\"\n",
      " |      >>> simu.initialization_method\n",
      " |      'EXTRA (Y := extrapolation, if Y null or NA)'\n",
      " |      >>> simu.initialization_method = SimulationInitialization.EXTRA\n",
      " |      >>> simu.initialization_method\n",
      " |      'EXTRA (Y := extrapolation, if Y null or NA)'\n",
      " |      \n",
      " |      >>> simu.initialization_method = \"EXTRA_A\"\n",
      " |      >>> simu.initialization_method\n",
      " |      'EXTRA_A (Y := extrapolation, always)'\n",
      " |      >>> simu.initialization_method = SimulationInitialization.EXTRA_A\n",
      " |      >>> simu.initialization_method\n",
      " |      'EXTRA_A (Y := extrapolation, always)'\n",
      " |      \n",
      " |      >>> simu.initialization_method = \"ASIS\"\n",
      " |      >>> simu.initialization_method\n",
      " |      'ASIS (Y unchanged)'\n",
      " |      >>> simu.initialization_method = SimulationInitialization.ASIS\n",
      " |      >>> simu.initialization_method\n",
      " |      'ASIS (Y unchanged)'\n",
      " |      \n",
      " |      >>> simu.initialization_method = \"TM1_NA\"\n",
      " |      >>> simu.initialization_method\n",
      " |      'TM1_NA (Y := Y[-1], if Y = NA)'\n",
      " |      >>> simu.initialization_method = SimulationInitialization.TM1_NA\n",
      " |      >>> simu.initialization_method\n",
      " |      'TM1_NA (Y := Y[-1], if Y = NA)'\n",
      " |      \n",
      " |      >>> simu.initialization_method = \"EXTRA_NA\"\n",
      " |      >>> simu.initialization_method\n",
      " |      'EXTRA_NA (Y := extrapolation, if Y = NA)'\n",
      " |      >>> simu.initialization_method = SimulationInitialization.EXTRA_NA\n",
      " |      >>> simu.initialization_method\n",
      " |      'EXTRA_NA (Y := extrapolation, if Y = NA)'\n",
      " |  \n",
      " |  max_nb_iterations\n",
      " |      Maximum number of iterations to reach a solution. If, after the specified maximum number \n",
      " |      of iterations, the model has not converged, the process stops with an error message. \n",
      " |      This parameter prevents the process from looping indefinitely.\n",
      " |      Default value is 100.\n",
      " |      \n",
      " |      Parameters\n",
      " |      ----------\n",
      " |      value: int\n",
      " |          New maximum number of iterations allowed.\n",
      " |      \n",
      " |      Examples\n",
      " |      --------\n",
      " |      >>> from iode import Simulation\n",
      " |      >>> simu = Simulation()\n",
      " |      >>> # default value\n",
      " |      >>> simu.max_nb_iterations\n",
      " |      100\n",
      " |      >>> simu.max_nb_iterations = 1000\n",
      " |      >>> simu.max_nb_iterations\n",
      " |      1000\n",
      " |  \n",
      " |  max_nb_iterations_newton\n",
      " |      Maximum number of iterations when the Newton-Raphson algorithm is used.\n",
      " |      Default to 50.\n",
      " |      \n",
      " |      Parameters\n",
      " |      ----------\n",
      " |      value: int\n",
      " |      \n",
      " |      Examples\n",
      " |      --------\n",
      " |      >>> from iode import Simulation\n",
      " |      >>> simu = Simulation()\n",
      " |      >>> # default value\n",
      " |      >>> simu.max_nb_iterations_newton\n",
      " |      50\n",
      " |      >>> simu.max_nb_iterations_newton = 100\n",
      " |      >>> simu.max_nb_iterations_newton\n",
      " |      100\n",
      " |  \n",
      " |  nb_passes\n",
      " |      Number of passes to make when the pseudo-triangulation sorting algorithm is used.\n",
      " |      Default to 5.\n",
      " |      \n",
      " |      See Also\n",
      " |      --------\n",
      " |      Simulation.sort_algorithm\n",
      " |      \n",
      " |      Parameters\n",
      " |      ----------\n",
      " |      value: int\n",
      " |      \n",
      " |      Examples\n",
      " |      --------\n",
      " |      >>> from iode import Simulation\n",
      " |      >>> simu = Simulation()\n",
      " |      >>> # default value\n",
      " |      >>> simu.nb_passes \n",
      " |      5\n",
      " |      >>> simu.nb_passes = 10\n",
      " |      >>> simu.nb_passes\n",
      " |      10\n",
      " |  \n",
      " |  relax\n",
      " |      Relaxation parameter.\n",
      " |      \n",
      " |      It modifies the algorithm's behavior in the following way in the following way: the variable :math:`X`, \n",
      " |      calculated by the associated model equation, is not for subsequent iterations, but replaced by \n",
      " |      \n",
      " |      .. math:: X[k] = X^\\prime * \\lambda + X[k-1] * (1 - \\lambda)\n",
      " |      \n",
      " |      where: \n",
      " |      \n",
      " |        - :math:`X^\\prime` is the result of calculating the equation,\n",
      " |        - :math:`\\lambda` is the relaxation parameter,\n",
      " |        - :math:`X[k-1]` is the result of the calculation at the previous iteration,\n",
      " |        - :math:`X[k]` is the new value\n",
      " |      \n",
      " |      If :math:`\\lambda` is 1, :math:`X[k]` is the result of calculating the equation without modification.\n",
      " |      If :math:`\\lambda` is 0, :math:`X` will never change. \n",
      " |      \n",
      " |      It is recommended to set this parameter to a value between 0.5 and 1 when a model doesn't converge\n",
      " |      or converges too slowly.\n",
      " |      \n",
      " |      Default value is 1.0.\n",
      " |      \n",
      " |      Parameters\n",
      " |      ----------\n",
      " |      value: float\n",
      " |          New relaxation parameter value. Its value must be in the range [0.1, 1.0]. \n",
      " |      \n",
      " |      Examples\n",
      " |      --------\n",
      " |      >>> from iode import Simulation\n",
      " |      >>> simu = Simulation()\n",
      " |      >>> simu.relax\n",
      " |      1.0\n",
      " |      >>> simu.relax = 0.9\n",
      " |      >>> simu.relax\n",
      " |      0.9\n",
      " |  \n",
      " |  sort_algorithm\n",
      " |      Sorting algorithm used to reorganized the list of equations *before* the simulation is performed.\n",
      " |      This reorganization can be usefully to to speed up the simulation. \n",
      " |      \n",
      " |      Two methods can be used separately or in combination. Both use algorithms from the *graph theory*.\n",
      " |      \n",
      " |      Strongly Connected Component (SCC)\n",
      " |      ~~~~~~~~~~~~~~~~~~~~~~~~~~~~~~~~~~\n",
      " |      \n",
      " |      this involves dividing the model into non-interdependent blocks. \n",
      " |      This method limits the number of equations to be calculated, based on the dependencies of \n",
      " |      the equations on each other. \n",
      " |      \n",
      " |      In the following example, blocks 1 and 3 are non-interdependent, meaning that only one calculation \n",
      " |      is required per period. The relaxation parameter is not used in these blocks. \n",
      " |      Block 2 is the interdependent part of the model. This block is the only one to be iterated on. \n",
      " |      This reduces the number of equations to be solved to 3, instead of the 6 that actually make up the model. \n",
      " |      Decomposition can result in more than three blocks::\n",
      " |      \n",
      " |          Let's consider the following equations:\n",
      " |          A = f1(B,C,D)\n",
      " |          B = f2(C,A)\n",
      " |          C = f3(B,X)\n",
      " |          D = f4(X,Y)\n",
      " |          X = f5(Y)\n",
      " |          Z = f6(A,B,C,X)\n",
      " |      \n",
      " |          The following blocks are built (in this order):\n",
      " |          1: X = f5(Y)       depends only on exogenous Y\n",
      " |             D = f4(X,Y)     depends on X\n",
      " |          2: A = f1(B,C,D)   loop with B and C\n",
      " |             B = f2(C,A)     loop with A and C\n",
      " |             C = f3(B,X)     loops with B, then with A\n",
      " |          3: Z = f6(A,B,C,X) is not used by any equation\n",
      " |      \n",
      " |      Pseudo-triangulation\n",
      " |      ~~~~~~~~~~~~~~~~~~~~\n",
      " |      \n",
      " |      This method reorganizes equations using a specific algorithm. \n",
      " |      Basically, dependencies are analyzed and equations are organized accordingly: if B depends on A, \n",
      " |      B is placed after A, and so on. Several passes are usually necessary to obtain a satisfactory result. \n",
      " |      The optimal number of passes depends on the model and is left to the user's choice.\n",
      " |      \n",
      " |      Parameters\n",
      " |      ----------\n",
      " |      value: SimulationSort or str\n",
      " |          New value for the used sorting algorithm. \n",
      " |          Possible values are:\n",
      " |            - NONE: do not use any sorting algorithm\n",
      " |            - CONNEX: use the *Strongly Connected Component (SCC)* method only\n",
      " |            - BOTH: use both the *SCC* and the *Pseudo-triangulation* methods\n",
      " |      \n",
      " |      Examples\n",
      " |      -------- \n",
      " |      >>> from iode import Simulation, SimulationSort\n",
      " |      >>> simu = Simulation()\n",
      " |      >>> # default value\n",
      " |      >>> simu.sort_algorithm\n",
      " |      'BOTH (Connex compon. + Triangulation)'\n",
      " |      \n",
      " |      >>> simu.sort_algorithm = \"none\"\n",
      " |      >>> simu.sort_algorithm\n",
      " |      'NONE (None)'\n",
      " |      >>> simu.sort_algorithm = SimulationSort.NONE\n",
      " |      >>> simu.sort_algorithm\n",
      " |      'NONE (None)'\n",
      " |      \n",
      " |      >>> simu.sort_algorithm = \"connex\"\n",
      " |      >>> simu.sort_algorithm\n",
      " |      'CONNEX (Connex compon. decomposition)'\n",
      " |      >>> simu.sort_algorithm = SimulationSort.CONNEX\n",
      " |      >>> simu.sort_algorithm\n",
      " |      'CONNEX (Connex compon. decomposition)'\n",
      " |      \n",
      " |      >>> simu.sort_algorithm = \"both\"\n",
      " |      >>> simu.sort_algorithm\n",
      " |      'BOTH (Connex compon. + Triangulation)'\n",
      " |      >>> simu.sort_algorithm = SimulationSort.BOTH\n",
      " |      >>> simu.sort_algorithm\n",
      " |      'BOTH (Connex compon. + Triangulation)'\n",
      "\n"
     ]
    }
   ],
   "source": [
    "from iode import Simulation\n",
    "\n",
    "help(Simulation)"
   ]
  },
  {
   "cell_type": "code",
   "execution_count": 305,
   "metadata": {},
   "outputs": [
    {
     "name": "stdout",
     "output_type": "stream",
     "text": [
      "possible sort algorithms: ['CONNEX', 'BOTH', 'NONE']\n"
     ]
    }
   ],
   "source": [
    "from iode import SimulationSort\n",
    "\n",
    "print(f\"possible sort algorithms: {[member.name for member in SimulationSort]}\")"
   ]
  },
  {
   "cell_type": "code",
   "execution_count": 306,
   "metadata": {},
   "outputs": [
    {
     "name": "stdout",
     "output_type": "stream",
     "text": [
      "possible initialization methods: ['TM1', 'TM1_A', 'EXTRA', 'EXTRA_A', 'ASIS', 'TM1_NA', 'EXTRA_NA']\n"
     ]
    }
   ],
   "source": [
    "from iode import SimulationInitialization\n",
    "\n",
    "print(f\"possible initialization methods: {[member.name for member in SimulationInitialization]}\")"
   ]
  },
  {
   "cell_type": "code",
   "execution_count": 307,
   "metadata": {},
   "outputs": [
    {
     "name": "stdout",
     "output_type": "stream",
     "text": [
      "Simulation() methods and properties:\n",
      "convergence_threshold\n",
      "debug\n",
      "debug_newton\n",
      "initialization_method\n",
      "max_nb_iterations\n",
      "max_nb_iterations_newton\n",
      "model_calculate_SCC\n",
      "model_compile\n",
      "model_exchange\n",
      "model_simulate\n",
      "model_simulate_SCC\n",
      "nb_passes\n",
      "relax\n",
      "sort_algorithm\n"
     ]
    }
   ],
   "source": [
    "# ---- simulation ----\n",
    "print(\"Simulation() methods and properties:\")\n",
    "for name in dir(Simulation):\n",
    "    if not name.startswith('_'):\n",
    "        print(name)"
   ]
  },
  {
   "cell_type": "code",
   "execution_count": 308,
   "metadata": {},
   "outputs": [
    {
     "name": "stdout",
     "output_type": "stream",
     "text": [
      "Simulation convergence_threshold: 0.001\n",
      "Simulation relax: 1.0\n",
      "Simulation max_nb_iterations: 100\n",
      "Simulation sort_algorithm: BOTH (Connex compon. + Triangulation)\n",
      "Simulation initialization_method: TM1 (Y := Y[-1], if Y null or NA)\n",
      "Simulation debug: False\n",
      "Simulation nb_passes: 5\n",
      "Simulation debug_newton: False\n"
     ]
    }
   ],
   "source": [
    "# create and initialize a Simulation instance\n",
    "simu = Simulation(sort_algorithm=SimulationSort.BOTH, initialization_method=SimulationInitialization.TM1)\n",
    "print(f\"Simulation convergence_threshold: {simu.convergence_threshold}\")\n",
    "print(f\"Simulation relax: {simu.relax}\")\n",
    "print(f\"Simulation max_nb_iterations: {simu.max_nb_iterations}\")\n",
    "print(f\"Simulation sort_algorithm: {simu.sort_algorithm}\")\n",
    "print(f\"Simulation initialization_method: {simu.initialization_method}\")\n",
    "print(f\"Simulation debug: {simu.debug}\")\n",
    "print(f\"Simulation nb_passes: {simu.nb_passes}\")\n",
    "print(f\"Simulation debug_newton: {simu.debug_newton}\")"
   ]
  },
  {
   "cell_type": "markdown",
   "metadata": {},
   "source": [
    "To run the simulation, call the [Simulation.model_simulate](../_generated/iode.Simulation.model_simulate.rst#iode.Simulation.model_simulate) method:"
   ]
  },
  {
   "cell_type": "code",
   "execution_count": 309,
   "metadata": {},
   "outputs": [
    {
     "name": "stdout",
     "output_type": "stream",
     "text": [
      "Help on function model_simulate in module iode.compute.simulation:\n",
      "\n",
      "model_simulate(self, from_period: Union[str, iode.time.period.Period], to_period: Union[str, iode.time.period.Period], list_eqs: Union[str, List[str]] = None, quiet: bool = False) -> bool\n",
      "    Run the simulation of a model for a given sample.\n",
      "    \n",
      "    To simulate a model, all equations of the model must have been loaded or created. In addition, \n",
      "    all the variables and scalars used in the model equations must have been loaded or created. \n",
      "    Values of exogenous variables and of scalar cannot be :math:`NA` (*Not Available*) over the \n",
      "    simulation sample.\n",
      "    \n",
      "    Parameters\n",
      "    ----------\n",
      "    from_period : str or Period\n",
      "        The starting period for the simulation.\n",
      "    to_period : str or Period\n",
      "        The ending period for the simulation.\n",
      "    list_eqs : str or list(str), optional\n",
      "        List of equations representing the model.\n",
      "        Default to empty (all equations).\n",
      "    quiet : bool, optional\n",
      "        If True, suppresses the log messages during the simulation process. \n",
      "        Default to False.\n",
      "    \n",
      "    Returns\n",
      "    -------\n",
      "    bool\n",
      "        True if the simulation is successful, False otherwise.\n",
      "    \n",
      "    Examples\n",
      "    --------\n",
      "    >>> from iode import SAMPLE_DATA_DIR, equations, identities, lists, scalars, variables \n",
      "    >>> from iode import Simulation\n",
      "    >>> equations.load(f\"{SAMPLE_DATA_DIR}/fun.eqs\")        # doctest: +ELLIPSIS, +NORMALIZE_WHITESPACE\n",
      "    Loading .../fun.eqs\n",
      "    274 objects loaded \n",
      "    >>> identities.load(f\"{SAMPLE_DATA_DIR}/fun.idt\")       # doctest: +ELLIPSIS, +NORMALIZE_WHITESPACE\n",
      "    Loading .../fun.idt\n",
      "    48 objects loaded \n",
      "    >>> lists.load(f\"{SAMPLE_DATA_DIR}/fun.lst\")            # doctest: +ELLIPSIS, +NORMALIZE_WHITESPACE\n",
      "    Loading .../fun.lst\n",
      "    17 objects loaded \n",
      "    >>> scalars.load(f\"{SAMPLE_DATA_DIR}/fun.scl\")          # doctest: +ELLIPSIS, +NORMALIZE_WHITESPACE\n",
      "    Loading .../fun.scl\n",
      "    161 objects loaded \n",
      "    >>> variables.load(f\"{SAMPLE_DATA_DIR}/fun.var\")        # doctest: +ELLIPSIS, +NORMALIZE_WHITESPACE\n",
      "    Loading .../fun.var\n",
      "    394 objects loaded\n",
      "    \n",
      "    >>> # exogenous variable \n",
      "    >>> equations[\"UY\"].lec\n",
      "    'UY := NATY-NDOMY-NIY-NGY-(EFXY-EFMY)-NFY'\n",
      "    >>> # reset values\n",
      "    >>> variables[\"UY\", \"2000Y1:2015Y1\"] = 0.0\n",
      "    >>> variables[\"UY\", \"2000Y1:2015Y1\"]            # doctest: +ELLIPSIS, +NORMALIZE_WHITESPACE\n",
      "    Workspace: Variables\n",
      "    nb variables: 1\n",
      "    filename: ...fun.var\n",
      "    description: Modèle fun - Simulation 1\n",
      "    sample: 2000Y1:2015Y1\n",
      "    mode: LEVEL\n",
      "    <BLANKLINE>\n",
      "    name        2000Y1  2001Y1  2002Y1  ...  2013Y1  2014Y1  2015Y1\n",
      "    UY            0.00    0.00    0.00  ...    0.00    0.00    0.00\n",
      "    <BLANKLINE>\n",
      "    \n",
      "    >>> # endogenous variable\n",
      "    >>> identities[\"XNATY\"]\n",
      "    Identity('grt NATY')\n",
      "    >>> variables[\"XNATY\", \"2000Y1:2015Y1\"]         # doctest: +ELLIPSIS, +NORMALIZE_WHITESPACE\n",
      "    Workspace: Variables\n",
      "    nb variables: 1\n",
      "    filename: ...fun.var\n",
      "    description: Modèle fun - Simulation 1\n",
      "    sample: 2000Y1:2015Y1\n",
      "    mode: LEVEL\n",
      "    <BLANKLINE>\n",
      "     name       2000Y1  2001Y1  2002Y1  ...  2013Y1  2014Y1  2015Y1\n",
      "    XNATY         0.22    0.70    0.40  ...   -0.20   -0.20   -0.20\n",
      "    <BLANKLINE>\n",
      "    \n",
      "    >>> # simulate the model (no reordering)\n",
      "    >>> simu = Simulation()\n",
      "    >>> success = simu.model_simulate(\"2000Y1\", \"2015Y1\")     # doctest: +ELLIPSIS, +NORMALIZE_WHITESPACE\n",
      "    Linking equations ....\n",
      "    Calculating SCC...\n",
      "    Calculating SCC... -> #PRE 31 - #INTER 204 - #POST 39\n",
      "    Reordering interdependent block...\n",
      "    Reordering interdependent block...\n",
      "    2000Y1: 1 iters - error =    1.342 - cpu=...ms\n",
      "    2000Y1: 2 iters - error =   0.4115 - cpu=...ms\n",
      "    2000Y1: 3 iters - error =   0.5272 - cpu=...ms\n",
      "    ...\n",
      "    2015Y1: 19 iters - error =  0.00267 - cpu=...ms\n",
      "    2015Y1: 20 iters - error =  0.00141 - cpu=...ms\n",
      "    2015Y1: 21 iters - error = 0.0006749 - cpu=...ms\n",
      "    >>> success\n",
      "    True\n",
      "    >>> variables[\"UY\", \"2000Y1:2015Y1\"]            # doctest: +ELLIPSIS, +NORMALIZE_WHITESPACE\n",
      "    Workspace: Variables\n",
      "    nb variables: 1\n",
      "    filename: ...fun.var\n",
      "    description: Modèle fun - Simulation 1\n",
      "    sample: 2000Y1:2015Y1\n",
      "    mode: LEVEL\n",
      "    <BLANKLINE>\n",
      "    name        2000Y1  2001Y1  2002Y1  ...  2013Y1  2014Y1  2015Y1\n",
      "    UY          624.18  645.05  661.61  ...  549.24  533.37  525.13\n",
      "    <BLANKLINE>\n",
      "\n"
     ]
    }
   ],
   "source": [
    "help(Simulation.model_simulate)"
   ]
  },
  {
   "cell_type": "code",
   "execution_count": 310,
   "metadata": {},
   "outputs": [
    {
     "name": "stdout",
     "output_type": "stream",
     "text": [
      "exogenous variable 'UY': UY := NATY-NDOMY-NIY-NGY-(EFXY-EFMY)-NFY\n",
      "endogenous variable 'XNATY': grt NATY\n",
      "exogenous variable 'UY' before simulation:\n",
      "Workspace: Variables\n",
      "nb variables: 1\n",
      "filename: c:\\soft\\Miniconda3\\Lib\\site-packages\\iode\\tests\\data\\fun.var\n",
      "description: Modèle fun - Simulation 1                         \n",
      "sample: 1998Y1:2005Y1\n",
      "mode: LEVEL\n",
      "\n",
      "name\t1998Y1\t1999Y1\t2000Y1\t2001Y1\t2002Y1\t2003Y1\t2004Y1\t2005Y1\n",
      "UY  \t671.46\t647.39\t  0.00\t  0.00\t  0.00\t  0.00\t  0.00\t  0.00\n",
      "\n",
      "Simulation success: True\n",
      "exogenous variable 'UY' after simulation:\n",
      "Workspace: Variables\n",
      "nb variables: 1\n",
      "filename: c:\\soft\\Miniconda3\\Lib\\site-packages\\iode\\tests\\data\\fun.var\n",
      "description: Modèle fun - Simulation 1                         \n",
      "sample: 1998Y1:2005Y1\n",
      "mode: LEVEL\n",
      "\n",
      "name\t1998Y1\t1999Y1\t2000Y1\t2001Y1\t2002Y1\t2003Y1\t2004Y1\t2005Y1\n",
      "UY  \t671.46\t647.39\t624.18\t645.05\t661.61\t676.56\t680.90\t682.99\n",
      "\n"
     ]
    }
   ],
   "source": [
    "print(f\"exogenous variable 'UY': {equations['UY'].lec}\")\n",
    "print(f\"endogenous variable 'XNATY': {identities['XNATY']}\")\n",
    "# reset values of exogenous variable\n",
    "variables[\"UY\", \"2000Y1:2015Y1\"] = 0.0\n",
    "\n",
    "print(f\"exogenous variable 'UY' before simulation:\\n{variables['UY', '1998Y1:2005Y1']}\")\n",
    "\n",
    "# run the simulation for the periods range '2000Y1' to '2015Y1'\n",
    "success = simu.model_simulate(\"2000Y1\", \"2015Y1\", quiet=True)\n",
    "print(f\"Simulation success: {success}\")\n",
    "\n",
    "print(f\"exogenous variable 'UY' after simulation:\\n{variables['UY', '1998Y1:2005Y1']}\")"
   ]
  },
  {
   "cell_type": "markdown",
   "metadata": {},
   "source": [
    "## Import/Export IODE workspaces from/to pandas Series and DataFrame\n",
    "\n",
    "To import / export the content of the `comments`, `identities` and `lists` workspaces from/to a pandas Series object, use the [from_series()](../_generated/iode.Comments.from_series.rst#iode.Comments.from_series) and [to_series()](../_generated/iode.Comments.to_series.rst#iode.Comments.to_series) methods. \n",
    "\n",
    "Alternatively, you can use the [series](../_generated/iode.Comments.series.rst#iode.Comments.series) property to export the content of the `comments`, `identities` and `lists` workspaces to a pandas Series object.\n",
    "\n",
    "For the examples, see the [pandas tutorial](pandas.ipynb)."
   ]
  },
  {
   "cell_type": "markdown",
   "metadata": {},
   "source": [
    "## Import/Export IODE Variables workspace from/to numpy ndarray\n",
    "\n",
    "To import / export the content of the `Variables` workspace (or a subset of it) from/to a numpy ndarray object, use the [from_numpy](../_generated/iode.Variables.from_numpy.rst#iode.Variables.from_numpy) and [to_numpy](../_generated/iode.Variables.to_numpy.rst#iode.Variables.to_numpy) methods.\n",
    "\n",
    "For the examples, see the [numpy tutorial](numpy.ipynb)."
   ]
  },
  {
   "cell_type": "markdown",
   "metadata": {},
   "source": [
    "## Import/Export the Variables workspace from/to LArray Array\n",
    "\n",
    "To import / export the content of the `variables` workspaces from/to an LArray Array object, use the [from_array()](../_generated/iode.Variables.from_array.rst#iode.Variables.from_array) and [to_array()](../_generated/iode.Variables.to_array.rst#iode.Variables.to_array) methods.\n",
    "\n",
    "For the examples, see the [larray tutorial](larray.ipynb)."
   ]
  },
  {
   "cell_type": "markdown",
   "metadata": {},
   "source": [
    "## Execute IODE report commands/files\n",
    "\n",
    "To run an IODE command, use the [execute_command()](../_generated/iode.execute_command.rst#iode.execute_command) function:"
   ]
  },
  {
   "cell_type": "code",
   "execution_count": 311,
   "metadata": {},
   "outputs": [
    {
     "name": "stdout",
     "output_type": "stream",
     "text": [
      "Execute IODE commands (useful for IODE functions and commands not yet ported to Python):\n",
      "Saving test_var.av\n",
      "sample 2000Y1 2005Y1\n",
      "A 1 2 3 4 5 6 \n",
      "B -1 0 1 2 3 4 \n",
      "C -1 na 3 2 1.66666666666667 1.5 \n",
      "D na 100 50 33.3333333333333 25 20 \n",
      "\n"
     ]
    }
   ],
   "source": [
    "from iode import execute_command\n",
    "\n",
    "# ---- execute IODE commands ----\n",
    "print(\"Execute IODE commands (useful for IODE functions and commands not yet ported to Python):\")\n",
    "execute_command(\"$WsClearVar\")\n",
    "execute_command(\"$WsSample 2000Y1 2005Y1\")\n",
    "execute_command(\"$DataCalcVar A t+1\")\n",
    "execute_command(\"$DataCalcVar B t-1\")\n",
    "execute_command(\"$DataCalcVar C A/B\")\n",
    "execute_command(\"$DataCalcVar D grt A\")\n",
    "execute_command(\"$WsSaveVar test_var.av\")\n",
    "with open(\"test_var.av\", \"r\") as f:\n",
    "    print(f.read())"
   ]
  },
  {
   "cell_type": "markdown",
   "metadata": {},
   "source": [
    "To run an entire IODE report (i.e. file with the '.rep' extension), call the [execute_report()](../_generated/iode.execute_report.rst#iode.execute_report) function:"
   ]
  },
  {
   "cell_type": "code",
   "execution_count": 312,
   "metadata": {},
   "outputs": [
    {
     "name": "stdout",
     "output_type": "stream",
     "text": [
      "Execute an IODE report -> execute_report()\n",
      "Saving test_var.av\n",
      "sample 2000Y1 2005Y1\n",
      "A 1 2 3 4 5 6 \n",
      "B -1 0 1 2 3 4 \n",
      "C -1 na 3 2 1.66666666666667 1.5 \n",
      "D na 100 50 33.3333333333333 25 20 \n",
      "\n"
     ]
    }
   ],
   "source": [
    "from iode import execute_report\n",
    "\n",
    "# ---- execute IODE reports ----\n",
    "print(\"Execute an IODE report -> execute_report()\")\n",
    "with open(\"create_var.rep\", \"w\") as f:\n",
    "    f.write(\"$WsClearVar\\n\")\n",
    "    f.write(\"$WsSample 2000Y1 2005Y1\\n\")\n",
    "    f.write(\"$DataCalcVar %1% t+1 \\n\")\n",
    "    f.write(\"$DataCalcVar %2% t-1 \\n\")\n",
    "    f.write(\"$DataCalcVar %3% %1%/%2%\\n\")\n",
    "    f.write(\"$DataCalcVar %4% grt %1% \\n\")\n",
    "    f.write(\"$WsSaveVar test_var.av\\n\")\n",
    "\n",
    "execute_report(\"create_var.rep\", [\"A\", \"B\", \"C\", \"D\"])\n",
    "\n",
    "with open(\"test_var.av\", \"r\") as f:\n",
    "    print(f.read())\n"
   ]
  },
  {
   "cell_type": "markdown",
   "metadata": {},
   "source": [
    "## Graphical User Interface\n",
    "\n",
    "It is possible to run the graphical user interface to view the content of the IODE workspace from any line of a Python script. Simply call the function [view_workspace()](../_generated/iode.view_workspace.rst#iode.view_workspace) to open the GUI."
   ]
  },
  {
   "cell_type": "markdown",
   "metadata": {},
   "source": [
    "Content of a Python script:\n",
    "\n",
    "```python\n",
    "from iode import view_workspace, ...\n",
    "\n",
    "... code here ...\n",
    "\n",
    "# To view the workspace, you can use the following command:\n",
    "view_workspace()\n",
    "\n",
    "... code here ...\n",
    "```"
   ]
  }
 ],
 "metadata": {
  "kernelspec": {
   "display_name": "base",
   "language": "python",
   "name": "python3"
  },
  "language_info": {
   "codemirror_mode": {
    "name": "ipython",
    "version": 3
   },
   "file_extension": ".py",
   "mimetype": "text/x-python",
   "name": "python",
   "nbconvert_exporter": "python",
   "pygments_lexer": "ipython3",
   "version": "3.11.9"
  }
 },
 "nbformat": 4,
 "nbformat_minor": 2
}
