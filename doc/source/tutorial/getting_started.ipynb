{
 "cells": [
  {
   "cell_type": "markdown",
   "metadata": {},
   "source": [
    "# Getting Started\n",
    "\n",
    "The purpose of the present `Getting Started` section is to give a quick overview of the main objects, methods and functions of the Python `iode` library.\n",
    "To get a more detailed presentation of all capabilities of `iode`, read the next sections of the tutorial.\n",
    "    \n",
    "The [API Reference](../api.rst#api-reference) section of the documentation give you the list of all objects, methods and functions with their individual documentation and examples.\n",
    "\n",
    "The [Equivalence IODE Report Commands and IODE Python](../equivalence.rst#equivalence-iode-report-commands-and-iode-python) section contains *equivalence tables* between the IODE report syntax and the Python `iode` syntax."
   ]
  },
  {
   "cell_type": "markdown",
   "metadata": {},
   "source": [
    "To use the Python `iode` library, the first thing to do is to import objects and functions you need from it:"
   ]
  },
  {
   "cell_type": "code",
   "execution_count": 27,
   "metadata": {},
   "outputs": [],
   "source": [
    "from iode import (SAMPLE_DATA_DIR, NA, comments, equations, identities, lists, scalars, \n",
    "                  tables, variables)"
   ]
  },
  {
   "cell_type": "markdown",
   "metadata": {},
   "source": [
    "To know the version of the `iode` library installed on your machine, type:"
   ]
  },
  {
   "cell_type": "code",
   "execution_count": null,
   "metadata": {},
   "outputs": [],
   "source": [
    "from iode import __version__\n",
    "__version__"
   ]
  },
  {
   "cell_type": "markdown",
   "metadata": {},
   "source": [
    "To get the list of objects and functions available in the `iode` li library, use the Python function `dir()`:"
   ]
  },
  {
   "cell_type": "code",
   "execution_count": null,
   "metadata": {},
   "outputs": [],
   "source": [
    "import iode\n",
    "dir(iode)"
   ]
  },
  {
   "cell_type": "markdown",
   "metadata": {},
   "source": [
    "To print the documentation of an object, method or function in a Python interactive console, use the `help()` function:"
   ]
  },
  {
   "cell_type": "code",
   "execution_count": null,
   "metadata": {},
   "outputs": [],
   "source": [
    "# ---- print documentation of a function or method ----\n",
    "help(equations.load)"
   ]
  },
  {
   "cell_type": "markdown",
   "metadata": {},
   "source": [
    "## Load IODE objects\n",
    "\n",
    "To load IODE objects from a binary file (i.e. with extension `.cmt`, `.eqs`, `.idt`, `.lst`, `.scl`, `.tbl`, `.var`) or from an ASCII file (i.e. with extension `.ac`, `.ae`, `.ai`, `.al`, `.as`, `.at`, `.av`), use the [load()](../_generated/iode.Database.load.rst#iode.Database.load) method of the corresponding object. For example:"
   ]
  },
  {
   "cell_type": "code",
   "execution_count": null,
   "metadata": {},
   "outputs": [],
   "source": [
    "# ---- load equations, identities, scalars and variables ----\n",
    "# Note: test binary and ASCII 'fun' files are located in the 'SAMPLE_DATA_DIR' \n",
    "#       directory of the 'iode' package\n",
    "comments.load(f\"{SAMPLE_DATA_DIR}/fun.cmt\")\n",
    "equations.load(f\"{SAMPLE_DATA_DIR}/fun.eqs\")\n",
    "identities.load(f\"{SAMPLE_DATA_DIR}/fun.idt\")\n",
    "lists.load(f\"{SAMPLE_DATA_DIR}/fun.lst\")\n",
    "scalars.load(f\"{SAMPLE_DATA_DIR}/fun.scl\")\n",
    "tables.load(f\"{SAMPLE_DATA_DIR}/fun.tbl\")\n",
    "variables.load(f\"{SAMPLE_DATA_DIR}/fun.var\")\n",
    "\n",
    "# ---- print the number of objects present in the above workspaces ----\n",
    "len(comments), len(equations), len(identities), len(lists), len(scalars), len(tables), len(variables)"
   ]
  },
  {
   "cell_type": "markdown",
   "metadata": {},
   "source": [
    "## Working with workspaces\n",
    "\n",
    "To get the list of objects names present in a workspace, use the [names](../_generated/iode.Database.names.rst#iode.Database.names) attribute of the workspace. \n",
    "For example:"
   ]
  },
  {
   "cell_type": "code",
   "execution_count": null,
   "metadata": {},
   "outputs": [],
   "source": [
    "# get the list of all equations names\n",
    "equations.names"
   ]
  },
  {
   "cell_type": "markdown",
   "metadata": {},
   "source": [
    "To check if a name is present in a workspace, use the `in` operator. \n",
    "For example:"
   ]
  },
  {
   "cell_type": "code",
   "execution_count": null,
   "metadata": {},
   "outputs": [],
   "source": [
    "if 'ACAF' in equations:\n",
    "    print(\"The 'ACAF' equation exists\")\n",
    "else:\n",
    "    print(\"'ACAF' equation not found\")"
   ]
  },
  {
   "cell_type": "markdown",
   "metadata": {},
   "source": [
    "To iterate over names of a workspace, simply use the Python syntax for the *for loop*:"
   ]
  },
  {
   "cell_type": "code",
   "execution_count": null,
   "metadata": {},
   "outputs": [],
   "source": [
    "print(\"Iterate over all equation names in the Equations workspace:\")\n",
    "for name in equations:\n",
    "    if name.startswith(\"A\"):\n",
    "        print(name)"
   ]
  },
  {
   "cell_type": "markdown",
   "metadata": {},
   "source": [
    "To get the current used sample for the Variables, use the [sample](../_generated/iode.Variables.sample.rst#iode.Variables.sample) attribute of the [variables](../_generated/iode.Variables.rst#iode.Variables) workspace:"
   ]
  },
  {
   "cell_type": "code",
   "execution_count": null,
   "metadata": {},
   "outputs": [],
   "source": [
    "# current used sample\n",
    "variables.sample"
   ]
  },
  {
   "cell_type": "markdown",
   "metadata": {},
   "source": [
    "To extract an object from a workspace, use the `[]` operator (see [here](../_generated/iode.Database.__getitem__.rst) for examples):"
   ]
  },
  {
   "cell_type": "code",
   "execution_count": null,
   "metadata": {},
   "outputs": [],
   "source": [
    "# extract the equation named 'ACAF'\n",
    "eq_ACAF = equations[\"ACAF\"]\n",
    "\n",
    "eq_ACAF"
   ]
  },
  {
   "cell_type": "markdown",
   "metadata": {},
   "source": [
    "To update an object from a workspace, also use the `[]` operator (see [here](../_generated/iode.Database.__setitem__.rst) for examples):"
   ]
  },
  {
   "cell_type": "code",
   "execution_count": null,
   "metadata": {},
   "outputs": [],
   "source": [
    "# Option 1: direct update of the IODE object\n",
    "# make the LEC expression of the 'ACAF' equation less ugly\n",
    "equations[\"ACAF\"] = \"(ACAF/VAF[-1]) := acaf1 + acaf2 * GOSF[-1] + acaf4*(TIME=1995)\"\n",
    "\n",
    "equations[\"ACAF\"]"
   ]
  },
  {
   "cell_type": "code",
   "execution_count": null,
   "metadata": {},
   "outputs": [],
   "source": [
    "# Option 2: extract / update / set the IODE object\n",
    "\n",
    "# extract 'ACAG' equation\n",
    "eq_ACAG = equations[\"ACAG\"]\n",
    "print(f\"old LEC of 'ACAG': {eq_ACAG.lec}\")\n",
    "\n",
    "# make the LEC expression of the 'ACAG' equation less ugly\n",
    "eq_ACAG.lec = \"ACAG := ACAG[-1] + r VBBP[-1] + (0.006*VBBP[-1]*(TIME=2001) - 0.008*(TIME=2008))\"\n",
    "\n",
    "# set the 'ACAG' equation back to the Equations workspace\n",
    "equations[\"ACAG\"] = eq_ACAG\n",
    "print(f\"new LEC of 'ACAG': {equations['ACAG'].lec}\")"
   ]
  },
  {
   "cell_type": "markdown",
   "metadata": {},
   "source": [
    "The `[]` operator (see [here](../_generated/iode.Database.__setitem__.rst)) can be also used to add an object:"
   ]
  },
  {
   "cell_type": "code",
   "execution_count": null,
   "metadata": {},
   "outputs": [],
   "source": [
    "# add a 'TEST' equation \n",
    "equations[\"TEST\"] = \"TEST := 0\"\n",
    "\n",
    "equations[\"TEST\"]"
   ]
  },
  {
   "cell_type": "markdown",
   "metadata": {},
   "source": [
    "To delete an object from a workspace, use the `del` Python keyword (see [here](../_generated/iode.Database.__delitem__.rst) for examples):"
   ]
  },
  {
   "cell_type": "code",
   "execution_count": null,
   "metadata": {},
   "outputs": [],
   "source": [
    "# remove the 'TEST' equation from the global equations workspace\n",
    "del equations[\"TEST\"]\n",
    "\n",
    "# check that 'TEST' has been removed from the Equations workspace\n",
    "\"TEST\" in equations"
   ]
  },
  {
   "cell_type": "markdown",
   "metadata": {},
   "source": [
    "## Selecting periods from a Variable\n",
    "\n",
    "It is possible to select the value(s) of a Variable for a given (range of) period(s) using the `[]` operator (see [here](../_generated/iode.Database.__getitem__.rst)):"
   ]
  },
  {
   "cell_type": "code",
   "execution_count": null,
   "metadata": {},
   "outputs": [],
   "source": [
    "# get a whole variable\n",
    "variables['ACAF']"
   ]
  },
  {
   "cell_type": "code",
   "execution_count": null,
   "metadata": {},
   "outputs": [],
   "source": [
    "# get the value of a variable for a given period\n",
    "variables['ACAF', '2000Y1']"
   ]
  },
  {
   "cell_type": "code",
   "execution_count": null,
   "metadata": {},
   "outputs": [],
   "source": [
    "# get the values of a variable for a given periods range\n",
    "variables['ACAF', '2000Y1:2010Y1']"
   ]
  },
  {
   "cell_type": "markdown",
   "metadata": {},
   "source": [
    "## Working with workspaces subsets\n",
    "\n",
    "To extract a subset of a workspace, you can use either a string pattern or a list of names. \n",
    "The rules for the pattern are explained in the documentation of the `[]` operator (see [here](../_generated/iode.Database.__getitem__.rst)). \n",
    "\n",
    "Examples of subsets:"
   ]
  },
  {
   "cell_type": "code",
   "execution_count": null,
   "metadata": {},
   "outputs": [],
   "source": [
    "# working with a subset of a the 'variables workspace' \n",
    "# 1. Using a string pattern\n",
    "vars_subset = variables[\"A*;*_\"]\n",
    "\n",
    "vars_subset.names"
   ]
  },
  {
   "cell_type": "code",
   "execution_count": null,
   "metadata": {},
   "outputs": [],
   "source": [
    "# working with a subset of a the 'variables workspace' \n",
    "# 2. Using a list of names\n",
    "vars_subset = variables[[\"ACAF\", \"ACAG\", \"AQC\", \"BQY\", \"BVY\"]]\n",
    "\n",
    "vars_subset.names"
   ]
  },
  {
   "cell_type": "markdown",
   "metadata": {},
   "source": [
    "Updating/adding/deleting an object from a subset will also affect the the global workspace:"
   ]
  },
  {
   "cell_type": "code",
   "execution_count": null,
   "metadata": {},
   "outputs": [],
   "source": [
    "# adding a 'DUMMY' variable\n",
    "vars_subset[\"DUMMY\"] = NA\n",
    "\n",
    "# check that the 'DUMMY' variable has been added to the global 'variables' workspace\n",
    "print(f\"Is the new Variable 'DUMMY' in the global variables workspace?: {'DUMMY' in variables}\")\n",
    "\n",
    "variables[\"DUMMY\", \"1960Y1\"]"
   ]
  },
  {
   "cell_type": "code",
   "execution_count": null,
   "metadata": {},
   "outputs": [],
   "source": [
    "# updating the 'DUMMY' variable\n",
    "vars_subset[\"DUMMY\"] = 0\n",
    "\n",
    "# check that the 'DUMMY' variable has been updated in the global 'variables' workspace\n",
    "variables[\"DUMMY\", \"1960Y1\"]"
   ]
  },
  {
   "cell_type": "code",
   "execution_count": null,
   "metadata": {},
   "outputs": [],
   "source": [
    "# deleting the 'DUMMY' variable\n",
    "del vars_subset[\"DUMMY\"]\n",
    "\n",
    "# check that the 'DUMMY' variable has been deleted from the global 'variables' workspace\n",
    "print(f\"Is the new Variable 'DUMMY' in the global variables workspace?: {'DUMMY' in variables}\")"
   ]
  },
  {
   "cell_type": "markdown",
   "metadata": {},
   "source": [
    "## Estimation\n",
    "\n",
    "To estimate either one equation or a block of equations, use the [Equation.estimate](../_generated/iode.Equation.estimate.rst#iode.Equation.estimate) method of the equation object."
   ]
  },
  {
   "cell_type": "code",
   "execution_count": null,
   "metadata": {},
   "outputs": [],
   "source": [
    "help(equations.estimate)"
   ]
  },
  {
   "cell_type": "markdown",
   "metadata": {},
   "source": [
    "Example for one equation:"
   ]
  },
  {
   "cell_type": "code",
   "execution_count": null,
   "metadata": {},
   "outputs": [],
   "source": [
    "# ---- estimate coefficients of one equation ----\n",
    "print(f\"ACAF equation LEC: {equations['ACAF'].lec}\")\n",
    "print(f\"ACAF equations coefficients (= scalars): {equations['ACAF'].coefficients}\")\n",
    "print(f\"ACAF equations variables: {equations['ACAF'].variables}\")\n",
    "\n",
    "# reset scalars\n",
    "for name in equations['ACAF'].coefficients:\n",
    "    scalars[name] = 0., 1.\n",
    "\n",
    "# estimate the 'ACAF' equation for the periods ranging from '1980Y1' to '1996Y1'\n",
    "equations.estimate(\"1980Y1\", \"1996Y1\", \"ACAF\")\n",
    "# or equivalently\n",
    "equations[\"ACAF\"].estimate(\"1980Y1\", \"1996Y1\")\n",
    "\n",
    "print(f\"Resulting values for the coefficient 'acaf1': {scalars['acaf1']}\")\n",
    "print(f\"Resulting values for the coefficient 'acaf2': {scalars['acaf2']}\")\n",
    "print(f\"Resulting values for the coefficient 'acaf4': {scalars['acaf4']}\")"
   ]
  },
  {
   "cell_type": "markdown",
   "metadata": {},
   "source": [
    "Example for a block of equations:"
   ]
  },
  {
   "cell_type": "code",
   "execution_count": null,
   "metadata": {},
   "outputs": [],
   "source": [
    "# ---- estimate a block of equations ----\n",
    "print(f\"ACAF equation LEC: {equations['ACAF'].lec}\")\n",
    "print(f\"ACAF equations coefficients (= scalars): {equations['ACAF'].coefficients}\")\n",
    "print(f\"ACAF equations variables: {equations['ACAF'].variables}\")\n",
    "print(f\"DPUH equation LEC: {equations['DPUH'].lec}\")\n",
    "print(f\"DPUH equations coefficients (= scalars): {equations['DPUH'].coefficients}\")\n",
    "print(f\"DPUH equations variables: {equations['DPUH'].variables}\")\n",
    "\n",
    "# reset scalars\n",
    "for name in equations['ACAF'].coefficients:\n",
    "    scalars[name] = 0., 1.\n",
    "for name in equations['DPUH'].coefficients:\n",
    "    scalars[name] = 0., 1.\n",
    "\n",
    "# prepare equations (same block and method)\n",
    "block = \"ACAF;DPUH\"\n",
    "for name in block.split(\";\"):\n",
    "    equations[name] = {\"block\": block, \"method\": \"LSQ\"}\n",
    "\n",
    "# estimation the block 'ACAF;DPUH' for the periods ranging from '1980Y1' to '1996Y1'\n",
    "equations.estimate(\"1980Y1\", \"1996Y1\", block)\n",
    "\n",
    "print(f\"Resulting values for the coefficient 'acaf1': {scalars['acaf1']}\")\n",
    "print(f\"Resulting values for the coefficient 'acaf2': {scalars['acaf2']}\")\n",
    "print(f\"Resulting values for the coefficient 'acaf4': {scalars['acaf4']}\")\n",
    "print(f\"Resulting values for the coefficient 'dpuh_1': {scalars['dpuh_1']}\")\n",
    "print(f\"Resulting values for the coefficient 'dpuh_2': {scalars['dpuh_2']}\")"
   ]
  },
  {
   "cell_type": "markdown",
   "metadata": {},
   "source": [
    "## Simulation\n",
    "\n",
    "To simulate a model, you must create and initialize an instance of the [Simulation](../_generated/iode.Simulation.rst#iode.Simulation) class:"
   ]
  },
  {
   "cell_type": "code",
   "execution_count": null,
   "metadata": {},
   "outputs": [],
   "source": [
    "from iode import Simulation\n",
    "\n",
    "help(Simulation)"
   ]
  },
  {
   "cell_type": "code",
   "execution_count": null,
   "metadata": {},
   "outputs": [],
   "source": [
    "from iode import SimulationSort\n",
    "\n",
    "print(f\"possible sort algorithms: {[member.name for member in SimulationSort]}\")"
   ]
  },
  {
   "cell_type": "code",
   "execution_count": null,
   "metadata": {},
   "outputs": [],
   "source": [
    "from iode import SimulationInitialization\n",
    "\n",
    "print(f\"possible initialization methods: {[member.name for member in SimulationInitialization]}\")"
   ]
  },
  {
   "cell_type": "code",
   "execution_count": null,
   "metadata": {},
   "outputs": [],
   "source": [
    "# ---- simulation ----\n",
    "print(\"Simulation() methods and properties:\")\n",
    "for name in dir(Simulation):\n",
    "    if not name.startswith('_'):\n",
    "        print(name)"
   ]
  },
  {
   "cell_type": "code",
   "execution_count": null,
   "metadata": {},
   "outputs": [],
   "source": [
    "# create and initialize a Simulation instance\n",
    "simu = Simulation(sort_algorithm=SimulationSort.BOTH, initialization_method=SimulationInitialization.TM1)\n",
    "print(f\"Simulation convergence_threshold: {simu.convergence_threshold}\")\n",
    "print(f\"Simulation relax: {simu.relax}\")\n",
    "print(f\"Simulation max_nb_iterations: {simu.max_nb_iterations}\")\n",
    "print(f\"Simulation sort_algorithm: {simu.sort_algorithm}\")\n",
    "print(f\"Simulation initialization_method: {simu.initialization_method}\")\n",
    "print(f\"Simulation debug: {simu.debug}\")\n",
    "print(f\"Simulation nb_passes: {simu.nb_passes}\")\n",
    "print(f\"Simulation debug_newton: {simu.debug_newton}\")"
   ]
  },
  {
   "cell_type": "markdown",
   "metadata": {},
   "source": [
    "To run the simulation, call the [Simulation.model_simulate](../_generated/iode.Simulation.model_simulate.rst#iode.Simulation.model_simulate) method:"
   ]
  },
  {
   "cell_type": "code",
   "execution_count": null,
   "metadata": {},
   "outputs": [],
   "source": [
    "help(Simulation.model_simulate)"
   ]
  },
  {
   "cell_type": "code",
   "execution_count": null,
   "metadata": {},
   "outputs": [],
   "source": [
    "print(f\"exogenous variable 'UY': {equations['UY'].lec}\")\n",
    "print(f\"endogenous variable 'XNATY': {identities['XNATY']}\")\n",
    "# reset values of exogenous variable\n",
    "variables[\"UY\", \"2000Y1:2015Y1\"] = 0.0\n",
    "\n",
    "print(f\"exogenous variable 'UY' before simulation:\\n{variables['UY', '1998Y1:2005Y1']}\")\n",
    "\n",
    "# run the simulation for the periods range '2000Y1' to '2015Y1'\n",
    "simu.model_simulate(\"2000Y1\", \"2015Y1\")\n",
    "\n",
    "print(f\"exogenous variable 'UY' after simulation:\\n{variables['UY', '1998Y1:2005Y1']}\")"
   ]
  },
  {
   "cell_type": "markdown",
   "metadata": {},
   "source": [
    "## Save IODE objects\n",
    "\n",
    "To save the content of a workspace (or a subset of a workspace), use the [save()](../_generated/iode.Database.save.rst#iode.Database.save) method:"
   ]
  },
  {
   "cell_type": "code",
   "execution_count": null,
   "metadata": {},
   "outputs": [],
   "source": [
    "# ---- save workspace (or subset) ----\n",
    "# save the whole workspace\n",
    "equations.save('equations.eqs')\n",
    "\n",
    "# save only a subset of the global variables workspace\n",
    "vars_subset = variables[[\"ACAF\", \"ACAG\", \"AQC\", \"BQY\", \"BVY\"]]\n",
    "vars_subset.save('variables_subset.av')    \n",
    "\n",
    "print(\"Check content of the variables_subset.av file:\\n\")\n",
    "with open(\"variables_subset.av\", \"r\") as f:\n",
    "    print(f.read())\n",
    "print()"
   ]
  },
  {
   "cell_type": "markdown",
   "metadata": {},
   "source": [
    "## Import/Export IODE workspaces to pandas Series and DataFrame\n",
    "\n",
    "To import / export the content of the `comments`, `identities` and `lists` workspaces to a pandas Series object, use the [from_series()](../_generated/iode.Comments.from_series.rst#iode.Comments.from_series) and [to_series()](../_generated/iode.Comments.to_series.rst#iode.Comments.to_series) methods. \n",
    "\n",
    "Alternatively, you can use the [series](../_generated/iode.Comments.series.rst#iode.Comments.series) property to export the content of the `comments`, `identities` and `lists` workspaces to a pandas Series object."
   ]
  },
  {
   "cell_type": "code",
   "execution_count": null,
   "metadata": {},
   "outputs": [],
   "source": [
    "import pandas as pd\n",
    "\n",
    "# ---- to pandas Series ----\n",
    "# See Comments/Identities/Lists.to_series and \n",
    "#     Comments/Identities/Lists.series\n",
    "\n",
    "series_cmt = comments.to_series()\n",
    "print(f\"Comments as pandas Series:\\n{series_cmt.info}\")\n",
    "print()\n",
    "\n",
    "series_idt = identities.to_series()\n",
    "print(f\"Identities as pandas Series:\\n{series_idt.info}\")\n",
    "print()\n",
    "\n",
    "series_lst = lists.to_series()\n",
    "print(f\"Lists as pandas Series:\\n{series_lst.info}\")\n",
    "\n",
    "# Alternatively\n",
    "\n",
    "series_cmt = comments.series\n",
    "series_idt = identities.series\n",
    "series_lst = lists.series\n",
    "\n",
    "# ---- from pandas Series ----\n",
    "# See Comments/Identities/Lists.from_series\n",
    "\n",
    "comments.from_series(series_cmt)\n",
    "identities.from_series(series_idt)\n",
    "lists.from_series(series_lst)"
   ]
  },
  {
   "cell_type": "markdown",
   "metadata": {},
   "source": [
    "To import / export the content of the `equations`, `scalars` and `variables` workspaces to a pandas DataFrame object, use the [from_frame()](../_generated/iode.Variables.from_frame.rst#iode.Variables.from_frame) and [to_frame()](../_generated/iode.Variables.to_frame.rst#iode.Variables.to_frame) methods. \n",
    "\n",
    "Alternatively, you can use the [df](../_generated/iode.Variables.df.rst#iode.Variables.df) property to export the content of the `equations`, `scalars` and `variables` workspaces to a pandas DataFrame object."
   ]
  },
  {
   "cell_type": "code",
   "execution_count": null,
   "metadata": {},
   "outputs": [],
   "source": [
    "# ---- to pandas DataFrame ----\n",
    "# See Equations/Scalars/Variables.to_frame and\n",
    "#     Equations/Scalars/Variables.df\n",
    "\n",
    "df_eqs = equations.to_frame()\n",
    "print(f\"Equations as pandas DataFrame:\\n{df_eqs.info}\")\n",
    "print()\n",
    "\n",
    "df_scl = scalars.to_frame()\n",
    "print(f\"Scalars as pandas DataFrame:\\n{df_scl.info}\")\n",
    "print()\n",
    "\n",
    "df_vars = variables.to_frame()\n",
    "print(f\"Variables as pandas DataFrame:\\n{df_vars.info}\")\n",
    "\n",
    "# Alternatively\n",
    "\n",
    "df_eqs = equations.df\n",
    "df_scl = scalars.df\n",
    "df_vars = variables.df\n",
    "\n",
    "# ---- from pandas DataFrame ----\n",
    "# See Equations/Scalars/Variables.from_frame\n",
    "\n",
    "equations.from_frame(df_eqs)\n",
    "scalars.from_frame(df_scl)\n",
    "variables.from_frame(df_vars)"
   ]
  },
  {
   "cell_type": "markdown",
   "metadata": {},
   "source": [
    "## Import/Export the Variables workspace to LArray\n",
    "\n",
    "To import / export the content of the `variables` workspaces to a LArray Array object, use the [from_array()](../_generated/iode.Variables.from_array.rst#iode.Variables.from_array) and [to_array()](../_generated/iode.Variables.to_array.rst#iode.Variables.to_array) methods:"
   ]
  },
  {
   "cell_type": "code",
   "execution_count": null,
   "metadata": {},
   "outputs": [],
   "source": [
    "import larray as la\n",
    "\n",
    "# ---- to LArray Array ----\n",
    "# See Variables.to_array\n",
    "\n",
    "arr_vars = variables.to_array()\n",
    "print(f\"Variables as LArray Array:\\n{arr_vars.info}\")\n",
    "\n",
    "# ---- from LArray array ----\n",
    "# See Variables.from_array\n",
    "\n",
    "variables.from_array(arr_vars)"
   ]
  },
  {
   "cell_type": "markdown",
   "metadata": {},
   "source": [
    "## Execute IODE report commands/files\n",
    "\n",
    "To run an IODE command, use the [execute_command()](../_generated/iode.execute_command.rst#iode.execute_command) function:"
   ]
  },
  {
   "cell_type": "code",
   "execution_count": null,
   "metadata": {},
   "outputs": [],
   "source": [
    "from iode import execute_command\n",
    "\n",
    "# ---- execute IODE commands ----\n",
    "print(\"Execute IODE commands (useful for IODE functions and commands not yet ported to Python):\")\n",
    "execute_command(\"$WsClearVar\")\n",
    "execute_command(\"$WsSample 2000Y1 2005Y1\")\n",
    "execute_command(\"$DataCalcVar A t+1\")\n",
    "execute_command(\"$DataCalcVar B t-1\")\n",
    "execute_command(\"$DataCalcVar C A/B\")\n",
    "execute_command(\"$DataCalcVar D grt A\")\n",
    "execute_command(\"$WsSaveVar test_var.av\")\n",
    "with open(\"test_var.av\", \"r\") as f:\n",
    "    print(f.read())"
   ]
  },
  {
   "cell_type": "markdown",
   "metadata": {},
   "source": [
    "To run an entire IODE report (i.e. file with the '.rep' extension), call the [execute_report()](../_generated/iode.execute_report.rst#iode.execute_report) function:"
   ]
  },
  {
   "cell_type": "code",
   "execution_count": null,
   "metadata": {},
   "outputs": [],
   "source": [
    "from iode import execute_report\n",
    "\n",
    "# ---- execute IODE reports ----\n",
    "print(\"Execute an IODE report -> execute_report()\")\n",
    "with open(\"create_var.rep\", \"w\") as f:\n",
    "    f.write(\"$WsClearVar\\n\")\n",
    "    f.write(\"$WsSample 2000Y1 2005Y1\\n\")\n",
    "    f.write(\"$DataCalcVar %1% t+1 \\n\")\n",
    "    f.write(\"$DataCalcVar %2% t-1 \\n\")\n",
    "    f.write(\"$DataCalcVar %3% %1%/%2%\\n\")\n",
    "    f.write(\"$DataCalcVar %4% grt %1% \\n\")\n",
    "    f.write(\"$WsSaveVar test_var.av\\n\")\n",
    "\n",
    "execute_report(\"create_var.rep\", [\"A\", \"B\", \"C\", \"D\"])\n",
    "\n",
    "with open(\"test_var.av\", \"r\") as f:\n",
    "    print(f.read())\n"
   ]
  }
 ],
 "metadata": {
  "kernelspec": {
   "display_name": "Python 3",
   "language": "python",
   "name": "python3"
  },
  "language_info": {
   "codemirror_mode": {
    "name": "ipython",
    "version": 3
   },
   "file_extension": ".py",
   "mimetype": "text/x-python",
   "name": "python",
   "nbconvert_exporter": "python",
   "pygments_lexer": "ipython3",
   "version": "3.11.9"
  }
 },
 "nbformat": 4,
 "nbformat_minor": 2
}
