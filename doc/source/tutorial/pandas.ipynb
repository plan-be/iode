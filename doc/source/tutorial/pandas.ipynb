{
 "cells": [
  {
   "cell_type": "markdown",
   "metadata": {},
   "source": [
    "# IODE and pandas\n",
    "\n",
    "IODE offers many ways to interact with pandas Series and DataFrame objects. \n",
    "\n",
    "Lets start with necessary imports and loading the sample data:"
   ]
  },
  {
   "cell_type": "code",
   "execution_count": 14,
   "metadata": {},
   "outputs": [],
   "source": [
    "import numpy as np\n",
    "import pandas as pd\n",
    "\n",
    "from iode import (SAMPLE_DATA_DIR, comments, equations, identities, lists, scalars, \n",
    "                  tables, variables, Sample, NA)"
   ]
  },
  {
   "cell_type": "code",
   "execution_count": 15,
   "metadata": {},
   "outputs": [
    {
     "name": "stdout",
     "output_type": "stream",
     "text": [
      "Loading C:\\soft\\Miniconda3\\Lib\\site-packages\\iode\\tests\\data/fun.cmt\n",
      "317 objects loaded\n",
      "Loading C:\\soft\\Miniconda3\\Lib\\site-packages\\iode\\tests\\data/fun.eqs\n",
      "274 objects loaded\n",
      "Loading C:\\soft\\Miniconda3\\Lib\\site-packages\\iode\\tests\\data/fun.idt\n",
      "48 objects loaded\n",
      "Loading C:\\soft\\Miniconda3\\Lib\\site-packages\\iode\\tests\\data/fun.lst\n",
      "17 objects loaded\n",
      "Loading C:\\soft\\Miniconda3\\Lib\\site-packages\\iode\\tests\\data/fun.scl\n",
      "161 objects loaded\n",
      "Loading C:\\soft\\Miniconda3\\Lib\\site-packages\\iode\\tests\\data/fun.tbl\n",
      "46 objects loaded\n",
      "Loading C:\\soft\\Miniconda3\\Lib\\site-packages\\iode\\tests\\data/fun.var\n",
      "394 objects loaded\n"
     ]
    },
    {
     "data": {
      "text/plain": [
       "(317, 274, 48, 17, 161, 46, 394)"
      ]
     },
     "execution_count": 15,
     "metadata": {},
     "output_type": "execute_result"
    }
   ],
   "source": [
    "# ---- load equations, identities, scalars and variables ----\n",
    "# Note: test binary and ASCII 'fun' files are located in the 'SAMPLE_DATA_DIR' \n",
    "#       directory of the 'iode' package\n",
    "comments.load(f\"{SAMPLE_DATA_DIR}/fun.cmt\")\n",
    "equations.load(f\"{SAMPLE_DATA_DIR}/fun.eqs\")\n",
    "identities.load(f\"{SAMPLE_DATA_DIR}/fun.idt\")\n",
    "lists.load(f\"{SAMPLE_DATA_DIR}/fun.lst\")\n",
    "scalars.load(f\"{SAMPLE_DATA_DIR}/fun.scl\")\n",
    "tables.load(f\"{SAMPLE_DATA_DIR}/fun.tbl\")\n",
    "variables.load(f\"{SAMPLE_DATA_DIR}/fun.var\")\n",
    "\n",
    "# ---- print the number of objects present in the above workspaces ----\n",
    "len(comments), len(equations), len(identities), len(lists), len(scalars), len(tables), len(variables)"
   ]
  },
  {
   "cell_type": "markdown",
   "metadata": {},
   "source": [
    "## Update multiple IODE objects at once\n",
    "\n",
    "Using pandas Series and DataFrame objects, you can update multiple IODE objects at once. "
   ]
  },
  {
   "cell_type": "markdown",
   "metadata": {},
   "source": [
    "### Comments"
   ]
  },
  {
   "cell_type": "code",
   "execution_count": 16,
   "metadata": {},
   "outputs": [
    {
     "data": {
      "text/plain": [
       "Workspace: Comments\n",
       "nb comments: 3\n",
       "filename: c:\\soft\\Miniconda3\\Lib\\site-packages\\iode\\tests\\data\\fun.cmt\n",
       "\n",
       "name\t        comments        \n",
       "ACAF\tUpdated ACAF from series\n",
       "ACAG\tUpdated ACAG from series\n",
       "AOUC\tUpdated AOUC from series"
      ]
     },
     "execution_count": 16,
     "metadata": {},
     "output_type": "execute_result"
    }
   ],
   "source": [
    "# 2) using a pandas series\n",
    "data = [\"Updated AOUC from series\", \"Updated ACAF from series\", \"Updated ACAG from series\"]\n",
    "series = pd.Series(data, index=[\"AOUC\", \"ACAF\", \"ACAG\"])\n",
    "comments[\"ACAF, ACAG, AOUC\"] = series\n",
    "comments[\"ACAF, ACAG, AOUC\"]"
   ]
  },
  {
   "cell_type": "markdown",
   "metadata": {},
   "source": [
    "### Identities"
   ]
  },
  {
   "cell_type": "code",
   "execution_count": 17,
   "metadata": {},
   "outputs": [
    {
     "data": {
      "text/plain": [
       "Workspace: Identities\n",
       "nb identities: 3\n",
       "filename: c:\\soft\\Miniconda3\\Lib\\site-packages\\iode\\tests\\data\\fun.idt\n",
       "\n",
       " name\t         identities        \n",
       "GAP2 \t0.8 * 100*(QAFF_/(Q_F+Q_I))\n",
       "GAP_ \t0.8 * 100*((QAF_/Q_F)-1)   \n",
       "GOSFR\t0.8 * (GOSF/VAF_)          "
      ]
     },
     "execution_count": 17,
     "metadata": {},
     "output_type": "execute_result"
    }
   ],
   "source": [
    "# using a pandas series\n",
    "data = [\"0.8 * 100*(QAFF_/(Q_F+Q_I))\", \"0.8 * 100*((QAF_/Q_F)-1)\", \"0.8 * (GOSF/VAF_)\"]\n",
    "series = pd.Series(data, index=[\"GAP2\", \"GAP_\", \"GOSFR\"])\n",
    "identities[\"GAP2, GAP_, GOSFR\"] = series\n",
    "identities[\"GAP2, GAP_, GOSFR\"]"
   ]
  },
  {
   "cell_type": "markdown",
   "metadata": {},
   "source": [
    "### Equations"
   ]
  },
  {
   "cell_type": "code",
   "execution_count": 18,
   "metadata": {},
   "outputs": [
    {
     "data": {
      "text/plain": [
       "Workspace: Equations\n",
       "nb equations: 3\n",
       "filename: c:\\soft\\Miniconda3\\Lib\\site-packages\\iode\\tests\\data\\fun.eqs\n",
       "\n",
       "name\t                                     lec                                      \tmethod\t    sample   \tblock\tfstat \tr2adj \t  dw  \tloglik\tdate\n",
       "ACAF\t(ACAF/VAF[-1]) :=acaf1+acaf2*GOSF[-1]+ acaf4*(TIME=1995)                      \t   GLS\t1980Y1:1996Y1\t     \t0.0000\t0.0000\t0.0000\t0.0000\t    \n",
       "ACAG\tACAG := ACAG[-1]+r VBBP[-1]+(0.006*VBBP[-1]*(TIME=2001)-0.008*(TIME=2008))    \t   GLS\t1980Y1:1996Y1\t     \t0.0000\t0.0000\t0.0000\t0.0000\t    \n",
       "AOUC\tAOUC:=((WCRH/QL)/(WCRH/QL)[1990Y1])*(VAFF/(VM+VAFF))[-1]+PM*(VM/(VAFF+VM))[-1]\t   GLS\t1980Y1:1996Y1\t     \t0.0000\t0.0000\t0.0000\t0.0000\t    "
      ]
     },
     "execution_count": 18,
     "metadata": {},
     "output_type": "execute_result"
    }
   ],
   "source": [
    "# using a pandas DataFrame\n",
    "data = []\n",
    "data.append([\"ACAF\", \"(ACAF/VAF[-1]) :=acaf1+acaf2*GOSF[-1]+ acaf4*(TIME=1995)\", \"GLS\", '1980Y1:1996Y1'])\n",
    "data.append([\"ACAG\", \"ACAG := ACAG[-1]+r VBBP[-1]+(0.006*VBBP[-1]*(TIME=2001)-0.008*(TIME=2008))\", \"GLS\", '1980Y1:1996Y1'])\n",
    "data.append([\"AOUC\", \"AOUC:=((WCRH/QL)/(WCRH/QL)[1990Y1])*(VAFF/(VM+VAFF))[-1]+PM*(VM/(VAFF+VM))[-1]\", \"GLS\", '1980Y1:1996Y1'])\n",
    "df = pd.DataFrame(data, index=[\"ACAF\", \"ACAG\", \"AOUC\"], columns=[\"endogenous\", \"lec\", \"method\", \"sample\"])\n",
    "equations[\"ACAF, ACAG, AOUC\"] = df\n",
    "equations[\"ACAF, ACAG, AOUC\"]"
   ]
  },
  {
   "cell_type": "markdown",
   "metadata": {},
   "source": [
    "### Lists"
   ]
  },
  {
   "cell_type": "code",
   "execution_count": 19,
   "metadata": {},
   "outputs": [
    {
     "data": {
      "text/plain": [
       "Workspace: Lists\n",
       "nb lists: 3\n",
       "filename: c:\\soft\\Miniconda3\\Lib\\site-packages\\iode\\tests\\data\\fun.lst\n",
       "description: Modèle fun                                        \n",
       "\n",
       " name \t                             lists                             \n",
       "ENVI  \tPWMS; PWXAB; PWXS; QWXAB; QWXS; POIL                           \n",
       "IDT   \tKL; PROD; QL; RDEBT; RENT; RLBER; SBGX; WCRH; IUGR; SBGXR; WBGR\n",
       "MAINEQ\tKNFF; PC; PXAB; PMAB; QXAB                                     "
      ]
     },
     "execution_count": 19,
     "metadata": {},
     "output_type": "execute_result"
    }
   ],
   "source": [
    "# using a pandas series\n",
    "data = [\"PWMS; PWXAB; PWXS; QWXAB; QWXS; POIL\",\n",
    "        \"KL; PROD; QL; RDEBT; RENT; RLBER; SBGX; WCRH; IUGR; SBGXR; WBGR\", \n",
    "        \"KNFF; PC; PXAB; PMAB; QXAB\"]\n",
    "series = pd.Series(data, index=[\"ENVI\", \"IDT\", \"MAINEQ\"])\n",
    "lists[\"ENVI, IDT, MAINEQ\"] = series\n",
    "lists[\"ENVI, IDT, MAINEQ\"]"
   ]
  },
  {
   "cell_type": "markdown",
   "metadata": {},
   "source": [
    "### Scalars"
   ]
  },
  {
   "cell_type": "code",
   "execution_count": 20,
   "metadata": {},
   "outputs": [
    {
     "data": {
      "text/plain": [
       "Workspace: Scalars\n",
       "nb scalars: 3\n",
       "filename: c:\\soft\\Miniconda3\\Lib\\site-packages\\iode\\tests\\data\\fun.scl\n",
       "\n",
       " name\t value \trelax \tstd\n",
       "acaf1\t 0.0150\t1.0000\t na\n",
       "acaf2\t-0.0009\t1.0000\t na\n",
       "acaf3\t 2.8000\t1.0000\t na"
      ]
     },
     "execution_count": 20,
     "metadata": {},
     "output_type": "execute_result"
    }
   ],
   "source": [
    "# 1) using a pandas series (only scalar's values)\n",
    "data = [0.015, -9.e-04, 2.8]\n",
    "series = pd.Series(data, index=[\"acaf1\", \"acaf2\", \"acaf3\"])\n",
    "scalars[\"acaf1, acaf2, acaf3\"] = series\n",
    "scalars[\"acaf1, acaf2, acaf3\"]"
   ]
  },
  {
   "cell_type": "code",
   "execution_count": 21,
   "metadata": {},
   "outputs": [
    {
     "data": {
      "text/plain": [
       "Workspace: Scalars\n",
       "nb scalars: 3\n",
       "filename: c:\\soft\\Miniconda3\\Lib\\site-packages\\iode\\tests\\data\\fun.scl\n",
       "\n",
       " name\t value \trelax \tstd\n",
       "acaf1\t 0.0140\t0.9800\t na\n",
       "acaf2\t-0.0007\t0.9500\t na\n",
       "acaf3\t 2.3000\t0.9200\t na"
      ]
     },
     "execution_count": 21,
     "metadata": {},
     "output_type": "execute_result"
    }
   ],
   "source": [
    "# 2) using a pandas DataFrame (value + relax)\n",
    "data = [(0.014, 0.98), (-7.e-04, 0.95), (2.3, 0.92)]\n",
    "df = pd.DataFrame(data, index=[\"acaf1\", \"acaf2\", \"acaf3\"], columns=[\"value\", \"relax\"])\n",
    "scalars[\"acaf1, acaf2, acaf3\"] = df\n",
    "scalars[\"acaf1, acaf2, acaf3\"]"
   ]
  },
  {
   "cell_type": "markdown",
   "metadata": {},
   "source": [
    "### Variables"
   ]
  },
  {
   "cell_type": "code",
   "execution_count": 22,
   "metadata": {},
   "outputs": [
    {
     "data": {
      "text/html": [
       "<div>\n",
       "<style scoped>\n",
       "    .dataframe tbody tr th:only-of-type {\n",
       "        vertical-align: middle;\n",
       "    }\n",
       "\n",
       "    .dataframe tbody tr th {\n",
       "        vertical-align: top;\n",
       "    }\n",
       "\n",
       "    .dataframe thead th {\n",
       "        text-align: right;\n",
       "    }\n",
       "</style>\n",
       "<table border=\"1\" class=\"dataframe\">\n",
       "  <thead>\n",
       "    <tr style=\"text-align: right;\">\n",
       "      <th></th>\n",
       "      <th>1991Y1</th>\n",
       "      <th>1992Y1</th>\n",
       "      <th>1993Y1</th>\n",
       "      <th>1994Y1</th>\n",
       "      <th>1995Y1</th>\n",
       "    </tr>\n",
       "  </thead>\n",
       "  <tbody>\n",
       "    <tr>\n",
       "      <th>ACAF</th>\n",
       "      <td>28.890</td>\n",
       "      <td>31.90</td>\n",
       "      <td>36.660</td>\n",
       "      <td>42.13</td>\n",
       "      <td>9.920</td>\n",
       "    </tr>\n",
       "    <tr>\n",
       "      <th>ACAG</th>\n",
       "      <td>NaN</td>\n",
       "      <td>-39.96</td>\n",
       "      <td>-42.880</td>\n",
       "      <td>-16.33</td>\n",
       "      <td>-41.160</td>\n",
       "    </tr>\n",
       "    <tr>\n",
       "      <th>AOUC</th>\n",
       "      <td>1.023</td>\n",
       "      <td>NaN</td>\n",
       "      <td>1.046</td>\n",
       "      <td>NaN</td>\n",
       "      <td>1.064</td>\n",
       "    </tr>\n",
       "  </tbody>\n",
       "</table>\n",
       "</div>"
      ],
      "text/plain": [
       "      1991Y1  1992Y1  1993Y1  1994Y1  1995Y1\n",
       "ACAF  28.890   31.90  36.660   42.13   9.920\n",
       "ACAG     NaN  -39.96 -42.880  -16.33 -41.160\n",
       "AOUC   1.023     NaN   1.046     NaN   1.064"
      ]
     },
     "execution_count": 22,
     "metadata": {},
     "output_type": "execute_result"
    }
   ],
   "source": [
    "# using a pandas DataFrame\n",
    "data = [[28.89, 31.90, 36.66, 42.13, 9.92],\n",
    "        [np.nan, -39.96, -42.88, -16.33, -41.16],\n",
    "        [1.023, np.nan, 1.046, np.nan, 1.064]]\n",
    "periods = [\"1991Y1\", \"1992Y1\", \"1993Y1\", \"1994Y1\", \"1995Y1\"]\n",
    "df = pd.DataFrame(data, index=[\"ACAF\", \"ACAG\", \"AOUC\"], columns=periods)\n",
    "df"
   ]
  },
  {
   "cell_type": "code",
   "execution_count": 23,
   "metadata": {},
   "outputs": [
    {
     "data": {
      "text/plain": [
       "Workspace: Variables\n",
       "nb variables: 3\n",
       "filename: c:\\soft\\Miniconda3\\Lib\\site-packages\\iode\\tests\\data\\fun.var\n",
       "description: Modèle fun - Simulation 1                         \n",
       "sample: 1991Y1:1995Y1\n",
       "mode: LEVEL\n",
       "\n",
       "name\t1991Y1\t1992Y1\t1993Y1\t1994Y1\t1995Y1\n",
       "ACAF\t 28.89\t 31.90\t 36.66\t 42.13\t  9.92\n",
       "ACAG\t    na\t-39.96\t-42.88\t-16.33\t-41.16\n",
       "AOUC\t  1.02\t    na\t  1.05\t    na\t  1.06"
      ]
     },
     "execution_count": 23,
     "metadata": {},
     "output_type": "execute_result"
    }
   ],
   "source": [
    "variables[\"ACAF, ACAG, AOUC\", \"1991Y1:1995Y1\"] = df\n",
    "variables[\"ACAF, ACAG, AOUC\", \"1991Y1:1995Y1\"]"
   ]
  },
  {
   "cell_type": "markdown",
   "metadata": {},
   "source": [
    "## More On IODE Variables Database And pandas"
   ]
  },
  {
   "cell_type": "markdown",
   "metadata": {},
   "source": [
    "### Add one variable:"
   ]
  },
  {
   "cell_type": "code",
   "execution_count": 24,
   "metadata": {},
   "outputs": [
    {
     "data": {
      "text/plain": [
       "Workspace: Variables\n",
       "nb variables: 1\n",
       "filename: c:\\soft\\Miniconda3\\Lib\\site-packages\\iode\\tests\\data\\fun.var\n",
       "description: Modèle fun - Simulation 1                         \n",
       "sample: 1960Y1:2015Y1\n",
       "mode: LEVEL\n",
       "\n",
       "name\t1960Y1\t1961Y1\t1962Y1\t1963Y1\t1964Y1\t1965Y1\t...\t2009Y1\t2010Y1\t2011Y1\t2012Y1\t2013Y1\t2014Y1\t2015Y1\n",
       "A4  \t    na\t  1.00\t  2.00\t  3.00\t  4.00\t  5.00\t...\t 49.00\t 50.00\t 51.00\t 52.00\t 53.00\t 54.00\t    na"
      ]
     },
     "execution_count": 24,
     "metadata": {},
     "output_type": "execute_result"
    }
   ],
   "source": [
    "# using a pandas Series\n",
    "data = list(range(variables.nb_periods))\n",
    "data[0] = NA\n",
    "data[-1] = np.nan\n",
    "values = pd.Series(data, index=variables.periods_as_str)\n",
    "variables[\"A4\"] = values\n",
    "variables[\"A4\"] "
   ]
  },
  {
   "cell_type": "markdown",
   "metadata": {},
   "source": [
    "### Update a variable."
   ]
  },
  {
   "cell_type": "markdown",
   "metadata": {},
   "source": [
    "Update all values of a variable:"
   ]
  },
  {
   "cell_type": "code",
   "execution_count": 25,
   "metadata": {},
   "outputs": [
    {
     "data": {
      "text/plain": [
       "Workspace: Variables\n",
       "nb variables: 1\n",
       "filename: c:\\soft\\Miniconda3\\Lib\\site-packages\\iode\\tests\\data\\fun.var\n",
       "description: Modèle fun - Simulation 1                         \n",
       "sample: 1960Y1:2015Y1\n",
       "mode: LEVEL\n",
       "\n",
       "name\t1960Y1\t1961Y1\t1962Y1\t1963Y1\t1964Y1\t1965Y1\t...\t2009Y1\t2010Y1\t2011Y1\t2012Y1\t2013Y1\t2014Y1\t2015Y1\n",
       "AOUC\t    na\t  1.00\t  2.00\t  3.00\t  4.00\t  5.00\t...\t 49.00\t 50.00\t 51.00\t 52.00\t 53.00\t 54.00\t    na"
      ]
     },
     "execution_count": 25,
     "metadata": {},
     "output_type": "execute_result"
    }
   ],
   "source": [
    "# using a pandas Series\n",
    "values = pd.Series(data, index=variables.periods_as_str)\n",
    "variables[\"AOUC\"] = values\n",
    "variables[\"AOUC\"]"
   ]
  },
  {
   "cell_type": "markdown",
   "metadata": {},
   "source": [
    "Set the values for range of (contiguous) periods:"
   ]
  },
  {
   "cell_type": "code",
   "execution_count": 26,
   "metadata": {},
   "outputs": [
    {
     "data": {
      "text/plain": [
       "Workspace: Variables\n",
       "nb variables: 1\n",
       "filename: c:\\soft\\Miniconda3\\Lib\\site-packages\\iode\\tests\\data\\fun.var\n",
       "description: Modèle fun - Simulation 1                         \n",
       "sample: 1991Y1:1995Y1\n",
       "mode: LEVEL\n",
       "\n",
       "name\t1991Y1\t1992Y1\t1993Y1\t1994Y1\t1995Y1\n",
       "AOUC\t  1.00\t    na\t  3.00\t    na\t  5.00"
      ]
     },
     "execution_count": 26,
     "metadata": {},
     "output_type": "execute_result"
    }
   ],
   "source": [
    "# variable[t:t+x] = pandas Series\n",
    "data = [1.0, NA, 3.0, np.nan, 5.0]\n",
    "periods = [\"1991Y1\", \"1992Y1\", \"1993Y1\", \"1994Y1\", \"1995Y1\"]\n",
    "variables[\"AOUC\", \"1991Y1:1995Y1\"] = pd.Series(data, index=periods)\n",
    "variables[\"AOUC\", \"1991Y1:1995Y1\"]"
   ]
  },
  {
   "cell_type": "markdown",
   "metadata": {},
   "source": [
    "## Arithmetic Operations On Variables With pandas Series And DataFrames \n",
    "\n",
    "IODE variables can be used in arithmetic operations with pandas Series and DataFrames.\n",
    "\n",
    "Let's first reload the variables database to start from a clean state. \n",
    "Then we will select a subset of variables for the examples below:"
   ]
  },
  {
   "cell_type": "code",
   "execution_count": 27,
   "metadata": {},
   "outputs": [
    {
     "name": "stdout",
     "output_type": "stream",
     "text": [
      "Loading C:\\soft\\Miniconda3\\Lib\\site-packages\\iode\\tests\\data/fun.var\n",
      "394 objects loaded\n"
     ]
    },
    {
     "data": {
      "text/plain": [
       "Workspace: Variables\n",
       "nb variables: 5\n",
       "filename: c:\\soft\\Miniconda3\\Lib\\site-packages\\iode\\tests\\data\\fun.var\n",
       "description: Modèle fun - Simulation 1                         \n",
       "sample: 1991Y1:1995Y1\n",
       "mode: LEVEL\n",
       "\n",
       " name\t1991Y1\t1992Y1\t1993Y1\t1994Y1\t1995Y1\n",
       "ACAF \t 26.24\t 30.16\t 34.66\t  8.16\t-13.13\n",
       "ACAG \t-30.93\t-40.29\t-43.16\t-16.03\t-41.85\n",
       "AOUC \t  1.02\t  1.03\t  1.03\t  1.05\t  1.05\n",
       "AOUC_\t  0.96\t  0.97\t  0.98\t  0.99\t  1.00\n",
       "AQC  \t  1.06\t  1.11\t  1.15\t  1.16\t  1.16"
      ]
     },
     "execution_count": 27,
     "metadata": {},
     "output_type": "execute_result"
    }
   ],
   "source": [
    "# reload variables to start from a clean state\n",
    "variables.load(f\"{SAMPLE_DATA_DIR}/fun.var\")\n",
    "\n",
    "# select a subset of variables for the examples below\n",
    "vars_subset = variables[\"A*\", \"1991Y1:1995Y1\"]\n",
    "vars_subset"
   ]
  },
  {
   "cell_type": "code",
   "execution_count": 28,
   "metadata": {},
   "outputs": [
    {
     "data": {
      "text/plain": [
       "1991Y1    2.0\n",
       "1992Y1    3.0\n",
       "1993Y1    4.0\n",
       "1994Y1    5.0\n",
       "1995Y1    6.0\n",
       "dtype: float64"
      ]
     },
     "execution_count": 28,
     "metadata": {},
     "output_type": "execute_result"
    }
   ],
   "source": [
    "data = [2.0, 3.0, 4.0, 5.0, 6.0]\n",
    "series = pd.Series(data, index=vars_subset.periods_as_str)\n",
    "series"
   ]
  },
  {
   "cell_type": "code",
   "execution_count": 29,
   "metadata": {},
   "outputs": [
    {
     "data": {
      "text/plain": [
       "Workspace: Variables\n",
       "nb variables: 1\n",
       "filename: c:\\soft\\Miniconda3\\Lib\\site-packages\\iode\\tests\\data\\fun.var\n",
       "description: Modèle fun - Simulation 1                         \n",
       "sample: 1991Y1:1995Y1\n",
       "mode: LEVEL\n",
       "\n",
       "name\t1991Y1\t1992Y1\t1993Y1\t1994Y1\t1995Y1\n",
       "ACAF\t 24.24\t 27.16\t 30.66\t  3.16\t-19.13"
      ]
     },
     "execution_count": 29,
     "metadata": {},
     "output_type": "execute_result"
    }
   ],
   "source": [
    "# subtract the values of a pandas Series \n",
    "# from the values of a single variable \n",
    "updated_ACAF = vars_subset[\"ACAF\"] - series\n",
    "updated_ACAF"
   ]
  },
  {
   "cell_type": "code",
   "execution_count": 30,
   "metadata": {},
   "outputs": [
    {
     "data": {
      "text/plain": [
       "ACAF     2.0\n",
       "ACAG     3.0\n",
       "AOUC     4.0\n",
       "AOUC_    5.0\n",
       "AQC      6.0\n",
       "dtype: float64"
      ]
     },
     "execution_count": 30,
     "metadata": {},
     "output_type": "execute_result"
    }
   ],
   "source": [
    "series = pd.Series(data, index=vars_subset.names)\n",
    "series"
   ]
  },
  {
   "cell_type": "code",
   "execution_count": 31,
   "metadata": {},
   "outputs": [
    {
     "data": {
      "text/plain": [
       "Workspace: Variables\n",
       "nb variables: 5\n",
       "filename: c:\\soft\\Miniconda3\\Lib\\site-packages\\iode\\tests\\data\\fun.var\n",
       "description: Modèle fun - Simulation 1                         \n",
       "sample: 1995Y1:1995Y1\n",
       "mode: LEVEL\n",
       "\n",
       " name\t1995Y1\n",
       "ACAF \t-15.13\n",
       "ACAG \t-44.85\n",
       "AOUC \t -2.95\n",
       "AOUC_\t -4.00\n",
       "AQC  \t -4.84"
      ]
     },
     "execution_count": 31,
     "metadata": {},
     "output_type": "execute_result"
    }
   ],
   "source": [
    "# subtract the values of a pandas Series from the values \n",
    "# of a subset corresponding to a single period\n",
    "vars_subset_1995Y1 = vars_subset[:, \"1995Y1\"] - series\n",
    "vars_subset_1995Y1"
   ]
  },
  {
   "cell_type": "code",
   "execution_count": 32,
   "metadata": {},
   "outputs": [
    {
     "data": {
      "text/html": [
       "<div>\n",
       "<style scoped>\n",
       "    .dataframe tbody tr th:only-of-type {\n",
       "        vertical-align: middle;\n",
       "    }\n",
       "\n",
       "    .dataframe tbody tr th {\n",
       "        vertical-align: top;\n",
       "    }\n",
       "\n",
       "    .dataframe thead th {\n",
       "        text-align: right;\n",
       "    }\n",
       "</style>\n",
       "<table border=\"1\" class=\"dataframe\">\n",
       "  <thead>\n",
       "    <tr style=\"text-align: right;\">\n",
       "      <th></th>\n",
       "      <th>1991Y1</th>\n",
       "      <th>1992Y1</th>\n",
       "      <th>1993Y1</th>\n",
       "      <th>1994Y1</th>\n",
       "      <th>1995Y1</th>\n",
       "    </tr>\n",
       "  </thead>\n",
       "  <tbody>\n",
       "    <tr>\n",
       "      <th>ACAF</th>\n",
       "      <td>1.0</td>\n",
       "      <td>2.0</td>\n",
       "      <td>3.0</td>\n",
       "      <td>4.0</td>\n",
       "      <td>5.0</td>\n",
       "    </tr>\n",
       "    <tr>\n",
       "      <th>ACAG</th>\n",
       "      <td>6.0</td>\n",
       "      <td>7.0</td>\n",
       "      <td>8.0</td>\n",
       "      <td>9.0</td>\n",
       "      <td>10.0</td>\n",
       "    </tr>\n",
       "    <tr>\n",
       "      <th>AOUC</th>\n",
       "      <td>11.0</td>\n",
       "      <td>12.0</td>\n",
       "      <td>13.0</td>\n",
       "      <td>14.0</td>\n",
       "      <td>15.0</td>\n",
       "    </tr>\n",
       "    <tr>\n",
       "      <th>AOUC_</th>\n",
       "      <td>16.0</td>\n",
       "      <td>17.0</td>\n",
       "      <td>18.0</td>\n",
       "      <td>19.0</td>\n",
       "      <td>20.0</td>\n",
       "    </tr>\n",
       "    <tr>\n",
       "      <th>AQC</th>\n",
       "      <td>21.0</td>\n",
       "      <td>22.0</td>\n",
       "      <td>23.0</td>\n",
       "      <td>24.0</td>\n",
       "      <td>25.0</td>\n",
       "    </tr>\n",
       "  </tbody>\n",
       "</table>\n",
       "</div>"
      ],
      "text/plain": [
       "       1991Y1  1992Y1  1993Y1  1994Y1  1995Y1\n",
       "ACAF      1.0     2.0     3.0     4.0     5.0\n",
       "ACAG      6.0     7.0     8.0     9.0    10.0\n",
       "AOUC     11.0    12.0    13.0    14.0    15.0\n",
       "AOUC_    16.0    17.0    18.0    19.0    20.0\n",
       "AQC      21.0    22.0    23.0    24.0    25.0"
      ]
     },
     "execution_count": 32,
     "metadata": {},
     "output_type": "execute_result"
    }
   ],
   "source": [
    "\n",
    "# define the pandas DataFrame to be used in the example below\n",
    "data = np.array([[1.0, 2.0, 3.0, 4.0, 5.0],\n",
    "                 [6.0, 7.0, 8.0, 9.0, 10.0],\n",
    "                 [11.0, 12.0, 13.0, 14.0, 15.0],\n",
    "                 [16.0, 17.0, 18.0, 19.0, 20.0],\n",
    "                 [21.0, 22.0, 23.0, 24.0, 25.0]])\n",
    "df = pd.DataFrame(data, index=vars_subset.names, columns=vars_subset.periods_as_str)\n",
    "df"
   ]
  },
  {
   "cell_type": "code",
   "execution_count": 33,
   "metadata": {},
   "outputs": [
    {
     "data": {
      "text/plain": [
       "Workspace: Variables\n",
       "nb variables: 5\n",
       "filename: c:\\soft\\Miniconda3\\Lib\\site-packages\\iode\\tests\\data\\fun.var\n",
       "description: Modèle fun - Simulation 1                         \n",
       "sample: 1991Y1:1995Y1\n",
       "mode: LEVEL\n",
       "\n",
       " name\t1991Y1\t1992Y1\t1993Y1\t1994Y1\t1995Y1\n",
       "ACAF \t 25.24\t 28.16\t 31.66\t  4.16\t-18.13\n",
       "ACAG \t-36.93\t-47.29\t-51.16\t-25.03\t-51.85\n",
       "AOUC \t -9.98\t-10.97\t-11.97\t-12.95\t-13.95\n",
       "AOUC_\t-15.04\t-16.03\t-17.02\t-18.01\t-19.00\n",
       "AQC  \t-19.94\t-20.89\t-21.85\t-22.84\t-23.84"
      ]
     },
     "execution_count": 33,
     "metadata": {},
     "output_type": "execute_result"
    }
   ],
   "source": [
    "# subtract the values of a pandas DataFrame \n",
    "# from the values of a subset of variables \n",
    "new_vars_subset = vars_subset - df\n",
    "new_vars_subset"
   ]
  },
  {
   "cell_type": "markdown",
   "metadata": {},
   "source": [
    "## Import/Export IODE workspaces from/to pandas Series and DataFrame\n",
    "\n",
    "To import / export the content of the `comments`, `identities` and `lists` workspaces from/to a pandas Series object, use the [from_series()](../_generated/iode.Comments.from_series.rst#iode.Comments.from_series) and [to_series()](../_generated/iode.Comments.to_series.rst#iode.Comments.to_series) methods. \n",
    "\n",
    "Alternatively, you can use the [series](../_generated/iode.Comments.series.rst#iode.Comments.series) property to export the content of the `comments`, `identities` and `lists` workspaces to a pandas Series object."
   ]
  },
  {
   "cell_type": "code",
   "execution_count": 34,
   "metadata": {},
   "outputs": [
    {
     "name": "stdout",
     "output_type": "stream",
     "text": [
      "<class 'pandas.core.series.Series'>\n",
      "Index: 317 entries, ACAF to ZZ_\n",
      "Series name: Comments\n",
      "Non-Null Count  Dtype \n",
      "--------------  ----- \n",
      "317 non-null    object\n",
      "dtypes: object(1)\n",
      "memory usage: 5.0+ KB\n",
      "Comments as pandas Series:\n",
      "None\n",
      "\n",
      "<class 'pandas.core.series.Series'>\n",
      "Index: 48 entries, AOUC to YSFICR\n",
      "Series name: Identities\n",
      "Non-Null Count  Dtype \n",
      "--------------  ----- \n",
      "48 non-null     object\n",
      "dtypes: object(1)\n",
      "memory usage: 768.0+ bytes\n",
      "Identities as pandas Series:\n",
      "None\n",
      "\n",
      "<class 'pandas.core.series.Series'>\n",
      "Index: 17 entries, COPY to _SEARCH\n",
      "Series name: Lists\n",
      "Non-Null Count  Dtype \n",
      "--------------  ----- \n",
      "17 non-null     object\n",
      "dtypes: object(1)\n",
      "memory usage: 272.0+ bytes\n",
      "Lists as pandas Series:\n",
      "None\n"
     ]
    }
   ],
   "source": [
    "# ---- to pandas Series ----\n",
    "# See Comments/Identities/Lists.to_series and \n",
    "#     Comments/Identities/Lists.series\n",
    "\n",
    "series_cmt = comments.to_series()\n",
    "print(f\"Comments as pandas Series:\\n{series_cmt.info()}\")\n",
    "print()\n",
    "\n",
    "series_idt = identities.to_series()\n",
    "print(f\"Identities as pandas Series:\\n{series_idt.info()}\")\n",
    "print()\n",
    "\n",
    "series_lst = lists.to_series()\n",
    "print(f\"Lists as pandas Series:\\n{series_lst.info()}\")\n",
    "\n",
    "# Alternatively\n",
    "\n",
    "series_cmt = comments.series\n",
    "series_idt = identities.series\n",
    "series_lst = lists.series\n",
    "\n",
    "# ---- from pandas Series ----\n",
    "# See Comments/Identities/Lists.from_series\n",
    "\n",
    "comments.from_series(series_cmt)\n",
    "identities.from_series(series_idt)\n",
    "lists.from_series(series_lst)"
   ]
  },
  {
   "cell_type": "markdown",
   "metadata": {},
   "source": [
    "To import / export the content of the `equations`, `scalars` and `variables` workspaces from/to a pandas DataFrame object, use the [from_frame()](../_generated/iode.Variables.from_frame.rst#iode.Variables.from_frame) and [to_frame()](../_generated/iode.Variables.to_frame.rst#iode.Variables.to_frame) methods. \n",
    "\n",
    "Alternatively, you can use the [df](../_generated/iode.Variables.df.rst#iode.Variables.df) property to export the content of the `equations`, `scalars` and `variables` workspaces to a pandas DataFrame object."
   ]
  },
  {
   "cell_type": "code",
   "execution_count": 35,
   "metadata": {},
   "outputs": [
    {
     "name": "stdout",
     "output_type": "stream",
     "text": [
      "Loading C:\\soft\\Miniconda3\\Lib\\site-packages\\iode\\tests\\data/fun.cmt\n",
      "317 objects loaded\n",
      "Loading C:\\soft\\Miniconda3\\Lib\\site-packages\\iode\\tests\\data/fun.eqs\n",
      "274 objects loaded\n",
      "Loading C:\\soft\\Miniconda3\\Lib\\site-packages\\iode\\tests\\data/fun.idt\n",
      "48 objects loaded\n",
      "Loading C:\\soft\\Miniconda3\\Lib\\site-packages\\iode\\tests\\data/fun.lst\n",
      "17 objects loaded\n",
      "Loading C:\\soft\\Miniconda3\\Lib\\site-packages\\iode\\tests\\data/fun.scl\n",
      "161 objects loaded\n",
      "Loading C:\\soft\\Miniconda3\\Lib\\site-packages\\iode\\tests\\data/fun.tbl\n",
      "46 objects loaded\n",
      "Loading C:\\soft\\Miniconda3\\Lib\\site-packages\\iode\\tests\\data/fun.var\n",
      "394 objects loaded\n"
     ]
    }
   ],
   "source": [
    "comments.load(f\"{SAMPLE_DATA_DIR}/fun.cmt\")\n",
    "equations.load(f\"{SAMPLE_DATA_DIR}/fun.eqs\")\n",
    "identities.load(f\"{SAMPLE_DATA_DIR}/fun.idt\")\n",
    "lists.load(f\"{SAMPLE_DATA_DIR}/fun.lst\")\n",
    "scalars.load(f\"{SAMPLE_DATA_DIR}/fun.scl\")\n",
    "tables.load(f\"{SAMPLE_DATA_DIR}/fun.tbl\")\n",
    "variables.load(f\"{SAMPLE_DATA_DIR}/fun.var\")"
   ]
  },
  {
   "cell_type": "code",
   "execution_count": 36,
   "metadata": {},
   "outputs": [
    {
     "name": "stdout",
     "output_type": "stream",
     "text": [
      "<class 'pandas.core.frame.DataFrame'>\n",
      "Index: 274 entries, ACAF to ZZF_\n",
      "Data columns (total 18 columns):\n",
      " #   Column       Non-Null Count  Dtype  \n",
      "---  ------       --------------  -----  \n",
      " 0   lec          274 non-null    object \n",
      " 1   method       274 non-null    object \n",
      " 2   sample       274 non-null    object \n",
      " 3   comment      274 non-null    object \n",
      " 4   instruments  274 non-null    object \n",
      " 5   block        274 non-null    object \n",
      " 6   corr         274 non-null    float64\n",
      " 7   stdev        274 non-null    float64\n",
      " 8   meany        274 non-null    float64\n",
      " 9   ssres        274 non-null    float64\n",
      " 10  stderr       274 non-null    float64\n",
      " 11  stderrp      274 non-null    float64\n",
      " 12  fstat        274 non-null    float64\n",
      " 13  r2           274 non-null    float64\n",
      " 14  r2adj        274 non-null    float64\n",
      " 15  dw           274 non-null    float64\n",
      " 16  loglik       274 non-null    float64\n",
      " 17  date         274 non-null    object \n",
      "dtypes: float64(11), object(7)\n",
      "memory usage: 40.7+ KB\n",
      "Equations as pandas DataFrame:\n",
      "None\n",
      "\n",
      "<class 'pandas.core.frame.DataFrame'>\n",
      "Index: 161 entries, acaf1 to zkf3\n",
      "Data columns (total 3 columns):\n",
      " #   Column  Non-Null Count  Dtype  \n",
      "---  ------  --------------  -----  \n",
      " 0   value   161 non-null    float64\n",
      " 1   relax   161 non-null    float64\n",
      " 2   std     142 non-null    float64\n",
      "dtypes: float64(3)\n",
      "memory usage: 5.0+ KB\n",
      "Scalars as pandas DataFrame:\n",
      "None\n",
      "\n",
      "<class 'pandas.core.frame.DataFrame'>\n",
      "Index: 394 entries, ACAF to ZZF_\n",
      "Data columns (total 56 columns):\n",
      " #   Column  Non-Null Count  Dtype  \n",
      "---  ------  --------------  -----  \n",
      " 0   1960Y1  264 non-null    float64\n",
      " 1   1961Y1  280 non-null    float64\n",
      " 2   1962Y1  280 non-null    float64\n",
      " 3   1963Y1  280 non-null    float64\n",
      " 4   1964Y1  281 non-null    float64\n",
      " 5   1965Y1  283 non-null    float64\n",
      " 6   1966Y1  288 non-null    float64\n",
      " 7   1967Y1  288 non-null    float64\n",
      " 8   1968Y1  288 non-null    float64\n",
      " 9   1969Y1  288 non-null    float64\n",
      " 10  1970Y1  359 non-null    float64\n",
      " 11  1971Y1  372 non-null    float64\n",
      " 12  1972Y1  372 non-null    float64\n",
      " 13  1973Y1  373 non-null    float64\n",
      " 14  1974Y1  373 non-null    float64\n",
      " 15  1975Y1  379 non-null    float64\n",
      " 16  1976Y1  379 non-null    float64\n",
      " 17  1977Y1  379 non-null    float64\n",
      " 18  1978Y1  379 non-null    float64\n",
      " 19  1979Y1  379 non-null    float64\n",
      " 20  1980Y1  387 non-null    float64\n",
      " 21  1981Y1  387 non-null    float64\n",
      " 22  1982Y1  387 non-null    float64\n",
      " 23  1983Y1  387 non-null    float64\n",
      " 24  1984Y1  387 non-null    float64\n",
      " 25  1985Y1  388 non-null    float64\n",
      " 26  1986Y1  390 non-null    float64\n",
      " 27  1987Y1  390 non-null    float64\n",
      " 28  1988Y1  390 non-null    float64\n",
      " 29  1989Y1  390 non-null    float64\n",
      " 30  1990Y1  390 non-null    float64\n",
      " 31  1991Y1  390 non-null    float64\n",
      " 32  1992Y1  390 non-null    float64\n",
      " 33  1993Y1  390 non-null    float64\n",
      " 34  1994Y1  392 non-null    float64\n",
      " 35  1995Y1  392 non-null    float64\n",
      " 36  1996Y1  392 non-null    float64\n",
      " 37  1997Y1  392 non-null    float64\n",
      " 38  1998Y1  392 non-null    float64\n",
      " 39  1999Y1  393 non-null    float64\n",
      " 40  2000Y1  393 non-null    float64\n",
      " 41  2001Y1  393 non-null    float64\n",
      " 42  2002Y1  393 non-null    float64\n",
      " 43  2003Y1  393 non-null    float64\n",
      " 44  2004Y1  393 non-null    float64\n",
      " 45  2005Y1  393 non-null    float64\n",
      " 46  2006Y1  393 non-null    float64\n",
      " 47  2007Y1  393 non-null    float64\n",
      " 48  2008Y1  393 non-null    float64\n",
      " 49  2009Y1  393 non-null    float64\n",
      " 50  2010Y1  393 non-null    float64\n",
      " 51  2011Y1  394 non-null    float64\n",
      " 52  2012Y1  394 non-null    float64\n",
      " 53  2013Y1  394 non-null    float64\n",
      " 54  2014Y1  394 non-null    float64\n",
      " 55  2015Y1  394 non-null    float64\n",
      "dtypes: float64(56)\n",
      "memory usage: 175.5+ KB\n",
      "Variables as pandas DataFrame:\n",
      "None\n"
     ]
    },
    {
     "name": "stderr",
     "output_type": "stream",
     "text": [
      "c:\\soft\\Miniconda3\\Lib\\site-packages\\iode\\time\\sample.py:240: UserWarning: 'sample' is not defined\n",
      "  return self._cython_instance.__str__()\n",
      "c:\\soft\\Miniconda3\\Lib\\site-packages\\iode\\time\\sample.py:240: UserWarning: 'sample' is not defined\n",
      "  return self._cython_instance.__str__()\n"
     ]
    }
   ],
   "source": [
    "# ---- to pandas DataFrame ----\n",
    "# See Equations/Scalars/Variables.to_frame and\n",
    "#     Equations/Scalars/Variables.df\n",
    "\n",
    "df_eqs = equations.to_frame()\n",
    "print(f\"Equations as pandas DataFrame:\\n{df_eqs.info()}\")\n",
    "print()\n",
    "\n",
    "df_scl = scalars.to_frame()\n",
    "print(f\"Scalars as pandas DataFrame:\\n{df_scl.info()}\")\n",
    "print()\n",
    "\n",
    "df_vars = variables.to_frame()\n",
    "print(f\"Variables as pandas DataFrame:\\n{df_vars.info()}\")\n",
    "\n",
    "# Alternatively\n",
    "\n",
    "df_eqs = equations.df\n",
    "df_scl = scalars.df\n",
    "df_vars = variables.df\n",
    "\n",
    "# ---- from pandas DataFrame ----\n",
    "# See Equations/Scalars/Variables.from_frame\n",
    "\n",
    "equations.from_frame(df_eqs)\n",
    "scalars.from_frame(df_scl)\n",
    "variables.from_frame(df_vars)"
   ]
  },
  {
   "cell_type": "markdown",
   "metadata": {},
   "source": [
    "It possible to export a subset of the IODE databases:"
   ]
  },
  {
   "cell_type": "code",
   "execution_count": 37,
   "metadata": {},
   "outputs": [
    {
     "data": {
      "text/plain": [
       "Workspace: Variables\n",
       "nb variables: 33\n",
       "filename: c:\\soft\\Miniconda3\\Lib\\site-packages\\iode\\tests\\data\\fun.var\n",
       "description: Modèle fun - Simulation 1                         \n",
       "sample: 2000Y1:2010Y1\n",
       "mode: LEVEL\n",
       "\n",
       " name\t 2000Y1\t 2001Y1\t 2002Y1\t 2003Y1\t 2004Y1\t 2005Y1\t 2006Y1\t 2007Y1\t 2008Y1 \t 2009Y1 \t 2010Y1 \n",
       "ACAF \t  10.05\t   2.87\t  -0.93\t  -6.09\t -14.58\t -26.54\t -28.99\t -33.38\t  -38.41\t  -37.46\t  -37.83\n",
       "ACAG \t -41.53\t  18.94\t  19.98\t  21.02\t  22.07\t  23.11\t  24.13\t  25.16\t   26.19\t   27.23\t   28.25\n",
       "AOUC \t   1.12\t   1.14\t   1.16\t   1.17\t   1.17\t   1.18\t   1.20\t   1.22\t    1.26\t    1.29\t    1.31\n",
       "AOUC_\t   1.10\t   1.14\t   1.15\t   1.16\t   1.15\t   1.16\t   1.19\t   1.20\t    1.21\t    1.23\t    1.25\n",
       "AQC  \t   1.34\t   1.38\t   1.41\t   1.42\t   1.40\t   1.40\t   1.40\t   1.41\t    1.43\t    1.45\t    1.46\n",
       "...  \t    ...\t    ...\t    ...\t    ...\t    ...\t    ...\t    ...\t    ...\t     ...\t     ...\t     ...\n",
       "WCF_ \t3716.45\t3863.90\t3999.57\t4147.95\t4242.58\t4320.97\t4463.72\t4665.91\t 4916.65\t 5042.74\t 5170.60\n",
       "WIND_\t1000.14\t1035.22\t1070.93\t1102.91\t1115.33\t1124.07\t1144.27\t1178.12\t 1231.49\t 1268.86\t 1301.03\n",
       "WNF_ \t2334.76\t2427.49\t2512.87\t2606.28\t2665.82\t2715.11\t2804.93\t2932.23\t 3089.99\t 3169.32\t 3249.75\n",
       "YDH_ \t7276.61\t7635.91\t7958.39\t8331.07\t8653.40\t8950.54\t9299.54\t9685.61\t10228.84\t10630.74\t10995.83\n",
       "ZZF_ \t   0.69\t   0.69\t   0.69\t   0.69\t   0.69\t   0.69\t   0.69\t   0.69\t    0.69\t    0.69\t    0.69"
      ]
     },
     "execution_count": 37,
     "metadata": {},
     "output_type": "execute_result"
    }
   ],
   "source": [
    "# export a subset of the IODE Variables database as a pandas DataFrame\n",
    "vars_subset = variables[\"A*;*_\", \"2000Y1:2010Y1\"]\n",
    "vars_subset"
   ]
  },
  {
   "cell_type": "code",
   "execution_count": 38,
   "metadata": {},
   "outputs": [
    {
     "data": {
      "text/plain": [
       "(33, 11)"
      ]
     },
     "execution_count": 38,
     "metadata": {},
     "output_type": "execute_result"
    }
   ],
   "source": [
    "df = vars_subset.to_frame()\n",
    "df.shape"
   ]
  },
  {
   "cell_type": "code",
   "execution_count": 39,
   "metadata": {},
   "outputs": [
    {
     "data": {
      "text/html": [
       "<div>\n",
       "<style scoped>\n",
       "    .dataframe tbody tr th:only-of-type {\n",
       "        vertical-align: middle;\n",
       "    }\n",
       "\n",
       "    .dataframe tbody tr th {\n",
       "        vertical-align: top;\n",
       "    }\n",
       "\n",
       "    .dataframe thead th {\n",
       "        text-align: right;\n",
       "    }\n",
       "</style>\n",
       "<table border=\"1\" class=\"dataframe\">\n",
       "  <thead>\n",
       "    <tr style=\"text-align: right;\">\n",
       "      <th>time</th>\n",
       "      <th>2000Y1</th>\n",
       "      <th>2001Y1</th>\n",
       "      <th>2002Y1</th>\n",
       "      <th>2003Y1</th>\n",
       "      <th>2004Y1</th>\n",
       "      <th>2005Y1</th>\n",
       "      <th>2006Y1</th>\n",
       "      <th>2007Y1</th>\n",
       "      <th>2008Y1</th>\n",
       "      <th>2009Y1</th>\n",
       "      <th>2010Y1</th>\n",
       "    </tr>\n",
       "    <tr>\n",
       "      <th>names</th>\n",
       "      <th></th>\n",
       "      <th></th>\n",
       "      <th></th>\n",
       "      <th></th>\n",
       "      <th></th>\n",
       "      <th></th>\n",
       "      <th></th>\n",
       "      <th></th>\n",
       "      <th></th>\n",
       "      <th></th>\n",
       "      <th></th>\n",
       "    </tr>\n",
       "  </thead>\n",
       "  <tbody>\n",
       "    <tr>\n",
       "      <th>ACAF</th>\n",
       "      <td>10.046611</td>\n",
       "      <td>2.867923</td>\n",
       "      <td>-0.929213</td>\n",
       "      <td>-6.091565</td>\n",
       "      <td>-14.582094</td>\n",
       "      <td>-26.538790</td>\n",
       "      <td>-28.987288</td>\n",
       "      <td>-33.378426</td>\n",
       "      <td>-38.409518</td>\n",
       "      <td>-37.463510</td>\n",
       "      <td>-37.827429</td>\n",
       "    </tr>\n",
       "    <tr>\n",
       "      <th>ACAG</th>\n",
       "      <td>-41.534787</td>\n",
       "      <td>18.939801</td>\n",
       "      <td>19.980815</td>\n",
       "      <td>21.020502</td>\n",
       "      <td>22.066476</td>\n",
       "      <td>23.107962</td>\n",
       "      <td>24.129637</td>\n",
       "      <td>25.160909</td>\n",
       "      <td>26.192111</td>\n",
       "      <td>27.229955</td>\n",
       "      <td>28.253929</td>\n",
       "    </tr>\n",
       "    <tr>\n",
       "      <th>AOUC</th>\n",
       "      <td>1.116238</td>\n",
       "      <td>1.140476</td>\n",
       "      <td>1.157169</td>\n",
       "      <td>1.170490</td>\n",
       "      <td>1.167675</td>\n",
       "      <td>1.181521</td>\n",
       "      <td>1.199462</td>\n",
       "      <td>1.219333</td>\n",
       "      <td>1.262806</td>\n",
       "      <td>1.287132</td>\n",
       "      <td>1.307110</td>\n",
       "    </tr>\n",
       "    <tr>\n",
       "      <th>AOUC_</th>\n",
       "      <td>1.101957</td>\n",
       "      <td>1.136244</td>\n",
       "      <td>1.150215</td>\n",
       "      <td>1.160829</td>\n",
       "      <td>1.148021</td>\n",
       "      <td>1.164123</td>\n",
       "      <td>1.185897</td>\n",
       "      <td>1.195166</td>\n",
       "      <td>1.213834</td>\n",
       "      <td>1.231854</td>\n",
       "      <td>1.250164</td>\n",
       "    </tr>\n",
       "    <tr>\n",
       "      <th>AQC</th>\n",
       "      <td>1.338603</td>\n",
       "      <td>1.379188</td>\n",
       "      <td>1.408816</td>\n",
       "      <td>1.419705</td>\n",
       "      <td>1.400652</td>\n",
       "      <td>1.396973</td>\n",
       "      <td>1.398064</td>\n",
       "      <td>1.407913</td>\n",
       "      <td>1.425645</td>\n",
       "      <td>1.446332</td>\n",
       "      <td>1.462868</td>\n",
       "    </tr>\n",
       "    <tr>\n",
       "      <th>GAP_</th>\n",
       "      <td>4.510096</td>\n",
       "      <td>3.321449</td>\n",
       "      <td>2.647524</td>\n",
       "      <td>3.530320</td>\n",
       "      <td>5.569508</td>\n",
       "      <td>5.716970</td>\n",
       "      <td>6.022618</td>\n",
       "      <td>6.017820</td>\n",
       "      <td>4.944350</td>\n",
       "      <td>3.823078</td>\n",
       "      <td>3.376524</td>\n",
       "    </tr>\n",
       "    <tr>\n",
       "      <th>GOSH_</th>\n",
       "      <td>1957.089520</td>\n",
       "      <td>2065.833405</td>\n",
       "      <td>2150.560958</td>\n",
       "      <td>2235.910923</td>\n",
       "      <td>2338.703226</td>\n",
       "      <td>2435.728167</td>\n",
       "      <td>2488.522529</td>\n",
       "      <td>2566.343368</td>\n",
       "      <td>2666.950277</td>\n",
       "      <td>2767.877368</td>\n",
       "      <td>2834.234072</td>\n",
       "    </tr>\n",
       "    <tr>\n",
       "      <th>PAF_</th>\n",
       "      <td>1.197491</td>\n",
       "      <td>1.229682</td>\n",
       "      <td>1.259968</td>\n",
       "      <td>1.286122</td>\n",
       "      <td>1.295922</td>\n",
       "      <td>1.286290</td>\n",
       "      <td>1.283384</td>\n",
       "      <td>1.288486</td>\n",
       "      <td>1.305041</td>\n",
       "      <td>1.326745</td>\n",
       "      <td>1.343502</td>\n",
       "    </tr>\n",
       "    <tr>\n",
       "      <th>PC_</th>\n",
       "      <td>1.234727</td>\n",
       "      <td>1.268944</td>\n",
       "      <td>1.293650</td>\n",
       "      <td>1.312462</td>\n",
       "      <td>1.326589</td>\n",
       "      <td>1.349003</td>\n",
       "      <td>1.371335</td>\n",
       "      <td>1.395215</td>\n",
       "      <td>1.443821</td>\n",
       "      <td>1.471451</td>\n",
       "      <td>1.494820</td>\n",
       "    </tr>\n",
       "    <tr>\n",
       "      <th>PFI_</th>\n",
       "      <td>1.073516</td>\n",
       "      <td>1.101770</td>\n",
       "      <td>1.121974</td>\n",
       "      <td>1.138175</td>\n",
       "      <td>1.151583</td>\n",
       "      <td>1.171021</td>\n",
       "      <td>1.189040</td>\n",
       "      <td>1.208363</td>\n",
       "      <td>1.248972</td>\n",
       "      <td>1.271813</td>\n",
       "      <td>1.292278</td>\n",
       "    </tr>\n",
       "    <tr>\n",
       "      <th>PROIHP_</th>\n",
       "      <td>1.105413</td>\n",
       "      <td>1.088832</td>\n",
       "      <td>1.072499</td>\n",
       "      <td>1.056412</td>\n",
       "      <td>1.040566</td>\n",
       "      <td>1.024957</td>\n",
       "      <td>1.009583</td>\n",
       "      <td>0.994439</td>\n",
       "      <td>0.979523</td>\n",
       "      <td>0.964830</td>\n",
       "      <td>0.950357</td>\n",
       "    </tr>\n",
       "    <tr>\n",
       "      <th>QAFF_</th>\n",
       "      <td>5748.518880</td>\n",
       "      <td>5799.949010</td>\n",
       "      <td>5873.722479</td>\n",
       "      <td>6023.335862</td>\n",
       "      <td>6233.004051</td>\n",
       "      <td>6369.669081</td>\n",
       "      <td>6562.245749</td>\n",
       "      <td>6775.703184</td>\n",
       "      <td>6888.433029</td>\n",
       "      <td>6875.777878</td>\n",
       "      <td>6973.598753</td>\n",
       "    </tr>\n",
       "    <tr>\n",
       "      <th>QAF_</th>\n",
       "      <td>4785.221049</td>\n",
       "      <td>4849.609291</td>\n",
       "      <td>4924.799385</td>\n",
       "      <td>5064.142301</td>\n",
       "      <td>5261.273113</td>\n",
       "      <td>5391.602139</td>\n",
       "      <td>5564.843835</td>\n",
       "      <td>5751.420349</td>\n",
       "      <td>5847.790032</td>\n",
       "      <td>5846.523264</td>\n",
       "      <td>5936.558148</td>\n",
       "    </tr>\n",
       "    <tr>\n",
       "      <th>QAI_</th>\n",
       "      <td>963.297144</td>\n",
       "      <td>950.325805</td>\n",
       "      <td>948.931158</td>\n",
       "      <td>959.209351</td>\n",
       "      <td>971.731901</td>\n",
       "      <td>978.081737</td>\n",
       "      <td>997.377351</td>\n",
       "      <td>1024.213763</td>\n",
       "      <td>1040.552937</td>\n",
       "      <td>1029.172559</td>\n",
       "      <td>1036.991863</td>\n",
       "    </tr>\n",
       "    <tr>\n",
       "      <th>QAT_</th>\n",
       "      <td>7184.569799</td>\n",
       "      <td>7271.268016</td>\n",
       "      <td>7373.861164</td>\n",
       "      <td>7552.955808</td>\n",
       "      <td>7792.922441</td>\n",
       "      <td>7960.185132</td>\n",
       "      <td>8183.601226</td>\n",
       "      <td>8428.927049</td>\n",
       "      <td>8574.102174</td>\n",
       "      <td>8594.675901</td>\n",
       "      <td>8726.217012</td>\n",
       "    </tr>\n",
       "    <tr>\n",
       "      <th>QBBPPOT_</th>\n",
       "      <td>7655.481802</td>\n",
       "      <td>7846.625651</td>\n",
       "      <td>8008.257249</td>\n",
       "      <td>8161.034735</td>\n",
       "      <td>8321.948650</td>\n",
       "      <td>8515.447900</td>\n",
       "      <td>8740.701520</td>\n",
       "      <td>8988.561394</td>\n",
       "      <td>9237.196352</td>\n",
       "      <td>9445.537286</td>\n",
       "      <td>9605.212226</td>\n",
       "    </tr>\n",
       "    <tr>\n",
       "      <th>QC_</th>\n",
       "      <td>4855.413278</td>\n",
       "      <td>4970.406979</td>\n",
       "      <td>5028.923692</td>\n",
       "      <td>5124.198346</td>\n",
       "      <td>5256.414928</td>\n",
       "      <td>5375.487645</td>\n",
       "      <td>5457.675486</td>\n",
       "      <td>5582.280773</td>\n",
       "      <td>5730.733701</td>\n",
       "      <td>5840.309538</td>\n",
       "      <td>5889.766110</td>\n",
       "    </tr>\n",
       "    <tr>\n",
       "      <th>QQMAB_</th>\n",
       "      <td>5180.218215</td>\n",
       "      <td>5263.884257</td>\n",
       "      <td>5380.635865</td>\n",
       "      <td>5550.482666</td>\n",
       "      <td>5814.029839</td>\n",
       "      <td>6022.171214</td>\n",
       "      <td>6314.295655</td>\n",
       "      <td>6618.687733</td>\n",
       "      <td>6799.968352</td>\n",
       "      <td>6785.400829</td>\n",
       "      <td>6936.181731</td>\n",
       "    </tr>\n",
       "    <tr>\n",
       "      <th>QS_</th>\n",
       "      <td>-35.212024</td>\n",
       "      <td>-35.212024</td>\n",
       "      <td>-35.212024</td>\n",
       "      <td>-35.212024</td>\n",
       "      <td>-35.212024</td>\n",
       "      <td>-35.212024</td>\n",
       "      <td>-35.212024</td>\n",
       "      <td>-35.212024</td>\n",
       "      <td>-35.212024</td>\n",
       "      <td>-35.212024</td>\n",
       "      <td>-35.212024</td>\n",
       "    </tr>\n",
       "    <tr>\n",
       "      <th>TFPFHP_</th>\n",
       "      <td>0.993773</td>\n",
       "      <td>1.003711</td>\n",
       "      <td>1.013748</td>\n",
       "      <td>1.023886</td>\n",
       "      <td>1.034124</td>\n",
       "      <td>1.044466</td>\n",
       "      <td>1.054910</td>\n",
       "      <td>1.065459</td>\n",
       "      <td>1.076114</td>\n",
       "      <td>1.086875</td>\n",
       "      <td>1.097744</td>\n",
       "    </tr>\n",
       "    <tr>\n",
       "      <th>VAFF_</th>\n",
       "      <td>6883.859391</td>\n",
       "      <td>7132.215710</td>\n",
       "      <td>7400.688231</td>\n",
       "      <td>7746.754153</td>\n",
       "      <td>8076.948769</td>\n",
       "      <td>8193.069203</td>\n",
       "      <td>8421.924597</td>\n",
       "      <td>8730.084286</td>\n",
       "      <td>8989.594086</td>\n",
       "      <td>9122.283229</td>\n",
       "      <td>9369.040712</td>\n",
       "    </tr>\n",
       "    <tr>\n",
       "      <th>VAF_</th>\n",
       "      <td>5730.319882</td>\n",
       "      <td>5963.614421</td>\n",
       "      <td>6205.064540</td>\n",
       "      <td>6513.097789</td>\n",
       "      <td>6817.705837</td>\n",
       "      <td>6934.982378</td>\n",
       "      <td>7141.922643</td>\n",
       "      <td>7410.429919</td>\n",
       "      <td>7631.630020</td>\n",
       "      <td>7756.833308</td>\n",
       "      <td>7975.839742</td>\n",
       "    </tr>\n",
       "    <tr>\n",
       "      <th>VAI_</th>\n",
       "      <td>1153.535695</td>\n",
       "      <td>1168.585213</td>\n",
       "      <td>1195.623401</td>\n",
       "      <td>1233.654821</td>\n",
       "      <td>1259.269548</td>\n",
       "      <td>1258.102373</td>\n",
       "      <td>1279.991145</td>\n",
       "      <td>1319.667655</td>\n",
       "      <td>1357.967800</td>\n",
       "      <td>1365.435020</td>\n",
       "      <td>1393.190351</td>\n",
       "    </tr>\n",
       "    <tr>\n",
       "      <th>VAT_</th>\n",
       "      <td>8880.730664</td>\n",
       "      <td>9239.671901</td>\n",
       "      <td>9617.675700</td>\n",
       "      <td>10073.666293</td>\n",
       "      <td>10492.974182</td>\n",
       "      <td>10693.831020</td>\n",
       "      <td>11025.802341</td>\n",
       "      <td>11458.349864</td>\n",
       "      <td>11871.102248</td>\n",
       "      <td>12141.960623</td>\n",
       "      <td>12525.581408</td>\n",
       "    </tr>\n",
       "    <tr>\n",
       "      <th>VC_</th>\n",
       "      <td>5995.108322</td>\n",
       "      <td>6307.170346</td>\n",
       "      <td>6505.671010</td>\n",
       "      <td>6725.313721</td>\n",
       "      <td>6973.104755</td>\n",
       "      <td>7251.547841</td>\n",
       "      <td>7484.303065</td>\n",
       "      <td>7788.480173</td>\n",
       "      <td>8274.154525</td>\n",
       "      <td>8593.729110</td>\n",
       "      <td>8804.137738</td>\n",
       "    </tr>\n",
       "    <tr>\n",
       "      <th>VS_</th>\n",
       "      <td>16.860422</td>\n",
       "      <td>11.864215</td>\n",
       "      <td>6.946451</td>\n",
       "      <td>9.395299</td>\n",
       "      <td>20.993088</td>\n",
       "      <td>26.210131</td>\n",
       "      <td>21.025449</td>\n",
       "      <td>15.223637</td>\n",
       "      <td>11.879402</td>\n",
       "      <td>6.702546</td>\n",
       "      <td>10.939950</td>\n",
       "    </tr>\n",
       "    <tr>\n",
       "      <th>WBF_</th>\n",
       "      <td>2693.727769</td>\n",
       "      <td>2800.592186</td>\n",
       "      <td>2898.935640</td>\n",
       "      <td>3006.478819</td>\n",
       "      <td>3075.041804</td>\n",
       "      <td>3131.876447</td>\n",
       "      <td>3235.333845</td>\n",
       "      <td>3381.873667</td>\n",
       "      <td>3563.622541</td>\n",
       "      <td>3655.025518</td>\n",
       "      <td>3747.687849</td>\n",
       "    </tr>\n",
       "    <tr>\n",
       "      <th>WBU_</th>\n",
       "      <td>5074.190636</td>\n",
       "      <td>5296.606544</td>\n",
       "      <td>5504.505284</td>\n",
       "      <td>5725.480950</td>\n",
       "      <td>5869.288612</td>\n",
       "      <td>5991.052046</td>\n",
       "      <td>6197.962203</td>\n",
       "      <td>6485.787802</td>\n",
       "      <td>6850.736280</td>\n",
       "      <td>7067.149116</td>\n",
       "      <td>7283.594651</td>\n",
       "    </tr>\n",
       "    <tr>\n",
       "      <th>WCF_</th>\n",
       "      <td>3716.447509</td>\n",
       "      <td>3863.897550</td>\n",
       "      <td>3999.573377</td>\n",
       "      <td>4147.951236</td>\n",
       "      <td>4242.577704</td>\n",
       "      <td>4320.968444</td>\n",
       "      <td>4463.723155</td>\n",
       "      <td>4665.913611</td>\n",
       "      <td>4916.650999</td>\n",
       "      <td>5042.743118</td>\n",
       "      <td>5170.600010</td>\n",
       "    </tr>\n",
       "    <tr>\n",
       "      <th>WIND_</th>\n",
       "      <td>1000.144577</td>\n",
       "      <td>1035.218800</td>\n",
       "      <td>1070.932873</td>\n",
       "      <td>1102.907284</td>\n",
       "      <td>1115.334343</td>\n",
       "      <td>1124.067720</td>\n",
       "      <td>1144.265401</td>\n",
       "      <td>1178.120352</td>\n",
       "      <td>1231.487898</td>\n",
       "      <td>1268.861647</td>\n",
       "      <td>1301.025126</td>\n",
       "    </tr>\n",
       "    <tr>\n",
       "      <th>WNF_</th>\n",
       "      <td>2334.763628</td>\n",
       "      <td>2427.492334</td>\n",
       "      <td>2512.867505</td>\n",
       "      <td>2606.278786</td>\n",
       "      <td>2665.816017</td>\n",
       "      <td>2715.105256</td>\n",
       "      <td>2804.934826</td>\n",
       "      <td>2932.231254</td>\n",
       "      <td>3089.993676</td>\n",
       "      <td>3169.316544</td>\n",
       "      <td>3249.751702</td>\n",
       "    </tr>\n",
       "    <tr>\n",
       "      <th>YDH_</th>\n",
       "      <td>7276.607740</td>\n",
       "      <td>7635.905667</td>\n",
       "      <td>7958.394498</td>\n",
       "      <td>8331.068487</td>\n",
       "      <td>8653.402764</td>\n",
       "      <td>8950.540446</td>\n",
       "      <td>9299.536529</td>\n",
       "      <td>9685.613845</td>\n",
       "      <td>10228.840906</td>\n",
       "      <td>10630.736896</td>\n",
       "      <td>10995.831393</td>\n",
       "    </tr>\n",
       "    <tr>\n",
       "      <th>ZZF_</th>\n",
       "      <td>0.688400</td>\n",
       "      <td>0.688400</td>\n",
       "      <td>0.688400</td>\n",
       "      <td>0.688400</td>\n",
       "      <td>0.688400</td>\n",
       "      <td>0.688400</td>\n",
       "      <td>0.688400</td>\n",
       "      <td>0.688400</td>\n",
       "      <td>0.688400</td>\n",
       "      <td>0.688400</td>\n",
       "      <td>0.688400</td>\n",
       "    </tr>\n",
       "  </tbody>\n",
       "</table>\n",
       "</div>"
      ],
      "text/plain": [
       "time           2000Y1       2001Y1       2002Y1        2003Y1        2004Y1  \\\n",
       "names                                                                         \n",
       "ACAF        10.046611     2.867923    -0.929213     -6.091565    -14.582094   \n",
       "ACAG       -41.534787    18.939801    19.980815     21.020502     22.066476   \n",
       "AOUC         1.116238     1.140476     1.157169      1.170490      1.167675   \n",
       "AOUC_        1.101957     1.136244     1.150215      1.160829      1.148021   \n",
       "AQC          1.338603     1.379188     1.408816      1.419705      1.400652   \n",
       "GAP_         4.510096     3.321449     2.647524      3.530320      5.569508   \n",
       "GOSH_     1957.089520  2065.833405  2150.560958   2235.910923   2338.703226   \n",
       "PAF_         1.197491     1.229682     1.259968      1.286122      1.295922   \n",
       "PC_          1.234727     1.268944     1.293650      1.312462      1.326589   \n",
       "PFI_         1.073516     1.101770     1.121974      1.138175      1.151583   \n",
       "PROIHP_      1.105413     1.088832     1.072499      1.056412      1.040566   \n",
       "QAFF_     5748.518880  5799.949010  5873.722479   6023.335862   6233.004051   \n",
       "QAF_      4785.221049  4849.609291  4924.799385   5064.142301   5261.273113   \n",
       "QAI_       963.297144   950.325805   948.931158    959.209351    971.731901   \n",
       "QAT_      7184.569799  7271.268016  7373.861164   7552.955808   7792.922441   \n",
       "QBBPPOT_  7655.481802  7846.625651  8008.257249   8161.034735   8321.948650   \n",
       "QC_       4855.413278  4970.406979  5028.923692   5124.198346   5256.414928   \n",
       "QQMAB_    5180.218215  5263.884257  5380.635865   5550.482666   5814.029839   \n",
       "QS_        -35.212024   -35.212024   -35.212024    -35.212024    -35.212024   \n",
       "TFPFHP_      0.993773     1.003711     1.013748      1.023886      1.034124   \n",
       "VAFF_     6883.859391  7132.215710  7400.688231   7746.754153   8076.948769   \n",
       "VAF_      5730.319882  5963.614421  6205.064540   6513.097789   6817.705837   \n",
       "VAI_      1153.535695  1168.585213  1195.623401   1233.654821   1259.269548   \n",
       "VAT_      8880.730664  9239.671901  9617.675700  10073.666293  10492.974182   \n",
       "VC_       5995.108322  6307.170346  6505.671010   6725.313721   6973.104755   \n",
       "VS_         16.860422    11.864215     6.946451      9.395299     20.993088   \n",
       "WBF_      2693.727769  2800.592186  2898.935640   3006.478819   3075.041804   \n",
       "WBU_      5074.190636  5296.606544  5504.505284   5725.480950   5869.288612   \n",
       "WCF_      3716.447509  3863.897550  3999.573377   4147.951236   4242.577704   \n",
       "WIND_     1000.144577  1035.218800  1070.932873   1102.907284   1115.334343   \n",
       "WNF_      2334.763628  2427.492334  2512.867505   2606.278786   2665.816017   \n",
       "YDH_      7276.607740  7635.905667  7958.394498   8331.068487   8653.402764   \n",
       "ZZF_         0.688400     0.688400     0.688400      0.688400      0.688400   \n",
       "\n",
       "time            2005Y1        2006Y1        2007Y1        2008Y1  \\\n",
       "names                                                              \n",
       "ACAF        -26.538790    -28.987288    -33.378426    -38.409518   \n",
       "ACAG         23.107962     24.129637     25.160909     26.192111   \n",
       "AOUC          1.181521      1.199462      1.219333      1.262806   \n",
       "AOUC_         1.164123      1.185897      1.195166      1.213834   \n",
       "AQC           1.396973      1.398064      1.407913      1.425645   \n",
       "GAP_          5.716970      6.022618      6.017820      4.944350   \n",
       "GOSH_      2435.728167   2488.522529   2566.343368   2666.950277   \n",
       "PAF_          1.286290      1.283384      1.288486      1.305041   \n",
       "PC_           1.349003      1.371335      1.395215      1.443821   \n",
       "PFI_          1.171021      1.189040      1.208363      1.248972   \n",
       "PROIHP_       1.024957      1.009583      0.994439      0.979523   \n",
       "QAFF_      6369.669081   6562.245749   6775.703184   6888.433029   \n",
       "QAF_       5391.602139   5564.843835   5751.420349   5847.790032   \n",
       "QAI_        978.081737    997.377351   1024.213763   1040.552937   \n",
       "QAT_       7960.185132   8183.601226   8428.927049   8574.102174   \n",
       "QBBPPOT_   8515.447900   8740.701520   8988.561394   9237.196352   \n",
       "QC_        5375.487645   5457.675486   5582.280773   5730.733701   \n",
       "QQMAB_     6022.171214   6314.295655   6618.687733   6799.968352   \n",
       "QS_         -35.212024    -35.212024    -35.212024    -35.212024   \n",
       "TFPFHP_       1.044466      1.054910      1.065459      1.076114   \n",
       "VAFF_      8193.069203   8421.924597   8730.084286   8989.594086   \n",
       "VAF_       6934.982378   7141.922643   7410.429919   7631.630020   \n",
       "VAI_       1258.102373   1279.991145   1319.667655   1357.967800   \n",
       "VAT_      10693.831020  11025.802341  11458.349864  11871.102248   \n",
       "VC_        7251.547841   7484.303065   7788.480173   8274.154525   \n",
       "VS_          26.210131     21.025449     15.223637     11.879402   \n",
       "WBF_       3131.876447   3235.333845   3381.873667   3563.622541   \n",
       "WBU_       5991.052046   6197.962203   6485.787802   6850.736280   \n",
       "WCF_       4320.968444   4463.723155   4665.913611   4916.650999   \n",
       "WIND_      1124.067720   1144.265401   1178.120352   1231.487898   \n",
       "WNF_       2715.105256   2804.934826   2932.231254   3089.993676   \n",
       "YDH_       8950.540446   9299.536529   9685.613845  10228.840906   \n",
       "ZZF_          0.688400      0.688400      0.688400      0.688400   \n",
       "\n",
       "time            2009Y1        2010Y1  \n",
       "names                                 \n",
       "ACAF        -37.463510    -37.827429  \n",
       "ACAG         27.229955     28.253929  \n",
       "AOUC          1.287132      1.307110  \n",
       "AOUC_         1.231854      1.250164  \n",
       "AQC           1.446332      1.462868  \n",
       "GAP_          3.823078      3.376524  \n",
       "GOSH_      2767.877368   2834.234072  \n",
       "PAF_          1.326745      1.343502  \n",
       "PC_           1.471451      1.494820  \n",
       "PFI_          1.271813      1.292278  \n",
       "PROIHP_       0.964830      0.950357  \n",
       "QAFF_      6875.777878   6973.598753  \n",
       "QAF_       5846.523264   5936.558148  \n",
       "QAI_       1029.172559   1036.991863  \n",
       "QAT_       8594.675901   8726.217012  \n",
       "QBBPPOT_   9445.537286   9605.212226  \n",
       "QC_        5840.309538   5889.766110  \n",
       "QQMAB_     6785.400829   6936.181731  \n",
       "QS_         -35.212024    -35.212024  \n",
       "TFPFHP_       1.086875      1.097744  \n",
       "VAFF_      9122.283229   9369.040712  \n",
       "VAF_       7756.833308   7975.839742  \n",
       "VAI_       1365.435020   1393.190351  \n",
       "VAT_      12141.960623  12525.581408  \n",
       "VC_        8593.729110   8804.137738  \n",
       "VS_           6.702546     10.939950  \n",
       "WBF_       3655.025518   3747.687849  \n",
       "WBU_       7067.149116   7283.594651  \n",
       "WCF_       5042.743118   5170.600010  \n",
       "WIND_      1268.861647   1301.025126  \n",
       "WNF_       3169.316544   3249.751702  \n",
       "YDH_      10630.736896  10995.831393  \n",
       "ZZF_          0.688400      0.688400  "
      ]
     },
     "execution_count": 39,
     "metadata": {},
     "output_type": "execute_result"
    }
   ],
   "source": [
    "df"
   ]
  }
 ],
 "metadata": {
  "kernelspec": {
   "display_name": "base",
   "language": "python",
   "name": "python3"
  },
  "language_info": {
   "codemirror_mode": {
    "name": "ipython",
    "version": 3
   },
   "file_extension": ".py",
   "mimetype": "text/x-python",
   "name": "python",
   "nbconvert_exporter": "python",
   "pygments_lexer": "ipython3",
   "version": "3.11.9"
  }
 },
 "nbformat": 4,
 "nbformat_minor": 2
}
